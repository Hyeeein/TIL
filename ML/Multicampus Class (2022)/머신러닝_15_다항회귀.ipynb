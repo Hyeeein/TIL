{
 "cells": [
  {
   "cell_type": "code",
   "execution_count": 1,
   "metadata": {},
   "outputs": [],
   "source": [
    "# 모듈 임포트\n",
    "\n",
    "import numpy as np\n",
    "import pandas as pd\n",
    "import matplotlib.pyplot as plt\n",
    "import seaborn as sns"
   ]
  },
  {
   "cell_type": "markdown",
   "metadata": {},
   "source": [
    "# 다항 회귀(Polynomial Regression)"
   ]
  },
  {
   "cell_type": "markdown",
   "metadata": {},
   "source": [
    "- Polynomial Regression과 과대적합/과소적합의 이해"
   ]
  },
  {
   "cell_type": "markdown",
   "metadata": {},
   "source": [
    "## 다항 회귀(Polynomial Regression) 이해"
   ]
  },
  {
   "cell_type": "markdown",
   "metadata": {},
   "source": [
    "**다중선형회귀**\n",
    "\n",
    "$ y = w_0 + w_1 X_{1} + w_2 X_{2} + w_3 X_{3} + ... + w_n X_{n} $\n",
    "- 독립변수(festure)와 종속변수(target)의 관계가 일차방정식으로 표현된 회귀\n",
    "- 직선으로 표현"
   ]
  },
  {
   "cell_type": "markdown",
   "metadata": {},
   "source": [
    "**다항회귀**\n",
    "\n",
    "$ y = w_0 + w_1 X_{1} + w_2 X_{2} + w_3 X_{1}X_{2} + w_4 X_{1}^2 + w_5 X_{2}^2 $\n",
    "\n",
    "- 회귀가 독립변수의 일차식이 아닌 2차식, 3차식 등 다항식으로 표현되는 회귀식\n",
    "- 선형회귀임\n",
    "\n",
    "$ z=[X_{1} , X_{2} , X_{1}X_{2} , X_{1}^2, X_{2}^2 ] $라고 하면\n",
    "\n",
    "$ y = w_0 + w_1 Z_{1} + w_2 Z_{2} + w_3 Z_{3} + w_4 Z_{4} + w_5 Z_{5} $"
   ]
  },
  {
   "cell_type": "markdown",
   "metadata": {},
   "source": [
    "**사이킷런은 다항회귀를 위한 클래스를 명시적으로 제공하지 않음**\n",
    "- 다항 회귀가 선형 회귀이므로 PolynomalFeatures 클래스를 통해 독립변수(피처)를 다항식 피처로 변환\n",
    "\n",
    "PolynomialFeatures(degree=차수)\n",
    "\n",
    "fit_transform(피처)"
   ]
  },
  {
   "cell_type": "code",
   "execution_count": 3,
   "metadata": {},
   "outputs": [
    {
     "name": "stdout",
     "output_type": "stream",
     "text": [
      "[[0 1]\n",
      " [2 3]\n",
      " [4 5]]\n"
     ]
    },
    {
     "data": {
      "text/plain": [
       "array([[ 1.,  0.,  1.,  0.,  0.,  1.],\n",
       "       [ 1.,  2.,  3.,  4.,  6.,  9.],\n",
       "       [ 1.,  4.,  5., 16., 20., 25.]])"
      ]
     },
     "execution_count": 3,
     "metadata": {},
     "output_type": "execute_result"
    }
   ],
   "source": [
    "from sklearn.preprocessing import PolynomialFeatures\n",
    "\n",
    "X = np.arange(6).reshape(3, 2)\n",
    "print(X)\n",
    "\n",
    "poly = PolynomialFeatures(degree=2)\n",
    "poly.fit_transform(X)"
   ]
  },
  {
   "cell_type": "code",
   "execution_count": 4,
   "metadata": {
    "scrolled": true
   },
   "outputs": [
    {
     "name": "stdout",
     "output_type": "stream",
     "text": [
      "[[ 0  1  2]\n",
      " [ 3  4  5]\n",
      " [ 6  7  8]\n",
      " [ 9 10 11]]\n"
     ]
    },
    {
     "data": {
      "text/plain": [
       "array([[1.000e+00, 0.000e+00, 1.000e+00, 2.000e+00, 0.000e+00, 0.000e+00,\n",
       "        0.000e+00, 1.000e+00, 2.000e+00, 4.000e+00, 0.000e+00, 0.000e+00,\n",
       "        0.000e+00, 0.000e+00, 0.000e+00, 0.000e+00, 1.000e+00, 2.000e+00,\n",
       "        4.000e+00, 8.000e+00],\n",
       "       [1.000e+00, 3.000e+00, 4.000e+00, 5.000e+00, 9.000e+00, 1.200e+01,\n",
       "        1.500e+01, 1.600e+01, 2.000e+01, 2.500e+01, 2.700e+01, 3.600e+01,\n",
       "        4.500e+01, 4.800e+01, 6.000e+01, 7.500e+01, 6.400e+01, 8.000e+01,\n",
       "        1.000e+02, 1.250e+02],\n",
       "       [1.000e+00, 6.000e+00, 7.000e+00, 8.000e+00, 3.600e+01, 4.200e+01,\n",
       "        4.800e+01, 4.900e+01, 5.600e+01, 6.400e+01, 2.160e+02, 2.520e+02,\n",
       "        2.880e+02, 2.940e+02, 3.360e+02, 3.840e+02, 3.430e+02, 3.920e+02,\n",
       "        4.480e+02, 5.120e+02],\n",
       "       [1.000e+00, 9.000e+00, 1.000e+01, 1.100e+01, 8.100e+01, 9.000e+01,\n",
       "        9.900e+01, 1.000e+02, 1.100e+02, 1.210e+02, 7.290e+02, 8.100e+02,\n",
       "        8.910e+02, 9.000e+02, 9.900e+02, 1.089e+03, 1.000e+03, 1.100e+03,\n",
       "        1.210e+03, 1.331e+03]])"
      ]
     },
     "execution_count": 4,
     "metadata": {},
     "output_type": "execute_result"
    }
   ],
   "source": [
    "X = np.arange(12).reshape(4, 3)\n",
    "print(X)\n",
    "\n",
    "# transform from (x1, x2, x3)\n",
    "# to (1, x1, x2, x3, x1^2, x1*x2, x1*x3, x2^2, x2*x3, x3^2)\n",
    "\n",
    "poly3 = PolynomialFeatures(degree=3)\n",
    "poly3.fit_transform(X)"
   ]
  },
  {
   "cell_type": "code",
   "execution_count": 5,
   "metadata": {},
   "outputs": [
    {
     "name": "stdout",
     "output_type": "stream",
     "text": [
      "[[0 1]\n",
      " [2 3]\n",
      " [4 5]]\n"
     ]
    },
    {
     "data": {
      "text/plain": [
       "array([[  1.,   0.,   1.,   0.,   0.,   1.,   0.,   0.,   0.,   1.],\n",
       "       [  1.,   2.,   3.,   4.,   6.,   9.,   8.,  12.,  18.,  27.],\n",
       "       [  1.,   4.,   5.,  16.,  20.,  25.,  64.,  80., 100., 125.]])"
      ]
     },
     "execution_count": 5,
     "metadata": {},
     "output_type": "execute_result"
    }
   ],
   "source": [
    "X = np.arange(6).reshape(3, 2)\n",
    "print(X)\n",
    "\n",
    "# transform from (x1, x2)\n",
    "# to (1, x1, x2, x1^2, x1*x2, x2^2, x1^3, x1^2*x2, x1*x2^2, x2^3)\n",
    "\n",
    "poly3 = PolynomialFeatures(degree=3)\n",
    "poly3.fit_transform(X)"
   ]
  },
  {
   "cell_type": "markdown",
   "metadata": {},
   "source": [
    "**3차 다항식 결정값을 구하는 함수 polynomial_func(X) 생성**\n",
    "\n",
    "즉 회귀식은 결정값 $y = 1+ 2x_1 + 3x_1^2 + 4x_2^3$ "
   ]
  },
  {
   "cell_type": "code",
   "execution_count": 10,
   "metadata": {},
   "outputs": [],
   "source": [
    "# 다항식 생성 함수 \n",
    "\n",
    "def poly_func(X):\n",
    "    y = 1 + 2*X[:, 0] + 3*X[:, 0]**2 + 4*X[:, 1]**3\n",
    "    return y"
   ]
  },
  {
   "cell_type": "code",
   "execution_count": null,
   "metadata": {},
   "outputs": [],
   "source": []
  },
  {
   "cell_type": "code",
   "execution_count": null,
   "metadata": {},
   "outputs": [],
   "source": []
  },
  {
   "cell_type": "markdown",
   "metadata": {},
   "source": [
    "**3차 다항식 계수의 피처값과 3차 다항식 결정값으로 학습**"
   ]
  },
  {
   "cell_type": "code",
   "execution_count": 11,
   "metadata": {},
   "outputs": [
    {
     "name": "stdout",
     "output_type": "stream",
     "text": [
      "X [[2 3]\n",
      " [4 2]\n",
      " [9 1]]\n",
      "y [125  89 266]\n",
      "3차 다항식 계수: [[  1.   2.   3.   4.   6.   9.   8.  12.  18.  27.]\n",
      " [  1.   4.   2.  16.   8.   4.  64.  32.  16.   8.]\n",
      " [  1.   9.   1.  81.   9.   1. 729.  81.   9.   1.]]\n",
      "다항 회귀계수 : [-0.   -0.12  0.07 -0.47 -0.15  0.37  0.42 -1.2   0.11  1.43]\n"
     ]
    }
   ],
   "source": [
    "from sklearn.linear_model import LinearRegression\n",
    "\n",
    "def poly_func(X):\n",
    "    y = 1 + 2*X[:, 0] + 3*X[:, 0]**2 + 4*X[:, 1]**3\n",
    "    return y\n",
    "\n",
    "# X = np.arange(0, 4).reshape(2, 2)\n",
    "X = np.array([[2, 3], [4, 2], [9, 1]])\n",
    "print('X', X)\n",
    "\n",
    "y = poly_func(X)\n",
    "print('y', y)\n",
    "\n",
    "poly_ftr = PolynomialFeatures(degree=3).fit_transform(X)\n",
    "print('3차 다항식 계수:', poly_ftr)\n",
    "\n",
    "model = LinearRegression()\n",
    "model.fit(poly_ftr, y)\n",
    "print('다항 회귀계수 :', np.round(model.coef_, 2))"
   ]
  },
  {
   "cell_type": "markdown",
   "metadata": {},
   "source": [
    "### 파이프라인(Pipeline)을 이용한 3차 다항회귀 학습  \n",
    "\n",
    "사이킷런의 Pipeline 객체는 Feature 엔지니어링 변환과 모델 학습/예측을 순차적으로 결합"
   ]
  },
  {
   "cell_type": "markdown",
   "metadata": {},
   "source": [
    "**`sklearn.pipeline의 Pipeline 클래스`**\n",
    "\n",
    "- 연속된 변환을 순서대로 처리할 수 있도록 도와주는 클래스\n",
    "\n",
    "- 형식 : 연속된 단계를 나타내는 (name, transforms) 튜플 목록을 입력받음\n",
    "    - 마지막 단계에서는 transforms와 estimator를 모두 사용할 수 있고, 그외는 transforms여야 함\n",
    "    - transforms는 fit_transform() 메서드를 가지고 있어야 함\n",
    "    - estimator는 fit(), predict() 메서드를 가지고 있어야 함\n",
    "    \n",
    "- 파이프라인의 fit() 메서드 호출:\n",
    "    - 모든 transforms의 fit_transform() 메서드를 순서대로 호출하면서 한 단계의 출력을 다음 단계의 입력으로 전달\n",
    "    - 마지막 단계에서는 fit()메서드만 호출\n",
    "\n",
    "- 파이프라인 객체는 마지막 estimator와 동일한 메서드를 제공"
   ]
  },
  {
   "cell_type": "code",
   "execution_count": 12,
   "metadata": {},
   "outputs": [],
   "source": [
    "# 앞의 다항회귀를 위한 파이프라인 구축\n",
    "from sklearn.pipeline import Pipeline\n",
    "\n",
    "pipe = Pipeline([('poly', PolynomialFeatures(degree=3)),\n",
    "                 ('linear', LinearRegression())])"
   ]
  },
  {
   "cell_type": "code",
   "execution_count": 13,
   "metadata": {},
   "outputs": [
    {
     "data": {
      "text/plain": [
       "Pipeline(steps=[('poly', PolynomialFeatures(degree=3)),\n",
       "                ('linear', LinearRegression())])"
      ]
     },
     "execution_count": 13,
     "metadata": {},
     "output_type": "execute_result"
    }
   ],
   "source": [
    "pipe.fit(X, y)"
   ]
  },
  {
   "cell_type": "code",
   "execution_count": 15,
   "metadata": {},
   "outputs": [
    {
     "data": {
      "text/plain": [
       "array([-0.  , -0.12,  0.07, -0.47, -0.15,  0.37,  0.42, -1.2 ,  0.11,\n",
       "        1.43])"
      ]
     },
     "execution_count": 15,
     "metadata": {},
     "output_type": "execute_result"
    }
   ],
   "source": [
    "np.round(pipe.named_steps['linear'].coef_, 2)"
   ]
  },
  {
   "cell_type": "markdown",
   "metadata": {},
   "source": [
    "### 가상 데이터 생성 및 다항 회귀 추정"
   ]
  },
  {
   "cell_type": "markdown",
   "metadata": {},
   "source": [
    "**가상 데이터 생성**"
   ]
  },
  {
   "cell_type": "code",
   "execution_count": 20,
   "metadata": {},
   "outputs": [],
   "source": [
    "# 2차 다항식 : y = 0.5 * x^2 + 2*x\n",
    "\n",
    "n = 100\n",
    "X = np.random.rand(n, 1) * 6 -3\n",
    "y = 0.5*X**2 + 2*X + 2 + np.random.randn(n, 1)"
   ]
  },
  {
   "cell_type": "code",
   "execution_count": 21,
   "metadata": {},
   "outputs": [
    {
     "data": {
      "text/plain": [
       "((100, 1), (100, 1))"
      ]
     },
     "execution_count": 21,
     "metadata": {},
     "output_type": "execute_result"
    }
   ],
   "source": [
    "X.shape, y.shape"
   ]
  },
  {
   "cell_type": "markdown",
   "metadata": {},
   "source": [
    "**scatterplot**"
   ]
  },
  {
   "cell_type": "code",
   "execution_count": 22,
   "metadata": {
    "scrolled": false
   },
   "outputs": [
    {
     "data": {
      "text/plain": [
       "<matplotlib.collections.PathCollection at 0x22899ef1f70>"
      ]
     },
     "execution_count": 22,
     "metadata": {},
     "output_type": "execute_result"
    },
    {
     "data": {
      "image/png": "[encoded data removed]",
      "text/plain": [
       "<Figure size 432x288 with 1 Axes>"
      ]
     },
     "metadata": {
      "needs_background": "light"
     },
     "output_type": "display_data"
    }
   ],
   "source": [
    "plt.scatter(X, y)"
   ]
  },
  {
   "cell_type": "markdown",
   "metadata": {},
   "source": [
    "- 비선형적으로 분포\n",
    "- 사이킷런의 PolynomialFeatures를 사용"
   ]
  },
  {
   "cell_type": "markdown",
   "metadata": {},
   "source": [
    "### 파이프라인"
   ]
  },
  {
   "cell_type": "code",
   "execution_count": 27,
   "metadata": {},
   "outputs": [],
   "source": [
    "pipe2 = Pipeline([('poly', PolynomialFeatures(degree=2, include_bias=False)),\n",
    "                 ('linear', LinearRegression())])"
   ]
  },
  {
   "cell_type": "code",
   "execution_count": 28,
   "metadata": {},
   "outputs": [
    {
     "data": {
      "text/plain": [
       "Pipeline(steps=[('poly', PolynomialFeatures(include_bias=False)),\n",
       "                ('linear', LinearRegression())])"
      ]
     },
     "execution_count": 28,
     "metadata": {},
     "output_type": "execute_result"
    }
   ],
   "source": [
    "pipe2.fit(X, y)"
   ]
  },
  {
   "cell_type": "code",
   "execution_count": 45,
   "metadata": {},
   "outputs": [
    {
     "data": {
      "text/plain": [
       "array([[1.99, 0.54]])"
      ]
     },
     "execution_count": 45,
     "metadata": {},
     "output_type": "execute_result"
    }
   ],
   "source": [
    "np.round(pipe2.named_steps['linear'].coef_, 2)"
   ]
  },
  {
   "cell_type": "code",
   "execution_count": 30,
   "metadata": {},
   "outputs": [
    {
     "data": {
      "text/plain": [
       "array([1.83])"
      ]
     },
     "execution_count": 30,
     "metadata": {},
     "output_type": "execute_result"
    }
   ],
   "source": [
    "np.round(pipe2.named_steps['linear'].intercept_, 2)"
   ]
  },
  {
   "cell_type": "markdown",
   "metadata": {},
   "source": [
    "**다항식으로 변환**"
   ]
  },
  {
   "cell_type": "markdown",
   "metadata": {},
   "source": [
    "**선형회귀 LinearRegression 적용하여 회귀계수 추정**"
   ]
  },
  {
   "cell_type": "code",
   "execution_count": 58,
   "metadata": {
    "scrolled": true
   },
   "outputs": [],
   "source": [
    "X_new = np.linspace(-3, 3, 100).reshape(100, 1)\n",
    "y_new = pipe2.predict(X_new)"
   ]
  },
  {
   "cell_type": "code",
   "execution_count": 61,
   "metadata": {},
   "outputs": [
    {
     "data": {
      "text/plain": [
       "[<matplotlib.lines.Line2D at 0x2289c6fdd30>]"
      ]
     },
     "execution_count": 61,
     "metadata": {},
     "output_type": "execute_result"
    },
    {
     "data": {
      "image/png": "[encoded data removed]",
      "text/plain": [
       "<Figure size 432x288 with 1 Axes>"
      ]
     },
     "metadata": {
      "needs_background": "light"
     },
     "output_type": "display_data"
    }
   ],
   "source": [
    "plt.plot(X, y, 'b.')\n",
    "plt.plot(X_new, y_new, 'r-')"
   ]
  },
  {
   "cell_type": "markdown",
   "metadata": {},
   "source": [
    "**다항회귀식 시각화**"
   ]
  },
  {
   "cell_type": "code",
   "execution_count": 47,
   "metadata": {},
   "outputs": [
    {
     "data": {
      "image/png": "[encoded data removed]",
      "text/plain": [
       "<Figure size 432x288 with 1 Axes>"
      ]
     },
     "metadata": {
      "needs_background": "light"
     },
     "output_type": "display_data"
    }
   ],
   "source": [
    "poly_feat = PolynomialFeatures(degree=2, include_bias=False)\n",
    "X_poly = poly_feat.fit_transform(X)\n",
    "\n",
    "lin_reg = LinearRegression()\n",
    "lin_reg.fit(X_poly, y)\n",
    "\n",
    "X_new = np.linspace(-3, 3, 100).reshape(100, 1)\n",
    "X_new_poly = poly_feat.transform(X_new)\n",
    "y_new = lin_reg.predict(X_new_poly)\n",
    "plt.plot(X, y, \"b.\")\n",
    "plt.plot(X_new, y_new, \"r-\", linewidth=2, label=\"Predictions\")\n",
    "plt.xlabel(\"$x_1$\", fontsize=18)\n",
    "plt.ylabel(\"$y$\", rotation=0, fontsize=18)\n",
    "plt.legend(loc=\"upper left\", fontsize=14)\n",
    "plt.axis([-3, 3, 0, 10])\n",
    "plt.show()"
   ]
  },
  {
   "cell_type": "markdown",
   "metadata": {},
   "source": [
    "### 다항회귀를 이용한 보스톤 집값 예측"
   ]
  },
  {
   "cell_type": "code",
   "execution_count": 50,
   "metadata": {},
   "outputs": [],
   "source": [
    "# 모듈 임포트\n",
    "from sklearn.datasets import load_boston\n",
    "from sklearn.linear_model import LinearRegression\n",
    "from sklearn.model_selection import train_test_split\n",
    "from sklearn.metrics import mean_squared_error, r2_score\n",
    "from sklearn.preprocessing import PolynomialFeatures\n",
    "from sklearn.pipeline import Pipeline"
   ]
  },
  {
   "cell_type": "code",
   "execution_count": 51,
   "metadata": {},
   "outputs": [],
   "source": [
    "boston = load_boston()\n",
    "\n",
    "# features & target\n",
    "X = boston.data\n",
    "y = boston.target\n",
    "\n",
    "# train & test dataset split\n",
    "X_train, X_test, y_train, y_test = train_test_split(X, y, test_size=0.3, random_state=156)"
   ]
  },
  {
   "cell_type": "code",
   "execution_count": 52,
   "metadata": {},
   "outputs": [],
   "source": [
    "## Pipeline을 이용하여 PolynomialFeatures 변환과 LinearRegression 적용을 순차적으로 결합\n",
    "## 'poly' : 첫번째 스탭의 이름 (변수명처럼 직접 만들어 지어줌)\n",
    "## 'linear' : 두번째 스탭의 이름 \n",
    "\n",
    "bostonM = Pipeline([('poly', PolynomialFeatures(degree=2)),\n",
    "                   ('linear', LinearRegression())])"
   ]
  },
  {
   "cell_type": "code",
   "execution_count": 55,
   "metadata": {},
   "outputs": [
    {
     "name": "stdout",
     "output_type": "stream",
     "text": [
      "회귀계수: [-1.09063739e+09 -8.13000000e+00 -9.00000000e-02 -7.01000000e+00\n",
      "  3.69700000e+01  2.53630000e+02  3.09600000e+01  1.25000000e+00\n",
      " -1.20200000e+01  3.09000000e+00 -1.30000000e-01  7.76000000e+00\n",
      "  5.00000000e-02  5.10000000e-01 -0.00000000e+00  2.70000000e-01\n",
      "  6.00000000e-01  1.86000000e+00 -1.40000000e-01 -0.00000000e+00\n",
      "  1.00000000e-02 -1.00000000e-01  5.90000000e-01 -6.00000000e-02\n",
      "  9.60000000e-01 -0.00000000e+00  4.00000000e-02 -0.00000000e+00\n",
      " -3.00000000e-02 -2.10000000e-01 -2.11000000e+00 -7.00000000e-02\n",
      "  0.00000000e+00 -3.00000000e-02  1.00000000e-02  0.00000000e+00\n",
      " -2.00000000e-02  1.00000000e-02 -1.00000000e-02  4.00000000e-02\n",
      " -5.30000000e-01 -7.00000000e-02  1.90000000e-01  1.00000000e-02\n",
      "  1.80000000e-01 -4.00000000e-02  0.00000000e+00 -7.00000000e-02\n",
      "  1.00000000e-02 -2.00000000e-02  3.69700000e+01 -2.92400000e+01\n",
      " -5.98000000e+00 -3.00000000e-02  1.74000000e+00  3.00000000e-02\n",
      "  3.00000000e-02 -1.99000000e+00  3.00000000e-02 -1.70000000e-01\n",
      " -7.70100000e+01 -5.07000000e+00 -4.10000000e-01  2.27200000e+01\n",
      " -4.96000000e+00  5.70000000e-01 -1.77100000e+01 -2.30000000e-01\n",
      "  1.37000000e+00 -2.00000000e-02 -1.00000000e-01 -3.70000000e-01\n",
      " -2.90000000e-01  1.00000000e-02 -7.80000000e-01  1.00000000e-02\n",
      " -2.10000000e-01  0.00000000e+00 -2.00000000e-02  2.00000000e-02\n",
      " -0.00000000e+00 -1.00000000e-02  0.00000000e+00 -1.00000000e-02\n",
      "  7.30000000e-01 -2.60000000e-01  0.00000000e+00 -2.70000000e-01\n",
      " -0.00000000e+00  5.00000000e-02 -1.40000000e-01  1.00000000e-02\n",
      " -9.00000000e-02  1.00000000e-02 -8.00000000e-02 -0.00000000e+00\n",
      "  1.00000000e-02 -0.00000000e+00  0.00000000e+00  1.10000000e-01\n",
      "  1.00000000e-02  1.00000000e-02 -0.00000000e+00  0.00000000e+00\n",
      "  1.00000000e-02]\n"
     ]
    },
    {
     "data": {
      "text/plain": [
       "(105,)"
      ]
     },
     "execution_count": 55,
     "metadata": {},
     "output_type": "execute_result"
    }
   ],
   "source": [
    "bostonM.fit(X_train, y_train)\n",
    "\n",
    "print('회귀계수:', np.round(bostonM.named_steps['linear'].coef_, 2))\n",
    "bostonM.named_steps['linear'].coef_.shape"
   ]
  },
  {
   "cell_type": "code",
   "execution_count": 64,
   "metadata": {},
   "outputs": [
    {
     "name": "stdout",
     "output_type": "stream",
     "text": [
      "mse:41.73, rmse:6.46, r2:0.41\n"
     ]
    }
   ],
   "source": [
    "pred = bostonM.predict(X_test)\n",
    "mse = mean_squared_error(y_test, pred)\n",
    "r2 = r2_score(y_test, pred)\n",
    "rmse = np.sqrt(mse)\n",
    "\n",
    "print('mse:{0:.2f}, rmse:{1:.2f}, r2:{2:.2f}'.format(mse, rmse, r2))"
   ]
  },
  {
   "cell_type": "code",
   "execution_count": 71,
   "metadata": {},
   "outputs": [],
   "source": [
    "# 다항식을 쓸 때는 degree에 대해 주의해야 함"
   ]
  },
  {
   "cell_type": "code",
   "execution_count": 70,
   "metadata": {},
   "outputs": [
    {
     "name": "stdout",
     "output_type": "stream",
     "text": [
      "1차 다항 회귀 결과\n",
      "mse : 17.296915907901962\n",
      "rmse : 4.158956107955692\n",
      "r2 : 0.7572263323138948\n"
     ]
    }
   ],
   "source": [
    "bostonM = Pipeline([('poly' , PolynomialFeatures(degree=1)),\n",
    "                   ('linear' , LinearRegression())])\n",
    "\n",
    "bostonM.fit(X_train , y_train)\n",
    "\n",
    "# print('회귀계수: ' ,np.round(bostonM.named_steps['linear'].coef_ , 2))\n",
    "bostonM.named_steps['linear'].coef_.shape\n",
    "pred = bostonM.predict(X_test)\n",
    "mse = mean_squared_error(y_test , pred)\n",
    "r2 = r2_score(y_test , pred)\n",
    "rmse = np.sqrt(mse)\n",
    "\n",
    "print('1차 다항 회귀 결과')\n",
    "print('mse :' , mse)\n",
    "print('rmse :' , rmse)\n",
    "print('r2 :' , r2)"
   ]
  },
  {
   "cell_type": "code",
   "execution_count": 68,
   "metadata": {},
   "outputs": [
    {
     "name": "stdout",
     "output_type": "stream",
     "text": [
      "2차 다항 회귀 결과\n",
      "mse : 41.731463917373766\n",
      "rmse : 6.459989467280405\n",
      "r2 : 0.41427127199579084\n"
     ]
    }
   ],
   "source": [
    "bostonM = Pipeline([('poly' , PolynomialFeatures(degree=2)),\n",
    "                   ('linear' , LinearRegression())])\n",
    "\n",
    "bostonM.fit(X_train , y_train)\n",
    "\n",
    "# print('회귀계수: ' ,np.round(bostonM.named_steps['linear'].coef_ , 2))\n",
    "bostonM.named_steps['linear'].coef_.shape\n",
    "pred = bostonM.predict(X_test)\n",
    "mse = mean_squared_error(y_test , pred)\n",
    "r2 = r2_score(y_test , pred)\n",
    "rmse = np.sqrt(mse)\n",
    "\n",
    "print('2차 다항 회귀 결과')\n",
    "print('mse :' , mse)\n",
    "print('rmse :' , rmse)\n",
    "print('r2 :' , r2)"
   ]
  },
  {
   "cell_type": "code",
   "execution_count": 69,
   "metadata": {},
   "outputs": [
    {
     "name": "stdout",
     "output_type": "stream",
     "text": [
      "3차 다항 회귀 결과\n",
      "mse : 79625.5933180955\n",
      "rmse : 282.18007250352656\n",
      "r2 : -1116.5979252281072\n"
     ]
    }
   ],
   "source": [
    "bostonM = Pipeline([('poly' , PolynomialFeatures(degree=3)),\n",
    "                   ('linear' , LinearRegression())])\n",
    "\n",
    "bostonM.fit(X_train , y_train)\n",
    "\n",
    "# print('회귀계수: ' ,np.round(bostonM.named_steps['linear'].coef_ , 2))\n",
    "bostonM.named_steps['linear'].coef_.shape\n",
    "pred = bostonM.predict(X_test)\n",
    "mse = mean_squared_error(y_test , pred)\n",
    "r2 = r2_score(y_test , pred)\n",
    "rmse = np.sqrt(mse)\n",
    "\n",
    "print('3차 다항 회귀 결과')\n",
    "print('mse :' , mse)\n",
    "print('rmse :' , rmse)\n",
    "print('r2 :' , r2)"
   ]
  },
  {
   "cell_type": "code",
   "execution_count": null,
   "metadata": {},
   "outputs": [],
   "source": []
  }
 ],
 "metadata": {
  "kernelspec": {
   "display_name": "Python 3",
   "language": "python",
   "name": "python3"
  },
  "language_info": {
   "codemirror_mode": {
    "name": "ipython",
    "version": 3
   },
   "file_extension": ".py",
   "mimetype": "text/x-python",
   "name": "python",
   "nbconvert_exporter": "python",
   "pygments_lexer": "ipython3",
   "version": "3.8.8"
  }
 },
 "nbformat": 4,
 "nbformat_minor": 4
}
