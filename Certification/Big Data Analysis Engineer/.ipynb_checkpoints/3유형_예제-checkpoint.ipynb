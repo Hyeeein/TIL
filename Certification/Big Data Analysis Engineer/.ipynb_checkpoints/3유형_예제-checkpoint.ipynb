{
 "cells": [
  {
   "cell_type": "markdown",
   "id": "2f6c6430",
   "metadata": {},
   "source": [
    "## 3유형 예제"
   ]
  },
  {
   "cell_type": "markdown",
   "id": "1e7d12eb",
   "metadata": {},
   "source": [
    "### [1] 단일표본T 검정 실습 - Trees"
   ]
  },
  {
   "cell_type": "code",
   "execution_count": 71,
   "id": "ed68adfb",
   "metadata": {},
   "outputs": [
    {
     "name": "stdout",
     "output_type": "stream",
     "text": [
      "표본평균: 76.0\n",
      "검정통계량: 0.87 , p-값: 0.3892\n",
      "결과: 채택\n"
     ]
    }
   ],
   "source": [
    "# 출력을 원하실 경우 print() 함수 활용\n",
    "# 예시) print(df.head())\n",
    "\n",
    "# getcwd(), chdir() 등 작업 폴더 설정 불필요\n",
    "# 파일 경로 상 내부 드라이브 경로(C: 등) 접근 불가\n",
    "\n",
    "# 데이터 파일 읽기 예제\n",
    "import pandas as pd\n",
    "X_test = pd.read_csv(\"./datasets/supplement/trees.csv\")\n",
    "# print(X_test.head())\n",
    "\n",
    "# 사용자 코딩\n",
    "import scipy.stats as stats\n",
    "from math import sqrt\n",
    "\n",
    "# 1. 표본평균\n",
    "X = X_test['Height'].mean()\n",
    "print('표본평균:', round(X, 2))\n",
    "\n",
    "# 2. 검정통계량과 p값\n",
    "t_score, p_value = stats.ttest_1samp(X_test['Height'], 75)\n",
    "print('검정통계량:', round(t_score, 2), ', p-값:', round(p_value, 4))\n",
    "\n",
    "# 3. 유의수준 0.05 하에서 가설검정 결과 기각/채택 중 선택하여 작성\n",
    "print('결과: 채택')\n",
    "\n",
    "# 답안 출력 예시\n",
    "# print(평균변수값)"
   ]
  },
  {
   "cell_type": "markdown",
   "id": "264ec726",
   "metadata": {},
   "source": [
    "### [2] 독립표본T 검정 실습 - Toothgrowth"
   ]
  },
  {
   "cell_type": "code",
   "execution_count": 72,
   "id": "bf5f7e1c",
   "metadata": {},
   "outputs": [
    {
     "name": "stdout",
     "output_type": "stream",
     "text": [
      "평균1: 16.96 , 평균2: 20.66\n",
      "검정통계량: -1.92 , p-값: 0.0604\n",
      "결과: 채택\n"
     ]
    }
   ],
   "source": [
    "import pandas as pd\n",
    "\n",
    "import scipy.stats as stats\n",
    "from math import sqrt\n",
    "\n",
    "data = pd.read_csv('./datasets/supplement/toothgrowth.csv')\n",
    "# print(data.head())\n",
    "\n",
    "# 1. 등분산성 검정\n",
    "stats.levene(data.loc[data.supp=='VC', 'len'], data.loc[data.supp=='OJ', 'len'])\n",
    "\n",
    "# 2. 표본평균\n",
    "VC_a = data.loc[data.supp=='VC']\n",
    "OJ_a = data.loc[data.supp=='OJ']\n",
    "\n",
    "VC_X = VC_a['len'].mean()\n",
    "OJ_X = OJ_a['len'].mean()\n",
    "print('평균1:', round(VC_X, 2), ', 평균2:', round(OJ_X, 2))\n",
    "\n",
    "# 3. 검정통계량과 p값\n",
    "t_score, p_value = stats.ttest_ind(VC_a['len'], OJ_a['len'], equal_var=True)\n",
    "print('검정통계량:', round(t_score, 2), ', p-값:', round(p_value, 4))\n",
    "\n",
    "# 4. 유의수준 0.05 하에서 가설검정 결과 기각/채택 중 선택하여 작성\n",
    "print('결과: 채택')"
   ]
  },
  {
   "cell_type": "markdown",
   "id": "0cbfb2f3",
   "metadata": {},
   "source": [
    "### [3] 상체표본 T 검정 실습 - Insectsprays"
   ]
  },
  {
   "cell_type": "code",
   "execution_count": 73,
   "id": "cacaf1a8",
   "metadata": {},
   "outputs": [
    {
     "name": "stdout",
     "output_type": "stream",
     "text": [
      "평균: -12.0\n",
      "검정통계량: 14.89 , p-값: 0.0\n",
      "결과: 기각\n"
     ]
    }
   ],
   "source": [
    "import pandas as pd\n",
    "\n",
    "from scipy.stats import stats\n",
    "from math import sqrt\n",
    "\n",
    "data = pd.read_csv('./datasets/supplement/insectsprays.csv')\n",
    "# print(data.head())\n",
    "\n",
    "# 1. 표본평균\n",
    "diff = data['after_spr'] - data['before_spr']\n",
    "X = diff.mean()\n",
    "\n",
    "print('평균:', X)\n",
    "\n",
    "# 2. 검정통계량과 p값\n",
    "t_score, p_value = stats.ttest_rel(data['before_spr'], data['after_spr'], alternative='greater')\n",
    "print('검정통계량:', round(t_score, 2), ', p-값:', round(p_value, 4))\n",
    "\n",
    "# 3. 유의수준 0.05 하에서 가설검정 결과 기각/채택 중 선택하여 작성\n",
    "print('결과: 기각')"
   ]
  },
  {
   "cell_type": "markdown",
   "id": "97b3a776",
   "metadata": {},
   "source": [
    "### [4] 일원분산분석 One-Way ANOBA 실습 - Iris"
   ]
  },
  {
   "cell_type": "code",
   "execution_count": 74,
   "id": "33b6f71e",
   "metadata": {},
   "outputs": [
    {
     "name": "stdout",
     "output_type": "stream",
     "text": [
      "평균: 2.77\n",
      "검정통계량: 49.16 , p-값: 0.0\n",
      "결과: 기각\n"
     ]
    }
   ],
   "source": [
    "import pandas as pd\n",
    "\n",
    "from scipy.stats import stats\n",
    "from math import sqrt\n",
    "\n",
    "data = pd.read_csv('./datasets/supplement/iris.csv')\n",
    "# print(data.head())\n",
    "\n",
    "# 1. versicolor 종의 평균 꽃받침 너비\n",
    "X = data[data['species']=='versicolor']['sepal_width'].mean()\n",
    "print('평균:', round(X, 2))\n",
    "\n",
    "# 2. 검정통계량과 p값\n",
    "# print(data['species'].unique())  # 꽃 종류 확인\n",
    "\n",
    "X1 = data.loc[data['species']=='setosa', 'sepal_width']\n",
    "X2 = data.loc[data['species']=='versicolor', 'sepal_width']\n",
    "X3 = data.loc[data['species']=='virginica', 'sepal_width']\n",
    "\n",
    "t_score, p_value = stats.f_oneway(X1, X2, X3)\n",
    "print('검정통계량:', round(t_score, 2), ', p-값:', round(p_value, 4))\n",
    "\n",
    "# 3. 유의수준 0.05 하에서 가설검정 결과 기각/채택 중 선택하여 작성\n",
    "print('결과: 기각')"
   ]
  },
  {
   "cell_type": "markdown",
   "id": "0b583bd2",
   "metadata": {},
   "source": [
    "### [5] 카이제곱검정 (적합도 검정) 실습 - Cellphone"
   ]
  },
  {
   "cell_type": "code",
   "execution_count": 75,
   "id": "c3888d54",
   "metadata": {},
   "outputs": [
    {
     "name": "stdout",
     "output_type": "stream",
     "text": [
      "삼성폰 사용 직원 수 - 애플폰 사용 직원 수: 39\n",
      "기대빈도:  [20, 120, 60]\n",
      "검정통계량: 16.73 , p-값: 0.0002\n",
      "결과: 기각\n"
     ]
    }
   ],
   "source": [
    "import numpy as np\n",
    "import pandas as pd\n",
    "\n",
    "from scipy.stats import stats\n",
    "from math import sqrt\n",
    "\n",
    "data = pd.read_csv('./datasets/supplement/cellphone.csv')\n",
    "# print(data.head())\n",
    "\n",
    "# 1. 삼성폰 사용 직원 수 - 애플폰 사용 직원 수 = 정수 출력\n",
    "samsung = len(data[data['제조사']=='삼성'])\n",
    "apple = len(data[data['제조사']=='애플'])\n",
    "diff = int(samsung-apple)\n",
    "\n",
    "print('삼성폰 사용 직원 수 - 애플폰 사용 직원 수:', diff)\n",
    "\n",
    "# 다른 방법 => 이걸 쓰자 !!\n",
    "count_df = data.groupby('제조사').count()  # 제조사별 관찰 빈도\n",
    "result = count_df.loc['삼성', 'id'] - count_df.loc['애플', 'id']\n",
    "\n",
    "# 2. 스마트폰 제조사 점유율 이용하여 기대빈도 계산\n",
    "total_sum = len(data)\n",
    "expected = [int(total_sum*0.1), # '기타' 제조사 빈도\n",
    "            int(total_sum*0.6), # '삼성' 제조사 빈도\n",
    "            int(total_sum*0.3)] # '애플' 제조사 빈도\n",
    "print('기대빈도: ', expected)\n",
    "\n",
    "# 3. 검정통계량과 p-value\n",
    "observed = count_df['id'].values\n",
    "t_score, p_value = stats.chisquare(observed, f_exp=expected)\n",
    "print('검정통계량:', round(t_score, 2), ', p-값:', round(p_value, 4))\n",
    "\n",
    "# 4. 유의수준 0.05 하에서 가설검정 결과 기각/채택 중 선택하여 작성\n",
    "print('결과: 기각')"
   ]
  },
  {
   "cell_type": "markdown",
   "id": "bced9e84",
   "metadata": {},
   "source": [
    "### [6] 카이제곱검정 (독립성 검정) 실습 - Student"
   ]
  },
  {
   "cell_type": "code",
   "execution_count": 91,
   "id": "f7c87c81",
   "metadata": {},
   "outputs": [
    {
     "name": "stdout",
     "output_type": "stream",
     "text": [
      "수강 과목 수  4개 이하  5개  6개 이상\n",
      "단과대학                     \n",
      "경영대학        12  78     30\n",
      "공과대학        30  42     28\n",
      "자연대학        30  42      8\n",
      "\n",
      "단과대학: 경영대학\n"
     ]
    },
    {
     "ename": "AttributeError",
     "evalue": "module 'scipy.stats.stats' has no attribute 'chi2_contingency'",
     "output_type": "error",
     "traceback": [
      "\u001b[1;31m---------------------------------------------------------------------------\u001b[0m",
      "\u001b[1;31mAttributeError\u001b[0m                            Traceback (most recent call last)",
      "Input \u001b[1;32mIn [91]\u001b[0m, in \u001b[0;36m<cell line: 23>\u001b[1;34m()\u001b[0m\n\u001b[0;32m     20\u001b[0m X2 \u001b[38;5;241m=\u001b[39m table\u001b[38;5;241m.\u001b[39mloc[\u001b[38;5;124m'\u001b[39m\u001b[38;5;124m공과대학\u001b[39m\u001b[38;5;124m'\u001b[39m, :]\n\u001b[0;32m     21\u001b[0m X3 \u001b[38;5;241m=\u001b[39m table\u001b[38;5;241m.\u001b[39mloc[\u001b[38;5;124m'\u001b[39m\u001b[38;5;124m자연대학\u001b[39m\u001b[38;5;124m'\u001b[39m, :]\n\u001b[1;32m---> 23\u001b[0m t_score, p_value \u001b[38;5;241m=\u001b[39m \u001b[43mstats\u001b[49m\u001b[38;5;241;43m.\u001b[39;49m\u001b[43mchi2_contingency\u001b[49m([X1, X2, X3])\n\u001b[0;32m     24\u001b[0m \u001b[38;5;28mprint\u001b[39m(\u001b[38;5;124m'\u001b[39m\u001b[38;5;124m검정통계량:\u001b[39m\u001b[38;5;124m'\u001b[39m, \u001b[38;5;28mround\u001b[39m(t_score, \u001b[38;5;241m2\u001b[39m), \u001b[38;5;124m'\u001b[39m\u001b[38;5;124m, p-값:\u001b[39m\u001b[38;5;124m'\u001b[39m, \u001b[38;5;28mround\u001b[39m(p_value, \u001b[38;5;241m4\u001b[39m))\n\u001b[0;32m     26\u001b[0m \u001b[38;5;66;03m# 3. 유의수준 0.05 하에서 가설검정 결과 기각/채택 중 선택하여 작성\u001b[39;00m\n",
      "\u001b[1;31mAttributeError\u001b[0m: module 'scipy.stats.stats' has no attribute 'chi2_contingency'"
     ]
    }
   ],
   "source": [
    "import pandas as pd\n",
    "\n",
    "from scipy.stats import stats\n",
    "from math import sqrt\n",
    "\n",
    "data = pd.read_csv('./datasets/supplement/student.csv')\n",
    "# print(data.head())\n",
    "\n",
    "# 1. 분할표 만들고, 수강과목이 6개 이상인 학생 수가 가장 많은 단과대학 출력\n",
    "table = pd.crosstab(data['단과대학'], data['수강 과목 수'])\n",
    "print(table)\n",
    "print()\n",
    "\n",
    "result = table[table['6개 이상']==table['6개 이상'].max()].index[0]\n",
    "print('단과대학:', result)\n",
    "\n",
    "# 2. 검정통계량과 p-value\n",
    "X1 = table.loc['경영대학', :]\n",
    "X2 = table.loc['공과대학', :]\n",
    "X3 = table.loc['자연대학', :]\n",
    "\n",
    "-- 여기부터 다시\n",
    "t_score, p_value = stats.chi2_contingency([X1, X2, X3])\n",
    "print('검정통계량:', round(t_score, 2), ', p-값:', round(p_value, 4))\n",
    "\n",
    "# 3. 유의수준 0.05 하에서 가설검정 결과 기각/채택 중 선택하여 작성\n",
    "print('결과: 기각')"
   ]
  },
  {
   "cell_type": "code",
   "execution_count": null,
   "id": "757d3534",
   "metadata": {},
   "outputs": [],
   "source": []
  }
 ],
 "metadata": {
  "kernelspec": {
   "display_name": "bigbunki",
   "language": "python",
   "name": "bigbunki"
  },
  "language_info": {
   "codemirror_mode": {
    "name": "ipython",
    "version": 3
   },
   "file_extension": ".py",
   "mimetype": "text/x-python",
   "name": "python",
   "nbconvert_exporter": "python",
   "pygments_lexer": "ipython3",
   "version": "3.9.12"
  }
 },
 "nbformat": 4,
 "nbformat_minor": 5
}
