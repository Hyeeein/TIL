{
 "cells": [
  {
   "cell_type": "markdown",
   "metadata": {
    "id": "qvrlQlwK09K4"
   },
   "source": [
    "# Supplement. 부록"
   ]
  },
  {
   "cell_type": "markdown",
   "metadata": {
    "id": "OyjiEVpnxt8E"
   },
   "source": [
    "## Chapter2. 통계적 가설 검정 실습"
   ]
  },
  {
   "cell_type": "code",
   "execution_count": 2,
   "metadata": {
    "colab": {
     "base_uri": "https://localhost:8080/"
    },
    "executionInfo": {
     "elapsed": 1924,
     "status": "ok",
     "timestamp": 1683554388129,
     "user": {
      "displayName": "김주현",
      "userId": "12893380438784461833"
     },
     "user_tz": -540
    },
    "id": "_1NzoskYRGjk",
    "outputId": "aacb16d4-b5bc-47a6-a7bd-8a07647b6288"
   },
   "outputs": [
    {
     "name": "stdout",
     "output_type": "stream",
     "text": [
      "Cloning into 'yemoonsaBigdata'...\n",
      "remote: Enumerating objects: 622, done.\u001b[K\n",
      "remote: Counting objects: 100% (259/259), done.\u001b[K\n",
      "remote: Compressing objects: 100% (156/156), done.\u001b[K\n",
      "remote: Total 622 (delta 128), reused 175 (delta 103), pack-reused 363\u001b[K\n",
      "Receiving objects: 100% (622/622), 10.74 MiB | 26.05 MiB/s, done.\n",
      "Resolving deltas: 100% (313/313), done.\n"
     ]
    }
   ],
   "source": [
    "!git clone https://github.com/AnalyticsKnight/yemoonsaBigdata/"
   ]
  },
  {
   "cell_type": "markdown",
   "metadata": {
    "id": "XhmllIp-004C"
   },
   "source": [
    "## 1. 단일표본 T-검정 실습 – trees"
   ]
  },
  {
   "cell_type": "markdown",
   "metadata": {
    "id": "oaTRSpbE1bCE"
   },
   "source": [
    "### (2) 사전준비"
   ]
  },
  {
   "cell_type": "markdown",
   "metadata": {
    "id": "05PSmAPwPUdg"
   },
   "source": [
    "#### 212-01"
   ]
  },
  {
   "cell_type": "code",
   "execution_count": 3,
   "metadata": {
    "executionInfo": {
     "elapsed": 4,
     "status": "ok",
     "timestamp": 1683554388130,
     "user": {
      "displayName": "김주현",
      "userId": "12893380438784461833"
     },
     "user_tz": -540
    },
    "id": "glfo_TdlXuU5"
   },
   "outputs": [],
   "source": [
    "# 출력을 원하실 경우 print() 함수 활용\n",
    "# 예시) print(df.head())\n",
    "\n",
    "# getcwd(), chdir() 등 작업 폴더 설정 불필요\n",
    "# 파일 경로 상 내부 드라이브 경로(C: 등) 접근 불가\n",
    "\n",
    "# 데이터 파일 읽기 예제\n",
    "import pandas as pd\n",
    "X_test = pd.read_csv(\"./yemoonsaBigdata/datasets/supplement/trees.csv\")\n",
    "\n",
    "# 사용자 코딩\n",
    "\n",
    "# 답안 출력 예시\n",
    "# print(평균변수값)"
   ]
  },
  {
   "cell_type": "markdown",
   "metadata": {
    "id": "mBwI3KkXPskr"
   },
   "source": [
    "#### 212-02"
   ]
  },
  {
   "cell_type": "code",
   "execution_count": 4,
   "metadata": {
    "executionInfo": {
     "elapsed": 1559,
     "status": "ok",
     "timestamp": 1683554389686,
     "user": {
      "displayName": "김주현",
      "userId": "12893380438784461833"
     },
     "user_tz": -540
    },
    "id": "OKHJXjwU492V"
   },
   "outputs": [],
   "source": [
    "import pandas as pd\n",
    "\n",
    "import scipy.stats as stats\n",
    "from math import sqrt"
   ]
  },
  {
   "cell_type": "markdown",
   "metadata": {
    "id": "Ef--FhM5QJYI"
   },
   "source": [
    "#### 212-03"
   ]
  },
  {
   "cell_type": "code",
   "execution_count": 5,
   "metadata": {
    "executionInfo": {
     "elapsed": 20,
     "status": "ok",
     "timestamp": 1683554389686,
     "user": {
      "displayName": "김주현",
      "userId": "12893380438784461833"
     },
     "user_tz": -540
    },
    "id": "8GTBlyYwPjzP"
   },
   "outputs": [],
   "source": [
    "a = pd.read_csv(\"./yemoonsaBigdata/datasets/supplement/trees.csv\")"
   ]
  },
  {
   "cell_type": "markdown",
   "metadata": {
    "id": "tDd745Htx6Fb"
   },
   "source": [
    "### (3) 풀이"
   ]
  },
  {
   "cell_type": "markdown",
   "metadata": {
    "id": "XrYvJyQxQoxz"
   },
   "source": [
    "#### 213-01"
   ]
  },
  {
   "cell_type": "code",
   "execution_count": 6,
   "metadata": {
    "colab": {
     "base_uri": "https://localhost:8080/"
    },
    "executionInfo": {
     "elapsed": 20,
     "status": "ok",
     "timestamp": 1683554389686,
     "user": {
      "displayName": "김주현",
      "userId": "12893380438784461833"
     },
     "user_tz": -540
    },
    "id": "RP8r7FSfZ34e",
    "outputId": "b866fade-d11f-4875-a6de-574b79d8e6bd"
   },
   "outputs": [
    {
     "name": "stdout",
     "output_type": "stream",
     "text": [
      "76.0\n"
     ]
    }
   ],
   "source": [
    "X = a['Height'].mean()\n",
    "print( round(X, 2) )"
   ]
  },
  {
   "cell_type": "markdown",
   "metadata": {
    "id": "MPWjc_n-Z8PX"
   },
   "source": [
    "#### 213-02"
   ]
  },
  {
   "cell_type": "code",
   "execution_count": 7,
   "metadata": {
    "colab": {
     "base_uri": "https://localhost:8080/"
    },
    "executionInfo": {
     "elapsed": 20,
     "status": "ok",
     "timestamp": 1683554389687,
     "user": {
      "displayName": "김주현",
      "userId": "12893380438784461833"
     },
     "user_tz": -540
    },
    "id": "UQeoGn_CaAFe",
    "outputId": "171fe7a5-a0a6-460a-a093-c12cf8065e1a"
   },
   "outputs": [
    {
     "data": {
      "text/plain": [
       "TtestResult(statistic=0.8738116490580545, pvalue=0.38916223357338076, df=30)"
      ]
     },
     "execution_count": 7,
     "metadata": {},
     "output_type": "execute_result"
    }
   ],
   "source": [
    "stats.ttest_1samp(a['Height'], 75)"
   ]
  },
  {
   "cell_type": "markdown",
   "metadata": {
    "id": "Bs72V5-mavj7"
   },
   "source": [
    "#### 213-03"
   ]
  },
  {
   "cell_type": "code",
   "execution_count": 8,
   "metadata": {
    "colab": {
     "base_uri": "https://localhost:8080/"
    },
    "executionInfo": {
     "elapsed": 18,
     "status": "ok",
     "timestamp": 1683554389687,
     "user": {
      "displayName": "김주현",
      "userId": "12893380438784461833"
     },
     "user_tz": -540
    },
    "id": "LTLaTCFnjZC9",
    "outputId": "29e8fcb0-917f-45e8-e826-668c34874e87"
   },
   "outputs": [
    {
     "name": "stdout",
     "output_type": "stream",
     "text": [
      "0.87\n"
     ]
    }
   ],
   "source": [
    "t_score, p_value = stats.ttest_1samp(a['Height'], 75)\n",
    "\n",
    "print( round(t_score, 2) )"
   ]
  },
  {
   "cell_type": "markdown",
   "metadata": {
    "id": "D-8w5l9cayMR"
   },
   "source": [
    "#### 213-04"
   ]
  },
  {
   "cell_type": "code",
   "execution_count": 9,
   "metadata": {
    "colab": {
     "base_uri": "https://localhost:8080/"
    },
    "executionInfo": {
     "elapsed": 17,
     "status": "ok",
     "timestamp": 1683554389687,
     "user": {
      "displayName": "김주현",
      "userId": "12893380438784461833"
     },
     "user_tz": -540
    },
    "id": "TpBjs9DQa0QL",
    "outputId": "d6e865f7-79a7-4d87-bb1e-2bf9909008d1"
   },
   "outputs": [
    {
     "name": "stdout",
     "output_type": "stream",
     "text": [
      "0.3892\n",
      "채택\n"
     ]
    }
   ],
   "source": [
    "print( round(p_value, 4) )\n",
    "\n",
    "if p_value >= 0.05:\n",
    "    print('채택')\n",
    "else:\n",
    "    print('기각')"
   ]
  },
  {
   "cell_type": "markdown",
   "metadata": {
    "id": "ECLVLOgByA-c"
   },
   "source": [
    "## 2. 독립표본 T-검정 실습 – Toothgrowth"
   ]
  },
  {
   "cell_type": "markdown",
   "metadata": {
    "id": "VRoB8s8iyMI8"
   },
   "source": [
    "### (2) 사전 준비"
   ]
  },
  {
   "cell_type": "markdown",
   "metadata": {
    "id": "tOY_jbXXjZOG"
   },
   "source": [
    "#### 222-01"
   ]
  },
  {
   "cell_type": "code",
   "execution_count": 10,
   "metadata": {
    "executionInfo": {
     "elapsed": 16,
     "status": "ok",
     "timestamp": 1683554389687,
     "user": {
      "displayName": "김주현",
      "userId": "12893380438784461833"
     },
     "user_tz": -540
    },
    "id": "dugCg-6Ted1E"
   },
   "outputs": [],
   "source": [
    "import pandas as pd\n",
    "\n",
    "import scipy.stats as stats\n",
    "from math import sqrt\n",
    "\n",
    "a = pd.read_csv(\"./yemoonsaBigdata/datasets/supplement/toothgrowth.csv\")"
   ]
  },
  {
   "cell_type": "markdown",
   "metadata": {
    "id": "ieJQf1U_yO6N"
   },
   "source": [
    "### (3) 풀이"
   ]
  },
  {
   "cell_type": "markdown",
   "metadata": {
    "id": "drzE8vx_maC-"
   },
   "source": [
    "#### 223-01"
   ]
  },
  {
   "cell_type": "code",
   "execution_count": 11,
   "metadata": {
    "colab": {
     "base_uri": "https://localhost:8080/"
    },
    "executionInfo": {
     "elapsed": 16,
     "status": "ok",
     "timestamp": 1683554389688,
     "user": {
      "displayName": "김주현",
      "userId": "12893380438784461833"
     },
     "user_tz": -540
    },
    "id": "OFemoeUgehJ3",
    "outputId": "37a77b29-9e9f-4c29-a4d6-4dc01dba6efd"
   },
   "outputs": [
    {
     "data": {
      "text/plain": [
       "LeveneResult(statistic=1.2135720656945064, pvalue=0.2751764616144053)"
      ]
     },
     "execution_count": 11,
     "metadata": {},
     "output_type": "execute_result"
    }
   ],
   "source": [
    "stats.levene(a.loc[a.supp=='VC', 'len'], a.loc[a.supp=='OJ', 'len'])"
   ]
  },
  {
   "cell_type": "markdown",
   "metadata": {
    "id": "4gm3I_U9naaH"
   },
   "source": [
    "#### 223-02"
   ]
  },
  {
   "cell_type": "code",
   "execution_count": 12,
   "metadata": {
    "colab": {
     "base_uri": "https://localhost:8080/"
    },
    "executionInfo": {
     "elapsed": 15,
     "status": "ok",
     "timestamp": 1683554389688,
     "user": {
      "displayName": "김주현",
      "userId": "12893380438784461833"
     },
     "user_tz": -540
    },
    "id": "d5JSRCxAnm6C",
    "outputId": "c355b105-05d2-4011-d4c5-f9de7fe7e3b0"
   },
   "outputs": [
    {
     "name": "stdout",
     "output_type": "stream",
     "text": [
      "16.96 20.66\n"
     ]
    }
   ],
   "source": [
    "VC_a = a.loc[a.supp=='VC']\n",
    "OJ_a = a.loc[a.supp=='OJ']\n",
    "\n",
    "VC_X = VC_a['len'].mean()\n",
    "OJ_X = OJ_a['len'].mean()\n",
    "\n",
    "print( round(VC_X, 2), round(OJ_X, 2) )"
   ]
  },
  {
   "cell_type": "markdown",
   "metadata": {
    "id": "7W527R11oC8I"
   },
   "source": [
    "#### 223-03"
   ]
  },
  {
   "cell_type": "code",
   "execution_count": 13,
   "metadata": {
    "colab": {
     "base_uri": "https://localhost:8080/"
    },
    "executionInfo": {
     "elapsed": 13,
     "status": "ok",
     "timestamp": 1683554389688,
     "user": {
      "displayName": "김주현",
      "userId": "12893380438784461833"
     },
     "user_tz": -540
    },
    "id": "OuOkBk0jpuwN",
    "outputId": "a5a9a409-b4a8-4ac4-bfd7-b9e0a0697a60"
   },
   "outputs": [
    {
     "data": {
      "text/plain": [
       "Ttest_indResult(statistic=-1.91526826869527, pvalue=0.06039337122412849)"
      ]
     },
     "execution_count": 13,
     "metadata": {},
     "output_type": "execute_result"
    }
   ],
   "source": [
    "stats.ttest_ind(VC_a['len'], OJ_a['len'], equal_var=True)"
   ]
  },
  {
   "cell_type": "markdown",
   "metadata": {
    "id": "Cf7oxWD-p5Kq"
   },
   "source": [
    "#### 223-04"
   ]
  },
  {
   "cell_type": "code",
   "execution_count": 14,
   "metadata": {
    "colab": {
     "base_uri": "https://localhost:8080/"
    },
    "executionInfo": {
     "elapsed": 12,
     "status": "ok",
     "timestamp": 1683554389688,
     "user": {
      "displayName": "김주현",
      "userId": "12893380438784461833"
     },
     "user_tz": -540
    },
    "id": "sSNGncU4p60a",
    "outputId": "e9991a96-a3c4-4007-9e6d-93f96a81ce89"
   },
   "outputs": [
    {
     "name": "stdout",
     "output_type": "stream",
     "text": [
      "-1.92\n"
     ]
    }
   ],
   "source": [
    "t_score, p_value = stats.ttest_ind(VC_a['len'], OJ_a['len'], equal_var=True)\n",
    "print( round(t_score, 2) )"
   ]
  },
  {
   "cell_type": "markdown",
   "metadata": {
    "id": "6ZjW6TLcp1aR"
   },
   "source": [
    "### 223-05"
   ]
  },
  {
   "cell_type": "code",
   "execution_count": 15,
   "metadata": {
    "colab": {
     "base_uri": "https://localhost:8080/"
    },
    "executionInfo": {
     "elapsed": 12,
     "status": "ok",
     "timestamp": 1683554389689,
     "user": {
      "displayName": "김주현",
      "userId": "12893380438784461833"
     },
     "user_tz": -540
    },
    "id": "WOXjksb5eRzA",
    "outputId": "25b540f5-1155-4575-fbd6-c007c3cc3ad9"
   },
   "outputs": [
    {
     "name": "stdout",
     "output_type": "stream",
     "text": [
      "0.0604\n",
      "채택\n"
     ]
    }
   ],
   "source": [
    "print( round(p_value, 4) )\n",
    "\n",
    "if p_value >= 0.05:\n",
    "    print('채택')\n",
    "else:\n",
    "    print('기각')"
   ]
  },
  {
   "cell_type": "markdown",
   "metadata": {
    "id": "92Mg68qZyHU6"
   },
   "source": [
    "## 3. 쌍체표본 T-검정 실습 – Insectsprays"
   ]
  },
  {
   "cell_type": "markdown",
   "metadata": {
    "id": "69Sf5ZiuyQgO"
   },
   "source": [
    "### (2) 사전 준비"
   ]
  },
  {
   "cell_type": "markdown",
   "metadata": {
    "id": "tAfj4mZBoFAU"
   },
   "source": [
    "#### 232-01"
   ]
  },
  {
   "cell_type": "code",
   "execution_count": 16,
   "metadata": {
    "executionInfo": {
     "elapsed": 11,
     "status": "ok",
     "timestamp": 1683554389689,
     "user": {
      "displayName": "김주현",
      "userId": "12893380438784461833"
     },
     "user_tz": -540
    },
    "id": "Nkev4IsBuBiL"
   },
   "outputs": [],
   "source": [
    "a = pd.read_csv(\"./yemoonsaBigdata/datasets/supplement/insectsprays.csv\")"
   ]
  },
  {
   "cell_type": "markdown",
   "metadata": {
    "id": "izDd-SasyTpt"
   },
   "source": [
    "### (3) 풀이"
   ]
  },
  {
   "cell_type": "markdown",
   "metadata": {
    "id": "5eUgJyqCVNfJ"
   },
   "source": [
    "#### 233-01"
   ]
  },
  {
   "cell_type": "code",
   "execution_count": 17,
   "metadata": {
    "colab": {
     "base_uri": "https://localhost:8080/"
    },
    "executionInfo": {
     "elapsed": 10,
     "status": "ok",
     "timestamp": 1683554389689,
     "user": {
      "displayName": "김주현",
      "userId": "12893380438784461833"
     },
     "user_tz": -540
    },
    "id": "maOlT-Ttu8U9",
    "outputId": "37360f41-a6a0-4749-a39c-6b2f9c2862cb"
   },
   "outputs": [
    {
     "name": "stdout",
     "output_type": "stream",
     "text": [
      "-12.0\n"
     ]
    }
   ],
   "source": [
    "diff = a['after_spr']-a['before_spr']\n",
    "m_d = diff.mean()\n",
    "\n",
    "print( round(m_d, 2) )"
   ]
  },
  {
   "cell_type": "markdown",
   "metadata": {
    "id": "hN1w4ngCvdkb"
   },
   "source": [
    "#### 233-02"
   ]
  },
  {
   "cell_type": "code",
   "execution_count": 18,
   "metadata": {
    "colab": {
     "base_uri": "https://localhost:8080/"
    },
    "executionInfo": {
     "elapsed": 9,
     "status": "ok",
     "timestamp": 1683554389689,
     "user": {
      "displayName": "김주현",
      "userId": "12893380438784461833"
     },
     "user_tz": -540
    },
    "id": "_9KM2HT7viKL",
    "outputId": "82d44cd9-f9e9-4bb6-a0c9-f08252eb31e9"
   },
   "outputs": [
    {
     "data": {
      "text/plain": [
       "TtestResult(statistic=14.893263274163433, pvalue=5.113978478699233e-17, df=35)"
      ]
     },
     "execution_count": 18,
     "metadata": {},
     "output_type": "execute_result"
    }
   ],
   "source": [
    "stats.ttest_rel(a['before_spr'], a['after_spr'], alternative='greater')"
   ]
  },
  {
   "cell_type": "markdown",
   "metadata": {
    "id": "YijZ33FivuTA"
   },
   "source": [
    "#### 233-03"
   ]
  },
  {
   "cell_type": "code",
   "execution_count": 19,
   "metadata": {
    "colab": {
     "base_uri": "https://localhost:8080/"
    },
    "executionInfo": {
     "elapsed": 9,
     "status": "ok",
     "timestamp": 1683554389690,
     "user": {
      "displayName": "김주현",
      "userId": "12893380438784461833"
     },
     "user_tz": -540
    },
    "id": "LVfnbyZnvwBr",
    "outputId": "1c230384-9519-437c-e548-e82c6a0ddaa2"
   },
   "outputs": [
    {
     "name": "stdout",
     "output_type": "stream",
     "text": [
      "14.89\n"
     ]
    }
   ],
   "source": [
    "t_score, p_value = stats.ttest_rel(a['before_spr'], a['after_spr'], alternative='greater')\n",
    "print( round(t_score, 2) )"
   ]
  },
  {
   "cell_type": "markdown",
   "metadata": {
    "id": "puEmrLy7JXkv"
   },
   "source": [
    "#### 233-04"
   ]
  },
  {
   "cell_type": "code",
   "execution_count": 20,
   "metadata": {
    "colab": {
     "base_uri": "https://localhost:8080/"
    },
    "executionInfo": {
     "elapsed": 8,
     "status": "ok",
     "timestamp": 1683554389690,
     "user": {
      "displayName": "김주현",
      "userId": "12893380438784461833"
     },
     "user_tz": -540
    },
    "id": "8dPgGVtkwHRG",
    "outputId": "84e69139-3fc8-46e2-a172-0b24e09f859b"
   },
   "outputs": [
    {
     "name": "stdout",
     "output_type": "stream",
     "text": [
      "0.0\n",
      "기각\n"
     ]
    }
   ],
   "source": [
    "print( round(p_value, 4) )\n",
    "\n",
    "if p_value >= 0.05:\n",
    "    print('채택')\n",
    "else:\n",
    "    print('기각')"
   ]
  }
 ],
 "metadata": {
  "colab": {
   "authorship_tag": "ABX9TyPd+/FVB1IW3CTYBqxF8z6C",
   "provenance": [
    {
     "file_id": "https://github.com/AnalyticsKnight/yemoonsaBigdata/blob/main/src/P2_C4_01_MotorTrendCarRoadTests.ipynb",
     "timestamp": 1682144838236
    }
   ]
  },
  "kernelspec": {
   "display_name": "Python 3 (ipykernel)",
   "language": "python",
   "name": "python3"
  },
  "language_info": {
   "codemirror_mode": {
    "name": "ipython",
    "version": 3
   },
   "file_extension": ".py",
   "mimetype": "text/x-python",
   "name": "python",
   "nbconvert_exporter": "python",
   "pygments_lexer": "ipython3",
   "version": "3.9.12"
  }
 },
 "nbformat": 4,
 "nbformat_minor": 1
}
