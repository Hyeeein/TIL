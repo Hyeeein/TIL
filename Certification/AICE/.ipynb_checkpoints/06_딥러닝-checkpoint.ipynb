{
 "cells": [
  {
   "cell_type": "markdown",
   "id": "91f8ab86",
   "metadata": {},
   "source": [
    "# [실습] Python을 활용한 AI 모델링 - 딥러닝 파트\n",
    "+ 이번시간에는 Python을 활용한 AI 모델링에서 딥러닝에 대해 실습해 보겠습니다.\n",
    "+ 여기서는 딥러닝 모델 DNN, CNN, RNN 에 대해 코딩하여 모델 구축해 보겠습니다.\n",
    "+ 한가지 당부 드리고 싶은 말은 \"백문이불여일타\" 입니다. \n",
    "+ 이론보다 실습이 더 많은 시간과 노력이 투자 되어야 합니다."
   ]
  },
  {
   "cell_type": "markdown",
   "id": "9580178a",
   "metadata": {},
   "source": [
    "## 학습목차\n",
    "1. 실습준비\n",
    "2. 딥러닝 모델(DNN, CNN, RNN) 프로세스\n",
    " - 데이터 가져오기\n",
    " - 데이터 전처리\n",
    " - Train, Test 데이터셋 분할\n",
    " - 데이터 정규화\n",
    " - 딥러닝 모델 : DNN, CNN, RNN"
   ]
  },
  {
   "cell_type": "markdown",
   "id": "a028a40d",
   "metadata": {},
   "source": [
    "# \n",
    "# 1. 실습준비"
   ]
  },
  {
   "cell_type": "code",
   "execution_count": 1,
   "id": "465ca298",
   "metadata": {},
   "outputs": [],
   "source": [
    "# 코드실행시 경고 메시지 무시\n",
    "\n",
    "import warnings\n",
    "warnings.filterwarnings(action='ignore') "
   ]
  },
  {
   "cell_type": "markdown",
   "id": "5f8fe851",
   "metadata": {},
   "source": [
    "# \n",
    "# 2. 딥러닝 모델(DNN, CNN, RNN) 프로세스\n",
    "① 라이브러리 임포트(import)  \n",
    "② 데이터 가져오기(Loading the data)  \n",
    "③ 탐색적 데이터 분석(Exploratory Data Analysis)  \n",
    "④ 데이터 전처리(Data PreProcessing) : 데이터타입 변환, Null 데이터 처리, 누락데이터 처리, \n",
    "더미특성 생성, 특성 추출 (feature engineering) 등  \n",
    "⑤ Train, Test  데이터셋 분할  \n",
    "⑥ 데이터 정규화(Normalizing the Data)  \n",
    "⑦ 모델 개발(Creating the Model)  \n",
    "⑧ 모델 성능 평가"
   ]
  },
  {
   "cell_type": "markdown",
   "id": "7e1fd450",
   "metadata": {},
   "source": [
    "## ① 라이브러리 임포트"
   ]
  },
  {
   "cell_type": "markdown",
   "id": "0806c7c3",
   "metadata": {},
   "source": [
    "##### 필요 라이브러리 임포트"
   ]
  },
  {
   "cell_type": "code",
   "execution_count": 2,
   "id": "6b6b7c41",
   "metadata": {},
   "outputs": [],
   "source": [
    "import numpy as np\n",
    "import pandas as pd\n",
    "import matplotlib.pyplot as plt"
   ]
  },
  {
   "cell_type": "markdown",
   "id": "1ae76936",
   "metadata": {},
   "source": [
    "## ② 데이터 로드"
   ]
  },
  {
   "cell_type": "markdown",
   "id": "0c333543",
   "metadata": {},
   "source": [
    "#### cust_data.csv 파일 컬럼명\n",
    "+ 고객등급(class), 성별(sex), 나이(age), 사용서비스수(service), 서비스중지여부 (stop), 미납여부(npay)\n",
    "+ 3개월 평균 요금(avg_bill), A서비스 3개월 평균요금(A_bill), B서비스 3개월 평균요금(B_bill), 해지여부(termination)"
   ]
  },
  {
   "cell_type": "markdown",
   "id": "08c36ebc",
   "metadata": {},
   "source": [
    "##### <font color=blue> **[문제] 같은 폴더내에 있는 cust_data.csv 파일을 Pandas read_csv 함수를 이용하여 읽어 df 변수에 저장하세요.** </font>"
   ]
  },
  {
   "cell_type": "code",
   "execution_count": 3,
   "id": "d3927c0b",
   "metadata": {},
   "outputs": [],
   "source": [
    "# 읽어 들일 파일명 : cust_data.csv\n",
    "# Pandas read_csv 함수 활용\n",
    "# 결과 : df 저장\n",
    "\n",
    "df = pd.read_csv('cust_data.csv')"
   ]
  },
  {
   "cell_type": "markdown",
   "id": "5149267f",
   "metadata": {},
   "source": [
    "## ③ 데이터 분석"
   ]
  },
  {
   "cell_type": "code",
   "execution_count": 4,
   "id": "b4e6677e",
   "metadata": {},
   "outputs": [
    {
     "name": "stdout",
     "output_type": "stream",
     "text": [
      "<class 'pandas.core.frame.DataFrame'>\n",
      "RangeIndex: 7814 entries, 0 to 7813\n",
      "Data columns (total 12 columns):\n",
      " #   Column       Non-Null Count  Dtype  \n",
      "---  ------       --------------  -----  \n",
      " 0   class        7814 non-null   object \n",
      " 1   sex          7814 non-null   object \n",
      " 2   age          7814 non-null   int64  \n",
      " 3   service      7814 non-null   int64  \n",
      " 4   stop         7814 non-null   object \n",
      " 5   npay         7814 non-null   object \n",
      " 6   avg_bill     7814 non-null   float64\n",
      " 7   A_bill       7814 non-null   float64\n",
      " 8   B_bill       7814 non-null   float64\n",
      " 9   termination  7814 non-null   object \n",
      " 10  by_age       7814 non-null   int64  \n",
      " 11  bill_rating  7814 non-null   object \n",
      "dtypes: float64(3), int64(3), object(6)\n",
      "memory usage: 732.7+ KB\n"
     ]
    }
   ],
   "source": [
    "# 12컬럼, 7814 라인\n",
    "df.info()"
   ]
  },
  {
   "cell_type": "code",
   "execution_count": 5,
   "id": "3640ad3c",
   "metadata": {},
   "outputs": [
    {
     "data": {
      "text/html": [
       "<div>\n",
       "<style scoped>\n",
       "    .dataframe tbody tr th:only-of-type {\n",
       "        vertical-align: middle;\n",
       "    }\n",
       "\n",
       "    .dataframe tbody tr th {\n",
       "        vertical-align: top;\n",
       "    }\n",
       "\n",
       "    .dataframe thead th {\n",
       "        text-align: right;\n",
       "    }\n",
       "</style>\n",
       "<table border=\"1\" class=\"dataframe\">\n",
       "  <thead>\n",
       "    <tr style=\"text-align: right;\">\n",
       "      <th></th>\n",
       "      <th>class</th>\n",
       "      <th>sex</th>\n",
       "      <th>age</th>\n",
       "      <th>service</th>\n",
       "      <th>stop</th>\n",
       "      <th>npay</th>\n",
       "      <th>avg_bill</th>\n",
       "      <th>A_bill</th>\n",
       "      <th>B_bill</th>\n",
       "      <th>termination</th>\n",
       "      <th>by_age</th>\n",
       "      <th>bill_rating</th>\n",
       "    </tr>\n",
       "  </thead>\n",
       "  <tbody>\n",
       "    <tr>\n",
       "      <th>7809</th>\n",
       "      <td>C</td>\n",
       "      <td>M</td>\n",
       "      <td>76</td>\n",
       "      <td>1</td>\n",
       "      <td>N</td>\n",
       "      <td>N</td>\n",
       "      <td>1860.0000</td>\n",
       "      <td>1716.000000</td>\n",
       "      <td>0.0000</td>\n",
       "      <td>N</td>\n",
       "      <td>75</td>\n",
       "      <td>low</td>\n",
       "    </tr>\n",
       "    <tr>\n",
       "      <th>7810</th>\n",
       "      <td>C</td>\n",
       "      <td>F</td>\n",
       "      <td>15</td>\n",
       "      <td>1</td>\n",
       "      <td>N</td>\n",
       "      <td>Y</td>\n",
       "      <td>1296.0999</td>\n",
       "      <td>194.414985</td>\n",
       "      <td>643.1001</td>\n",
       "      <td>N</td>\n",
       "      <td>15</td>\n",
       "      <td>low</td>\n",
       "    </tr>\n",
       "    <tr>\n",
       "      <th>7811</th>\n",
       "      <td>G</td>\n",
       "      <td>M</td>\n",
       "      <td>12</td>\n",
       "      <td>1</td>\n",
       "      <td>N</td>\n",
       "      <td>N</td>\n",
       "      <td>13799.6666</td>\n",
       "      <td>2069.949990</td>\n",
       "      <td>10605.9266</td>\n",
       "      <td>N</td>\n",
       "      <td>10</td>\n",
       "      <td>midhigh</td>\n",
       "    </tr>\n",
       "    <tr>\n",
       "      <th>7812</th>\n",
       "      <td>C</td>\n",
       "      <td>F</td>\n",
       "      <td>40</td>\n",
       "      <td>0</td>\n",
       "      <td>N</td>\n",
       "      <td>N</td>\n",
       "      <td>3140.0000</td>\n",
       "      <td>942.000000</td>\n",
       "      <td>1884.0000</td>\n",
       "      <td>Y</td>\n",
       "      <td>40</td>\n",
       "      <td>low</td>\n",
       "    </tr>\n",
       "    <tr>\n",
       "      <th>7813</th>\n",
       "      <td>C</td>\n",
       "      <td>F</td>\n",
       "      <td>59</td>\n",
       "      <td>1</td>\n",
       "      <td>N</td>\n",
       "      <td>N</td>\n",
       "      <td>2436.9000</td>\n",
       "      <td>365.535000</td>\n",
       "      <td>1839.9000</td>\n",
       "      <td>N</td>\n",
       "      <td>55</td>\n",
       "      <td>low</td>\n",
       "    </tr>\n",
       "  </tbody>\n",
       "</table>\n",
       "</div>"
      ],
      "text/plain": [
       "     class sex  age  service stop npay    avg_bill       A_bill      B_bill  \\\n",
       "7809     C   M   76        1    N    N   1860.0000  1716.000000      0.0000   \n",
       "7810     C   F   15        1    N    Y   1296.0999   194.414985    643.1001   \n",
       "7811     G   M   12        1    N    N  13799.6666  2069.949990  10605.9266   \n",
       "7812     C   F   40        0    N    N   3140.0000   942.000000   1884.0000   \n",
       "7813     C   F   59        1    N    N   2436.9000   365.535000   1839.9000   \n",
       "\n",
       "     termination  by_age bill_rating  \n",
       "7809           N      75         low  \n",
       "7810           N      15         low  \n",
       "7811           N      10     midhigh  \n",
       "7812           Y      40         low  \n",
       "7813           N      55         low  "
      ]
     },
     "execution_count": 5,
     "metadata": {},
     "output_type": "execute_result"
    }
   ],
   "source": [
    "df.tail()"
   ]
  },
  {
   "cell_type": "code",
   "execution_count": 6,
   "id": "a50b34f1",
   "metadata": {},
   "outputs": [
    {
     "data": {
      "text/plain": [
       "<AxesSubplot:>"
      ]
     },
     "execution_count": 6,
     "metadata": {},
     "output_type": "execute_result"
    },
    {
     "data": {
      "image/png": "[encoded data removed]",
      "text/plain": [
       "<Figure size 432x288 with 1 Axes>"
      ]
     },
     "metadata": {
      "needs_background": "light"
     },
     "output_type": "display_data"
    }
   ],
   "source": [
    "# termination 레이블 불균형 \n",
    "df['termination'].value_counts().plot(kind='bar')"
   ]
  },
  {
   "cell_type": "markdown",
   "id": "ffed231f",
   "metadata": {},
   "source": [
    "## ④ 데이터 전처리"
   ]
  },
  {
   "cell_type": "markdown",
   "id": "6d56507a",
   "metadata": {},
   "source": [
    "+ Object 컬럼에 대해 Pandas get_dummies 함수 활용하여 One-Hot-Encoding"
   ]
  },
  {
   "cell_type": "code",
   "execution_count": 10,
   "id": "25d185b1",
   "metadata": {},
   "outputs": [],
   "source": [
    "cal_cols = ['class', 'sex', 'stop', 'npay', 'termination', 'bill_rating']"
   ]
  },
  {
   "cell_type": "markdown",
   "id": "d502cfe1",
   "metadata": {},
   "source": [
    "##### <font color=blue> **[문제] ['class', 'sex', 'stop', 'npay', 'termination', 'bill_rating'] 컬럼에 대해 One-Hot-Encoding 수행하고 그 결과를 df1 변수에 저장하세요.** </font>"
   ]
  },
  {
   "cell_type": "code",
   "execution_count": 11,
   "id": "9476eef1",
   "metadata": {},
   "outputs": [],
   "source": [
    "# ['class', 'sex', 'stop', 'npay', 'termination', 'bill_rating'] : cal_cols 변수에 대해 One-Hot-Endcoding 수행\n",
    "# One-Hot-Endcoding 수행 : pandas get_dummies() 함수 이용\n",
    "# get_dummies() 함수 옵션 : data=df, columns=cal_cols, drop_first=True\n",
    "# 결과 : df1 저장\n",
    "\n",
    "\n",
    "df1 = pd.get_dummies(data=df, columns=cal_cols, drop_first=True)"
   ]
  },
  {
   "cell_type": "code",
   "execution_count": 12,
   "id": "df954f76",
   "metadata": {},
   "outputs": [
    {
     "name": "stdout",
     "output_type": "stream",
     "text": [
      "<class 'pandas.core.frame.DataFrame'>\n",
      "RangeIndex: 7814 entries, 0 to 7813\n",
      "Data columns (total 19 columns):\n",
      " #   Column               Non-Null Count  Dtype  \n",
      "---  ------               --------------  -----  \n",
      " 0   age                  7814 non-null   int64  \n",
      " 1   service              7814 non-null   int64  \n",
      " 2   avg_bill             7814 non-null   float64\n",
      " 3   A_bill               7814 non-null   float64\n",
      " 4   B_bill               7814 non-null   float64\n",
      " 5   by_age               7814 non-null   int64  \n",
      " 6   class_D              7814 non-null   uint8  \n",
      " 7   class_E              7814 non-null   uint8  \n",
      " 8   class_F              7814 non-null   uint8  \n",
      " 9   class_G              7814 non-null   uint8  \n",
      " 10  class_H              7814 non-null   uint8  \n",
      " 11  sex_M                7814 non-null   uint8  \n",
      " 12  stop_Y               7814 non-null   uint8  \n",
      " 13  npay_Y               7814 non-null   uint8  \n",
      " 14  termination_Y        7814 non-null   uint8  \n",
      " 15  bill_rating_low      7814 non-null   uint8  \n",
      " 16  bill_rating_lowmid   7814 non-null   uint8  \n",
      " 17  bill_rating_mid      7814 non-null   uint8  \n",
      " 18  bill_rating_midhigh  7814 non-null   uint8  \n",
      "dtypes: float64(3), int64(3), uint8(13)\n",
      "memory usage: 465.6 KB\n"
     ]
    }
   ],
   "source": [
    "# 19컬럼, 7814 라인\n",
    "df1.info()"
   ]
  },
  {
   "cell_type": "markdown",
   "id": "82a84f22",
   "metadata": {},
   "source": [
    "## ⑤ Train, Test  데이터셋 분할"
   ]
  },
  {
   "cell_type": "code",
   "execution_count": 13,
   "id": "38530791",
   "metadata": {},
   "outputs": [],
   "source": [
    "from sklearn.model_selection import train_test_split"
   ]
  },
  {
   "cell_type": "code",
   "execution_count": 14,
   "id": "f16834a4",
   "metadata": {},
   "outputs": [],
   "source": [
    "X = df1.drop('termination_Y', axis=1).values\n",
    "y = df1['termination_Y'].values"
   ]
  },
  {
   "cell_type": "code",
   "execution_count": 15,
   "id": "b74ae34a",
   "metadata": {},
   "outputs": [],
   "source": [
    "X_train, X_test, y_train, y_test = train_test_split(X, y, \n",
    "                                                    test_size=0.3, \n",
    "                                                    stratify=y,\n",
    "                                                    random_state=42)"
   ]
  },
  {
   "cell_type": "code",
   "execution_count": 16,
   "id": "fd4ea6c5",
   "metadata": {},
   "outputs": [
    {
     "data": {
      "text/plain": [
       "(5469, 18)"
      ]
     },
     "execution_count": 16,
     "metadata": {},
     "output_type": "execute_result"
    }
   ],
   "source": [
    "X_train.shape"
   ]
  },
  {
   "cell_type": "code",
   "execution_count": 17,
   "id": "d274a353",
   "metadata": {},
   "outputs": [
    {
     "data": {
      "text/plain": [
       "(5469,)"
      ]
     },
     "execution_count": 17,
     "metadata": {},
     "output_type": "execute_result"
    }
   ],
   "source": [
    "y_train.shape"
   ]
  },
  {
   "cell_type": "markdown",
   "id": "49b09855",
   "metadata": {},
   "source": [
    "## ⑥ 데이터 정규화/스케일링(Normalizing/Scaling)"
   ]
  },
  {
   "cell_type": "code",
   "execution_count": 18,
   "id": "17111929",
   "metadata": {},
   "outputs": [
    {
     "data": {
      "text/html": [
       "<div>\n",
       "<style scoped>\n",
       "    .dataframe tbody tr th:only-of-type {\n",
       "        vertical-align: middle;\n",
       "    }\n",
       "\n",
       "    .dataframe tbody tr th {\n",
       "        vertical-align: top;\n",
       "    }\n",
       "\n",
       "    .dataframe thead th {\n",
       "        text-align: right;\n",
       "    }\n",
       "</style>\n",
       "<table border=\"1\" class=\"dataframe\">\n",
       "  <thead>\n",
       "    <tr style=\"text-align: right;\">\n",
       "      <th></th>\n",
       "      <th>age</th>\n",
       "      <th>service</th>\n",
       "      <th>avg_bill</th>\n",
       "      <th>A_bill</th>\n",
       "      <th>B_bill</th>\n",
       "      <th>by_age</th>\n",
       "      <th>class_D</th>\n",
       "      <th>class_E</th>\n",
       "      <th>class_F</th>\n",
       "      <th>class_G</th>\n",
       "      <th>class_H</th>\n",
       "      <th>sex_M</th>\n",
       "      <th>stop_Y</th>\n",
       "      <th>npay_Y</th>\n",
       "      <th>termination_Y</th>\n",
       "      <th>bill_rating_low</th>\n",
       "      <th>bill_rating_lowmid</th>\n",
       "      <th>bill_rating_mid</th>\n",
       "      <th>bill_rating_midhigh</th>\n",
       "    </tr>\n",
       "  </thead>\n",
       "  <tbody>\n",
       "    <tr>\n",
       "      <th>7809</th>\n",
       "      <td>76</td>\n",
       "      <td>1</td>\n",
       "      <td>1860.0000</td>\n",
       "      <td>1716.000000</td>\n",
       "      <td>0.0000</td>\n",
       "      <td>75</td>\n",
       "      <td>0</td>\n",
       "      <td>0</td>\n",
       "      <td>0</td>\n",
       "      <td>0</td>\n",
       "      <td>0</td>\n",
       "      <td>1</td>\n",
       "      <td>0</td>\n",
       "      <td>0</td>\n",
       "      <td>0</td>\n",
       "      <td>1</td>\n",
       "      <td>0</td>\n",
       "      <td>0</td>\n",
       "      <td>0</td>\n",
       "    </tr>\n",
       "    <tr>\n",
       "      <th>7810</th>\n",
       "      <td>15</td>\n",
       "      <td>1</td>\n",
       "      <td>1296.0999</td>\n",
       "      <td>194.414985</td>\n",
       "      <td>643.1001</td>\n",
       "      <td>15</td>\n",
       "      <td>0</td>\n",
       "      <td>0</td>\n",
       "      <td>0</td>\n",
       "      <td>0</td>\n",
       "      <td>0</td>\n",
       "      <td>0</td>\n",
       "      <td>0</td>\n",
       "      <td>1</td>\n",
       "      <td>0</td>\n",
       "      <td>1</td>\n",
       "      <td>0</td>\n",
       "      <td>0</td>\n",
       "      <td>0</td>\n",
       "    </tr>\n",
       "    <tr>\n",
       "      <th>7811</th>\n",
       "      <td>12</td>\n",
       "      <td>1</td>\n",
       "      <td>13799.6666</td>\n",
       "      <td>2069.949990</td>\n",
       "      <td>10605.9266</td>\n",
       "      <td>10</td>\n",
       "      <td>0</td>\n",
       "      <td>0</td>\n",
       "      <td>0</td>\n",
       "      <td>1</td>\n",
       "      <td>0</td>\n",
       "      <td>1</td>\n",
       "      <td>0</td>\n",
       "      <td>0</td>\n",
       "      <td>0</td>\n",
       "      <td>0</td>\n",
       "      <td>0</td>\n",
       "      <td>0</td>\n",
       "      <td>1</td>\n",
       "    </tr>\n",
       "    <tr>\n",
       "      <th>7812</th>\n",
       "      <td>40</td>\n",
       "      <td>0</td>\n",
       "      <td>3140.0000</td>\n",
       "      <td>942.000000</td>\n",
       "      <td>1884.0000</td>\n",
       "      <td>40</td>\n",
       "      <td>0</td>\n",
       "      <td>0</td>\n",
       "      <td>0</td>\n",
       "      <td>0</td>\n",
       "      <td>0</td>\n",
       "      <td>0</td>\n",
       "      <td>0</td>\n",
       "      <td>0</td>\n",
       "      <td>1</td>\n",
       "      <td>1</td>\n",
       "      <td>0</td>\n",
       "      <td>0</td>\n",
       "      <td>0</td>\n",
       "    </tr>\n",
       "    <tr>\n",
       "      <th>7813</th>\n",
       "      <td>59</td>\n",
       "      <td>1</td>\n",
       "      <td>2436.9000</td>\n",
       "      <td>365.535000</td>\n",
       "      <td>1839.9000</td>\n",
       "      <td>55</td>\n",
       "      <td>0</td>\n",
       "      <td>0</td>\n",
       "      <td>0</td>\n",
       "      <td>0</td>\n",
       "      <td>0</td>\n",
       "      <td>0</td>\n",
       "      <td>0</td>\n",
       "      <td>0</td>\n",
       "      <td>0</td>\n",
       "      <td>1</td>\n",
       "      <td>0</td>\n",
       "      <td>0</td>\n",
       "      <td>0</td>\n",
       "    </tr>\n",
       "  </tbody>\n",
       "</table>\n",
       "</div>"
      ],
      "text/plain": [
       "      age  service    avg_bill       A_bill      B_bill  by_age  class_D  \\\n",
       "7809   76        1   1860.0000  1716.000000      0.0000      75        0   \n",
       "7810   15        1   1296.0999   194.414985    643.1001      15        0   \n",
       "7811   12        1  13799.6666  2069.949990  10605.9266      10        0   \n",
       "7812   40        0   3140.0000   942.000000   1884.0000      40        0   \n",
       "7813   59        1   2436.9000   365.535000   1839.9000      55        0   \n",
       "\n",
       "      class_E  class_F  class_G  class_H  sex_M  stop_Y  npay_Y  \\\n",
       "7809        0        0        0        0      1       0       0   \n",
       "7810        0        0        0        0      0       0       1   \n",
       "7811        0        0        1        0      1       0       0   \n",
       "7812        0        0        0        0      0       0       0   \n",
       "7813        0        0        0        0      0       0       0   \n",
       "\n",
       "      termination_Y  bill_rating_low  bill_rating_lowmid  bill_rating_mid  \\\n",
       "7809              0                1                   0                0   \n",
       "7810              0                1                   0                0   \n",
       "7811              0                0                   0                0   \n",
       "7812              1                1                   0                0   \n",
       "7813              0                1                   0                0   \n",
       "\n",
       "      bill_rating_midhigh  \n",
       "7809                    0  \n",
       "7810                    0  \n",
       "7811                    1  \n",
       "7812                    0  \n",
       "7813                    0  "
      ]
     },
     "execution_count": 18,
     "metadata": {},
     "output_type": "execute_result"
    }
   ],
   "source": [
    "# 숫자 분포 이루어진 컬럼 확인\n",
    "df1.tail()"
   ]
  },
  {
   "cell_type": "code",
   "execution_count": 19,
   "id": "9778b818",
   "metadata": {},
   "outputs": [],
   "source": [
    "from sklearn.preprocessing import MinMaxScaler"
   ]
  },
  {
   "cell_type": "code",
   "execution_count": 20,
   "id": "9b011ca0",
   "metadata": {},
   "outputs": [],
   "source": [
    "scaler = MinMaxScaler()\n",
    "X_train = scaler.fit_transform(X_train)\n",
    "X_test = scaler.transform(X_test)"
   ]
  },
  {
   "cell_type": "code",
   "execution_count": 21,
   "id": "31337c1b",
   "metadata": {},
   "outputs": [
    {
     "data": {
      "text/plain": [
       "array([[0.38      , 0.33333333, 0.4295439 , 0.06384702, 0.41944434,\n",
       "        0.4       , 0.        , 0.        , 0.        , 0.        ,\n",
       "        1.        , 1.        , 0.        , 1.        , 0.        ,\n",
       "        0.        , 0.        , 1.        ],\n",
       "       [0.58      , 0.11111111, 0.20111297, 0.38498933, 0.        ,\n",
       "        0.6       , 1.        , 0.        , 0.        , 0.        ,\n",
       "        0.        , 1.        , 0.        , 0.        , 0.        ,\n",
       "        1.        , 0.        , 0.        ]])"
      ]
     },
     "execution_count": 21,
     "metadata": {},
     "output_type": "execute_result"
    }
   ],
   "source": [
    "X_train[:2]"
   ]
  },
  {
   "cell_type": "markdown",
   "id": "423ae882",
   "metadata": {},
   "source": [
    "+ 모델 입력갯수, 출력갯수 확인"
   ]
  },
  {
   "cell_type": "markdown",
   "id": "03d51325",
   "metadata": {},
   "source": [
    "#### \n",
    "## ⑦ 딥러닝 심층신경망(DNN) 모델 구현"
   ]
  },
  {
   "cell_type": "markdown",
   "id": "89848f20",
   "metadata": {},
   "source": [
    "#### \n",
    "### 라이브러리 임포트"
   ]
  },
  {
   "cell_type": "code",
   "execution_count": 25,
   "id": "139c1bec",
   "metadata": {},
   "outputs": [],
   "source": [
    "import tensorflow as tf\n",
    "from tensorflow.keras.models import Sequential\n",
    "from tensorflow.keras.layers import Dense, Activation, Dropout"
   ]
  },
  {
   "cell_type": "markdown",
   "id": "53ce3b5e",
   "metadata": {},
   "source": [
    "#### \n",
    "### 하이퍼파라미터 설정 : batch_size, epochs"
   ]
  },
  {
   "cell_type": "code",
   "execution_count": 26,
   "id": "e4eed6ce",
   "metadata": {},
   "outputs": [],
   "source": [
    "batch_size = 16\n",
    "epochs = 20"
   ]
  },
  {
   "cell_type": "markdown",
   "id": "a3e51ccc",
   "metadata": {},
   "source": [
    "#### \n",
    "### 모델 입력(features) 갯수 확인"
   ]
  },
  {
   "cell_type": "code",
   "execution_count": 27,
   "id": "97ee86ec",
   "metadata": {},
   "outputs": [
    {
     "data": {
      "text/plain": [
       "(5469, 18)"
      ]
     },
     "execution_count": 27,
     "metadata": {},
     "output_type": "execute_result"
    }
   ],
   "source": [
    "X_train.shape"
   ]
  },
  {
   "cell_type": "markdown",
   "id": "513f6f9e",
   "metadata": {},
   "source": [
    "#### \n",
    "### 모델 출력(label) 갯수 확인"
   ]
  },
  {
   "cell_type": "code",
   "execution_count": 28,
   "id": "e7e12107",
   "metadata": {},
   "outputs": [
    {
     "data": {
      "text/plain": [
       "(5469,)"
      ]
     },
     "execution_count": 28,
     "metadata": {},
     "output_type": "execute_result"
    }
   ],
   "source": [
    "y_train.shape"
   ]
  },
  {
   "cell_type": "markdown",
   "id": "9c16e092",
   "metadata": {},
   "source": [
    "###  \n",
    "## 1) DNN"
   ]
  },
  {
   "cell_type": "markdown",
   "id": "8ee90d94",
   "metadata": {},
   "source": [
    "#### \n",
    "#### A. 이진 분류용 DNN layer\n",
    "+ 18개 input layer\n",
    "+ unit 4개 hidden layer\n",
    "+ unit 3개 hidden layer \n",
    "+ 1개 output layser : 이진분류"
   ]
  },
  {
   "cell_type": "markdown",
   "id": "0983c025",
   "metadata": {},
   "source": [
    "![hidden Layer](https://github.com/gzone2000/TEMP_TEST/raw/master/hidden_layer1.PNG)\n",
    "+ [출처] https://subscription.packtpub.com/book/data/9781788995207/1/ch01lvl1sec03/deep-learning-intuition"
   ]
  },
  {
   "cell_type": "markdown",
   "id": "41eb4234",
   "metadata": {},
   "source": [
    "##### <font color=blue> **[문제] 요구사항대로 Sequential 모델을 만들어 보세요.** </font>"
   ]
  },
  {
   "cell_type": "code",
   "execution_count": 29,
   "id": "862f0ae8",
   "metadata": {},
   "outputs": [],
   "source": [
    "# Sequential() 모델 정의 하고 model로 저장\n",
    "# input layer는 input_shape=() 옵션을 사용한다.\n",
    "# 18개 input layer\n",
    "# unit 4개 hidden layer\n",
    "# unit 3개 hidden layer \n",
    "# 1개 output layser : 이진분류\n",
    "\n",
    "model = Sequential()\n",
    "model.add(Dense(4, activation='relu', input_shape=(18,)))\n",
    "model.add(Dense(3, activation='relu'))\n",
    "model.add(Dense(1, activation='sigmoid'))"
   ]
  },
  {
   "cell_type": "markdown",
   "id": "cdf66226",
   "metadata": {},
   "source": [
    "#### 모델 확인"
   ]
  },
  {
   "cell_type": "code",
   "execution_count": 30,
   "id": "08bb712e",
   "metadata": {},
   "outputs": [
    {
     "name": "stdout",
     "output_type": "stream",
     "text": [
      "Model: \"sequential\"\n",
      "_________________________________________________________________\n",
      " Layer (type)                Output Shape              Param #   \n",
      "=================================================================\n",
      " dense (Dense)               (None, 4)                 76        \n",
      "                                                                 \n",
      " dense_1 (Dense)             (None, 3)                 15        \n",
      "                                                                 \n",
      " dense_2 (Dense)             (None, 1)                 4         \n",
      "                                                                 \n",
      "=================================================================\n",
      "Total params: 95\n",
      "Trainable params: 95\n",
      "Non-trainable params: 0\n",
      "_________________________________________________________________\n"
     ]
    }
   ],
   "source": [
    "model.summary()"
   ]
  },
  {
   "cell_type": "markdown",
   "id": "2e14d7df",
   "metadata": {},
   "source": [
    "+ Dropout : 과적합 방지"
   ]
  },
  {
   "cell_type": "markdown",
   "id": "482e7475",
   "metadata": {},
   "source": [
    "![dropout](https://github.com/gzone2000/TEMP_TEST/raw/master/dropout.PNG)\n",
    "+ [출처] https://medium.com/@amarbudhiraja/https-medium-com-amarbudhiraja-learning-less-to-learn-better-dropout-in-deep-machine-learning-74334da4bfc5"
   ]
  },
  {
   "cell_type": "code",
   "execution_count": 31,
   "id": "9185ee7d",
   "metadata": {},
   "outputs": [],
   "source": [
    "model = Sequential()\n",
    "model.add(Dense(4, activation='relu', input_shape=(18,)))\n",
    "model.add(Dropout(0.3))\n",
    "model.add(Dense(3, activation='relu'))\n",
    "model.add(Dropout(0.3))\n",
    "model.add(Dense(1, activation='sigmoid'))"
   ]
  },
  {
   "cell_type": "markdown",
   "id": "50475304",
   "metadata": {},
   "source": [
    "#### \n",
    "### 과적합 방지 모델 확인"
   ]
  },
  {
   "cell_type": "code",
   "execution_count": 32,
   "id": "3724f7ae",
   "metadata": {},
   "outputs": [
    {
     "name": "stdout",
     "output_type": "stream",
     "text": [
      "Model: \"sequential_1\"\n",
      "_________________________________________________________________\n",
      " Layer (type)                Output Shape              Param #   \n",
      "=================================================================\n",
      " dense_3 (Dense)             (None, 4)                 76        \n",
      "                                                                 \n",
      " dropout (Dropout)           (None, 4)                 0         \n",
      "                                                                 \n",
      " dense_4 (Dense)             (None, 3)                 15        \n",
      "                                                                 \n",
      " dropout_1 (Dropout)         (None, 3)                 0         \n",
      "                                                                 \n",
      " dense_5 (Dense)             (None, 1)                 4         \n",
      "                                                                 \n",
      "=================================================================\n",
      "Total params: 95\n",
      "Trainable params: 95\n",
      "Non-trainable params: 0\n",
      "_________________________________________________________________\n"
     ]
    }
   ],
   "source": [
    "model.summary()"
   ]
  },
  {
   "cell_type": "markdown",
   "id": "9b522f4a",
   "metadata": {},
   "source": [
    "#### 모델 컴파일 – 이진 분류 모델"
   ]
  },
  {
   "cell_type": "code",
   "execution_count": 33,
   "id": "375c141f",
   "metadata": {},
   "outputs": [],
   "source": [
    "model.compile(optimizer='adam', \n",
    "              loss='binary_crossentropy', \n",
    "              metrics=['accuracy']) "
   ]
  },
  {
   "cell_type": "markdown",
   "id": "92fa2e0c",
   "metadata": {},
   "source": [
    "#### 모델 컴파일 – 이진 분류 모델"
   ]
  },
  {
   "cell_type": "code",
   "execution_count": 34,
   "id": "b518582b",
   "metadata": {},
   "outputs": [],
   "source": [
    "model.compile(optimizer='adam', \n",
    "              loss='binary_crossentropy', \n",
    "              metrics=['accuracy']) "
   ]
  },
  {
   "cell_type": "markdown",
   "id": "3e501d2b",
   "metadata": {},
   "source": [
    "- 모델 컴파일 – 다중 분류 모델 (Y값을 One-Hot-Encoding 한경우) <br>\n",
    "model.compile(optimizer='adam', \n",
    "              loss='categorical_crossentropy', \n",
    "              metrics=['accuracy']) "
   ]
  },
  {
   "cell_type": "markdown",
   "id": "83542054",
   "metadata": {},
   "source": [
    "- 모델 컴파일 – 다중 분류 모델  (Y값을 One-Hot-Encoding 하지 않은 경우) <br>\n",
    "model.compile(optimizer='adam', \n",
    "              loss='sparse_categorical_crossentropy', \n",
    "              metrics=['accuracy'])"
   ]
  },
  {
   "cell_type": "markdown",
   "id": "4048f02e",
   "metadata": {},
   "source": [
    "- 모델 컴파일 – 예측 모델\n",
    "model.compile(optimizer='adam', loss='mse')"
   ]
  },
  {
   "cell_type": "markdown",
   "id": "ae2e5539",
   "metadata": {},
   "source": [
    "#### 모델 훈련(학습) 하기"
   ]
  },
  {
   "cell_type": "markdown",
   "id": "ffbd610f",
   "metadata": {},
   "source": [
    "##### <font color=blue> **[문제] 요구사항대로 DNN 모델을 학습시키세요.** </font>\n",
    "+ 모델 이름 : model\n",
    "+ epoch : 10번\n",
    "+ batch_size : 10번"
   ]
  },
  {
   "cell_type": "code",
   "execution_count": 35,
   "id": "1cb40843",
   "metadata": {},
   "outputs": [
    {
     "name": "stdout",
     "output_type": "stream",
     "text": [
      "Epoch 1/10\n",
      "547/547 [==============================] - 2s 2ms/step - loss: 0.4173 - accuracy: 0.8991 - val_loss: 0.3125 - val_accuracy: 0.8994\n",
      "Epoch 2/10\n",
      "547/547 [==============================] - 1s 2ms/step - loss: 0.3444 - accuracy: 0.8996 - val_loss: 0.2988 - val_accuracy: 0.8994\n",
      "Epoch 3/10\n",
      "547/547 [==============================] - 1s 2ms/step - loss: 0.3196 - accuracy: 0.8996 - val_loss: 0.2839 - val_accuracy: 0.8994\n",
      "Epoch 4/10\n",
      "547/547 [==============================] - 1s 2ms/step - loss: 0.3041 - accuracy: 0.8996 - val_loss: 0.2638 - val_accuracy: 0.8994\n",
      "Epoch 5/10\n",
      "547/547 [==============================] - 1s 2ms/step - loss: 0.2838 - accuracy: 0.8996 - val_loss: 0.2491 - val_accuracy: 0.8994\n",
      "Epoch 6/10\n",
      "547/547 [==============================] - 1s 1ms/step - loss: 0.2709 - accuracy: 0.8996 - val_loss: 0.2334 - val_accuracy: 0.8994\n",
      "Epoch 7/10\n",
      "547/547 [==============================] - 1s 2ms/step - loss: 0.2547 - accuracy: 0.8996 - val_loss: 0.2210 - val_accuracy: 0.8994\n",
      "Epoch 8/10\n",
      "547/547 [==============================] - 1s 1ms/step - loss: 0.2433 - accuracy: 0.8996 - val_loss: 0.2053 - val_accuracy: 0.8994\n",
      "Epoch 9/10\n",
      "547/547 [==============================] - 1s 2ms/step - loss: 0.2365 - accuracy: 0.8996 - val_loss: 0.1958 - val_accuracy: 0.8994\n",
      "Epoch 10/10\n",
      "547/547 [==============================] - 1s 2ms/step - loss: 0.2288 - accuracy: 0.8996 - val_loss: 0.1896 - val_accuracy: 0.8994\n"
     ]
    },
    {
     "data": {
      "text/plain": [
       "<keras.callbacks.History at 0x273400f5640>"
      ]
     },
     "execution_count": 35,
     "metadata": {},
     "output_type": "execute_result"
    }
   ],
   "source": [
    "# 앞쪽에서 정의된 모델 이름 : model\n",
    "# Sequential 모델의 fit() 함수 사용\n",
    "# @인자\n",
    "### X, y : X_train, y_train\n",
    "### validation_data=(X_test, y_test)\n",
    "### epochs 10번\n",
    "### batch_size 10번\n",
    "\n",
    "\n",
    "model.fit(X_train, y_train, \n",
    "          validation_data=(X_test, y_test),\n",
    "          epochs=10, \n",
    "          batch_size=10)"
   ]
  },
  {
   "cell_type": "markdown",
   "id": "40738f6a",
   "metadata": {},
   "source": [
    "#### \n",
    "#### B. 다중 분류용 DNN layer\n",
    "+ 18개 input layer\n",
    "+ unit 5개 hidden layer\n",
    "+ dropout\n",
    "+ unit 4개 hidden layer \n",
    "+ dropout\n",
    "+ 2개 output layser : 이진분류"
   ]
  },
  {
   "cell_type": "markdown",
   "id": "eae3f447",
   "metadata": {},
   "source": [
    "![다중분류](https://github.com/gzone2000/TEMP_TEST/raw/master/hidden_layer2.PNG)\n",
    "+ [출처] https://www.educba.com/dnn-neural-network/"
   ]
  },
  {
   "cell_type": "code",
   "execution_count": 36,
   "id": "29ab1928",
   "metadata": {},
   "outputs": [],
   "source": [
    "# 18개 input layer\n",
    "# unit 5개 hidden layer\n",
    "# dropout\n",
    "# unit 4개 hidden layer \n",
    "# dropout\n",
    "# 2개 output layser : 다중분류\n",
    "\n",
    "model = Sequential()\n",
    "model.add(Dense(5, activation='relu', input_shape=(18,)))\n",
    "model.add(Dropout(0.3))\n",
    "model.add(Dense(4, activation='relu'))\n",
    "model.add(Dropout(0.3))\n",
    "model.add(Dense(2, activation='softmax'))"
   ]
  },
  {
   "cell_type": "markdown",
   "id": "f44ee35a",
   "metadata": {},
   "source": [
    "#### \n",
    "### 모델 확인"
   ]
  },
  {
   "cell_type": "code",
   "execution_count": 37,
   "id": "52fb6939",
   "metadata": {},
   "outputs": [
    {
     "name": "stdout",
     "output_type": "stream",
     "text": [
      "Model: \"sequential_2\"\n",
      "_________________________________________________________________\n",
      " Layer (type)                Output Shape              Param #   \n",
      "=================================================================\n",
      " dense_6 (Dense)             (None, 5)                 95        \n",
      "                                                                 \n",
      " dropout_2 (Dropout)         (None, 5)                 0         \n",
      "                                                                 \n",
      " dense_7 (Dense)             (None, 4)                 24        \n",
      "                                                                 \n",
      " dropout_3 (Dropout)         (None, 4)                 0         \n",
      "                                                                 \n",
      " dense_8 (Dense)             (None, 2)                 10        \n",
      "                                                                 \n",
      "=================================================================\n",
      "Total params: 129\n",
      "Trainable params: 129\n",
      "Non-trainable params: 0\n",
      "_________________________________________________________________\n"
     ]
    }
   ],
   "source": [
    "model.summary()"
   ]
  },
  {
   "cell_type": "markdown",
   "id": "ae545528",
   "metadata": {},
   "source": [
    "#### 모델 컴파일 – 다중 분류 모델"
   ]
  },
  {
   "cell_type": "code",
   "execution_count": 38,
   "id": "85260775",
   "metadata": {},
   "outputs": [],
   "source": [
    "model.compile(optimizer='adam', \n",
    "              loss='sparse_categorical_crossentropy', \n",
    "              metrics=['accuracy']) "
   ]
  },
  {
   "cell_type": "markdown",
   "id": "ab170dd6",
   "metadata": {},
   "source": [
    "#### 모델 훈련(학습) 하기"
   ]
  },
  {
   "cell_type": "code",
   "execution_count": 39,
   "id": "23d46075",
   "metadata": {},
   "outputs": [
    {
     "name": "stdout",
     "output_type": "stream",
     "text": [
      "Epoch 1/20\n",
      "342/342 [==============================] - 2s 2ms/step - loss: 0.4153 - accuracy: 0.8945 - val_loss: 0.2868 - val_accuracy: 0.8994\n",
      "Epoch 2/20\n",
      "342/342 [==============================] - 0s 1ms/step - loss: 0.3149 - accuracy: 0.8996 - val_loss: 0.2660 - val_accuracy: 0.8994\n",
      "Epoch 3/20\n",
      "342/342 [==============================] - 1s 2ms/step - loss: 0.2914 - accuracy: 0.8996 - val_loss: 0.2528 - val_accuracy: 0.8994\n",
      "Epoch 4/20\n",
      "342/342 [==============================] - 0s 1ms/step - loss: 0.2829 - accuracy: 0.8996 - val_loss: 0.2426 - val_accuracy: 0.8994\n",
      "Epoch 5/20\n",
      "342/342 [==============================] - 1s 2ms/step - loss: 0.2633 - accuracy: 0.8996 - val_loss: 0.2315 - val_accuracy: 0.8994\n",
      "Epoch 6/20\n",
      "342/342 [==============================] - 1s 2ms/step - loss: 0.2573 - accuracy: 0.8996 - val_loss: 0.2212 - val_accuracy: 0.8994\n",
      "Epoch 7/20\n",
      "342/342 [==============================] - 1s 2ms/step - loss: 0.2437 - accuracy: 0.8996 - val_loss: 0.2114 - val_accuracy: 0.8994\n",
      "Epoch 8/20\n",
      "342/342 [==============================] - 1s 2ms/step - loss: 0.2377 - accuracy: 0.8996 - val_loss: 0.2043 - val_accuracy: 0.8994\n",
      "Epoch 9/20\n",
      "342/342 [==============================] - 1s 2ms/step - loss: 0.2265 - accuracy: 0.8996 - val_loss: 0.1931 - val_accuracy: 0.8994\n",
      "Epoch 10/20\n",
      "342/342 [==============================] - 1s 2ms/step - loss: 0.2221 - accuracy: 0.8996 - val_loss: 0.1856 - val_accuracy: 0.8994\n",
      "Epoch 11/20\n",
      "342/342 [==============================] - 1s 1ms/step - loss: 0.2168 - accuracy: 0.8996 - val_loss: 0.1801 - val_accuracy: 0.8994\n",
      "Epoch 12/20\n",
      "342/342 [==============================] - 1s 2ms/step - loss: 0.2097 - accuracy: 0.8996 - val_loss: 0.1716 - val_accuracy: 0.8994\n",
      "Epoch 13/20\n",
      "342/342 [==============================] - 1s 2ms/step - loss: 0.2003 - accuracy: 0.8996 - val_loss: 0.1629 - val_accuracy: 0.8994\n",
      "Epoch 14/20\n",
      "342/342 [==============================] - 1s 2ms/step - loss: 0.2029 - accuracy: 0.8996 - val_loss: 0.1604 - val_accuracy: 0.8994\n",
      "Epoch 15/20\n",
      "342/342 [==============================] - 1s 2ms/step - loss: 0.1950 - accuracy: 0.8996 - val_loss: 0.1559 - val_accuracy: 0.8994\n",
      "Epoch 16/20\n",
      "342/342 [==============================] - 0s 1ms/step - loss: 0.1929 - accuracy: 0.8996 - val_loss: 0.1557 - val_accuracy: 0.8994\n",
      "Epoch 17/20\n",
      "342/342 [==============================] - 1s 2ms/step - loss: 0.1901 - accuracy: 0.8996 - val_loss: 0.1485 - val_accuracy: 0.8994\n",
      "Epoch 18/20\n",
      "342/342 [==============================] - 1s 2ms/step - loss: 0.1835 - accuracy: 0.8996 - val_loss: 0.1442 - val_accuracy: 0.8994\n",
      "Epoch 19/20\n",
      "342/342 [==============================] - 1s 2ms/step - loss: 0.1926 - accuracy: 0.8996 - val_loss: 0.1443 - val_accuracy: 0.8994\n",
      "Epoch 20/20\n",
      "342/342 [==============================] - 1s 2ms/step - loss: 0.1810 - accuracy: 0.8996 - val_loss: 0.1429 - val_accuracy: 0.8994\n"
     ]
    }
   ],
   "source": [
    "history = model.fit(X_train, y_train, \n",
    "          validation_data=(X_test, y_test),\n",
    "          epochs=20, \n",
    "          batch_size=16)"
   ]
  },
  {
   "cell_type": "markdown",
   "id": "3e79f403",
   "metadata": {},
   "source": [
    "#### \n",
    "### Callback : 조기종료, 모델 저장"
   ]
  },
  {
   "cell_type": "code",
   "execution_count": 40,
   "id": "ee046f45",
   "metadata": {},
   "outputs": [],
   "source": [
    "from tensorflow.keras.callbacks import EarlyStopping, ModelCheckpoint"
   ]
  },
  {
   "cell_type": "code",
   "execution_count": 41,
   "id": "68c5d7eb",
   "metadata": {},
   "outputs": [],
   "source": [
    "early_stop = EarlyStopping(monitor='val_loss', mode='min', \n",
    "                           verbose=1, patience=5)"
   ]
  },
  {
   "cell_type": "code",
   "execution_count": 42,
   "id": "8ed4241d",
   "metadata": {},
   "outputs": [],
   "source": [
    "check_point = ModelCheckpoint('best_model.h5', verbose=1,\n",
    "                              monitor='val_loss', mode='min', \n",
    "                              save_best_only=True)"
   ]
  },
  {
   "cell_type": "markdown",
   "id": "aaed2dea",
   "metadata": {},
   "source": [
    "#### \n",
    "### 모델 학습"
   ]
  },
  {
   "cell_type": "code",
   "execution_count": 43,
   "id": "4b93833e",
   "metadata": {},
   "outputs": [
    {
     "name": "stdout",
     "output_type": "stream",
     "text": [
      "Epoch 1/50\n",
      "258/274 [===========================>..] - ETA: 0s - loss: 0.1831 - accuracy: 0.8988\n",
      "Epoch 1: val_loss improved from inf to 0.13845, saving model to best_model.h5\n",
      "274/274 [==============================] - 1s 2ms/step - loss: 0.1833 - accuracy: 0.8996 - val_loss: 0.1384 - val_accuracy: 0.8994\n",
      "Epoch 2/50\n",
      "267/274 [============================>.] - ETA: 0s - loss: 0.1820 - accuracy: 0.8991\n",
      "Epoch 2: val_loss improved from 0.13845 to 0.13704, saving model to best_model.h5\n",
      "274/274 [==============================] - 0s 2ms/step - loss: 0.1807 - accuracy: 0.8996 - val_loss: 0.1370 - val_accuracy: 0.8994\n",
      "Epoch 3/50\n",
      "233/274 [========================>.....] - ETA: 0s - loss: 0.1762 - accuracy: 0.9013\n",
      "Epoch 3: val_loss improved from 0.13704 to 0.13540, saving model to best_model.h5\n",
      "274/274 [==============================] - 1s 2ms/step - loss: 0.1788 - accuracy: 0.8996 - val_loss: 0.1354 - val_accuracy: 0.8994\n",
      "Epoch 4/50\n",
      "240/274 [=========================>....] - ETA: 0s - loss: 0.1854 - accuracy: 0.9058\n",
      "Epoch 4: val_loss improved from 0.13540 to 0.13293, saving model to best_model.h5\n",
      "274/274 [==============================] - 1s 2ms/step - loss: 0.1833 - accuracy: 0.9073 - val_loss: 0.1329 - val_accuracy: 0.9603\n",
      "Epoch 5/50\n",
      "273/274 [============================>.] - ETA: 0s - loss: 0.1689 - accuracy: 0.9359\n",
      "Epoch 5: val_loss improved from 0.13293 to 0.13074, saving model to best_model.h5\n",
      "274/274 [==============================] - 0s 2ms/step - loss: 0.1686 - accuracy: 0.9360 - val_loss: 0.1307 - val_accuracy: 0.9684\n",
      "Epoch 6/50\n",
      "245/274 [=========================>....] - ETA: 0s - loss: 0.1702 - accuracy: 0.9427\n",
      "Epoch 6: val_loss improved from 0.13074 to 0.12797, saving model to best_model.h5\n",
      "274/274 [==============================] - 1s 2ms/step - loss: 0.1712 - accuracy: 0.9422 - val_loss: 0.1280 - val_accuracy: 0.9719\n",
      "Epoch 7/50\n",
      "269/274 [============================>.] - ETA: 0s - loss: 0.1663 - accuracy: 0.9375\n",
      "Epoch 7: val_loss improved from 0.12797 to 0.12752, saving model to best_model.h5\n",
      "274/274 [==============================] - 0s 2ms/step - loss: 0.1663 - accuracy: 0.9375 - val_loss: 0.1275 - val_accuracy: 0.9727\n",
      "Epoch 8/50\n",
      "256/274 [===========================>..] - ETA: 0s - loss: 0.1678 - accuracy: 0.9436\n",
      "Epoch 8: val_loss improved from 0.12752 to 0.12569, saving model to best_model.h5\n",
      "274/274 [==============================] - 0s 2ms/step - loss: 0.1667 - accuracy: 0.9446 - val_loss: 0.1257 - val_accuracy: 0.9719\n",
      "Epoch 9/50\n",
      "235/274 [========================>.....] - ETA: 0s - loss: 0.1591 - accuracy: 0.9438\n",
      "Epoch 9: val_loss did not improve from 0.12569\n",
      "274/274 [==============================] - 0s 2ms/step - loss: 0.1654 - accuracy: 0.9437 - val_loss: 0.1278 - val_accuracy: 0.9727\n",
      "Epoch 10/50\n",
      "256/274 [===========================>..] - ETA: 0s - loss: 0.1630 - accuracy: 0.9438\n",
      "Epoch 10: val_loss improved from 0.12569 to 0.12448, saving model to best_model.h5\n",
      "274/274 [==============================] - 0s 1ms/step - loss: 0.1659 - accuracy: 0.9428 - val_loss: 0.1245 - val_accuracy: 0.9723\n",
      "Epoch 11/50\n",
      "241/274 [=========================>....] - ETA: 0s - loss: 0.1610 - accuracy: 0.9425\n",
      "Epoch 11: val_loss improved from 0.12448 to 0.12272, saving model to best_model.h5\n",
      "274/274 [==============================] - 1s 2ms/step - loss: 0.1578 - accuracy: 0.9450 - val_loss: 0.1227 - val_accuracy: 0.9723\n",
      "Epoch 12/50\n",
      "232/274 [========================>.....] - ETA: 0s - loss: 0.1712 - accuracy: 0.9409\n",
      "Epoch 12: val_loss improved from 0.12272 to 0.12158, saving model to best_model.h5\n",
      "274/274 [==============================] - 0s 2ms/step - loss: 0.1679 - accuracy: 0.9430 - val_loss: 0.1216 - val_accuracy: 0.9744\n",
      "Epoch 13/50\n",
      "273/274 [============================>.] - ETA: 0s - loss: 0.1663 - accuracy: 0.9447\n",
      "Epoch 13: val_loss improved from 0.12158 to 0.12054, saving model to best_model.h5\n",
      "274/274 [==============================] - 1s 2ms/step - loss: 0.1662 - accuracy: 0.9448 - val_loss: 0.1205 - val_accuracy: 0.9731\n",
      "Epoch 14/50\n",
      "250/274 [==========================>...] - ETA: 0s - loss: 0.1647 - accuracy: 0.9448\n",
      "Epoch 14: val_loss did not improve from 0.12054\n",
      "274/274 [==============================] - 0s 1ms/step - loss: 0.1680 - accuracy: 0.9440 - val_loss: 0.1223 - val_accuracy: 0.9744\n",
      "Epoch 15/50\n",
      "270/274 [============================>.] - ETA: 0s - loss: 0.1596 - accuracy: 0.9437\n",
      "Epoch 15: val_loss improved from 0.12054 to 0.12027, saving model to best_model.h5\n",
      "274/274 [==============================] - 1s 2ms/step - loss: 0.1604 - accuracy: 0.9435 - val_loss: 0.1203 - val_accuracy: 0.9748\n",
      "Epoch 16/50\n",
      "265/274 [============================>.] - ETA: 0s - loss: 0.1594 - accuracy: 0.9443\n",
      "Epoch 16: val_loss improved from 0.12027 to 0.11903, saving model to best_model.h5\n",
      "274/274 [==============================] - 0s 2ms/step - loss: 0.1592 - accuracy: 0.9442 - val_loss: 0.1190 - val_accuracy: 0.9731\n",
      "Epoch 17/50\n",
      "239/274 [=========================>....] - ETA: 0s - loss: 0.1655 - accuracy: 0.9439\n",
      "Epoch 17: val_loss improved from 0.11903 to 0.11870, saving model to best_model.h5\n",
      "274/274 [==============================] - 1s 2ms/step - loss: 0.1618 - accuracy: 0.9448 - val_loss: 0.1187 - val_accuracy: 0.9740\n",
      "Epoch 18/50\n",
      "250/274 [==========================>...] - ETA: 0s - loss: 0.1610 - accuracy: 0.9492\n",
      "Epoch 18: val_loss improved from 0.11870 to 0.11836, saving model to best_model.h5\n",
      "274/274 [==============================] - 0s 2ms/step - loss: 0.1575 - accuracy: 0.9503 - val_loss: 0.1184 - val_accuracy: 0.9731\n",
      "Epoch 19/50\n",
      "243/274 [=========================>....] - ETA: 0s - loss: 0.1550 - accuracy: 0.9471\n",
      "Epoch 19: val_loss did not improve from 0.11836\n",
      "274/274 [==============================] - 0s 2ms/step - loss: 0.1565 - accuracy: 0.9453 - val_loss: 0.1193 - val_accuracy: 0.9744\n",
      "Epoch 20/50\n",
      "228/274 [=======================>......] - ETA: 0s - loss: 0.1582 - accuracy: 0.9447\n",
      "Epoch 20: val_loss did not improve from 0.11836\n",
      "274/274 [==============================] - 0s 2ms/step - loss: 0.1609 - accuracy: 0.9448 - val_loss: 0.1186 - val_accuracy: 0.9740\n",
      "Epoch 21/50\n",
      "268/274 [============================>.] - ETA: 0s - loss: 0.1642 - accuracy: 0.9407\n",
      "Epoch 21: val_loss did not improve from 0.11836\n",
      "274/274 [==============================] - 0s 2ms/step - loss: 0.1632 - accuracy: 0.9408 - val_loss: 0.1186 - val_accuracy: 0.9731\n",
      "Epoch 22/50\n",
      "254/274 [==========================>...] - ETA: 0s - loss: 0.1596 - accuracy: 0.9435\n",
      "Epoch 22: val_loss improved from 0.11836 to 0.11819, saving model to best_model.h5\n",
      "274/274 [==============================] - 0s 2ms/step - loss: 0.1583 - accuracy: 0.9440 - val_loss: 0.1182 - val_accuracy: 0.9740\n",
      "Epoch 23/50\n",
      "267/274 [============================>.] - ETA: 0s - loss: 0.1660 - accuracy: 0.9446\n",
      "Epoch 23: val_loss did not improve from 0.11819\n",
      "274/274 [==============================] - 0s 2ms/step - loss: 0.1656 - accuracy: 0.9444 - val_loss: 0.1204 - val_accuracy: 0.9740\n",
      "Epoch 24/50\n",
      "241/274 [=========================>....] - ETA: 0s - loss: 0.1583 - accuracy: 0.9432\n",
      "Epoch 24: val_loss improved from 0.11819 to 0.11783, saving model to best_model.h5\n",
      "274/274 [==============================] - 0s 2ms/step - loss: 0.1571 - accuracy: 0.9420 - val_loss: 0.1178 - val_accuracy: 0.9740\n",
      "Epoch 25/50\n",
      "246/274 [=========================>....] - ETA: 0s - loss: 0.1674 - accuracy: 0.9467\n",
      "Epoch 25: val_loss did not improve from 0.11783\n",
      "274/274 [==============================] - 0s 2ms/step - loss: 0.1630 - accuracy: 0.9479 - val_loss: 0.1202 - val_accuracy: 0.9757\n",
      "Epoch 26/50\n",
      "274/274 [==============================] - ETA: 0s - loss: 0.1757 - accuracy: 0.9444\n",
      "Epoch 26: val_loss did not improve from 0.11783\n",
      "274/274 [==============================] - 1s 2ms/step - loss: 0.1757 - accuracy: 0.9444 - val_loss: 0.1218 - val_accuracy: 0.9740\n",
      "Epoch 27/50\n",
      "271/274 [============================>.] - ETA: 0s - loss: 0.1650 - accuracy: 0.9450\n",
      "Epoch 27: val_loss did not improve from 0.11783\n",
      "274/274 [==============================] - 1s 2ms/step - loss: 0.1646 - accuracy: 0.9451 - val_loss: 0.1194 - val_accuracy: 0.9736\n",
      "Epoch 28/50\n",
      "249/274 [==========================>...] - ETA: 0s - loss: 0.1577 - accuracy: 0.9466\n",
      "Epoch 28: val_loss did not improve from 0.11783\n"
     ]
    },
    {
     "name": "stdout",
     "output_type": "stream",
     "text": [
      "274/274 [==============================] - 1s 2ms/step - loss: 0.1552 - accuracy: 0.9468 - val_loss: 0.1194 - val_accuracy: 0.9727\n",
      "Epoch 29/50\n",
      "258/274 [===========================>..] - ETA: 0s - loss: 0.1519 - accuracy: 0.9467\n",
      "Epoch 29: val_loss improved from 0.11783 to 0.11733, saving model to best_model.h5\n",
      "274/274 [==============================] - 0s 2ms/step - loss: 0.1534 - accuracy: 0.9457 - val_loss: 0.1173 - val_accuracy: 0.9736\n",
      "Epoch 30/50\n",
      "273/274 [============================>.] - ETA: 0s - loss: 0.1514 - accuracy: 0.9465\n",
      "Epoch 30: val_loss did not improve from 0.11733\n",
      "274/274 [==============================] - 1s 2ms/step - loss: 0.1513 - accuracy: 0.9466 - val_loss: 0.1175 - val_accuracy: 0.9748\n",
      "Epoch 31/50\n",
      "269/274 [============================>.] - ETA: 0s - loss: 0.1680 - accuracy: 0.9396\n",
      "Epoch 31: val_loss did not improve from 0.11733\n",
      "274/274 [==============================] - 0s 2ms/step - loss: 0.1669 - accuracy: 0.9400 - val_loss: 0.1194 - val_accuracy: 0.9744\n",
      "Epoch 32/50\n",
      "246/274 [=========================>....] - ETA: 0s - loss: 0.1612 - accuracy: 0.9467\n",
      "Epoch 32: val_loss did not improve from 0.11733\n",
      "274/274 [==============================] - 1s 2ms/step - loss: 0.1623 - accuracy: 0.9466 - val_loss: 0.1187 - val_accuracy: 0.9753\n",
      "Epoch 33/50\n",
      "267/274 [============================>.] - ETA: 0s - loss: 0.1635 - accuracy: 0.9401\n",
      "Epoch 33: val_loss did not improve from 0.11733\n",
      "274/274 [==============================] - 0s 2ms/step - loss: 0.1621 - accuracy: 0.9404 - val_loss: 0.1175 - val_accuracy: 0.9748\n",
      "Epoch 34/50\n",
      "258/274 [===========================>..] - ETA: 0s - loss: 0.1550 - accuracy: 0.9452\n",
      "Epoch 34: val_loss did not improve from 0.11733\n",
      "274/274 [==============================] - 1s 2ms/step - loss: 0.1570 - accuracy: 0.9446 - val_loss: 0.1176 - val_accuracy: 0.9740\n",
      "Epoch 34: early stopping\n"
     ]
    }
   ],
   "source": [
    "history = model.fit(x=X_train, y=y_train, \n",
    "          epochs=50 , batch_size=20,\n",
    "          validation_data=(X_test, y_test), \n",
    "          verbose=1,\n",
    "          callbacks=[early_stop, check_point])"
   ]
  },
  {
   "cell_type": "markdown",
   "id": "035f080a",
   "metadata": {},
   "source": [
    "## ⑧ 모델 성능 평가"
   ]
  },
  {
   "cell_type": "code",
   "execution_count": 44,
   "id": "3cd82827",
   "metadata": {},
   "outputs": [],
   "source": [
    "losses = pd.DataFrame(model.history.history)"
   ]
  },
  {
   "cell_type": "code",
   "execution_count": 45,
   "id": "dbb366d6",
   "metadata": {
    "scrolled": true
   },
   "outputs": [
    {
     "data": {
      "text/html": [
       "<div>\n",
       "<style scoped>\n",
       "    .dataframe tbody tr th:only-of-type {\n",
       "        vertical-align: middle;\n",
       "    }\n",
       "\n",
       "    .dataframe tbody tr th {\n",
       "        vertical-align: top;\n",
       "    }\n",
       "\n",
       "    .dataframe thead th {\n",
       "        text-align: right;\n",
       "    }\n",
       "</style>\n",
       "<table border=\"1\" class=\"dataframe\">\n",
       "  <thead>\n",
       "    <tr style=\"text-align: right;\">\n",
       "      <th></th>\n",
       "      <th>loss</th>\n",
       "      <th>accuracy</th>\n",
       "      <th>val_loss</th>\n",
       "      <th>val_accuracy</th>\n",
       "    </tr>\n",
       "  </thead>\n",
       "  <tbody>\n",
       "    <tr>\n",
       "      <th>0</th>\n",
       "      <td>0.183293</td>\n",
       "      <td>0.899616</td>\n",
       "      <td>0.138447</td>\n",
       "      <td>0.899360</td>\n",
       "    </tr>\n",
       "    <tr>\n",
       "      <th>1</th>\n",
       "      <td>0.180710</td>\n",
       "      <td>0.899616</td>\n",
       "      <td>0.137039</td>\n",
       "      <td>0.899360</td>\n",
       "    </tr>\n",
       "    <tr>\n",
       "      <th>2</th>\n",
       "      <td>0.178801</td>\n",
       "      <td>0.899616</td>\n",
       "      <td>0.135403</td>\n",
       "      <td>0.899360</td>\n",
       "    </tr>\n",
       "    <tr>\n",
       "      <th>3</th>\n",
       "      <td>0.183290</td>\n",
       "      <td>0.907296</td>\n",
       "      <td>0.132933</td>\n",
       "      <td>0.960341</td>\n",
       "    </tr>\n",
       "    <tr>\n",
       "      <th>4</th>\n",
       "      <td>0.168623</td>\n",
       "      <td>0.936003</td>\n",
       "      <td>0.130740</td>\n",
       "      <td>0.968444</td>\n",
       "    </tr>\n",
       "  </tbody>\n",
       "</table>\n",
       "</div>"
      ],
      "text/plain": [
       "       loss  accuracy  val_loss  val_accuracy\n",
       "0  0.183293  0.899616  0.138447      0.899360\n",
       "1  0.180710  0.899616  0.137039      0.899360\n",
       "2  0.178801  0.899616  0.135403      0.899360\n",
       "3  0.183290  0.907296  0.132933      0.960341\n",
       "4  0.168623  0.936003  0.130740      0.968444"
      ]
     },
     "execution_count": 45,
     "metadata": {},
     "output_type": "execute_result"
    }
   ],
   "source": [
    "losses.head()"
   ]
  },
  {
   "cell_type": "markdown",
   "id": "57d47f84",
   "metadata": {},
   "source": [
    "+ 성능 시각화"
   ]
  },
  {
   "cell_type": "code",
   "execution_count": 46,
   "id": "3b1124a6",
   "metadata": {},
   "outputs": [
    {
     "data": {
      "text/plain": [
       "<AxesSubplot:>"
      ]
     },
     "execution_count": 46,
     "metadata": {},
     "output_type": "execute_result"
    },
    {
     "data": {
      "image/png": "[encoded data removed]",
      "text/plain": [
       "<Figure size 432x288 with 1 Axes>"
      ]
     },
     "metadata": {
      "needs_background": "light"
     },
     "output_type": "display_data"
    }
   ],
   "source": [
    "losses[['loss','val_loss']].plot()"
   ]
  },
  {
   "cell_type": "code",
   "execution_count": 48,
   "id": "73865ddd",
   "metadata": {},
   "outputs": [
    {
     "data": {
      "text/plain": [
       "<AxesSubplot:>"
      ]
     },
     "execution_count": 48,
     "metadata": {},
     "output_type": "execute_result"
    },
    {
     "data": {
      "image/png": "[encoded data removed]",
      "text/plain": [
       "<Figure size 432x288 with 1 Axes>"
      ]
     },
     "metadata": {
      "needs_background": "light"
     },
     "output_type": "display_data"
    }
   ],
   "source": [
    "losses[['loss','val_loss', 'accuracy','val_accuracy']].plot()"
   ]
  },
  {
   "cell_type": "code",
   "execution_count": 49,
   "id": "b27525c5",
   "metadata": {},
   "outputs": [
    {
     "data": {
      "image/png": "[encoded data removed]",
      "text/plain": [
       "<Figure size 432x288 with 1 Axes>"
      ]
     },
     "metadata": {
      "needs_background": "light"
     },
     "output_type": "display_data"
    }
   ],
   "source": [
    "plt.plot(history.history['accuracy'])\n",
    "plt.plot(history.history['val_accuracy'])\n",
    "plt.title('Accuracy')\n",
    "plt.xlabel('Epochs')\n",
    "plt.ylabel('Acc')\n",
    "plt.legend(['acc', 'val_acc'])\n",
    "plt.show()"
   ]
  },
  {
   "cell_type": "markdown",
   "id": "5d021821",
   "metadata": {},
   "source": [
    "## \n",
    "## 배운 내용 정리\n",
    "1. 딥러닝 심층신경망(DNN) 모델 프로세스\n",
    " + 데이터 가져오기\n",
    " + 데이터 전처리\n",
    " + Train, Test 데이터셋 분할\n",
    " + 데이터 정규화\n",
    " + DNN 딥러닝 모델"
   ]
  },
  {
   "cell_type": "markdown",
   "id": "0b93fe9c",
   "metadata": {},
   "source": [
    "---"
   ]
  },
  {
   "cell_type": "markdown",
   "id": "d4ceb867",
   "metadata": {},
   "source": [
    "###  \n",
    "## 2) CNN"
   ]
  },
  {
   "cell_type": "markdown",
   "id": "1c261144",
   "metadata": {},
   "source": [
    "![CNN](https://miro.medium.com/max/2000/1*vkQ0hXDaQv57sALXAJquxA.jpeg)\n",
    "+ [출처] https://towardsdatascience.com/a-comprehensive-guide-to-convolutional-neural-networks-the-eli5-way-3bd2b1164a53"
   ]
  },
  {
   "cell_type": "markdown",
   "id": "0e10db73",
   "metadata": {},
   "source": [
    "\n",
    "+ CNN은 이미지 처리에 높은 성능을 보여주고 있어 DNN에서 다뤄던 Tabular 형태의 데이터를 가지고 테스트 진행하기 어려워\n",
    "+ 따로 이미지 준비하여 CNN 실습을 진행하겠습니다."
   ]
  },
  {
   "cell_type": "markdown",
   "id": "28c77ce8",
   "metadata": {},
   "source": [
    "#### 업로드된 이미지 파일 가져오기"
   ]
  },
  {
   "cell_type": "code",
   "execution_count": 50,
   "id": "d6e7931a",
   "metadata": {},
   "outputs": [],
   "source": [
    "import os\n",
    "from glob import glob\n",
    "import tensorflow as tf"
   ]
  },
  {
   "cell_type": "code",
   "execution_count": null,
   "id": "02ba7bca",
   "metadata": {},
   "outputs": [],
   "source": [
    "# dataset-clean,dirty.zip 파일 확인\n",
    "FILENAME = 'dataset-clean_dirty.zip'\n",
    "glob(FILENAME)"
   ]
  },
  {
   "cell_type": "code",
   "execution_count": null,
   "id": "08182621",
   "metadata": {},
   "outputs": [],
   "source": [
    "# dataset-clean_dirty.zip 파일을 IMAGE 디렉토리로 복사 및 압축 풀기\n",
    "if not os.path.exists('IMAGE') :\n",
    "    !mkdir IMAGE\n",
    "    !cp dataset-clean_dirty.zip ./IMAGE\n",
    "    !cd IMAGE ; unzip dataset-clean_dirty.zip"
   ]
  },
  {
   "cell_type": "code",
   "execution_count": null,
   "id": "1a472c14",
   "metadata": {},
   "outputs": [],
   "source": [
    "# ./IMAGE/clean 폴더 안의 이미지 갯수\n",
    "!ls -l ./IMAGE/clean | grep jpg | wc -l"
   ]
  },
  {
   "cell_type": "code",
   "execution_count": null,
   "id": "61697073",
   "metadata": {},
   "outputs": [],
   "source": [
    "# ./IMAGE/clean 폴더 안의 이미지 갯수\n",
    "!ls -l ./IMAGE/dirty | grep jpg | wc -l"
   ]
  },
  {
   "cell_type": "markdown",
   "id": "5c12a0e5",
   "metadata": {},
   "source": [
    "#### 이미지 파일 하나 읽어 이미지 보기"
   ]
  },
  {
   "cell_type": "code",
   "execution_count": null,
   "id": "6a119587",
   "metadata": {},
   "outputs": [],
   "source": [
    "clean_img_path = './IMAGE/clean/plastic1.jpg'"
   ]
  },
  {
   "cell_type": "code",
   "execution_count": null,
   "id": "c212d4d4",
   "metadata": {},
   "outputs": [],
   "source": [
    "gfile = tf.io.read_file(clean_img_path)\n",
    "image = tf.io.decode_image(gfile, dtype=tf.float32)"
   ]
  },
  {
   "cell_type": "code",
   "execution_count": null,
   "id": "a961319f",
   "metadata": {},
   "outputs": [],
   "source": [
    "image.shape"
   ]
  },
  {
   "cell_type": "code",
   "execution_count": null,
   "id": "fcd8ca59",
   "metadata": {},
   "outputs": [],
   "source": [
    "plt.imshow(image)\n",
    "plt.show()"
   ]
  },
  {
   "cell_type": "code",
   "execution_count": null,
   "id": "be166243",
   "metadata": {},
   "outputs": [],
   "source": [
    "dirty_img_path = './IMAGE/dirty/dirty_plastic1.jpg'"
   ]
  },
  {
   "cell_type": "code",
   "execution_count": null,
   "id": "41e52444",
   "metadata": {},
   "outputs": [],
   "source": [
    "gfile = tf.io.read_file(dirty_img_path)\n",
    "image = tf.io.decode_image(gfile, dtype=tf.float32)"
   ]
  },
  {
   "cell_type": "code",
   "execution_count": null,
   "id": "f8bca2b5",
   "metadata": {},
   "outputs": [],
   "source": [
    "image.shape"
   ]
  },
  {
   "cell_type": "code",
   "execution_count": null,
   "id": "16e58b1f",
   "metadata": {},
   "outputs": [],
   "source": [
    "plt.imshow(image)\n",
    "plt.show()"
   ]
  },
  {
   "cell_type": "markdown",
   "id": "f43f6e69",
   "metadata": {},
   "source": [
    "#### Data Preprocess\n",
    "+ tensorflow ImageDataGenerator 함수 활용하여 이미지 데이터 스케일 및 트레인 데이터/ 테스트 데이트 나누기\n",
    "+ flow_from_directory 함수 활용하여 나누어진 트레인 데이터와 테스트 데이터에 대해 배치 사이즈 나누고 , 셔플하고 labeling 수행"
   ]
  },
  {
   "cell_type": "code",
   "execution_count": null,
   "id": "dd6a0cb4",
   "metadata": {},
   "outputs": [],
   "source": [
    "# Hyperparameter Tunning\n",
    "\n",
    "num_epochs = 50 \n",
    "batch_size = 4\n",
    "learning_rate = 0.001\n",
    "\n",
    "input_shape = (384, 512, 3)  # 사이즈 확인\n",
    "num_classes = 2    # clean, dirty"
   ]
  },
  {
   "cell_type": "code",
   "execution_count": null,
   "id": "63eec239",
   "metadata": {},
   "outputs": [],
   "source": [
    "from tensorflow.keras.preprocessing.image import ImageDataGenerator"
   ]
  },
  {
   "cell_type": "code",
   "execution_count": null,
   "id": "4202d600",
   "metadata": {},
   "outputs": [],
   "source": [
    "# ImageDataGenerator 이용하여 이미지 전처리하기\n",
    "\n",
    "training_datagen = ImageDataGenerator(\n",
    "      rescale=1. / 255,\n",
    "      validation_split=0.2     # train set : 435 * (1 - 0.2) = 348\n",
    "    )\n",
    "\n",
    "test_datagen = ImageDataGenerator(\n",
    "      rescale=1./255,\n",
    "      validation_split=0.2     # test set : 435 * 0.2 = 87\n",
    "    )"
   ]
  },
  {
   "cell_type": "code",
   "execution_count": null,
   "id": "5f4d06f1",
   "metadata": {},
   "outputs": [],
   "source": [
    "# 이미지 데이터 읽고 배치 , 셔플하고 labeling 수행\n",
    "\n",
    "# IMAGE 포더 밑에 .ipynb_checkpoints 폴더 있을경우 폴데 삭제\n",
    "!rm -rf ./IMAGE/.ipynb_checkpoints\n",
    "\n",
    "training_generator = training_datagen.flow_from_directory(\n",
    "    './IMAGE/',\n",
    "    batch_size=batch_size, \n",
    "    target_size=(384, 512),       # 사이즈 확인\n",
    "    class_mode = 'categorical',   # binary , categorical\n",
    "    shuffle = True,\n",
    "    subset = 'training'           # training, validation. validation_split 사용하므로 subset 지정\n",
    "    )\n",
    "\n",
    "test_generator = test_datagen.flow_from_directory(\n",
    "    './IMAGE/',\n",
    "    batch_size=batch_size, \n",
    "    target_size=(384, 512),       # 사이즈 확인\n",
    "    class_mode = 'categorical',   # binary , categorical\n",
    "    shuffle = True,\n",
    "    subset = 'validation'         # training, validation. validation_split 사용하므로 subset 지정\n",
    "    )"
   ]
  },
  {
   "cell_type": "code",
   "execution_count": null,
   "id": "ced0ced3",
   "metadata": {},
   "outputs": [],
   "source": [
    "# class 이름 및 번호 매핑 확인\n",
    "print(training_generator.class_indices)"
   ]
  },
  {
   "cell_type": "code",
   "execution_count": null,
   "id": "1d479656",
   "metadata": {},
   "outputs": [],
   "source": [
    "batch_samples = next(iter(training_generator))\n",
    "\n",
    "print('True Value : ',batch_samples[1][0])\n",
    "plt.imshow(batch_samples[0][0])   \n",
    "plt.show()"
   ]
  },
  {
   "cell_type": "markdown",
   "id": "683344da",
   "metadata": {},
   "source": [
    "#### CNN 모델링"
   ]
  },
  {
   "cell_type": "code",
   "execution_count": 51,
   "id": "6c584c4a",
   "metadata": {},
   "outputs": [],
   "source": [
    "#CNN 라이브러리 임포트\n",
    "\n",
    "import tensorflow as tf\n",
    "from tensorflow.keras.models import Sequential\n",
    "from tensorflow.keras.layers import Dense, Flatten, Dropout\n",
    "from tensorflow.keras.layers import Conv2D, MaxPooling2D"
   ]
  },
  {
   "cell_type": "code",
   "execution_count": null,
   "id": "ab7b7f69",
   "metadata": {},
   "outputs": [],
   "source": [
    "# Feature extraction\n",
    "model = Sequential()\n",
    "model.add(Conv2D(filters=32, kernel_size=3, activation='relu', input_shape=input_shape))\n",
    "model.add(MaxPooling2D(pool_size=2))\n",
    "model.add(Conv2D(filters=16, kernel_size=3, activation='relu'))\n",
    "model.add(MaxPooling2D(pool_size=2))\n",
    "\n",
    "# Classification\n",
    "model.add(Flatten())\n",
    "model.add(Dense(50, activation='relu'))\n",
    "model.add(Dense(2, activation='softmax'))"
   ]
  },
  {
   "cell_type": "code",
   "execution_count": null,
   "id": "519aedbe",
   "metadata": {},
   "outputs": [],
   "source": [
    "model.summary()"
   ]
  },
  {
   "cell_type": "markdown",
   "id": "ff48759b",
   "metadata": {},
   "source": [
    "#### 모델 컴파일 – 이진 분류 모델"
   ]
  },
  {
   "cell_type": "code",
   "execution_count": null,
   "id": "3849da4b",
   "metadata": {},
   "outputs": [],
   "source": [
    "#model.compile(optimizer=tf.keras.optimizers.Adam(learning_rate), \n",
    "model.compile(optimizer='adam', \n",
    "              loss='categorical_crossentropy', \n",
    "              metrics=['accuracy']) "
   ]
  },
  {
   "cell_type": "markdown",
   "id": "125e2d36",
   "metadata": {},
   "source": [
    "#### 모델 훈련(학습) 하기"
   ]
  },
  {
   "cell_type": "code",
   "execution_count": null,
   "id": "d9276c0c",
   "metadata": {},
   "outputs": [],
   "source": [
    "history = model.fit(training_generator, \n",
    "          epochs=3 ,\n",
    "          steps_per_epoch = len(training_generator) / batch_size,\n",
    "          validation_steps = len(test_generator) / batch_size,\n",
    "          validation_data=test_generator, \n",
    "          verbose=1\n",
    ")"
   ]
  },
  {
   "cell_type": "markdown",
   "id": "8c92a8ce",
   "metadata": {},
   "source": [
    "#### **성능 시각화 - 성능평가**"
   ]
  },
  {
   "cell_type": "code",
   "execution_count": null,
   "id": "110a27b2",
   "metadata": {},
   "outputs": [],
   "source": [
    "losses = pd.DataFrame(model.history.history)"
   ]
  },
  {
   "cell_type": "code",
   "execution_count": null,
   "id": "36ec69f2",
   "metadata": {},
   "outputs": [],
   "source": [
    "losses.head()"
   ]
  },
  {
   "cell_type": "code",
   "execution_count": null,
   "id": "7872f755",
   "metadata": {},
   "outputs": [],
   "source": [
    "losses[['loss','val_loss']].plot()"
   ]
  },
  {
   "cell_type": "code",
   "execution_count": null,
   "id": "ff5c7a52",
   "metadata": {},
   "outputs": [],
   "source": [
    "losses[['loss','val_loss', 'accuracy','val_accuracy']].plot()"
   ]
  },
  {
   "cell_type": "code",
   "execution_count": null,
   "id": "53317f6e",
   "metadata": {},
   "outputs": [],
   "source": [
    "plt.plot(history.history['accuracy'])\n",
    "plt.plot(history.history['val_accuracy'])\n",
    "plt.title('Accuracy')\n",
    "plt.xlabel('Epochs')\n",
    "plt.ylabel('Acc')\n",
    "plt.legend(['acc', 'val_acc'])\n",
    "plt.show()"
   ]
  },
  {
   "cell_type": "markdown",
   "id": "fc44f3ed",
   "metadata": {},
   "source": [
    "#### **예측하기**"
   ]
  },
  {
   "cell_type": "code",
   "execution_count": null,
   "id": "9c31b050",
   "metadata": {},
   "outputs": [],
   "source": [
    "# test_generator 샘플 데이터 가져오기\n",
    "# 배치 사이즈 32 확인\n",
    "\n",
    "batch_img, batch_label = next(iter(test_generator))\n",
    "print(batch_img.shape)\n",
    "print(batch_label.shape)"
   ]
  },
  {
   "cell_type": "code",
   "execution_count": null,
   "id": "385f2ef1",
   "metadata": {},
   "outputs": [],
   "source": [
    "# 4개 Test 샘플 이미지 그려보고 예측해 보기\n",
    "\n",
    "i = 1 \n",
    "plt.figure(figsize=(16, 30))\n",
    "for img, label in list(zip(batch_img, batch_label)):\n",
    "    pred = model.predict(img.reshape(-1,384, 512,3))\n",
    "    pred_t = np.argmax(pred)\n",
    "    plt.subplot(8, 4, i)\n",
    "    plt.title(f'True Value:{np.argmax(label)}, Pred Value: {pred_t}')\n",
    "    plt.imshow(img)   \n",
    "    i = i + 1"
   ]
  },
  {
   "cell_type": "markdown",
   "id": "1dda6d52",
   "metadata": {},
   "source": [
    "---"
   ]
  },
  {
   "cell_type": "markdown",
   "id": "8c58f369",
   "metadata": {},
   "source": [
    "###  \n",
    "## 3) RNN "
   ]
  },
  {
   "cell_type": "markdown",
   "id": "0276ce4f",
   "metadata": {},
   "source": [
    "![RNN](https://upload.wikimedia.org/wikipedia/commons/thumb/b/b5/Recurrent_neural_network_unfold.svg/1200px-Recurrent_neural_network_unfold.svg.png)\n",
    "+ [출처] https://en.wikipedia.org/wiki/File:Recurrent_neural_network_unfold.svg"
   ]
  },
  {
   "cell_type": "markdown",
   "id": "4cf5a1a4",
   "metadata": {},
   "source": [
    "\n",
    "+ RNN은 주로 시계열 처리나 자연어 처리에 사용됩니다.\n",
    "+ 우리 실습에 시계열 데이터나 자연어 관련 데이터가 없어 DNN에서 사용한 Tabular 데이터를 가지고 RNN 실습하도록 하겠습니다."
   ]
  },
  {
   "cell_type": "markdown",
   "id": "1e3c14bb",
   "metadata": {},
   "source": [
    "#### RNN 모델링"
   ]
  },
  {
   "cell_type": "code",
   "execution_count": null,
   "id": "c1176677",
   "metadata": {},
   "outputs": [],
   "source": [
    "#RNN 라이브러리 임포트\n",
    "\n",
    "import tensorflow as tf\n",
    "from tensorflow.keras.models import Sequential\n",
    "from tensorflow.keras.layers import Dense, Flatten\n",
    "from tensorflow.keras.layers import LSTM"
   ]
  },
  {
   "cell_type": "code",
   "execution_count": null,
   "id": "281f2308",
   "metadata": {},
   "outputs": [],
   "source": [
    "X_train.shape, X_test.shape"
   ]
  },
  {
   "cell_type": "code",
   "execution_count": null,
   "id": "2520125b",
   "metadata": {},
   "outputs": [],
   "source": [
    "X_train = X_train.reshape(-1,18,1)\n",
    "X_test = X_test.reshape(-1,18,1)"
   ]
  },
  {
   "cell_type": "code",
   "execution_count": null,
   "id": "87a51cba",
   "metadata": {},
   "outputs": [],
   "source": [
    "X_train.shape, X_test.shape"
   ]
  },
  {
   "cell_type": "code",
   "execution_count": null,
   "id": "b255d925",
   "metadata": {},
   "outputs": [],
   "source": [
    "# define model\n",
    "model = Sequential()\n",
    "model.add(LSTM(32, activation='relu', return_sequences=True, input_shape=(18, 1)))\n",
    "model.add(LSTM(16, activation='relu', return_sequences=True))\n",
    "model.add(Flatten())\n",
    "model.add(Dense(8, activation='relu'))\n",
    "model.add(Dense(1, activation='sigmoid'))"
   ]
  },
  {
   "cell_type": "code",
   "execution_count": null,
   "id": "47431f9a",
   "metadata": {},
   "outputs": [],
   "source": [
    "model.summary()"
   ]
  },
  {
   "cell_type": "markdown",
   "id": "6db08416",
   "metadata": {},
   "source": [
    "#### **모델 컴파일 – 이진 분류 모델**"
   ]
  },
  {
   "cell_type": "code",
   "execution_count": null,
   "id": "76df66e6",
   "metadata": {},
   "outputs": [],
   "source": [
    "model.compile(optimizer='adam', \n",
    "              loss='binary_crossentropy', \n",
    "              metrics=['accuracy']) "
   ]
  },
  {
   "cell_type": "markdown",
   "id": "48c819d6",
   "metadata": {},
   "source": [
    "#### **모델 학습**"
   ]
  },
  {
   "cell_type": "code",
   "execution_count": null,
   "id": "074fba08",
   "metadata": {},
   "outputs": [],
   "source": [
    "history = model.fit(x=X_train, y=y_train, \n",
    "          epochs=10 , batch_size=128,\n",
    "          validation_data=(X_test, y_test), \n",
    "          verbose=1\n",
    ")"
   ]
  },
  {
   "cell_type": "markdown",
   "id": "3bc8b3c9",
   "metadata": {},
   "source": [
    "#### 성능 시각화 - 성능평가"
   ]
  },
  {
   "cell_type": "code",
   "execution_count": null,
   "id": "4c0abbd0",
   "metadata": {},
   "outputs": [],
   "source": [
    "losses = pd.DataFrame(model.history.history)"
   ]
  },
  {
   "cell_type": "code",
   "execution_count": null,
   "id": "93d2c740",
   "metadata": {},
   "outputs": [],
   "source": [
    "losses.head()"
   ]
  },
  {
   "cell_type": "code",
   "execution_count": null,
   "id": "9c0f2506",
   "metadata": {},
   "outputs": [],
   "source": [
    "losses[['loss','val_loss']].plot()"
   ]
  },
  {
   "cell_type": "code",
   "execution_count": null,
   "id": "b460c00b",
   "metadata": {},
   "outputs": [],
   "source": [
    "losses[['loss','val_loss', 'accuracy','val_accuracy']].plot()"
   ]
  },
  {
   "cell_type": "code",
   "execution_count": null,
   "id": "0dd00fa9",
   "metadata": {},
   "outputs": [],
   "source": [
    "plt.plot(history.history['accuracy'])\n",
    "plt.plot(history.history['val_accuracy'])\n",
    "plt.title('Accuracy')\n",
    "plt.xlabel('Epochs')\n",
    "plt.ylabel('Acc')\n",
    "plt.legend(['acc', 'val_acc'])\n",
    "plt.show()"
   ]
  },
  {
   "cell_type": "markdown",
   "id": "0004b5e3",
   "metadata": {},
   "source": [
    "---"
   ]
  },
  {
   "cell_type": "markdown",
   "id": "a410cc1a",
   "metadata": {},
   "source": [
    "## 배운 내용 정리\n",
    "1. 딥러닝 모델 프로세스\n",
    "① 라이브러리 임포트(import)  \n",
    "② 데이터 가져오기(Loading the data)  \n",
    "③ 탐색적 데이터 분석(Exploratory Data Analysis)  \n",
    "④ 데이터 전처리(Data PreProcessing) : 데이터타입 변환, Null 데이터 처리, 누락데이터 처리, \n",
    "더미특성 생성, 특성 추출 (feature engineering) 등  \n",
    "⑤ Train, Test  데이터셋 분할  \n",
    "⑥ 데이터 정규화(Normalizing the Data)  \n",
    "⑦ 모델 개발(Creating the Model)  \n",
    "⑧ 모델 성능 평가\n",
    "2. 딥러닝 모델 DNN, CNN, RNN 모델 구축"
   ]
  }
 ],
 "metadata": {
  "kernelspec": {
   "display_name": "Python 3 (ipykernel)",
   "language": "python",
   "name": "python3"
  },
  "language_info": {
   "codemirror_mode": {
    "name": "ipython",
    "version": 3
   },
   "file_extension": ".py",
   "mimetype": "text/x-python",
   "name": "python",
   "nbconvert_exporter": "python",
   "pygments_lexer": "ipython3",
   "version": "3.9.12"
  }
 },
 "nbformat": 4,
 "nbformat_minor": 5
}
