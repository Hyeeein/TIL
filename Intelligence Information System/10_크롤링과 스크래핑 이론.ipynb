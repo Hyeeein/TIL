{
 "cells": [
  {
   "cell_type": "markdown",
   "metadata": {},
   "source": [
    "## 크롤링 (Crawling)\n",
    "\n",
    "- 웹 페이지를 가져와서 데이터를 추출하는 행위"
   ]
  },
  {
   "cell_type": "markdown",
   "metadata": {},
   "source": [
    "## 웹 기초\n",
    "\n",
    "### 1. HTTP (Hyper Text Transfer Protocol)\n",
    "\n",
    "* Hyper Text\n",
    "    - 한 문서에서 다른 문서로 즉시 접근할 수 있는 텍스트\n",
    "    - 하이퍼링크로 연결된 문서들을 클릭에 따라 자유롭게 이동\n",
    "    \n",
    "    \n",
    "    \n",
    "* HTTP: HTML로 작성되어 있는 **하이퍼 텍스트를 전송하기 위한 프로토콜**\n",
    "    - 도메인 주소에서 http://\n",
    "\n",
    "\n",
    "\n",
    "* 프로토콜: 약속, 규칙, 규약\n",
    "    - A라는 지점에서 B라는 지점으로 데이터를 보낼 때 어떻게 보낼 것인지에 대한 규칙\n",
    "    - **요청(request)와 응답(response)**\n",
    "        - 서버(Server)와 클라이언트(Client)가 존재하여, 사용자(Client)가 웹 브라우저로 url을 통해 요청하면, 서버는 요청에 맞는 응답을 함\n",
    "        - 요청은 GET과 url / 응답은 200과 HTML 문서"
   ]
  },
  {
   "cell_type": "markdown",
   "metadata": {},
   "source": [
    "### 2. HTTPS (Hypertext Transfer Protocol Secure)\n",
    "\n",
    "\n",
    "\n",
    "* 하이퍼 텍스트 전송 프로토콜 보안\n",
    "\n",
    "\n",
    "* HTTP의 경우, 서버에서 클라이언트로 전송될 때, 정보가 암호화되지 않음 (데이터 도난의 위험)<br>\n",
    "  -> **SSL(보안 소켓 계층)**을 사용하여 해결함<br>\n",
    "  -> 서버와 브라우저 사이에 안전하게 암호화된 연결을 만들 수 있게 도와줌"
   ]
  },
  {
   "cell_type": "markdown",
   "metadata": {},
   "source": [
    "### 3. URL (Uniform Resource Locator)\n",
    "\n",
    "\n",
    "* 네트워크 상에서 **자원의 위치를 알려주는 주소**\n",
    "    - 일반적으로 웹 브라우저에 주소 표시줄에 나오는 주소를 의미\n",
    "\n",
    "\n",
    "* *URL이 https://www.naver.com인 경우?*\n",
    "    - https라는 규약(프로토콜)으로 www.naver.com 이라는 주소의 실제 위치에 접속해서 정보를 가져옴\n",
    "    \n",
    "    \n",
    "* http나 https 외에 ftp, mailto 같은 다른 규약도 존재"
   ]
  },
  {
   "cell_type": "markdown",
   "metadata": {},
   "source": [
    "### 4. HTML (Hyper Text Markup Language)\n",
    "\n",
    "\n",
    "* 웹 페이지를 위한 마크업 언어\n",
    "\n",
    "\n",
    "* 마크업 언어 (Markup Language)\n",
    "    - **웹 페이지를 작성하기 위한 문법들 중 한 종류**\n",
    "    - 마크(Mark)로 둘러싸인 언어. 마크는 태크(tag)라고도 표현함\n",
    "    - **문서의 구조**를 정의하기 위해 사용함 (문서 -> 문단 1/ 문단 2 -> 문장 1/ 문장 2/ 문장 3)\n",
    "\n",
    "\n",
    "* cf) markdown\n",
    "    - 마크업 언어의 일종으로, 존 그루버(John Gruber)와 아론 스워츠(Aaron Swartz)가 만들었음\n",
    "    \n",
    "    - 일반 텍스트 기반의 문서를 만들기 위한 경량 마크업 언어\n",
    "        - 구조와 **서식**이 있는 문서 작성\n",
    "        - **어떤 문자를 어떤 기능으로 인식하여 텍스트에 적용** (#을 이용해 제목 만드는 것 등)\n",
    "        \n",
    "    - 생활 속 마크다운 언어 (.md 확장자, 태그 기능(@가 붙은 문자열 자동인식))\n",
    "    \n",
    "    \n",
    "* HTML의 구조 : 트리구조\n",
    "    - 나뭇가지가 한 개에서 두 개로 각각 가지는 또 다른 나뭇가지로 늘어나면서 뻗어가는 구조\n",
    "    - 나무와 비슷해서 트리 구조라는 이름이 붙음"
   ]
  },
  {
   "cell_type": "markdown",
   "metadata": {},
   "source": [
    "## 웹 크롤링과 스크래핑\n",
    "\n",
    "\n",
    "### 1. 크롤링(Crawling)과 스크래핑(Scraping)\n",
    "\n",
    "\n",
    "* 혼용되지만 미묘한 차이 존재\n",
    "\n",
    "\n",
    "* 크롤링(Crawling)\n",
    "    - **검색 엔진**이 웹 페이지의 정보를 수집하여 분류 및 색인화하여 DB화\n",
    "    - 크롤러(crawler) 혹은 (bot)dl dnpq vpdlwlfmf qkdansgkdu epdlxj tnwlq\n",
    "    - 검색 엔진에서 우리가 보는 것은 DB에 저장되어 있는 수집된 데이터를 보는 것 -> 빠르게 찾아서 보여줌\n",
    "    \n",
    "    \n",
    "* 스크래핑\n",
    "    - 웹 페이지의 정보를 수집하는 일련의 행위 -> 스크래핑은 크롤링을 포함하는 용어\n",
    "    - 특정한 웹 페이에서 원하는 데이터 일부를 가져오는 것"
   ]
  },
  {
   "cell_type": "code",
   "execution_count": null,
   "metadata": {},
   "outputs": [],
   "source": []
  }
 ],
 "metadata": {
  "kernelspec": {
   "display_name": "Python 3 (ipykernel)",
   "language": "python",
   "name": "python3"
  },
  "language_info": {
   "codemirror_mode": {
    "name": "ipython",
    "version": 3
   },
   "file_extension": ".py",
   "mimetype": "text/x-python",
   "name": "python",
   "nbconvert_exporter": "python",
   "pygments_lexer": "ipython3",
   "version": "3.9.12"
  },
  "vscode": {
   "interpreter": {
    "hash": "571214fd5c1f53d624ff021843f557c5fed43ab37a0f8ef5dfc8b3865f00e5a5"
   }
  }
 },
 "nbformat": 4,
 "nbformat_minor": 2
}
