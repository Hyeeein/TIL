{
 "cells": [
  {
   "cell_type": "code",
   "execution_count": 2,
   "id": "406d7589",
   "metadata": {},
   "outputs": [],
   "source": [
    "! pip install konlpy"
   ]
  },
  {
   "cell_type": "code",
   "execution_count": 4,
   "id": "e7a540a4",
   "metadata": {},
   "outputs": [],
   "source": [
    "from konlpy.tag import Hannanum\n",
    "hannanum = Hannanum()"
   ]
  },
  {
   "cell_type": "code",
   "execution_count": 5,
   "id": "ae6c7bce",
   "metadata": {},
   "outputs": [],
   "source": [
    "from konlpy.tag import Kkma\n",
    "kkma = Kkma()"
   ]
  },
  {
   "cell_type": "code",
   "execution_count": 6,
   "id": "a8310155",
   "metadata": {},
   "outputs": [],
   "source": [
    "from konlpy.tag import Komoran\n",
    "komoran = Komoran()"
   ]
  },
  {
   "cell_type": "code",
   "execution_count": 7,
   "id": "ca49b2fb",
   "metadata": {},
   "outputs": [],
   "source": [
    "from konlpy.tag import Okt\n",
    "okt = Okt()"
   ]
  },
  {
   "cell_type": "code",
   "execution_count": 8,
   "id": "a08e17e8",
   "metadata": {},
   "outputs": [
    {
     "name": "stdout",
     "output_type": "stream",
     "text": [
      "Hannanum : [('아버지가방에들어가', 'N'), ('이', 'J'), ('시ㄴ다', 'E')]\n",
      "Kkma : [('아버지', 'NNG'), ('가방', 'NNG'), ('에', 'JKM'), ('들어가', 'VV'), ('시', 'EPH'), ('ㄴ다', 'EFN')]\n",
      "Komoran : [('아버지', 'NNG'), ('가방', 'NNP'), ('에', 'JKB'), ('들어가', 'VV'), ('시', 'EP'), ('ㄴ다', 'EC')]\n",
      "Okt : [('아버지', 'Noun'), ('가방', 'Noun'), ('에', 'Josa'), ('들어가신다', 'Verb')]\n"
     ]
    }
   ],
   "source": [
    "test_sent = \"아버지가방에들어가신다\"\n",
    "print('Hannanum :', hannanum.pos(test_sent))\n",
    "print('Kkma :', kkma.pos(test_sent))\n",
    "print('Komoran :', komoran.pos(test_sent))\n",
    "print('Okt :', okt.pos(test_sent))"
   ]
  },
  {
   "cell_type": "code",
   "execution_count": 9,
   "id": "86838a9e",
   "metadata": {},
   "outputs": [
    {
     "name": "stdout",
     "output_type": "stream",
     "text": [
      "Hannanum : [('아버지가방에들어가', 'N'), ('이', 'J'), ('시ㄴ다', 'E')]\n",
      "time : 0.01164865493774414\n",
      "Kkma : [('아버지', 'NNG'), ('가방', 'NNG'), ('에', 'JKM'), ('들어가', 'VV'), ('시', 'EPH'), ('ㄴ다', 'EFN')]\n",
      "time : 0.07679319381713867\n",
      "Komoran : [('아버지', 'NNG'), ('가방', 'NNP'), ('에', 'JKB'), ('들어가', 'VV'), ('시', 'EP'), ('ㄴ다', 'EC')]\n",
      "time : 0.0019953250885009766\n",
      "Okt : [('아버지', 'Noun'), ('가방', 'Noun'), ('에', 'Josa'), ('들어가신다', 'Verb')]\n",
      "time : 0.02599787712097168\n"
     ]
    }
   ],
   "source": [
    "import time\n",
    "\n",
    "test_sent = \"아버지가방에들어가신다\"\n",
    "start = time.time()\n",
    "print('Hannanum :', hannanum.pos(test_sent))\n",
    "print('time :', time.time() - start)\n",
    "\n",
    "start = time.time()\n",
    "print('Kkma :', kkma.pos(test_sent))\n",
    "print('time :', time.time() - start)\n",
    "\n",
    "start = time.time()\n",
    "print('Komoran :', komoran.pos(test_sent))\n",
    "print('time :', time.time() - start)\n",
    "\n",
    "start = time.time()\n",
    "print('Okt :', okt.pos(test_sent))\n",
    "print('time :', time.time() - start)"
   ]
  }
 ],
 "metadata": {
  "kernelspec": {
   "display_name": "Python 3 (ipykernel)",
   "language": "python",
   "name": "python3"
  },
  "language_info": {
   "codemirror_mode": {
    "name": "ipython",
    "version": 3
   },
   "file_extension": ".py",
   "mimetype": "text/x-python",
   "name": "python",
   "nbconvert_exporter": "python",
   "pygments_lexer": "ipython3",
   "version": "3.9.12"
  }
 },
 "nbformat": 4,
 "nbformat_minor": 5
}
