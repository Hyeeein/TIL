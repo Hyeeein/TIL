{
 "cells": [
  {
   "cell_type": "markdown",
   "id": "2fc84397",
   "metadata": {},
   "source": [
    "## 1. Selenium 시작하기"
   ]
  },
  {
   "cell_type": "code",
   "execution_count": 9,
   "id": "a94a29bf",
   "metadata": {},
   "outputs": [],
   "source": [
    "from selenium import webdriver"
   ]
  },
  {
   "cell_type": "markdown",
   "id": "24b551aa",
   "metadata": {},
   "source": [
    "* 아래의 셀 실행할 때, In[*]이 숫자로 바뀌면 새로운 크롬 창 등장"
   ]
  },
  {
   "cell_type": "code",
   "execution_count": 10,
   "id": "895731cf",
   "metadata": {},
   "outputs": [
    {
     "name": "stderr",
     "output_type": "stream",
     "text": [
      "C:\\Users\\phi49\\AppData\\Local\\Temp\\ipykernel_12060\\2398685150.py:2: DeprecationWarning: executable_path has been deprecated, please pass in a Service object\n",
      "  driver = webdriver.Chrome(r\"C:\\Users\\phi49\\Downloads\\chromedriver_win32\\chromedriver.exe\")\n"
     ]
    }
   ],
   "source": [
    "# 경로명 변경!!\n",
    "driver = webdriver.Chrome(r\"C:\\Users\\phi49\\Downloads\\chromedriver_win32\\chromedriver.exe\")"
   ]
  },
  {
   "cell_type": "markdown",
   "id": "565f81ec",
   "metadata": {},
   "source": [
    "* 네이버 접속하기 (새로 만들어진 크롬 창에서 네이버 접속)\n",
    "\n",
    "    - 파이썬 코드를 이용해서 작동시킬 브라우저\n",
    "    - 해당 크롬 창에 보이는 내용들을 가져올 것"
   ]
  },
  {
   "cell_type": "code",
   "execution_count": 11,
   "id": "e4525946",
   "metadata": {},
   "outputs": [],
   "source": [
    "driver.get(\"https://www.naver.com\")"
   ]
  },
  {
   "cell_type": "code",
   "execution_count": 12,
   "id": "dd25d433",
   "metadata": {},
   "outputs": [],
   "source": [
    "driver.get(\"https://nid.naver.com/nidlogin.login?url=http%3A%2F%2Fmail.naver.com%2F\")"
   ]
  },
  {
   "attachments": {
    "image.png": {
     "image/png": "[encoded data removed]"
    }
   },
   "cell_type": "markdown",
   "id": "ae2be97b",
   "metadata": {},
   "source": [
    "![image.png](attachment:image.png)"
   ]
  },
  {
   "cell_type": "code",
   "execution_count": 16,
   "id": "954bc275",
   "metadata": {},
   "outputs": [],
   "source": [
    "login_id = driver.find_element(\"id\", \"id\")\n",
    "login_id.clear()\n",
    "login_id.send_keys(\"naver_id\")"
   ]
  },
  {
   "cell_type": "code",
   "execution_count": 17,
   "id": "5abc81fe",
   "metadata": {},
   "outputs": [],
   "source": [
    "login_pw = driver.find_element(\"id\", \"pw\")\n",
    "login_pw.clear()\n",
    "login_pw.send_keys(\"password1111\")"
   ]
  },
  {
   "cell_type": "code",
   "execution_count": 20,
   "id": "7e0a0b85",
   "metadata": {},
   "outputs": [],
   "source": [
    "login_button = '//*[@id=\"log.login\"]'\n",
    "click_button = driver.find_element(\"xpath\", login_button)\n",
    "click_button.click()"
   ]
  },
  {
   "cell_type": "code",
   "execution_count": 21,
   "id": "f8ba24be",
   "metadata": {},
   "outputs": [],
   "source": [
    "driver.close()"
   ]
  }
 ],
 "metadata": {
  "kernelspec": {
   "display_name": "Python 3 (ipykernel)",
   "language": "python",
   "name": "python3"
  },
  "language_info": {
   "codemirror_mode": {
    "name": "ipython",
    "version": 3
   },
   "file_extension": ".py",
   "mimetype": "text/x-python",
   "name": "python",
   "nbconvert_exporter": "python",
   "pygments_lexer": "ipython3",
   "version": "3.9.12"
  }
 },
 "nbformat": 4,
 "nbformat_minor": 5
}
