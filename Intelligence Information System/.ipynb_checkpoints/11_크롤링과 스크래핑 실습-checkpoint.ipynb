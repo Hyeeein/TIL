{
 "cells": [
  {
   "cell_type": "markdown",
   "id": "1a775c61",
   "metadata": {},
   "source": [
    "## 웹 데이터 가져오기"
   ]
  },
  {
   "cell_type": "markdown",
   "id": "fd160081",
   "metadata": {},
   "source": [
    "### 필요한 라이브러리\n",
    "\n",
    "- urllib\n",
    "- BeautifulSoup"
   ]
  },
  {
   "cell_type": "markdown",
   "id": "7cb1a1ba",
   "metadata": {},
   "source": [
    "### 1. urllib\n",
    "\n",
    "* "
   ]
  },
  {
   "cell_type": "markdown",
   "id": "fe09d0a4",
   "metadata": {},
   "source": [
    "### 2. BeautifulSoup\n",
    "\n"
   ]
  },
  {
   "cell_type": "markdown",
   "id": "579758ae",
   "metadata": {},
   "source": [
    "### 3. find()\n",
    "\n",
    "#### (1) find()\n",
    "\n",
    "#### (2) `<div>` 태그\n",
    "    \n",
    "#### (3) `<ul>` 태그\n",
    "\n",
    "#### (4) `<ol>` 태그\n",
    "\n",
    "#### (5) 텍스트만 추출하기"
   ]
  },
  {
   "cell_type": "markdown",
   "id": "4c8fe0f1",
   "metadata": {},
   "source": [
    "### 4. find_all()"
   ]
  },
  {
   "cell_type": "markdown",
   "id": "e4d4991d",
   "metadata": {},
   "source": [
    "### 5. class 속성"
   ]
  },
  {
   "cell_type": "markdown",
   "id": "e3264ae9",
   "metadata": {},
   "source": []
  },
  {
   "cell_type": "markdown",
   "id": "26ec57de",
   "metadata": {},
   "source": []
  }
 ],
 "metadata": {
  "kernelspec": {
   "display_name": "Python 3 (ipykernel)",
   "language": "python",
   "name": "python3"
  },
  "language_info": {
   "codemirror_mode": {
    "name": "ipython",
    "version": 3
   },
   "file_extension": ".py",
   "mimetype": "text/x-python",
   "name": "python",
   "nbconvert_exporter": "python",
   "pygments_lexer": "ipython3",
   "version": "3.9.12"
  }
 },
 "nbformat": 4,
 "nbformat_minor": 5
}
