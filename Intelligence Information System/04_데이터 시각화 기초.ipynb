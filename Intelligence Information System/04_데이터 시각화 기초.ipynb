{
 "cells": [
  {
   "cell_type": "markdown",
   "id": "5def464e",
   "metadata": {},
   "source": [
    "## Matplotlib 패키지/라이브러리\n",
    "\n",
    "* 파이썬으로 데이터를 시각화할 때, 가장 많이 사용하는 라이브러리\n",
    "    - 2D 형태의 그래프, 이미지 등을 그릴 때 사용\n",
    "    - 실제 과학 컴퓨팅 연구 분야나 인공지능 연구 분야에서도 많이 활용\n",
    "    - https://matplotlib.org (외부 라이브러리여서 독자적인 도메인을 가지고 있음)"
   ]
  },
  {
   "cell_type": "markdown",
   "id": "dd90dd02",
   "metadata": {},
   "source": [
    "* matplotlib 라이브러리인 pyplot 모듈 불러오기"
   ]
  },
  {
   "cell_type": "code",
   "execution_count": 1,
   "id": "55ccc421",
   "metadata": {},
   "outputs": [],
   "source": [
    "import matplotlib.pyplot"
   ]
  },
  {
   "cell_type": "markdown",
   "id": "afaa749e",
   "metadata": {},
   "source": [
    "* matplotlib 라이브러리인 pyplot 모듈을 'plt'라는 별명으로 부르기 (as, alias 에일리어스)"
   ]
  },
  {
   "cell_type": "code",
   "execution_count": 2,
   "id": "9cdb567b",
   "metadata": {},
   "outputs": [],
   "source": [
    "import matplotlib.pyplot as plt"
   ]
  },
  {
   "cell_type": "markdown",
   "id": "76b1214c",
   "metadata": {},
   "source": [
    "## 기본 그래프 그리기"
   ]
  },
  {
   "cell_type": "markdown",
   "id": "3bd2a495",
   "metadata": {},
   "source": [
    "\n",
    "1. plot() 함수에 리스트 1개 입력하기\n",
    "    - **plot() 함수** : 직선 또는 꺾은선 형태의 그래프를 그릴 때 사용\n",
    "    - plt.plot()은 matplotlib.pyplot.plt()와 같은 명령어\n",
    "    - plt.plot(list)의 형태 => 입력된 리스트 1개만 있을 때 y축 값으로 맞춰지고, x축 값은 자동으로 0부터 1씩 증가하는 정수로 입력"
   ]
  },
  {
   "cell_type": "code",
   "execution_count": 1,
   "id": "df8b7e08",
   "metadata": {},
   "outputs": [
    {
     "data": {
      "image/png": "[encoded data removed]",
      "text/plain": [
       "<Figure size 432x288 with 1 Axes>"
      ]
     },
     "metadata": {
      "needs_background": "light"
     },
     "output_type": "display_data"
    }
   ],
   "source": [
    "import matplotlib.pyplot as plt\n",
    "\n",
    "plt.plot([10, 20, 30, 40])\n",
    "plt.show()"
   ]
  },
  {
   "cell_type": "markdown",
   "id": "bbd7e61f",
   "metadata": {},
   "source": [
    "2. plot() 함수에 리스트 2개 입력하기\n",
    "    - 두 개의 리스트를 콤마(,)를 구분하여 입력\n",
    "    - plt.plot(list1, list2)의 형태"
   ]
  },
  {
   "cell_type": "code",
   "execution_count": 2,
   "id": "7029eabf",
   "metadata": {},
   "outputs": [
    {
     "data": {
      "image/png": "[encoded data removed]",
      "text/plain": [
       "<Figure size 432x288 with 1 Axes>"
      ]
     },
     "metadata": {
      "needs_background": "light"
     },
     "output_type": "display_data"
    }
   ],
   "source": [
    "import matplotlib.pyplot as plt\n",
    "\n",
    "plt.plot([1, 2, 3, 4], [12, 43, 25, 15])\n",
    "plt.show()"
   ]
  },
  {
   "cell_type": "markdown",
   "id": "383db53c",
   "metadata": {},
   "source": [
    "Q. 만약 x축 데이터와 y축 데이터의 개수가 맞지 않다면? 오류 발생"
   ]
  },
  {
   "cell_type": "code",
   "execution_count": 3,
   "id": "7354ff56",
   "metadata": {},
   "outputs": [
    {
     "ename": "ValueError",
     "evalue": "x and y must have same first dimension, but have shapes (5,) and (4,)",
     "output_type": "error",
     "traceback": [
      "\u001b[1;31m---------------------------------------------------------------------------\u001b[0m",
      "\u001b[1;31mValueError\u001b[0m                                Traceback (most recent call last)",
      "\u001b[1;32md:\\TIL\\Intelligence Information System\\04_데이터 시각화 기초.ipynb 셀 12\u001b[0m in \u001b[0;36m<cell line: 3>\u001b[1;34m()\u001b[0m\n\u001b[0;32m      <a href='vscode-notebook-cell:/d%3A/TIL/Intelligence%20Information%20System/04_%EB%8D%B0%EC%9D%B4%ED%84%B0%20%EC%8B%9C%EA%B0%81%ED%99%94%20%EA%B8%B0%EC%B4%88.ipynb#X13sZmlsZQ%3D%3D?line=0'>1</a>\u001b[0m \u001b[39mimport\u001b[39;00m \u001b[39mmatplotlib\u001b[39;00m\u001b[39m.\u001b[39;00m\u001b[39mpyplot\u001b[39;00m \u001b[39mas\u001b[39;00m \u001b[39mplt\u001b[39;00m\n\u001b[1;32m----> <a href='vscode-notebook-cell:/d%3A/TIL/Intelligence%20Information%20System/04_%EB%8D%B0%EC%9D%B4%ED%84%B0%20%EC%8B%9C%EA%B0%81%ED%99%94%20%EA%B8%B0%EC%B4%88.ipynb#X13sZmlsZQ%3D%3D?line=2'>3</a>\u001b[0m plt\u001b[39m.\u001b[39;49mplot([\u001b[39m1\u001b[39;49m, \u001b[39m2\u001b[39;49m, \u001b[39m3\u001b[39;49m, \u001b[39m4\u001b[39;49m, \u001b[39m5\u001b[39;49m], [\u001b[39m12\u001b[39;49m, \u001b[39m43\u001b[39;49m, \u001b[39m25\u001b[39;49m, \u001b[39m15\u001b[39;49m])\n\u001b[0;32m      <a href='vscode-notebook-cell:/d%3A/TIL/Intelligence%20Information%20System/04_%EB%8D%B0%EC%9D%B4%ED%84%B0%20%EC%8B%9C%EA%B0%81%ED%99%94%20%EA%B8%B0%EC%B4%88.ipynb#X13sZmlsZQ%3D%3D?line=3'>4</a>\u001b[0m plt\u001b[39m.\u001b[39mshow()\n",
      "File \u001b[1;32mc:\\Users\\phi49\\anaconda3\\lib\\site-packages\\matplotlib\\pyplot.py:2757\u001b[0m, in \u001b[0;36mplot\u001b[1;34m(scalex, scaley, data, *args, **kwargs)\u001b[0m\n\u001b[0;32m   2755\u001b[0m \u001b[39m@_copy_docstring_and_deprecators\u001b[39m(Axes\u001b[39m.\u001b[39mplot)\n\u001b[0;32m   2756\u001b[0m \u001b[39mdef\u001b[39;00m \u001b[39mplot\u001b[39m(\u001b[39m*\u001b[39margs, scalex\u001b[39m=\u001b[39m\u001b[39mTrue\u001b[39;00m, scaley\u001b[39m=\u001b[39m\u001b[39mTrue\u001b[39;00m, data\u001b[39m=\u001b[39m\u001b[39mNone\u001b[39;00m, \u001b[39m*\u001b[39m\u001b[39m*\u001b[39mkwargs):\n\u001b[1;32m-> 2757\u001b[0m     \u001b[39mreturn\u001b[39;00m gca()\u001b[39m.\u001b[39mplot(\n\u001b[0;32m   2758\u001b[0m         \u001b[39m*\u001b[39margs, scalex\u001b[39m=\u001b[39mscalex, scaley\u001b[39m=\u001b[39mscaley,\n\u001b[0;32m   2759\u001b[0m         \u001b[39m*\u001b[39m\u001b[39m*\u001b[39m({\u001b[39m\"\u001b[39m\u001b[39mdata\u001b[39m\u001b[39m\"\u001b[39m: data} \u001b[39mif\u001b[39;00m data \u001b[39mis\u001b[39;00m \u001b[39mnot\u001b[39;00m \u001b[39mNone\u001b[39;00m \u001b[39melse\u001b[39;00m {}), \u001b[39m*\u001b[39m\u001b[39m*\u001b[39mkwargs)\n",
      "File \u001b[1;32mc:\\Users\\phi49\\anaconda3\\lib\\site-packages\\matplotlib\\axes\\_axes.py:1632\u001b[0m, in \u001b[0;36mAxes.plot\u001b[1;34m(self, scalex, scaley, data, *args, **kwargs)\u001b[0m\n\u001b[0;32m   1390\u001b[0m \u001b[39m\"\"\"\u001b[39;00m\n\u001b[0;32m   1391\u001b[0m \u001b[39mPlot y versus x as lines and/or markers.\u001b[39;00m\n\u001b[0;32m   1392\u001b[0m \n\u001b[1;32m   (...)\u001b[0m\n\u001b[0;32m   1629\u001b[0m \u001b[39m(``'green'``) or hex strings (``'#008000'``).\u001b[39;00m\n\u001b[0;32m   1630\u001b[0m \u001b[39m\"\"\"\u001b[39;00m\n\u001b[0;32m   1631\u001b[0m kwargs \u001b[39m=\u001b[39m cbook\u001b[39m.\u001b[39mnormalize_kwargs(kwargs, mlines\u001b[39m.\u001b[39mLine2D)\n\u001b[1;32m-> 1632\u001b[0m lines \u001b[39m=\u001b[39m [\u001b[39m*\u001b[39m\u001b[39mself\u001b[39m\u001b[39m.\u001b[39m_get_lines(\u001b[39m*\u001b[39margs, data\u001b[39m=\u001b[39mdata, \u001b[39m*\u001b[39m\u001b[39m*\u001b[39mkwargs)]\n\u001b[0;32m   1633\u001b[0m \u001b[39mfor\u001b[39;00m line \u001b[39min\u001b[39;00m lines:\n\u001b[0;32m   1634\u001b[0m     \u001b[39mself\u001b[39m\u001b[39m.\u001b[39madd_line(line)\n",
      "File \u001b[1;32mc:\\Users\\phi49\\anaconda3\\lib\\site-packages\\matplotlib\\axes\\_base.py:312\u001b[0m, in \u001b[0;36m_process_plot_var_args.__call__\u001b[1;34m(self, data, *args, **kwargs)\u001b[0m\n\u001b[0;32m    310\u001b[0m     this \u001b[39m+\u001b[39m\u001b[39m=\u001b[39m args[\u001b[39m0\u001b[39m],\n\u001b[0;32m    311\u001b[0m     args \u001b[39m=\u001b[39m args[\u001b[39m1\u001b[39m:]\n\u001b[1;32m--> 312\u001b[0m \u001b[39myield from\u001b[39;00m \u001b[39mself\u001b[39;49m\u001b[39m.\u001b[39;49m_plot_args(this, kwargs)\n",
      "File \u001b[1;32mc:\\Users\\phi49\\anaconda3\\lib\\site-packages\\matplotlib\\axes\\_base.py:498\u001b[0m, in \u001b[0;36m_process_plot_var_args._plot_args\u001b[1;34m(self, tup, kwargs, return_kwargs)\u001b[0m\n\u001b[0;32m    495\u001b[0m     \u001b[39mself\u001b[39m\u001b[39m.\u001b[39maxes\u001b[39m.\u001b[39myaxis\u001b[39m.\u001b[39mupdate_units(y)\n\u001b[0;32m    497\u001b[0m \u001b[39mif\u001b[39;00m x\u001b[39m.\u001b[39mshape[\u001b[39m0\u001b[39m] \u001b[39m!=\u001b[39m y\u001b[39m.\u001b[39mshape[\u001b[39m0\u001b[39m]:\n\u001b[1;32m--> 498\u001b[0m     \u001b[39mraise\u001b[39;00m \u001b[39mValueError\u001b[39;00m(\u001b[39mf\u001b[39m\u001b[39m\"\u001b[39m\u001b[39mx and y must have same first dimension, but \u001b[39m\u001b[39m\"\u001b[39m\n\u001b[0;32m    499\u001b[0m                      \u001b[39mf\u001b[39m\u001b[39m\"\u001b[39m\u001b[39mhave shapes \u001b[39m\u001b[39m{\u001b[39;00mx\u001b[39m.\u001b[39mshape\u001b[39m}\u001b[39;00m\u001b[39m and \u001b[39m\u001b[39m{\u001b[39;00my\u001b[39m.\u001b[39mshape\u001b[39m}\u001b[39;00m\u001b[39m\"\u001b[39m)\n\u001b[0;32m    500\u001b[0m \u001b[39mif\u001b[39;00m x\u001b[39m.\u001b[39mndim \u001b[39m>\u001b[39m \u001b[39m2\u001b[39m \u001b[39mor\u001b[39;00m y\u001b[39m.\u001b[39mndim \u001b[39m>\u001b[39m \u001b[39m2\u001b[39m:\n\u001b[0;32m    501\u001b[0m     \u001b[39mraise\u001b[39;00m \u001b[39mValueError\u001b[39;00m(\u001b[39mf\u001b[39m\u001b[39m\"\u001b[39m\u001b[39mx and y can be no greater than 2D, but have \u001b[39m\u001b[39m\"\u001b[39m\n\u001b[0;32m    502\u001b[0m                      \u001b[39mf\u001b[39m\u001b[39m\"\u001b[39m\u001b[39mshapes \u001b[39m\u001b[39m{\u001b[39;00mx\u001b[39m.\u001b[39mshape\u001b[39m}\u001b[39;00m\u001b[39m and \u001b[39m\u001b[39m{\u001b[39;00my\u001b[39m.\u001b[39mshape\u001b[39m}\u001b[39;00m\u001b[39m\"\u001b[39m)\n",
      "\u001b[1;31mValueError\u001b[0m: x and y must have same first dimension, but have shapes (5,) and (4,)"
     ]
    },
    {
     "data": {
      "image/png": "[encoded data removed]",
      "text/plain": [
       "<Figure size 432x288 with 1 Axes>"
      ]
     },
     "metadata": {
      "needs_background": "light"
     },
     "output_type": "display_data"
    }
   ],
   "source": [
    "import matplotlib.pyplot as plt\n",
    "\n",
    "plt.plot([1, 2, 3, 4, 5], [12, 43, 25, 15])\n",
    "plt.show()"
   ]
  },
  {
   "cell_type": "markdown",
   "id": "e367a98a",
   "metadata": {},
   "source": [
    "Q. In[num]이 아니라 In[*]인 경우?\n",
    "\n",
    "    - Alt+Tab을 눌러 새 창에 그래프가 생성된지 1차 확인\n",
    "    - 새 창이 아닌 주피터 노트북 화면 안에서 그래프를 보고 싶다면, 맨 위에 %matplotlib inline 작성"
   ]
  },
  {
   "cell_type": "markdown",
   "id": "c2d3d8b8",
   "metadata": {},
   "source": [
    "## 그래프 옵션 추가하기"
   ]
  },
  {
   "cell_type": "markdown",
   "id": "9d5ff2ab",
   "metadata": {},
   "source": [
    "1. 그래프에 제목 넣기 : plt.title('제목으로 사용할 문자열')\n",
    "\n",
    "    - 한글 제목을 넣으면, 한글을 지원하는 폰트 설정이 이루어지지 않음\n",
    "    - plt.rc('font', family='Malgun Gothic') 추가"
   ]
  },
  {
   "cell_type": "markdown",
   "id": "d7ae55cc",
   "metadata": {},
   "source": [
    "2. 그래프에 범례 넣기 : plt.plot([10, 20, 30, 40], legend='범례1')\n",
    "\n",
    "    - 범례(legend)는 그래프가 의미하는 바를 구별하기 위해 사용\n",
    "    - 그래프를 그리기 전 plt.legend()를 실행\n",
    "\n",
    "    - 범례 위치 조정을 하려면 loc이라는 속성에 값을 넣어줌 (0~10까지 가능 / 0은 그래프에 따라 자동 설정)"
   ]
  },
  {
   "cell_type": "markdown",
   "id": "ad157c4b",
   "metadata": {},
   "source": [
    "3. 그래프 색상 바꾸기 : plt.plot([10, 20, 30, 40], color='skyblue')\n",
    "\n",
    "    - 다양한 색상 이름 확인방법 : https://matplotlib.org/stable/gallery/color/named_colors.html\n",
    "    - 색상 표현 시, 기본 색 몇 가지는 약자 표기 가능 r(red), g(green), b(blue), k(black), y(yellow)"
   ]
  },
  {
   "cell_type": "markdown",
   "id": "7dbeccc4",
   "metadata": {},
   "source": [
    "4. 그래프 선 모양 바꾸기 : linestyle 지정 (linestyle 대신 ls라고도 쓸 수 있음)\n",
    "\n",
    "    - 예) --, : 등\n",
    "    - 다양한 라인 스타일 : https://matplotlib.org/stable/gallery/lines_bars_and_markers/linestyles.html"
   ]
  },
  {
   "cell_type": "markdown",
   "id": "6d63078f",
   "metadata": {},
   "source": [
    "5. 마커 모양 바꾸기\n",
    "\n",
    "    - plot() 함수에 marker 속성을 설정하면 선 형태가 아닌 점 형태로 그래프를 그릴 수 있음\n",
    "    - 다양한 마커 : https://matplotlib.org/stable/api/markers_api.html"
   ]
  },
  {
   "cell_type": "markdown",
   "id": "34d3bc50",
   "metadata": {},
   "source": [
    "* 참고로, 한글 폰트/색상/마커/선의 종류 & <색상><마커모양><선모양> 등올 줄여서 쓰는 방법도 있음\n",
    "* 데이터 개수 확인 : len() 함수 사용"
   ]
  },
  {
   "cell_type": "code",
   "execution_count": 4,
   "id": "e2c81840",
   "metadata": {},
   "outputs": [
    {
     "ename": "FileNotFoundError",
     "evalue": "[Errno 2] No such file or directory: 'inchecon_weather.csv'",
     "output_type": "error",
     "traceback": [
      "\u001b[1;31m---------------------------------------------------------------------------\u001b[0m",
      "\u001b[1;31mFileNotFoundError\u001b[0m                         Traceback (most recent call last)",
      "\u001b[1;32md:\\TIL\\Intelligence Information System\\04_데이터 시각화 기초.ipynb 셀 21\u001b[0m in \u001b[0;36m<cell line: 5>\u001b[1;34m()\u001b[0m\n\u001b[0;32m      <a href='vscode-notebook-cell:/d%3A/TIL/Intelligence%20Information%20System/04_%EB%8D%B0%EC%9D%B4%ED%84%B0%20%EC%8B%9C%EA%B0%81%ED%99%94%20%EA%B8%B0%EC%B4%88.ipynb#X15sZmlsZQ%3D%3D?line=0'>1</a>\u001b[0m \u001b[39m# 최고 기온 데이터 꺾은선 그래프로 그리기\u001b[39;00m\n\u001b[0;32m      <a href='vscode-notebook-cell:/d%3A/TIL/Intelligence%20Information%20System/04_%EB%8D%B0%EC%9D%B4%ED%84%B0%20%EC%8B%9C%EA%B0%81%ED%99%94%20%EA%B8%B0%EC%B4%88.ipynb#X15sZmlsZQ%3D%3D?line=2'>3</a>\u001b[0m \u001b[39mimport\u001b[39;00m \u001b[39mcsv\u001b[39;00m\n\u001b[1;32m----> <a href='vscode-notebook-cell:/d%3A/TIL/Intelligence%20Information%20System/04_%EB%8D%B0%EC%9D%B4%ED%84%B0%20%EC%8B%9C%EA%B0%81%ED%99%94%20%EA%B8%B0%EC%B4%88.ipynb#X15sZmlsZQ%3D%3D?line=4'>5</a>\u001b[0m f \u001b[39m=\u001b[39m \u001b[39mopen\u001b[39;49m(\u001b[39m'\u001b[39;49m\u001b[39minchecon_weather.csv\u001b[39;49m\u001b[39m'\u001b[39;49m, \u001b[39m'\u001b[39;49m\u001b[39mr\u001b[39;49m\u001b[39m'\u001b[39;49m)\n\u001b[0;32m      <a href='vscode-notebook-cell:/d%3A/TIL/Intelligence%20Information%20System/04_%EB%8D%B0%EC%9D%B4%ED%84%B0%20%EC%8B%9C%EA%B0%81%ED%99%94%20%EA%B8%B0%EC%B4%88.ipynb#X15sZmlsZQ%3D%3D?line=5'>6</a>\u001b[0m data \u001b[39m=\u001b[39m csv\u001b[39m.\u001b[39mreader(f)\n\u001b[0;32m      <a href='vscode-notebook-cell:/d%3A/TIL/Intelligence%20Information%20System/04_%EB%8D%B0%EC%9D%B4%ED%84%B0%20%EC%8B%9C%EA%B0%81%ED%99%94%20%EA%B8%B0%EC%B4%88.ipynb#X15sZmlsZQ%3D%3D?line=6'>7</a>\u001b[0m \u001b[39mnext\u001b[39m(data)\n",
      "\u001b[1;31mFileNotFoundError\u001b[0m: [Errno 2] No such file or directory: 'inchecon_weather.csv'"
     ]
    }
   ],
   "source": [
    "# 최고 기온 데이터 꺾은선 그래프로 그리기\n",
    "\n",
    "import csv\n",
    "\n",
    "f = open('inchecon_weather.csv', 'r')\n",
    "data = csv.reader(f)\n",
    "next(data)\n",
    "result = []     # 최고 기온 데이터를 저장할 빈 리스트 생성\n",
    "\n",
    "for row in data:\n",
    "\n",
    "    # 최고 기온 데이터 값이 존재하면 result 리스트에 최고 기온 값 추가\n",
    "    if row[-1] != '':\n",
    "        result.append(float(row[-1]))\n",
    "\n",
    "f.close()\n",
    "\n",
    "# result에 저장된 값 확인\n",
    "# print(result)"
   ]
  },
  {
   "cell_type": "code",
   "execution_count": 5,
   "id": "3168c6af",
   "metadata": {},
   "outputs": [
    {
     "ename": "NameError",
     "evalue": "name 'result' is not defined",
     "output_type": "error",
     "traceback": [
      "\u001b[1;31m---------------------------------------------------------------------------\u001b[0m",
      "\u001b[1;31mNameError\u001b[0m                                 Traceback (most recent call last)",
      "\u001b[1;32md:\\TIL\\Intelligence Information System\\04_데이터 시각화 기초.ipynb 셀 22\u001b[0m in \u001b[0;36m<cell line: 3>\u001b[1;34m()\u001b[0m\n\u001b[0;32m      <a href='vscode-notebook-cell:/d%3A/TIL/Intelligence%20Information%20System/04_%EB%8D%B0%EC%9D%B4%ED%84%B0%20%EC%8B%9C%EA%B0%81%ED%99%94%20%EA%B8%B0%EC%B4%88.ipynb#X31sZmlsZQ%3D%3D?line=0'>1</a>\u001b[0m \u001b[39mimport\u001b[39;00m \u001b[39mmatplotlib\u001b[39;00m\u001b[39m.\u001b[39;00m\u001b[39mpyplot\u001b[39;00m \u001b[39mas\u001b[39;00m \u001b[39mplt\u001b[39;00m\n\u001b[1;32m----> <a href='vscode-notebook-cell:/d%3A/TIL/Intelligence%20Information%20System/04_%EB%8D%B0%EC%9D%B4%ED%84%B0%20%EC%8B%9C%EA%B0%81%ED%99%94%20%EA%B8%B0%EC%B4%88.ipynb#X31sZmlsZQ%3D%3D?line=2'>3</a>\u001b[0m plt\u001b[39m.\u001b[39mplot(result, color\u001b[39m=\u001b[39m\u001b[39m'\u001b[39m\u001b[39mred\u001b[39m\u001b[39m'\u001b[39m)  \u001b[39m# result 리스트에 저장된 값을 빨간색 그래프로 그리기\u001b[39;00m\n\u001b[0;32m      <a href='vscode-notebook-cell:/d%3A/TIL/Intelligence%20Information%20System/04_%EB%8D%B0%EC%9D%B4%ED%84%B0%20%EC%8B%9C%EA%B0%81%ED%99%94%20%EA%B8%B0%EC%B4%88.ipynb#X31sZmlsZQ%3D%3D?line=3'>4</a>\u001b[0m plt\u001b[39m.\u001b[39mshow()\n",
      "\u001b[1;31mNameError\u001b[0m: name 'result' is not defined"
     ]
    }
   ],
   "source": [
    "import matplotlib.pyplot as plt\n",
    "\n",
    "plt.plot(result, color='red')  # result 리스트에 저장된 값을 빨간색 그래프로 그리기\n",
    "plt.show()                     # 그래프 나타내기"
   ]
  },
  {
   "cell_type": "markdown",
   "id": "22df4f10",
   "metadata": {},
   "source": [
    "## 특정한 날의 데이터만 뽑아서 그래프로 그려보기"
   ]
  },
  {
   "cell_type": "markdown",
   "id": "7aefd74c",
   "metadata": {},
   "source": [
    "* 문자열을 분리하는 split() 함수\n",
    "    - 사용자가 설정하는 특정 문자를 기준으로 분리\n",
    "    - 특정 문자가 없다면 기본적으로 공백 문자를 기준으로 문자열 분리 (지정 시 해당 문자로 분리)"
   ]
  },
  {
   "cell_type": "markdown",
   "id": "ade2641e",
   "metadata": {},
   "source": [
    "\n",
    "* 리스트의 인덱싱 기능을 활용해, 날짜의 연, 월, 일 각각 추출"
   ]
  },
  {
   "cell_type": "code",
   "execution_count": 6,
   "id": "a73ac236",
   "metadata": {},
   "outputs": [
    {
     "ename": "FileNotFoundError",
     "evalue": "[Errno 2] No such file or directory: 'incheon_weather.csv'",
     "output_type": "error",
     "traceback": [
      "\u001b[1;31m---------------------------------------------------------------------------\u001b[0m",
      "\u001b[1;31mFileNotFoundError\u001b[0m                         Traceback (most recent call last)",
      "\u001b[1;32md:\\TIL\\Intelligence Information System\\04_데이터 시각화 기초.ipynb 셀 26\u001b[0m in \u001b[0;36m<cell line: 5>\u001b[1;34m()\u001b[0m\n\u001b[0;32m      <a href='vscode-notebook-cell:/d%3A/TIL/Intelligence%20Information%20System/04_%EB%8D%B0%EC%9D%B4%ED%84%B0%20%EC%8B%9C%EA%B0%81%ED%99%94%20%EA%B8%B0%EC%B4%88.ipynb#X32sZmlsZQ%3D%3D?line=0'>1</a>\u001b[0m \u001b[39m# 9월 13일의 최고 기온 데이터 시각화\u001b[39;00m\n\u001b[0;32m      <a href='vscode-notebook-cell:/d%3A/TIL/Intelligence%20Information%20System/04_%EB%8D%B0%EC%9D%B4%ED%84%B0%20%EC%8B%9C%EA%B0%81%ED%99%94%20%EA%B8%B0%EC%B4%88.ipynb#X32sZmlsZQ%3D%3D?line=2'>3</a>\u001b[0m \u001b[39mimport\u001b[39;00m \u001b[39mcsv\u001b[39;00m\n\u001b[1;32m----> <a href='vscode-notebook-cell:/d%3A/TIL/Intelligence%20Information%20System/04_%EB%8D%B0%EC%9D%B4%ED%84%B0%20%EC%8B%9C%EA%B0%81%ED%99%94%20%EA%B8%B0%EC%B4%88.ipynb#X32sZmlsZQ%3D%3D?line=4'>5</a>\u001b[0m f \u001b[39m=\u001b[39m \u001b[39mopen\u001b[39;49m(\u001b[39m'\u001b[39;49m\u001b[39mincheon_weather.csv\u001b[39;49m\u001b[39m'\u001b[39;49m, \u001b[39m'\u001b[39;49m\u001b[39mr\u001b[39;49m\u001b[39m'\u001b[39;49m)\n\u001b[0;32m      <a href='vscode-notebook-cell:/d%3A/TIL/Intelligence%20Information%20System/04_%EB%8D%B0%EC%9D%B4%ED%84%B0%20%EC%8B%9C%EA%B0%81%ED%99%94%20%EA%B8%B0%EC%B4%88.ipynb#X32sZmlsZQ%3D%3D?line=5'>6</a>\u001b[0m data \u001b[39m=\u001b[39m csv\u001b[39m.\u001b[39mreader(f)\n\u001b[0;32m      <a href='vscode-notebook-cell:/d%3A/TIL/Intelligence%20Information%20System/04_%EB%8D%B0%EC%9D%B4%ED%84%B0%20%EC%8B%9C%EA%B0%81%ED%99%94%20%EA%B8%B0%EC%B4%88.ipynb#X32sZmlsZQ%3D%3D?line=6'>7</a>\u001b[0m \u001b[39mnext\u001b[39m(data)\n",
      "\u001b[1;31mFileNotFoundError\u001b[0m: [Errno 2] No such file or directory: 'incheon_weather.csv'"
     ]
    }
   ],
   "source": [
    "### 9월 13일의 최고 기온 데이터 시각화\n",
    "\n",
    "import csv\n",
    "\n",
    "f = open('incheon_weather.csv', 'r')\n",
    "data = csv.reader(f)\n",
    "next(data)\n",
    "result = []  # 최고 기온 데이터를 저장할 빈 리스트 생성\n",
    "\n",
    "for row in data:\n",
    "    # 최고 기온 데이터 값이 존재한다면\n",
    "    if row[-1] != '':\n",
    "        # 9월 13일에 해당한다면\n",
    "        if row[0].split('-')[1] == '09' and row[0].split('-')[2] == 13:\n",
    "            # result 리스트에 최고 기온 값 추가\n",
    "            result.append(float(row[-1]))\n",
    "\n",
    "f.close()\n",
    "print(len(result))"
   ]
  },
  {
   "cell_type": "markdown",
   "id": "dbb73514",
   "metadata": {},
   "source": [
    "## 특정한 날의 최고 기온 및 최저 기온 데이터 시각화하기\n",
    "\n",
    "- 자신이 태어난 해를 기준(2000년)으로 해당 년도 이후부터의 데이터만 추출\n",
    "- 최고 기온 뿐만 아니라, 최저 기온 데이터도 함께 나타내기"
   ]
  },
  {
   "cell_type": "code",
   "execution_count": null,
   "id": "6d2f4b5a",
   "metadata": {},
   "outputs": [],
   "source": [
    "# 2000년 8월 18일부터 현재까지 매년 8월 18일의 데이터 추출 및 시각화\n",
    "\n",
    "import csv\n",
    "import matplotlib.pyplot as plt\n",
    "\n",
    "f = open('incheon_weather.csv', 'r')\n",
    "data = csv.reader(f)\n",
    "next(data)\n",
    "high = []       # 최고 기온 데이터를 저장할 빈 리스트 high 생성\n",
    "low = []        # 최저 기온 데이터를 저장할 빈 리스트 low 생성\n",
    "\n",
    "for row in data:\n",
    "\n",
    "    # 최고 기온과 최저 기온 데이터 값이 존재한다면\n",
    "    if row[-1] != '' and row[-2] != '':\n",
    "\n",
    "        # 출생년도 이후 데이터 비교\n",
    "        if int(row[0].splot('-')[0]) >= 2000:\n",
    "            # 8월 18일에 해당한다면\n",
    "            if row[0].split('-')[1] == '08' and row[0].split('-')[2] == '18':\n",
    "                high.append(float(row[-1]))     # high 리스트에 최고 기온 값 추가\n",
    "                low.append(float(row[-2]))      # low 리스트에 최저 기온 값 추가\n",
    "\n",
    "f.close()\n",
    "\n",
    "plt.plot(high, color='hotpink')     # high 리스트에 저장된 값을 hotpink 색 그래프로 그리기\n",
    "plt.plot(low, color='skyblue')      # low 리스트에 저장된 값을 skyblue 색 그래프로 그리기\n",
    "plt.show()                          # 그래프 나타내기"
   ]
  },
  {
   "cell_type": "markdown",
   "id": "ff5edfe2",
   "metadata": {},
   "source": [
    "*만약, 온도 중 마이너스 부호가 표현되지 않는 경우*<br>\n",
    "plt.rcParams['axes.unicode_minus'] = False 코드 추가하기"
   ]
  },
  {
   "cell_type": "code",
   "execution_count": null,
   "id": "ea22db88",
   "metadata": {},
   "outputs": [],
   "source": [
    "# 2000년 8월 18일부터 현재까지 매년 8월 18일의 데이터 추출 및 시각화\n",
    "\n",
    "import csv\n",
    "import matplotlib.pyplot as plt\n",
    "\n",
    "f = open('incheon_weather.csv', 'r')\n",
    "data = csv.reader(f)\n",
    "next(data)\n",
    "high = []       # 최고 기온 데이터를 저장할 빈 리스트 high 생성\n",
    "low = []        # 최저 기온 데이터를 저장할 빈 리스트 low 생성\n",
    "\n",
    "for row in data:\n",
    "\n",
    "    # 최고 기온과 최저 기온 데이터 값이 존재한다면\n",
    "    if row[-1] != '' and row[-2] != '':\n",
    "\n",
    "        # 출생년도 이후 데이터 비교\n",
    "        if int(row[0].splot('-')[0]) >= 2000:\n",
    "            # 8월 18일에 해당한다면\n",
    "            if row[0].split('-')[1] == '08' and row[0].split('-')[2] == '18':\n",
    "                high.append(float(row[-1]))     # high 리스트에 최고 기온 값 추가\n",
    "                low.append(float(row[-2]))      # low 리스트에 최저 기온 값 추가\n",
    "\n",
    "f.close()\n",
    "\n",
    "plt.rcParams['axes.unicode_minus'] = False\n",
    "plt.plot(high, color='hotpink')     # high 리스트에 저장된 값을 hotpink 색 그래프로 그리기\n",
    "plt.plot(low, color='skyblue')      # low 리스트에 저장된 값을 skyblue 색 그래프로 그리기\n",
    "plt.show()                          # 그래프 나타내기"
   ]
  }
 ],
 "metadata": {
  "kernelspec": {
   "display_name": "Python 3.9.12 ('base')",
   "language": "python",
   "name": "python3"
  },
  "language_info": {
   "codemirror_mode": {
    "name": "ipython",
    "version": 3
   },
   "file_extension": ".py",
   "mimetype": "text/x-python",
   "name": "python",
   "nbconvert_exporter": "python",
   "pygments_lexer": "ipython3",
   "version": "3.9.12"
  },
  "vscode": {
   "interpreter": {
    "hash": "c638347e88009a0d44f6e45de08008756b57d34d065fea7b6e15509fa1413ec3"
   }
  }
 },
 "nbformat": 4,
 "nbformat_minor": 5
}
