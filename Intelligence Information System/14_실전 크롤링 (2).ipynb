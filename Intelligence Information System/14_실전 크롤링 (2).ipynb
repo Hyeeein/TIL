{
 "cells": [
  {
   "cell_type": "markdown",
   "id": "ee6488ba",
   "metadata": {},
   "source": [
    "## 네이버 영화 평점 데이터 가져오기"
   ]
  },
  {
   "cell_type": "markdown",
   "id": "69deeea2",
   "metadata": {},
   "source": [
    "* 네이버 영화 랭킹 기준 평점 변화 확인하기\n",
    "    - robots.txt 를 확인했을 때, Disallow: /\n",
    "    - 자동적으로 긁어가는 프로그램을 원하지 않으므로, 손으로 클릭하는 수준으로 크롤링 진행\n",
    "    \n",
    "\n",
    "* 혼자 재미있게 공부해보는 것은 OK, 하지만 웹 서버에 무리를 주지 않는 선에서!\n",
    "\n",
    "\n",
    "* 상업적 이익을 발생시키는 경우, 혹은 공공데이터가 아닌 데이터를 긁어오는 경우 NO"
   ]
  },
  {
   "cell_type": "markdown",
   "id": "3b734a3f",
   "metadata": {},
   "source": [
    "### 1. 웹 페이지 데이터 가져오기\n",
    "\n",
    "* urllib, BeautifulSoup import 하기"
   ]
  },
  {
   "cell_type": "code",
   "execution_count": null,
   "id": "bf03be1d",
   "metadata": {},
   "outputs": [],
   "source": [
    "from urllib.request import urlopen\n",
    "from bs4 import BeautifulSoup\n",
    "\n",
    "# url을 따옴표를 이용하여 문자열로 만들어주기\n",
    "url = \"https://movie.naver.com/movie/sdb/rank/rmovie.naver?sel=pnt&data=20221019\"\n",
    "html = urlopen(url)\n",
    "\n",
    "soup = BeautifulSoup(html.read(), \"html.parser\")\n",
    "soup\n",
    "\n",
    "\n",
    "# 출력 예시\n",
    "\n",
    "<!DOCTYPE html>\n",
    "\n",
    "<html lang=\"ko\">\n",
    "<head>\n",
    "<meta content=\"text/html; charset=utf-8\" http-equiv=\"Content-Type\"/>\n",
    "<meta content=\"IE=edge\" http-equiv=\"X-UA-Compatible\"/>\n",
    "<meta content=\"http://imgmovie.naver.com/today/naverme/naverme_profile.jpg\" property=\"me2:image\">\n",
    "<meta content=\"네이버영화 \" property=\"me2:post_tag\">\n",
    "<meta content=\"네이버영화\" property=\"me2:category1\"/>\n",
    "<meta content=\"\" property=\"me2:category2\"/>\n",
    "<meta content=\"랭킹 : 네이버 영화\" property=\"og:title\"/>\n",
    "<meta content=\"영화, 영화인, 예매, 박스오피스 랭킹 정보 제공\" property=\"og:description\"/>\n",
    "..."
   ]
  },
  {
   "cell_type": "markdown",
   "id": "b41423fb",
   "metadata": {},
   "source": [
    "### 2. 개발자 도구를 활용해 영화 제목이 나오는 부분의 태그 확인하기\n",
    "\n",
    "\n",
    "* 크롬 개발자 도구 활용 (Ctrl + Shift + I 혹은 F12 클릭)\n",
    "    - 영화 제목이 나오는 부분의 태그 확인\n",
    "    - 네이버 영화 랭킹 Top 50 (▶를 클릭하여 내용 확인)"
   ]
  },
  {
   "attachments": {
    "image.png": {
     "image/png": "[encoded data removed]"
    }
   },
   "cell_type": "markdown",
   "id": "7a5204fd",
   "metadata": {},
   "source": [
    "![image.png](attachment:image.png)"
   ]
  },
  {
   "cell_type": "markdown",
   "id": "334a9216",
   "metadata": {},
   "source": [
    "### 3. 제목 가져오기\n",
    "\n",
    "* find_all()과 class 속성 이용하기\n",
    "* 리스트의 값 출력하기: find_all()은 리스트를 리턴"
   ]
  },
  {
   "cell_type": "code",
   "execution_count": null,
   "id": "dc7ba1b0",
   "metadata": {},
   "outputs": [],
   "source": [
    "title_list = soup.find_all('div', {'class':'tit5'})\n",
    "\n",
    "# 제목 찾기\n",
    "for title in title_list:\n",
    "    print(title)\n",
    "    \n",
    "    \n",
    "# 출력 예시\n",
    "\n",
    "<div class=\"tit5\">\n",
    "<a href=\"/movie/bi/mi/basic.naver?code=81888\" title=\"탑건: 매버릭\">탑건: 매버릭</a>\n",
    "</div>\n",
    "<div class=\"tit5\">\n",
    "<a href=\"/movie/bi/mi/basic.naver?code=213364\" title=\"인생은 뷰티풀: 비타돌체\">인생은 뷰티풀: 비타돌체</a>\n",
    "</div>\n",
    "<div class=\"tit5\">\n",
    "<a href=\"/movie/bi/mi/basic.naver?code=191613\" title=\"클라우스\">클라우스</a>\n",
    "</div>\n",
    "<div class=\"tit5\">\n",
    "<a href=\"/movie/bi/mi/basic.naver?code=144584\" title=\"할머니의 먼 집\">할머니의 먼 집</a>\n",
    "</div>\n",
    "<div class=\"tit5\">\n",
    "<a href=\"/movie/bi/mi/basic.naver?code=171539\" title=\"그린 북\">그린 북</a>\n",
    "</div>\n",
    "..."
   ]
  },
  {
   "cell_type": "code",
   "execution_count": null,
   "id": "91f5acb8",
   "metadata": {},
   "outputs": [],
   "source": [
    "title_list = soup.find_all('div', {'class':'tit5'})\n",
    "\n",
    "# 제목 찾기\n",
    "for title in title_list:\n",
    "    print(title.find('a').text)\n",
    "    \n",
    "\n",
    "# 출력 예시\n",
    "\n",
    "탑건: 매버릭\n",
    "인생은 뷰티풀: 비타돌체\n",
    "클라우스\n",
    "할머니의 먼 집\n",
    "그린 북\n",
    "밥정\n",
    "가버나움\n",
    "베일리 어게인\n",
    "원더\n",
    "아바타 리마스터링\n",
    "..."
   ]
  },
  {
   "cell_type": "code",
   "execution_count": null,
   "id": "d3cc55a9",
   "metadata": {},
   "outputs": [],
   "source": [
    "title_list = soup.find_all('div', {'class':'tit5'})\n",
    "\n",
    "# 제목 찾기\n",
    "for title in title_list:\n",
    "    print(title.text)\n",
    "    \n",
    "    \n",
    "# 출력 예시\n",
    "\n",
    "\n",
    "탑건: 매버릭\n",
    "\n",
    "\n",
    "인생은 뷰티풀: 비타돌체\n",
    "\n",
    "\n",
    "클라우스\n",
    "\n",
    "\n",
    "할머니의 먼 집\n",
    "\n",
    "\n",
    "그린 북\n",
    "\n",
    "\n",
    "밥정\n",
    "..."
   ]
  },
  {
   "cell_type": "code",
   "execution_count": 5,
   "id": "cde6c322",
   "metadata": {},
   "outputs": [
    {
     "name": "stdout",
     "output_type": "stream",
     "text": [
      "['\\n탑건: 매버릭\\n', '\\n인생은 뷰티풀: 비타돌체\\n', '\\n클라우스\\n', '\\n할머니의 먼 집\\n', '\\n그린 북\\n', '\\n밥정\\n', '\\n가버나움\\n', '\\n베일리 어게인\\n', '\\n원더\\n', '\\n아바타 리마스터링\\n', '\\n아일라\\n', '\\n극장판 바이올렛 에버가든\\n', '\\n디지몬 어드벤처 라스트 에볼루션 : 인연\\n', '\\n당갈\\n', '\\n포드 V 페라리\\n', '\\n먼 훗날 우리\\n', '\\n주전장\\n', '\\n명탐정 코난: 할로윈의 신부\\n', '\\n쇼생크 탈출\\n', '\\n터미네이터 2:오리지널\\n', '\\n장민호 드라마 최종회\\n', '\\n덕구\\n', '\\n클래식\\n', '\\n라이언 일병 구하기\\n', '\\n그대, 고맙소 : 김호중 생애 첫 팬미팅 무비\\n', '\\n나 홀로 집에\\n', '\\n월-E\\n', '\\n빽 투 더 퓨쳐\\n', '\\n사운드 오브 뮤직\\n', '\\n보헤미안 랩소디\\n', '\\n포레스트 검프\\n', '\\n글래디에이터\\n', '\\n타이타닉\\n', '\\n위대한 쇼맨\\n', '\\n인생은 아름다워\\n', '\\n살인의 추억\\n', '\\n매트릭스\\n', '\\n헬프\\n', '\\n센과 치히로의 행방불명\\n', '\\n캐스트 어웨이\\n', '\\n극장판 짱구는 못말려: 수수께끼! 꽃피는 천하떡잎학교\\n', '\\n토이 스토리 3\\n', '\\n태극권\\n', '\\n가나의 혼인잔치: 언약\\n', '\\n쉰들러 리스트\\n', '\\n씽2게더\\n', '\\n헌터 킬러\\n', '\\n반지의 제왕: 왕의 귀환\\n', '\\n히든 피겨스\\n', '\\n죽은 시인의 사회\\n']\n"
     ]
    }
   ],
   "source": [
    "title_list = soup.find_all('div', {'class':'tit5'})\n",
    "\n",
    "title_text_list = []\n",
    "\n",
    "for title in title_list:\n",
    "    title_text_list.append(title.text)\n",
    "    \n",
    "print(title_text_list)"
   ]
  },
  {
   "cell_type": "markdown",
   "id": "4a9ec9da",
   "metadata": {},
   "source": [
    "* `strip()` : 문자열의 앞&뒤 (왼쪽&오른쪽)에 있는 쓸모 없는 문자열을 제거할 때 사용\n",
    "    - strip() : 문자열의 왼쪽과 오른쪽에 있는 연속된 모든 공백을 삭제\n",
    "    - strip('삭제할 문자들') : strip(' ')와 strip()과 동일"
   ]
  },
  {
   "cell_type": "code",
   "execution_count": 6,
   "id": "5c5b3440",
   "metadata": {},
   "outputs": [
    {
     "name": "stdout",
     "output_type": "stream",
     "text": [
      " 안녕하세요 \n",
      "안녕하세요\n"
     ]
    }
   ],
   "source": [
    "test_str = ' 안녕하세요 '\n",
    "\n",
    "print(test_str)\n",
    "print(test_str.strip())"
   ]
  },
  {
   "cell_type": "code",
   "execution_count": 7,
   "id": "09305e63",
   "metadata": {},
   "outputs": [
    {
     "name": "stdout",
     "output_type": "stream",
     "text": [
      " 안녕하세요 \n",
      "안녕하세요\n"
     ]
    }
   ],
   "source": [
    "test_str = ' 안녕하세요 '\n",
    "\n",
    "print(test_str)\n",
    "print(test_str.strip(' '))"
   ]
  },
  {
   "cell_type": "code",
   "execution_count": 8,
   "id": "9d01c917",
   "metadata": {},
   "outputs": [
    {
     "name": "stdout",
     "output_type": "stream",
     "text": [
      "\n",
      "안녕하세요\n",
      "\n",
      "안녕하세요\n"
     ]
    }
   ],
   "source": [
    "test_str = '\\n안녕하세요\\n'\n",
    "\n",
    "print(test_str)\n",
    "print(test_str.strip('\\n'))"
   ]
  },
  {
   "cell_type": "code",
   "execution_count": 9,
   "id": "e8c75084",
   "metadata": {},
   "outputs": [
    {
     "name": "stdout",
     "output_type": "stream",
     "text": [
      "\n",
      " 안녕하세요 \n",
      "\n",
      "안녕하세요\n"
     ]
    }
   ],
   "source": [
    "test_str = '\\n 안녕하세요 \\n'\n",
    "\n",
    "print(test_str)\n",
    "print(test_str.strip(' \\n'))"
   ]
  },
  {
   "cell_type": "code",
   "execution_count": null,
   "id": "1d4c121d",
   "metadata": {},
   "outputs": [],
   "source": [
    "# 제목 찾기\n",
    "\n",
    "title_list = soup.find_all('div', {'class':'tit5'})\n",
    "\n",
    "for title in title_list:\n",
    "    print(title.text.strip(' \\n'))\n",
    "    \n",
    "    \n",
    "# 출력 예시\n",
    "\n",
    "탑건: 매버릭\n",
    "인생은 뷰티풀: 비타돌체\n",
    "클라우스\n",
    "할머니의 먼 집\n",
    "그린 북\n",
    "밥정\n",
    "가버나움\n",
    "베일리 어게인\n",
    "원더\n",
    "아바타 리마스터링\n",
    "아일라\n",
    "극장판 바이올렛 에버가든\n",
    "..."
   ]
  },
  {
   "cell_type": "markdown",
   "id": "f50df0cd",
   "metadata": {},
   "source": [
    "* 텍스트를 추출하는 두 가지 방법\n",
    "    - `.string`\n",
    "        - 찾고자 하는 태그(`<td>`) 하위에 있는 문자열을 객체화\n",
    "        - 순수 문자열이 아닌 경우 None을 반환\n",
    "        - 마지막 태그 안의 문자열을 (정확히) 추출하기 위해 사용\n",
    "        \n",
    "    - `.text`\n",
    "        - 현재 태그 안의 모든 텍스트 추출\n",
    "        - 현재 태그 및 모든 자식 태그를 제거하고 안에 있는 문자열(유니코드 텍스트)만 반환"
   ]
  },
  {
   "cell_type": "code",
   "execution_count": 11,
   "id": "316b48ca",
   "metadata": {},
   "outputs": [
    {
     "name": "stdout",
     "output_type": "stream",
     "text": [
      ".string의 결과\n",
      "\n",
      "some text\n",
      "None\n",
      "more text\n",
      "None\n",
      "------------------\n",
      ".text의 결과\n",
      "\n",
      "some text\n",
      "\n",
      "more text\n",
      "even more text\n"
     ]
    }
   ],
   "source": [
    "from urllib.request import urlopen\n",
    "from bs4 import BeautifulSoup\n",
    "\n",
    "html_str = \"\"\"\n",
    "<html>\n",
    "<td>some text</td>\n",
    "<td></td>\n",
    "<td><p>more text</p></td>\n",
    "<td>even <p>more text</p></td>\n",
    "</html>\n",
    "\"\"\"\n",
    "\n",
    "soup = BeautifulSoup(html_str, \"html.parser\")\n",
    "\n",
    "tmp = soup.find_all('td')\n",
    "print('.string의 결과\\n')\n",
    "for t in tmp:\n",
    "    print(t.string)\n",
    "print('------------------')\n",
    "print('.text의 결과\\n')\n",
    "for t in tmp:\n",
    "    print(t.text)"
   ]
  },
  {
   "cell_type": "markdown",
   "id": "121a2b79",
   "metadata": {},
   "source": [
    "* `.contents` : 대상 태그의 안의 내용들을 **리스트**로 반환"
   ]
  },
  {
   "cell_type": "code",
   "execution_count": 12,
   "id": "fe20ffa4",
   "metadata": {},
   "outputs": [
    {
     "name": "stdout",
     "output_type": "stream",
     "text": [
      "['some text']\n",
      "[]\n",
      "[<p>more text</p>]\n",
      "['even ', <p>more text</p>]\n"
     ]
    }
   ],
   "source": [
    "for t in tmp:\n",
    "    print(t.contents)"
   ]
  },
  {
   "cell_type": "markdown",
   "id": "a5b5a311",
   "metadata": {},
   "source": [
    "* get_text()와 .text\n",
    "\n",
    "    - get_text()에서 인수(parameter, 파라미터)가 없는 경우에는 .text와 동일\n",
    "        - 가능한 파라미터: separator, strip, types\n",
    "    - get_text()도 현재 태그 및 모든 자식 태그를 제거하고 안에 있는 문자열을 반환함\n",
    "        - 이때, separator(구분자)를 이요하여 각 현재 태그 및 자식 태그 안의 문자열을 concatenate(접합/연결) 할 수 있음"
   ]
  },
  {
   "cell_type": "code",
   "execution_count": 13,
   "id": "085620ed",
   "metadata": {},
   "outputs": [
    {
     "name": "stdout",
     "output_type": "stream",
     "text": [
      ".get_text의 결과\n",
      "\n",
      "some text\n",
      "\n",
      "more text\n",
      "even \tmore text\n",
      "------------------\n",
      ".text의 결과\n",
      "\n",
      "some text\n",
      "\n",
      "more text\n",
      "even more text\n"
     ]
    }
   ],
   "source": [
    "from urllib.request import urlopen\n",
    "from bs4 import BeautifulSoup\n",
    "\n",
    "html_str = \"\"\"\n",
    "<html>\n",
    "<td>some text</td>\n",
    "<td></td>\n",
    "<td><p>more text</p></td>\n",
    "<td>even <p>more text</p></td>\n",
    "</html>\n",
    "\"\"\"\n",
    "\n",
    "soup = BeautifulSoup(html_str, \"html.parser\")\n",
    "\n",
    "tmp = soup.find_all('td')\n",
    "print('.get_text의 결과\\n')\n",
    "for t in tmp:\n",
    "    print(t.get_text(separator='\\t'))\n",
    "print('------------------')\n",
    "print('.text의 결과\\n')\n",
    "for t in tmp:\n",
    "    print(t.text)"
   ]
  },
  {
   "cell_type": "code",
   "execution_count": null,
   "id": "21a7e548",
   "metadata": {},
   "outputs": [],
   "source": [
    "url = \"https://movie.naver.com/movie/sdb/rank/rmovie.naver?sel=pnt&data=20221019\"\n",
    "html = urlopen(url)\n",
    "\n",
    "soup = BeautifulSoup(html.read(), \"html.parser\")\n",
    "\n",
    "# 제목 찾기\n",
    "title_list = soup.find_all('div', {'class':'tit5'})\n",
    "\n",
    "for title in title_list:\n",
    "    print(title.get_text(strip=' \\n'))\n",
    "    \n",
    "    \n",
    "# 출력 예시\n",
    "\n",
    "탑건: 매버릭\n",
    "인생은 뷰티풀: 비타돌체\n",
    "클라우스\n",
    "할머니의 먼 집\n",
    "그린 북\n",
    "밥정\n",
    "가버나움\n",
    "베일리 어게인\n",
    "원더\n",
    "아바타 리마스터링\n",
    "아일라\n",
    "극장판 바이올렛 에버가든\n",
    "디지몬 어드벤처 라스트 에볼루션 : 인연\n",
    "당갈"
   ]
  },
  {
   "cell_type": "markdown",
   "id": "fb32b928",
   "metadata": {},
   "source": [
    "### 4. 평점 값 가져오기\n",
    "\n",
    "* 개발자 도구에서 위치 확인: `<td class=\"point\">9.59</td>`"
   ]
  },
  {
   "cell_type": "code",
   "execution_count": 25,
   "id": "45a8a401",
   "metadata": {},
   "outputs": [
    {
     "name": "stdout",
     "output_type": "stream",
     "text": [
      "[<td class=\"point\">9.77</td>, <td class=\"point\">9.72</td>, <td class=\"point\">9.68</td>, <td class=\"point\">9.62</td>, <td class=\"point\">9.60</td>, <td class=\"point\">9.59</td>, <td class=\"point\">9.59</td>, <td class=\"point\">9.53</td>, <td class=\"point\">9.53</td>, <td class=\"point\">9.52</td>, <td class=\"point\">9.52</td>, <td class=\"point\">9.50</td>, <td class=\"point\">9.50</td>, <td class=\"point\">9.49</td>, <td class=\"point\">9.48</td>, <td class=\"point\">9.47</td>, <td class=\"point\">9.46</td>, <td class=\"point\">9.46</td>, <td class=\"point\">9.46</td>, <td class=\"point\">9.45</td>, <td class=\"point\">9.45</td>, <td class=\"point\">9.44</td>, <td class=\"point\">9.44</td>, <td class=\"point\">9.44</td>, <td class=\"point\">9.43</td>, <td class=\"point\">9.43</td>, <td class=\"point\">9.42</td>, <td class=\"point\">9.42</td>, <td class=\"point\">9.42</td>, <td class=\"point\">9.42</td>, <td class=\"point\">9.41</td>, <td class=\"point\">9.41</td>, <td class=\"point\">9.41</td>, <td class=\"point\">9.41</td>, <td class=\"point\">9.41</td>, <td class=\"point\">9.40</td>, <td class=\"point\">9.40</td>, <td class=\"point\">9.40</td>, <td class=\"point\">9.40</td>, <td class=\"point\">9.39</td>, <td class=\"point\">9.39</td>, <td class=\"point\">9.39</td>, <td class=\"point\">9.39</td>, <td class=\"point\">9.39</td>, <td class=\"point\">9.39</td>, <td class=\"point\">9.39</td>, <td class=\"point\">9.39</td>, <td class=\"point\">9.38</td>, <td class=\"point\">9.38</td>, <td class=\"point\">9.38</td>]\n"
     ]
    }
   ],
   "source": [
    "# 평점 찾기\n",
    "\n",
    "point_list = soup.find_all('td', {'class':'point'})\n",
    "print(point_list)"
   ]
  },
  {
   "cell_type": "markdown",
   "id": "10855e6a",
   "metadata": {},
   "source": [
    "* 가져온 데이터 중에 텍스트만 추출하기"
   ]
  },
  {
   "cell_type": "code",
   "execution_count": null,
   "id": "60e1e962",
   "metadata": {},
   "outputs": [],
   "source": [
    "# 평점 찾기\n",
    "\n",
    "point_list = soup.find_all('td', {'class':'point'})\n",
    "\n",
    "for point in point_list:\n",
    "    print(point)\n",
    "\n",
    "# 출력 예시\n",
    "# <td class=\"point\">9.77</td>\n",
    "# <td class=\"point\">9.72</td>\n",
    "# <td class=\"point\">9.68</td>\n",
    "# <td class=\"point\">9.62</td>\n",
    "# <td class=\"point\">9.60</td>\n",
    "# ..."
   ]
  },
  {
   "cell_type": "code",
   "execution_count": null,
   "id": "e36ed482",
   "metadata": {},
   "outputs": [],
   "source": [
    "# 평점 찾기 (글자만 추출)\n",
    "\n",
    "point_list = soup.find_all('td', {'class':'point'})\n",
    "\n",
    "for point in point_list:\n",
    "    print(float(point.text))\n",
    "    \n",
    "# 출력 예시\n",
    "# 9.77\n",
    "# 9.72\n",
    "# 9.68\n",
    "# 9.62\n",
    "# 9.6\n",
    "# ..."
   ]
  },
  {
   "cell_type": "markdown",
   "id": "47080940",
   "metadata": {},
   "source": [
    "## 크롤링 데이터 그래프 그리기"
   ]
  },
  {
   "cell_type": "markdown",
   "id": "a40de00a",
   "metadata": {},
   "source": [
    "### 1. Pandas 메소드\n",
    "\n",
    "\n",
    "* `pandas.date_range`\n",
    "    - pandas.date_range(start=None, end=None, periods=None, freq=None, tz=None, normalize=False, name=Nonde, close=Nonde, **kwargs)\n",
    "   \n",
    "   \n",
    "* `pandas.pivot_table`\n",
    "    - pandas.pivot_table(data, values=None, index=None, columns=None, aggfunc='mean', fill_value=None, margins=False, dropna=True, margins_name='All', observed=False, sort=True)\n",
    "    \n",
    "    \n",
    "* `pandas.DataFrame.query`\n",
    "    - DataFrame.query(expr, inplace=False, **kwargs)\n",
    "    \n",
    "    \n",
    "\n",
    "### 2. URL 활용 date 값 전달\n",
    "\n",
    "\n",
    "* 대상 URL: http://movie.naver.com/movie/sdb/rank/rmovie.naver?sel=pnt&date=20221019\n",
    "\n",
    "\n",
    "* date 값을 변경하면서 각 date 별 Top 50 데이터를 가져올 수 있음\n",
    "    - **pandas.date_range**를 이용하여 원하는 날짜 생성\n",
    "    - 주로 사용하는 파라미터는 start, end, periods, freq (시작 날짜, 끝 날짜, 기간, 주기)"
   ]
  },
  {
   "cell_type": "code",
   "execution_count": 31,
   "id": "4e49fe76",
   "metadata": {},
   "outputs": [
    {
     "data": {
      "text/plain": [
       "DatetimeIndex(['2020-10-19', '2020-10-20', '2020-10-21', '2020-10-22',\n",
       "               '2020-10-23', '2020-10-24', '2020-10-25', '2020-10-26',\n",
       "               '2020-10-27', '2020-10-28', '2020-10-29', '2020-10-30',\n",
       "               '2020-10-31'],\n",
       "              dtype='datetime64[ns]', freq='D')"
      ]
     },
     "execution_count": 31,
     "metadata": {},
     "output_type": "execute_result"
    }
   ],
   "source": [
    "# 사용 예: start, end, freq\n",
    "\n",
    "# start와 end 값을 지정해주기\n",
    "import pandas as pd\n",
    "\n",
    "pd.date_range(start='10/19/2020', end='10/31/2020')"
   ]
  },
  {
   "cell_type": "code",
   "execution_count": 32,
   "id": "cfbef84a",
   "metadata": {},
   "outputs": [
    {
     "data": {
      "text/plain": [
       "DatetimeIndex(['2020-10-01', '2020-10-02', '2020-10-03', '2020-10-04',\n",
       "               '2020-10-05', '2020-10-06', '2020-10-07', '2020-10-08',\n",
       "               '2020-10-09', '2020-10-10', '2020-10-11'],\n",
       "              dtype='datetime64[ns]', freq='D')"
      ]
     },
     "execution_count": 32,
     "metadata": {},
     "output_type": "execute_result"
    }
   ],
   "source": [
    "# D: Calendar day frequency\n",
    "pd.date_range(start='10/01/2020', end='10/11/2020', freq='D')"
   ]
  },
  {
   "cell_type": "code",
   "execution_count": 34,
   "id": "6a4d13a9",
   "metadata": {},
   "outputs": [
    {
     "data": {
      "text/plain": [
       "DatetimeIndex(['2020-10-01', '2020-10-02', '2020-10-05', '2020-10-06',\n",
       "               '2020-10-07', '2020-10-08', '2020-10-09'],\n",
       "              dtype='datetime64[ns]', freq='B')"
      ]
     },
     "execution_count": 34,
     "metadata": {},
     "output_type": "execute_result"
    }
   ],
   "source": [
    "# B: Business day frequency (평일만)\n",
    "pd.date_range(start='10/01/2020', end='10/11/2020', freq='B')"
   ]
  },
  {
   "cell_type": "code",
   "execution_count": 35,
   "id": "c0ee829a",
   "metadata": {},
   "outputs": [
    {
     "data": {
      "text/plain": [
       "DatetimeIndex(['2020-10-04', '2020-10-11'], dtype='datetime64[ns]', freq='W-SUN')"
      ]
     },
     "execution_count": 35,
     "metadata": {},
     "output_type": "execute_result"
    }
   ],
   "source": [
    "# W: Weekly frequence (매주 일요일만)\n",
    "pd.date_range(start='10/01/2020', end='10/11/2020', freq='W')"
   ]
  },
  {
   "cell_type": "code",
   "execution_count": 36,
   "id": "4d4975e5",
   "metadata": {},
   "outputs": [
    {
     "data": {
      "text/plain": [
       "DatetimeIndex(['2020-10-05'], dtype='datetime64[ns]', freq='W-MON')"
      ]
     },
     "execution_count": 36,
     "metadata": {},
     "output_type": "execute_result"
    }
   ],
   "source": [
    "# W: Weekly frequence (매주 월요일만)\n",
    "pd.date_range(start='10/01/2020', end='10/11/2020', freq='W-Mon')"
   ]
  },
  {
   "cell_type": "code",
   "execution_count": 40,
   "id": "80072940",
   "metadata": {},
   "outputs": [
    {
     "data": {
      "text/plain": [
       "DatetimeIndex(['2020-01-31', '2020-02-29', '2020-03-31', '2020-04-30',\n",
       "               '2020-05-31', '2020-06-30', '2020-07-31', '2020-08-31',\n",
       "               '2020-09-30'],\n",
       "              dtype='datetime64[ns]', freq='M')"
      ]
     },
     "execution_count": 40,
     "metadata": {},
     "output_type": "execute_result"
    }
   ],
   "source": [
    "# M: Month end frequency (매달 마지막 날만)\n",
    "pd.date_range(start='01/01/2020', end='10/11/2020', freq='M')"
   ]
  },
  {
   "cell_type": "markdown",
   "id": "d2e2996e",
   "metadata": {},
   "source": [
    "### 3. 특정 날짜만 추출하기\n",
    "\n",
    "\n",
    "\n",
    "* 날짜 표기법\n",
    "\n",
    "    - 영어의 날짜 표기 방식\n",
    "        - 미국식: Month/Day/Year, 영국식: Day/Month/Year\n",
    "        - 일반적으로, 11th October 2020 혹은 11 October 2020\n",
    "        - 가볍게 쓸 때, 10/1/2020 이고, 가볍게 쓰지만 조금 더 formal한 상황이면 10/01/2020\n",
    "    - 국제 표준 (ISO 8601 날짜)\n",
    "        - YYYYMMDD: 20201001 혹은 YYYY-MM-DD: 2020-10-01"
   ]
  },
  {
   "cell_type": "markdown",
   "id": "73855ba2",
   "metadata": {},
   "source": [
    "* 특정 날짜만 추출하기\n",
    "    - periods: Number or periods to generate"
   ]
  },
  {
   "cell_type": "code",
   "execution_count": 41,
   "id": "3fdc2275",
   "metadata": {},
   "outputs": [
    {
     "data": {
      "text/plain": [
       "DatetimeIndex(['2020-10-01', '2020-10-02', '2020-10-03', '2020-10-04',\n",
       "               '2020-10-05'],\n",
       "              dtype='datetime64[ns]', freq='D')"
      ]
     },
     "execution_count": 41,
     "metadata": {},
     "output_type": "execute_result"
    }
   ],
   "source": [
    "pd.date_range(start='2020-10-01', periods=5)"
   ]
  },
  {
   "cell_type": "code",
   "execution_count": 42,
   "id": "b8ec8c38",
   "metadata": {},
   "outputs": [
    {
     "data": {
      "text/plain": [
       "DatetimeIndex(['2020-10-05', '2020-10-12', '2020-10-19', '2020-10-26',\n",
       "               '2020-11-02'],\n",
       "              dtype='datetime64[ns]', freq='W-MON')"
      ]
     },
     "execution_count": 42,
     "metadata": {},
     "output_type": "execute_result"
    }
   ],
   "source": [
    "pd.date_range(start='2020-10-01', periods=5, freq='W-Mon')"
   ]
  },
  {
   "cell_type": "markdown",
   "id": "4a1281c9",
   "metadata": {},
   "source": [
    "* 날짜 생성하기 (2020-07-01부터 100일 동안의 영화 정보 검색하기)\n",
    "    - search_date = pd.date_range(\"2020-07-01\", periods=100, freq='D')"
   ]
  },
  {
   "cell_type": "code",
   "execution_count": 43,
   "id": "d2b2e2a4",
   "metadata": {},
   "outputs": [
    {
     "name": "stdout",
     "output_type": "stream",
     "text": [
      "DatetimeIndex(['2020-07-01', '2020-07-02', '2020-07-03', '2020-07-04',\n",
      "               '2020-07-05', '2020-07-06', '2020-07-07', '2020-07-08',\n",
      "               '2020-07-09', '2020-07-10', '2020-07-11', '2020-07-12',\n",
      "               '2020-07-13', '2020-07-14', '2020-07-15', '2020-07-16',\n",
      "               '2020-07-17', '2020-07-18', '2020-07-19', '2020-07-20',\n",
      "               '2020-07-21', '2020-07-22', '2020-07-23', '2020-07-24',\n",
      "               '2020-07-25', '2020-07-26', '2020-07-27', '2020-07-28',\n",
      "               '2020-07-29', '2020-07-30', '2020-07-31', '2020-08-01',\n",
      "               '2020-08-02', '2020-08-03', '2020-08-04', '2020-08-05',\n",
      "               '2020-08-06', '2020-08-07', '2020-08-08', '2020-08-09',\n",
      "               '2020-08-10', '2020-08-11', '2020-08-12', '2020-08-13',\n",
      "               '2020-08-14', '2020-08-15', '2020-08-16', '2020-08-17',\n",
      "               '2020-08-18', '2020-08-19', '2020-08-20', '2020-08-21',\n",
      "               '2020-08-22', '2020-08-23', '2020-08-24', '2020-08-25',\n",
      "               '2020-08-26', '2020-08-27', '2020-08-28', '2020-08-29',\n",
      "               '2020-08-30', '2020-08-31', '2020-09-01', '2020-09-02',\n",
      "               '2020-09-03', '2020-09-04', '2020-09-05', '2020-09-06',\n",
      "               '2020-09-07', '2020-09-08', '2020-09-09', '2020-09-10',\n",
      "               '2020-09-11', '2020-09-12', '2020-09-13', '2020-09-14',\n",
      "               '2020-09-15', '2020-09-16', '2020-09-17', '2020-09-18',\n",
      "               '2020-09-19', '2020-09-20', '2020-09-21', '2020-09-22',\n",
      "               '2020-09-23', '2020-09-24', '2020-09-25', '2020-09-26',\n",
      "               '2020-09-27', '2020-09-28', '2020-09-29', '2020-09-30',\n",
      "               '2020-10-01', '2020-10-02', '2020-10-03', '2020-10-04',\n",
      "               '2020-10-05', '2020-10-06', '2020-10-07', '2020-10-08'],\n",
      "              dtype='datetime64[ns]', freq='D')\n"
     ]
    }
   ],
   "source": [
    "date_list = pd.date_range('2020-07-01', periods=100, freq='D')\n",
    "print(date_list)"
   ]
  }
 ],
 "metadata": {
  "kernelspec": {
   "display_name": "Python 3 (ipykernel)",
   "language": "python",
   "name": "python3"
  },
  "language_info": {
   "codemirror_mode": {
    "name": "ipython",
    "version": 3
   },
   "file_extension": ".py",
   "mimetype": "text/x-python",
   "name": "python",
   "nbconvert_exporter": "python",
   "pygments_lexer": "ipython3",
   "version": "3.9.12"
  }
 },
 "nbformat": 4,
 "nbformat_minor": 5
}
