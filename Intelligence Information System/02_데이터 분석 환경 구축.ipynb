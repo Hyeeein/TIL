{
 "cells": [
  {
   "cell_type": "markdown",
   "metadata": {},
   "source": [
    "### 데이터 분석에 사용되는 도구들\n",
    "\n",
    "- 아나콘다 : 파이썬 설치 + 데이터 분석에 필요한 라이브러리 쉽게 불러올 수 있음. 별도의 가상환경 만들 수 있음 (버전 충돌 방지용 / 라이브러리마다 버전이 다른 경우도 많으니까)\n",
    "- 주피터 노트북 : 코드를 작성/관리하고, 결과를 쉽게 확인할 수 있는 유저 인터페이스 제공"
   ]
  },
  {
   "cell_type": "markdown",
   "metadata": {},
   "source": [
    "### 파이썬과 아나콘다\n",
    "\n",
    "1. Python\n",
    "    - '몬티 파이썬의 날아다니는 서커스'에서 따온 것\n",
    "    - 사전적 의미는 고대 신화에 나오는 파르나소스 산의 동굴에 살던 두 머리의 뱀 피톤(Pyton)을 의미 / 현재는 비단뱀을 의미함\n",
    "\n",
    "2. Anaconda\n",
    "    - 파이썬 + 데이터분석 라이브러리 = 아나콘다\n",
    "\n",
    "3. Jupyter Notebook\n",
    "    - 오픈 소스 기반의 웹 애플리케이션\n",
    "    - 파일 확장자는 기존 IPython Notebook에서 따와 .ipynb\n",
    "    - 코드 작성하고 실행하는 개발 환경 제공 (IDE, Integrated Development Environment)\n",
    "    - 코드 실행 결과 바로 확인 가능\n",
    "    - 아나콘다 설치 시 주피터 노트북 바로 사용 가능"
   ]
  },
  {
   "cell_type": "markdown",
   "metadata": {},
   "source": []
  }
 ],
 "metadata": {
  "kernelspec": {
   "display_name": "Python 3.10.7 64-bit",
   "language": "python",
   "name": "python3"
  },
  "language_info": {
   "name": "python",
   "version": "3.10.7"
  },
  "orig_nbformat": 4,
  "vscode": {
   "interpreter": {
    "hash": "571214fd5c1f53d624ff021843f557c5fed43ab37a0f8ef5dfc8b3865f00e5a5"
   }
  }
 },
 "nbformat": 4,
 "nbformat_minor": 2
}
