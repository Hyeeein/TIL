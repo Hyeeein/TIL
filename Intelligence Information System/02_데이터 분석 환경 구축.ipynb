{
 "cells": [
  {
   "cell_type": "markdown",
   "metadata": {},
   "source": [
    "### 데이터 분석에 사용되는 도구들\n",
    "\n",
    "- 아나콘다 : 파이썬 설치 + 데이터 분석에 필요한 라이브러리 쉽게 불러올 수 있음. 별도의 가상환경 만들 수 있음 (버전 충돌 방지용 / 라이브러리마다 버전이 다른 경우도 많으니까)\n",
    "- 주피터 노트북 : 코드를 작성/관리하고, 결과를 쉽게 확인할 수 있는 유저 인터페이스 제공"
   ]
  },
  {
   "cell_type": "markdown",
   "metadata": {},
   "source": [
    "### 파이썬과 아나콘다\n",
    "\n",
    "1. Python\n",
    "    - '몬티 파이썬의 날아다니는 서커스'에서 따온 것\n",
    "    - 사전적 의미는 고대 신화에 나오는 파르나소스 산의 동굴에 살던 두 머리의 뱀 피톤(Pyton)을 의미 / 현재는 비단뱀을 의미함\n",
    "\n",
    "2. Anaconda\n",
    "    - 파이썬 + 데이터분석 라이브러리 = 아나콘다\n",
    "\n",
    "3. Jupyter Notebook\n",
    "    - 오픈 소스 기반의 웹 애플리케이션\n",
    "    - 파일 확장자는 기존 IPython Notebook에서 따와 .ipynb\n",
    "    - 코드 작성하고 실행하는 개발 환경 제공 (IDE, Integrated Development Environment)\n",
    "    - 코드 실행 결과 바로 확인 가능\n",
    "    - 아나콘다 설치 시 주피터 노트북 바로 사용 가능"
   ]
  },
  {
   "cell_type": "markdown",
   "metadata": {},
   "source": [
    "### 권장 동작 환경\n",
    "\n",
    "1. OS : Window 10 64 bit, macOS Mojave\n",
    "2. Python : Python 3.X (Anaconda 이용)\n",
    "3. Web 브라우저 : Google Chrome (Jupyter Notebook)"
   ]
  },
  {
   "cell_type": "markdown",
   "metadata": {},
   "source": [
    "### 32비트와 64비트?\n",
    "\n",
    "1. 32비트인데 x86인 이유?\n",
    "    - 인텔이 만든 CPU 명령어 세트 이름. 현재는 아키텍처 계열을 의미\n",
    "        - x86 계열 : 80x86\n",
    "        - 주력 모델 : 286, 386, 486, 펜티엄 1, 펜티엄 2, 펜티엄 3, 펜티엄 4, Core-i 시리즈\n",
    "    - x86 계열의 CPU가 32비트까지 존재 => 64비트까지 확장한게 x86-64\n",
    "\n",
    "2. x86-64\n",
    "    - x86을 64비트로 확장한 아키텍처 : 개발사 AMD\n",
    "    - 표준 명칭은 AMD64 (x86-64, x64, EM64T, Intel64라고도 불림)"
   ]
  },
  {
   "cell_type": "markdown",
   "metadata": {},
   "source": [
    "### 아나콘다 설치 과정 중 추가 필기 내용\n",
    "\n",
    "1. 다운로드 속도 477MB가 왜 1분이나 걸릴까?\n",
    "    - Mbps : Megabit per second\n",
    "    - MB/s : Megabyte per second\n",
    "\n",
    "    * 이때 우리가 사용하고 있는 인터넷은 나누기 8을 해야 함\n",
    "        - 100Mbps 인터넷 : (최대) 초당 12.5MB 내외\n",
    "        - 500Mbps 인터넷 : (최대) 초당 62.5MB 내외\n",
    "        - 기가 (100Mbps/1Gbps) 인터넷 : (최대) 초당 125MB 내외\n",
    "\n",
    "2. 압축 방식 : tar, zip, tar.gz, tar.bz2\n",
    "\n",
    "3. 압축 속도 : tar (빠름) < zip < tar.gz < tar.bz2(느림, But 압축률은 가장 높음)"
   ]
  },
  {
   "cell_type": "markdown",
   "metadata": {},
   "source": [
    "### 주피터 노트북 연습하기\n",
    "\n",
    "* 실행 방법\n",
    "    1. Ctrl + Enter : 현재 셀 실행\n",
    "    2. Shift + Enter / Run 버튼 : 현재 셀 실행 + 아래 셀로 이동 / 셀 생성\n",
    "    3. Alt + Enter : 현재 셀 실행 + 아래 셀 생성\n",
    "\n",
    "* Edit 기능을 눌러 여러 가지 기능 사용 가능\n",
    "\n",
    "* 연두색과 하늘색?\n",
    "    - 연두색 : 선택 + 커서\n",
    "    - 하늘색 : 선택만 된 상태"
   ]
  },
  {
   "cell_type": "markdown",
   "metadata": {},
   "source": [
    "### 주피터 노트북의 특징\n",
    "\n",
    "1. Code -> Markdown으로 변경 (주석 이외에 더 상세한 설명 추가 가능)\n",
    "2. 셀을 선택한 상태(하늘색)에서 키보드의 M 클릭하면 바로 마크다운 문서로 변경\n",
    "3. Markdown 문서\n",
    "    - 제목 크기 순은 #, ##, ###\n",
    "    - 목록은 *, - (뒤에 띄어쓰기 꼭!)\n",
    "    - 글씨에서 기울인 글씨는 *, 굵은 글씨는 ** , 굵게 기울인 글씨는 ***으로 사용 (뒤에 띄어쓰기 안함)"
   ]
  },
  {
   "cell_type": "markdown",
   "metadata": {},
   "source": [
    "### 주피터 노트북과 Colab\n",
    "\n",
    "- Colab은 용량의 한계가 있음. 업로드/다운로드가 느림\n",
    "- 컴퓨터 공학 전공이라면 주피터 노트북을 사용하는 것이 좋음"
   ]
  },
  {
   "cell_type": "markdown",
   "metadata": {},
   "source": [
    "### 주피터 간단 사용법\n",
    "\n",
    "1. 폴더 만들기\n",
    "    - [New] -> [Folder] 클릭\n",
    "    - [Untitled Folder] 생성\n",
    "    - 왼쪽 네모 박스 클릭 -> [Rename] 클릭\n",
    "    - 'Untitled Folder' 이름을 'Exercises'로 변경\n",
    "    - [Exercises] 폴더 생성\n",
    "    - 동일한 방법으로 /Excercises/Week2 폴더 생성\n",
    "\n",
    "2. 주피터 노트북 파일명 변경하기\n",
    "    - [New] -> [Python3] -> 새 창에 'Untitled' Jupyter Notebook 생성\n",
    "    - 'Untitled' 클릭 -> 'basic' 입력 -> 'Rename' 버튼 클릭\n",
    "    - Untitled.ipynb -> basic.ipynb"
   ]
  }
 ],
 "metadata": {
  "kernelspec": {
   "display_name": "Python 3.10.7 64-bit",
   "language": "python",
   "name": "python3"
  },
  "language_info": {
   "name": "python",
   "version": "3.10.7"
  },
  "orig_nbformat": 4,
  "vscode": {
   "interpreter": {
    "hash": "571214fd5c1f53d624ff021843f557c5fed43ab37a0f8ef5dfc8b3865f00e5a5"
   }
  }
 },
 "nbformat": 4,
 "nbformat_minor": 2
}
