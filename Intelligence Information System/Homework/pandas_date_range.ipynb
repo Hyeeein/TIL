{
 "cells": [
  {
   "cell_type": "markdown",
   "id": "1a5eacee",
   "metadata": {},
   "source": [
    "## pandas.date_range 예제 실행해보기\n",
    "\n",
    "`인천대학교 경제학과 201900740 박혜인`"
   ]
  },
  {
   "cell_type": "code",
   "execution_count": 1,
   "id": "55dceaf0",
   "metadata": {},
   "outputs": [
    {
     "data": {
      "text/plain": [
       "'1.4.2'"
      ]
     },
     "execution_count": 1,
     "metadata": {},
     "output_type": "execute_result"
    }
   ],
   "source": [
    "# pandas 버전에 맞춰서 봐야하므로, 버전 꼭 확인\n",
    "\n",
    "import pandas as pd\n",
    "pd.__version__"
   ]
  },
  {
   "cell_type": "markdown",
   "id": "3e4e86a2",
   "metadata": {},
   "source": [
    "## Specifying the values"
   ]
  },
  {
   "cell_type": "markdown",
   "id": "f2bbde6d",
   "metadata": {},
   "source": [
    "The next four examples generate the same DatetimeIndex, but vary the combination of start, end and periods."
   ]
  },
  {
   "cell_type": "markdown",
   "id": "e1f46d3c",
   "metadata": {},
   "source": [
    "Specify start and end, with the default daily frequency."
   ]
  },
  {
   "cell_type": "code",
   "execution_count": 2,
   "id": "9da778b8",
   "metadata": {},
   "outputs": [
    {
     "data": {
      "text/plain": [
       "DatetimeIndex(['2018-01-01', '2018-01-02', '2018-01-03', '2018-01-04',\n",
       "               '2018-01-05', '2018-01-06', '2018-01-07', '2018-01-08'],\n",
       "              dtype='datetime64[ns]', freq='D')"
      ]
     },
     "execution_count": 2,
     "metadata": {},
     "output_type": "execute_result"
    }
   ],
   "source": [
    "pd.date_range(start='1/1/2018', end='1/08/2018')"
   ]
  },
  {
   "cell_type": "markdown",
   "id": "200b2efc",
   "metadata": {},
   "source": [
    "Specify start and periods, the number of periods (days)."
   ]
  },
  {
   "cell_type": "code",
   "execution_count": 3,
   "id": "d4dd35a9",
   "metadata": {},
   "outputs": [
    {
     "data": {
      "text/plain": [
       "DatetimeIndex(['2018-01-01', '2018-01-02', '2018-01-03', '2018-01-04',\n",
       "               '2018-01-05', '2018-01-06', '2018-01-07', '2018-01-08'],\n",
       "              dtype='datetime64[ns]', freq='D')"
      ]
     },
     "execution_count": 3,
     "metadata": {},
     "output_type": "execute_result"
    }
   ],
   "source": [
    "pd.date_range(start='1/1/2018', periods=8)"
   ]
  },
  {
   "cell_type": "markdown",
   "id": "cf702d44",
   "metadata": {},
   "source": [
    "Specify end and periods, the number of periods (days)."
   ]
  },
  {
   "cell_type": "code",
   "execution_count": 4,
   "id": "315b5e90",
   "metadata": {
    "scrolled": true
   },
   "outputs": [
    {
     "data": {
      "text/plain": [
       "DatetimeIndex(['2017-12-25', '2017-12-26', '2017-12-27', '2017-12-28',\n",
       "               '2017-12-29', '2017-12-30', '2017-12-31', '2018-01-01'],\n",
       "              dtype='datetime64[ns]', freq='D')"
      ]
     },
     "execution_count": 4,
     "metadata": {},
     "output_type": "execute_result"
    }
   ],
   "source": [
    "pd.date_range(end='1/1/2018', periods=8)"
   ]
  },
  {
   "cell_type": "markdown",
   "id": "39b9796b",
   "metadata": {},
   "source": [
    "Specify start, end, and periods; the frequency is generated automatically (linearly spaced)."
   ]
  },
  {
   "cell_type": "code",
   "execution_count": 5,
   "id": "4ee6919d",
   "metadata": {},
   "outputs": [
    {
     "data": {
      "text/plain": [
       "DatetimeIndex(['2018-04-24 00:00:00', '2018-04-25 12:00:00',\n",
       "               '2018-04-27 00:00:00'],\n",
       "              dtype='datetime64[ns]', freq=None)"
      ]
     },
     "execution_count": 5,
     "metadata": {},
     "output_type": "execute_result"
    }
   ],
   "source": [
    "pd.date_range(start='2018-04-24', end='2018-04-27', periods=3)"
   ]
  },
  {
   "cell_type": "markdown",
   "id": "23add315",
   "metadata": {},
   "source": [
    "## Other Parameters"
   ]
  },
  {
   "cell_type": "markdown",
   "id": "8a2f1bfa",
   "metadata": {},
   "source": [
    "Changed the freq (frequency) to 'M' (month end frequency)."
   ]
  },
  {
   "cell_type": "code",
   "execution_count": 6,
   "id": "b4e51eeb",
   "metadata": {},
   "outputs": [
    {
     "data": {
      "text/plain": [
       "DatetimeIndex(['2018-01-31', '2018-02-28', '2018-03-31', '2018-04-30',\n",
       "               '2018-05-31'],\n",
       "              dtype='datetime64[ns]', freq='M')"
      ]
     },
     "execution_count": 6,
     "metadata": {},
     "output_type": "execute_result"
    }
   ],
   "source": [
    "pd.date_range(start='1/1/2018', periods=5, freq='M')"
   ]
  },
  {
   "cell_type": "markdown",
   "id": "1c8829f5",
   "metadata": {},
   "source": [
    "Multiples are allowed"
   ]
  },
  {
   "cell_type": "code",
   "execution_count": 7,
   "id": "86297fa6",
   "metadata": {},
   "outputs": [
    {
     "data": {
      "text/plain": [
       "DatetimeIndex(['2018-01-31', '2018-04-30', '2018-07-31', '2018-10-31',\n",
       "               '2019-01-31'],\n",
       "              dtype='datetime64[ns]', freq='3M')"
      ]
     },
     "execution_count": 7,
     "metadata": {},
     "output_type": "execute_result"
    }
   ],
   "source": [
    "pd.date_range(start='1/1/2018', periods=5, freq='3M')"
   ]
  },
  {
   "cell_type": "markdown",
   "id": "ae06b5ee",
   "metadata": {},
   "source": [
    "freq can also be specified as an Offset object."
   ]
  },
  {
   "cell_type": "code",
   "execution_count": 8,
   "id": "87e83d03",
   "metadata": {},
   "outputs": [
    {
     "data": {
      "text/plain": [
       "DatetimeIndex(['2018-01-31', '2018-04-30', '2018-07-31', '2018-10-31',\n",
       "               '2019-01-31'],\n",
       "              dtype='datetime64[ns]', freq='3M')"
      ]
     },
     "execution_count": 8,
     "metadata": {},
     "output_type": "execute_result"
    }
   ],
   "source": [
    "pd.date_range(start='1/1/2018', periods=5, freq=pd.offsets.MonthEnd(3))"
   ]
  },
  {
   "cell_type": "markdown",
   "id": "43d37735",
   "metadata": {},
   "source": [
    "Specify tz to set the timezone."
   ]
  },
  {
   "cell_type": "code",
   "execution_count": 9,
   "id": "34d2c75a",
   "metadata": {},
   "outputs": [
    {
     "data": {
      "text/plain": [
       "DatetimeIndex(['2018-01-01 00:00:00+09:00', '2018-01-02 00:00:00+09:00',\n",
       "               '2018-01-03 00:00:00+09:00', '2018-01-04 00:00:00+09:00',\n",
       "               '2018-01-05 00:00:00+09:00'],\n",
       "              dtype='datetime64[ns, Asia/Tokyo]', freq='D')"
      ]
     },
     "execution_count": 9,
     "metadata": {},
     "output_type": "execute_result"
    }
   ],
   "source": [
    "pd.date_range(start='1/1/2018', periods=5, tz='Asia/Tokyo')"
   ]
  },
  {
   "cell_type": "markdown",
   "id": "519ad285",
   "metadata": {},
   "source": [
    "inclusive controls whether to include start and end that are on the boundary. The default, “both”, includes boundary points on either end."
   ]
  },
  {
   "cell_type": "code",
   "execution_count": 10,
   "id": "3827a212",
   "metadata": {},
   "outputs": [
    {
     "data": {
      "text/plain": [
       "DatetimeIndex(['2017-01-01', '2017-01-02', '2017-01-03', '2017-01-04'], dtype='datetime64[ns]', freq='D')"
      ]
     },
     "execution_count": 10,
     "metadata": {},
     "output_type": "execute_result"
    }
   ],
   "source": [
    "pd.date_range(start='2017-01-01', end='2017-01-04', inclusive=\"both\")"
   ]
  },
  {
   "cell_type": "markdown",
   "id": "91fc6de5",
   "metadata": {},
   "source": [
    "Use inclusive='left' to exclude end if it falls on the boundary."
   ]
  },
  {
   "cell_type": "code",
   "execution_count": 11,
   "id": "ed4d94a4",
   "metadata": {},
   "outputs": [
    {
     "data": {
      "text/plain": [
       "DatetimeIndex(['2017-01-01', '2017-01-02', '2017-01-03'], dtype='datetime64[ns]', freq='D')"
      ]
     },
     "execution_count": 11,
     "metadata": {},
     "output_type": "execute_result"
    }
   ],
   "source": [
    "pd.date_range(start='2017-01-01', end='2017-01-04', inclusive='left')"
   ]
  },
  {
   "cell_type": "markdown",
   "id": "6890d78a",
   "metadata": {},
   "source": [
    "Use inclusive='right' to exclude start if it falls on the boundary, and similarly inclusive='neither' will exclude both start and end."
   ]
  },
  {
   "cell_type": "code",
   "execution_count": 12,
   "id": "b87b32b8",
   "metadata": {},
   "outputs": [
    {
     "data": {
      "text/plain": [
       "DatetimeIndex(['2017-01-02', '2017-01-03', '2017-01-04'], dtype='datetime64[ns]', freq='D')"
      ]
     },
     "execution_count": 12,
     "metadata": {},
     "output_type": "execute_result"
    }
   ],
   "source": [
    "pd.date_range(start='2017-01-01', end='2017-01-04', inclusive='right')"
   ]
  }
 ],
 "metadata": {
  "kernelspec": {
   "display_name": "Python 3 (ipykernel)",
   "language": "python",
   "name": "python3"
  },
  "language_info": {
   "codemirror_mode": {
    "name": "ipython",
    "version": 3
   },
   "file_extension": ".py",
   "mimetype": "text/x-python",
   "name": "python",
   "nbconvert_exporter": "python",
   "pygments_lexer": "ipython3",
   "version": "3.9.12"
  }
 },
 "nbformat": 4,
 "nbformat_minor": 5
}
