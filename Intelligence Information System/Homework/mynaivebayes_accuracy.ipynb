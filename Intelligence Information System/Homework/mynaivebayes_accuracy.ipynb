{
 "cells": [
  {
   "cell_type": "markdown",
   "id": "005845aa",
   "metadata": {},
   "source": [
    "## 2022년 11월 30일 (수) 실습 2\n",
    "\n",
    "`인천대학교 경제학과 201900740 박혜인`"
   ]
  },
  {
   "cell_type": "code",
   "execution_count": 51,
   "id": "f5bc81e7",
   "metadata": {},
   "outputs": [],
   "source": [
    "import math\n",
    "\n",
    "class MyNaiveBayesClassifier:\n",
    "    \n",
    "    def __init__(self, k=0.5, use_morph=False):\n",
    "        self.k = k\n",
    "        self.word_probs = []\n",
    "        self.use_morph = use_morph\n",
    "        \n",
    "        if self.use_morph:\n",
    "            from konlpy.tag import Okt\n",
    "            self.okt = Okt()\n",
    "            \n",
    "            \n",
    "    def load_data(self, file_path):\n",
    "        # file_path에 있는 데이터를 읽어옴\n",
    "        \n",
    "        docs = []\n",
    "        labels = []\n",
    "        count = 0\n",
    "        \n",
    "        with open(file_path, 'r', encoding='utf-8') as f:\n",
    "            for line in f.readlines():\n",
    "                if count == 500: break\n",
    "                line = line.strip()\n",
    "                id, doc, label = line.split('\\t')\n",
    "                docs.append(doc)\n",
    "                if label == '1': label = 'pos'\n",
    "                elif label == '0': label = 'neg'\n",
    "                labels.append(label)\n",
    "                count += 1\n",
    "            \n",
    "        return docs[1:], labels[1:]\n",
    "        \n",
    "        \n",
    "    def tokenize(self, sentence):\n",
    "        if self.use_morph:\n",
    "            pos_sent = []\n",
    "            \n",
    "            # raw_sent: 사과가 좋아\n",
    "            sent = self.okt.pos(sentence, norm=True, stem=True)\n",
    "            # sent: [('사과', 'Noun'), ('가', 'Josa'), ('좋다', 'Adjective')]\n",
    "            \n",
    "            for tup in sent:\n",
    "                word, tag = tup[0], tup[1]      # tup: ('사과', 'Noun')\n",
    "                word_tag = word + '/' + tag     # word_tag: '사과/Noun'\n",
    "                pos_sent.append(word_tag)\n",
    "            \n",
    "            sentence = ' '.join(pos_sent)\n",
    "        \n",
    "        return sentence.split()\n",
    "\n",
    "            \n",
    "    def count_words(self, docs, labels):\n",
    "        # 단어 사전(dictionary)를 만들고, 각 단어의 긍정/부정 문서 등장 횟수 세기\n",
    "        \n",
    "        count_dict = dict()\n",
    "        for doc, label in zip(docs, labels):\n",
    "            for word in self.tokenize(doc):\n",
    "                if word not in count_dict:\n",
    "                    count_dict[word] = {'pos': 0, 'neg': 0}\n",
    "                count_dict[word][label] += 1\n",
    "        \n",
    "        print('num of words...', len(count_dict))\n",
    "        return count_dict\n",
    "        \n",
    "        \n",
    "    def word_prob(self, count_dict, pos_class_num, neg_class_num, k):\n",
    "        # (단어, p(단어|긍정), p(단어|부정))의 튜플 형태로 만들어주어 리스트에 추가\n",
    "        \n",
    "        word_prob_list = []\n",
    "        \n",
    "        for key in count_dict:\n",
    "            pos_word_num = count_dict[key]['pos']\n",
    "            neg_word_num = count_dict[key]['neg']\n",
    "            \n",
    "            pos_class_prob = (pos_word_num + k) / (pos_class_num + 2*k)\n",
    "            neg_class_prob = (neg_word_num + k) / (neg_class_num + 2*k)\n",
    "            \n",
    "            tup = (key, pos_class_prob, neg_class_prob)\n",
    "            word_prob_list.append(tup)\n",
    "            \n",
    "        return word_prob_list\n",
    "    \n",
    "    \n",
    "    def class_prob(self, word_prob_list, test_sentence, use_unseen=False):\n",
    "        # p(긍정|문서), p(부정|문서) 계산\n",
    "    \n",
    "        test_words = self.tokenize(test_sentence)\n",
    "        \n",
    "        sent_log_pos_class_prob, sent_log_neg_class_prob = 0.0, 0.0\n",
    "        \n",
    "        for word, word_pos_class_prob, word_neg_class_prob in word_prob_list:\n",
    "            if word in test_words:\n",
    "                sent_log_pos_class_prob = sent_log_pos_class_prob + math.log(word_pos_class_prob)\n",
    "                sent_log_neg_class_prob = sent_log_neg_class_prob + math.log(word_neg_class_prob)\n",
    "            else:\n",
    "                if use_unseen:\n",
    "                    sent_log_pos_class_prob = sent_log_pos_class_prob + math.log(1.0 - word_pos_class_prob)\n",
    "                    sent_log_neg_class_prob = sent_log_neg_class_prob + math.log(1.0 - word_neg_class_prob)\n",
    "        \n",
    "        sent_pos_class_prob = math.exp(sent_log_pos_class_prob)\n",
    "        sent_neg_class_prob = math.exp(sent_log_neg_class_prob)\n",
    "        \n",
    "        pos_class_prob = sent_pos_class_prob / (sent_pos_class_prob + sent_neg_class_prob)\n",
    "        neg_class_prob = sent_neg_class_prob / (sent_pos_class_prob + sent_neg_class_prob)\n",
    "        \n",
    "        return pos_class_prob, neg_class_prob\n",
    "    \n",
    "    \n",
    "    def train(self, train_file_path):\n",
    "        # load_data, count_words, word_prob 계산\n",
    "        \n",
    "        train_docs, train_labels = self.load_data(train_file_path)\n",
    "        \n",
    "        word_count_dict = self.count_words(train_docs, train_labels)\n",
    "        \n",
    "        pos_class_num = len([label for label in train_labels if label == 'pos'])\n",
    "        neg_class_num = len([label for label in train_labels if label == 'neg'])\n",
    "        \n",
    "        self.word_probs = self.word_prob(word_count_dict, pos_class_num, neg_class_num, self.k)\n",
    "        \n",
    "        \n",
    "    def classify(self, doc, use_unseen=False):\n",
    "        # class_prob 계산\n",
    "        \n",
    "        pos_class_prob, neg_class_prob = self.class_prob(self.word_probs, doc, use_unseen)\n",
    "        \n",
    "        if pos_class_prob > neg_class_prob:\n",
    "            print('pos', pos_class_prob)\n",
    "        else:\n",
    "            print('neg', neg_class_prob)\n",
    "            \n",
    "    # accuracy 구하는 메소드 추가\n",
    "    def accuracy(self, file_path, use_unseen):\n",
    "        \n",
    "        # 파일 로드 (내용, 라벨)\n",
    "        docs, labels = self.load_data(file_path)\n",
    "\n",
    "        # 확률 구하기\n",
    "        count = 0\n",
    "        i = 0\n",
    "        \n",
    "        for doc in docs:\n",
    "            pos, neg = self.class_prob(self.word_probs, doc, use_unseen)\n",
    "            if pos > neg:\n",
    "                if labels[i] == 'pos':\n",
    "                    count += 1\n",
    "            else:\n",
    "                if labels[i] == 'neg':\n",
    "                    count += 1\n",
    "            i += 1\n",
    "            \n",
    "        prob = count / len(docs)\n",
    "        return prob\n",
    "                   "
   ]
  },
  {
   "cell_type": "code",
   "execution_count": 52,
   "id": "f2750e0a",
   "metadata": {},
   "outputs": [
    {
     "name": "stdout",
     "output_type": "stream",
     "text": [
      "num of words... 3055\n"
     ]
    }
   ],
   "source": [
    "classifier = MyNaiveBayesClassifier(use_morph=False)\n",
    "classifier.train('ratings_train.txt')"
   ]
  },
  {
   "cell_type": "code",
   "execution_count": 53,
   "id": "c20dec0a",
   "metadata": {},
   "outputs": [
    {
     "data": {
      "text/plain": [
       "0.625250501002004"
      ]
     },
     "execution_count": 53,
     "metadata": {},
     "output_type": "execute_result"
    }
   ],
   "source": [
    "classifier.accuracy('ratings_test.txt', use_unseen=False)"
   ]
  },
  {
   "cell_type": "code",
   "execution_count": 54,
   "id": "15478ae0",
   "metadata": {},
   "outputs": [
    {
     "data": {
      "text/plain": [
       "0.6212424849699398"
      ]
     },
     "execution_count": 54,
     "metadata": {},
     "output_type": "execute_result"
    }
   ],
   "source": [
    "classifier.accuracy('ratings_test.txt', use_unseen=True)"
   ]
  },
  {
   "cell_type": "code",
   "execution_count": 55,
   "id": "abd45ef1",
   "metadata": {},
   "outputs": [
    {
     "name": "stdout",
     "output_type": "stream",
     "text": [
      "num of words... 2344\n"
     ]
    }
   ],
   "source": [
    "classifier = MyNaiveBayesClassifier(use_morph=True)\n",
    "classifier.train('ratings_train.txt')"
   ]
  },
  {
   "cell_type": "code",
   "execution_count": 56,
   "id": "e19cc30f",
   "metadata": {},
   "outputs": [
    {
     "data": {
      "text/plain": [
       "0.7354709418837675"
      ]
     },
     "execution_count": 56,
     "metadata": {},
     "output_type": "execute_result"
    }
   ],
   "source": [
    "classifier.accuracy('ratings_test.txt', use_unseen=False)"
   ]
  },
  {
   "cell_type": "code",
   "execution_count": 57,
   "id": "363126b2",
   "metadata": {},
   "outputs": [
    {
     "data": {
      "text/plain": [
       "0.7154308617234469"
      ]
     },
     "execution_count": 57,
     "metadata": {},
     "output_type": "execute_result"
    }
   ],
   "source": [
    "classifier.accuracy('ratings_test.txt', use_unseen=True)"
   ]
  }
 ],
 "metadata": {
  "kernelspec": {
   "display_name": "Python 3 (ipykernel)",
   "language": "python",
   "name": "python3"
  },
  "language_info": {
   "codemirror_mode": {
    "name": "ipython",
    "version": 3
   },
   "file_extension": ".py",
   "mimetype": "text/x-python",
   "name": "python",
   "nbconvert_exporter": "python",
   "pygments_lexer": "ipython3",
   "version": "3.9.12"
  }
 },
 "nbformat": 4,
 "nbformat_minor": 5
}
