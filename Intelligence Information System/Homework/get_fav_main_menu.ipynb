{
 "cells": [
  {
   "cell_type": "markdown",
   "id": "7cc35c7e",
   "metadata": {},
   "source": [
    "## 메뉴 중 '사전~웹툰' 글자 추출하기\n",
    "\n",
    "### 2022.10.19.(수) 실습과제\n",
    "`인천대학교 경제학과 201900740 박혜인`"
   ]
  },
  {
   "cell_type": "code",
   "execution_count": 2,
   "id": "1b9fcd15",
   "metadata": {},
   "outputs": [
    {
     "name": "stdout",
     "output_type": "stream",
     "text": [
      "사전\n",
      "뉴스\n",
      "증권\n",
      "부동산\n",
      "지도\n",
      "VIBE\n",
      "도서\n",
      "웹툰\n"
     ]
    }
   ],
   "source": [
    "from bs4 import BeautifulSoup\n",
    "from urllib.request import urlopen\n",
    "\n",
    "url = \"https://www.naver.com\"\n",
    "html = urlopen(url)\n",
    "\n",
    "soup = BeautifulSoup(html.read(), \"html.parser\")\n",
    "\n",
    "# class가 \"list_nav NM_FAVORITE_LIST\"인 ul을 전체 문서에서 찾기\n",
    "result = soup.find(\"ul\", {\"class\":\"list_nav NM_FAVORITE_LIST\"})\n",
    "\n",
    "# find_all()을 이용하여 li만 뽑아내기\n",
    "li_result = result.find_all(\"li\")\n",
    "\n",
    "# <li> 태그 안에 있는 <a> 태그 뽑기\n",
    "for li_res in li_result:\n",
    "    a_li_result = li_res.find(\"a\")\n",
    "    print(a_li_result.text)"
   ]
  }
 ],
 "metadata": {
  "kernelspec": {
   "display_name": "Python 3 (ipykernel)",
   "language": "python",
   "name": "python3"
  },
  "language_info": {
   "codemirror_mode": {
    "name": "ipython",
    "version": 3
   },
   "file_extension": ".py",
   "mimetype": "text/x-python",
   "name": "python",
   "nbconvert_exporter": "python",
   "pygments_lexer": "ipython3",
   "version": "3.9.12"
  }
 },
 "nbformat": 4,
 "nbformat_minor": 5
}
