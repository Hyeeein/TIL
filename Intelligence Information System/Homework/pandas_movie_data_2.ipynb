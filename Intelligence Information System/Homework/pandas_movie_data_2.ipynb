{
 "cells": [
  {
   "cell_type": "markdown",
   "id": "916c5ff1",
   "metadata": {},
   "source": [
    "## 2022년 11월 2일 (수) 실습\n",
    "\n",
    "`인천대학교 경제학과 201900740 박혜인`"
   ]
  },
  {
   "cell_type": "markdown",
   "id": "6a8eee05",
   "metadata": {},
   "source": [
    "### 1. pandas.date_range()의 기간 변경해보기\""
   ]
  },
  {
   "cell_type": "code",
   "execution_count": 29,
   "id": "834733d4",
   "metadata": {},
   "outputs": [
    {
     "data": {
      "application/vnd.jupyter.widget-view+json": {
       "model_id": "3041dbf1c64241189edba18f18c8d5d5",
       "version_major": 2,
       "version_minor": 0
      },
      "text/plain": [
       "  0%|          | 0/31 [00:00<?, ?it/s]"
      ]
     },
     "metadata": {},
     "output_type": "display_data"
    },
    {
     "name": "stdout",
     "output_type": "stream",
     "text": [
      "[9.78, 9.74, 9.6, 9.59, 9.54, 9.53, 9.53, 9.52, 9.52, 9.51, 9.5, 9.49, 9.49, 9.48, 9.46, 9.46, 9.45, 9.44, 9.44, 9.44, 9.43, 9.43, 9.43, 9.42, 9.42, 9.42, 9.42, 9.41, 9.41, 9.41, 9.41, 9.41, 9.41, 9.4, 9.4, 9.4, 9.4, 9.39, 9.39, 9.39, 9.39, 9.39, 9.39, 9.38, 9.38, 9.38, 9.38, 9.38, 9.38, 9.38, 9.78, 9.74, 9.6, 9.59, 9.55, 9.53, 9.53, 9.52, 9.51, 9.5, 9.5, 9.49, 9.49, 9.48, 9.46, 9.46, 9.45, 9.44, 9.44, 9.44, 9.43, 9.43, 9.43, 9.42, 9.42, 9.42, 9.42, 9.41, 9.41, 9.41, 9.41, 9.41, 9.41, 9.4, 9.4, 9.4, 9.4, 9.39, 9.39, 9.39, 9.39, 9.39, 9.39, 9.38, 9.38, 9.38, 9.38, 9.38, 9.38, 9.38, 9.78, 9.74, 9.6, 9.59, 9.55, 9.53, 9.53, 9.52, 9.51, 9.5, 9.5, 9.49, 9.49, 9.48, 9.46, 9.46, 9.45, 9.44, 9.44, 9.44, 9.43, 9.43, 9.43, 9.42, 9.42, 9.42, 9.42, 9.41, 9.41, 9.41, 9.41, 9.41, 9.41, 9.4, 9.4, 9.4, 9.4, 9.39, 9.39, 9.39, 9.39, 9.39, 9.39, 9.38, 9.38, 9.38, 9.38, 9.38, 9.38, 9.38, 9.78, 9.74, 9.6, 9.59, 9.55, 9.53, 9.53, 9.52, 9.51, 9.5, 9.5, 9.49, 9.49, 9.48, 9.46, 9.46, 9.45, 9.44, 9.44, 9.44, 9.43, 9.43, 9.43, 9.42, 9.42, 9.42, 9.42, 9.41, 9.41, 9.41, 9.41, 9.41, 9.41, 9.4, 9.4, 9.4, 9.4, 9.39, 9.39, 9.39, 9.39, 9.39, 9.39, 9.39, 9.38, 9.38, 9.38, 9.38, 9.38, 9.38, 9.78, 9.74, 9.6, 9.59, 9.55, 9.53, 9.53, 9.52, 9.51, 9.5, 9.5, 9.49, 9.49, 9.48, 9.46, 9.46, 9.45, 9.44, 9.44, 9.44, 9.43, 9.43, 9.43, 9.42, 9.42, 9.42, 9.42, 9.41, 9.41, 9.41, 9.41, 9.41, 9.41, 9.4, 9.4, 9.4, 9.4, 9.39, 9.39, 9.39, 9.39, 9.39, 9.38, 9.38, 9.38, 9.38, 9.38, 9.38, 9.38, 9.38, 9.78, 9.74, 9.6, 9.59, 9.56, 9.53, 9.53, 9.52, 9.51, 9.51, 9.5, 9.49, 9.49, 9.48, 9.46, 9.46, 9.45, 9.44, 9.44, 9.44, 9.43, 9.43, 9.43, 9.42, 9.42, 9.42, 9.42, 9.41, 9.41, 9.41, 9.41, 9.41, 9.41, 9.4, 9.4, 9.4, 9.4, 9.39, 9.39, 9.39, 9.39, 9.39, 9.38, 9.38, 9.38, 9.38, 9.38, 9.38, 9.38, 9.38, 9.78, 9.74, 9.6, 9.59, 9.56, 9.53, 9.53, 9.52, 9.51, 9.51, 9.5, 9.49, 9.49, 9.48, 9.46, 9.46, 9.45, 9.44, 9.44, 9.44, 9.43, 9.43, 9.43, 9.42, 9.42, 9.42, 9.42, 9.41, 9.41, 9.41, 9.41, 9.41, 9.41, 9.4, 9.4, 9.4, 9.4, 9.39, 9.39, 9.39, 9.39, 9.39, 9.39, 9.38, 9.38, 9.38, 9.38, 9.38, 9.38, 9.38, 9.78, 9.74, 9.6, 9.59, 9.56, 9.53, 9.53, 9.52, 9.51, 9.5, 9.5, 9.49, 9.49, 9.48, 9.46, 9.46, 9.45, 9.44, 9.44, 9.44, 9.43, 9.43, 9.43, 9.42, 9.42, 9.42, 9.42, 9.41, 9.41, 9.41, 9.41, 9.41, 9.41, 9.4, 9.4, 9.4, 9.4, 9.39, 9.39, 9.39, 9.39, 9.39, 9.39, 9.38, 9.38, 9.38, 9.38, 9.38, 9.38, 9.38, 9.78, 9.74, 9.6, 9.59, 9.56, 9.53, 9.53, 9.52, 9.51, 9.5, 9.5, 9.49, 9.49, 9.48, 9.46, 9.46, 9.45, 9.44, 9.44, 9.44, 9.43, 9.43, 9.43, 9.42, 9.42, 9.42, 9.42, 9.41, 9.41, 9.41, 9.41, 9.41, 9.41, 9.4, 9.4, 9.4, 9.4, 9.39, 9.39, 9.39, 9.39, 9.39, 9.39, 9.38, 9.38, 9.38, 9.38, 9.38, 9.38, 9.38, 9.78, 9.72, 9.6, 9.59, 9.56, 9.53, 9.53, 9.52, 9.51, 9.5, 9.49, 9.49, 9.49, 9.48, 9.46, 9.46, 9.45, 9.44, 9.44, 9.44, 9.43, 9.43, 9.43, 9.42, 9.42, 9.42, 9.42, 9.41, 9.41, 9.41, 9.41, 9.41, 9.41, 9.4, 9.4, 9.4, 9.39, 9.39, 9.39, 9.39, 9.39, 9.39, 9.39, 9.38, 9.38, 9.38, 9.38, 9.38, 9.38, 9.38, 9.77, 9.72, 9.6, 9.59, 9.57, 9.53, 9.53, 9.52, 9.51, 9.5, 9.5, 9.49, 9.49, 9.48, 9.46, 9.46, 9.45, 9.44, 9.44, 9.44, 9.43, 9.43, 9.43, 9.42, 9.42, 9.42, 9.42, 9.41, 9.41, 9.41, 9.41, 9.41, 9.41, 9.4, 9.4, 9.4, 9.4, 9.39, 9.39, 9.39, 9.39, 9.39, 9.39, 9.38, 9.38, 9.38, 9.38, 9.38, 9.38, 9.38, 9.77, 9.72, 9.6, 9.59, 9.57, 9.53, 9.53, 9.52, 9.51, 9.5, 9.5, 9.49, 9.48, 9.48, 9.46, 9.46, 9.45, 9.44, 9.44, 9.44, 9.43, 9.43, 9.43, 9.42, 9.42, 9.42, 9.42, 9.41, 9.41, 9.41, 9.41, 9.41, 9.41, 9.4, 9.4, 9.4, 9.4, 9.39, 9.39, 9.39, 9.39, 9.39, 9.39, 9.39, 9.38, 9.38, 9.38, 9.38, 9.38, 9.38, 9.77, 9.71, 9.6, 9.59, 9.57, 9.53, 9.53, 9.52, 9.51, 9.5, 9.49, 9.49, 9.48, 9.48, 9.46, 9.46, 9.45, 9.44, 9.44, 9.44, 9.43, 9.43, 9.43, 9.42, 9.42, 9.42, 9.42, 9.41, 9.41, 9.41, 9.41, 9.41, 9.41, 9.4, 9.4, 9.4, 9.4, 9.39, 9.39, 9.39, 9.39, 9.39, 9.39, 9.39, 9.38, 9.38, 9.38, 9.38, 9.38, 9.38, 9.77, 9.71, 9.6, 9.59, 9.57, 9.53, 9.53, 9.52, 9.51, 9.5, 9.49, 9.49, 9.48, 9.48, 9.46, 9.46, 9.45, 9.44, 9.44, 9.44, 9.43, 9.43, 9.43, 9.42, 9.42, 9.42, 9.42, 9.41, 9.41, 9.41, 9.41, 9.41, 9.41, 9.4, 9.4, 9.4, 9.4, 9.39, 9.39, 9.39, 9.39, 9.39, 9.39, 9.39, 9.38, 9.38, 9.38, 9.38, 9.38, 9.38, 9.77, 9.71, 9.6, 9.59, 9.57, 9.53, 9.53, 9.52, 9.51, 9.5, 9.49, 9.49, 9.48, 9.48, 9.46, 9.46, 9.45, 9.44, 9.44, 9.44, 9.43, 9.43, 9.43, 9.42, 9.42, 9.42, 9.42, 9.41, 9.41, 9.41, 9.41, 9.41, 9.41, 9.4, 9.4, 9.4, 9.4, 9.39, 9.39, 9.39, 9.39, 9.39, 9.39, 9.39, 9.38, 9.38, 9.38, 9.38, 9.38, 9.38, 9.78, 9.71, 9.6, 9.59, 9.57, 9.53, 9.53, 9.52, 9.51, 9.5, 9.49, 9.48, 9.48, 9.48, 9.46, 9.46, 9.45, 9.44, 9.44, 9.44, 9.43, 9.43, 9.43, 9.42, 9.42, 9.42, 9.42, 9.41, 9.41, 9.41, 9.41, 9.41, 9.41, 9.4, 9.4, 9.4, 9.4, 9.39, 9.39, 9.39, 9.39, 9.39, 9.39, 9.38, 9.38, 9.38, 9.38, 9.38, 9.38, 9.38, 9.77, 9.71, 9.6, 9.59, 9.57, 9.53, 9.53, 9.52, 9.51, 9.5, 9.49, 9.48, 9.48, 9.48, 9.46, 9.46, 9.45, 9.44, 9.44, 9.44, 9.43, 9.43, 9.43, 9.42, 9.42, 9.42, 9.42, 9.41, 9.41, 9.41, 9.41, 9.41, 9.41, 9.4, 9.4, 9.4, 9.4, 9.39, 9.39, 9.39, 9.39, 9.39, 9.39, 9.38, 9.38, 9.38, 9.38, 9.38, 9.38, 9.38, 9.77, 9.71, 9.6, 9.59, 9.57, 9.53, 9.53, 9.52, 9.51, 9.5, 9.49, 9.48, 9.48, 9.48, 9.46, 9.46, 9.45, 9.44, 9.44, 9.44, 9.43, 9.43, 9.43, 9.42, 9.42, 9.42, 9.42, 9.41, 9.41, 9.41, 9.41, 9.41, 9.41, 9.4, 9.4, 9.4, 9.4, 9.39, 9.39, 9.39, 9.39, 9.39, 9.38, 9.38, 9.38, 9.38, 9.38, 9.38, 9.38, 9.38, 9.77, 9.71, 9.6, 9.59, 9.57, 9.53, 9.53, 9.52, 9.51, 9.5, 9.49, 9.48, 9.48, 9.48, 9.46, 9.46, 9.45, 9.44, 9.44, 9.44, 9.43, 9.43, 9.43, 9.42, 9.42, 9.42, 9.42, 9.41, 9.41, 9.41, 9.41, 9.41, 9.41, 9.4, 9.4, 9.4, 9.4, 9.39, 9.39, 9.39, 9.39, 9.39, 9.38, 9.38, 9.38, 9.38, 9.38, 9.38, 9.38, 9.38, 9.77, 9.71, 9.6, 9.59, 9.57, 9.53, 9.53, 9.52, 9.51, 9.5, 9.49, 9.49, 9.48, 9.48, 9.46, 9.46, 9.45, 9.44, 9.44, 9.44, 9.43, 9.43, 9.43, 9.42, 9.42, 9.42, 9.42, 9.41, 9.41, 9.41, 9.41, 9.41, 9.41, 9.4, 9.4, 9.4, 9.4, 9.39, 9.39, 9.39, 9.39, 9.39, 9.38, 9.38, 9.38, 9.38, 9.38, 9.38, 9.38, 9.38, 9.77, 9.71, 9.6, 9.59, 9.57, 9.53, 9.53, 9.52, 9.51, 9.5, 9.49, 9.49, 9.48, 9.48, 9.46, 9.46, 9.45, 9.44, 9.44, 9.44, 9.43, 9.43, 9.43, 9.42, 9.42, 9.42, 9.42, 9.41, 9.41, 9.41, 9.41, 9.41, 9.41, 9.4, 9.4, 9.4, 9.4, 9.39, 9.39, 9.39, 9.39, 9.39, 9.38, 9.38, 9.38, 9.38, 9.38, 9.38, 9.38, 9.38, 9.77, 9.71, 9.6, 9.59, 9.57, 9.53, 9.53, 9.52, 9.51, 9.5, 9.49, 9.48, 9.48, 9.48, 9.46, 9.46, 9.45, 9.44, 9.44, 9.44, 9.43, 9.43, 9.43, 9.42, 9.42, 9.42, 9.42, 9.41, 9.41, 9.41, 9.41, 9.41, 9.41, 9.4, 9.4, 9.4, 9.4, 9.39, 9.39, 9.39, 9.39, 9.39, 9.38, 9.38, 9.38, 9.38, 9.38, 9.38, 9.38, 9.38, 9.77, 9.71, 9.6, 9.59, 9.57, 9.53, 9.53, 9.52, 9.51, 9.5, 9.49, 9.48, 9.48, 9.48, 9.46, 9.46, 9.45, 9.44, 9.44, 9.44, 9.43, 9.43, 9.43, 9.42, 9.42, 9.42, 9.42, 9.41, 9.41, 9.41, 9.41, 9.41, 9.41, 9.4, 9.4, 9.4, 9.4, 9.39, 9.39, 9.39, 9.39, 9.39, 9.38, 9.38, 9.38, 9.38, 9.38, 9.38, 9.38, 9.38, 9.77, 9.71, 9.6, 9.59, 9.57, 9.53, 9.53, 9.52, 9.51, 9.5, 9.49, 9.48, 9.48, 9.48, 9.46, 9.46, 9.45, 9.44, 9.44, 9.44, 9.43, 9.43, 9.43, 9.42, 9.42, 9.42, 9.42, 9.41, 9.41, 9.41, 9.41, 9.41, 9.41, 9.4, 9.4, 9.4, 9.4, 9.39, 9.39, 9.39, 9.39, 9.39, 9.38, 9.38, 9.38, 9.38, 9.38, 9.38, 9.38, 9.38, 9.77, 9.71, 9.6, 9.59, 9.57, 9.53, 9.53, 9.52, 9.51, 9.5, 9.49, 9.48, 9.48, 9.48, 9.46, 9.46, 9.45, 9.44, 9.44, 9.44, 9.43, 9.43, 9.43, 9.42, 9.42, 9.42, 9.42, 9.41, 9.41, 9.41, 9.41, 9.41, 9.41, 9.4, 9.4, 9.4, 9.4, 9.39, 9.39, 9.39, 9.39, 9.39, 9.38, 9.38, 9.38, 9.38, 9.38, 9.38, 9.38, 9.38, 9.77, 9.71, 9.6, 9.59, 9.57, 9.53, 9.53, 9.52, 9.51, 9.5, 9.49, 9.48, 9.48, 9.48, 9.46, 9.46, 9.45, 9.44, 9.44, 9.44, 9.43, 9.43, 9.43, 9.42, 9.42, 9.42, 9.42, 9.41, 9.41, 9.41, 9.41, 9.41, 9.41, 9.4, 9.4, 9.4, 9.4, 9.39, 9.39, 9.39, 9.39, 9.39, 9.38, 9.38, 9.38, 9.38, 9.38, 9.38, 9.38, 9.38, 9.77, 9.71, 9.6, 9.59, 9.57, 9.53, 9.53, 9.52, 9.51, 9.5, 9.49, 9.48, 9.48, 9.48, 9.46, 9.46, 9.45, 9.44, 9.44, 9.44, 9.43, 9.43, 9.43, 9.42, 9.42, 9.42, 9.42, 9.41, 9.41, 9.41, 9.41, 9.41, 9.41, 9.4, 9.4, 9.4, 9.4, 9.39, 9.39, 9.39, 9.39, 9.39, 9.38, 9.38, 9.38, 9.38, 9.38, 9.38, 9.38, 9.38, 9.77, 9.71, 9.65, 9.6, 9.59, 9.57, 9.53, 9.53, 9.52, 9.51, 9.5, 9.49, 9.48, 9.48, 9.48, 9.46, 9.46, 9.45, 9.44, 9.44, 9.44, 9.43, 9.43, 9.43, 9.42, 9.42, 9.42, 9.42, 9.41, 9.41, 9.41, 9.41, 9.41, 9.41, 9.4, 9.4, 9.4, 9.4, 9.39, 9.39, 9.39, 9.39, 9.39, 9.39, 9.38, 9.38, 9.38, 9.38, 9.38, 9.38, 9.77, 9.71, 9.65, 9.6, 9.59, 9.57, 9.53, 9.53, 9.52, 9.51, 9.5, 9.49, 9.48, 9.48, 9.48, 9.46, 9.46, 9.45, 9.44, 9.44, 9.44, 9.43, 9.43, 9.43, 9.42, 9.42, 9.42, 9.42, 9.41, 9.41, 9.41, 9.41, 9.41, 9.41, 9.4, 9.4, 9.4, 9.4, 9.39, 9.39, 9.39, 9.39, 9.39, 9.39, 9.38, 9.38, 9.38, 9.38, 9.38, 9.38, 9.77, 9.71, 9.65, 9.6, 9.59, 9.57, 9.53, 9.53, 9.52, 9.51, 9.5, 9.49, 9.48, 9.48, 9.48, 9.46, 9.46, 9.45, 9.44, 9.44, 9.44, 9.43, 9.43, 9.43, 9.42, 9.42, 9.42, 9.42, 9.41, 9.41, 9.41, 9.41, 9.41, 9.41, 9.4, 9.4, 9.4, 9.4, 9.39, 9.39, 9.39, 9.39, 9.39, 9.39, 9.38, 9.38, 9.38, 9.38, 9.38, 9.38, 9.77, 9.71, 9.65, 9.6, 9.59, 9.57, 9.53, 9.53, 9.52, 9.51, 9.5, 9.49, 9.48, 9.48, 9.48, 9.46, 9.46, 9.45, 9.44, 9.44, 9.44, 9.43, 9.43, 9.43, 9.42, 9.42, 9.42, 9.42, 9.41, 9.41, 9.41, 9.41, 9.41, 9.41, 9.4, 9.4, 9.4, 9.4, 9.39, 9.39, 9.39, 9.39, 9.39, 9.39, 9.38, 9.38, 9.38, 9.38, 9.38, 9.38]\n"
     ]
    }
   ],
   "source": [
    "import pandas as pd\n",
    "from urllib.request import urlopen\n",
    "from bs4 import BeautifulSoup\n",
    "from tqdm.notebook import tqdm\n",
    "\n",
    "date_list = pd.date_range('2022-08-01', periods=31, freq='D')\n",
    "\n",
    "movie_title = []\n",
    "movie_point = []\n",
    "movie_date = []\n",
    "\n",
    "for today in tqdm(date_list):\n",
    "    url = \"https://movie.naver.com/movie/sdb/rank/rmovie.naver?sel=pnt&date=\" + (today.strftime('%Y%m%d'))\n",
    "    html = urlopen(url)\n",
    "\n",
    "    soup = BeautifulSoup(html.read(), \"html.parser\")\n",
    "    \n",
    "    titles = soup.find_all('div', {'class':'tit5'})\n",
    "    points = soup.find_all('td', {'class':'point'})\n",
    "    \n",
    "    titles_text = []\n",
    "    points_text = []\n",
    "    date = []\n",
    "    \n",
    "    for t, p in zip(titles, points):\n",
    "        titles_text.append(t.text.strip(' \\n'))\n",
    "        points_text.append(float(p.text))\n",
    "        date.append(today)\n",
    "    \n",
    "    movie_title += titles_text\n",
    "    movie_point += points_text\n",
    "    movie_date += date\n",
    "\n",
    "print(movie_point)"
   ]
  },
  {
   "cell_type": "markdown",
   "id": "ba9d0ca9",
   "metadata": {},
   "source": [
    "해당 기간을 설정한 이유는 내가 태어난 달인 8월에 어떤 영화가 인기가 있었는지 궁금했다. 원래는 2000년 8월 한달 그래프를 보고 싶었으나, 네이버 영화의 평점 데이터가 2005년 이후로 있어서 2022년도 8월을 기간으로 설정했다."
   ]
  },
  {
   "cell_type": "markdown",
   "id": "33695e5d",
   "metadata": {},
   "source": [
    "### 2. pandas.pivot_table을 이용하여 해당 기간 동안 평균 평점이 가장 높았던 영화 찾기"
   ]
  },
  {
   "cell_type": "code",
   "execution_count": 30,
   "id": "297eef49",
   "metadata": {},
   "outputs": [
    {
     "data": {
      "text/html": [
       "<div>\n",
       "<style scoped>\n",
       "    .dataframe tbody tr th:only-of-type {\n",
       "        vertical-align: middle;\n",
       "    }\n",
       "\n",
       "    .dataframe tbody tr th {\n",
       "        vertical-align: top;\n",
       "    }\n",
       "\n",
       "    .dataframe thead th {\n",
       "        text-align: right;\n",
       "    }\n",
       "</style>\n",
       "<table border=\"1\" class=\"dataframe\">\n",
       "  <thead>\n",
       "    <tr style=\"text-align: right;\">\n",
       "      <th></th>\n",
       "      <th>point</th>\n",
       "    </tr>\n",
       "    <tr>\n",
       "      <th>title</th>\n",
       "      <th></th>\n",
       "    </tr>\n",
       "  </thead>\n",
       "  <tbody>\n",
       "    <tr>\n",
       "      <th>탑건: 매버릭</th>\n",
       "      <td>9.77</td>\n",
       "    </tr>\n",
       "    <tr>\n",
       "      <th>클라우스</th>\n",
       "      <td>9.72</td>\n",
       "    </tr>\n",
       "    <tr>\n",
       "      <th>할머니의 먼 집</th>\n",
       "      <td>9.65</td>\n",
       "    </tr>\n",
       "    <tr>\n",
       "      <th>그린 북</th>\n",
       "      <td>9.60</td>\n",
       "    </tr>\n",
       "    <tr>\n",
       "      <th>가버나움</th>\n",
       "      <td>9.59</td>\n",
       "    </tr>\n",
       "    <tr>\n",
       "      <th>밥정</th>\n",
       "      <td>9.56</td>\n",
       "    </tr>\n",
       "    <tr>\n",
       "      <th>원더</th>\n",
       "      <td>9.53</td>\n",
       "    </tr>\n",
       "    <tr>\n",
       "      <th>베일리 어게인</th>\n",
       "      <td>9.53</td>\n",
       "    </tr>\n",
       "    <tr>\n",
       "      <th>아일라</th>\n",
       "      <td>9.52</td>\n",
       "    </tr>\n",
       "    <tr>\n",
       "      <th>디지몬 어드벤처 라스트 에볼루션 : 인연</th>\n",
       "      <td>9.51</td>\n",
       "    </tr>\n",
       "  </tbody>\n",
       "</table>\n",
       "</div>"
      ],
      "text/plain": [
       "                        point\n",
       "title                        \n",
       "탑건: 매버릭                  9.77\n",
       "클라우스                     9.72\n",
       "할머니의 먼 집                 9.65\n",
       "그린 북                     9.60\n",
       "가버나움                     9.59\n",
       "밥정                       9.56\n",
       "원더                       9.53\n",
       "베일리 어게인                  9.53\n",
       "아일라                      9.52\n",
       "디지몬 어드벤처 라스트 에볼루션 : 인연   9.51"
      ]
     },
     "execution_count": 30,
     "metadata": {},
     "output_type": "execute_result"
    }
   ],
   "source": [
    "import numpy as np\n",
    "import pandas as pd\n",
    "\n",
    "pd.options.display.float_format = '{:.2f}'.format\n",
    "\n",
    "frame = pd.DataFrame({'date':movie_date, 'title':movie_title, 'point':movie_point})\n",
    "movie_point = pd.pivot_table(frame, index=['title'], aggfunc=np.mean)\n",
    "movie_point_sort = movie_point.sort_values(by='point', ascending=False)\n",
    "movie_point_sort.head(10)"
   ]
  },
  {
   "cell_type": "markdown",
   "id": "82ab6bdc",
   "metadata": {},
   "source": [
    "평균 평점이 가장 높았던 영화는 '탑건'이었다.\n",
    "\n",
    "주변 친구들이 최근에 다른 영화는 안봐도 '탑건'은 꼭 보라고 했는데 그만큼 평점이 높은 것을 보니 한번 그 영화를 보고 싶다는 생각이 들었다. 그리고 그 아래에 '클라우스', '할머니의 먼 집'이라는 영화도 평점은 높은데 처음 들어보는 영화여서 한번 보고 싶었다."
   ]
  },
  {
   "cell_type": "markdown",
   "id": "4d1abff1",
   "metadata": {},
   "source": [
    "### 3. 그래프 그리기"
   ]
  },
  {
   "cell_type": "code",
   "execution_count": 34,
   "id": "b1ed470c",
   "metadata": {},
   "outputs": [
    {
     "name": "stdout",
     "output_type": "stream",
     "text": [
      "           date title  point\n",
      "6    2022-08-01    원더   9.53\n",
      "56   2022-08-02    원더   9.53\n",
      "106  2022-08-03    원더   9.53\n",
      "156  2022-08-04    원더   9.53\n",
      "206  2022-08-05    원더   9.53\n",
      "256  2022-08-06    원더   9.53\n",
      "306  2022-08-07    원더   9.53\n",
      "356  2022-08-08    원더   9.53\n",
      "406  2022-08-09    원더   9.53\n",
      "456  2022-08-10    원더   9.53\n",
      "506  2022-08-11    원더   9.53\n",
      "556  2022-08-12    원더   9.53\n",
      "606  2022-08-13    원더   9.53\n",
      "656  2022-08-14    원더   9.53\n",
      "706  2022-08-15    원더   9.53\n",
      "756  2022-08-16    원더   9.53\n",
      "806  2022-08-17    원더   9.53\n",
      "856  2022-08-18    원더   9.53\n",
      "906  2022-08-19    원더   9.53\n",
      "956  2022-08-20    원더   9.53\n",
      "1006 2022-08-21    원더   9.53\n",
      "1056 2022-08-22    원더   9.53\n",
      "1106 2022-08-23    원더   9.53\n",
      "1156 2022-08-24    원더   9.53\n",
      "1206 2022-08-25    원더   9.53\n",
      "1256 2022-08-26    원더   9.53\n",
      "1306 2022-08-27    원더   9.53\n",
      "1357 2022-08-28    원더   9.53\n",
      "1407 2022-08-29    원더   9.53\n",
      "1457 2022-08-30    원더   9.53\n",
      "1507 2022-08-31    원더   9.53\n"
     ]
    }
   ],
   "source": [
    "# matplotlib 설정하기\n",
    "import matplotlib.pyplot as plt\n",
    "\n",
    "expr = \"title == ['원더']\"\n",
    "search_movie = frame.query(expr)\n",
    "print(search_movie)"
   ]
  },
  {
   "cell_type": "code",
   "execution_count": 35,
   "id": "a6321caa",
   "metadata": {},
   "outputs": [
    {
     "data": {
      "image/png": "[encoded data removed]",
      "text/plain": [
       "<Figure size 864x576 with 1 Axes>"
      ]
     },
     "metadata": {},
     "output_type": "display_data"
    }
   ],
   "source": [
    "plt.rc('font', family = 'Malgun Gothic')\n",
    "plt.rcParams['axes.unicode_minus'] = False\n",
    "plt.style.use('ggplot')\n",
    "\n",
    "plt.figure(figsize=(12, 8))\n",
    "plt.title('2022년 8월 한달 간 원더의 평점 그래프')\n",
    "plt.plot(search_movie['date'], search_movie['point'])\n",
    "plt.xlabel('날짜')\n",
    "plt.ylabel('평점')\n",
    "plt.show()"
   ]
  },
  {
   "cell_type": "markdown",
   "id": "721935eb",
   "metadata": {},
   "source": [
    "영화 '원더'의 한달 간 평점은 9.53으로 일정하다."
   ]
  }
 ],
 "metadata": {
  "kernelspec": {
   "display_name": "Python 3 (ipykernel)",
   "language": "python",
   "name": "python3"
  },
  "language_info": {
   "codemirror_mode": {
    "name": "ipython",
    "version": 3
   },
   "file_extension": ".py",
   "mimetype": "text/x-python",
   "name": "python",
   "nbconvert_exporter": "python",
   "pygments_lexer": "ipython3",
   "version": "3.9.12"
  }
 },
 "nbformat": 4,
 "nbformat_minor": 5
}
