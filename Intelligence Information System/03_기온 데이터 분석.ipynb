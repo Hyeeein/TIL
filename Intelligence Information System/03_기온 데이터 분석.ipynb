{
 "cells": [
  {
   "cell_type": "markdown",
   "metadata": {},
   "source": [
    "## 기온 공공데이터 CSV 파일 읽기"
   ]
  },
  {
   "cell_type": "markdown",
   "metadata": {},
   "source": [
    "1. CSV 파일이란?\n",
    "    - Comma Separated Values의 약자로 각각의 데이터 값을 콤마(,)로 구분하는 파일 형식\n",
    "    - 엑셀, 메모장, 파이썬으로 열 수 있음"
   ]
  },
  {
   "cell_type": "markdown",
   "metadata": {},
   "source": [
    "2. 파이썬으로 csv 파일 읽기\n",
    "    - 주피터 노트북 파일과 csv 파일이 동일한 폴더에 있도록 하기\n",
    "    - [Upload] 클릭해서 업로드 / 윈도우 상에서 파일 옮기기 (두 가지 방법이 있음)"
   ]
  },
  {
   "cell_type": "code",
   "execution_count": null,
   "metadata": {},
   "outputs": [],
   "source": [
    "import csv\n",
    "\n",
    "f = open('incheon_weather.csv', 'r')    # 한글이 안 읽어질 경우, 뒤에 encoding='cp949' 추가\n",
    "data = csv.reader(f)\n",
    "\n",
    "for row in data:\n",
    "    print(row)\n",
    "\n",
    "f.close()\n",
    "\n",
    "\n",
    "# 결과 예시\n",
    "# ['날짜', '지점', '평균기온(℃)', '최저기온(℃)', '최고기온(℃)']\n",
    "# ['1904-04-10', '112', '7.5', '6.4', '9.4']\n",
    "# ['1904-04-11', '112', '8.2', '7.2', '10.1']\n",
    "# ['1904-04-12', '112', '11', '7.8', '14.6']\n",
    "# ['1904-04-13', '112', '11.9', '9.6', '14.5']\n",
    "# ['1904-04-14', '112', '10.9', '9.1', '13.9']"
   ]
  },
  {
   "cell_type": "markdown",
   "metadata": {},
   "source": [
    "* cf) 코드 상단의 In[*]은 무엇일까?\n",
    "    - In[*] : 현재 셀이 실행 중\n",
    "    - In[] : 실행되지 않은 경우\n",
    "    - In[num] : 셀이 실행된 후"
   ]
  },
  {
   "cell_type": "markdown",
   "metadata": {},
   "source": [
    "## 헤더 처리하기"
   ]
  },
  {
   "cell_type": "markdown",
   "metadata": {},
   "source": [
    "1. 헤더(Header)란?\n",
    "    - 여러 가지 값들이 어떤 의미를 갖는지 표시한 행\n",
    "    - 대부분 데이터의 첫 번째 줄에 위치하고, 두 번째 줄부터 나타나는 데이터의 속성을 설명함\n",
    "    - 헤더를 별도로 처리하기 위해 **next() 함수**를 사용할 수 있음"
   ]
  },
  {
   "cell_type": "markdown",
   "metadata": {},
   "source": [
    "2. 헤더 처리하기\n",
    "\n",
    "    - next() 함수 : 첫 번째 데이터 행을 읽어오면서 데이터의 탐색 위치를 다음 행으로 이동시키는 명령\n",
    "    - 파이썬의 내장함수 next()는 반복가능한 객체의 __next__ 메서드를 호출\n",
    "    "
   ]
  },
  {
   "cell_type": "code",
   "execution_count": 1,
   "metadata": {},
   "outputs": [
    {
     "name": "stdout",
     "output_type": "stream",
     "text": [
      "['날짜', '지점', '평균기온(℃)', '최저기온(℃)', '최고기온(℃)']\n"
     ]
    }
   ],
   "source": [
    "import csv\n",
    "\n",
    "f = open('incheon_weather.csv', 'r')\n",
    "data = csv.reader(f)\n",
    "header = next(data)     # header라는 변수에 헤더 데이터 행을 저장 (next 함수 사용)\n",
    "print(header)           # header라는 변수 출력"
   ]
  },
  {
   "cell_type": "markdown",
   "metadata": {},
   "source": [
    "  "
   ]
  },
  {
   "cell_type": "markdown",
   "metadata": {},
   "source": [
    "## CSV 파일 데이터 읽기\n",
    "\n",
    "* 파이썬 CSV 모듈에는 데이터를 읽어오기 위한 reader() 함수와 데이터 저장을 위한 writer() 함수가 있음\n",
    "    - csv.reader() : CSV 파일에서 데이터를 읽어오는 함수\n",
    "    - csv.writer() : CSV 파일에서 데이터를 저장하는 함수\n",
    "    - 참고 : https://docs.python.org/3/library/csv.html\n",
    "\n",
    "* reader() 함수를 사용\n",
    "    - csv 파일에 저장된 데이터 가져오기"
   ]
  },
  {
   "cell_type": "markdown",
   "metadata": {},
   "source": [
    "## 모듈, 패키지, 라이브러리\n",
    "\n",
    "-> 파이썬에서 패키지와 라이브러리는 거의 동일한 의미로 사용됨\n",
    "\n",
    "* 모듈 (Module) : 특정 기능(함수, 변수, 클래스 등)들이 구현되어있는 파일 (.py)\n",
    "    1. 파이썬에서 모듈의 기능을 활용해 코드를 분리하고 공유함\n",
    "    2. 가끔 script라고도 부름. 코드 가장 위에 import로 불러오는 것"
   ]
  },
  {
   "cell_type": "markdown",
   "metadata": {},
   "source": [
    "* 패키지 (Package) : 특정 기능과 관련된 여러 모듈들을 하나의 폴더에 넣어놓은 것 (여러 하위폴더가 더 존재할 수 있음)\n",
    "    1. 패키지 관리자를 사용하여 설치하기 위해 준비된 라이브러리\n",
    "    2. pip install / 가끔은 라이브러리를 배포하는 매커니즘을 말함\n",
    "    3. 파이썬 3.3 이후 버전부터는 __init.py가 없어도 패키지로 인식하지만, 하위 버전 호환을 위해 이것을 만들어주는게 더 좋음\n",
    "    4. A.B라고 하면, A는 패키지, B는 모듈이 됨 (matplotlib.pyplot -> matplotlib 패키지 안에 있는 pyplot 모듈)"
   ]
  },
  {
   "cell_type": "markdown",
   "metadata": {},
   "source": [
    "* 라이브러리 (Library) : 여러 모듈과 패키지를 묶어서 부르는 말\n",
    "    - 일종의 코드 모음. 크게 표준 라이브러리와 외부 라이브러리로 구분\n",
    "    \n",
    "    1. 표준 라이브러리 : 파이썬을 설치할 떄 기본적으로 설치되는 라이브러리\n",
    "        - ex) time, sys, os, math, random, urllib 등\n",
    "\n",
    "    2. 외부 라이브러리 : python.org가 아닌, 외부 3rd party에서 개발한 모듈과 패키지를 묶어서 부르는 말\n",
    "        - ex) requests, scrapy, webbrowser 등\n",
    "        - **3rd party**를 통해 개발된 모듈, 패키지가 표준 라이브러리보다 더 우수하거나 사용하기 쉬운 경우도 있음\n",
    "        - 예를 들면, **Numpy, Scipy, requests**"
   ]
  },
  {
   "cell_type": "markdown",
   "metadata": {},
   "source": [
    "## 기온 공공데이터에 질문하기"
   ]
  },
  {
   "cell_type": "markdown",
   "metadata": {},
   "source": [
    "* 데이터에 질문하기\n",
    "\n",
    "    - 데이터 분석은 내가 관심 있는 데이터에 대한 호기심에서 출발\n",
    "    \n",
    "    1. 가장 더웠던 날은 언제였을까? 얼마나 더웠을까?\n",
    "    2. 일교차가 가장 큰 시기는 1년 중 언제일까?\n",
    "    3. 겨울에는 언제 가장 추울까? 12월? 1월? 2월?\n",
    "    \n",
    "    => 질문에 대한 답을 '데이터'에서 찾기"
   ]
  },
  {
   "cell_type": "markdown",
   "metadata": {},
   "source": [
    "* 결국, 정리해보면 이 과정으로 나아감\n",
    "\n",
    "    1. CSV 파일 데이터 읽기\n",
    "    2. 헤더 처리하기\n",
    "    3. 기온 공공데이터에 질문하기"
   ]
  },
  {
   "cell_type": "markdown",
   "metadata": {},
   "source": [
    "### 1. 가장 더웠던 날은 언제였을까?"
   ]
  },
  {
   "cell_type": "markdown",
   "metadata": {},
   "source": [
    "1. 질문 다듬기 : 기상 관측 이래, 인천의 **최고 기온**이 가장 높았던 날은 **언제**였고, **몇 도**였을까?\n",
    "    - 구체적이고 명확해야 함!"
   ]
  },
  {
   "cell_type": "markdown",
   "metadata": {},
   "source": [
    "2. 문제 해결 방법 구상하기\n",
    "\n",
    "    - 질문을 해결하는데 필요한 데이터? 날짜, 최고기온 데이터\n",
    "    - 과정 : 데이터 읽기 => 순차적으로 최고 기온 확인 => 가장 높았던 데이터 저장 => 최종 저장된 데이터 출력\n",
    "    - cf) 파이썬은 인덱스 거꾸로 세는 것도 가능 : -1, -2, -3, ..."
   ]
  },
  {
   "cell_type": "markdown",
   "metadata": {},
   "source": [
    "3. 파이썬 코드로 구현하기\n",
    "\n",
    "    - 데이터 불러서 (헤더 제외) 한 행씩 출력하기\n",
    "    - 이때, 리스트는 [], 문자열은 ''로 둘러싸여 있음\n",
    "    - 데이터 중 최고 기온을 실수(float)로 변환하여 한 행씩 출력하기"
   ]
  },
  {
   "cell_type": "markdown",
   "metadata": {},
   "source": [
    "* 이때, 최고 기온 데이터는 숫자 값이 아닌 문자열 -> 더하거나 크기 비교 불가능\n",
    "    - 숫자 타입(type) 데이터로 변환해주어야 함\n",
    "    - 소수점이 있는 실수이므로 float() 함수를 사용해 실수(float) 데이터로 변환\n",
    "    - *데이터는 완전무결하지는 않으므로, 결측치 같은 것들은 예외처리가 필요함*"
   ]
  },
  {
   "cell_type": "code",
   "execution_count": 2,
   "metadata": {},
   "outputs": [
    {
     "name": "stdout",
     "output_type": "stream",
     "text": [
      "기상 관측 이래, 인천의 최고 기온이 가장 높았던 날은 1949-07-16 이고,  38.9 도 이다.\n"
     ]
    }
   ],
   "source": [
    "import csv\n",
    "\n",
    "f = open('incheon_weather.csv', 'r')\n",
    "data = csv.reader(f)\n",
    "header = next(data)\n",
    "\n",
    "# 누락 데이터 (빈 문자열) 처리\n",
    "# 우리나라의 최고 기온은 일반적으로 35~40도 이므로, 이보다 작은 -100, -999로 정하면 됨\n",
    "\n",
    "max_temp = -999\n",
    "max_date = ''\n",
    "\n",
    "for row in data:\n",
    "    if row[-1] == '':    # 비교하므로 == 을 사용\n",
    "        row[-1] = -999\n",
    "    row[-1] = float(row[-1])\n",
    "    \n",
    "    if max_temp < row[-1]:\n",
    "        max_temp = row[-1]\n",
    "        max_date = row[0]\n",
    "    \n",
    "f.close()\n",
    "\n",
    "# 기상 관측 이래, 인천의 최고 기온이 가장 높았던 날은 언제였고, 몇 도였을까?\n",
    "print('기상 관측 이래, 인천의 최고 기온이 가장 높았던 날은', max_date, '이고, ', max_temp, '도 이다.')"
   ]
  }
 ],
 "metadata": {
  "kernelspec": {
   "display_name": "Python 3 (ipykernel)",
   "language": "python",
   "name": "python3"
  },
  "language_info": {
   "codemirror_mode": {
    "name": "ipython",
    "version": 3
   },
   "file_extension": ".py",
   "mimetype": "text/x-python",
   "name": "python",
   "nbconvert_exporter": "python",
   "pygments_lexer": "ipython3",
   "version": "3.10.7"
  },
  "vscode": {
   "interpreter": {
    "hash": "571214fd5c1f53d624ff021843f557c5fed43ab37a0f8ef5dfc8b3865f00e5a5"
   }
  }
 },
 "nbformat": 4,
 "nbformat_minor": 2
}
