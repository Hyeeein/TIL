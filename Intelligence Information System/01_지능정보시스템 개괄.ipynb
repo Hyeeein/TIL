{
 "cells": [
  {
   "cell_type": "markdown",
   "metadata": {},
   "source": [
    "### 지능정보시스템 강의 개요"
   ]
  },
  {
   "cell_type": "markdown",
   "metadata": {},
   "source": [
    "* 무엇을 배울까?\n",
    "    - AI(인공지능) & Big Data(정보)\n",
    "    - 데이터의 수집, 저장, 분석, 활용 => 파이썬(Python)을 도구로 하여 데이터를 다루는 수업\n",
    "    - 데이터 분석 및 시각화 / 텍스트 마이닝 / 인공지능 및 머신러닝에 대해 학습 예정"
   ]
  },
  {
   "cell_type": "markdown",
   "metadata": {},
   "source": [
    "### 데이터 획득 방법\n",
    "\n",
    "1. 공개 데이터 (ex: csv, json, txt 등)\n",
    "    - 기상청 데이터 (기상자료개방포털: https://data.kma.go.kr)\n",
    "    - 인구 데이터 (https://jumin.mois.go.kr/)\n",
    "    - 대중교통 데이터 (https://www.t-money.co.kr/)\n",
    "    => 정부, 각 단체, 연구자 등이 공개하는 데이터\n"
   ]
  },
  {
   "cell_type": "markdown",
   "metadata": {},
   "source": [
    "2. API : 서비스 제공자가 SW 혹은 데이터를 다른 사용자가 효과적으로 화룡할 수 있도록 공개하는 서비스\n",
    "    - 주로 네이버 API, 트위터 API, 카카오 API 많이 사용\n",
    "    - 모든 사이트가 제공하는 것은 아니고, 제공하는 API가 나랑 맞지 않을 수 있음"
   ]
  },
  {
   "cell_type": "markdown",
   "metadata": {},
   "source": [
    "3. 웹 스크레이핑/크롤링 : robots.txt로 허가된 것만 수집 (자동화된 봇이 긁어옴)"
   ]
  },
  {
   "cell_type": "markdown",
   "metadata": {},
   "source": [
    "### AI와 DS"
   ]
  },
  {
   "cell_type": "markdown",
   "metadata": {},
   "source": [
    "* AI (Artificial Intelligence)\n",
    "    - Classification / Regression -> Automation\n",
    "    - Prediction / Generation -> Something New!"
   ]
  },
  {
   "cell_type": "markdown",
   "metadata": {},
   "source": [
    "* DS (Data Science)\n",
    "    - Statistics, Visualization, Data Processing\n",
    "    - Analysis -> Insight!"
   ]
  },
  {
   "cell_type": "markdown",
   "metadata": {},
   "source": [
    "### 빅데이터"
   ]
  },
  {
   "cell_type": "markdown",
   "metadata": {},
   "source": [
    "* 빅데이터\n",
    "    - 디지털 환경에서 생성되는 모든 데이터\n",
    "    - 많은 양의 데이터가 매우 빠르게 생성되고 있으며, 다양한 형태(문자, 영상)으로 생성되고 있음"
   ]
  },
  {
   "cell_type": "markdown",
   "metadata": {},
   "source": [
    "* 빅데이터의 특징\n",
    "    1. 크기 (Volume) : 일반적으로 수십테라 혹은 페타바이트 이상\n",
    "    2. 속도 (Velocity) : 매우 빠른 속도로 생산\n",
    "    3. 다양성 (Variety) : 문자, 이미지, 영상과 같이 정형/비정형/반정형의 다양한 종류의 데이터\n",
    "\n",
    "    => 크기가 반드시 정해진 것은 아니고, 개인 데스크탑에서 저장되지 않는 정도를 빅데이터라고 함"
   ]
  },
  {
   "cell_type": "markdown",
   "metadata": {},
   "source": [
    "* 기술의 발달로 다양한 데이터 수집되고 있음\n",
    "\n",
    "    [AI] 수많은 Automation\n",
    "    - ex1) 온라인 쇼핑몰에서 상품 추천\n",
    "    - ex2) 신용카드 회사의 의심스러운 해외 결제 알람\n",
    "\n",
    "    [DS] 빅데이터로 의견 수집 -> 보고서 수집 & 의사결정\n",
    "    - 기존의 통계 기법을 활용한 것 이상의 것을 발견"
   ]
  }
 ],
 "metadata": {
  "kernelspec": {
   "display_name": "Python 3 (ipykernel)",
   "language": "python",
   "name": "python3"
  },
  "language_info": {
   "codemirror_mode": {
    "name": "ipython",
    "version": 3
   },
   "file_extension": ".py",
   "mimetype": "text/x-python",
   "name": "python",
   "nbconvert_exporter": "python",
   "pygments_lexer": "ipython3",
   "version": "3.10.7"
  },
  "vscode": {
   "interpreter": {
    "hash": "571214fd5c1f53d624ff021843f557c5fed43ab37a0f8ef5dfc8b3865f00e5a5"
   }
  }
 },
 "nbformat": 4,
 "nbformat_minor": 2
}
