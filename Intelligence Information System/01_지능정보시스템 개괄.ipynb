{
 "cells": [
  {
   "cell_type": "code",
   "execution_count": null,
   "metadata": {},
   "outputs": [],
   "source": []
  }
 ],
 "metadata": {
  "kernelspec": {
   "display_name": "Python 3.10.7 64-bit",
   "language": "python",
   "name": "python3"
  },
  "language_info": {
   "name": "python",
   "version": "3.10.7"
  },
  "orig_nbformat": 4,
  "vscode": {
   "interpreter": {
    "hash": "571214fd5c1f53d624ff021843f557c5fed43ab37a0f8ef5dfc8b3865f00e5a5"
   }
  }
 },
 "nbformat": 4,
 "nbformat_minor": 2
}
