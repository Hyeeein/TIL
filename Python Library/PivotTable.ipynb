{
 "cells": [
  {
   "cell_type": "code",
   "execution_count": null,
   "id": "b5a93fcf",
   "metadata": {},
   "outputs": [],
   "source": []
  }
 ],
 "metadata": {
  "kernelspec": {
   "display_name": "TIL",
   "language": "python",
   "name": "til"
  }
 },
 "nbformat": 4,
 "nbformat_minor": 5
}
