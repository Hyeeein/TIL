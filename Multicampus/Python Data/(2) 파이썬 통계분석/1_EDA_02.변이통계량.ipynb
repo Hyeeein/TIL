{
 "cells": [
  {
   "cell_type": "markdown",
   "id": "f8402c79",
   "metadata": {},
   "source": [
    "# 변이통계량(measure of dispersion)\n",
    "- 데이터의 퍼짐 정도\n",
    "- 범위, 사분위간 범위, 표준편차, 분산, 변동계수\n",
    "\n",
    "\n",
    "- 데이터들이 얼마나 흩어져 있는가를 나타내는 것(산포도)\n",
    "- 하나의 수치로 데이터가 흩어진 정도를 계산\n",
    "- 대표값과 더불어 데이터를 비교하는 경우에 유용하게 사용\n",
    "- 예. 평균이 같은 A와 B반의 성적 : 두 집단이 동일한 집단?\n",
    "\n",
    "\n",
    "- 어느 대학에서 같은 과목을 두 교수가 가르친다고 하자. 두 교수 모두 평균 C학점을 학생들에게 준다면 그 과목을 배우려는 학생들은 어떤 교수를 선택해도 마찬가지라고 생각할 것이다.\n",
    "- 그러나 한 교수는 대부분의 학생들이 평범하다고 생각하여 C만 주고 다른 교수는 학생들의 반은 우수하고 반은 공부를 안한다고 생각하여 A를 주거나 D만 준다\n",
    "- 그러므로 이러한 흩어짐의 정보 없이 학생들이 평균 성적 C라는 사실만 가지고 교수를 선택한다면 학점때문에 어려움에 처할 수도 있게 된다."
   ]
  },
  {
   "cell_type": "code",
   "execution_count": 1,
   "id": "0334284c",
   "metadata": {},
   "outputs": [],
   "source": [
    "import numpy as np\n",
    "import pandas as pd\n",
    "from scipy.stats import *"
   ]
  },
  {
   "cell_type": "code",
   "execution_count": 2,
   "id": "a3f79683",
   "metadata": {},
   "outputs": [],
   "source": [
    "import numpy as np\n",
    "# numpy float 출력옵션 변경\n",
    "# np.set_printoptions(precision=3)\n",
    "# np.set_printoptions(precision=20, suppress=True)\n",
    "# pd.options.display.float_format = '{:.2f}'.format\n",
    "np.set_printoptions(formatter={'float_kind': lambda x: \"{0:0.3f}\".format(x)})"
   ]
  },
  {
   "cell_type": "code",
   "execution_count": 3,
   "id": "f4e7f639",
   "metadata": {},
   "outputs": [],
   "source": [
    "from IPython.core.interactiveshell import InteractiveShell\n",
    "InteractiveShell.ast_node_interactivity=\"all\""
   ]
  },
  {
   "cell_type": "markdown",
   "id": "c51cd780",
   "metadata": {},
   "source": [
    "## 범위 (range)\n",
    "\n",
    "* 데이터의 최대값과 최소값의 차이\n",
    "* 데이터가 퍼져 있는 정도\n",
    "* 범위가 클수록 산포가 크다고 말할 수 있지만, 극단적인 값에 영향 받음\n",
    "* 데이터 중 2개의 정보(최대값, 최소값)만을 이용하므로 적절한 척도로 사용하기 어려움"
   ]
  },
  {
   "cell_type": "code",
   "execution_count": 7,
   "id": "b97bd214",
   "metadata": {},
   "outputs": [
    {
     "data": {
      "text/plain": [
       "array([78.287, 119.947, 105.660, 69.874, 88.428, 133.029, 51.466, 91.422,\n",
       "       125.319, 82.665])"
      ]
     },
     "execution_count": 7,
     "metadata": {},
     "output_type": "execute_result"
    },
    {
     "data": {
      "text/plain": [
       "136.05268451891246"
      ]
     },
     "execution_count": 7,
     "metadata": {},
     "output_type": "execute_result"
    }
   ],
   "source": [
    "# 범위 (R) = 최댓값 - 최솟값\n",
    "np.random.seed(123)\n",
    "data = np.random.normal(100, 20, size=1000)\n",
    "data[:10]\n",
    "\n",
    "np.max(data) - np.min(data)"
   ]
  },
  {
   "cell_type": "code",
   "execution_count": 6,
   "id": "52b414c6",
   "metadata": {},
   "outputs": [
    {
     "data": {
      "text/plain": [
       "136.05268451891246"
      ]
     },
     "execution_count": 6,
     "metadata": {},
     "output_type": "execute_result"
    }
   ],
   "source": [
    "# numpy.ptp() 이용\n",
    "np.ptp(data)"
   ]
  },
  {
   "cell_type": "markdown",
   "id": "7d804844",
   "metadata": {},
   "source": [
    "### 중간 범위\n",
    "\n",
    "* 최대값과 최소값의 평균"
   ]
  },
  {
   "cell_type": "code",
   "execution_count": 8,
   "id": "8c0b85e6",
   "metadata": {},
   "outputs": [
    {
     "data": {
      "text/plain": [
       "103.40524210106999"
      ]
     },
     "execution_count": 8,
     "metadata": {},
     "output_type": "execute_result"
    }
   ],
   "source": [
    "# 중간 범위 계산\n",
    "(np.max(data) + np.min(data)) / 2"
   ]
  },
  {
   "cell_type": "code",
   "execution_count": 12,
   "id": "aa997b28",
   "metadata": {},
   "outputs": [
    {
     "data": {
      "text/plain": [
       "27.06844676167337"
      ]
     },
     "execution_count": 12,
     "metadata": {},
     "output_type": "execute_result"
    },
    {
     "data": {
      "text/plain": [
       "27.06844676167337"
      ]
     },
     "execution_count": 12,
     "metadata": {},
     "output_type": "execute_result"
    }
   ],
   "source": [
    "# 사분위간 범위 (IQR) = Q3 - Q1\n",
    "\n",
    "# numpy.quantile() 이용하여 IQR 계산\n",
    "np.quantile(data, 0.75) - np.quantile(data, 0.25)\n",
    "\n",
    "# scipy.stats.iqr(x[, axis, rng, scale, nan_policy, ...]) 이용\n",
    "iqr(data)"
   ]
  },
  {
   "cell_type": "code",
   "execution_count": 13,
   "id": "c630dde2",
   "metadata": {},
   "outputs": [
    {
     "data": {
      "text/plain": [
       "13.534223380836686"
      ]
     },
     "execution_count": 13,
     "metadata": {},
     "output_type": "execute_result"
    },
    {
     "data": {
      "text/plain": [
       "13.534223380836686"
      ]
     },
     "execution_count": 13,
     "metadata": {},
     "output_type": "execute_result"
    }
   ],
   "source": [
    "#사분위수 편차 : 사분위간 범위의 값을 2로 나눈 값, 사분위 범위의 평균값 (범위 보완)\n",
    "\n",
    "# numpy.quantile() 이용하여 IQR 계산\n",
    "(np.quantile(data, 0.75) - np.quantile(data, 0.25))/2\n",
    "\n",
    "# scipy.stats.iqr(x[, axis, rng, scale, nan_policy, ...]) 이용\n",
    "iqr(data) / 2"
   ]
  },
  {
   "cell_type": "markdown",
   "id": "e87a1e7e",
   "metadata": {},
   "source": [
    "### 편차 (deviation)"
   ]
  },
  {
   "cell_type": "code",
   "execution_count": 15,
   "id": "e67a084a",
   "metadata": {},
   "outputs": [
    {
     "data": {
      "text/plain": [
       "-7.815970093361102e-12"
      ]
     },
     "execution_count": 15,
     "metadata": {},
     "output_type": "execute_result"
    }
   ],
   "source": [
    "deviation = data - np.mean(data)\n",
    "\n",
    "# 편차의 합은 항상 0\n",
    "(data - np.mean(data)).sum()"
   ]
  },
  {
   "cell_type": "markdown",
   "id": "fa4f781b",
   "metadata": {},
   "source": [
    "### 분산 (variaince)\n",
    "\n",
    "- 산포도의 척도로 가장 널리 사용되는 방법\n",
    "- 평균을 중심으로 데이터가 퍼져있는 정도의 측도\n",
    "\n",
    "\n",
    "- 각 데이터와 평균과의 차이를 제곱하여 합한 값의 평균\n",
    "    - 모분산 : n으로 나눠줌\n",
    "    - 표본분산 : n-1로 나눠줌"
   ]
  },
  {
   "cell_type": "markdown",
   "id": "63fe5b1a",
   "metadata": {},
   "source": [
    "**분산 계산 : var(a, ddof=0) 함수**\n",
    "- numpy.var(a[, axis, dtype, out, ddof, keepdims, where])\n",
    "- pandas.Series.var(axis=None, skipna=None, level=None, ddof=1, numeric_only=None, **kwargs)\n",
    "- ddof 인수:\n",
    "    - 기본값은 0 => 모집단 분산\n",
    "    - 표본 분산의 경우 1로 설정"
   ]
  },
  {
   "cell_type": "code",
   "execution_count": 21,
   "id": "3d7641d4",
   "metadata": {},
   "outputs": [
    {
     "data": {
      "text/plain": [
       "2.5"
      ]
     },
     "execution_count": 21,
     "metadata": {},
     "output_type": "execute_result"
    },
    {
     "data": {
      "text/plain": [
       "2.0"
      ]
     },
     "execution_count": 21,
     "metadata": {},
     "output_type": "execute_result"
    },
    {
     "data": {
      "text/plain": [
       "2.0"
      ]
     },
     "execution_count": 21,
     "metadata": {},
     "output_type": "execute_result"
    },
    {
     "data": {
      "text/plain": [
       "2.0"
      ]
     },
     "execution_count": 21,
     "metadata": {},
     "output_type": "execute_result"
    }
   ],
   "source": [
    "x = [1, 2, 3, 4, 5]\n",
    "\n",
    "# 표본분산\n",
    "np.var(x, ddof=1)\n",
    "\n",
    "# 모분산 : 방식 1\n",
    "np.var(x)\n",
    "\n",
    "# 모분산 : 방식 2\n",
    "np.array(x).var()\n",
    "pd.Series(x).var(ddof=0)"
   ]
  },
  {
   "cell_type": "markdown",
   "id": "8a60b8a1",
   "metadata": {},
   "source": [
    "### 표준편차"
   ]
  },
  {
   "cell_type": "markdown",
   "id": "f35c6765",
   "metadata": {},
   "source": [
    "### 표준편차 계산 : std(a, ddof=0) 함수 사용\n",
    "\n",
    "* 데이터의 단위와 동일하게 만듦 (분산에서 제곱의 영향을 없앤 지표)\n",
    "* 분산과 표준편차가 크면 클수록 산포가 큼)"
   ]
  },
  {
   "cell_type": "markdown",
   "id": "e781f54d",
   "metadata": {},
   "source": [
    "* ddof 인수\n",
    "    - 기본값은 0 => 모집단 분산\n",
    "    - 표본 분산의 경우 1로 설정"
   ]
  },
  {
   "cell_type": "code",
   "execution_count": null,
   "id": "5c179d7c",
   "metadata": {},
   "outputs": [],
   "source": [
    "x = [1, 2, 3, 4, 5]\n",
    "\n",
    "# 표본표준편차 (S)\n",
    "np.std(x, ddof=1)\n",
    "\n",
    "# 모표준편차 (sigma)\n",
    "np.std(x)\n",
    "np.array(x).... # 수정"
   ]
  },
  {
   "cell_type": "markdown",
   "id": "91537b4b",
   "metadata": {},
   "source": [
    "### 변동계수 (CV: Coefficient of Variable)"
   ]
  },
  {
   "cell_type": "code",
   "execution_count": 25,
   "id": "c749889b",
   "metadata": {},
   "outputs": [
    {
     "name": "stdout",
     "output_type": "stream",
     "text": [
      "평균\n"
     ]
    },
    {
     "data": {
      "text/plain": [
       "72.0"
      ]
     },
     "execution_count": 25,
     "metadata": {},
     "output_type": "execute_result"
    },
    {
     "data": {
      "text/plain": [
       "49.0"
      ]
     },
     "execution_count": 25,
     "metadata": {},
     "output_type": "execute_result"
    },
    {
     "name": "stdout",
     "output_type": "stream",
     "text": [
      "표본표준편차\n"
     ]
    },
    {
     "data": {
      "text/plain": [
       "4.242640687119285"
      ]
     },
     "execution_count": 25,
     "metadata": {},
     "output_type": "execute_result"
    },
    {
     "data": {
      "text/plain": [
       "3.22490309931942"
      ]
     },
     "execution_count": 25,
     "metadata": {},
     "output_type": "execute_result"
    }
   ],
   "source": [
    "men = [72, 74, 77, 68, 66, 75]\n",
    "women = [45, 48, 52, 53, 46, 50]\n",
    "\n",
    "print('평균')\n",
    "np.mean(men)\n",
    "np.mean(women)\n",
    "\n",
    "print('표본표준편차')\n",
    "np.std(men, ddof=1)\n",
    "np.std(women, ddof=1)"
   ]
  },
  {
   "cell_type": "code",
   "execution_count": 28,
   "id": "06e6aafe",
   "metadata": {},
   "outputs": [
    {
     "name": "stdout",
     "output_type": "stream",
     "text": [
      "남자의 CV: 0.05892556509887895\n",
      "여자의 CV: 0.06581434896570246\n"
     ]
    }
   ],
   "source": [
    "# np.std(x, axis=axis, ddof=ddof) / np.mean(x) 이용\n",
    "\n",
    "print('남자의 CV:', np.std(men, ddof=1) / np.mean(men))\n",
    "print('여자의 CV:', np.std(women, ddof=1) / np.mean(women))"
   ]
  },
  {
   "cell_type": "code",
   "execution_count": 29,
   "id": "7fab7090",
   "metadata": {},
   "outputs": [
    {
     "name": "stdout",
     "output_type": "stream",
     "text": [
      "남자의 CV: 0.053791435363991905\n",
      "여자의 CV: 0.06008000589338671\n"
     ]
    }
   ],
   "source": [
    "# scipy.stats.variation() 이용\n",
    "\n",
    "print('남자의 CV:', variation(men))\n",
    "print('여자의 CV:', variation(women))"
   ]
  },
  {
   "cell_type": "markdown",
   "id": "e1e292ca",
   "metadata": {},
   "source": [
    "## 데이터의 정규화\n",
    "\n",
    ": scaling(표준화)"
   ]
  },
  {
   "cell_type": "code",
   "execution_count": 33,
   "id": "1b8c40be",
   "metadata": {},
   "outputs": [
    {
     "data": {
      "text/html": [
       "<div>\n",
       "<style scoped>\n",
       "    .dataframe tbody tr th:only-of-type {\n",
       "        vertical-align: middle;\n",
       "    }\n",
       "\n",
       "    .dataframe tbody tr th {\n",
       "        vertical-align: top;\n",
       "    }\n",
       "\n",
       "    .dataframe thead th {\n",
       "        text-align: right;\n",
       "    }\n",
       "</style>\n",
       "<table border=\"1\" class=\"dataframe\">\n",
       "  <thead>\n",
       "    <tr style=\"text-align: right;\">\n",
       "      <th></th>\n",
       "      <th>english</th>\n",
       "      <th>mathematics</th>\n",
       "    </tr>\n",
       "    <tr>\n",
       "      <th>student number</th>\n",
       "      <th></th>\n",
       "      <th></th>\n",
       "    </tr>\n",
       "  </thead>\n",
       "  <tbody>\n",
       "    <tr>\n",
       "      <th>1</th>\n",
       "      <td>42</td>\n",
       "      <td>65</td>\n",
       "    </tr>\n",
       "    <tr>\n",
       "      <th>2</th>\n",
       "      <td>69</td>\n",
       "      <td>80</td>\n",
       "    </tr>\n",
       "    <tr>\n",
       "      <th>3</th>\n",
       "      <td>56</td>\n",
       "      <td>63</td>\n",
       "    </tr>\n",
       "    <tr>\n",
       "      <th>4</th>\n",
       "      <td>41</td>\n",
       "      <td>63</td>\n",
       "    </tr>\n",
       "    <tr>\n",
       "      <th>5</th>\n",
       "      <td>57</td>\n",
       "      <td>76</td>\n",
       "    </tr>\n",
       "  </tbody>\n",
       "</table>\n",
       "</div>"
      ],
      "text/plain": [
       "                english  mathematics\n",
       "student number                      \n",
       "1                    42           65\n",
       "2                    69           80\n",
       "3                    56           63\n",
       "4                    41           63\n",
       "5                    57           76"
      ]
     },
     "execution_count": 33,
     "metadata": {},
     "output_type": "execute_result"
    }
   ],
   "source": [
    "df = pd.read_csv('C:/TIL/Python_data/data/ch2_scores_em.csv',\n",
    "                 index_col='student number')\n",
    "df.head()"
   ]
  },
  {
   "cell_type": "code",
   "execution_count": 34,
   "id": "0670f15f",
   "metadata": {},
   "outputs": [
    {
     "data": {
      "text/plain": [
       "count    50.000000\n",
       "mean     58.380000\n",
       "std       9.799813\n",
       "min      37.000000\n",
       "25%      54.000000\n",
       "50%      57.500000\n",
       "75%      65.000000\n",
       "max      79.000000\n",
       "Name: english, dtype: float64"
      ]
     },
     "execution_count": 34,
     "metadata": {},
     "output_type": "execute_result"
    }
   ],
   "source": [
    "df['english'].describe()"
   ]
  },
  {
   "cell_type": "code",
   "execution_count": 35,
   "id": "8c260d86",
   "metadata": {},
   "outputs": [
    {
     "data": {
      "text/plain": [
       "count    50.000000\n",
       "mean     78.880000\n",
       "std       8.414371\n",
       "min      57.000000\n",
       "25%      76.000000\n",
       "50%      80.000000\n",
       "75%      84.000000\n",
       "max      94.000000\n",
       "Name: mathematics, dtype: float64"
      ]
     },
     "execution_count": 35,
     "metadata": {},
     "output_type": "execute_result"
    }
   ],
   "source": [
    "df['mathematics'].describe()"
   ]
  },
  {
   "cell_type": "code",
   "execution_count": 36,
   "id": "c51513ac",
   "metadata": {},
   "outputs": [
    {
     "data": {
      "text/html": [
       "<div>\n",
       "<style scoped>\n",
       "    .dataframe tbody tr th:only-of-type {\n",
       "        vertical-align: middle;\n",
       "    }\n",
       "\n",
       "    .dataframe tbody tr th {\n",
       "        vertical-align: top;\n",
       "    }\n",
       "\n",
       "    .dataframe thead th {\n",
       "        text-align: right;\n",
       "    }\n",
       "</style>\n",
       "<table border=\"1\" class=\"dataframe\">\n",
       "  <thead>\n",
       "    <tr style=\"text-align: right;\">\n",
       "      <th></th>\n",
       "      <th>english</th>\n",
       "      <th>mathematics</th>\n",
       "    </tr>\n",
       "  </thead>\n",
       "  <tbody>\n",
       "    <tr>\n",
       "      <th>count</th>\n",
       "      <td>50.000000</td>\n",
       "      <td>50.000000</td>\n",
       "    </tr>\n",
       "    <tr>\n",
       "      <th>mean</th>\n",
       "      <td>58.380000</td>\n",
       "      <td>78.880000</td>\n",
       "    </tr>\n",
       "    <tr>\n",
       "      <th>std</th>\n",
       "      <td>9.799813</td>\n",
       "      <td>8.414371</td>\n",
       "    </tr>\n",
       "    <tr>\n",
       "      <th>min</th>\n",
       "      <td>37.000000</td>\n",
       "      <td>57.000000</td>\n",
       "    </tr>\n",
       "    <tr>\n",
       "      <th>25%</th>\n",
       "      <td>54.000000</td>\n",
       "      <td>76.000000</td>\n",
       "    </tr>\n",
       "    <tr>\n",
       "      <th>50%</th>\n",
       "      <td>57.500000</td>\n",
       "      <td>80.000000</td>\n",
       "    </tr>\n",
       "    <tr>\n",
       "      <th>75%</th>\n",
       "      <td>65.000000</td>\n",
       "      <td>84.000000</td>\n",
       "    </tr>\n",
       "    <tr>\n",
       "      <th>max</th>\n",
       "      <td>79.000000</td>\n",
       "      <td>94.000000</td>\n",
       "    </tr>\n",
       "  </tbody>\n",
       "</table>\n",
       "</div>"
      ],
      "text/plain": [
       "         english  mathematics\n",
       "count  50.000000    50.000000\n",
       "mean   58.380000    78.880000\n",
       "std     9.799813     8.414371\n",
       "min    37.000000    57.000000\n",
       "25%    54.000000    76.000000\n",
       "50%    57.500000    80.000000\n",
       "75%    65.000000    84.000000\n",
       "max    79.000000    94.000000"
      ]
     },
     "execution_count": 36,
     "metadata": {},
     "output_type": "execute_result"
    }
   ],
   "source": [
    "df.describe()"
   ]
  },
  {
   "cell_type": "markdown",
   "id": "d7569914",
   "metadata": {},
   "source": [
    "### Z-scaling"
   ]
  },
  {
   "cell_type": "code",
   "execution_count": 39,
   "id": "0a6d8f5a",
   "metadata": {},
   "outputs": [
    {
     "name": "stdout",
     "output_type": "stream",
     "text": [
      "-2.1816743772942324 2.104121873704727\n",
      "-2.600313324789425 1.796925844187209\n"
     ]
    }
   ],
   "source": [
    "# Z-scaling : 평균이 0, 표준편차가 1이 됨\n",
    "z1 = (df['english'] - df['english'].mean()) / df['english'].std()\n",
    "z2 = (df['mathematics'] - df['mathematics'].mean()) / df['mathematics'].std()\n",
    "\n",
    "print(z1.min(), z1.max())\n",
    "print(z2.min(), z2.max())\n",
    "# -3 ~ 3 사이의 값으로 분포함"
   ]
  },
  {
   "cell_type": "code",
   "execution_count": 40,
   "id": "69790632",
   "metadata": {},
   "outputs": [
    {
     "data": {
      "text/plain": [
       "(-2.3092638912203257e-16, 1.0)"
      ]
     },
     "execution_count": 40,
     "metadata": {},
     "output_type": "execute_result"
    }
   ],
   "source": [
    "z1.mean(), z1.std()"
   ]
  },
  {
   "cell_type": "markdown",
   "id": "391c1814",
   "metadata": {},
   "source": [
    "### min-max scaling"
   ]
  },
  {
   "cell_type": "code",
   "execution_count": 42,
   "id": "f2995b3f",
   "metadata": {},
   "outputs": [
    {
     "name": "stdout",
     "output_type": "stream",
     "text": [
      "eng: 0.0 1.0\n",
      "mat: 0.0 1.0\n"
     ]
    }
   ],
   "source": [
    "# min-max scaling\n",
    "s1 = (df['english'] - df['english'].min()) / (df['english'].max() - df['english'].min())\n",
    "s2 = (df['mathematics'] - df['mathematics'].min()) / (df['mathematics'].max() - df['mathematics'].min())\n",
    "\n",
    "print('eng:', s1.min(), s1.max())\n",
    "print('mat:', s2.min(), s2.max())"
   ]
  },
  {
   "cell_type": "markdown",
   "id": "0deb0505",
   "metadata": {},
   "source": [
    "### sklearn.preprocessing.MinMaxScaler를 이용한 스케일링\n",
    "\n",
    "* 머신러닝을 위해 쓰는 경우가 대부분\n",
    "* df의 각 열에 대해서 스케일링 하는데에 적합함"
   ]
  },
  {
   "cell_type": "code",
   "execution_count": 48,
   "id": "bb46d5f0",
   "metadata": {},
   "outputs": [
    {
     "data": {
      "text/html": [
       "<div>\n",
       "<style scoped>\n",
       "    .dataframe tbody tr th:only-of-type {\n",
       "        vertical-align: middle;\n",
       "    }\n",
       "\n",
       "    .dataframe tbody tr th {\n",
       "        vertical-align: top;\n",
       "    }\n",
       "\n",
       "    .dataframe thead th {\n",
       "        text-align: right;\n",
       "    }\n",
       "</style>\n",
       "<table border=\"1\" class=\"dataframe\">\n",
       "  <thead>\n",
       "    <tr style=\"text-align: right;\">\n",
       "      <th></th>\n",
       "      <th>english</th>\n",
       "      <th>mathematics</th>\n",
       "    </tr>\n",
       "    <tr>\n",
       "      <th>student number</th>\n",
       "      <th></th>\n",
       "      <th></th>\n",
       "    </tr>\n",
       "  </thead>\n",
       "  <tbody>\n",
       "    <tr>\n",
       "      <th>1</th>\n",
       "      <td>42</td>\n",
       "      <td>65</td>\n",
       "    </tr>\n",
       "    <tr>\n",
       "      <th>2</th>\n",
       "      <td>69</td>\n",
       "      <td>80</td>\n",
       "    </tr>\n",
       "    <tr>\n",
       "      <th>3</th>\n",
       "      <td>56</td>\n",
       "      <td>63</td>\n",
       "    </tr>\n",
       "    <tr>\n",
       "      <th>4</th>\n",
       "      <td>41</td>\n",
       "      <td>63</td>\n",
       "    </tr>\n",
       "    <tr>\n",
       "      <th>5</th>\n",
       "      <td>57</td>\n",
       "      <td>76</td>\n",
       "    </tr>\n",
       "  </tbody>\n",
       "</table>\n",
       "</div>"
      ],
      "text/plain": [
       "                english  mathematics\n",
       "student number                      \n",
       "1                    42           65\n",
       "2                    69           80\n",
       "3                    56           63\n",
       "4                    41           63\n",
       "5                    57           76"
      ]
     },
     "execution_count": 48,
     "metadata": {},
     "output_type": "execute_result"
    }
   ],
   "source": [
    "df.head()"
   ]
  },
  {
   "cell_type": "code",
   "execution_count": 49,
   "id": "16ee5131",
   "metadata": {},
   "outputs": [
    {
     "data": {
      "text/html": [
       "<div>\n",
       "<style scoped>\n",
       "    .dataframe tbody tr th:only-of-type {\n",
       "        vertical-align: middle;\n",
       "    }\n",
       "\n",
       "    .dataframe tbody tr th {\n",
       "        vertical-align: top;\n",
       "    }\n",
       "\n",
       "    .dataframe thead th {\n",
       "        text-align: right;\n",
       "    }\n",
       "</style>\n",
       "<table border=\"1\" class=\"dataframe\">\n",
       "  <thead>\n",
       "    <tr style=\"text-align: right;\">\n",
       "      <th></th>\n",
       "      <th>english</th>\n",
       "      <th>mathematics</th>\n",
       "    </tr>\n",
       "    <tr>\n",
       "      <th>student number</th>\n",
       "      <th></th>\n",
       "      <th></th>\n",
       "    </tr>\n",
       "  </thead>\n",
       "  <tbody>\n",
       "    <tr>\n",
       "      <th>1</th>\n",
       "      <td>0.119048</td>\n",
       "      <td>0.216216</td>\n",
       "    </tr>\n",
       "    <tr>\n",
       "      <th>2</th>\n",
       "      <td>0.761905</td>\n",
       "      <td>0.621622</td>\n",
       "    </tr>\n",
       "    <tr>\n",
       "      <th>3</th>\n",
       "      <td>0.452381</td>\n",
       "      <td>0.162162</td>\n",
       "    </tr>\n",
       "    <tr>\n",
       "      <th>4</th>\n",
       "      <td>0.095238</td>\n",
       "      <td>0.162162</td>\n",
       "    </tr>\n",
       "    <tr>\n",
       "      <th>5</th>\n",
       "      <td>0.476190</td>\n",
       "      <td>0.513514</td>\n",
       "    </tr>\n",
       "  </tbody>\n",
       "</table>\n",
       "</div>"
      ],
      "text/plain": [
       "                 english  mathematics\n",
       "student number                       \n",
       "1               0.119048     0.216216\n",
       "2               0.761905     0.621622\n",
       "3               0.452381     0.162162\n",
       "4               0.095238     0.162162\n",
       "5               0.476190     0.513514"
      ]
     },
     "execution_count": 49,
     "metadata": {},
     "output_type": "execute_result"
    }
   ],
   "source": [
    "from sklearn.preprocessing import MinMaxScaler\n",
    "\n",
    "scaler = MinMaxScaler()\n",
    "S = scaler.fit_transform(df)\n",
    "pd.DataFrame(S, columns=df.columns, index=df.index).head()"
   ]
  },
  {
   "cell_type": "code",
   "execution_count": null,
   "id": "5ce0c9f5",
   "metadata": {},
   "outputs": [],
   "source": []
  }
 ],
 "metadata": {
  "kernelspec": {
   "display_name": "Python 3",
   "language": "python",
   "name": "python3"
  },
  "language_info": {
   "codemirror_mode": {
    "name": "ipython",
    "version": 3
   },
   "file_extension": ".py",
   "mimetype": "text/x-python",
   "name": "python",
   "nbconvert_exporter": "python",
   "pygments_lexer": "ipython3",
   "version": "3.8.8"
  }
 },
 "nbformat": 4,
 "nbformat_minor": 5
}
