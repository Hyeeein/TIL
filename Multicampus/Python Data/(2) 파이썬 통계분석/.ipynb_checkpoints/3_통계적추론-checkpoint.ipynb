{
 "cells": [
  {
   "cell_type": "code",
   "execution_count": 12,
   "id": "02be6e00",
   "metadata": {},
   "outputs": [],
   "source": [
    "import numpy as np\n",
    "import pandas as pd\n",
    "from scipy import stats\n",
    "\n",
    "%precision 3\n",
    "np.random.seed(1111)"
   ]
  },
  {
   "cell_type": "code",
   "execution_count": 14,
   "id": "e7a1f9e8",
   "metadata": {},
   "outputs": [],
   "source": [
    "import matplotlib.pyplot as plt"
   ]
  },
  {
   "cell_type": "markdown",
   "id": "9c7d0356",
   "metadata": {},
   "source": [
    "### 참고. 정규분포 관련 함수들\n",
    "\n",
    "* stat.norm(평균, 표준편차): 평균과 표준편차의 정규분포를 따르는 확률변수 생성\n",
    "* .pdf(확률변수): 밀도함수 계산\n",
    "* .cdf(확률변수): 누적분포함수 P (X<=확률변수)\n",
    "* .isf(alpha): 상위 alpha%가 되는 확률변수값 반환\n",
    "* .interval(alpha): 확률이 alpha가 되는 가운데 부분의 구간 반환"
   ]
  },
  {
   "cell_type": "markdown",
   "id": "bc8c74ab",
   "metadata": {},
   "source": [
    "### 모평균의 구간추정\n",
    "\n",
    "#### 문제 1\n",
    "표준정규분포로부터 뽑아 95% 신뢰구간을 구하는 것을 20번 반복했을 떄, 몇 개의 신뢰구간이 모평균을 포함할지 확인"
   ]
  },
  {
   "cell_type": "code",
   "execution_count": 15,
   "id": "fefc537c",
   "metadata": {},
   "outputs": [],
   "source": [
    "# 성적 데이터\n",
    "\n",
    "df = pd.read_csv('C:/TIL/Python_data/data/ch4_scores400.csv')\n",
    "scores = np.array(df['score'])"
   ]
  },
  {
   "cell_type": "code",
   "execution_count": 16,
   "id": "b6efc08e",
   "metadata": {},
   "outputs": [
    {
     "data": {
      "text/plain": [
       "(69.53, 206.6691)"
      ]
     },
     "execution_count": 16,
     "metadata": {},
     "output_type": "execute_result"
    }
   ],
   "source": [
    "# 성적데이터 모집단의 평균과 분산 계산\n",
    "\n",
    "p_mean = np.mean(scores)\n",
    "p_var = np.var(scores)\n",
    "\n",
    "p_mean, p_var"
   ]
  },
  {
   "cell_type": "code",
   "execution_count": 18,
   "id": "4d453367",
   "metadata": {},
   "outputs": [
    {
     "data": {
      "image/png": "[encoded data removed]",
      "text/plain": [
       "<Figure size 432x288 with 1 Axes>"
      ]
     },
     "metadata": {
      "needs_background": "light"
     },
     "output_type": "display_data"
    }
   ],
   "source": [
    "# 모집단의 분포\n",
    "xs = np.arange(101)\n",
    "rv = stats.norm(p_mean, np.sqrt(p_var))\n",
    "plt.plot(xs, rv.pdf(xs), color='gray')     # 평균 69.53, 분산 206.67 인 정규분포\n",
    "plt.hist(scores, bins=100, range=(0, 100), density=True)\n",
    "plt.show()"
   ]
  },
  {
   "cell_type": "code",
   "execution_count": 33,
   "id": "c7d8f3bd",
   "metadata": {},
   "outputs": [
    {
     "data": {
      "text/plain": [
       "array([[ 77,  71,  49,  57,  78,  54,  49,  80,  78,  78,  67,  67,  76,\n",
       "         66,  47,  55,  47,  91,  85,  61],\n",
       "       [ 96,  66,  80,  78,  68,  72,  83,  96,  85,  62,  73,  62,  74,\n",
       "         98,  64,  74,  68,  86,  80,  61],\n",
       "       [ 94,  96,  87,  84, 100,  75,  73,  69,  74,  66,  68,  79,  87,\n",
       "         83,  67,  72,  71,  67,  64,  80],\n",
       "       [ 54,  83,  80,  65,  77,  79,  78,  93,  40,  70,  75,  65,  68,\n",
       "         58,  57,  52,  87,  70,  81,  97],\n",
       "       [ 78,  56,  67,  43,  90,  67,  72,  61,  69,  59,  54, 100,  54,\n",
       "         62,  96,  61,  64,  71,  84,  67]], dtype=int64)"
      ]
     },
     "execution_count": 33,
     "metadata": {},
     "output_type": "execute_result"
    }
   ],
   "source": [
    "# sample 데이터 생성\n",
    "n_sam = 10000\n",
    "n = 20\n",
    "samples = np.random.choice(scores, (n_sam, n))\n",
    "samples[:5]"
   ]
  },
  {
   "cell_type": "code",
   "execution_count": 34,
   "id": "ba9cbd8f",
   "metadata": {},
   "outputs": [
    {
     "data": {
      "text/plain": [
       "1.9599639845400545"
      ]
     },
     "execution_count": 34,
     "metadata": {},
     "output_type": "execute_result"
    }
   ],
   "source": [
    "rv = stats.norm()\n",
    "rv.isf(0.025)"
   ]
  },
  {
   "cell_type": "code",
   "execution_count": 38,
   "id": "778bda8d",
   "metadata": {},
   "outputs": [
    {
     "data": {
      "image/png": "[encoded data removed]",
      "text/plain": [
       "<Figure size 432x288 with 1 Axes>"
      ]
     },
     "metadata": {
      "needs_background": "light"
     },
     "output_type": "display_data"
    }
   ],
   "source": [
    "# 모분산을 아는 경우 95% 신뢰구간 : 정규분포를 이용\n",
    "\n",
    "rv = stats.norm()\n",
    "n_samples = 20\n",
    "n = 20\n",
    "\n",
    "plt.vlines(p_mean, 0, 21)\n",
    "for i in range(n_samples):\n",
    "    sample_ = samples[i]\n",
    "    s_mean = np.mean(sample_)\n",
    "    lcl = s_mean - rv.isf(0.025) * np.sqrt(p_var/n)\n",
    "    ucl = s_mean + rv.isf(0.025) * np.sqrt(p_var/n)\n",
    "#     ucl = s_mean - rv.isf(0.975) * np.sqrt(p_var/20)\n",
    "\n",
    "    if lcl <= p_mean <= ucl:\n",
    "        plt.scatter(s_mean, n_samples-i, color = 'gray')\n",
    "        plt.hlines(n_samples - i, lcl, ucl, color='gray')\n",
    "    else:\n",
    "        plt.scatter(s_mean, n_samples-i, color = 'b')\n",
    "        plt.hlines(n_samples - i, lcl, ucl, color='b')\n",
    "\n",
    "plt.xticks([p_mean])\n",
    "plt.xlabel('population mean')\n",
    "plt.show()\n",
    "\n",
    "# 난 왜 두개 나와? 강사님은 1갠데..?"
   ]
  },
  {
   "cell_type": "code",
   "execution_count": 39,
   "id": "2aeca57b",
   "metadata": {},
   "outputs": [
    {
     "data": {
      "text/plain": [
       "(64.60886718758785, 68.69113281241216)"
      ]
     },
     "execution_count": 39,
     "metadata": {},
     "output_type": "execute_result"
    }
   ],
   "source": [
    "# 모분산을 모르는 경우 95% 신뢰구간 : t - 분포 이용\n",
    "n = 20\n",
    "alpha = 0.25\n",
    "sample_ = samples[0]\n",
    "s_mean = np.mean(sample_)\n",
    "s_var = np.var(sample_)\n",
    "rv = stats.t(df=n-1)\n",
    "\n",
    "lcl = s_mean - rv.isf(alpha) * np.sqrt(s_var/n)\n",
    "ucl = s_mean + rv.isf(alpha) * np.sqrt(s_var/n)\n",
    "lcl, ucl"
   ]
  },
  {
   "cell_type": "code",
   "execution_count": 42,
   "id": "0f5365d9",
   "metadata": {},
   "outputs": [
    {
     "data": {
      "image/png": "[encoded data removed]",
      "text/plain": [
       "<Figure size 432x288 with 1 Axes>"
      ]
     },
     "metadata": {
      "needs_background": "light"
     },
     "output_type": "display_data"
    }
   ],
   "source": [
    "n_samples = 20\n",
    "n = 20\n",
    "rv = stats.t(df = n-1)\n",
    "alpha = 25\n",
    "\n",
    "plt.vlines(p_mean, 0, 21)\n",
    "for i in range(n_samples):\n",
    "    sample_ = samples[i]\n",
    "    s_mean = np.mean(sample_)\n",
    "    lcl = s_mean - rv.isf(0.025) * np.sqrt(p_var/n)\n",
    "    ucl = s_mean + rv.isf(0.025) * np.sqrt(p_var/n)\n",
    "#     ucl = s_mean - rv.isf(0.975) * np.sqrt(p_var/20)\n",
    "\n",
    "    if lcl <= p_mean <= ucl:\n",
    "        plt.scatter(s_mean, n_samples-i, color = 'gray')\n",
    "        plt.hlines(n_samples - i, lcl, ucl, color='gray')\n",
    "    else:\n",
    "        plt.scatter(s_mean, n_samples-i, color = 'b')\n",
    "        plt.hlines(n_samples - i, lcl, ucl, color='b')\n",
    "\n",
    "plt.xticks([p_mean])\n",
    "plt.xlabel('population mean')\n",
    "plt.show()\n",
    "\n",
    "# 여기도 좀 이상한디..."
   ]
  },
  {
   "cell_type": "code",
   "execution_count": null,
   "id": "d9f5d163",
   "metadata": {},
   "outputs": [],
   "source": []
  },
  {
   "cell_type": "code",
   "execution_count": null,
   "id": "a63f6662",
   "metadata": {},
   "outputs": [],
   "source": []
  },
  {
   "cell_type": "code",
   "execution_count": null,
   "id": "f6ff7c91",
   "metadata": {},
   "outputs": [],
   "source": []
  },
  {
   "cell_type": "code",
   "execution_count": null,
   "id": "03cce1c6",
   "metadata": {},
   "outputs": [],
   "source": []
  },
  {
   "cell_type": "code",
   "execution_count": null,
   "id": "7f052f33",
   "metadata": {},
   "outputs": [],
   "source": []
  },
  {
   "cell_type": "code",
   "execution_count": null,
   "id": "1ff8d87b",
   "metadata": {},
   "outputs": [],
   "source": []
  },
  {
   "cell_type": "code",
   "execution_count": null,
   "id": "56cc4552",
   "metadata": {},
   "outputs": [],
   "source": []
  },
  {
   "cell_type": "code",
   "execution_count": null,
   "id": "cc96a040",
   "metadata": {},
   "outputs": [],
   "source": []
  },
  {
   "cell_type": "code",
   "execution_count": null,
   "id": "eb56a285",
   "metadata": {},
   "outputs": [],
   "source": []
  }
 ],
 "metadata": {
  "kernelspec": {
   "display_name": "Python 3",
   "language": "python",
   "name": "python3"
  },
  "language_info": {
   "codemirror_mode": {
    "name": "ipython",
    "version": 3
   },
   "file_extension": ".py",
   "mimetype": "text/x-python",
   "name": "python",
   "nbconvert_exporter": "python",
   "pygments_lexer": "ipython3",
   "version": "3.8.8"
  }
 },
 "nbformat": 4,
 "nbformat_minor": 5
}
