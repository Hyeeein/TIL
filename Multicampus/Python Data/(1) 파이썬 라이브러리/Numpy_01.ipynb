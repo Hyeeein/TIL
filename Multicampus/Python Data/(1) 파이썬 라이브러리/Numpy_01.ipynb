{
 "cells": [
  {
   "cell_type": "markdown",
   "id": "ffe58f40",
   "metadata": {},
   "source": [
    "## NumPy\n",
    "\n",
    "- C언어로 구현된 파이썬 라이브러리 (외부 라이브러리)\n",
    "- 고성능 수치계싼을 위해 만들어진 파이썬 패키지\n",
    "- Vector, matrix, n-th array(ndarray) 등의 데이터 분석을 위한 패키지\n",
    "- 벡트 및 행렬 연산에 있어서 매우 편리한 기능을 제공"
   ]
  },
  {
   "cell_type": "markdown",
   "id": "1e0f976a",
   "metadata": {},
   "source": [
    "* array(배열) 단위로 데이터를 관리하며 이에 대해 연산을 수행\n",
    "    - NumPy의 기본 단위가 되는 array는 Dynamic type을 지원하지 않음. 한 타입만 지원\n",
    "    - 1차원의 Numpy array : Vector\n",
    "    - 2차원의 Numpy array : Matrix\n",
    "    - 3차원 이상의 Numpy array : Tensor\n",
    "\n",
    "\n",
    "* pandas와 matplotlb의 기반이 됨"
   ]
  },
  {
   "cell_type": "code",
   "execution_count": 2,
   "id": "8d371149",
   "metadata": {},
   "outputs": [],
   "source": [
    "# numpy 모듈 선언\n",
    "\n",
    "import numpy as np"
   ]
  },
  {
   "cell_type": "code",
   "execution_count": 3,
   "id": "faf82d17",
   "metadata": {},
   "outputs": [
    {
     "data": {
      "text/plain": [
       "'1.20.1'"
      ]
     },
     "execution_count": 3,
     "metadata": {},
     "output_type": "execute_result"
    }
   ],
   "source": [
    "np.__version__"
   ]
  },
  {
   "cell_type": "markdown",
   "id": "7c6f545d",
   "metadata": {},
   "source": [
    "## Array 정의 및 사용\n",
    "* 시퀀스 데이터(리스트, 튜플 등)로부터 배열 생성\n",
    "* https://numpy.org/doc/stable/reference/arrays.html\n",
    "\n",
    "### array(object, dtype, ...)\n",
    "* 형식 : arr_obj = np.array(seq_data)"
   ]
  },
  {
   "cell_type": "code",
   "execution_count": 5,
   "id": "6d651582",
   "metadata": {},
   "outputs": [
    {
     "data": {
      "text/plain": [
       "[1, 2, 3]"
      ]
     },
     "execution_count": 5,
     "metadata": {},
     "output_type": "execute_result"
    }
   ],
   "source": [
    "data1 = [1,2,3]\n",
    "data1"
   ]
  },
  {
   "cell_type": "code",
   "execution_count": 8,
   "id": "32bfacd6",
   "metadata": {},
   "outputs": [
    {
     "data": {
      "text/plain": [
       "[1, 2, 3, 3.5, 5]"
      ]
     },
     "execution_count": 8,
     "metadata": {},
     "output_type": "execute_result"
    }
   ],
   "source": [
    "data2 = [1,2,3,3.5,5]\n",
    "data2"
   ]
  },
  {
   "cell_type": "code",
   "execution_count": 9,
   "id": "6df3cca4",
   "metadata": {},
   "outputs": [
    {
     "data": {
      "text/plain": [
       "array([1, 2, 3])"
      ]
     },
     "execution_count": 9,
     "metadata": {},
     "output_type": "execute_result"
    }
   ],
   "source": [
    "## 리스트 객체를 이용하여 array 생성\n",
    "\n",
    "arr1 = np.array(data1)\n",
    "arr1"
   ]
  },
  {
   "cell_type": "markdown",
   "id": "a2d955b8",
   "metadata": {},
   "source": [
    "### arr 크기 확인 : shape"
   ]
  },
  {
   "cell_type": "code",
   "execution_count": 11,
   "id": "70072fd4",
   "metadata": {},
   "outputs": [
    {
     "data": {
      "text/plain": [
       "(3,)"
      ]
     },
     "execution_count": 11,
     "metadata": {},
     "output_type": "execute_result"
    }
   ],
   "source": [
    "# array 크기 확인\n",
    "arr1.shape"
   ]
  },
  {
   "cell_type": "code",
   "execution_count": 12,
   "id": "a6e1bc90",
   "metadata": {},
   "outputs": [
    {
     "data": {
      "text/plain": [
       "array([1, 2, 3, 4, 5])"
      ]
     },
     "execution_count": 12,
     "metadata": {},
     "output_type": "execute_result"
    }
   ],
   "source": [
    "# 리스트를 직접 입력하여 array 생성\n",
    "\n",
    "arr2 = np.array([1,2,3,4,5])\n",
    "arr2"
   ]
  },
  {
   "cell_type": "code",
   "execution_count": 13,
   "id": "b32d75ff",
   "metadata": {},
   "outputs": [
    {
     "data": {
      "text/plain": [
       "(5,)"
      ]
     },
     "execution_count": 13,
     "metadata": {},
     "output_type": "execute_result"
    }
   ],
   "source": [
    "arr2.shape"
   ]
  },
  {
   "cell_type": "markdown",
   "id": "baac5d6a",
   "metadata": {},
   "source": [
    "### array 자료형 확인 : dtype"
   ]
  },
  {
   "cell_type": "code",
   "execution_count": 15,
   "id": "611faa15",
   "metadata": {},
   "outputs": [
    {
     "data": {
      "text/plain": [
       "dtype('int32')"
      ]
     },
     "execution_count": 15,
     "metadata": {},
     "output_type": "execute_result"
    }
   ],
   "source": [
    "# array의 자료형 확인\n",
    "\n",
    "arr2.dtype"
   ]
  },
  {
   "cell_type": "code",
   "execution_count": 19,
   "id": "f83818ac",
   "metadata": {},
   "outputs": [
    {
     "data": {
      "text/plain": [
       "array([1. , 2. , 3. , 3.5, 4. ])"
      ]
     },
     "execution_count": 19,
     "metadata": {},
     "output_type": "execute_result"
    }
   ],
   "source": [
    "arr3 = np.array([1,2,3,3.5,4])\n",
    "arr3"
   ]
  },
  {
   "cell_type": "code",
   "execution_count": 20,
   "id": "9039a3a4",
   "metadata": {
    "scrolled": true
   },
   "outputs": [
    {
     "data": {
      "text/plain": [
       "dtype('float64')"
      ]
     },
     "execution_count": 20,
     "metadata": {},
     "output_type": "execute_result"
    }
   ],
   "source": [
    "arr3.dtype"
   ]
  },
  {
   "cell_type": "code",
   "execution_count": 21,
   "id": "5084da5b",
   "metadata": {},
   "outputs": [
    {
     "data": {
      "text/plain": [
       "(5,)"
      ]
     },
     "execution_count": 21,
     "metadata": {},
     "output_type": "execute_result"
    }
   ],
   "source": [
    "arr3.shape"
   ]
  },
  {
   "cell_type": "code",
   "execution_count": 23,
   "id": "636bf5e5",
   "metadata": {},
   "outputs": [
    {
     "data": {
      "text/plain": [
       "array([[1, 2, 3],\n",
       "       [4, 5, 6],\n",
       "       [7, 8, 9]])"
      ]
     },
     "execution_count": 23,
     "metadata": {},
     "output_type": "execute_result"
    }
   ],
   "source": [
    "arr4 = np.array([[1,2,3], [4,5,6], [7,8,9]])\n",
    "arr4"
   ]
  },
  {
   "cell_type": "code",
   "execution_count": 24,
   "id": "7e2ddaf3",
   "metadata": {},
   "outputs": [
    {
     "data": {
      "text/plain": [
       "(3, 3)"
      ]
     },
     "execution_count": 24,
     "metadata": {},
     "output_type": "execute_result"
    }
   ],
   "source": [
    "arr4.shape"
   ]
  },
  {
   "cell_type": "code",
   "execution_count": 25,
   "id": "338bf937",
   "metadata": {},
   "outputs": [
    {
     "data": {
      "text/plain": [
       "dtype('int32')"
      ]
     },
     "execution_count": 25,
     "metadata": {},
     "output_type": "execute_result"
    }
   ],
   "source": [
    "arr4.dtype"
   ]
  },
  {
   "cell_type": "markdown",
   "id": "f5928d6e",
   "metadata": {},
   "source": [
    "## NumPy 자료형\n",
    "* 부호가 있는 정수 int(8, 16, 32, 64)\n",
    "* 부호가 없는 정수 uint(8, 16, 32, 64)\n",
    "* 실수 float(16, 32, 64, 128)\n",
    "* 복소수 complex(64, 128, 256)\n",
    "* 불리언 bool\n",
    "* 문자열 string\n",
    "* 파이썬 오브젝트 object\n",
    "* 유니코드 unicode_"
   ]
  },
  {
   "cell_type": "markdown",
   "id": "b6d1f41b",
   "metadata": {},
   "source": [
    "## 범위를 지정해 배열 생성 (1) : np.arange() 함수\n",
    "* 형식 : arr_obj = np.arange([start,] stop[, step])"
   ]
  },
  {
   "cell_type": "code",
   "execution_count": 27,
   "id": "95976e9f",
   "metadata": {},
   "outputs": [
    {
     "data": {
      "text/plain": [
       "array([0, 1, 2, 3, 4, 5, 6, 7, 8, 9])"
      ]
     },
     "execution_count": 27,
     "metadata": {},
     "output_type": "execute_result"
    }
   ],
   "source": [
    "np.arange(10)"
   ]
  },
  {
   "cell_type": "code",
   "execution_count": 28,
   "id": "b3002ef2",
   "metadata": {},
   "outputs": [
    {
     "data": {
      "text/plain": [
       "array([1, 2, 3, 4])"
      ]
     },
     "execution_count": 28,
     "metadata": {},
     "output_type": "execute_result"
    }
   ],
   "source": [
    "np.arange(1, 5)"
   ]
  },
  {
   "cell_type": "code",
   "execution_count": 29,
   "id": "29cd9655",
   "metadata": {},
   "outputs": [
    {
     "data": {
      "text/plain": [
       "array([1, 3, 5, 7, 9])"
      ]
     },
     "execution_count": 29,
     "metadata": {},
     "output_type": "execute_result"
    }
   ],
   "source": [
    "np.arange(1, 10, 2)"
   ]
  },
  {
   "cell_type": "markdown",
   "id": "a034073e",
   "metadata": {},
   "source": [
    "**reshape(m, n)의 m*n의 개수와 arange()로 생성되는 원소의 개수가 일치해야 함**"
   ]
  },
  {
   "cell_type": "code",
   "execution_count": 32,
   "id": "0dc2dcd4",
   "metadata": {},
   "outputs": [
    {
     "data": {
      "text/plain": [
       "array([[ 0,  1,  2,  3],\n",
       "       [ 4,  5,  6,  7],\n",
       "       [ 8,  9, 10, 11]])"
      ]
     },
     "execution_count": 32,
     "metadata": {},
     "output_type": "execute_result"
    }
   ],
   "source": [
    "b1 = np.arange(12).reshape(3, 4)\n",
    "b1"
   ]
  },
  {
   "cell_type": "code",
   "execution_count": 90,
   "id": "4b48e1a6",
   "metadata": {},
   "outputs": [],
   "source": [
    "# b2 = np.arange(7).reshape(3, 3)   # 오류 발생하는 경우"
   ]
  },
  {
   "cell_type": "markdown",
   "id": "ea3bcc67",
   "metadata": {},
   "source": [
    "## 범위를 지정해 배열 생성 (2) : linspace() 함수\n",
    "* 형식 : arr.obj = np.linspace(start, stop[, num=50])"
   ]
  },
  {
   "cell_type": "code",
   "execution_count": 34,
   "id": "f56c3207",
   "metadata": {},
   "outputs": [
    {
     "data": {
      "text/plain": [
       "array([ 1.,  2.,  3.,  4.,  5.,  6.,  7.,  8.,  9., 10.])"
      ]
     },
     "execution_count": 34,
     "metadata": {},
     "output_type": "execute_result"
    }
   ],
   "source": [
    "np.linspace(1, 10, 10)"
   ]
  },
  {
   "cell_type": "code",
   "execution_count": 35,
   "id": "47c92e5a",
   "metadata": {},
   "outputs": [
    {
     "data": {
      "text/plain": [
       "array([0.        , 0.16534698, 0.33069396, 0.49604095, 0.66138793,\n",
       "       0.82673491, 0.99208189, 1.15742887, 1.32277585, 1.48812284,\n",
       "       1.65346982, 1.8188168 , 1.98416378, 2.14951076, 2.31485774,\n",
       "       2.48020473, 2.64555171, 2.81089869, 2.97624567, 3.14159265])"
      ]
     },
     "execution_count": 35,
     "metadata": {},
     "output_type": "execute_result"
    }
   ],
   "source": [
    "np.linspace(0, np.pi, 20)"
   ]
  },
  {
   "cell_type": "code",
   "execution_count": 91,
   "id": "fa22a0fa",
   "metadata": {},
   "outputs": [
    {
     "data": {
      "text/plain": [
       "array([ 1.        ,  1.18367347,  1.36734694,  1.55102041,  1.73469388,\n",
       "        1.91836735,  2.10204082,  2.28571429,  2.46938776,  2.65306122,\n",
       "        2.83673469,  3.02040816,  3.20408163,  3.3877551 ,  3.57142857,\n",
       "        3.75510204,  3.93877551,  4.12244898,  4.30612245,  4.48979592,\n",
       "        4.67346939,  4.85714286,  5.04081633,  5.2244898 ,  5.40816327,\n",
       "        5.59183673,  5.7755102 ,  5.95918367,  6.14285714,  6.32653061,\n",
       "        6.51020408,  6.69387755,  6.87755102,  7.06122449,  7.24489796,\n",
       "        7.42857143,  7.6122449 ,  7.79591837,  7.97959184,  8.16326531,\n",
       "        8.34693878,  8.53061224,  8.71428571,  8.89795918,  9.08163265,\n",
       "        9.26530612,  9.44897959,  9.63265306,  9.81632653, 10.        ])"
      ]
     },
     "execution_count": 91,
     "metadata": {},
     "output_type": "execute_result"
    }
   ],
   "source": [
    "np.linspace(1, 10)"
   ]
  },
  {
   "cell_type": "markdown",
   "id": "d2ed87b0",
   "metadata": {},
   "source": [
    "## 특별한 형태의 배열 생성\n",
    "### np.zeros(), np.ones(), np.eye() 함수\n",
    "**1) 모든 요소가 0인 배열 생성 : np.zeros(shape, dtype=float, ...)**"
   ]
  },
  {
   "cell_type": "code",
   "execution_count": 38,
   "id": "2bb58202",
   "metadata": {},
   "outputs": [
    {
     "data": {
      "text/plain": [
       "array([0, 0, 0, 0, 0, 0, 0, 0, 0, 0])"
      ]
     },
     "execution_count": 38,
     "metadata": {},
     "output_type": "execute_result"
    }
   ],
   "source": [
    "np.zeros(10, dtype=int)"
   ]
  },
  {
   "cell_type": "code",
   "execution_count": 92,
   "id": "05acd5a0",
   "metadata": {},
   "outputs": [
    {
     "data": {
      "text/plain": [
       "array([[0., 0., 0., 0., 0.],\n",
       "       [0., 0., 0., 0., 0.],\n",
       "       [0., 0., 0., 0., 0.]])"
      ]
     },
     "execution_count": 92,
     "metadata": {},
     "output_type": "execute_result"
    }
   ],
   "source": [
    "np.zeros((3, 5))"
   ]
  },
  {
   "cell_type": "code",
   "execution_count": 40,
   "id": "635db33e",
   "metadata": {},
   "outputs": [
    {
     "data": {
      "text/plain": [
       "array([[0., 0., 0.],\n",
       "       [0., 0., 0.],\n",
       "       [0., 0., 0.],\n",
       "       [0., 0., 0.],\n",
       "       [0., 0., 0.]])"
      ]
     },
     "execution_count": 40,
     "metadata": {},
     "output_type": "execute_result"
    }
   ],
   "source": [
    "np.zeros((3, 5)).reshape(5, 3)"
   ]
  },
  {
   "cell_type": "markdown",
   "id": "5d9bb9f7",
   "metadata": {},
   "source": [
    "**2) 모든 요소가 1인 배열 생성 : np.ones(shape, dtype=None)**"
   ]
  },
  {
   "cell_type": "code",
   "execution_count": 42,
   "id": "5677199f",
   "metadata": {},
   "outputs": [
    {
     "data": {
      "text/plain": [
       "array([1., 1., 1., 1., 1., 1., 1., 1., 1., 1.])"
      ]
     },
     "execution_count": 42,
     "metadata": {},
     "output_type": "execute_result"
    }
   ],
   "source": [
    "np.ones(10)"
   ]
  },
  {
   "cell_type": "code",
   "execution_count": 43,
   "id": "6285e654",
   "metadata": {},
   "outputs": [
    {
     "data": {
      "text/plain": [
       "array([[1, 1, 1, 1, 1],\n",
       "       [1, 1, 1, 1, 1],\n",
       "       [1, 1, 1, 1, 1]])"
      ]
     },
     "execution_count": 43,
     "metadata": {},
     "output_type": "execute_result"
    }
   ],
   "source": [
    "np.ones((3, 5), dtype=int)"
   ]
  },
  {
   "cell_type": "markdown",
   "id": "d437dcd7",
   "metadata": {},
   "source": [
    "**3) 대각요소가 1인 배열 생성 1 : np.eye(n, m, k=K, dtype=자료형)**"
   ]
  },
  {
   "cell_type": "code",
   "execution_count": 44,
   "id": "570f59e6",
   "metadata": {},
   "outputs": [
    {
     "data": {
      "text/plain": [
       "array([[1., 0., 0., 0.],\n",
       "       [0., 1., 0., 0.],\n",
       "       [0., 0., 1., 0.]])"
      ]
     },
     "execution_count": 44,
     "metadata": {},
     "output_type": "execute_result"
    }
   ],
   "source": [
    "# 3행 3열의 대각행렬\n",
    "\n",
    "np.eye(3)"
   ]
  },
  {
   "cell_type": "code",
   "execution_count": 93,
   "id": "941dfd80",
   "metadata": {},
   "outputs": [
    {
     "data": {
      "text/plain": [
       "array([[1., 0., 0., 0.],\n",
       "       [0., 1., 0., 0.],\n",
       "       [0., 0., 1., 0.]])"
      ]
     },
     "execution_count": 93,
     "metadata": {},
     "output_type": "execute_result"
    }
   ],
   "source": [
    "np.eye(3, 4)"
   ]
  },
  {
   "cell_type": "code",
   "execution_count": 45,
   "id": "992af2cb",
   "metadata": {},
   "outputs": [
    {
     "data": {
      "text/plain": [
       "array([[0, 1, 0, 0],\n",
       "       [0, 0, 1, 0],\n",
       "       [0, 0, 0, 1]])"
      ]
     },
     "execution_count": 45,
     "metadata": {},
     "output_type": "execute_result"
    }
   ],
   "source": [
    "np.eye(3, 4, k=1, dtype=int)"
   ]
  },
  {
   "cell_type": "code",
   "execution_count": 46,
   "id": "d01ac73f",
   "metadata": {},
   "outputs": [
    {
     "data": {
      "text/plain": [
       "array([[0., 0., 1., 0.],\n",
       "       [0., 0., 0., 1.],\n",
       "       [0., 0., 0., 0.]])"
      ]
     },
     "execution_count": 46,
     "metadata": {},
     "output_type": "execute_result"
    }
   ],
   "source": [
    "np.eye(3, 4, k=2)"
   ]
  },
  {
   "cell_type": "code",
   "execution_count": 47,
   "id": "c17f8291",
   "metadata": {},
   "outputs": [
    {
     "data": {
      "text/plain": [
       "array([[0., 0., 0., 0.],\n",
       "       [1., 0., 0., 0.],\n",
       "       [0., 1., 0., 0.]])"
      ]
     },
     "execution_count": 47,
     "metadata": {},
     "output_type": "execute_result"
    }
   ],
   "source": [
    "np.eye(3, 4, k=-1)  # -1은 왼쪽으로 한 칸"
   ]
  },
  {
   "cell_type": "markdown",
   "id": "cc63c9f5",
   "metadata": {},
   "source": [
    "**4) 대각요소가 1인 배열 생성 2 : np.identity(n, dtype=자료형)**"
   ]
  },
  {
   "cell_type": "code",
   "execution_count": 48,
   "id": "8a6c7bd7",
   "metadata": {},
   "outputs": [
    {
     "data": {
      "text/plain": [
       "array([[1, 0, 0, 0, 0],\n",
       "       [0, 1, 0, 0, 0],\n",
       "       [0, 0, 1, 0, 0],\n",
       "       [0, 0, 0, 1, 0],\n",
       "       [0, 0, 0, 0, 1]])"
      ]
     },
     "execution_count": 48,
     "metadata": {},
     "output_type": "execute_result"
    }
   ],
   "source": [
    "# n*n 크기의 단위행렬 생성\n",
    "\n",
    "np.identity(5, dtype=int)"
   ]
  },
  {
   "cell_type": "markdown",
   "id": "e3f23f2f",
   "metadata": {},
   "source": [
    "**5) 초기화되지 않은 배열 생성 : np.empty(shape, dtype=float)**"
   ]
  },
  {
   "cell_type": "code",
   "execution_count": 50,
   "id": "5f14b5f8",
   "metadata": {},
   "outputs": [
    {
     "data": {
      "text/plain": [
       "array([2.12199579e-314, 6.28222329e+011, 3.22130801e-321, 1.05888419e-311])"
      ]
     },
     "execution_count": 50,
     "metadata": {},
     "output_type": "execute_result"
    }
   ],
   "source": [
    "# 초기화되지 않은 배열 생성 \n",
    "\n",
    "np.empty(4)"
   ]
  },
  {
   "cell_type": "markdown",
   "id": "3ce42da7",
   "metadata": {},
   "source": [
    "## 배열의 데이터 타입의 변환 : astype() 함수\n",
    "**[형식]**\n",
    "- num_arr = str_arr.astype(dtype)\n",
    "- dtype : int, float, str"
   ]
  },
  {
   "cell_type": "code",
   "execution_count": 51,
   "id": "e3626091",
   "metadata": {},
   "outputs": [
    {
     "data": {
      "text/plain": [
       "array(['1.5', '0.62', '2', '3.14', '3.141592'], dtype='<U8')"
      ]
     },
     "execution_count": 51,
     "metadata": {},
     "output_type": "execute_result"
    }
   ],
   "source": [
    "# 문자열 배열을 숫자형 배열로 변환\n",
    "\n",
    "np.array(['1.5', '0.62', '2', '3.14', '3.141592'])"
   ]
  },
  {
   "cell_type": "code",
   "execution_count": 53,
   "id": "f3cf96bc",
   "metadata": {},
   "outputs": [
    {
     "data": {
      "text/plain": [
       "array([1.5     , 0.62    , 2.      , 3.14    , 3.141592])"
      ]
     },
     "execution_count": 53,
     "metadata": {},
     "output_type": "execute_result"
    }
   ],
   "source": [
    "str_a1 = np.array(['1.5', '0.62', '2', '3.14', '3.141592'])\n",
    "# num_a1 = str_a1.astype('float32')\n",
    "num_a1 = str_a1.astype(float)\n",
    "num_a1"
   ]
  },
  {
   "cell_type": "code",
   "execution_count": 54,
   "id": "ff7f5aa6",
   "metadata": {},
   "outputs": [
    {
     "data": {
      "text/plain": [
       "dtype('<U8')"
      ]
     },
     "execution_count": 54,
     "metadata": {},
     "output_type": "execute_result"
    }
   ],
   "source": [
    "str_a1.dtype"
   ]
  },
  {
   "cell_type": "code",
   "execution_count": 94,
   "id": "3de01153",
   "metadata": {},
   "outputs": [
    {
     "data": {
      "text/plain": [
       "dtype('float64')"
      ]
     },
     "execution_count": 94,
     "metadata": {},
     "output_type": "execute_result"
    }
   ],
   "source": [
    "num_a1.dtype"
   ]
  },
  {
   "cell_type": "code",
   "execution_count": 95,
   "id": "a1ca174f",
   "metadata": {},
   "outputs": [
    {
     "data": {
      "text/plain": [
       "array([1, 3, 5, 7, 9])"
      ]
     },
     "execution_count": 95,
     "metadata": {},
     "output_type": "execute_result"
    }
   ],
   "source": [
    "str_a2 = np.array(['1','3','5','7','9'])\n",
    "num_a2 = str_a2.astype(int)\n",
    "num_a2"
   ]
  },
  {
   "cell_type": "code",
   "execution_count": 96,
   "id": "d1b2c7be",
   "metadata": {},
   "outputs": [
    {
     "data": {
      "text/plain": [
       "array([1., 3., 5., 7., 9.])"
      ]
     },
     "execution_count": 96,
     "metadata": {},
     "output_type": "execute_result"
    }
   ],
   "source": [
    "num_a3 = str_a2.astype(float)\n",
    "num_a3"
   ]
  },
  {
   "cell_type": "code",
   "execution_count": 55,
   "id": "a541ac19",
   "metadata": {},
   "outputs": [
    {
     "data": {
      "text/plain": [
       "array([10.   , 21.   ,  0.549,  4.75 ,  5.98 ])"
      ]
     },
     "execution_count": 55,
     "metadata": {},
     "output_type": "execute_result"
    }
   ],
   "source": [
    "# 실수형 배열을 정수형 배열로 변환\n",
    "\n",
    "num_f1 = np.array([10, 21, 0.549, 4.75, 5.98])\n",
    "num_f1"
   ]
  },
  {
   "cell_type": "code",
   "execution_count": 59,
   "id": "de7cfb2a",
   "metadata": {},
   "outputs": [
    {
     "data": {
      "text/plain": [
       "array([10, 21,  0,  4,  5])"
      ]
     },
     "execution_count": 59,
     "metadata": {},
     "output_type": "execute_result"
    }
   ],
   "source": [
    "num_i1 = num_f1.astype(int)\n",
    "num_i1   # 정수형으로 바뀌면서 소수점은 잘라버림"
   ]
  },
  {
   "cell_type": "code",
   "execution_count": 60,
   "id": "6bf5ea3f",
   "metadata": {},
   "outputs": [
    {
     "data": {
      "text/plain": [
       "dtype('float64')"
      ]
     },
     "execution_count": 60,
     "metadata": {},
     "output_type": "execute_result"
    }
   ],
   "source": [
    "num_f1.dtype"
   ]
  },
  {
   "cell_type": "code",
   "execution_count": 61,
   "id": "5c2a5c98",
   "metadata": {},
   "outputs": [
    {
     "data": {
      "text/plain": [
       "dtype('int32')"
      ]
     },
     "execution_count": 61,
     "metadata": {},
     "output_type": "execute_result"
    }
   ],
   "source": [
    "num_i1.dtype  # numpy 데이터 형식 (교재 p.222)"
   ]
  },
  {
   "cell_type": "code",
   "execution_count": 64,
   "id": "fcc8a66f",
   "metadata": {},
   "outputs": [
    {
     "data": {
      "text/plain": [
       "array(['10.0', '21.0', '0.549', '4.75', '5.98'], dtype='<U32')"
      ]
     },
     "execution_count": 64,
     "metadata": {},
     "output_type": "execute_result"
    }
   ],
   "source": [
    "# 숫자형 배열을 문자열 배열로 변환\n",
    "\n",
    "num_f1.astype('U')"
   ]
  },
  {
   "cell_type": "code",
   "execution_count": 65,
   "id": "18bb9ade",
   "metadata": {},
   "outputs": [
    {
     "data": {
      "text/plain": [
       "array([b'10.0', b'21.0', b'0.549', b'4.75', b'5.98'], dtype='|S32')"
      ]
     },
     "execution_count": 65,
     "metadata": {},
     "output_type": "execute_result"
    }
   ],
   "source": [
    "num_f1.astype('S')"
   ]
  },
  {
   "cell_type": "markdown",
   "id": "e4e41d9f",
   "metadata": {},
   "source": [
    "## 난수 배열 생성\n",
    "\n",
    "### random.rand(), random.randint() 함수\n",
    "\n",
    "#### random.rand([d0, d1, ..., dn])\n",
    "* 0 이상 1 미만의 `실수` 난수륵 갖는 NumPy 배열을 생성\n",
    "* rand(d0, d1, ..., dn)을 실행하면 (d0, d1, ...dn)의 형태를 보이는 실수 난수 배열 생성"
   ]
  },
  {
   "cell_type": "code",
   "execution_count": 67,
   "id": "e5cd5774",
   "metadata": {},
   "outputs": [
    {
     "data": {
      "text/plain": [
       "array([0.2585164 , 0.97252112, 0.72304911, 0.93867935, 0.75785244,\n",
       "       0.0394564 , 0.85341677, 0.26083579, 0.0473788 , 0.90924339])"
      ]
     },
     "execution_count": 67,
     "metadata": {},
     "output_type": "execute_result"
    }
   ],
   "source": [
    "np.random.rand(10)"
   ]
  },
  {
   "cell_type": "code",
   "execution_count": 98,
   "id": "a47c6228",
   "metadata": {},
   "outputs": [
    {
     "data": {
      "text/plain": [
       "array([[0.32526998, 0.84187861, 0.31709754, 0.94143335, 0.50956076],\n",
       "       [0.01375162, 0.98680771, 0.06325297, 0.13265195, 0.21070317]])"
      ]
     },
     "execution_count": 98,
     "metadata": {},
     "output_type": "execute_result"
    }
   ],
   "source": [
    "np.random.rand(2, 5)"
   ]
  },
  {
   "cell_type": "code",
   "execution_count": 99,
   "id": "1ad12e1a",
   "metadata": {},
   "outputs": [
    {
     "data": {
      "text/plain": [
       "0.8285861760692"
      ]
     },
     "execution_count": 99,
     "metadata": {},
     "output_type": "execute_result"
    }
   ],
   "source": [
    "np.random.rand()"
   ]
  },
  {
   "cell_type": "code",
   "execution_count": 68,
   "id": "84d301aa",
   "metadata": {},
   "outputs": [
    {
     "data": {
      "text/plain": [
       "array([[[0.444235  , 0.55823905, 0.16805765, 0.68831718],\n",
       "        [0.28285064, 0.38139499, 0.58734979, 0.57146432],\n",
       "        [0.29959117, 0.26149051, 0.08977608, 0.73047135]],\n",
       "\n",
       "       [[0.18700699, 0.86815036, 0.76227562, 0.71356104],\n",
       "        [0.01732168, 0.7721775 , 0.7798527 , 0.58562817],\n",
       "        [0.73004882, 0.81390955, 0.56160642, 0.1403522 ]]])"
      ]
     },
     "execution_count": 68,
     "metadata": {},
     "output_type": "execute_result"
    }
   ],
   "source": [
    "np.random.rand(2,3,4)"
   ]
  },
  {
   "cell_type": "markdown",
   "id": "571a71fb",
   "metadata": {},
   "source": [
    "### random.randint([low,] high [,size])\n",
    "* low 이상 high 미만의 `정수` 난수를 갖는 NumPy 배열을 생성\n",
    "* size : (d0, d1, ... , dn) 형식으로 입력"
   ]
  },
  {
   "cell_type": "code",
   "execution_count": 69,
   "id": "d649e554",
   "metadata": {},
   "outputs": [
    {
     "data": {
      "text/plain": [
       "6"
      ]
     },
     "execution_count": 69,
     "metadata": {},
     "output_type": "execute_result"
    }
   ],
   "source": [
    "np.random.randint(10)"
   ]
  },
  {
   "cell_type": "code",
   "execution_count": 73,
   "id": "f94294b8",
   "metadata": {},
   "outputs": [
    {
     "data": {
      "text/plain": [
       "18"
      ]
     },
     "execution_count": 73,
     "metadata": {},
     "output_type": "execute_result"
    }
   ],
   "source": [
    "np.random.randint(10, 20)"
   ]
  },
  {
   "cell_type": "code",
   "execution_count": 75,
   "id": "8ff797ce",
   "metadata": {},
   "outputs": [
    {
     "data": {
      "text/plain": [
       "array([[19, 18, 13, 19, 19],\n",
       "       [14, 15, 10, 16, 19],\n",
       "       [15, 13, 14, 18, 15]])"
      ]
     },
     "execution_count": 75,
     "metadata": {},
     "output_type": "execute_result"
    }
   ],
   "source": [
    "np.random.randint(10, 20, size = (3, 5))"
   ]
  },
  {
   "cell_type": "markdown",
   "id": "45b769b0",
   "metadata": {},
   "source": [
    "## Array 연산\n",
    "\n",
    "### 기본 연산 (합, 차, 곱, 나눗셈 등)\n",
    ": 기본적으로 동일한 크기의 array 간 연산 수행"
   ]
  },
  {
   "cell_type": "code",
   "execution_count": 76,
   "id": "8a8a4470",
   "metadata": {},
   "outputs": [
    {
     "data": {
      "text/plain": [
       "array([[1, 3, 4],\n",
       "       [4, 3, 6]])"
      ]
     },
     "execution_count": 76,
     "metadata": {},
     "output_type": "execute_result"
    }
   ],
   "source": [
    "arr1 = np.array([[1,3,4], [4,3,6]])\n",
    "arr1"
   ]
  },
  {
   "cell_type": "code",
   "execution_count": 79,
   "id": "e135a67d",
   "metadata": {},
   "outputs": [
    {
     "data": {
      "text/plain": [
       "array([[10, 11, 12],\n",
       "       [13, 14, 15]])"
      ]
     },
     "execution_count": 79,
     "metadata": {},
     "output_type": "execute_result"
    }
   ],
   "source": [
    "arr2 = np.arange(10, 16).reshape(2, 3)\n",
    "arr2"
   ]
  },
  {
   "cell_type": "code",
   "execution_count": 80,
   "id": "e32bec4f",
   "metadata": {},
   "outputs": [
    {
     "name": "stdout",
     "output_type": "stream",
     "text": [
      "(2, 3) (2, 3)\n"
     ]
    }
   ],
   "source": [
    "print(arr1.shape, arr2.shape)"
   ]
  },
  {
   "cell_type": "markdown",
   "id": "a52b60ba",
   "metadata": {},
   "source": [
    "### 배열의 합 / 차 / 곱 / 나눗셈"
   ]
  },
  {
   "cell_type": "code",
   "execution_count": 81,
   "id": "4152606e",
   "metadata": {},
   "outputs": [
    {
     "data": {
      "text/plain": [
       "array([[11, 14, 16],\n",
       "       [17, 17, 21]])"
      ]
     },
     "execution_count": 81,
     "metadata": {},
     "output_type": "execute_result"
    }
   ],
   "source": [
    "arr1 + arr2    # 두 배열의 차원은 같아야 함"
   ]
  },
  {
   "cell_type": "code",
   "execution_count": 82,
   "id": "5c5ebc9b",
   "metadata": {},
   "outputs": [
    {
     "data": {
      "text/plain": [
       "array([[ -9,  -8,  -8],\n",
       "       [ -9, -11,  -9]])"
      ]
     },
     "execution_count": 82,
     "metadata": {},
     "output_type": "execute_result"
    }
   ],
   "source": [
    "arr1 - arr2"
   ]
  },
  {
   "cell_type": "code",
   "execution_count": 83,
   "id": "570c902f",
   "metadata": {},
   "outputs": [
    {
     "data": {
      "text/plain": [
       "array([[10, 33, 48],\n",
       "       [52, 42, 90]])"
      ]
     },
     "execution_count": 83,
     "metadata": {},
     "output_type": "execute_result"
    }
   ],
   "source": [
    "arr1 * arr2"
   ]
  },
  {
   "cell_type": "code",
   "execution_count": 84,
   "id": "25acc764",
   "metadata": {},
   "outputs": [
    {
     "data": {
      "text/plain": [
       "array([[0.1       , 0.27272727, 0.33333333],\n",
       "       [0.30769231, 0.21428571, 0.4       ]])"
      ]
     },
     "execution_count": 84,
     "metadata": {},
     "output_type": "execute_result"
    }
   ],
   "source": [
    "arr1 / arr2"
   ]
  },
  {
   "cell_type": "code",
   "execution_count": 100,
   "id": "4a6b8b61",
   "metadata": {},
   "outputs": [
    {
     "data": {
      "text/plain": [
       "array([[20, 22, 24],\n",
       "       [26, 28, 30]])"
      ]
     },
     "execution_count": 100,
     "metadata": {},
     "output_type": "execute_result"
    }
   ],
   "source": [
    "# 배열의 스칼라곱\n",
    "arr2 * 2"
   ]
  },
  {
   "cell_type": "code",
   "execution_count": 101,
   "id": "5520de43",
   "metadata": {},
   "outputs": [
    {
     "data": {
      "text/plain": [
       "array([[False, False, False],\n",
       "       [ True,  True,  True]])"
      ]
     },
     "execution_count": 101,
     "metadata": {},
     "output_type": "execute_result"
    }
   ],
   "source": [
    "# 배열의 비교연산\n",
    "arr2 > 12"
   ]
  },
  {
   "cell_type": "markdown",
   "id": "d782aadb",
   "metadata": {},
   "source": [
    "### 배열의 BroadCasting\n",
    "* 서로 크기가 다른 array들의 연산이 가능하도록 배열을 자동적으로 변환하여 연산 수행\n",
    "* 최소한 1개의 차원은 같아야 함 !!"
   ]
  },
  {
   "cell_type": "code",
   "execution_count": 85,
   "id": "7d0d5515",
   "metadata": {},
   "outputs": [
    {
     "data": {
      "text/plain": [
       "array([[1, 3, 4],\n",
       "       [4, 3, 6]])"
      ]
     },
     "execution_count": 85,
     "metadata": {},
     "output_type": "execute_result"
    }
   ],
   "source": [
    "arr1"
   ]
  },
  {
   "cell_type": "code",
   "execution_count": 86,
   "id": "b8bb12c2",
   "metadata": {},
   "outputs": [
    {
     "data": {
      "text/plain": [
       "array([10, 11, 12])"
      ]
     },
     "execution_count": 86,
     "metadata": {},
     "output_type": "execute_result"
    }
   ],
   "source": [
    "arr3 = np.array([10,11,12])\n",
    "arr3"
   ]
  },
  {
   "cell_type": "code",
   "execution_count": 102,
   "id": "a814c8b5",
   "metadata": {},
   "outputs": [
    {
     "data": {
      "text/plain": [
       "((2, 3), (3,))"
      ]
     },
     "execution_count": 102,
     "metadata": {},
     "output_type": "execute_result"
    }
   ],
   "source": [
    "(arr1.shape, arr3.shape)"
   ]
  },
  {
   "cell_type": "code",
   "execution_count": 103,
   "id": "c214f0a2",
   "metadata": {},
   "outputs": [
    {
     "data": {
      "text/plain": [
       "array([[11, 14, 16],\n",
       "       [14, 14, 18]])"
      ]
     },
     "execution_count": 103,
     "metadata": {},
     "output_type": "execute_result"
    }
   ],
   "source": [
    "arr1 + arr3"
   ]
  },
  {
   "cell_type": "code",
   "execution_count": 104,
   "id": "103e2c95",
   "metadata": {},
   "outputs": [
    {
     "data": {
      "text/plain": [
       "array([[ 1,  9, 16],\n",
       "       [16,  9, 36]], dtype=int32)"
      ]
     },
     "execution_count": 104,
     "metadata": {},
     "output_type": "execute_result"
    }
   ],
   "source": [
    "arr1 ** 2"
   ]
  },
  {
   "cell_type": "markdown",
   "id": "312950be",
   "metadata": {},
   "source": [
    "### 브로드캐스팅이 일어날 수 있는 조건\n",
    "\n",
    "* 두 배열 간의 연산에서 최소한 하나의 배열의 차원이 1인 경우 (0번 축이든 1번 축이든 ; 1행이든 1열이든)\n",
    "* 차원의 짝이 맞을 때 (차원에 대해 축의 길이가 동일하면)\n",
    "\n",
    "-> 출처: http://www.astroml.org/book_figures/appendix/fig_broadcast_visual.html"
   ]
  }
 ],
 "metadata": {
  "kernelspec": {
   "display_name": "Python 3",
   "language": "python",
   "name": "python3"
  },
  "language_info": {
   "codemirror_mode": {
    "name": "ipython",
    "version": 3
   },
   "file_extension": ".py",
   "mimetype": "text/x-python",
   "name": "python",
   "nbconvert_exporter": "python",
   "pygments_lexer": "ipython3",
   "version": "3.8.8"
  }
 },
 "nbformat": 4,
 "nbformat_minor": 5
}
