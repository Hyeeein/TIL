{
 "cells": [
  {
   "cell_type": "code",
   "execution_count": 2,
   "id": "e9639be7",
   "metadata": {},
   "outputs": [],
   "source": [
    "import numpy as np"
   ]
  },
  {
   "cell_type": "markdown",
   "id": "4315ee3e",
   "metadata": {},
   "source": [
    "## 통계를 위한 연산\n",
    "\n",
    "* 배열의 합, 평균, 표준편차, 분산, 최소값, 최대값, 누적합, 누적곱 등\n",
    "* https://numpy.org/doc/stable/reference/routines.statistics.html"
   ]
  },
  {
   "cell_type": "code",
   "execution_count": 3,
   "id": "567dff62",
   "metadata": {},
   "outputs": [
    {
     "data": {
      "text/plain": [
       "array([0, 1, 2, 3, 4])"
      ]
     },
     "execution_count": 3,
     "metadata": {},
     "output_type": "execute_result"
    }
   ],
   "source": [
    "arr1 = np.arange(5)\n",
    "arr1"
   ]
  },
  {
   "cell_type": "code",
   "execution_count": 5,
   "id": "d57436e0",
   "metadata": {},
   "outputs": [
    {
     "data": {
      "text/plain": [
       "[10, 2.0]"
      ]
     },
     "execution_count": 5,
     "metadata": {},
     "output_type": "execute_result"
    }
   ],
   "source": [
    "# 합과 (산술) 평균 : sum(), mean()\n",
    "[arr1.sum(), arr1.mean()]"
   ]
  },
  {
   "cell_type": "code",
   "execution_count": 6,
   "id": "9dbaf026",
   "metadata": {},
   "outputs": [
    {
     "data": {
      "text/plain": [
       "[1.4142135623730951, 2.0]"
      ]
     },
     "execution_count": 6,
     "metadata": {},
     "output_type": "execute_result"
    }
   ],
   "source": [
    "# 표준편차와 분산 : std(), var()\n",
    "[arr1.std(), arr1.var()]"
   ]
  },
  {
   "cell_type": "code",
   "execution_count": 7,
   "id": "2226d549",
   "metadata": {},
   "outputs": [
    {
     "data": {
      "text/plain": [
       "[0, 4]"
      ]
     },
     "execution_count": 7,
     "metadata": {},
     "output_type": "execute_result"
    }
   ],
   "source": [
    "# 최소값과 최대값 : min(), max()\n",
    "[arr1.min(), arr1.max()]"
   ]
  },
  {
   "cell_type": "code",
   "execution_count": 10,
   "id": "a988d60d",
   "metadata": {},
   "outputs": [
    {
     "data": {
      "text/plain": [
       "array([1, 2, 3, 4])"
      ]
     },
     "execution_count": 10,
     "metadata": {},
     "output_type": "execute_result"
    }
   ],
   "source": [
    "# 누적합과 누적곱 : cumsum(), cumprod()\n",
    "arr2 = np.arange(1, 5)\n",
    "arr2"
   ]
  },
  {
   "cell_type": "code",
   "execution_count": 11,
   "id": "f8933227",
   "metadata": {},
   "outputs": [
    {
     "data": {
      "text/plain": [
       "array([ 1,  3,  6, 10], dtype=int32)"
      ]
     },
     "execution_count": 11,
     "metadata": {},
     "output_type": "execute_result"
    }
   ],
   "source": [
    "# 누적합 : cumsum()\n",
    "arr2.cumsum()"
   ]
  },
  {
   "cell_type": "code",
   "execution_count": 12,
   "id": "f1885346",
   "metadata": {},
   "outputs": [
    {
     "data": {
      "text/plain": [
       "array([ 1,  2,  6, 24], dtype=int32)"
      ]
     },
     "execution_count": 12,
     "metadata": {},
     "output_type": "execute_result"
    }
   ],
   "source": [
    "# 누적곱 : cumprod()\n",
    "arr2.cumprod()"
   ]
  },
  {
   "cell_type": "markdown",
   "id": "6802fa85",
   "metadata": {},
   "source": [
    "## 행렬연산\n",
    "* 선형대수 (Linear algebra)를 위한 행렬(2차원 배열) 연산\n",
    "* 행렬 곱, 전치 행렬, 역행렬, 행렬식 등\n",
    "    - 행렬곱 (matrix product) : A dot(B) 혹은 np.dot(A, B)\n",
    "    - 전치행렬 (transpose matrix) : A transpose() 혹은 np.transpose(A)\n",
    "    - 역행렬 (inverse matrix) : np.linalg.inv(A)\n",
    "    - 행렬식 (determinant) : np.linalg.det(A)"
   ]
  },
  {
   "cell_type": "code",
   "execution_count": 18,
   "id": "e1544694",
   "metadata": {},
   "outputs": [
    {
     "data": {
      "text/plain": [
       "array([[1, 2],\n",
       "       [3, 4]])"
      ]
     },
     "execution_count": 18,
     "metadata": {},
     "output_type": "execute_result"
    }
   ],
   "source": [
    "A = np.arange(1, 5).reshape(2, 2)\n",
    "# A = np.array([1, 2], [3, 4])\n",
    "# A = np.array([1, 2, 3, 4]).reshape(2, 2)\n",
    "A"
   ]
  },
  {
   "cell_type": "code",
   "execution_count": 21,
   "id": "e112b6f5",
   "metadata": {},
   "outputs": [
    {
     "data": {
      "text/plain": [
       "array([[3, 2],\n",
       "       [0, 1]])"
      ]
     },
     "execution_count": 21,
     "metadata": {},
     "output_type": "execute_result"
    }
   ],
   "source": [
    "B = np.array([3, 2, 0, 1]).reshape(2, 2)\n",
    "B"
   ]
  },
  {
   "cell_type": "markdown",
   "id": "f2c2eb1c",
   "metadata": {},
   "source": [
    "### 행렬의 곱"
   ]
  },
  {
   "cell_type": "code",
   "execution_count": 23,
   "id": "1d5f61fb",
   "metadata": {},
   "outputs": [
    {
     "data": {
      "text/plain": [
       "array([[ 3,  4],\n",
       "       [ 9, 10]])"
      ]
     },
     "execution_count": 23,
     "metadata": {},
     "output_type": "execute_result"
    }
   ],
   "source": [
    "# 행렬의 곱 : mxn 행렬과 nxp 행렬을 곱하면 mxp 행렬 생성\n",
    "A.dot(B)\n",
    "# np.dot(A, B)로 사용해도 상관없음"
   ]
  },
  {
   "cell_type": "markdown",
   "id": "831dfafb",
   "metadata": {},
   "source": [
    "### 전치행렬"
   ]
  },
  {
   "cell_type": "code",
   "execution_count": 24,
   "id": "461a36ad",
   "metadata": {},
   "outputs": [
    {
     "data": {
      "text/plain": [
       "array([[1, 3],\n",
       "       [2, 4]])"
      ]
     },
     "execution_count": 24,
     "metadata": {},
     "output_type": "execute_result"
    }
   ],
   "source": [
    "# 전치행렬\n",
    "A.transpose()"
   ]
  },
  {
   "cell_type": "code",
   "execution_count": 25,
   "id": "96a8daa2",
   "metadata": {},
   "outputs": [
    {
     "data": {
      "text/plain": [
       "array([[1, 3],\n",
       "       [2, 4]])"
      ]
     },
     "execution_count": 25,
     "metadata": {},
     "output_type": "execute_result"
    }
   ],
   "source": [
    "np.transpose(A)"
   ]
  },
  {
   "cell_type": "markdown",
   "id": "e90e93f9",
   "metadata": {},
   "source": [
    "### 역행렬"
   ]
  },
  {
   "cell_type": "code",
   "execution_count": 27,
   "id": "aa21bfd0",
   "metadata": {},
   "outputs": [
    {
     "data": {
      "text/plain": [
       "array([[-2. ,  1. ],\n",
       "       [ 1.5, -0.5]])"
      ]
     },
     "execution_count": 27,
     "metadata": {},
     "output_type": "execute_result"
    }
   ],
   "source": [
    "# 역행렬 (inverse)\n",
    "np.linalg.inv(A)"
   ]
  },
  {
   "cell_type": "code",
   "execution_count": 29,
   "id": "cd4617fe",
   "metadata": {},
   "outputs": [
    {
     "data": {
      "text/plain": [
       "-2.0000000000000004"
      ]
     },
     "execution_count": 29,
     "metadata": {},
     "output_type": "execute_result"
    }
   ],
   "source": [
    "# 행렬식 (determinant_)\n",
    "np.linalg.det(A)"
   ]
  },
  {
   "cell_type": "code",
   "execution_count": 31,
   "id": "0d2a2f01",
   "metadata": {},
   "outputs": [
    {
     "data": {
      "text/plain": [
       "array([[1.00000000e+00, 1.11022302e-16],\n",
       "       [0.00000000e+00, 1.00000000e+00]])"
      ]
     },
     "execution_count": 31,
     "metadata": {},
     "output_type": "execute_result"
    }
   ],
   "source": [
    "# A * inv(A) = I (단위행렬)\n",
    "np.dot(A, np.linalg.inv(A))"
   ]
  },
  {
   "cell_type": "markdown",
   "id": "d6e2873d",
   "metadata": {},
   "source": [
    "## Array 인덱싱(indexing)과 슬라이싱(Slicing)\n",
    "* 인덱싱(indexing) : 배열의 위치나 조건을 지정해 배열의 원소를 선택하는 것\n",
    "* 슬라이싱 (slicing) : 범위를 지정해 배열의 원소를 선택하는 것\n",
    "    * : 연산자를 주로 사용"
   ]
  },
  {
   "cell_type": "markdown",
   "id": "9979cfbd",
   "metadata": {},
   "source": [
    "### 1차원 배열의 인덱싱\n",
    "**배열명[위치]**\n",
    "* 파이썬의 인덱싱과 동일\n",
    "* 0번째로 시작함"
   ]
  },
  {
   "cell_type": "code",
   "execution_count": 32,
   "id": "731e391b",
   "metadata": {},
   "outputs": [
    {
     "data": {
      "text/plain": [
       "array([0, 1, 2, 3, 4, 5, 6, 7, 8, 9])"
      ]
     },
     "execution_count": 32,
     "metadata": {},
     "output_type": "execute_result"
    }
   ],
   "source": [
    "arr1 = np.arange(10)\n",
    "arr1"
   ]
  },
  {
   "cell_type": "code",
   "execution_count": 33,
   "id": "8edab041",
   "metadata": {},
   "outputs": [
    {
     "data": {
      "text/plain": [
       "0"
      ]
     },
     "execution_count": 33,
     "metadata": {},
     "output_type": "execute_result"
    }
   ],
   "source": [
    "# 0번째 요소\n",
    "arr1[0]"
   ]
  },
  {
   "cell_type": "code",
   "execution_count": 35,
   "id": "5064b620",
   "metadata": {},
   "outputs": [
    {
     "data": {
      "text/plain": [
       "3"
      ]
     },
     "execution_count": 35,
     "metadata": {},
     "output_type": "execute_result"
    }
   ],
   "source": [
    "# 3번째 요소\n",
    "arr1[3]"
   ]
  },
  {
   "cell_type": "markdown",
   "id": "2fb811a3",
   "metadata": {},
   "source": [
    "**배열명[[위치1, 위치2, ... , 위치n]]**"
   ]
  },
  {
   "cell_type": "code",
   "execution_count": 36,
   "id": "02f60c7d",
   "metadata": {},
   "outputs": [
    {
     "data": {
      "text/plain": [
       "array([1, 3, 4])"
      ]
     },
     "execution_count": 36,
     "metadata": {},
     "output_type": "execute_result"
    }
   ],
   "source": [
    "# 1, 3, 4 위치:\n",
    "# shape : (m, ) => 1차원 / (m, n) => 2차원 / (m, n, p) => 3차원\n",
    "# 인덱스 [] : [m] => 1차원 / [m, n] => 2차원 / [m, n, p] => 3차원\n",
    "# arr1[[1,3,4]] => 3차원 배열의 위치 1면 3행 4열\n",
    "# 여러 인덱스의 요소들을 지정 : 리스트로 주어야 한다\n",
    "\n",
    "arr1[[1,3,4]]"
   ]
  },
  {
   "cell_type": "markdown",
   "id": "3900dfa4",
   "metadata": {},
   "source": [
    "### 2차원 배열의 인덱싱\n",
    "#### 배열명[행위치, 열위치]\n",
    ": 2차원 배열에서 지정한 행 전체가 선택됨"
   ]
  },
  {
   "cell_type": "code",
   "execution_count": 107,
   "id": "18516a62",
   "metadata": {
    "scrolled": true
   },
   "outputs": [
    {
     "data": {
      "text/plain": [
       "array([[ 1,  2,  3,  4],\n",
       "       [ 5,  6,  7,  8],\n",
       "       [ 9, 10, 11, 12]])"
      ]
     },
     "execution_count": 107,
     "metadata": {},
     "output_type": "execute_result"
    }
   ],
   "source": [
    "arr2 = np.arange(1,13).reshape(3,4)\n",
    "arr2"
   ]
  },
  {
   "cell_type": "code",
   "execution_count": 108,
   "id": "df280f0f",
   "metadata": {},
   "outputs": [
    {
     "data": {
      "text/plain": [
       "12"
      ]
     },
     "execution_count": 108,
     "metadata": {},
     "output_type": "execute_result"
    }
   ],
   "source": [
    "# 2차원의 array에서 인덱싱을 하기 위해선 2개의 인자를 입력해야 합니다.\n",
    "arr2[2,3]  # 2행3열의 요소"
   ]
  },
  {
   "cell_type": "code",
   "execution_count": 110,
   "id": "45a5ca86",
   "metadata": {},
   "outputs": [],
   "source": [
    "# 0행0열 값 변경\n",
    "arr2[0,0]=90"
   ]
  },
  {
   "cell_type": "code",
   "execution_count": 111,
   "id": "7bb9d708",
   "metadata": {},
   "outputs": [
    {
     "data": {
      "text/plain": [
       "array([[90,  2,  3,  4],\n",
       "       [ 5,  6,  7,  8],\n",
       "       [ 9, 10, 11, 12]])"
      ]
     },
     "execution_count": 111,
     "metadata": {},
     "output_type": "execute_result"
    }
   ],
   "source": [
    "# 변경된 array\n",
    "arr2"
   ]
  },
  {
   "cell_type": "code",
   "execution_count": null,
   "id": "1f79f954",
   "metadata": {},
   "outputs": [],
   "source": []
  },
  {
   "cell_type": "code",
   "execution_count": null,
   "id": "7c00793b",
   "metadata": {},
   "outputs": [],
   "source": []
  },
  {
   "cell_type": "code",
   "execution_count": null,
   "id": "42badaf4",
   "metadata": {},
   "outputs": [],
   "source": []
  },
  {
   "cell_type": "code",
   "execution_count": 37,
   "id": "07b333c5",
   "metadata": {},
   "outputs": [
    {
     "data": {
      "text/plain": [
       "2"
      ]
     },
     "execution_count": 37,
     "metadata": {},
     "output_type": "execute_result"
    }
   ],
   "source": [
    "# 두 번째 행 (1행) 선택\n",
    "arr2[1]"
   ]
  },
  {
   "cell_type": "markdown",
   "id": "3485ce25",
   "metadata": {},
   "source": [
    "#### 2차원 배열명[:, 열위치]\n",
    ": 2차원 배열에서 지정한 열 전체 선택"
   ]
  },
  {
   "cell_type": "code",
   "execution_count": 49,
   "id": "6842cb82",
   "metadata": {},
   "outputs": [
    {
     "data": {
      "text/plain": [
       "array([[90,  2,  3,  4],\n",
       "       [ 5,  6,  7,  8],\n",
       "       [ 9, 10, 11, 12]])"
      ]
     },
     "execution_count": 49,
     "metadata": {},
     "output_type": "execute_result"
    }
   ],
   "source": [
    "arr2 = np.array([[90, 2, 3, 4], [5, 6, 7, 8], [9, 10, 11, 12]])\n",
    "arr2"
   ]
  },
  {
   "cell_type": "markdown",
   "id": "15d703ae",
   "metadata": {},
   "source": [
    "#### 2차원 배열의 특정 행을 지정해서 행 전체를 변경"
   ]
  },
  {
   "cell_type": "code",
   "execution_count": 50,
   "id": "de39b46a",
   "metadata": {},
   "outputs": [],
   "source": [
    "arr2[1] = np.array([-5, 1, 10, 9])"
   ]
  },
  {
   "cell_type": "code",
   "execution_count": 51,
   "id": "a1296905",
   "metadata": {},
   "outputs": [
    {
     "data": {
      "text/plain": [
       "array([[90,  2,  3,  4],\n",
       "       [-5,  1, 10,  9],\n",
       "       [ 9, 10, 11, 12]])"
      ]
     },
     "execution_count": 51,
     "metadata": {},
     "output_type": "execute_result"
    }
   ],
   "source": [
    "# 변경된 배열 확인\n",
    "arr2"
   ]
  },
  {
   "cell_type": "markdown",
   "id": "30379705",
   "metadata": {},
   "source": [
    "#### 배열명[[행위치1, 행위치2, ..., 행위치n], [열위치1, 열위치2, ..., 열위치n]]\n",
    ": 지정한 (행위치1, 열위치1), (행위치2, 열위치2), ... , (행위치n, 열위치n)의 원소를 가져옴"
   ]
  },
  {
   "cell_type": "code",
   "execution_count": 52,
   "id": "4a74c638",
   "metadata": {},
   "outputs": [
    {
     "data": {
      "text/plain": [
       "array([90, 10])"
      ]
     },
     "execution_count": 52,
     "metadata": {},
     "output_type": "execute_result"
    }
   ],
   "source": [
    "arr2[[0, 2], [0, 1]]"
   ]
  },
  {
   "cell_type": "markdown",
   "id": "448b6739",
   "metadata": {},
   "source": [
    "### 배열명[조건]\n",
    "\n",
    ": 배열에서 조건을 만족하는 원소만 선택\n",
    "\n",
    "* 10 이상만 선택"
   ]
  },
  {
   "cell_type": "code",
   "execution_count": 41,
   "id": "f57576a3",
   "metadata": {},
   "outputs": [
    {
     "data": {
      "text/plain": [
       "array([False, False, False, False])"
      ]
     },
     "execution_count": 41,
     "metadata": {},
     "output_type": "execute_result"
    }
   ],
   "source": [
    "# 비교연산\n",
    "arr2 > 10"
   ]
  },
  {
   "cell_type": "code",
   "execution_count": 42,
   "id": "402e8f41",
   "metadata": {},
   "outputs": [
    {
     "data": {
      "text/plain": [
       "array([], dtype=int32)"
      ]
     },
     "execution_count": 42,
     "metadata": {},
     "output_type": "execute_result"
    }
   ],
   "source": [
    "# 비교연산 결과를 인덱스로 지정\n",
    "arr2[arr2 > 10]"
   ]
  },
  {
   "cell_type": "code",
   "execution_count": 136,
   "id": "5fcd9002",
   "metadata": {},
   "outputs": [
    {
     "data": {
      "text/plain": [
       "array([90,  2,  4,  6,  8, 10, 12])"
      ]
     },
     "execution_count": 136,
     "metadata": {},
     "output_type": "execute_result"
    }
   ],
   "source": [
    "# 짝수인 원소 선택\n",
    "arr2[arr2 % 2 == 0]"
   ]
  },
  {
   "cell_type": "markdown",
   "id": "9edc6d3c",
   "metadata": {},
   "source": [
    "### 1차원 배열의 슬라이싱 (Slicing)\n",
    "#### 배열 [시작위치:끝위치]\n",
    ": 시작위치에서 끝위치 -1에 해당하는 배열의 원소를 반환"
   ]
  },
  {
   "cell_type": "code",
   "execution_count": 53,
   "id": "cb24f104",
   "metadata": {},
   "outputs": [
    {
     "data": {
      "text/plain": [
       "array([0, 1, 2, 3, 4, 5, 6, 7, 8, 9])"
      ]
     },
     "execution_count": 53,
     "metadata": {},
     "output_type": "execute_result"
    }
   ],
   "source": [
    "arr1"
   ]
  },
  {
   "cell_type": "code",
   "execution_count": 55,
   "id": "523de695",
   "metadata": {},
   "outputs": [
    {
     "data": {
      "text/plain": [
       "array([3, 4, 5, 6, 7, 8])"
      ]
     },
     "execution_count": 55,
     "metadata": {},
     "output_type": "execute_result"
    }
   ],
   "source": [
    "# 3번째 요소부터 8번째 요소\n",
    "arr1[3:9]"
   ]
  },
  {
   "cell_type": "markdown",
   "id": "a5ff97ba",
   "metadata": {},
   "source": [
    "### 배열 [start:end+1:step]\n",
    ": start에서 end 범위까지의 자료 중 step 간격의 인덱스를 지정"
   ]
  },
  {
   "cell_type": "code",
   "execution_count": 58,
   "id": "bdac2b09",
   "metadata": {},
   "outputs": [
    {
     "data": {
      "text/plain": [
       "array([3, 5, 7])"
      ]
     },
     "execution_count": 58,
     "metadata": {},
     "output_type": "execute_result"
    }
   ],
   "source": [
    "arr1[3:9:2]\n",
    "# arr1[[3, 5, 7]]와 같음"
   ]
  },
  {
   "cell_type": "code",
   "execution_count": 59,
   "id": "84e0e3c6",
   "metadata": {},
   "outputs": [
    {
     "data": {
      "text/plain": [
       "array([0, 2, 4, 6, 8])"
      ]
     },
     "execution_count": 59,
     "metadata": {},
     "output_type": "execute_result"
    }
   ],
   "source": [
    "arr1[:9:2]"
   ]
  },
  {
   "cell_type": "code",
   "execution_count": 60,
   "id": "c953b82b",
   "metadata": {},
   "outputs": [
    {
     "data": {
      "text/plain": [
       "array([3, 5, 7, 9])"
      ]
     },
     "execution_count": 60,
     "metadata": {},
     "output_type": "execute_result"
    }
   ],
   "source": [
    "arr1[3::2]"
   ]
  },
  {
   "cell_type": "code",
   "execution_count": 61,
   "id": "c270652e",
   "metadata": {},
   "outputs": [
    {
     "data": {
      "text/plain": [
       "array([0, 3, 6, 9])"
      ]
     },
     "execution_count": 61,
     "metadata": {},
     "output_type": "execute_result"
    }
   ],
   "source": [
    "arr1[::3]"
   ]
  },
  {
   "cell_type": "code",
   "execution_count": 62,
   "id": "b57aab55",
   "metadata": {},
   "outputs": [
    {
     "data": {
      "text/plain": [
       "array([9, 8, 7, 6, 5, 4, 3, 2, 1, 0])"
      ]
     },
     "execution_count": 62,
     "metadata": {},
     "output_type": "execute_result"
    }
   ],
   "source": [
    "arr1[::-1]"
   ]
  },
  {
   "cell_type": "code",
   "execution_count": 63,
   "id": "b7abbef7",
   "metadata": {},
   "outputs": [
    {
     "data": {
      "text/plain": [
       "array([9, 7, 5, 3, 1])"
      ]
     },
     "execution_count": 63,
     "metadata": {},
     "output_type": "execute_result"
    }
   ],
   "source": [
    "arr1[::-2]"
   ]
  },
  {
   "cell_type": "markdown",
   "id": "0f57dbf7",
   "metadata": {},
   "source": [
    "#### 배열[:끝위치]\n",
    ": 처음부터 '끝위치-1' 원소 반환"
   ]
  },
  {
   "cell_type": "code",
   "execution_count": 137,
   "id": "7f5fcd80",
   "metadata": {},
   "outputs": [
    {
     "data": {
      "text/plain": [
       "array([0, 1, 2])"
      ]
     },
     "execution_count": 137,
     "metadata": {},
     "output_type": "execute_result"
    }
   ],
   "source": [
    "arr1[:3]"
   ]
  },
  {
   "cell_type": "markdown",
   "id": "734634b9",
   "metadata": {},
   "source": [
    "#### 배열[시작위치 : ]\n",
    " : 시작 위치부터 마지막 원소까지 반환"
   ]
  },
  {
   "cell_type": "code",
   "execution_count": 138,
   "id": "4755d552",
   "metadata": {},
   "outputs": [
    {
     "data": {
      "text/plain": [
       "array([2, 3, 4, 5, 6, 7, 8, 9])"
      ]
     },
     "execution_count": 138,
     "metadata": {},
     "output_type": "execute_result"
    }
   ],
   "source": [
    "arr1[2:]"
   ]
  },
  {
   "cell_type": "markdown",
   "id": "2fb3ce48",
   "metadata": {},
   "source": [
    "#### 배열 [:]\n",
    " : 모든 원소 반환"
   ]
  },
  {
   "cell_type": "code",
   "execution_count": 139,
   "id": "f4cf4589",
   "metadata": {},
   "outputs": [
    {
     "data": {
      "text/plain": [
       "array([0, 1, 2, 3, 4, 5, 6, 7, 8, 9])"
      ]
     },
     "execution_count": 139,
     "metadata": {},
     "output_type": "execute_result"
    }
   ],
   "source": [
    "arr1[:]"
   ]
  },
  {
   "cell_type": "markdown",
   "id": "efd3ee3f",
   "metadata": {},
   "source": [
    "### 2차원 배열의 슬라이싱\n",
    "#### 배열[행시작위치 : 행끝위치, 열시작위치 : 열끝위치]"
   ]
  },
  {
   "cell_type": "code",
   "execution_count": 140,
   "id": "e89a0a0b",
   "metadata": {},
   "outputs": [
    {
     "data": {
      "text/plain": [
       "array([[90,  2,  3,  4],\n",
       "       [ 5,  6,  7,  8],\n",
       "       [ 9, 10, 11, 12]])"
      ]
     },
     "execution_count": 140,
     "metadata": {},
     "output_type": "execute_result"
    }
   ],
   "source": [
    "arr2"
   ]
  },
  {
   "cell_type": "code",
   "execution_count": 141,
   "id": "99d80704",
   "metadata": {},
   "outputs": [
    {
     "data": {
      "text/plain": [
       "array([ 9, 10, 11, 12])"
      ]
     },
     "execution_count": 141,
     "metadata": {},
     "output_type": "execute_result"
    }
   ],
   "source": [
    "# 2행의 모든 요소 꺼내기\n",
    "arr2[2, :]"
   ]
  },
  {
   "cell_type": "code",
   "execution_count": 142,
   "id": "a6e52959",
   "metadata": {},
   "outputs": [
    {
     "data": {
      "text/plain": [
       "array([ 9, 10, 11, 12])"
      ]
     },
     "execution_count": 142,
     "metadata": {},
     "output_type": "execute_result"
    }
   ],
   "source": [
    "arr2[2]"
   ]
  },
  {
   "cell_type": "code",
   "execution_count": 143,
   "id": "ec481349",
   "metadata": {},
   "outputs": [
    {
     "data": {
      "text/plain": [
       "array([ 4,  8, 12])"
      ]
     },
     "execution_count": 143,
     "metadata": {},
     "output_type": "execute_result"
    }
   ],
   "source": [
    "# 3열의 모든 요소 꺼내기\n",
    "arr2[:, 3]"
   ]
  },
  {
   "cell_type": "code",
   "execution_count": 145,
   "id": "dc5a7542",
   "metadata": {},
   "outputs": [
    {
     "data": {
      "text/plain": [
       "array([[ 6,  7],\n",
       "       [10, 11]])"
      ]
     },
     "execution_count": 145,
     "metadata": {},
     "output_type": "execute_result"
    }
   ],
   "source": [
    "# 1~2행, 1~2열의 요소 \n",
    "arr2[1:3, 1:3]"
   ]
  },
  {
   "cell_type": "markdown",
   "id": "63c3e015",
   "metadata": {},
   "source": [
    "### 배열[행위치][열시작위치:열끝위치]\n",
    ": 특정 행을 선택한 후 열을 슬라이싱"
   ]
  },
  {
   "cell_type": "code",
   "execution_count": 70,
   "id": "9e44f055",
   "metadata": {},
   "outputs": [
    {
     "data": {
      "text/plain": [
       "array([[10, 20, 30],\n",
       "       [40, 50, 60],\n",
       "       [70, 80, 90]])"
      ]
     },
     "execution_count": 70,
     "metadata": {},
     "output_type": "execute_result"
    }
   ],
   "source": [
    "arr3 = np.arange(10, 100, 10).reshape(3, 3)\n",
    "arr3"
   ]
  },
  {
   "cell_type": "code",
   "execution_count": 146,
   "id": "b5096a79",
   "metadata": {},
   "outputs": [
    {
     "data": {
      "text/plain": [
       "array([40,  4])"
      ]
     },
     "execution_count": 146,
     "metadata": {},
     "output_type": "execute_result"
    }
   ],
   "source": [
    "# 1행의 0열과 1열 요소 선택\n",
    "# arr3[1, :2]\n",
    "arr3[1][:2]"
   ]
  },
  {
   "cell_type": "code",
   "execution_count": 73,
   "id": "8779e7de",
   "metadata": {},
   "outputs": [
    {
     "data": {
      "text/plain": [
       "80"
      ]
     },
     "execution_count": 73,
     "metadata": {},
     "output_type": "execute_result"
    }
   ],
   "source": [
    "# 참고. 인덱싱 예\n",
    "arr3[2][1]"
   ]
  },
  {
   "cell_type": "markdown",
   "id": "6c0e3220",
   "metadata": {},
   "source": [
    "### 슬라이싱 된 배열에 값을 지정"
   ]
  },
  {
   "cell_type": "code",
   "execution_count": 79,
   "id": "c2bda8fc",
   "metadata": {},
   "outputs": [
    {
     "data": {
      "text/plain": [
       "array([[10,  1,  3],\n",
       "       [40,  4,  1],\n",
       "       [70, 80, 90]])"
      ]
     },
     "execution_count": 79,
     "metadata": {},
     "output_type": "execute_result"
    }
   ],
   "source": [
    "# 0~1행, 1~2열의 요소 변경\n",
    "arr3[:2, 1:3] = np.array([[1, 3], [4, 1]])\n",
    "arr3"
   ]
  },
  {
   "cell_type": "markdown",
   "id": "e15f9bf6",
   "metadata": {},
   "source": [
    "## Array boolean 인덱싱 (Mask)\n",
    "* 다차원의 인덱싱을 응용하여 boolean 인덱싱\n",
    "* boolean 인덱싱을 통해 만들어낸 array를 통해 원하는 행 또는 열의 값만 뽑아냄\n",
    "* 가리고 싶은 부분은 가리고, 원하는 요소만 꺼냄"
   ]
  },
  {
   "cell_type": "code",
   "execution_count": 80,
   "id": "65108685",
   "metadata": {},
   "outputs": [
    {
     "data": {
      "text/plain": [
       "array(['Beomwoo', 'Beomwoo', 'Kim', 'Joan', 'Lee', 'Beomwoo', 'Park',\n",
       "       'Beomwoo'], dtype='<U7')"
      ]
     },
     "execution_count": 80,
     "metadata": {},
     "output_type": "execute_result"
    }
   ],
   "source": [
    "names = np.array(['Beomwoo','Beomwoo','Kim','Joan','Lee','Beomwoo',\n",
    "                  'Park','Beomwoo'])\n",
    "names"
   ]
  },
  {
   "cell_type": "code",
   "execution_count": 81,
   "id": "1158b6dc",
   "metadata": {},
   "outputs": [
    {
     "data": {
      "text/plain": [
       "(8,)"
      ]
     },
     "execution_count": 81,
     "metadata": {},
     "output_type": "execute_result"
    }
   ],
   "source": [
    "# names 크기 확인\n",
    "names.shape"
   ]
  },
  {
   "cell_type": "code",
   "execution_count": 83,
   "id": "fa5fc11e",
   "metadata": {},
   "outputs": [
    {
     "data": {
      "text/plain": [
       "array([[ 0.38503146,  2.76741689,  0.47135393,  0.56989486],\n",
       "       [-0.73386176, -2.92690171, -0.03121989, -0.08008324],\n",
       "       [-0.70243678, -0.8602467 , -0.05970601, -1.65604745],\n",
       "       [-1.62393663,  0.57590888, -0.1261425 , -1.43093626],\n",
       "       [ 0.46863327, -0.39963237,  0.25223433,  0.15021052],\n",
       "       [-1.21433119, -1.61106419,  1.35994901,  0.21035626],\n",
       "       [ 0.99940229,  0.80341607,  1.10874134, -1.02295377],\n",
       "       [ 0.33377691,  1.70412219, -0.8853241 , -0.53641032]])"
      ]
     },
     "execution_count": 83,
     "metadata": {},
     "output_type": "execute_result"
    }
   ],
   "source": [
    "# 8행 4열의 실수 난수 배열 생성\n",
    "data = np.random.randn(8, 4)\n",
    "data"
   ]
  },
  {
   "cell_type": "code",
   "execution_count": 84,
   "id": "98750bc0",
   "metadata": {},
   "outputs": [
    {
     "data": {
      "text/plain": [
       "(8, 4)"
      ]
     },
     "execution_count": 84,
     "metadata": {},
     "output_type": "execute_result"
    }
   ],
   "source": [
    "# 배열 크기 확인\n",
    "data.shape"
   ]
  },
  {
   "cell_type": "code",
   "execution_count": 86,
   "id": "1cd5b7da",
   "metadata": {},
   "outputs": [
    {
     "data": {
      "text/plain": [
       "array([ True,  True, False, False, False,  True, False,  True])"
      ]
     },
     "execution_count": 86,
     "metadata": {},
     "output_type": "execute_result"
    }
   ],
   "source": [
    "# 요소가 Beomwoo인 항목에 대한 mask 생성\n",
    "names_mask_Beomwoo = (names == 'Beomwoo')\n",
    "names_mask_Beomwoo"
   ]
  },
  {
   "cell_type": "code",
   "execution_count": 147,
   "id": "9862ace2",
   "metadata": {},
   "outputs": [
    {
     "data": {
      "text/plain": [
       "array([[ 0.38503146,  2.76741689,  0.47135393,  0.56989486],\n",
       "       [-0.73386176, -2.92690171, -0.03121989, -0.08008324],\n",
       "       [-1.21433119, -1.61106419,  1.35994901,  0.21035626],\n",
       "       [ 0.33377691,  1.70412219, -0.8853241 , -0.53641032]])"
      ]
     },
     "execution_count": 147,
     "metadata": {},
     "output_type": "execute_result"
    }
   ],
   "source": [
    "# 요소가 Beomwoo인 항목의 위치와 같은 행의 자료 가져오기\n",
    "data[names_mask_Beomwoo, :]\n",
    "# data[names_mask_Beomwoo] : 같은 결과"
   ]
  },
  {
   "cell_type": "code",
   "execution_count": 89,
   "id": "d031bb10",
   "metadata": {},
   "outputs": [
    {
     "data": {
      "text/plain": [
       "array([[-0.70243678, -0.8602467 , -0.05970601, -1.65604745]])"
      ]
     },
     "execution_count": 89,
     "metadata": {},
     "output_type": "execute_result"
    }
   ],
   "source": [
    "# 요소가 Kim인 행의 데이터만 꺼내기\n",
    "data[names=='Kim', :]"
   ]
  },
  {
   "cell_type": "code",
   "execution_count": 90,
   "id": "7d76f0c5",
   "metadata": {},
   "outputs": [
    {
     "data": {
      "text/plain": [
       "array([[-0.70243678, -0.8602467 , -0.05970601, -1.65604745],\n",
       "       [ 0.99940229,  0.80341607,  1.10874134, -1.02295377]])"
      ]
     },
     "execution_count": 90,
     "metadata": {},
     "output_type": "execute_result"
    }
   ],
   "source": [
    "# 논리 연산을 응용하여, 요소가 Kim 또는 park인 행의 데이터만 꺼내기\n",
    "data[(names == 'Kim') | (names == 'Park')]"
   ]
  },
  {
   "cell_type": "markdown",
   "id": "e86549c4",
   "metadata": {},
   "source": [
    "### 마스크 인덱싱 문제\n",
    "* 문제 1 : data array에서 0번째 열이 0보다 작은 행 데이터 가져오기"
   ]
  },
  {
   "cell_type": "code",
   "execution_count": 148,
   "id": "d7de9446",
   "metadata": {},
   "outputs": [
    {
     "data": {
      "text/plain": [
       "array([False,  True,  True,  True, False,  True, False, False])"
      ]
     },
     "execution_count": 148,
     "metadata": {},
     "output_type": "execute_result"
    }
   ],
   "source": [
    "# 1단계. 마스크를 만든다\n",
    "#        data array에서 0번째 열이 0보다 작은 요소의 boolean 값을 선택하기 위한 마스크\n",
    "data[:, 0] < 0"
   ]
  },
  {
   "cell_type": "code",
   "execution_count": 149,
   "id": "e3fd6e28",
   "metadata": {},
   "outputs": [
    {
     "data": {
      "text/plain": [
       "array([[-0.73386176, -2.92690171, -0.03121989, -0.08008324],\n",
       "       [-0.70243678, -0.8602467 , -0.05970601, -1.65604745],\n",
       "       [-1.62393663,  0.57590888, -0.1261425 , -1.43093626],\n",
       "       [-1.21433119, -1.61106419,  1.35994901,  0.21035626]])"
      ]
     },
     "execution_count": 149,
     "metadata": {},
     "output_type": "execute_result"
    }
   ],
   "source": [
    "# 2단계. 생성된 마스크를 이용하여 0번째 열의 값이 0보다 작은 행을 구함\n",
    "data[data[:, 0]<0]"
   ]
  },
  {
   "cell_type": "markdown",
   "id": "d15081cc",
   "metadata": {},
   "source": [
    "* 문제 2 : data array에서 0번째 열이 0보다 작은 행의 2, 3번째 열 데이터 가져오기"
   ]
  },
  {
   "cell_type": "code",
   "execution_count": 151,
   "id": "1ad39171",
   "metadata": {},
   "outputs": [
    {
     "data": {
      "text/plain": [
       "array([False,  True,  True,  True, False,  True, False, False])"
      ]
     },
     "execution_count": 151,
     "metadata": {},
     "output_type": "execute_result"
    }
   ],
   "source": [
    "# 1. 마스크 생성 : 0번째 열의 값이 0보다 작은 행의 2, 3번째 열 값\n",
    "# data[data[:, 0]<0][:, 2:4]\n",
    "# data[data[:,0]<0, 2:4] 도 같은 결과가 나옴\n",
    "mask = data[:, 0] < 0\n",
    "mask"
   ]
  },
  {
   "cell_type": "code",
   "execution_count": 152,
   "id": "a806197d",
   "metadata": {},
   "outputs": [
    {
     "data": {
      "text/plain": [
       "array([[-0.03121989, -0.08008324],\n",
       "       [-0.05970601, -1.65604745],\n",
       "       [-0.1261425 , -1.43093626],\n",
       "       [ 1.35994901,  0.21035626]])"
      ]
     },
     "execution_count": 152,
     "metadata": {},
     "output_type": "execute_result"
    }
   ],
   "source": [
    "# 2. 생성된 마스크로 데이터 가져오기\n",
    "data[mask, 2:4]"
   ]
  },
  {
   "cell_type": "markdown",
   "id": "058ed6c2",
   "metadata": {},
   "source": [
    "## array에 적용되는 다양한 함수\n",
    "\n",
    "### 하나의 array에 적용되는 함수\n",
    "\n",
    "#### random.randn(d0, d1, ..., dn) : 표준정규난수 생성\n",
    ": https://numpy.org/doc/stable/reference/random/legacy.html"
   ]
  },
  {
   "cell_type": "code",
   "execution_count": 153,
   "id": "3d25e7c2",
   "metadata": {},
   "outputs": [
    {
     "data": {
      "text/plain": [
       "array([[-0.29091004, -0.35539662,  0.34928679],\n",
       "       [ 0.45008819, -0.9071853 ,  1.66736655],\n",
       "       [-1.19673251,  0.08437459,  0.2949771 ],\n",
       "       [ 0.14522381, -0.36909487,  0.25937837],\n",
       "       [-0.78050246,  1.75024199, -0.57325287]])"
      ]
     },
     "execution_count": 153,
     "metadata": {},
     "output_type": "execute_result"
    }
   ],
   "source": [
    "# 5행 3열의 실수난수 배열 생성\n",
    "data = np.random.randn(5, 3)\n",
    "data"
   ]
  },
  {
   "cell_type": "markdown",
   "id": "6fb64a21",
   "metadata": {},
   "source": [
    "#### 수학 관련 함수\n",
    "\n",
    "- 제곱근, 절대값, 삼각함수, 지수로그함수, 반올림함수 등\n",
    "\n",
    "\n",
    "https://numpy.org/doc/stable/reference/routines.math.html"
   ]
  },
  {
   "cell_type": "code",
   "execution_count": 156,
   "id": "7fd5f7ce",
   "metadata": {},
   "outputs": [
    {
     "data": {
      "text/plain": [
       "array([[0.29091004, 0.35539662, 0.34928679],\n",
       "       [0.45008819, 0.9071853 , 1.66736655],\n",
       "       [1.19673251, 0.08437459, 0.2949771 ],\n",
       "       [0.14522381, 0.36909487, 0.25937837],\n",
       "       [0.78050246, 1.75024199, 0.57325287]])"
      ]
     },
     "execution_count": 156,
     "metadata": {},
     "output_type": "execute_result"
    }
   ],
   "source": [
    "# 각 성분의 절대값 계산하기\n",
    "np.abs(data)"
   ]
  },
  {
   "cell_type": "code",
   "execution_count": 157,
   "id": "504221cf",
   "metadata": {},
   "outputs": [
    {
     "data": {
      "text/plain": [
       "array([[0.53936077, 0.59615151, 0.5910049 ],\n",
       "       [0.67088612, 0.95246276, 1.29126548],\n",
       "       [1.0939527 , 0.29047305, 0.54311795],\n",
       "       [0.38108242, 0.60753179, 0.50929203],\n",
       "       [0.8834605 , 1.32296712, 0.75713464]])"
      ]
     },
     "execution_count": 157,
     "metadata": {},
     "output_type": "execute_result"
    }
   ],
   "source": [
    "# 각 성분의 제곱근 계산하기 : data ** 0.5\n",
    "np.sqrt(np.abs(data))"
   ]
  },
  {
   "cell_type": "code",
   "execution_count": 158,
   "id": "0b8375b1",
   "metadata": {},
   "outputs": [
    {
     "data": {
      "text/plain": [
       "array([[0.08462865, 0.12630676, 0.12200126],\n",
       "       [0.20257938, 0.82298518, 2.78011121],\n",
       "       [1.4321687 , 0.00711907, 0.08701149],\n",
       "       [0.02108995, 0.13623103, 0.06727714],\n",
       "       [0.60918409, 3.06334702, 0.32861885]])"
      ]
     },
     "execution_count": 158,
     "metadata": {},
     "output_type": "execute_result"
    }
   ],
   "source": [
    "# 각 성분의 제곱 계산하기\n",
    "np.square(data)"
   ]
  },
  {
   "cell_type": "markdown",
   "id": "acc574ee",
   "metadata": {},
   "source": [
    "#### 지수함수"
   ]
  },
  {
   "cell_type": "code",
   "execution_count": 97,
   "id": "4c268723",
   "metadata": {},
   "outputs": [
    {
     "data": {
      "text/plain": [
       "array([[ 1.46966055, 15.91746437,  1.60216195,  1.76808114],\n",
       "       [ 0.48005156,  0.05356273,  0.96926242,  0.92303951],\n",
       "       [ 0.49537671,  0.4230577 ,  0.94204144,  0.190892  ],\n",
       "       [ 0.19712118,  1.77874645,  0.88148923,  0.23908497],\n",
       "       [ 1.59780893,  0.67056652,  1.28689756,  1.16207885],\n",
       "       [ 0.29690852,  0.19967501,  3.89599464,  1.23411765],\n",
       "       [ 2.71665758,  2.23315652,  3.03054159,  0.3595314 ],\n",
       "       [ 1.39623162,  5.49655863,  0.41258043,  0.58484389]])"
      ]
     },
     "execution_count": 97,
     "metadata": {},
     "output_type": "execute_result"
    }
   ],
   "source": [
    "# 각 성분을 자연대수 e의 지수로 삼은 값을 계산하기\n",
    "np.exp(data)"
   ]
  },
  {
   "cell_type": "markdown",
   "id": "d390637d",
   "metadata": {},
   "source": [
    "### 로그함수\n",
    "* 자연로그 : log()\n",
    "* 상용로그 : log10()\n",
    "* 밑이 2인 로그 : log2()"
   ]
  },
  {
   "cell_type": "code",
   "execution_count": 98,
   "id": "164140f7",
   "metadata": {},
   "outputs": [
    {
     "data": {
      "text/plain": [
       "array([[-9.54430246e-01,  1.01791436e+00, -7.52146016e-01,\n",
       "        -5.62303398e-01],\n",
       "       [-3.09434609e-01,  1.07394443e+00, -3.46669984e+00,\n",
       "        -2.52468869e+00],\n",
       "       [-3.53199876e-01, -1.50536068e-01, -2.81832253e+00,\n",
       "         5.04433708e-01],\n",
       "       [ 4.84853218e-01, -5.51805833e-01, -2.07034306e+00,\n",
       "         3.58328959e-01],\n",
       "       [-7.57934753e-01, -9.17210219e-01, -1.37739676e+00,\n",
       "        -1.89571753e+00],\n",
       "       [ 1.94193464e-01,  4.76894951e-01,  3.07447207e-01,\n",
       "        -1.55895272e+00],\n",
       "       [-5.97884414e-04, -2.18882560e-01,  1.03225448e-01,\n",
       "         2.26942919e-02],\n",
       "       [-1.09728245e+00,  5.33050135e-01, -1.21801483e-01,\n",
       "        -6.22855889e-01]])"
      ]
     },
     "execution_count": 98,
     "metadata": {},
     "output_type": "execute_result"
    }
   ],
   "source": [
    "# 자연로그\n",
    "np.log(abs(data))"
   ]
  },
  {
   "cell_type": "code",
   "execution_count": 99,
   "id": "af59e961",
   "metadata": {},
   "outputs": [
    {
     "data": {
      "text/plain": [
       "array([[-4.14503789e-01,  4.42074588e-01, -3.26652864e-01,\n",
       "        -2.44205263e-01],\n",
       "       [-1.34385743e-01,  4.66408139e-01, -1.50556861e+00,\n",
       "        -1.09645837e+00],\n",
       "       [-1.53392757e-01, -6.53769835e-02, -1.22398192e+00,\n",
       "         2.19072776e-01],\n",
       "       [ 2.10569077e-01, -2.39646229e-01, -8.99138567e-01,\n",
       "         1.55620289e-01],\n",
       "       [-3.29166881e-01, -3.98339337e-01, -5.98195811e-01,\n",
       "        -8.23299662e-01],\n",
       "       [ 8.43371499e-02,  2.07112846e-01,  1.33522626e-01,\n",
       "        -6.77044565e-01],\n",
       "       [-2.59657902e-04, -9.50594879e-02,  4.48302426e-02,\n",
       "         9.85600573e-03],\n",
       "       [-4.76543713e-01,  2.31500732e-01, -5.28977118e-02,\n",
       "        -2.70502876e-01]])"
      ]
     },
     "execution_count": 99,
     "metadata": {},
     "output_type": "execute_result"
    }
   ],
   "source": [
    "# 상용로그\n",
    "np.log10(abs(data))"
   ]
  },
  {
   "cell_type": "code",
   "execution_count": 101,
   "id": "90f8000e",
   "metadata": {},
   "outputs": [
    {
     "data": {
      "text/plain": [
       "array([[-1.37695178e+00,  1.46853999e+00, -1.08511733e+00,\n",
       "        -8.11232323e-01],\n",
       "       [-4.46419776e-01,  1.54937430e+00, -5.00139067e+00,\n",
       "        -3.64235585e+00],\n",
       "       [-5.09559710e-01, -2.17177638e-01, -4.06597993e+00,\n",
       "         7.27744009e-01],\n",
       "       [ 6.99495333e-01, -7.96087539e-01, -2.98687367e+00,\n",
       "         5.16959412e-01],\n",
       "       [-1.09346871e+00, -1.32325463e+00, -1.98716347e+00,\n",
       "        -2.73494228e+00],\n",
       "       [ 2.80161948e-01,  6.88013980e-01,  4.43552561e-01,\n",
       "        -2.24909336e+00],\n",
       "       [-8.62564880e-04, -3.15780784e-01,  1.48922842e-01,\n",
       "         3.27409424e-02],\n",
       "       [-1.58304395e+00,  7.69028787e-01, -1.75722395e-01,\n",
       "        -8.98591102e-01]])"
      ]
     },
     "execution_count": 101,
     "metadata": {},
     "output_type": "execute_result"
    }
   ],
   "source": [
    "# 밑이 2인 로그\n",
    "np.log2(abs(data))     # 데이터에 음수가 있어서 abs를 해주는 것"
   ]
  },
  {
   "cell_type": "markdown",
   "id": "87cdadf9",
   "metadata": {},
   "source": [
    "#### 각 성분의 부호 계산 : sign()\n",
    ": + 인 경우 1, - 인 경우 -1, 0인 경우 0"
   ]
  },
  {
   "cell_type": "code",
   "execution_count": 159,
   "id": "e01e67b7",
   "metadata": {},
   "outputs": [
    {
     "data": {
      "text/plain": [
       "array([[-1., -1.,  1.],\n",
       "       [ 1., -1.,  1.],\n",
       "       [-1.,  1.,  1.],\n",
       "       [ 1., -1.,  1.],\n",
       "       [-1.,  1., -1.]])"
      ]
     },
     "execution_count": 159,
     "metadata": {},
     "output_type": "execute_result"
    }
   ],
   "source": [
    "np.sign(data)"
   ]
  },
  {
   "cell_type": "code",
   "execution_count": 160,
   "id": "4518022a",
   "metadata": {},
   "outputs": [
    {
     "data": {
      "text/plain": [
       "array([[-1., -1.,  1.],\n",
       "       [ 1., -1.,  1.],\n",
       "       [-1.,  1.,  1.],\n",
       "       [ 1., -1.,  1.],\n",
       "       [-1.,  1., -1.]])"
      ]
     },
     "execution_count": 160,
     "metadata": {},
     "output_type": "execute_result"
    }
   ],
   "source": [
    "# 각 성분의 부호 계산하기 (+의 경우 1, -인 경우 -1, 0인 경우 0)\n",
    "np.sign(data)"
   ]
  },
  {
   "cell_type": "markdown",
   "id": "c77de740",
   "metadata": {},
   "source": [
    "#### 반올림 함수"
   ]
  },
  {
   "cell_type": "code",
   "execution_count": 161,
   "id": "9e43b3c9",
   "metadata": {},
   "outputs": [
    {
     "data": {
      "text/plain": [
       "array([[-0.29091004, -0.35539662,  0.34928679],\n",
       "       [ 0.45008819, -0.9071853 ,  1.66736655],\n",
       "       [-1.19673251,  0.08437459,  0.2949771 ],\n",
       "       [ 0.14522381, -0.36909487,  0.25937837],\n",
       "       [-0.78050246,  1.75024199, -0.57325287]])"
      ]
     },
     "execution_count": 161,
     "metadata": {},
     "output_type": "execute_result"
    }
   ],
   "source": [
    "data"
   ]
  },
  {
   "cell_type": "code",
   "execution_count": 162,
   "id": "139c39e5",
   "metadata": {},
   "outputs": [
    {
     "data": {
      "text/plain": [
       "array([[-1., -1.,  0.],\n",
       "       [ 0., -1.,  1.],\n",
       "       [-2.,  0.,  0.],\n",
       "       [ 0., -1.,  0.],\n",
       "       [-1.,  1., -1.]])"
      ]
     },
     "execution_count": 162,
     "metadata": {},
     "output_type": "execute_result"
    }
   ],
   "source": [
    "# 각 성분의 소수 첫 번째 자리에서 내림한 값을 계산하기\n",
    "np.floor(data)"
   ]
  },
  {
   "cell_type": "markdown",
   "id": "a85e1665",
   "metadata": {},
   "source": [
    "#### Nan 여부 확인"
   ]
  },
  {
   "cell_type": "code",
   "execution_count": 164,
   "id": "82e46392",
   "metadata": {},
   "outputs": [
    {
     "data": {
      "text/plain": [
       "array([[False, False, False],\n",
       "       [False, False, False],\n",
       "       [False, False, False],\n",
       "       [False, False, False],\n",
       "       [False, False, False]])"
      ]
     },
     "execution_count": 164,
     "metadata": {},
     "output_type": "execute_result"
    }
   ],
   "source": [
    "# 각 성분이 NaN인 경우 True를, 아닌 경우 False를 반환하기\n",
    "np.isnan(data)"
   ]
  },
  {
   "cell_type": "code",
   "execution_count": 165,
   "id": "5ef402aa",
   "metadata": {},
   "outputs": [
    {
     "name": "stderr",
     "output_type": "stream",
     "text": [
      "<ipython-input-165-7c22e65b5e50>:2: RuntimeWarning: invalid value encountered in log\n",
      "  np.isnan(np.log(data))\n"
     ]
    },
    {
     "data": {
      "text/plain": [
       "array([[ True,  True, False],\n",
       "       [False,  True, False],\n",
       "       [ True, False, False],\n",
       "       [False,  True, False],\n",
       "       [ True, False,  True]])"
      ]
     },
     "execution_count": 165,
     "metadata": {},
     "output_type": "execute_result"
    }
   ],
   "source": [
    "# 로그변환한 배열 중 Nan 확인\n",
    "np.isnan(np.log(data))"
   ]
  },
  {
   "cell_type": "markdown",
   "id": "51e5e0fe",
   "metadata": {},
   "source": [
    "#### 무한대(inf) 확인"
   ]
  },
  {
   "cell_type": "code",
   "execution_count": 166,
   "id": "681b72df",
   "metadata": {},
   "outputs": [
    {
     "data": {
      "text/plain": [
       "array([[False, False, False],\n",
       "       [False, False, False],\n",
       "       [False, False, False],\n",
       "       [False, False, False],\n",
       "       [False, False, False]])"
      ]
     },
     "execution_count": 166,
     "metadata": {},
     "output_type": "execute_result"
    }
   ],
   "source": [
    "#각 성분이 무한대인 경우 True를, 아닌 경우 False를 반환하기\n",
    "np.isinf(data)"
   ]
  },
  {
   "cell_type": "markdown",
   "id": "2aea888e",
   "metadata": {},
   "source": [
    "#### 삼각함수\n",
    " : 각 성분에 대해 삼각함수 값을 계산하기 (cos, cosh, sin, sinh, tan, tanh)"
   ]
  },
  {
   "cell_type": "code",
   "execution_count": 102,
   "id": "4744536f",
   "metadata": {},
   "outputs": [
    {
     "data": {
      "text/plain": [
       "array([[ 0.92678662, -0.9308092 ,  0.89095429,  0.84195771],\n",
       "       [ 0.74259356, -0.97704228,  0.9995127 ,  0.99679505],\n",
       "       [ 0.7632701 ,  0.65225049,  0.99821813, -0.08514789],\n",
       "       [-0.05311529,  0.83869768,  0.99205458,  0.13940455],\n",
       "       [ 0.89218643,  0.92120409,  0.96835722,  0.9887396 ],\n",
       "       [ 0.34896377, -0.04025699,  0.20928853,  0.97795659],\n",
       "       [ 0.54080516,  0.69425211,  0.44578854,  0.52084674],\n",
       "       [ 0.94481172, -0.13293122,  0.63303864,  0.85954874]])"
      ]
     },
     "execution_count": 102,
     "metadata": {},
     "output_type": "execute_result"
    }
   ],
   "source": [
    "# cos()\n",
    "np.cos(data)"
   ]
  },
  {
   "cell_type": "code",
   "execution_count": 167,
   "id": "7fcb972f",
   "metadata": {},
   "outputs": [
    {
     "data": {
      "text/plain": [
       "array([[ -0.29940414,  -0.37115633,   0.36422046],\n",
       "       [  0.48316384,  -1.27892402, -10.32294873],\n",
       "       [ -2.54747384,   0.08457539,   0.30384121],\n",
       "       [  0.14625342,  -0.38682224,   0.26535603],\n",
       "       [ -0.99025622,  -5.51277354,  -0.64556743]])"
      ]
     },
     "execution_count": 167,
     "metadata": {},
     "output_type": "execute_result"
    }
   ],
   "source": [
    "# tan()\n",
    "np.tan(data)"
   ]
  },
  {
   "cell_type": "markdown",
   "id": "41a0c75c",
   "metadata": {},
   "source": [
    "#### Sums(), products, differences 함수"
   ]
  },
  {
   "cell_type": "code",
   "execution_count": 106,
   "id": "9c4bda77",
   "metadata": {},
   "outputs": [
    {
     "data": {
      "text/plain": [
       "array([[ 0.38503146,  2.76741689,  0.47135393,  0.56989486],\n",
       "       [-0.73386176, -2.92690171, -0.03121989, -0.08008324],\n",
       "       [-0.70243678, -0.8602467 , -0.05970601, -1.65604745],\n",
       "       [-1.62393663,  0.57590888, -0.1261425 , -1.43093626],\n",
       "       [ 0.46863327, -0.39963237,  0.25223433,  0.15021052],\n",
       "       [-1.21433119, -1.61106419,  1.35994901,  0.21035626],\n",
       "       [ 0.99940229,  0.80341607,  1.10874134, -1.02295377],\n",
       "       [ 0.33377691,  1.70412219, -0.8853241 , -0.53641032]])"
      ]
     },
     "execution_count": 106,
     "metadata": {},
     "output_type": "execute_result"
    }
   ],
   "source": [
    "data"
   ]
  },
  {
   "cell_type": "code",
   "execution_count": 103,
   "id": "869e032d",
   "metadata": {},
   "outputs": [
    {
     "data": {
      "text/plain": [
       "-3.740786677855099"
      ]
     },
     "execution_count": 103,
     "metadata": {},
     "output_type": "execute_result"
    }
   ],
   "source": [
    "# 전체 성분의 합을 계산\n",
    "np.sum(data)"
   ]
  },
  {
   "cell_type": "code",
   "execution_count": 105,
   "id": "ea81cb0c",
   "metadata": {},
   "outputs": [
    {
     "data": {
      "text/plain": [
       "array([-2.08772242,  0.05301905,  2.08988611, -3.79596941])"
      ]
     },
     "execution_count": 105,
     "metadata": {},
     "output_type": "execute_result"
    }
   ],
   "source": [
    "# 열 간의 합을 계산 (axis=0)\n",
    "np.sum(data, axis=0)"
   ]
  },
  {
   "cell_type": "code",
   "execution_count": 168,
   "id": "632cd3ab",
   "metadata": {},
   "outputs": [
    {
     "data": {
      "text/plain": [
       "array([-0.29701988,  1.21026944, -0.81738081,  0.0355073 ,  0.39648666])"
      ]
     },
     "execution_count": 168,
     "metadata": {},
     "output_type": "execute_result"
    }
   ],
   "source": [
    "# 행 간의 합을 계산 (axis=1)\n",
    "np.sum(data, axis=1)"
   ]
  },
  {
   "cell_type": "markdown",
   "id": "89fd6194",
   "metadata": {},
   "source": [
    "#### 평균(mean), 표준편차(std), 분산(var)"
   ]
  },
  {
   "cell_type": "code",
   "execution_count": null,
   "id": "46ab89f4",
   "metadata": {},
   "outputs": [],
   "source": [
    "# 전체 성분의 평균 계산\n",
    "np.mean(data)"
   ]
  },
  {
   "cell_type": "code",
   "execution_count": null,
   "id": "2dd30b16",
   "metadata": {},
   "outputs": [],
   "source": [
    "# 행 간의 평균 계산 axis = 1\n",
    "np.mean(data, axis=1)"
   ]
  },
  {
   "cell_type": "code",
   "execution_count": null,
   "id": "dbcec0e5",
   "metadata": {},
   "outputs": [],
   "source": [
    "# 열별로 평균 계산 axis = 0\n",
    "np.mean(data, axis=0)"
   ]
  },
  {
   "cell_type": "code",
   "execution_count": null,
   "id": "0bf83926",
   "metadata": {},
   "outputs": [],
   "source": [
    "# 전체 성분의 표준편차 계산\n",
    "np.std(data)"
   ]
  },
  {
   "cell_type": "code",
   "execution_count": null,
   "id": "e0679a83",
   "metadata": {},
   "outputs": [],
   "source": [
    "# 월별 표준편차 계산\n",
    "np.std(data, axis=0)"
   ]
  },
  {
   "cell_type": "code",
   "execution_count": null,
   "id": "bf34408c",
   "metadata": {},
   "outputs": [],
   "source": [
    "# 행별 표준편차 계산\n",
    "np.std(data, axis=1)"
   ]
  },
  {
   "cell_type": "markdown",
   "id": "d8388e0d",
   "metadata": {},
   "source": [
    "#### 최대값(max), 최소값(min)"
   ]
  },
  {
   "cell_type": "code",
   "execution_count": null,
   "id": "18412709",
   "metadata": {},
   "outputs": [],
   "source": [
    "# 열방향에서 최소값\n",
    "np.min(data, axis=0)"
   ]
  },
  {
   "cell_type": "markdown",
   "id": "26977422",
   "metadata": {},
   "source": [
    "### 최대값, 최소값 위치 인덱스 : argmax(), argmin()"
   ]
  },
  {
   "cell_type": "code",
   "execution_count": 112,
   "id": "a3c8ef13",
   "metadata": {},
   "outputs": [
    {
     "data": {
      "text/plain": [
       "array([[ 0.38503146,  2.76741689,  0.47135393,  0.56989486],\n",
       "       [-0.73386176, -2.92690171, -0.03121989, -0.08008324],\n",
       "       [-0.70243678, -0.8602467 , -0.05970601, -1.65604745],\n",
       "       [-1.62393663,  0.57590888, -0.1261425 , -1.43093626],\n",
       "       [ 0.46863327, -0.39963237,  0.25223433,  0.15021052],\n",
       "       [-1.21433119, -1.61106419,  1.35994901,  0.21035626],\n",
       "       [ 0.99940229,  0.80341607,  1.10874134, -1.02295377],\n",
       "       [ 0.33377691,  1.70412219, -0.8853241 , -0.53641032]])"
      ]
     },
     "execution_count": 112,
     "metadata": {},
     "output_type": "execute_result"
    }
   ],
   "source": [
    "data"
   ]
  },
  {
   "cell_type": "code",
   "execution_count": 116,
   "id": "9d9c9f18",
   "metadata": {},
   "outputs": [
    {
     "data": {
      "text/plain": [
       "[1, 5]"
      ]
     },
     "execution_count": 116,
     "metadata": {},
     "output_type": "execute_result"
    }
   ],
   "source": [
    "# 전체 성분의 최소값, 최대값이 위치한 인덱스를 반환 (argmin, argmax)\n",
    "[np.argmax(data), np.argmin(data)]"
   ]
  },
  {
   "cell_type": "code",
   "execution_count": 117,
   "id": "40c10d9e",
   "metadata": {},
   "outputs": [
    {
     "data": {
      "text/plain": [
       "array([1, 2, 2, 1, 0, 2, 2, 1], dtype=int64)"
      ]
     },
     "execution_count": 117,
     "metadata": {},
     "output_type": "execute_result"
    }
   ],
   "source": [
    "# 행방향으로 최대값이 위치한 인덱스 반환\n",
    "np.argmax(data, axis=1)"
   ]
  },
  {
   "cell_type": "markdown",
   "id": "f0c7f79f",
   "metadata": {},
   "source": [
    "### 누적합(cumsum), 누적곱(cumprod)"
   ]
  },
  {
   "cell_type": "code",
   "execution_count": 118,
   "id": "4fbeeb76",
   "metadata": {},
   "outputs": [
    {
     "data": {
      "text/plain": [
       "array([ 0.38503146,  3.15244835,  3.62380228,  4.19369714,  3.45983538,\n",
       "        0.53293367,  0.50171378,  0.42163054, -0.28080624, -1.14105294,\n",
       "       -1.20075896, -2.85680641, -4.48074303, -3.90483416, -4.03097666,\n",
       "       -5.46191292, -4.99327965, -5.39291202, -5.14067769, -4.99046718,\n",
       "       -6.20479837, -7.81586256, -6.45591355, -6.24555729, -5.246155  ,\n",
       "       -4.44273893, -3.33399759, -4.35695136, -4.02317445, -2.31905225,\n",
       "       -3.20437636, -3.74078668])"
      ]
     },
     "execution_count": 118,
     "metadata": {},
     "output_type": "execute_result"
    }
   ],
   "source": [
    "# 맨 처음 성분부터 각 성분까지의 누적합 또는 누적곱 계산 (cumsum, cumprod)\n",
    "np.cumsum(data)"
   ]
  },
  {
   "cell_type": "code",
   "execution_count": 119,
   "id": "86048d49",
   "metadata": {},
   "outputs": [
    {
     "data": {
      "text/plain": [
       "array([[ 0.38503146,  2.76741689,  0.47135393,  0.56989486],\n",
       "       [-0.3488303 , -0.15948482,  0.44013404,  0.48981162],\n",
       "       [-1.05126708, -1.01973152,  0.38042803, -1.16623583],\n",
       "       [-2.67520371, -0.44382265,  0.25428553, -2.59717209],\n",
       "       [-2.20657044, -0.84345502,  0.50651985, -2.44696158],\n",
       "       [-3.42090163, -2.45451921,  1.86646887, -2.23660532],\n",
       "       [-2.42149933, -1.65110315,  2.97521021, -3.25955909],\n",
       "       [-2.08772242,  0.05301905,  2.08988611, -3.79596941]])"
      ]
     },
     "execution_count": 119,
     "metadata": {},
     "output_type": "execute_result"
    }
   ],
   "source": [
    "# 열 기준 누적합\n",
    "np.cumsum(data, axis = 0)"
   ]
  },
  {
   "cell_type": "code",
   "execution_count": 121,
   "id": "7ba3cdc9",
   "metadata": {},
   "outputs": [
    {
     "data": {
      "text/plain": [
       "array([ 3.85031455e-01,  1.06554255e+00,  5.02247674e-01,  2.86228366e-01,\n",
       "       -2.10052052e-01,  6.14801710e-01, -1.91940426e-02,  1.53712112e-03,\n",
       "       -1.07973041e-03,  9.28834522e-04, -5.54570069e-05,  9.18394348e-05,\n",
       "       -1.49141422e-04, -8.58918685e-05,  1.08346150e-05, -1.55036435e-05,\n",
       "       -7.26552317e-06,  2.90353827e-06,  7.32372020e-07,  1.10009979e-07,\n",
       "       -1.33588549e-07,  2.15219728e-07,  2.92687856e-07,  6.15687220e-08,\n",
       "        6.15319220e-08,  4.94357347e-08,  5.48114430e-08, -5.60695720e-08,\n",
       "       -1.87147284e-08, -3.18921839e-08,  2.82349191e-08, -1.51455020e-08])"
      ]
     },
     "execution_count": 121,
     "metadata": {},
     "output_type": "execute_result"
    }
   ],
   "source": [
    "# 누적곱\n",
    "np.cumprod(data)"
   ]
  },
  {
   "cell_type": "code",
   "execution_count": 122,
   "id": "67f79bae",
   "metadata": {},
   "outputs": [
    {
     "data": {
      "text/plain": [
       "array([[ 0.38503146,  1.06554255,  0.50224767,  0.28622837],\n",
       "       [-0.73386176,  2.14794124, -0.06705849,  0.00537026],\n",
       "       [-0.70243678,  0.60426892, -0.03607849,  0.05974769],\n",
       "       [-1.62393663, -0.93523952,  0.11797345, -0.16881249],\n",
       "       [ 0.46863327, -0.18728103, -0.0472387 , -0.00709575],\n",
       "       [-1.21433119,  1.9563655 ,  2.66055733,  0.55966488],\n",
       "       [ 0.99940229,  0.80293586,  0.89024818, -0.91068273],\n",
       "       [ 0.33377691,  0.56879664, -0.50356937,  0.27011981]])"
      ]
     },
     "execution_count": 122,
     "metadata": {},
     "output_type": "execute_result"
    }
   ],
   "source": [
    "np.cumprod(data, axis=1)"
   ]
  },
  {
   "cell_type": "code",
   "execution_count": 123,
   "id": "51abc7a2",
   "metadata": {},
   "outputs": [
    {
     "data": {
      "text/plain": [
       "array([[ 0.38503146,  0.47135393,  0.56989486,  2.76741689],\n",
       "       [-2.92690171, -0.73386176, -0.08008324, -0.03121989],\n",
       "       [-1.65604745, -0.8602467 , -0.70243678, -0.05970601],\n",
       "       [-1.62393663, -1.43093626, -0.1261425 ,  0.57590888],\n",
       "       [-0.39963237,  0.15021052,  0.25223433,  0.46863327],\n",
       "       [-1.61106419, -1.21433119,  0.21035626,  1.35994901],\n",
       "       [-1.02295377,  0.80341607,  0.99940229,  1.10874134],\n",
       "       [-0.8853241 , -0.53641032,  0.33377691,  1.70412219]])"
      ]
     },
     "execution_count": 123,
     "metadata": {},
     "output_type": "execute_result"
    }
   ],
   "source": [
    "# 전체 성분에 대해서 오름차순으로 정렬\n",
    "np.sort(data)"
   ]
  },
  {
   "cell_type": "code",
   "execution_count": null,
   "id": "7381b4a3",
   "metadata": {},
   "outputs": [],
   "source": [
    "# 전체 성분에 대해서 [::-1]를 적용 : 정렬 후 마지막행부터 표시\n",
    "np.sort(data)[::-1]"
   ]
  },
  {
   "cell_type": "code",
   "execution_count": null,
   "id": "92d8639d",
   "metadata": {},
   "outputs": [],
   "source": [
    "data"
   ]
  },
  {
   "cell_type": "code",
   "execution_count": null,
   "id": "cfa72dc9",
   "metadata": {},
   "outputs": [],
   "source": [
    "# 행방향으로 오름차순으로 정렬\n",
    "np.sort(data, axis=1)"
   ]
  },
  {
   "cell_type": "code",
   "execution_count": null,
   "id": "f62339b5",
   "metadata": {},
   "outputs": [],
   "source": [
    "# 열방향으로 오름차순으로 정렬\n",
    "np.sord(data, axis=0)"
   ]
  },
  {
   "cell_type": "markdown",
   "id": "e4062dcb",
   "metadata": {},
   "source": [
    "### 두 개의 array에 적용되는 함수"
   ]
  },
  {
   "cell_type": "code",
   "execution_count": 125,
   "id": "c60ae5e1",
   "metadata": {},
   "outputs": [],
   "source": [
    "data1 = np.random.randn(5, 3)"
   ]
  },
  {
   "cell_type": "code",
   "execution_count": 131,
   "id": "a8a0735b",
   "metadata": {},
   "outputs": [],
   "source": [
    "data2 = np.random.randn(5, 3)"
   ]
  },
  {
   "cell_type": "code",
   "execution_count": 132,
   "id": "5b148deb",
   "metadata": {},
   "outputs": [
    {
     "data": {
      "text/plain": [
       "array([[ 0.6898113 ,  0.51392087, -1.16019926],\n",
       "       [ 0.01737316,  1.41951464,  1.77051219],\n",
       "       [-0.33939534, -1.29221421, -0.12017398],\n",
       "       [ 0.63097473, -0.7410996 ,  0.88028639],\n",
       "       [-0.61845776, -0.05363887, -0.51441402]])"
      ]
     },
     "execution_count": 132,
     "metadata": {},
     "output_type": "execute_result"
    }
   ],
   "source": [
    "# 5행 3열의 실수난수 배열 생성\n",
    "data1"
   ]
  },
  {
   "cell_type": "code",
   "execution_count": 133,
   "id": "4aea1dc5",
   "metadata": {},
   "outputs": [
    {
     "data": {
      "text/plain": [
       "array([[-0.28633583, -1.03754179, -1.17135559],\n",
       "       [-0.24256865, -0.00868906,  1.31340505],\n",
       "       [-0.85424227, -0.01158568, -0.63529348],\n",
       "       [ 0.78987822, -1.30730964, -1.13731616],\n",
       "       [ 1.54684403, -0.16708619,  0.29406844]])"
      ]
     },
     "execution_count": 133,
     "metadata": {},
     "output_type": "execute_result"
    }
   ],
   "source": [
    "data2"
   ]
  },
  {
   "cell_type": "markdown",
   "id": "3d7ea3c8",
   "metadata": {},
   "source": [
    "### 두 개의 array에 대해 동일한 위치의 성분끼리 연산\n",
    "* add(), subtract(), multiply(), divide()"
   ]
  },
  {
   "cell_type": "code",
   "execution_count": null,
   "id": "6abe0a75",
   "metadata": {},
   "outputs": [],
   "source": [
    "# 두 배열의 합"
   ]
  },
  {
   "cell_type": "code",
   "execution_count": null,
   "id": "27614aa2",
   "metadata": {},
   "outputs": [],
   "source": [
    "# 두 배열의 차"
   ]
  },
  {
   "cell_type": "code",
   "execution_count": null,
   "id": "f50ba916",
   "metadata": {},
   "outputs": [],
   "source": [
    "# 두 배열의 곱"
   ]
  },
  {
   "cell_type": "code",
   "execution_count": null,
   "id": "5c09b637",
   "metadata": {},
   "outputs": [],
   "source": [
    "# 두 배열의 나눗셈"
   ]
  },
  {
   "cell_type": "markdown",
   "id": "3799db10",
   "metadata": {},
   "source": [
    "* 최대값 또는 최소값 계산\n",
    ": maximum(), minimum()"
   ]
  },
  {
   "cell_type": "code",
   "execution_count": null,
   "id": "f71ea994",
   "metadata": {},
   "outputs": [],
   "source": [
    "# 두 개의 array에 대해 동일한 위치의 성분끼리 비교하여\n",
    "# 최대값 또는 최소값 계산하기 (maximum, minimum)\n",
    "np.maximum(data1, data2)"
   ]
  },
  {
   "cell_type": "code",
   "execution_count": null,
   "id": "72d29f38",
   "metadata": {},
   "outputs": [],
   "source": [
    "# 최대값 또는 최소값 계산하기 (maximum, minimum)\n"
   ]
  },
  {
   "cell_type": "code",
   "execution_count": null,
   "id": "4dcc1149",
   "metadata": {},
   "outputs": [],
   "source": []
  },
  {
   "cell_type": "code",
   "execution_count": null,
   "id": "d9955fc0",
   "metadata": {},
   "outputs": [],
   "source": []
  },
  {
   "cell_type": "code",
   "execution_count": null,
   "id": "ebcef129",
   "metadata": {},
   "outputs": [],
   "source": []
  }
 ],
 "metadata": {
  "kernelspec": {
   "display_name": "Python 3",
   "language": "python",
   "name": "python3"
  },
  "language_info": {
   "codemirror_mode": {
    "name": "ipython",
    "version": 3
   },
   "file_extension": ".py",
   "mimetype": "text/x-python",
   "name": "python",
   "nbconvert_exporter": "python",
   "pygments_lexer": "ipython3",
   "version": "3.8.8"
  }
 },
 "nbformat": 4,
 "nbformat_minor": 5
}
