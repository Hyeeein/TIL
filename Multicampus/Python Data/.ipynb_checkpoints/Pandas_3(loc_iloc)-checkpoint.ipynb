{
 "cells": [
  {
   "cell_type": "code",
   "execution_count": 41,
   "id": "a4d4c28d",
   "metadata": {},
   "outputs": [],
   "source": [
    "import numpy as np\n",
    "import pandas as pd"
   ]
  },
  {
   "cell_type": "markdown",
   "id": "4b853e1d",
   "metadata": {},
   "source": [
    "##### 설정변경코드\n",
    "* 변수 명이 두 번 이상 출력되어도 모두 콘솔에서 보여줄 것\n",
    "* \n",
    "from IPython.core.interactiveshell import InteractiveShell <br> \n",
    "InteractiveShell.ast_node_interactivity=\"all\"\n",
    "* InteractiveShell.ast_node_interactivity : 'all' | 'last' | 'last_expr' | 'none' (기본값은 'last_expr')"
   ]
  },
  {
   "cell_type": "code",
   "execution_count": 50,
   "id": "063c4405",
   "metadata": {},
   "outputs": [],
   "source": [
    "from IPython.core.interactiveshell import InteractiveShell\n",
    "InteractiveShell.ast_node_interactivity=\"all\""
   ]
  },
  {
   "cell_type": "markdown",
   "id": "585a6789",
   "metadata": {},
   "source": [
    "## 데이터 프레임 인덱서 : loc, iloc\n",
    "\n",
    "- Pandas는 numpy행렬과 같이 쉼표를 사용한 (행 인덱스, 열 인덱스) 형식의 2차원 인덱싱을 지원\n",
    "- 특별한 인덱서(indexer) 속성을 제공\n",
    "   \n",
    "* loc : 라벨값 기반의 2차원 인덱싱\n",
    "* iloc : 순서를 나타내는 정수 기반의 2차원 인덱싱"
   ]
  },
  {
   "cell_type": "markdown",
   "id": "0c5e376b",
   "metadata": {},
   "source": [
    "### 데이터프레임 인덱싱\n",
    "\n",
    "1. 열인덱싱 \n",
    "   - 하나의 열만 선택 : df['열이름'] \n",
    "   - 여러개 열 선택 : df[['열이름1', '열이름2',...]] \n",
    "\n",
    "\n",
    "2. 행인덱싱 : 연속된 구간의 행데이터 선택(슬라이싱)\n",
    "    - df['행_시작위치':'행_끝위치'] :\n",
    "\n",
    "\n",
    "3. 개별요소 접근 : 선택한 열에서 지정된 구간의 행데이터 선택\n",
    "    - df['열이름']['행_시작위치':'행_끝위치']\n",
    "    - df['열이름']['시작_행이름':'끝_행이름']\n",
    "    \n",
    "    \n",
    "=> 행과 열을 동시에 인덱싱 하는 구조는 기본 자료구조 인덱스와 차이가 있음"
   ]
  },
  {
   "cell_type": "markdown",
   "id": "9a2eeab4",
   "metadata": {},
   "source": [
    "# 데이터 프레임에서 인덱서 사용\n",
    " \n",
    "#### loc, iloc 속성을 사용하는 인덱싱\n",
    " \n",
    "- **pandas 패키지는 [행번호,열번호] 인덱싱 불가**\n",
    " \n",
    "- iloc 속성 사용하면 가능\n",
    "    - iloc[행번호,열번호] : 가능\n",
    "    - loc[행제목,열제목] : 가능\n",
    "\n",
    "## 1. loc 인덱서 (행 우선 인덱서)\n",
    " \n",
    "- df.loc[행인덱싱 값]   # 행우선 인덱서\n",
    "- df.loc[행인덱싱 값,열인덱싱 값]\n",
    "\n",
    "#### 인덱싱 값\n",
    "1. 인덱스 데이터 : (index name, column name)\n",
    "2. 인덱스 데이터 슬라이스\n",
    "3. 같은 행 인덱스를 갖는 불리언 시리즈(행 인덱싱인 경우)\n",
    "   - 조건으로 추출 가능\n",
    "4. 위 값을 반환하는 함수    \n",
    "\n",
    "- 예제 df 생성\n",
    ": 10 ~ 21 범위의 숫자를 생성 후 3행 4열로 배치"
   ]
  },
  {
   "cell_type": "code",
   "execution_count": null,
   "id": "2c574086",
   "metadata": {},
   "outputs": [],
   "source": [
    "# 예제 데이터프레임 생성\n",
    "df = pd.DataFrame(np.arange(10,22).reshape(3,4),\n",
    "                 index='a b c'.split(),\n",
    "                 columns = 'A B C D'.split())\n",
    "df"
   ]
  },
  {
   "cell_type": "code",
   "execution_count": null,
   "id": "72381272",
   "metadata": {},
   "outputs": [],
   "source": [
    "# 문제1. 행우선 인덱서 이므로 a행 모든 열을 추출하시오."
   ]
  },
  {
   "cell_type": "code",
   "execution_count": null,
   "id": "aaf7f73d",
   "metadata": {},
   "outputs": [],
   "source": [
    "# loc 인덱서 : 인덱싱 값을 하나만 받는 경우\n",
    "df.loc['a']\n",
    "\n",
    "# 출력결과 : 시리즈로 반환"
   ]
  },
  {
   "cell_type": "markdown",
   "id": "42a6baaf",
   "metadata": {},
   "source": [
    "* loc 인덱서에서는 열 단독 인덱싱은 불가능 함"
   ]
  },
  {
   "cell_type": "code",
   "execution_count": null,
   "id": "86168049",
   "metadata": {},
   "outputs": [],
   "source": [
    "# 문제. A열의 모든 행을 출력하시오\n",
    "\n",
    "# 에러 예제\n",
    "df.loc['A']\n",
    "\n",
    "\n",
    "# => A행이 없으므로 key error 가 발생"
   ]
  },
  {
   "cell_type": "markdown",
   "id": "3234ff4d",
   "metadata": {},
   "source": [
    "**행이름 문자열 라벨 슬라이싱**\n",
    "\n",
    "- dataFrame.loc[처음문자열제목 : 끝문자열제목]"
   ]
  },
  {
   "cell_type": "code",
   "execution_count": null,
   "id": "6232036d",
   "metadata": {},
   "outputs": [],
   "source": [
    "# b행부터 c행의 모든 열 반환\n",
    "df.loc['b':'c']"
   ]
  },
  {
   "cell_type": "code",
   "execution_count": null,
   "id": "2f691f01",
   "metadata": {},
   "outputs": [],
   "source": [
    "# 위 결과와 동일한 결과 출력\n",
    "df['b':'c']"
   ]
  },
  {
   "cell_type": "markdown",
   "id": "bb6a5854",
   "metadata": {},
   "source": [
    "- dataFrame[[행이름1, 행이름2,... ]]\n",
    "    - 여러 행 선택시 인덱서 데이터를 리스트로 사용\n",
    "    - 반환값이 데이터프레임이 됨"
   ]
  },
  {
   "cell_type": "code",
   "execution_count": null,
   "id": "9634b457",
   "metadata": {},
   "outputs": [],
   "source": [
    "df.loc[['b','c']]"
   ]
  },
  {
   "cell_type": "code",
   "execution_count": null,
   "id": "91d855d9",
   "metadata": {},
   "outputs": [],
   "source": [
    "df.loc[['a','c']]"
   ]
  },
  {
   "cell_type": "code",
   "execution_count": null,
   "id": "1507ccab",
   "metadata": {},
   "outputs": [],
   "source": [
    "# b행을 출력 : 시리즈 형태\n",
    "df.loc['b']"
   ]
  },
  {
   "cell_type": "code",
   "execution_count": null,
   "id": "af4112a6",
   "metadata": {},
   "outputs": [],
   "source": [
    "# b행을 출력 : df 형태\n",
    "df.loc[['b']]"
   ]
  },
  {
   "cell_type": "markdown",
   "id": "eb2bf932",
   "metadata": {},
   "source": [
    "* 참고 : 데이터프레임 기본 인덱싱  => 열기준"
   ]
  },
  {
   "cell_type": "code",
   "execution_count": null,
   "id": "23ac7dcd",
   "metadata": {},
   "outputs": [],
   "source": [
    "df[['b','c']]\n",
    "\n",
    "# => b와 c를 컬럼명에서 찾고 있음, 인덱서 사용해야 함"
   ]
  },
  {
   "cell_type": "code",
   "execution_count": null,
   "id": "f361be42",
   "metadata": {},
   "outputs": [],
   "source": [
    "# 컬럼명에 B,C가 존재\n",
    "df[['B','C']]"
   ]
  },
  {
   "cell_type": "markdown",
   "id": "200de864",
   "metadata": {},
   "source": [
    "### boolean selection으로 row 선택하기\n",
    "\n",
    "- 데이터베이스와 같은 인덱스를 가지는 boolean selection을 행을 선택하는 인덱싱 값으로 쓸 수 있음\n",
    "    - 조건 식 수행"
   ]
  },
  {
   "cell_type": "code",
   "execution_count": null,
   "id": "844ff06c",
   "metadata": {},
   "outputs": [],
   "source": [
    "df"
   ]
  },
  {
   "cell_type": "markdown",
   "id": "52af1487",
   "metadata": {},
   "source": [
    "* df의 A열의 값이 15보다 큰 행만 추출"
   ]
  },
  {
   "cell_type": "code",
   "execution_count": null,
   "id": "2fac99e6",
   "metadata": {},
   "outputs": [],
   "source": [
    "df.A > 15"
   ]
  },
  {
   "cell_type": "markdown",
   "id": "6af21ba0",
   "metadata": {},
   "source": [
    "=> df의 A열의 행값이 15보다 큰지 확인 후 T/F로 반환"
   ]
  },
  {
   "cell_type": "code",
   "execution_count": null,
   "id": "884388db",
   "metadata": {},
   "outputs": [],
   "source": [
    "df.loc[df.A > 15]"
   ]
  },
  {
   "cell_type": "code",
   "execution_count": null,
   "id": "937e528d",
   "metadata": {},
   "outputs": [],
   "source": [
    "df[df.A > 15]"
   ]
  },
  {
   "cell_type": "markdown",
   "id": "bde94c2d",
   "metadata": {},
   "source": [
    "- 인덱스 대신 인덱스 값을 반환하는 함수 사용"
   ]
  },
  {
   "cell_type": "code",
   "execution_count": null,
   "id": "f49cfd1d",
   "metadata": {},
   "outputs": [],
   "source": [
    "# 함수 작성\n",
    "def sel_row(df):\n",
    "    return df.A > 15\n",
    "\n",
    "# True 나 False 가 반환"
   ]
  },
  {
   "cell_type": "code",
   "execution_count": null,
   "id": "a2876956",
   "metadata": {},
   "outputs": [],
   "source": [
    "# 함수 호출 인덱싱\n",
    "sel_row(df)"
   ]
  },
  {
   "cell_type": "code",
   "execution_count": null,
   "id": "6e1c5769",
   "metadata": {},
   "outputs": [],
   "source": [
    "df.loc[sel_row(df)]"
   ]
  },
  {
   "cell_type": "markdown",
   "id": "d91697f3",
   "metadata": {},
   "source": [
    "### loc 인덱서 슬라이싱"
   ]
  },
  {
   "cell_type": "code",
   "execution_count": null,
   "id": "84dd2625",
   "metadata": {},
   "outputs": [],
   "source": [
    "#예제 df 생성\n",
    "df2 = pd.DataFrame(np.arange(10,26).reshape(4,4),\n",
    "                  columns=['a','b','c','d'])\n",
    "df2\n",
    "#행 인덱스 지정하지 않아서 0부터 1씩 증가되는 정수 인덱스 자동 생성"
   ]
  },
  {
   "cell_type": "code",
   "execution_count": null,
   "id": "13b8df33",
   "metadata": {},
   "outputs": [],
   "source": [
    "# 값 인덱싱 - 슬라이싱 초기값:끝값\n",
    "df2.loc[1:2]"
   ]
  },
  {
   "cell_type": "code",
   "execution_count": null,
   "id": "7a0bac01",
   "metadata": {},
   "outputs": [],
   "source": [
    "# 위치 인덱싱 - 슬라이싱 초기위치:끝위치 + 1\n",
    "df2[1:2]"
   ]
  },
  {
   "cell_type": "markdown",
   "id": "efdd7c89",
   "metadata": {},
   "source": [
    "### loc 인덱서 사용 요소 값 접근\n",
    "- 인덱싱으로 행과 열을 모두 받는 경우\n",
    "- 문법 : df.loc[행인덱스, 열인덱스] - 라벨(문자열)인덱스 사용"
   ]
  },
  {
   "cell_type": "code",
   "execution_count": null,
   "id": "3c11a65e",
   "metadata": {},
   "outputs": [],
   "source": [
    "df"
   ]
  },
  {
   "cell_type": "markdown",
   "id": "723afd2c",
   "metadata": {},
   "source": [
    "- a행의 A열 값을 접근해서 출력"
   ]
  },
  {
   "cell_type": "code",
   "execution_count": null,
   "id": "719a5fdd",
   "metadata": {},
   "outputs": [],
   "source": [
    "# a행의 A열 \n",
    "df.loc['a','A']"
   ]
  },
  {
   "cell_type": "markdown",
   "id": "9b565f96",
   "metadata": {},
   "source": [
    "- a행의 A열 값 수정"
   ]
  },
  {
   "cell_type": "code",
   "execution_count": null,
   "id": "0dbc6a3b",
   "metadata": {},
   "outputs": [],
   "source": [
    "# loc를 사용한 원소값 변경\n",
    "# df.loc[행,열]=값\n",
    "df.loc['a','A']=50\n",
    "df"
   ]
  },
  {
   "cell_type": "markdown",
   "id": "873e4113",
   "metadata": {},
   "source": [
    "### loc를 이용한 indexing 연습"
   ]
  },
  {
   "cell_type": "code",
   "execution_count": null,
   "id": "2a35499a",
   "metadata": {},
   "outputs": [],
   "source": [
    "df"
   ]
  },
  {
   "cell_type": "code",
   "execution_count": null,
   "id": "bc5e07cb",
   "metadata": {},
   "outputs": [],
   "source": [
    "# 1. a행의 모든 열 반환하시오.\n",
    "\n",
    "df.loc['a']  # 시리즈로 반환\n",
    "df.loc[['a']] # 데이터프레임으로 반환\n",
    "df.loc['a',:]  # 시리즈로 반환"
   ]
  },
  {
   "cell_type": "code",
   "execution_count": null,
   "id": "c3ac6546",
   "metadata": {},
   "outputs": [],
   "source": [
    "# 2. a행의 B,C 열을 반환하시오.\n",
    "\n",
    "# 시리즈로 반환 - 열에 해당하는 인덱싱을 슬라이싱 처리함\n",
    "df\n",
    "df.loc['a','B':'C']"
   ]
  },
  {
   "cell_type": "code",
   "execution_count": null,
   "id": "138f0e41",
   "metadata": {},
   "outputs": [],
   "source": [
    "# 3. b행부터 모든 행의 A열을 반환하시오.\n",
    "\n"
   ]
  },
  {
   "cell_type": "code",
   "execution_count": null,
   "id": "06c6e7f1",
   "metadata": {},
   "outputs": [],
   "source": [
    "# b행부터 모든 행의 A열\n",
    "df.loc['b':,'A']\n",
    "\n",
    "#시리즈 형태 반환"
   ]
  },
  {
   "cell_type": "code",
   "execution_count": null,
   "id": "37b2302a",
   "metadata": {},
   "outputs": [],
   "source": [
    "# 4. a,b행의 B,D열을 데이터프레임으로 반환하시오.\n",
    "\n",
    "df.loc['a':'b']  # a,b행의 모든열 df 형태로 반환\n",
    "df.loc[['a','b']]# a,b행의 모든열 df 형태로 반환\n",
    "df.loc[['a','b'],'B'] # a,b행의 B열을 시리즈 반환\n",
    "df.loc['a':'b','B']   # a,b행의 B열을 시리즈 반환\n",
    "df.loc['a':'b',['B','D']] # a,b행의 B,D열을 df로 반환\n",
    "df.loc[['a','b'],['B','D']] # a,b행의 B,D열을 df로 반환\n",
    "\n",
    "df.loc[:\"b\",\"B\":\"D\"]"
   ]
  },
  {
   "cell_type": "code",
   "execution_count": null,
   "id": "ce81d131",
   "metadata": {},
   "outputs": [],
   "source": [
    "# 5. a,c 행의 B,D열을 반환하시오.\n",
    "# df 데이터프레임의 a,c 행의 B,D열을 출력하시오.(df로 반환)\n",
    "df.loc[['a','c'],['B','D']]"
   ]
  },
  {
   "cell_type": "markdown",
   "id": "1f56d6ec",
   "metadata": {},
   "source": [
    "## 2. iloc 인덱서(위치 인덱스)\n",
    "- 라벨(name)이 아닌 위치를 나타내는 정수 인덱스만 받는다.\n",
    "- 위치 정수값은 0부터 시작\n",
    "- 데이터프레임.iloc[행,열]"
   ]
  },
  {
   "cell_type": "code",
   "execution_count": null,
   "id": "b1d66ecf",
   "metadata": {},
   "outputs": [],
   "source": [
    "df"
   ]
  },
  {
   "cell_type": "markdown",
   "id": "eceecc96",
   "metadata": {},
   "source": [
    "- 0행 1열 선택"
   ]
  },
  {
   "cell_type": "code",
   "execution_count": null,
   "id": "e8ef0725",
   "metadata": {},
   "outputs": [],
   "source": [
    "# 0행 1열\n",
    "df.iloc[0,1]"
   ]
  },
  {
   "cell_type": "markdown",
   "id": "e9dec658",
   "metadata": {},
   "source": [
    "- 1열의 0행,1행 선택 : 데이터프레임 형태로 반환"
   ]
  },
  {
   "cell_type": "code",
   "execution_count": null,
   "id": "4c436f82",
   "metadata": {},
   "outputs": [],
   "source": [
    "# 0행 1열 : df 형태로 반환-슬라이싱 사용\n",
    "df.iloc[0:2,1:2]"
   ]
  },
  {
   "cell_type": "markdown",
   "id": "b9122ca1",
   "metadata": {},
   "source": [
    "- 1열의 0행,1행 선택 : 시리즈 형태로 반환"
   ]
  },
  {
   "cell_type": "code",
   "execution_count": null,
   "id": "2a8b7d76",
   "metadata": {},
   "outputs": [],
   "source": [
    "# 0행 1열: 시리즈 형태로 반환 - 슬라이싱,위치값 사용\n",
    "df.iloc[0:2,1]"
   ]
  },
  {
   "cell_type": "markdown",
   "id": "0f32f475",
   "metadata": {},
   "source": [
    "- 0행의 2번째 열부터 끝열까지 반환"
   ]
  },
  {
   "cell_type": "code",
   "execution_count": null,
   "id": "d0f5db18",
   "metadata": {},
   "outputs": [],
   "source": [
    "# 0행의 2번째열부터 끝열까지 반환\n",
    "df.iloc[0,2:]"
   ]
  },
  {
   "cell_type": "code",
   "execution_count": null,
   "id": "f8773f4e",
   "metadata": {},
   "outputs": [],
   "source": [
    "# 0행의 끝에서 두번째 열 이후 까지 반환\n",
    "df\n",
    "df.iloc[0, -2:]  # 시리즈 형태로 반환\n",
    "df.iloc[0:1, -2:] # 데이터프레임 형태로 반환"
   ]
  },
  {
   "cell_type": "markdown",
   "id": "7f58e36a",
   "metadata": {},
   "source": [
    "- iloc[행위치,열위치] -> 원소값 반환\n",
    "- iloc[행위치1:행위치2,열위치1:열위치2] -> 원소 반환: df 반환\n",
    "- iloc[행위치,열위치1:열위치2] -> 원소반환 :시리즈 반환\n",
    "- iloc[행위치1:행위치2,열위치]->원소반환 : 시리즈 반환"
   ]
  },
  {
   "cell_type": "markdown",
   "id": "4afd8ae6",
   "metadata": {},
   "source": [
    "### 연습문제\n",
    "\n",
    "1. 모든 행과 열에 라벨을 가지는 5*5 이상 크기의 데이터 프레임을 만든다.\n",
    "    * 최대한 간단한 코드로 작성 -np의 난수 발생 함수 이용\n",
    "\n",
    "\n",
    "2. 10가지 이상의 방법으로 특정한 행과 열을 추출해볼 것\n",
    "    * 2번 작업을 진행하면서 주석으로 추출하는 내용을 정리할 것\n",
    "\n",
    "* 25, 50 범위의 숫자를 생성한 후 5행 5열로 배치"
   ]
  },
  {
   "cell_type": "code",
   "execution_count": 42,
   "id": "4d6389fd",
   "metadata": {},
   "outputs": [
    {
     "data": {
      "text/html": [
       "<div>\n",
       "<style scoped>\n",
       "    .dataframe tbody tr th:only-of-type {\n",
       "        vertical-align: middle;\n",
       "    }\n",
       "\n",
       "    .dataframe tbody tr th {\n",
       "        vertical-align: top;\n",
       "    }\n",
       "\n",
       "    .dataframe thead th {\n",
       "        text-align: right;\n",
       "    }\n",
       "</style>\n",
       "<table border=\"1\" class=\"dataframe\">\n",
       "  <thead>\n",
       "    <tr style=\"text-align: right;\">\n",
       "      <th></th>\n",
       "      <th>A</th>\n",
       "      <th>B</th>\n",
       "      <th>C</th>\n",
       "      <th>D</th>\n",
       "      <th>E</th>\n",
       "    </tr>\n",
       "  </thead>\n",
       "  <tbody>\n",
       "    <tr>\n",
       "      <th>a</th>\n",
       "      <td>25</td>\n",
       "      <td>26</td>\n",
       "      <td>27</td>\n",
       "      <td>28</td>\n",
       "      <td>29</td>\n",
       "    </tr>\n",
       "    <tr>\n",
       "      <th>b</th>\n",
       "      <td>30</td>\n",
       "      <td>31</td>\n",
       "      <td>32</td>\n",
       "      <td>33</td>\n",
       "      <td>34</td>\n",
       "    </tr>\n",
       "    <tr>\n",
       "      <th>c</th>\n",
       "      <td>35</td>\n",
       "      <td>36</td>\n",
       "      <td>37</td>\n",
       "      <td>38</td>\n",
       "      <td>39</td>\n",
       "    </tr>\n",
       "    <tr>\n",
       "      <th>d</th>\n",
       "      <td>40</td>\n",
       "      <td>41</td>\n",
       "      <td>42</td>\n",
       "      <td>43</td>\n",
       "      <td>44</td>\n",
       "    </tr>\n",
       "    <tr>\n",
       "      <th>e</th>\n",
       "      <td>45</td>\n",
       "      <td>46</td>\n",
       "      <td>47</td>\n",
       "      <td>48</td>\n",
       "      <td>49</td>\n",
       "    </tr>\n",
       "  </tbody>\n",
       "</table>\n",
       "</div>"
      ],
      "text/plain": [
       "    A   B   C   D   E\n",
       "a  25  26  27  28  29\n",
       "b  30  31  32  33  34\n",
       "c  35  36  37  38  39\n",
       "d  40  41  42  43  44\n",
       "e  45  46  47  48  49"
      ]
     },
     "execution_count": 42,
     "metadata": {},
     "output_type": "execute_result"
    }
   ],
   "source": [
    "# 1번\n",
    "\n",
    "df=pd.DataFrame(np.arange(25,50).reshape(5,5),\n",
    "                index='a b c d e'.split(),\n",
    "                columns = 'A B C D E'.split())\n",
    "df"
   ]
  },
  {
   "cell_type": "code",
   "execution_count": 43,
   "id": "cf1ad0ef",
   "metadata": {},
   "outputs": [
    {
     "data": {
      "text/plain": [
       "a    25\n",
       "b    30\n",
       "c    35\n",
       "d    40\n",
       "e    45\n",
       "Name: A, dtype: int32"
      ]
     },
     "execution_count": 43,
     "metadata": {},
     "output_type": "execute_result"
    }
   ],
   "source": [
    "# 2번\n",
    "\n",
    "# A열 추출\n",
    "df['A']        # 시리즈형태\n",
    "df.loc[:]['A'] # 시리즈형태\n",
    "df.loc[:,:'A'] # 데이터프레임 형태\n",
    "df.iloc[:,:1]  # 데이터프레임 형태\n",
    "df.iloc[:,0]   # 시리즈형태"
   ]
  },
  {
   "cell_type": "code",
   "execution_count": 44,
   "id": "d9f80e4a",
   "metadata": {},
   "outputs": [
    {
     "data": {
      "text/html": [
       "<div>\n",
       "<style scoped>\n",
       "    .dataframe tbody tr th:only-of-type {\n",
       "        vertical-align: middle;\n",
       "    }\n",
       "\n",
       "    .dataframe tbody tr th {\n",
       "        vertical-align: top;\n",
       "    }\n",
       "\n",
       "    .dataframe thead th {\n",
       "        text-align: right;\n",
       "    }\n",
       "</style>\n",
       "<table border=\"1\" class=\"dataframe\">\n",
       "  <thead>\n",
       "    <tr style=\"text-align: right;\">\n",
       "      <th></th>\n",
       "      <th>A</th>\n",
       "      <th>B</th>\n",
       "      <th>C</th>\n",
       "      <th>D</th>\n",
       "      <th>E</th>\n",
       "    </tr>\n",
       "  </thead>\n",
       "  <tbody>\n",
       "    <tr>\n",
       "      <th>a</th>\n",
       "      <td>25</td>\n",
       "      <td>26</td>\n",
       "      <td>27</td>\n",
       "      <td>28</td>\n",
       "      <td>29</td>\n",
       "    </tr>\n",
       "    <tr>\n",
       "      <th>b</th>\n",
       "      <td>30</td>\n",
       "      <td>31</td>\n",
       "      <td>32</td>\n",
       "      <td>33</td>\n",
       "      <td>34</td>\n",
       "    </tr>\n",
       "    <tr>\n",
       "      <th>c</th>\n",
       "      <td>35</td>\n",
       "      <td>36</td>\n",
       "      <td>37</td>\n",
       "      <td>38</td>\n",
       "      <td>39</td>\n",
       "    </tr>\n",
       "  </tbody>\n",
       "</table>\n",
       "</div>"
      ],
      "text/plain": [
       "    A   B   C   D   E\n",
       "a  25  26  27  28  29\n",
       "b  30  31  32  33  34\n",
       "c  35  36  37  38  39"
      ]
     },
     "execution_count": 44,
     "metadata": {},
     "output_type": "execute_result"
    }
   ],
   "source": [
    "# 0행부터 2행까지 추출\n",
    "df[0:3]\n",
    "df.loc['a':'c']\n",
    "df.iloc[:3, :]"
   ]
  },
  {
   "cell_type": "code",
   "execution_count": 45,
   "id": "f7f2c500",
   "metadata": {},
   "outputs": [
    {
     "data": {
      "text/html": [
       "<div>\n",
       "<style scoped>\n",
       "    .dataframe tbody tr th:only-of-type {\n",
       "        vertical-align: middle;\n",
       "    }\n",
       "\n",
       "    .dataframe tbody tr th {\n",
       "        vertical-align: top;\n",
       "    }\n",
       "\n",
       "    .dataframe thead th {\n",
       "        text-align: right;\n",
       "    }\n",
       "</style>\n",
       "<table border=\"1\" class=\"dataframe\">\n",
       "  <thead>\n",
       "    <tr style=\"text-align: right;\">\n",
       "      <th></th>\n",
       "      <th>D</th>\n",
       "      <th>E</th>\n",
       "    </tr>\n",
       "  </thead>\n",
       "  <tbody>\n",
       "    <tr>\n",
       "      <th>b</th>\n",
       "      <td>33</td>\n",
       "      <td>34</td>\n",
       "    </tr>\n",
       "  </tbody>\n",
       "</table>\n",
       "</div>"
      ],
      "text/plain": [
       "    D   E\n",
       "b  33  34"
      ]
     },
     "execution_count": 45,
     "metadata": {},
     "output_type": "execute_result"
    }
   ],
   "source": [
    "# 1행의 3, 4열 추출\n",
    "df.iloc[[1],[3,4]]\n",
    "df[['D', 'E']][1:2]"
   ]
  },
  {
   "cell_type": "code",
   "execution_count": 49,
   "id": "6d55b281",
   "metadata": {},
   "outputs": [
    {
     "data": {
      "text/html": [
       "<div>\n",
       "<style scoped>\n",
       "    .dataframe tbody tr th:only-of-type {\n",
       "        vertical-align: middle;\n",
       "    }\n",
       "\n",
       "    .dataframe tbody tr th {\n",
       "        vertical-align: top;\n",
       "    }\n",
       "\n",
       "    .dataframe thead th {\n",
       "        text-align: right;\n",
       "    }\n",
       "</style>\n",
       "<table border=\"1\" class=\"dataframe\">\n",
       "  <thead>\n",
       "    <tr style=\"text-align: right;\">\n",
       "      <th></th>\n",
       "      <th>B</th>\n",
       "      <th>D</th>\n",
       "    </tr>\n",
       "  </thead>\n",
       "  <tbody>\n",
       "    <tr>\n",
       "      <th>a</th>\n",
       "      <td>26</td>\n",
       "      <td>28</td>\n",
       "    </tr>\n",
       "    <tr>\n",
       "      <th>b</th>\n",
       "      <td>31</td>\n",
       "      <td>33</td>\n",
       "    </tr>\n",
       "    <tr>\n",
       "      <th>c</th>\n",
       "      <td>36</td>\n",
       "      <td>38</td>\n",
       "    </tr>\n",
       "    <tr>\n",
       "      <th>d</th>\n",
       "      <td>41</td>\n",
       "      <td>43</td>\n",
       "    </tr>\n",
       "  </tbody>\n",
       "</table>\n",
       "</div>"
      ],
      "text/plain": [
       "    B   D\n",
       "a  26  28\n",
       "b  31  33\n",
       "c  36  38\n",
       "d  41  43"
      ]
     },
     "execution_count": 49,
     "metadata": {},
     "output_type": "execute_result"
    }
   ],
   "source": [
    "# a행에서 c행까지 총 B열과 D열 추출\n",
    "df.loc['a':'c'][['B','D']]\n",
    "df.loc['a':'c', ['B','D']]\n",
    "df.iloc[0:3, [1, 3]]\n",
    "df.iloc[:4, [1, 3]]"
   ]
  },
  {
   "cell_type": "code",
   "execution_count": null,
   "id": "982377f3",
   "metadata": {},
   "outputs": [],
   "source": [
    "# 인덱싱 예제\n",
    "df[\"A\"] #열 라벨 인덱싱, A열을 추출 - 시리즈\n",
    "df[0:3] #0행부터 2행까지 추출-슬라이싱 사용(행인덱싱)\n",
    "df[\"A\"][\"a\"] #열행 인덱싱 - 원소값 a행 A열-열우선인덱싱\n",
    "df.iloc[1,3:]#1행의 3,4열(D,E열)\n",
    "df.loc[\"a\":\"c\",\"B\":\"D\"] #df로 반환(행,열 모두 슬라이싱처리)\n",
    "df.iloc[-2:]#끝에서 두번째 행부터 마지막행까지 - df로 반환\n",
    "df.loc[\"a\",\"A\":\"B\"] #시리즈로 반환\n",
    "df.loc[\"a\":\"a\",\"A\":\"B\"]#df로 반환\n",
    "df.iloc[-2:,-2:] #행,열 슬라이싱 처리 -df 형태로 나타남\n",
    "df[:\"b\"][\"A\"] #시리즈 출력\n",
    "df[:\"b\"][[\"A\"]] #df 출력"
   ]
  },
  {
   "cell_type": "markdown",
   "id": "068dd4ad",
   "metadata": {},
   "source": [
    "## 원소 갯수 세기\n",
    "\n",
    "- 원소들을 분류하여 갯수를 세는 함수 :  value_counts()"
   ]
  },
  {
   "cell_type": "code",
   "execution_count": null,
   "id": "e97787ad",
   "metadata": {},
   "outputs": [],
   "source": [
    "df = pd.DataFrame({'num_legs': [2, 4, 4, 6],\n",
    "                   'num_wings': [2, 0, 0, 0]},\n",
    "                  index=['falcon', 'dog', 'cat', 'ant'])\n",
    "df"
   ]
  },
  {
   "cell_type": "code",
   "execution_count": null,
   "id": "a2ca85f3",
   "metadata": {},
   "outputs": [],
   "source": [
    "df.value_counts()"
   ]
  }
 ],
 "metadata": {
  "kernelspec": {
   "display_name": "Python 3",
   "language": "python",
   "name": "python3"
  },
  "language_info": {
   "codemirror_mode": {
    "name": "ipython",
    "version": 3
   },
   "file_extension": ".py",
   "mimetype": "text/x-python",
   "name": "python",
   "nbconvert_exporter": "python",
   "pygments_lexer": "ipython3",
   "version": "3.8.8"
  }
 },
 "nbformat": 4,
 "nbformat_minor": 5
}
