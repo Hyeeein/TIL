{
 "cells": [
  {
   "cell_type": "markdown",
   "metadata": {},
   "source": [
    "## 데이터 분석 Python 라이브러리\n",
    "\n",
    "- Matplotlib (1~6번 해당 내용) -> 확장해서 만든 것이 seaborn\n",
    "- Numpy (7번)\n",
    "- Pandas (8번)"
   ]
  },
  {
   "cell_type": "markdown",
   "metadata": {},
   "source": [
    "## Numpy\n",
    "\n",
    "* 'Numerical Python'의 줄임말\n",
    "\n",
    "\n",
    "* 고성능의 과학 계산 컴퓨팅과 데이터 분석에 필요한 라이브러리\n",
    "    - 튜토리얼 : https://numpy.org/devdocs/user/quickstart.html\n",
    "\n",
    "\n",
    "* 행렬, 수치 계산 등 **수치 데이터**를 다루기 쉽게 도와줌\n",
    "    - 다차원 배열 구조인 ndarray를 이용하여, 행렬/벡터 및 수치 연산을 빠르게 하는 것이 핵심\n",
    "    - list와 numpy array의 연산 속도 차이는 30~40배까지 나기도 함 (C언어로 구현된 파이썬 라이브러리)\n",
    "\n",
    "\n",
    "* **데이터의 크기가 커질수록 numpy는 필수**"
   ]
  },
  {
   "cell_type": "markdown",
   "metadata": {},
   "source": [
    "### 차원 (Dimention)\n",
    "\n",
    "* 중첩리스트 : 리스트 안의 리스트 (중첩된 정도를 구분하기 위해 '차원'이라는 단위 사용)\n",
    "    - 일반적인 리스트는 중첩 데이터를 처리하는 게 느리고 복잡하므로, numpy 라이브러리를 사용"
   ]
  },
  {
   "cell_type": "markdown",
   "metadata": {},
   "source": [
    "## np.array()\n",
    "\n",
    "* 리스트, 튜플, 배열로부터 ndarray 생성\n",
    "* 배열의 차원 및 크기 확인 : *ndim 및 shape 속성 활용*"
   ]
  },
  {
   "cell_type": "code",
   "execution_count": 7,
   "metadata": {},
   "outputs": [
    {
     "data": {
      "text/plain": [
       "'1.21.5'"
      ]
     },
     "execution_count": 7,
     "metadata": {},
     "output_type": "execute_result"
    }
   ],
   "source": [
    "# numpy 라이브러리 import 하기\n",
    "import numpy as np\n",
    "\n",
    "# numpy 버전 확인\n",
    "np.__version__"
   ]
  },
  {
   "cell_type": "code",
   "execution_count": 2,
   "metadata": {},
   "outputs": [
    {
     "name": "stdout",
     "output_type": "stream",
     "text": [
      "<class 'numpy.ndarray'>\n",
      "[1 2 3 4 5]\n"
     ]
    }
   ],
   "source": [
    "# 1차원 배열 생성\n",
    "a = np.array([1, 2, 3, 4, 5])\n",
    "print(type(a))\n",
    "print(a)"
   ]
  },
  {
   "cell_type": "code",
   "execution_count": 3,
   "metadata": {},
   "outputs": [
    {
     "name": "stdout",
     "output_type": "stream",
     "text": [
      "<class 'numpy.ndarray'>\n",
      "[[1 2 3]\n",
      " [4 5 6]]\n",
      "<class 'numpy.ndarray'>\n",
      "[[1 2 3]\n",
      " [4 5 6]]\n"
     ]
    }
   ],
   "source": [
    "# 2차원 배열 생성\n",
    "b = np.array([[1, 2, 3], [4, 5, 6]])\n",
    "print(type(b))\n",
    "print(b)\n",
    "\n",
    "# 변수를 사용해 2차원 배열 생성\n",
    "i_list = [[1, 2, 3], [4, 5, 6]]\n",
    "b = np.array(i_list)\n",
    "print(type(b))\n",
    "print(b)"
   ]
  },
  {
   "cell_type": "code",
   "execution_count": 5,
   "metadata": {},
   "outputs": [
    {
     "name": "stdout",
     "output_type": "stream",
     "text": [
      "2\n",
      "(2, 3)\n",
      "---------\n",
      "1\n",
      "(5,)\n"
     ]
    }
   ],
   "source": [
    "# 배열의 차원 및 크기 확인 : ndim, shape 속성 사용\n",
    "print(b.ndim)\n",
    "print(b.shape)\n",
    "\n",
    "print('---------')\n",
    "\n",
    "print(a.ndim)\n",
    "print(a.shape)"
   ]
  },
  {
   "cell_type": "markdown",
   "metadata": {},
   "source": [
    "## ndarray 초기화 방법 (ndarray 제외)"
   ]
  },
  {
   "cell_type": "markdown",
   "metadata": {},
   "source": [
    "1. np.zeros(shape=(a, b)) 혹은 np.zeros((a, b)): 모든 값이 0인 a x b 크기의 배열 생성\n",
    "    - np.zeros(shape, dtype=float, order='C')\n",
    "    - 여기서 dtype과 order은 따로 지정하지 않아도 default값이 존재\n",
    "    - https://numpy.org/doc/1.18/reference/generated/numpy.zeros.html"
   ]
  },
  {
   "cell_type": "code",
   "execution_count": 6,
   "metadata": {},
   "outputs": [
    {
     "data": {
      "text/plain": [
       "'1.21.5'"
      ]
     },
     "execution_count": 6,
     "metadata": {},
     "output_type": "execute_result"
    }
   ],
   "source": [
    "# 모든 값이 0인 2x3 배열 생성\n",
    "a = np.zeros((2, 3))\n",
    "a"
   ]
  },
  {
   "cell_type": "markdown",
   "metadata": {},
   "source": [
    "2. np.ones(shape=(a, b)) 혹은 np.ones((a, b)): 모든 값이 1인 a x b 크기의 배열 생성\n",
    "    - np.ones(shape, dtype=None, order='C')\n",
    "    - https://numpy.org/doc/1.18/reference/generated/numpy.ones.html"
   ]
  },
  {
   "cell_type": "code",
   "execution_count": 8,
   "metadata": {},
   "outputs": [
    {
     "data": {
      "text/plain": [
       "array([[1., 1., 1.],\n",
       "       [1., 1., 1.]])"
      ]
     },
     "execution_count": 8,
     "metadata": {},
     "output_type": "execute_result"
    }
   ],
   "source": [
    "# 모든 값이 1인 2x3 배열 생성\n",
    "a = np.ones((2, 3))\n",
    "a"
   ]
  },
  {
   "cell_type": "markdown",
   "metadata": {},
   "source": [
    "3. np.full(shape=(a, b), fill_value=c) 혹은 np.full((a, b), c): 모든 값이 c인 axb 크기의 배열 생성\n",
    "    - numpy.full(shape, fill_value, dtype=None, order='C')\n",
    "    - https://numpy.org/doc/1.18/reference/generated/numpy.full.html"
   ]
  },
  {
   "cell_type": "code",
   "execution_count": 9,
   "metadata": {},
   "outputs": [
    {
     "data": {
      "text/plain": [
       "array([[5, 5, 5],\n",
       "       [5, 5, 5]])"
      ]
     },
     "execution_count": 9,
     "metadata": {},
     "output_type": "execute_result"
    }
   ],
   "source": [
    "# 모든 값이 5인 2x3 배열 생성\n",
    "a = np.full((2, 3), 5)\n",
    "a"
   ]
  },
  {
   "cell_type": "code",
   "execution_count": 10,
   "metadata": {},
   "outputs": [
    {
     "data": {
      "text/plain": [
       "array([[5, 5, 5],\n",
       "       [5, 5, 5]], dtype=int8)"
      ]
     },
     "execution_count": 10,
     "metadata": {},
     "output_type": "execute_result"
    }
   ],
   "source": [
    "# dtype 설정하기: np.int8\n",
    "b = np.full((2, 3), 5, dtype=np.int8)\n",
    "b"
   ]
  },
  {
   "cell_type": "code",
   "execution_count": 11,
   "metadata": {},
   "outputs": [
    {
     "data": {
      "text/plain": [
       "array([[5., 5., 5.],\n",
       "       [5., 5., 5.]])"
      ]
     },
     "execution_count": 11,
     "metadata": {},
     "output_type": "execute_result"
    }
   ],
   "source": [
    "# dtype 설정하기: np.float64\n",
    "c = np.full((2, 3), 5, dtype=np.float64)\n",
    "c"
   ]
  },
  {
   "cell_type": "code",
   "execution_count": 12,
   "metadata": {},
   "outputs": [
    {
     "data": {
      "text/plain": [
       "array([[1.5, 1.5, 1.5],\n",
       "       [1.5, 1.5, 1.5]])"
      ]
     },
     "execution_count": 12,
     "metadata": {},
     "output_type": "execute_result"
    }
   ],
   "source": [
    "# 모든 값이 1.5인 2x3 배열 생성\n",
    "d = np.full((2, 3), 1.5)\n",
    "d"
   ]
  },
  {
   "cell_type": "markdown",
   "metadata": {},
   "source": [
    "4. np.eye(a): 대각선 값은 1이고, 나머지는 0인 a x a 크기의 2차원 배열 생성\n",
    "    - 만약 np.eye(a, b)인 경우, a x b 크기의 2차원 배열 생성\n",
    "    - numpy.eye(N, M=None, k=0, dtype=<class 'float32'>, order='C')\n",
    "    - https://numpy.org/doc/1.18/reference/generated/numpy.eye.html"
   ]
  },
  {
   "cell_type": "code",
   "execution_count": 13,
   "metadata": {},
   "outputs": [
    {
     "data": {
      "text/plain": [
       "array([[1., 0., 0.],\n",
       "       [0., 1., 0.],\n",
       "       [0., 0., 1.]])"
      ]
     },
     "execution_count": 13,
     "metadata": {},
     "output_type": "execute_result"
    }
   ],
   "source": [
    "# 대각선 값은 1이고, 나머지는 0인 a x a 크기의 2차원 배열 생성\n",
    "a = np.eye(3)\n",
    "a"
   ]
  },
  {
   "cell_type": "code",
   "execution_count": 14,
   "metadata": {},
   "outputs": [
    {
     "data": {
      "text/plain": [
       "array([[1., 0., 0., 0.],\n",
       "       [0., 1., 0., 0.],\n",
       "       [0., 0., 1., 0.]])"
      ]
     },
     "execution_count": 14,
     "metadata": {},
     "output_type": "execute_result"
    }
   ],
   "source": [
    "# 대각선 값은 1이고 나머지는 0인 a x b 크기의 2차원 배열 생성\n",
    "a = np.eye(3, 4)\n",
    "a"
   ]
  },
  {
   "cell_type": "markdown",
   "metadata": {},
   "source": [
    "5. np.random.randn(a, b): 임의의 값으로 채워진 a x b 크기의 배열 생성\n",
    "    - numpy.random.randn(d0, d1, ..., dn)\n",
    "    - https://numpy.org/doc/1.18/reference/generated/numpy.random.randn.html"
   ]
  },
  {
   "cell_type": "code",
   "execution_count": 15,
   "metadata": {},
   "outputs": [
    {
     "data": {
      "text/plain": [
       "array([[-0.33670576,  0.46267686, -0.3398997 ],\n",
       "       [-1.84301866, -0.70532443, -0.30048977]])"
      ]
     },
     "execution_count": 15,
     "metadata": {},
     "output_type": "execute_result"
    }
   ],
   "source": [
    "# 임의의 값으로 채워진 a x b 크기의 배열 생성\n",
    "np.random.randn(2, 3)"
   ]
  },
  {
   "cell_type": "markdown",
   "metadata": {},
   "source": [
    "## 슬라이싱 (Slicing)\n",
    "\n",
    "* ndarray를 통해 만든 다차원 배열은 list처럼 슬라이스(Slice) 기능을 지원\n",
    "    - 이 기능을 활용하여 여러 개의 원소에 접근할 수 있음\n",
    "\n",
    "* 각 차원 별로 슬라이스 범위를 지정해줘야 함"
   ]
  },
  {
   "cell_type": "code",
   "execution_count": 16,
   "metadata": {},
   "outputs": [
    {
     "data": {
      "text/plain": [
       "array([1, 2])"
      ]
     },
     "execution_count": 16,
     "metadata": {},
     "output_type": "execute_result"
    }
   ],
   "source": [
    "a = np.array([1, 2, 3])\n",
    "b = a[0:2]\n",
    "b"
   ]
  },
  {
   "cell_type": "code",
   "execution_count": 17,
   "metadata": {},
   "outputs": [
    {
     "data": {
      "text/plain": [
       "array([[1, 2],\n",
       "       [4, 5]])"
      ]
     },
     "execution_count": 17,
     "metadata": {},
     "output_type": "execute_result"
    }
   ],
   "source": [
    "a = np.array([[1, 2, 3], [4, 5, 6]])\n",
    "b = a[0:2, 0:2]\n",
    "b"
   ]
  },
  {
   "cell_type": "markdown",
   "metadata": {},
   "source": [
    "## Numpy 연산\n",
    "\n",
    "* ndarray로 만든 자료형은 자유롭게 사칙연산이 가능\n",
    "    - 배열 간 연산을 손쉽게 수행할 수 있음\n",
    "    - +, -, *, / 연산자 사용 가능\n",
    "    - add(), substract(), multiply(), divide() 함수 사용"
   ]
  },
  {
   "cell_type": "code",
   "execution_count": 18,
   "metadata": {},
   "outputs": [],
   "source": [
    "a = np.array([1, 2, 3])\n",
    "b = np.array([4, 5, 6])"
   ]
  },
  {
   "cell_type": "code",
   "execution_count": 19,
   "metadata": {},
   "outputs": [
    {
     "data": {
      "text/plain": [
       "array([ 4, 10, 18])"
      ]
     },
     "execution_count": 19,
     "metadata": {},
     "output_type": "execute_result"
    }
   ],
   "source": [
    "# 동일한 인덱스에 위치한 요소끼리 곱셈\n",
    "# c = np.multiply(a, b)와 동일\n",
    "c = a * b\n",
    "c"
   ]
  },
  {
   "cell_type": "code",
   "execution_count": 20,
   "metadata": {},
   "outputs": [
    {
     "data": {
      "text/plain": [
       "array([0.25, 0.4 , 0.5 ])"
      ]
     },
     "execution_count": 20,
     "metadata": {},
     "output_type": "execute_result"
    }
   ],
   "source": [
    "# 동일한 인덱스에 위치한 요소끼리 나눗셈\n",
    "# c = np.divide(a, b)와 동일\n",
    "c = a / b\n",
    "c"
   ]
  },
  {
   "cell_type": "markdown",
   "metadata": {},
   "source": [
    "## Numpy array와 list의 차이"
   ]
  },
  {
   "cell_type": "markdown",
   "metadata": {},
   "source": [
    "1. 사칙 연산\n",
    "    - numpy array는 numpy array까리 사칙 연산이 가능하지만, python list는 **덧셈**만 가능\n",
    "        - numpy array + numpy array : 같은 인덱스에 있는 값들끼리 더해짐\n",
    "            - [1, 2, 3, 4, 5] + [1, 3, 5, 7, 9] = [2, 5, 8, 11, 14]\n",
    "        - list + list : 두 리스트의 값들이 한 리스트로 합쳐짐\n",
    "            - [1, 2, 3, 4, 5] + [1, 3, 5, 7, 9] = [1, 2, 3, 4, 5, 1, 3, 5, 7, 9]\n",
    "\n",
    "    - numpy array는 numpy array끼리 **뺄셈, 곱셈, 나눗셈** 가능 -> 같은 인덱스에 있는 값들끼리 연산\n",
    "        - But, python list는 list끼리 뺄셈, 곱셈, 나눗셈을 하면 **오류** 발생 !!"
   ]
  },
  {
   "cell_type": "markdown",
   "metadata": {},
   "source": [
    "2. Numpy array는 **array 전체에 연산**이 가능하지만, Python list는 **곱셈**만 가능\n",
    "    - Numpy array와 숫자의 연산: array에 들어있는 각 값에 연산이 적용됨\n",
    "    - Python list는 곱셉만 가능: array처럼 각 값에 곱을 해주는 것이 아닌, list의 요소를 해당 숫자만큼 반복"
   ]
  },
  {
   "cell_type": "markdown",
   "metadata": {},
   "source": [
    "3. 성능 차이\n",
    "\n",
    "    - Python list에 비해 문법이 간단하고, 성능이 뛰어남\n",
    "        - 예) 1억 개의 요소가 있는 기본 Python list에 곱하기 2를 하려면?\n",
    "            - 반복문을 1억 번 돌려야 함\n",
    "            - numpy array는 * 2만 붙여주면 됨\n",
    "    - 차이가 나는 이유? 값들이 저장되는 방식에 차이\n",
    "        - numpy array는 같은 자료형만 저장 가능\n",
    "        - python list는 다양한 자료형을 저장 가능"
   ]
  },
  {
   "cell_type": "markdown",
   "metadata": {},
   "source": [
    "### 결론\n",
    "\n",
    "* Numpy array : 수치 계산이 많고 복잡할 때, 혹은 행렬 같은 다차원 배열을 쓸 때 사용\n",
    "* Python list : 값을 추가하고 제거할 떄 사용"
   ]
  }
 ],
 "metadata": {
  "kernelspec": {
   "display_name": "Python 3 (ipykernel)",
   "language": "python",
   "name": "python3"
  },
  "language_info": {
   "codemirror_mode": {
    "name": "ipython",
    "version": 3
   },
   "file_extension": ".py",
   "mimetype": "text/x-python",
   "name": "python",
   "nbconvert_exporter": "python",
   "pygments_lexer": "ipython3",
   "version": "3.9.12"
  },
  "vscode": {
   "interpreter": {
    "hash": "c638347e88009a0d44f6e45de08008756b57d34d065fea7b6e15509fa1413ec3"
   }
  }
 },
 "nbformat": 4,
 "nbformat_minor": 2
}
