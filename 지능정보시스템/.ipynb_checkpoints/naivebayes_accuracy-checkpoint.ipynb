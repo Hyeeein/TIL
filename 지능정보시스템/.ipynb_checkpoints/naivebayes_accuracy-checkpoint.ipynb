{
 "cells": [
  {
   "cell_type": "markdown",
   "id": "4e9cc3c1",
   "metadata": {},
   "source": [
    "## 2022년 11월 30일 (수) 실습 1\n",
    "\n",
    "`인천대학교 경제학과 201900740 박혜인`"
   ]
  },
  {
   "cell_type": "code",
   "execution_count": 1,
   "id": "bc5c9343",
   "metadata": {},
   "outputs": [
    {
     "data": {
      "text/plain": [
       "('ratings_test.txt', <http.client.HTTPMessage at 0x20d774e0880>)"
      ]
     },
     "execution_count": 1,
     "metadata": {},
     "output_type": "execute_result"
    }
   ],
   "source": [
    "import urllib\n",
    "\n",
    "urllib.request.urlretrieve(\"https://raw.githubusercontent.com/e9t/nsmc/master/ratings_train.txt\", filename=\"ratings_train.txt\")\n",
    "urllib.request.urlretrieve(\"https://raw.githubusercontent.com/e9t/nsmc/master/ratings_test.txt\", filename=\"ratings_test.txt\")"
   ]
  },
  {
   "cell_type": "code",
   "execution_count": 2,
   "id": "35d1c43b",
   "metadata": {},
   "outputs": [],
   "source": [
    "from nltk.tokenize import word_tokenize\n",
    "import nltk\n",
    "\n",
    "from konlpy.tag import Okt\n",
    "okt = Okt()"
   ]
  },
  {
   "cell_type": "code",
   "execution_count": 140,
   "id": "843245e5",
   "metadata": {},
   "outputs": [],
   "source": [
    "def load_data(filename):\n",
    "    train = []\n",
    "    with open(filename, 'r', encoding='utf-8') as f:\n",
    "        count = 0\n",
    "        for line in f.readlines():\n",
    "            if count == 1000: break\n",
    "            count += 1\n",
    "\n",
    "            line = line.strip()\n",
    "            id, document, label = line.split('\\t')\n",
    "            if label == '1': label = 'pos'\n",
    "            else: label = 'neg'    \n",
    "            train_tup = (document, label)\n",
    "            train.append(train_tup)\n",
    "    return train"
   ]
  },
  {
   "cell_type": "code",
   "execution_count": 4,
   "id": "3ff7f217",
   "metadata": {},
   "outputs": [],
   "source": [
    "def pos_tokenize(raw_sent):\n",
    "    pos_sent = []\n",
    "    \n",
    "    sent = okt.pos(raw_sent, norm=True, stem=True)\n",
    "    for tup in sent:\n",
    "        word, tag = tup\n",
    "        word_tag = word + '/' + tag\n",
    "        pos_sent.append(word_tag)\n",
    "       \n",
    "    return ' '.join(pos_sent) "
   ]
  },
  {
   "cell_type": "code",
   "execution_count": 5,
   "id": "af0a1238",
   "metadata": {},
   "outputs": [],
   "source": [
    "def make_word_dict(train, use_morph=False):\n",
    "    all_words = set()\n",
    "    for tup in train:\n",
    "        sent, label = tup\n",
    "        if use_morph: sent = pos_tokenize(sent)\n",
    "        word_list = word_tokenize(sent)\n",
    "        for word in word_list:\n",
    "            all_words.add(word)\n",
    "    \n",
    "    return all_words"
   ]
  },
  {
   "cell_type": "code",
   "execution_count": 6,
   "id": "a8b4d575",
   "metadata": {},
   "outputs": [],
   "source": [
    "def make_train_feats(train, all_words, use_morph=False):\n",
    "    train_features = []\n",
    "    for tup in train:\n",
    "        sent, label = tup # sent:'I like you' label: 'pos'\n",
    "        if use_morph: sent = pos_tokenize(sent)\n",
    "        word_list = word_tokenize(sent) # ['I', like, you]\n",
    "        tmp = {set_word: set_word in word_list for set_word in all_words}\n",
    "        train_feature = (tmp, label)\n",
    "        train_features.append(train_feature)\n",
    "    \n",
    "    return train_features"
   ]
  },
  {
   "cell_type": "markdown",
   "id": "7057feaf",
   "metadata": {},
   "source": [
    "## Training"
   ]
  },
  {
   "cell_type": "code",
   "execution_count": 141,
   "id": "5d2c4ed1",
   "metadata": {},
   "outputs": [],
   "source": [
    "train = load_data('ratings_train.txt')[1:]"
   ]
  },
  {
   "cell_type": "code",
   "execution_count": 149,
   "id": "2c2ea0c2",
   "metadata": {},
   "outputs": [],
   "source": [
    "all_words = make_word_dict(train, use_morph=True)"
   ]
  },
  {
   "cell_type": "code",
   "execution_count": 150,
   "id": "2716e2dc",
   "metadata": {},
   "outputs": [],
   "source": [
    "train_features = make_train_feats(train, all_words, use_morph=True)"
   ]
  },
  {
   "cell_type": "code",
   "execution_count": 151,
   "id": "ddfa998f",
   "metadata": {},
   "outputs": [],
   "source": [
    "classifier = nltk.NaiveBayesClassifier.train(train_features)"
   ]
  },
  {
   "cell_type": "code",
   "execution_count": 152,
   "id": "c0fd42b3",
   "metadata": {},
   "outputs": [
    {
     "name": "stdout",
     "output_type": "stream",
     "text": [
      "Most Informative Features\n",
      "                쓰레기/Noun = True              neg : pos    =     11.9 : 1.0\n",
      "                 인생/Noun = True              pos : neg    =     10.0 : 1.0\n",
      "                 최고/Noun = True              pos : neg    =      9.5 : 1.0\n",
      "           괜찮다/Adjective = True              pos : neg    =      8.6 : 1.0\n",
      "                       ; = True              neg : pos    =      8.3 : 1.0\n",
      "          재미없다/Adjective = True              neg : pos    =      8.1 : 1.0\n",
      "       ㅡㅡ/KoreanParticle = True              neg : pos    =      8.1 : 1.0\n",
      "           아깝다/Adjective = True              neg : pos    =      7.6 : 1.0\n",
      "          지루하다/Adjective = True              neg : pos    =      7.5 : 1.0\n",
      "           재밌다/Adjective = True              pos : neg    =      7.5 : 1.0\n"
     ]
    }
   ],
   "source": [
    "classifier.show_most_informative_features(n=10)"
   ]
  },
  {
   "cell_type": "markdown",
   "id": "8ca50fff",
   "metadata": {},
   "source": [
    "## Test"
   ]
  },
  {
   "cell_type": "code",
   "execution_count": 12,
   "id": "2c5bbc0c",
   "metadata": {},
   "outputs": [],
   "source": [
    "test = load_data('ratings_test.txt')[1:]"
   ]
  },
  {
   "cell_type": "code",
   "execution_count": 13,
   "id": "46d6aa84",
   "metadata": {},
   "outputs": [],
   "source": [
    "test_features = make_train_feats(test, all_words, use_morph=False)"
   ]
  },
  {
   "cell_type": "code",
   "execution_count": 14,
   "id": "7ad0039f",
   "metadata": {},
   "outputs": [
    {
     "data": {
      "text/plain": [
       "'pos'"
      ]
     },
     "execution_count": 14,
     "metadata": {},
     "output_type": "execute_result"
    }
   ],
   "source": [
    "classifier.classify(test_features[0][0])"
   ]
  },
  {
   "cell_type": "markdown",
   "id": "71d0e960",
   "metadata": {},
   "source": [
    "---"
   ]
  },
  {
   "cell_type": "markdown",
   "id": "fe48f9a0",
   "metadata": {},
   "source": [
    "## 실습 1\n",
    "\n",
    "* count는 500"
   ]
  },
  {
   "cell_type": "markdown",
   "id": "3bbfb897",
   "metadata": {},
   "source": [
    "### (1) use_morph가 True인 경우"
   ]
  },
  {
   "cell_type": "code",
   "execution_count": 124,
   "id": "ef8e8ad0",
   "metadata": {},
   "outputs": [],
   "source": [
    "test = load_data('ratings_test.txt')"
   ]
  },
  {
   "cell_type": "code",
   "execution_count": 125,
   "id": "af14d5f2",
   "metadata": {},
   "outputs": [],
   "source": [
    "test_features = make_train_feats(test, all_words, use_morph=True)"
   ]
  },
  {
   "cell_type": "code",
   "execution_count": 126,
   "id": "4f1759f6",
   "metadata": {},
   "outputs": [
    {
     "data": {
      "text/plain": [
       "0.714"
      ]
     },
     "execution_count": 126,
     "metadata": {},
     "output_type": "execute_result"
    }
   ],
   "source": [
    "nltk.classify.accuracy(classifier, test_features)"
   ]
  },
  {
   "cell_type": "markdown",
   "id": "892195ce",
   "metadata": {},
   "source": [
    "`use_morph가 True일 때, 분류기의 정확도는 0.714로, 71.4%가 나왔다`"
   ]
  },
  {
   "cell_type": "markdown",
   "id": "7c11a90b",
   "metadata": {},
   "source": [
    "### (2) use_morph가 False인 경우"
   ]
  },
  {
   "cell_type": "code",
   "execution_count": 134,
   "id": "674b8d3c",
   "metadata": {},
   "outputs": [],
   "source": [
    "test = load_data('ratings_test.txt')"
   ]
  },
  {
   "cell_type": "code",
   "execution_count": 135,
   "id": "b4edb562",
   "metadata": {},
   "outputs": [],
   "source": [
    "test_features = make_train_feats(test, all_words, use_morph=False)"
   ]
  },
  {
   "cell_type": "code",
   "execution_count": 136,
   "id": "148e180b",
   "metadata": {},
   "outputs": [
    {
     "data": {
      "text/plain": [
       "0.642"
      ]
     },
     "execution_count": 136,
     "metadata": {},
     "output_type": "execute_result"
    }
   ],
   "source": [
    "nltk.classify.accuracy(classifier, test_features)"
   ]
  },
  {
   "cell_type": "markdown",
   "id": "b4563787",
   "metadata": {},
   "source": [
    "`use_morph가 False일 때, 분류기의 정확도는 0.642로, 64.2%가 나왔다`"
   ]
  },
  {
   "cell_type": "markdown",
   "id": "3f65e7f7",
   "metadata": {},
   "source": [
    "## 실습 2"
   ]
  },
  {
   "cell_type": "markdown",
   "id": "b67e5552",
   "metadata": {},
   "source": [
    "### (1) use_morph가 True인 경우"
   ]
  },
  {
   "cell_type": "code",
   "execution_count": 153,
   "id": "207cf73c",
   "metadata": {},
   "outputs": [],
   "source": [
    "test = load_data('ratings_test.txt')"
   ]
  },
  {
   "cell_type": "code",
   "execution_count": 154,
   "id": "374cb6e0",
   "metadata": {},
   "outputs": [],
   "source": [
    "test_features = make_train_feats(test, all_words, use_morph=True)"
   ]
  },
  {
   "cell_type": "code",
   "execution_count": 129,
   "id": "a9267a9f",
   "metadata": {},
   "outputs": [
    {
     "data": {
      "text/plain": [
       "0.714"
      ]
     },
     "execution_count": 129,
     "metadata": {},
     "output_type": "execute_result"
    }
   ],
   "source": [
    "# count 값 500\n",
    "nltk.classify.accuracy(classifier, test_features)"
   ]
  },
  {
   "cell_type": "code",
   "execution_count": 155,
   "id": "7cebf3ef",
   "metadata": {},
   "outputs": [
    {
     "data": {
      "text/plain": [
       "0.774"
      ]
     },
     "execution_count": 155,
     "metadata": {},
     "output_type": "execute_result"
    }
   ],
   "source": [
    "# count 값 1000\n",
    "nltk.classify.accuracy(classifier, test_features)"
   ]
  },
  {
   "cell_type": "markdown",
   "id": "81eb7192",
   "metadata": {},
   "source": [
    "### 결과\n",
    "\n",
    "- count값이 500일 때, 정확도는 0.714\n",
    "- count값이 1000일 때, 정확도는 0.774"
   ]
  },
  {
   "cell_type": "markdown",
   "id": "af4edcc7",
   "metadata": {},
   "source": [
    "### (2) use_morph가 False인 경우"
   ]
  },
  {
   "cell_type": "code",
   "execution_count": 146,
   "id": "4e453842",
   "metadata": {},
   "outputs": [],
   "source": [
    "test = load_data('ratings_test.txt')"
   ]
  },
  {
   "cell_type": "code",
   "execution_count": 147,
   "id": "ff926067",
   "metadata": {},
   "outputs": [],
   "source": [
    "test_features = make_train_feats(test, all_words, use_morph=False)"
   ]
  },
  {
   "cell_type": "code",
   "execution_count": 139,
   "id": "75bfbfdb",
   "metadata": {},
   "outputs": [
    {
     "data": {
      "text/plain": [
       "0.642"
      ]
     },
     "execution_count": 139,
     "metadata": {},
     "output_type": "execute_result"
    }
   ],
   "source": [
    "# count 값 500\n",
    "nltk.classify.accuracy(classifier, test_features)"
   ]
  },
  {
   "cell_type": "code",
   "execution_count": 148,
   "id": "04c57867",
   "metadata": {},
   "outputs": [
    {
     "data": {
      "text/plain": [
       "0.666"
      ]
     },
     "execution_count": 148,
     "metadata": {},
     "output_type": "execute_result"
    }
   ],
   "source": [
    "# count 값 1000\n",
    "nltk.classify.accuracy(classifier, test_features)"
   ]
  },
  {
   "cell_type": "markdown",
   "id": "be755c0b",
   "metadata": {},
   "source": [
    "### 결과\n",
    "\n",
    "- count값이 500일 때, 정확도는 0.642\n",
    "- count값이 1000일 때, 정확도는 0.666"
   ]
  }
 ],
 "metadata": {
  "kernelspec": {
   "display_name": "Python 3 (ipykernel)",
   "language": "python",
   "name": "python3"
  },
  "language_info": {
   "codemirror_mode": {
    "name": "ipython",
    "version": 3
   },
   "file_extension": ".py",
   "mimetype": "text/x-python",
   "name": "python",
   "nbconvert_exporter": "python",
   "pygments_lexer": "ipython3",
   "version": "3.9.12"
  }
 },
 "nbformat": 4,
 "nbformat_minor": 5
}
