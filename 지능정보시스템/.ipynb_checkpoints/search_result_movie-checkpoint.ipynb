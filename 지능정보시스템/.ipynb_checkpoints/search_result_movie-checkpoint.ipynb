{
 "cells": [
  {
   "cell_type": "markdown",
   "id": "556edd67",
   "metadata": {},
   "source": [
    "## 2022년 12월 7일 실습 2\n",
    "\n",
    "`인천대학교 경제학과 201900740 박혜인`"
   ]
  },
  {
   "cell_type": "code",
   "execution_count": 12,
   "id": "7e6cccb2",
   "metadata": {},
   "outputs": [],
   "source": [
    "# 네이버 검색 API 예제 - 블로그 검색\n",
    "import os\n",
    "import sys\n",
    "import urllib.request\n",
    "import json\n",
    "\n",
    "client_id = \"RGdtUWOtQmyNw9_HPSdT\"\n",
    "client_secret = \"4jkUTNCNea\"\n",
    "encText = urllib.parse.quote(\"해리포터\")\n",
    "url = \"https://openapi.naver.com/v1/search/movie.json?query=\" + encText # JSON 결과\n",
    "# url = \"https://openapi.naver.com/v1/search/blog.xml?query=\" + encText # XML 결과\n",
    "request = urllib.request.Request(url)\n",
    "request.add_header(\"X-Naver-Client-Id\",client_id)\n",
    "request.add_header(\"X-Naver-Client-Secret\",client_secret)\n",
    "response = urllib.request.urlopen(request)\n",
    "rescode = response.getcode()\n",
    "if(rescode==200):\n",
    "    response_body = response.read()\n",
    "    result = json.loads(response_body.decode('utf-8'))\n",
    "else:\n",
    "    print(\"Error Code:\" + rescode)"
   ]
  },
  {
   "cell_type": "code",
   "execution_count": 13,
   "id": "b7407069",
   "metadata": {},
   "outputs": [
    {
     "data": {
      "text/plain": [
       "{'lastBuildDate': 'Wed, 07 Dec 2022 19:36:43 +0900',\n",
       " 'total': 11,\n",
       " 'start': 1,\n",
       " 'display': 10,\n",
       " 'items': [{'title': '<b>해리포터</b> 20주년 기념: 리턴 투 호그와트',\n",
       "   'link': 'https://movie.naver.com/movie/bi/mi/basic.nhn?code=218946',\n",
       "   'image': 'https://ssl.pstatic.net/imgmovie/mdi/mit110/2189/218946_P01_175857.png',\n",
       "   'subtitle': 'Harry Potter 20th Anniversary: Return to Hogwarts',\n",
       "   'pubDate': '2022',\n",
       "   'director': '조 펄맨|에란 크리비|케이시 패터슨|',\n",
       "   'actor': '다니엘 래드클리프|루퍼트 그린트|엠마 왓슨|헬레나 본햄 카터|로비 콜트레인|랄프 파인즈|제이슨 아이삭스|게리 올드만|톰 펠튼|제임스 펠프스|올리버 펠프스|마크 윌리암스|보니 라이트|앨프리드 이넉|매튜 루이스|이반나 린치|',\n",
       "   'userRating': '0.00'},\n",
       "  {'title': '<b>해리포터</b>와 잉크 마법사의 여행',\n",
       "   'link': 'https://movie.naver.com/movie/bi/mi/basic.nhn?code=203098',\n",
       "   'image': 'https://ssl.pstatic.net/imgmovie/mdi/mit110/2030/203098_P01_154544.jpg',\n",
       "   'subtitle': 'Literary Ink',\n",
       "   'pubDate': '2020',\n",
       "   'director': '액설 아르졸라|',\n",
       "   'actor': '',\n",
       "   'userRating': '0.00'},\n",
       "  {'title': '<b>해리 포터</b>와 죽음의 성물 - 2부',\n",
       "   'link': 'https://movie.naver.com/movie/bi/mi/basic.nhn?code=47528',\n",
       "   'image': 'https://ssl.pstatic.net/imgmovie/mdi/mit110/0475/47528_P50_144916.jpg',\n",
       "   'subtitle': 'Harry Potter And The Deathly Hallows: Part 2',\n",
       "   'pubDate': '2011',\n",
       "   'director': '데이빗 예이츠|',\n",
       "   'actor': '다니엘 래드클리프|엠마 왓슨|루퍼트 그린트|',\n",
       "   'userRating': '9.33'},\n",
       "  {'title': '<b>해리 포터</b>와 죽음의 성물 - 1부',\n",
       "   'link': 'https://movie.naver.com/movie/bi/mi/basic.nhn?code=67901',\n",
       "   'image': 'https://ssl.pstatic.net/imgmovie/mdi/mit110/0679/67901_P52_160214.jpg',\n",
       "   'subtitle': 'Harry Potter And The Deathly Hallows: Part 1',\n",
       "   'pubDate': '2010',\n",
       "   'director': '데이빗 예이츠|',\n",
       "   'actor': '다니엘 래드클리프|엠마 왓슨|루퍼트 그린트|',\n",
       "   'userRating': '8.21'},\n",
       "  {'title': '<b>해리 포터</b>와 혼혈 왕자',\n",
       "   'link': 'https://movie.naver.com/movie/bi/mi/basic.nhn?code=67900',\n",
       "   'image': 'https://ssl.pstatic.net/imgmovie/mdi/mit110/0679/67900_P01_130458.jpg',\n",
       "   'subtitle': 'Harry Potter And The Half-Blood Prince',\n",
       "   'pubDate': '2009',\n",
       "   'director': '데이빗 예이츠|',\n",
       "   'actor': '다니엘 래드클리프|엠마 왓슨|루퍼트 그린트|',\n",
       "   'userRating': '6.98'},\n",
       "  {'title': '<b>해리 포터</b>와 불사조 기사단',\n",
       "   'link': 'https://movie.naver.com/movie/bi/mi/basic.nhn?code=57095',\n",
       "   'image': 'https://ssl.pstatic.net/imgmovie/mdi/mit110/0570/E7095-00.jpg',\n",
       "   'subtitle': 'Harry Potter And The Order Of The Phoenix',\n",
       "   'pubDate': '2007',\n",
       "   'director': '데이빗 예이츠|',\n",
       "   'actor': '다니엘 래드클리프|엠마 왓슨|루퍼트 그린트|',\n",
       "   'userRating': '7.04'},\n",
       "  {'title': '<b>해리 포터</b>와 불의 잔',\n",
       "   'link': 'https://movie.naver.com/movie/bi/mi/basic.nhn?code=37883',\n",
       "   'image': 'https://ssl.pstatic.net/imgmovie/mdi/mit110/0378/37883_P158_182652.jpg',\n",
       "   'subtitle': 'Harry Potter And The Goblet Of Fire',\n",
       "   'pubDate': '2005',\n",
       "   'director': '마이크 뉴웰|',\n",
       "   'actor': '다니엘 래드클리프|엠마 왓슨|루퍼트 그린트|',\n",
       "   'userRating': '8.04'},\n",
       "  {'title': '<b>해리 포터</b>와 아즈카반의 죄수',\n",
       "   'link': 'https://movie.naver.com/movie/bi/mi/basic.nhn?code=35546',\n",
       "   'image': 'https://ssl.pstatic.net/imgmovie/mdi/mit110/0355/35546_P88_142722.jpg',\n",
       "   'subtitle': 'Harry Potter And The Prisoner Of Azkaban',\n",
       "   'pubDate': '2004',\n",
       "   'director': '알폰소 쿠아론|',\n",
       "   'actor': '다니엘 래드클리프|엠마 왓슨|루퍼트 그린트|',\n",
       "   'userRating': '8.75'},\n",
       "  {'title': '<b>해리 포터</b>와 비밀의 방',\n",
       "   'link': 'https://movie.naver.com/movie/bi/mi/basic.nhn?code=33930',\n",
       "   'image': 'https://ssl.pstatic.net/imgmovie/mdi/mit110/0339/C3930-06.jpg',\n",
       "   'subtitle': 'Harry Potter And The Chamber Of Secrets',\n",
       "   'pubDate': '2002',\n",
       "   'director': '크리스 콜럼버스|',\n",
       "   'actor': '다니엘 래드클리프|루퍼트 그린트|엠마 왓슨|',\n",
       "   'userRating': '8.90'},\n",
       "  {'title': '<b>해리 포터</b>와 마법사의 돌',\n",
       "   'link': 'https://movie.naver.com/movie/bi/mi/basic.nhn?code=30688',\n",
       "   'image': 'https://ssl.pstatic.net/imgmovie/mdi/mit110/0306/30688_P28_142632.jpg',\n",
       "   'subtitle': 'Harry Potter And The Sorcerer&apos;s Stone',\n",
       "   'pubDate': '2001',\n",
       "   'director': '크리스 콜럼버스|',\n",
       "   'actor': '다니엘 래드클리프|루퍼트 그린트|엠마 왓슨|',\n",
       "   'userRating': '9.37'}]}"
      ]
     },
     "execution_count": 13,
     "metadata": {},
     "output_type": "execute_result"
    }
   ],
   "source": [
    "result"
   ]
  },
  {
   "cell_type": "code",
   "execution_count": 14,
   "id": "6397b20b",
   "metadata": {},
   "outputs": [
    {
     "data": {
      "text/plain": [
       "{'title': '<b>해리포터</b> 20주년 기념: 리턴 투 호그와트',\n",
       " 'link': 'https://movie.naver.com/movie/bi/mi/basic.nhn?code=218946',\n",
       " 'image': 'https://ssl.pstatic.net/imgmovie/mdi/mit110/2189/218946_P01_175857.png',\n",
       " 'subtitle': 'Harry Potter 20th Anniversary: Return to Hogwarts',\n",
       " 'pubDate': '2022',\n",
       " 'director': '조 펄맨|에란 크리비|케이시 패터슨|',\n",
       " 'actor': '다니엘 래드클리프|루퍼트 그린트|엠마 왓슨|헬레나 본햄 카터|로비 콜트레인|랄프 파인즈|제이슨 아이삭스|게리 올드만|톰 펠튼|제임스 펠프스|올리버 펠프스|마크 윌리암스|보니 라이트|앨프리드 이넉|매튜 루이스|이반나 린치|',\n",
       " 'userRating': '0.00'}"
      ]
     },
     "execution_count": 14,
     "metadata": {},
     "output_type": "execute_result"
    }
   ],
   "source": [
    "result['items'][0]"
   ]
  },
  {
   "cell_type": "code",
   "execution_count": 15,
   "id": "f21f03e6",
   "metadata": {},
   "outputs": [
    {
     "data": {
      "text/plain": [
       "'<b>해리포터</b> 20주년 기념: 리턴 투 호그와트'"
      ]
     },
     "execution_count": 15,
     "metadata": {},
     "output_type": "execute_result"
    }
   ],
   "source": [
    "result['items'][0]['title']"
   ]
  },
  {
   "cell_type": "code",
   "execution_count": 16,
   "id": "eb5c8439",
   "metadata": {},
   "outputs": [
    {
     "name": "stdout",
     "output_type": "stream",
     "text": [
      "['<b>해리포터</b> 20주년 기념: 리턴 투 호그와트', '<b>해리포터</b>와 잉크 마법사의 여행', '<b>해리 포터</b>와 죽음의 성물 - 2부']\n"
     ]
    }
   ],
   "source": [
    "item_list = result['items']\n",
    "\n",
    "title_list, link_list, date_list = [], [], []\n",
    "for i in range(len(item_list)):\n",
    "    title = item_list[i]['title']\n",
    "    link = item_list[i]['link']\n",
    "    pubdate = item_list[i]['pubDate']\n",
    "    \n",
    "    title_list.append(title)\n",
    "    link_list.append(link)\n",
    "    date_list.append(pubdate)\n",
    "\n",
    "print(title_list[:3])"
   ]
  },
  {
   "cell_type": "code",
   "execution_count": 17,
   "id": "56dbb26f",
   "metadata": {},
   "outputs": [
    {
     "data": {
      "text/html": [
       "<div>\n",
       "<style scoped>\n",
       "    .dataframe tbody tr th:only-of-type {\n",
       "        vertical-align: middle;\n",
       "    }\n",
       "\n",
       "    .dataframe tbody tr th {\n",
       "        vertical-align: top;\n",
       "    }\n",
       "\n",
       "    .dataframe thead th {\n",
       "        text-align: right;\n",
       "    }\n",
       "</style>\n",
       "<table border=\"1\" class=\"dataframe\">\n",
       "  <thead>\n",
       "    <tr style=\"text-align: right;\">\n",
       "      <th></th>\n",
       "      <th>제목</th>\n",
       "      <th>링크</th>\n",
       "      <th>날짜</th>\n",
       "    </tr>\n",
       "  </thead>\n",
       "  <tbody>\n",
       "    <tr>\n",
       "      <th>0</th>\n",
       "      <td>&lt;b&gt;해리포터&lt;/b&gt; 20주년 기념: 리턴 투 호그와트</td>\n",
       "      <td>https://movie.naver.com/movie/bi/mi/basic.nhn?...</td>\n",
       "      <td>2022</td>\n",
       "    </tr>\n",
       "    <tr>\n",
       "      <th>1</th>\n",
       "      <td>&lt;b&gt;해리포터&lt;/b&gt;와 잉크 마법사의 여행</td>\n",
       "      <td>https://movie.naver.com/movie/bi/mi/basic.nhn?...</td>\n",
       "      <td>2020</td>\n",
       "    </tr>\n",
       "    <tr>\n",
       "      <th>2</th>\n",
       "      <td>&lt;b&gt;해리 포터&lt;/b&gt;와 죽음의 성물 - 2부</td>\n",
       "      <td>https://movie.naver.com/movie/bi/mi/basic.nhn?...</td>\n",
       "      <td>2011</td>\n",
       "    </tr>\n",
       "    <tr>\n",
       "      <th>3</th>\n",
       "      <td>&lt;b&gt;해리 포터&lt;/b&gt;와 죽음의 성물 - 1부</td>\n",
       "      <td>https://movie.naver.com/movie/bi/mi/basic.nhn?...</td>\n",
       "      <td>2010</td>\n",
       "    </tr>\n",
       "    <tr>\n",
       "      <th>4</th>\n",
       "      <td>&lt;b&gt;해리 포터&lt;/b&gt;와 혼혈 왕자</td>\n",
       "      <td>https://movie.naver.com/movie/bi/mi/basic.nhn?...</td>\n",
       "      <td>2009</td>\n",
       "    </tr>\n",
       "  </tbody>\n",
       "</table>\n",
       "</div>"
      ],
      "text/plain": [
       "                               제목  \\\n",
       "0  <b>해리포터</b> 20주년 기념: 리턴 투 호그와트   \n",
       "1         <b>해리포터</b>와 잉크 마법사의 여행   \n",
       "2       <b>해리 포터</b>와 죽음의 성물 - 2부   \n",
       "3       <b>해리 포터</b>와 죽음의 성물 - 1부   \n",
       "4             <b>해리 포터</b>와 혼혈 왕자   \n",
       "\n",
       "                                                  링크    날짜  \n",
       "0  https://movie.naver.com/movie/bi/mi/basic.nhn?...  2022  \n",
       "1  https://movie.naver.com/movie/bi/mi/basic.nhn?...  2020  \n",
       "2  https://movie.naver.com/movie/bi/mi/basic.nhn?...  2011  \n",
       "3  https://movie.naver.com/movie/bi/mi/basic.nhn?...  2010  \n",
       "4  https://movie.naver.com/movie/bi/mi/basic.nhn?...  2009  "
      ]
     },
     "execution_count": 17,
     "metadata": {},
     "output_type": "execute_result"
    }
   ],
   "source": [
    "import pandas as pd\n",
    "\n",
    "item_result = pd.DataFrame({'제목': title_list, '링크': link_list, '날짜': date_list})\n",
    "item_result.head()"
   ]
  },
  {
   "cell_type": "code",
   "execution_count": 18,
   "id": "b5c62c72",
   "metadata": {},
   "outputs": [],
   "source": [
    "writer = pd.ExcelWriter(\"search_result_movie.xlsx\")\n",
    "item_result.to_excel(writer)\n",
    "writer.save()"
   ]
  }
 ],
 "metadata": {
  "kernelspec": {
   "display_name": "Python 3 (ipykernel)",
   "language": "python",
   "name": "python3"
  },
  "language_info": {
   "codemirror_mode": {
    "name": "ipython",
    "version": 3
   },
   "file_extension": ".py",
   "mimetype": "text/x-python",
   "name": "python",
   "nbconvert_exporter": "python",
   "pygments_lexer": "ipython3",
   "version": "3.9.12"
  }
 },
 "nbformat": 4,
 "nbformat_minor": 5
}
