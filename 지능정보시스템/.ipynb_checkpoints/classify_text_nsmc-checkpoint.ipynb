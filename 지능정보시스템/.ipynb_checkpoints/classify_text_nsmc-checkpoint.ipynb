{
 "cells": [
  {
   "cell_type": "markdown",
   "id": "9325c51d",
   "metadata": {},
   "source": [
    "## 지능정보시스템 11월 23일 실습\n",
    "\n",
    "`인천대학교 경제학과 201900740 박혜인`"
   ]
  },
  {
   "cell_type": "code",
   "execution_count": 1,
   "id": "d76e5886",
   "metadata": {},
   "outputs": [],
   "source": [
    "from nltk.tokenize import word_tokenize\n",
    "import nltk\n",
    "\n",
    "from konlpy.tag import Okt\n",
    "okt = Okt()"
   ]
  },
  {
   "cell_type": "code",
   "execution_count": 2,
   "id": "951cc757",
   "metadata": {},
   "outputs": [],
   "source": [
    "def load_data(file_path):\n",
    "    # file_path에 잇는 데이터를 읽어 옴\n",
    "    \n",
    "    train = []\n",
    "    \n",
    "    count = 0\n",
    "    with open(file_path, 'r', encoding='utf-8') as f:\n",
    "        for line in f.readlines():\n",
    "            if count == 500: break\n",
    "                \n",
    "            line = line.strip()\n",
    "            id, doc, label = line.split('\\t')\n",
    "            if label == '1': label = 'pos'\n",
    "            elif label == '0': label = 'neg'\n",
    "            train.append((doc, label))\n",
    "            \n",
    "            count += 1\n",
    "            \n",
    "    return train"
   ]
  },
  {
   "cell_type": "code",
   "execution_count": 3,
   "id": "2c4f1248",
   "metadata": {},
   "outputs": [],
   "source": [
    "def pos_tokenize(raw_sent):\n",
    "    pos_sent = []\n",
    "    sent = okt.pos(raw_sent, norm=True, stem=True)\n",
    "    \n",
    "    for tup in sent:\n",
    "        word, tag = tup[0], tup[1]    # tup: ('사과', 'Noun')\n",
    "        word_tag = word + '/' + tag   # word_tag: '사과/Noun'\n",
    "        pos_sent.append(word_tag)\n",
    "        \n",
    "    return ' '.join(pos_sent)\n",
    "\n",
    "def make_word_dict(train, use_morph=False):\n",
    "    all_words = set()\n",
    "    \n",
    "    for tup in train:\n",
    "        sent, label = tup[0], tup[1]\n",
    "        if use_morph: sent = pos_tokenize(sent)   # pos_tokenize 함수 추가\n",
    "        words = word_tokenize(sent)\n",
    "        for word in words:\n",
    "            all_words.add(word)\n",
    "            \n",
    "    return all_words\n",
    "\n",
    "def make_train_feats(train, all_words, use_morph=False):\n",
    "    train_features = []\n",
    "    \n",
    "    for tup in train:\n",
    "        sent, label = tup[0], tup[1]\n",
    "        if use_morph: sent = pos_tokenize(sent)   # pos_tokenize 함수 추가\n",
    "        words = word_tokenize(sent)\n",
    "        tmp = {set_word: (set_word in words) for set_word in all_words}\n",
    "        sent_tup = (tmp, label)\n",
    "        train_features.append(sent_tup)\n",
    "        \n",
    "    return train_features"
   ]
  },
  {
   "cell_type": "code",
   "execution_count": 4,
   "id": "c28fd460",
   "metadata": {},
   "outputs": [
    {
     "name": "stdout",
     "output_type": "stream",
     "text": [
      "[('document', 'label'), ('아 더빙.. 진짜 짜증나네요 목소리', 'neg'), ('흠...포스터보고 초딩영화줄....오버연기조차 가볍지 않구나', 'pos'), ('너무재밓었다그래서보는것을추천한다', 'neg'), ('교도소 이야기구먼 ..솔직히 재미는 없다..평점 조정', 'neg')]\n"
     ]
    }
   ],
   "source": [
    "train = load_data('./Movie Data/ratings_train.txt')\n",
    "print(train[:5])"
   ]
  },
  {
   "cell_type": "code",
   "execution_count": 5,
   "id": "3972eead",
   "metadata": {},
   "outputs": [
    {
     "name": "stdout",
     "output_type": "stream",
     "text": [
      "[('아 더빙.. 진짜 짜증나네요 목소리', 'neg'), ('흠...포스터보고 초딩영화줄....오버연기조차 가볍지 않구나', 'pos'), ('너무재밓었다그래서보는것을추천한다', 'neg'), ('교도소 이야기구먼 ..솔직히 재미는 없다..평점 조정', 'neg'), ('사이몬페그의 익살스런 연기가 돋보였던 영화!스파이더맨에서 늙어보이기만 했던 커스틴 던스트가 너무나도 이뻐보였다', 'pos')]\n"
     ]
    }
   ],
   "source": [
    "train = train[1:]\n",
    "print(train[:5])"
   ]
  },
  {
   "cell_type": "code",
   "execution_count": 6,
   "id": "7f9ff736",
   "metadata": {},
   "outputs": [
    {
     "name": "stdout",
     "output_type": "stream",
     "text": [
      "단어 집합 개수: 2322\n"
     ]
    }
   ],
   "source": [
    "use_morph = True\n",
    "all_words = make_word_dict(train, use_morph)\n",
    "print('단어 집합 개수:', len(all_words))\n",
    "\n",
    "train_features = make_train_feats(train, all_words, use_morph)"
   ]
  },
  {
   "cell_type": "code",
   "execution_count": 7,
   "id": "047f77d6",
   "metadata": {},
   "outputs": [
    {
     "name": "stdout",
     "output_type": "stream",
     "text": [
      "Most Informative Features\n",
      "                       ; = True              neg : pos    =      8.2 : 1.0\n",
      "          재미없다/Adjective = True              neg : pos    =      8.2 : 1.0\n",
      "                주인공/Noun = True              neg : pos    =      7.5 : 1.0\n",
      "                 최고/Noun = True              pos : neg    =      6.9 : 1.0\n",
      "                  뭐/Noun = True              neg : pos    =      6.8 : 1.0\n",
      "           재밌다/Adjective = True              pos : neg    =      6.5 : 1.0\n",
      "                 내용/Noun = True              neg : pos    =      6.2 : 1.0\n",
      "       ㅡㅡ/KoreanParticle = True              neg : pos    =      6.1 : 1.0\n",
      "                스토리/Noun = True              neg : pos    =      6.1 : 1.0\n",
      "                 다시/Noun = True              pos : neg    =      5.9 : 1.0\n"
     ]
    }
   ],
   "source": [
    "classifier = nltk.NaiveBayesClassifier.train(train_features)\n",
    "classifier.show_most_informative_features()"
   ]
  },
  {
   "cell_type": "markdown",
   "id": "0351bfc0",
   "metadata": {},
   "source": [
    "## 테스트 해보기"
   ]
  },
  {
   "cell_type": "code",
   "execution_count": 8,
   "id": "80f9805f",
   "metadata": {},
   "outputs": [
    {
     "data": {
      "text/plain": [
       "('ratings_test.txt', <http.client.HTTPMessage at 0x1327a9af070>)"
      ]
     },
     "execution_count": 8,
     "metadata": {},
     "output_type": "execute_result"
    }
   ],
   "source": [
    "import urllib\n",
    "urllib.request.urlretrieve(\"https://raw.githubusercontent.com/e9t/nsmc/master/\"\n",
    "                           + \"ratings_test.txt\", filename=\"ratings_test.txt\")"
   ]
  },
  {
   "cell_type": "code",
   "execution_count": 15,
   "id": "34e52a13",
   "metadata": {},
   "outputs": [],
   "source": [
    "# ratings+test.txt를 처리하는 부분 작성\n",
    "test = load_data('ratings_test.txt')\n",
    "test = test[1:]"
   ]
  },
  {
   "cell_type": "code",
   "execution_count": 16,
   "id": "43af8771",
   "metadata": {},
   "outputs": [
    {
     "name": "stdout",
     "output_type": "stream",
     "text": [
      "단어 집합 개수: 2254\n"
     ]
    }
   ],
   "source": [
    "use_morph = True\n",
    "all_words = make_word_dict(test, use_morph)\n",
    "print('단어 집합 개수:', len(all_words))"
   ]
  },
  {
   "cell_type": "code",
   "execution_count": 17,
   "id": "17d43c7e",
   "metadata": {},
   "outputs": [
    {
     "name": "stdout",
     "output_type": "stream",
     "text": [
      "굳다/Adjective ㅋ/KoreanParticle\n"
     ]
    }
   ],
   "source": [
    "test_sent = test[0][0]  # 첫 번째 문장입력\n",
    "\n",
    "test_sent = pos_tokenize(test_sent)\n",
    "print(test_sent)\n",
    "words = word_tokenize(test_sent)\n",
    "test_feature = {set_word: (set_word in words) for set_word in all_words}"
   ]
  },
  {
   "cell_type": "code",
   "execution_count": 18,
   "id": "cbb50d76",
   "metadata": {},
   "outputs": [
    {
     "data": {
      "text/plain": [
       "'pos'"
      ]
     },
     "execution_count": 18,
     "metadata": {},
     "output_type": "execute_result"
    }
   ],
   "source": [
    "classifier.classify(test_feature)"
   ]
  }
 ],
 "metadata": {
  "kernelspec": {
   "display_name": "Python 3 (ipykernel)",
   "language": "python",
   "name": "python3"
  },
  "language_info": {
   "codemirror_mode": {
    "name": "ipython",
    "version": 3
   },
   "file_extension": ".py",
   "mimetype": "text/x-python",
   "name": "python",
   "nbconvert_exporter": "python",
   "pygments_lexer": "ipython3",
   "version": "3.9.12"
  }
 },
 "nbformat": 4,
 "nbformat_minor": 5
}
