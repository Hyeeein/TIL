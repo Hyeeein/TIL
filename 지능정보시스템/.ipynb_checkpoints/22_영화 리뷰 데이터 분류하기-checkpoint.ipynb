{
 "cells": [
  {
   "attachments": {},
   "cell_type": "markdown",
   "id": "79cddc5c",
   "metadata": {},
   "source": [
    "### NSMC 학습데이터 다운로드\n",
    "\n",
    "\n",
    "* ratings_train.txt 다운로드\n",
    "* https://github.com/e9t/nsmc/blob/master/ratings_train.txt"
   ]
  },
  {
   "cell_type": "markdown",
   "id": "7b4e7742",
   "metadata": {},
   "source": [
    "### 데이터 불러오기: load_data()"
   ]
  },
  {
   "cell_type": "code",
   "execution_count": 24,
   "id": "a656d034",
   "metadata": {},
   "outputs": [],
   "source": [
    "def load_data(file_path):\n",
    "    # file_path에 잇는 데이터를 읽어 옴\n",
    "    \n",
    "    train = []\n",
    "    \n",
    "    count = 0\n",
    "    with open(file_path, 'r', encoding='utf-8') as f:\n",
    "        for line in f.readlines():\n",
    "            if count == 500: break\n",
    "                \n",
    "            line = line.strip()\n",
    "            id, doc, label = line.split('\\t')\n",
    "            if label == '1': label = 'pos'\n",
    "            elif label == '0': label = 'neg'\n",
    "            train.append((doc, label))\n",
    "            \n",
    "            count+=1\n",
    "            \n",
    "    return train"
   ]
  },
  {
   "cell_type": "code",
   "execution_count": 25,
   "id": "55236ba1",
   "metadata": {},
   "outputs": [
    {
     "name": "stdout",
     "output_type": "stream",
     "text": [
      "[('document', 'label'), ('아 더빙.. 진짜 짜증나네요 목소리', 'neg'), ('흠...포스터보고 초딩영화줄....오버연기조차 가볍지 않구나', 'pos'), ('너무재밓었다그래서보는것을추천한다', 'neg'), ('교도소 이야기구먼 ..솔직히 재미는 없다..평점 조정', 'neg')]\n"
     ]
    }
   ],
   "source": [
    "train = load_data('./Movie Data/ratings_train.txt')\n",
    "print(train[:5])"
   ]
  },
  {
   "cell_type": "code",
   "execution_count": 26,
   "id": "e7123fb2",
   "metadata": {},
   "outputs": [
    {
     "name": "stdout",
     "output_type": "stream",
     "text": [
      "[('아 더빙.. 진짜 짜증나네요 목소리', 'neg'), ('흠...포스터보고 초딩영화줄....오버연기조차 가볍지 않구나', 'pos'), ('너무재밓었다그래서보는것을추천한다', 'neg'), ('교도소 이야기구먼 ..솔직히 재미는 없다..평점 조정', 'neg'), ('사이몬페그의 익살스런 연기가 돋보였던 영화!스파이더맨에서 늙어보이기만 했던 커스틴 던스트가 너무나도 이뻐보였다', 'pos')]\n"
     ]
    }
   ],
   "source": [
    "train = train[1:]\n",
    "print(train[:5])"
   ]
  },
  {
   "cell_type": "markdown",
   "id": "fc3e17c3",
   "metadata": {},
   "source": [
    "### 학습하기\n",
    "\n",
    "* 21번 정리본에 사용한 내용을 함수로 사용"
   ]
  },
  {
   "cell_type": "code",
   "execution_count": 27,
   "id": "d9cfa975",
   "metadata": {},
   "outputs": [],
   "source": [
    "from nltk.tokenize import word_tokenize\n",
    "import nltk\n",
    "\n",
    "from konlpy.tag import Okt\n",
    "okt = Okt()\n",
    "\n",
    "def pos_tokenize(raw_sent):\n",
    "    pos_sent = []\n",
    "    sent = okt.pos(raw_sent, norm=True, stem=True)\n",
    "    \n",
    "    for tup in sent:\n",
    "        word, tag = tup[0], tup[1]    # tup: ('사과', 'Noun')\n",
    "        word_tag = word + '/' + tag   # word_tag: '사과/Noun'\n",
    "        pos_sent.append(word_tag)\n",
    "        \n",
    "    return ' '.join(pos_sent)\n",
    "\n",
    "def make_word_dict(train, use_morph=False):\n",
    "    all_words = set()\n",
    "    \n",
    "    for tup in train:\n",
    "        sent, label = tup[0], tup[1]\n",
    "        if use_morph: sent = pos_tokenize(sent)   # pos_tokenize 함수 추가\n",
    "        words = word_tokenize(sent)\n",
    "        for word in words:\n",
    "            all_words.add(word)\n",
    "            \n",
    "    return all_words\n",
    "\n",
    "def make_train_feats(train, all_words, use_morph=False):\n",
    "    train_features = []\n",
    "    \n",
    "    for tup in train:\n",
    "        sent, label = tup[0], tup[1]\n",
    "        if use_morph: sent = pos_tokenize(sent)   # pos_tokenize 함수 추가\n",
    "        words = word_tokenize(sent)\n",
    "        tmp = {set_word: (set_word in words) for set_word in all_words}\n",
    "        sent_tup = (tmp, label)\n",
    "        train_features.append(sent_tup)\n",
    "        \n",
    "    return train_features"
   ]
  },
  {
   "cell_type": "code",
   "execution_count": 28,
   "id": "94e513cd",
   "metadata": {},
   "outputs": [
    {
     "name": "stdout",
     "output_type": "stream",
     "text": [
      "[('document', 'label'), ('아 더빙.. 진짜 짜증나네요 목소리', 'neg'), ('흠...포스터보고 초딩영화줄....오버연기조차 가볍지 않구나', 'pos'), ('너무재밓었다그래서보는것을추천한다', 'neg'), ('교도소 이야기구먼 ..솔직히 재미는 없다..평점 조정', 'neg')]\n"
     ]
    }
   ],
   "source": [
    "train = load_data('./Movie Data/ratings_train.txt')\n",
    "print(train[:5])"
   ]
  },
  {
   "cell_type": "code",
   "execution_count": 29,
   "id": "299a93fc",
   "metadata": {},
   "outputs": [
    {
     "name": "stdout",
     "output_type": "stream",
     "text": [
      "[('아 더빙.. 진짜 짜증나네요 목소리', 'neg'), ('흠...포스터보고 초딩영화줄....오버연기조차 가볍지 않구나', 'pos'), ('너무재밓었다그래서보는것을추천한다', 'neg'), ('교도소 이야기구먼 ..솔직히 재미는 없다..평점 조정', 'neg'), ('사이몬페그의 익살스런 연기가 돋보였던 영화!스파이더맨에서 늙어보이기만 했던 커스틴 던스트가 너무나도 이뻐보였다', 'pos')]\n"
     ]
    }
   ],
   "source": [
    "train = train[1:]\n",
    "print(train[:5])"
   ]
  },
  {
   "cell_type": "code",
   "execution_count": 30,
   "id": "eb9704ce",
   "metadata": {},
   "outputs": [
    {
     "name": "stdout",
     "output_type": "stream",
     "text": [
      "단어 집합 개수: 2322\n"
     ]
    }
   ],
   "source": [
    "# 테스트하기\n",
    "\n",
    "use_morph = True\n",
    "all_words = make_word_dict(train, use_morph)\n",
    "print('단어 집합 개수:', len(all_words))\n",
    "\n",
    "train_features = make_train_feats(train, all_words, use_morph)"
   ]
  },
  {
   "cell_type": "code",
   "execution_count": 31,
   "id": "e98600b2",
   "metadata": {},
   "outputs": [
    {
     "name": "stdout",
     "output_type": "stream",
     "text": [
      "Most Informative Features\n",
      "                       ; = True              neg : pos    =      8.2 : 1.0\n",
      "          재미없다/Adjective = True              neg : pos    =      8.2 : 1.0\n",
      "                주인공/Noun = True              neg : pos    =      7.5 : 1.0\n",
      "                 최고/Noun = True              pos : neg    =      6.9 : 1.0\n",
      "                  뭐/Noun = True              neg : pos    =      6.8 : 1.0\n",
      "           재밌다/Adjective = True              pos : neg    =      6.5 : 1.0\n",
      "                 내용/Noun = True              neg : pos    =      6.2 : 1.0\n",
      "       ㅡㅡ/KoreanParticle = True              neg : pos    =      6.1 : 1.0\n",
      "                스토리/Noun = True              neg : pos    =      6.1 : 1.0\n",
      "                 다시/Noun = True              pos : neg    =      5.9 : 1.0\n"
     ]
    }
   ],
   "source": [
    "classifier = nltk.NaiveBayesClassifier.train(train_features)\n",
    "classifier.show_most_informative_features()"
   ]
  },
  {
   "cell_type": "code",
   "execution_count": 32,
   "id": "3f77b8cc",
   "metadata": {},
   "outputs": [
    {
     "name": "stdout",
     "output_type": "stream",
     "text": [
      "{'수도/Noun': False, '신라/Noun': False, '정상/Noun': False, '흐르다/Verb': False, 'DVD/Alpha': False, '그냥/Modifier': False, '타겟/Noun': False, '인지/Josa': False, '정은지/Noun': False, '대하/Noun': False, '구/Modifier': False, '럼/Noun': False, '산만하다/Adjective': False, '억지/Noun': False, '이정/Noun': False, '아이스/Noun': False, '전반/Noun': False, '각기/Noun': False, '/Punctuation': False, '베다/Verb': False, '팝핀현준/Noun': False, '주기/Noun': False, '걸/Noun': False, '무한/Noun': False, '알다/Verb': False, '근데/Adverb': False, '패널/Noun': False, '흘러나오다/Verb': False, '생인/Noun': False, '사슴/Noun': False, '이하늘/Noun': False, '이/Josa': False, '해/Noun': False, '서글프다/Adjective': False, '노출씬/Noun': False, '현실/Noun': False, '먹듯/Noun': False, '유명/Noun': False, '트로트/Noun': False, '주네/Noun': False, '누군가/Noun': False, '잊다/Verb': False, '레전드/Noun': False, 'is/Alpha': False, '전작/Noun': False, '아주/Noun': False, '-_-/Punctuation': False, '머임/Noun': False, '성도/Noun': False, '이그/Noun': False, '죽/Noun': False, '인게/Josa': False, '잘쓰다/Verb': False, '털다/Verb': False, '굉장하다/Adjective': False, '지다/Verb': False, '적당하다/Adjective': False, '알리시아/Noun': False, '드럽다/Adjective': False, '이지/Josa': False, '극장판/Noun': False, '전혀/Noun': False, '기본/Noun': False, '라니/Josa': False, '맨날/Adverb': False, '甲/Foreign': False, '팜므파탈/Noun': False, '빠지다/Verb': False, '포스터/Noun': False, '색다르다/Adjective': False, '조폭/Noun': False, '살리다/Verb': False, '신하균/Noun': False, '언제/Noun': False, '이렇게/Adverb': False, '가다/Verb': False, '꼽/Noun': False, '영상/Noun': False, 'mama/Alpha': False, '말랑말랑/Adverb': False, '김영애/Noun': False, '외국/Noun': False, '졸/Noun': False, '사다코/Noun': False, '감수성/Noun': False, '인피니트/Noun': False, '풍경/Noun': False, '만/Modifier': False, '도/Noun': False, '살아가다/Verb': False, '대사/Noun': False, '액션영화/Noun': False, '그/Noun': False, '점점/Noun': False, '배경/Noun': False, '푸하하하/Noun': False, '후자/Noun': False, '광기/Noun': False, '보임/Noun': False, '쏙/Noun': False, '....': False, '이다/Josa': False, '부가/Noun': False, '수록/Noun': False, '검사/Noun': False, '샘/Noun': False, '(': False, '심하다/Adjective': False, ';': False, '확실하다/Adjective': False, 'ㅠ/KoreanParticle': False, 'when/Alpha': False, 'ㅋㅋㅋ/KoreanParticle': False, '는/Josa': False, '이라고/Josa': False, '냥/Noun': False, '다그/Noun': False, '오우삼/Noun': False, '알바/Noun': False, '대/Foreign': False, '신인/Noun': False, '두다/Verb': False, '익살스럽다/Adjective': False, '가/Josa': False, '여운/Noun': False, '이기/Noun': False, '스릴러/Noun': False, '콩/Noun': False, '단지/Noun': False, '납치/Noun': False, '야/Exclamation': False, '스럽다/Adjective': False, '옛날/Noun': False, 'was/Alpha': False, '으로나/Josa': False, '만화/Noun': False, '출현/Noun': False, '필요하다/Adjective': False, '베테/Noun': False, '남자배우/Noun': False, '의아/Noun': False, '개막/Noun': False, '질린다/Verb': False, '메/Noun': False, '잔인하다/Adjective': False, 't/Alpha': False, '끙끙/Noun': False, '더빙/Noun': False, '할랫/Noun': False, '인하다/Adjective': False, '살짝/Noun': False, '망신/Noun': False, '기대/Noun': False, '람/Noun': False, '걸다/Verb': False, '패/Noun': False, '미스/Noun': False, '기/Noun': False, '나타내다/Verb': False, '로맨스/Noun': False, '기존/Noun': False, '부족하다/Adjective': False, '멜로영화/Noun': False, '충분하다/Adjective': False, '꾼/Suffix': False, '작/Modifier': False, '채/Noun': False, '여전하다/Adjective': False, '페이스/Noun': False, '망작/Noun': False, '만들다/Verb': False, '윤종신/Noun': False, '딸/Noun': False, '바스코/Noun': False, '쓰레기/Noun': False, '벌어지다/Verb': False, '만큼은/Josa': False, '흡입/Noun': False, '성찰/Noun': False, '안습/Noun': False, '그러나/Conjunction': False, '다/Noun': False, '평생/Noun': False, '전/Noun': False, '헤드/Noun': False, '.....': False, '김남길/Noun': False, '어루만지다/Verb': False, '껄욕/Noun': False, '밥/Noun': False, '아직도/Adverb': False, '뻔하다/Adjective': False, '울면/Noun': False, '라파스/Noun': False, '상당하다/Adjective': False, '어이없다/Adjective': False, '줄/Noun': False, '위해/Noun': False, '크리스토퍼/Noun': False, '흘러가다/Verb': False, '충격/Noun': False, 'movie/Alpha': False, '늘다/Verb': False, '탈/Noun': False, '상황/Noun': False, '제일/Noun': False, '떼다/Verb': False, '아/Exclamation': False, '레알/Noun': False, '맘/Noun': False, '생활/Noun': False, '빼앗다/Verb': False, '둑/Noun': False, '생각나다/Verb': False, '발견/Noun': False, '조정/Noun': False, '사랑/Noun': False, '뭔/Modifier': False, '언니/Noun': False, '어느/Modifier': False, '점/Noun': False, '성/Modifier': False, '새벽/Noun': False, '떠오르다/Verb': False, '진개/Noun': False, '네/Josa': False, '심심하다/Adjective': False, '돌리다/Verb': False, '절실/Noun': False, '배경음악/Noun': False, '형태/Noun': False, '막/Noun': False, '굳이/Noun': False, '재방송/Noun': False, '서다/Verb': False, '깔끔하다/Adjective': False, '어떻다/Adjective': False, '0/Number': False, '현대인/Noun': False, '상상/Noun': False, '아이언맨/Noun': False, '기억/Noun': False, '두기/Noun': False, '었/PreEomi': False, '은/Josa': False, '박스/Noun': False, '펼치다/Verb': False, '주인공/Noun': False, '시간/Noun': False, '님/Suffix': False, '적/Suffix': False, '평범하다/Adjective': False, '야경/Noun': False, '반도/Noun': False, '명작/Noun': False, '주다/Verb': False, '최정원/Noun': False, '베/Noun': False, '2004년/Number': False, '너/Modifier': False, '두/Determiner': False, '차이나다/Verb': False, '탕웨이/Noun': False, '갑자기/Noun': False, '배우/Noun': False, '금물/Noun': False, '헐다/Verb': False, '쓸다/Verb': False, '뫼비우스/Noun': False, '센스/Noun': False, '연맹/Noun': False, '박하다/Adjective': False, '조달환/Noun': False, '완존/Noun': False, '나라/Noun': False, '비번/Noun': False, 'of/Alpha': False, '내기/Noun': False, '싶다/Verb': False, '실망/Noun': False, '서로/Noun': False, '훌륭하다/Adjective': False, '핫/Noun': False, '니까/Josa': False, '이라도/Josa': False, '비/Noun': False, '싸움판/Noun': False, '한테/Josa': False, 'ㅇ/KoreanParticle': False, '타란티노/Noun': False, '불쾌하다/Adjective': False, '묻다/Verb': False, '잡다/Verb': False, '만/Suffix': False, '감히/Noun': False, '알다/Noun': False, '펭귄/Noun': False, '나서다/Verb': False, 'TV/Alpha': False, '넘다/Verb': False, '티비/Noun': False, '소재/Noun': False, '모두/Noun': False, '류승완/Noun': False, '왠지/Adverb': False, '로맨틱코미디/Noun': False, '유유/Noun': False, '제로/Noun': False, '싱겁다/Adjective': False, '안대/Noun': False, '전달/Noun': False, '놀이/Suffix': False, '모으다/Verb': False, '아우/Noun': False, '세/Noun': False, '짬뽕/Noun': False, '장군/Noun': False, '많이/Adverb': False, '실패/Noun': False, '탓/Noun': False, '믿어지다/Verb': False, '웃음/Noun': False, '따라가다/Verb': False, '또/Noun': False, '1.2/Number': False, 'a/Alpha': False, '대해/Noun': False, '내/Determiner': False, '의외/Noun': False, '위원/Noun': False, '믿다/Verb': False, '높다/Adjective': False, '아이돌/Noun': False, '진부하다/Adjective': False, '문화/Noun': False, '지루함/Noun': False, '같다/Adjective': False, '전개도/Noun': False, '맙시/Noun': False, '펀치/Noun': False, '상업/Noun': False, '실감/Noun': False, '약간/Noun': False, '모든/Modifier': False, '것/Noun': False, '처/Noun': False, '현대/Noun': False, '판타지/Noun': False, '낚임/Noun': False, '노력/Noun': False, '원탁/Noun': False, '3초/Number': False, '한/Modifier': False, '로/Josa': False, '어떤/Modifier': False, '헐리웃/Noun': False, '닥치고/Noun': False, '정도/Noun': False, '하/Exclamation': False, '일상/Noun': False, '가장/Noun': False, '후회/Noun': False, '살아오다/Verb': False, '작가/Noun': False, '아픔/Noun': False, '몬페/Noun': False, '제작비/Noun': False, '접해/Noun': False, '영화로/Noun': False, '서/Josa': False, '고/Modifier': False, '짤랐을꺼/Noun': False, '골/Noun': False, '보기/Noun': False, '2': False, '다크/Noun': False, '작/Noun': False, '자식/Noun': False, '中/Foreign': False, '사토시/Noun': False, '직전/Noun': False, '기독교/Noun': False, '박시환/Noun': False, '진창/Noun': False, '안간힘/Noun': False, '년전/Noun': False, '종영/Noun': False, '셀레스틴/Noun': False, '김혜수/Noun': False, '호텔/Noun': False, '툭하면/Noun': False, '로마노프/Noun': False, '걸치다/Verb': False, '때리다/Verb': False, '사실/Noun': False, '정신/Noun': False, '성/Noun': False, '섞이다/Verb': False, '단연/Noun': False, '분명하다/Adjective': False, '학살/Noun': False, '발연기/Noun': False, '형식/Noun': False, '시키다/Verb': False, '행복하다/Adjective': False, '있다/Adjective': False, '평수/Noun': False, '추억/Noun': False, '취미/Noun': False, '최고다/Noun': False, '경/Modifier': False, '끝/Noun': False, '앤드류/Noun': False, '은희/Noun': False, '랜슬롯/Noun': False, '일드/Noun': False, '보고오다/Verb': False, '거부/Noun': False, '차갑다/Adjective': False, '간다/Noun': False, '화가/Noun': False, '유대인/Noun': False, '쯤/Suffix': False, '사의/Noun': False, '4/Number': False, '비다/Verb': False, '기다/Verb': False, '코너/Noun': False, '인격/Noun': False, '쌓다/Verb': False, '부패하다/Adjective': False, '나이틀리/Noun': False, '상영/Noun': False, '좋아하다/Adjective': False, '어울리다/Verb': False, '자극/Noun': False, '밋밋하다/Adjective': False, '바이러스/Noun': False, '짓다/Verb': False, '컷/Noun': False, '겁니다/Verb': False, '신선하다/Adjective': False, '참고/Noun': False, '사랑스럽다/Adjective': False, '카밀라/Noun': False, '비슷하다/Adjective': False, '이다/Verb': False, '잃다/Verb': False, 'ㄵ/KoreanParticle': False, '잇다/Verb': False, '선사/Noun': False, '소파/Noun': False, '듣기/Noun': False, '대단하다/Adjective': False, '청춘/Noun': False, '히어로/Noun': False, '러시아/Noun': False, '로버츠/Noun': False, '난또/Noun': False, '포퐁/Noun': False, '정부/Noun': False, '인간/Noun': False, '개인/Noun': False, '인형/Noun': False, '소설/Noun': False, '책/Noun': False, '늦다/Verb': False, '속지/Noun': False, '두근거리다/Adjective': False, '버리다/Verb': False, '바베트/Noun': False, '로써/Noun': False, '박자/Noun': False, '지겹다/Adjective': False, '달려가다/Verb': False, '이이경/Noun': False, '스스로/Noun': False, '압/Noun': False, '죽다/Verb': False, '너무나도/Adverb': False, '원/Suffix': False, '화이/Noun': False, '하나/Noun': False, '잘못/Noun': False, '웃기다/Verb': False, '순이/Noun': False, '땐/Noun': False, '예민하다/Adjective': False, '평화로/Noun': False, '싸움/Noun': False, '투자/Noun': False, 'dream/Alpha': False, '떠나다/Verb': False, '멋지다/Adjective': False, '조/Modifier': False, '성격/Noun': False, '서나/Noun': False, '감/Noun': False, '해결/Noun': False, '고명환/Noun': False, '이/Determiner': False, 'ㅡㅡ/KoreanParticle': False, '왕/Noun': False, '모든/Noun': False, '존잘/Noun': False, '^.^/Punctuation': False, '네러티브/Noun': False, '별/Noun': False, '애가/Noun': False, '많다/Adjective': False, '몸짓/Noun': False, '신분/Noun': False, '나오다/Verb': True, '쌀/Noun': False, '고역/Noun': False, '감정/Noun': False, '대희/Noun': False, '워터/Noun': False, '용/Noun': False, '호기심/Noun': False, '하지만/Conjunction': False, '민폐/Noun': False, '모자라다/Verb': False, '주변/Noun': False, '살다/Verb': False, '바/Noun': False, '인종차별/Noun': False, '라면/Noun': False, '행간/Noun': False, '낮다/Adjective': False, '말씀드리다/Verb': False, '3분/Number': False, '별/Modifier': False, '변태/Noun': False, '가득하다/Adjective': False, '초등학교/Noun': False, '허무하다/Adjective': False, '퇴색/Noun': False, '명품/Noun': False, '윈/Noun': False, '몰다/Verb': False, '춤/Noun': False, '뻑/Noun': False, '꺼지다/Verb': False, '내생/Noun': False, '인가요/Josa': False, '갈수록/Noun': False, '점때/Noun': False, '웬만하다/Adjective': False, '이구나/Josa': False, '지르다/Verb': False, '어내스트/Noun': False, '시대/Noun': False, '이르다/Verb': False, '듯/Noun': False, '에/Foreign': False, '아들/Noun': False, '죄인/Noun': False, '당시/Noun': False, '뎅/Noun': False, '끌다/Verb': False, '영국/Noun': False, '허허/Adverb': False, '싸우다/Verb': False, '평론가/Noun': False, '감독/Noun': False, 'ㅋ/KoreanParticle': False, '만으로/Josa': False, '디테/Noun': False, '당대/Noun': False, '첨/Adverb': False, '영원하다/Adjective': False, '실제/Noun': False, '휴/Exclamation': False, '으로만/Josa': False, '80~90년/Number': False, '웃기/Noun': False, '몇/Modifier': False, '어제/Noun': False, '캐스팅/Noun': False, '파손/Noun': False, '허풍/Noun': False, '시절/Noun': False, '오늘/Noun': False, '계기/Noun': False, '재다/Verb': False, '새롭웠/Noun': False, '줄리아/Noun': False, '바른/Modifier': False, 'Yesterday/Alpha': False, '눈/Noun': False, '죽이다/Verb': False, '편도/Noun': False, '엔딩/Noun': False, '일품/Noun': False, '라고/Josa': False, '바라다/Verb': False, '조작/Noun': False, '재개/Noun': False, '코/Noun': False, 'ㄱ/KoreanParticle': False, '완성/Noun': False, '관/Noun': False, '관객/Noun': False, '기네/Noun': False, '그렇다/Adjective': False, '지독하다/Adjective': False, '건/Noun': False, '사골/Noun': False, '다시다/Verb': False, '저런/Noun': False, '일단/Noun': False, '뭉클하다/Adjective': False, '나대다/Verb': False, '많아지다/Verb': False, '돼다/Verb': False, '초반/Noun': False, '한석규/Noun': False, '추천/Noun': False, '......': False, '성/Suffix': False, '/Number': False, '이중인격/Noun': False, '인/Josa': False, '케이블/Noun': False, '화려하다/Adjective': False, '김혜선/Noun': False, '랄/Noun': False, '뮤지컬/Noun': False, '빨리/Adverb': False, '꼬마/Noun': False, '가구/Noun': False, '피해자/Noun': False, '의도/Noun': False, '짱/Suffix': False, '마르/Noun': False, '감동/Noun': False, '재치/Noun': False, '왜/Noun': False, '이영화/Noun': False, '꽃/Noun': False, '영혼/Noun': False, '본능/Noun': False, '터/Noun': False, '영화/Noun': False, '신파/Noun': False, '학창시절/Noun': False, '역/Noun': False, 'ㅜㅜ/KoreanParticle': False, '용이/Noun': False, '되어다/Verb': False, '아더/Noun': False, '대만/Noun': False, '뵙다/Verb': False, '뿐/Noun': False, '보고/Noun': False, '추노/Noun': False, '라도/Josa': False, '짧다/Adjective': False, '딱하다/Adjective': False, '이나/Josa': False, '결코/Noun': False, '매미/Noun': False, '세/Modifier': False, '근친상간/Noun': False, '부분/Noun': False, '1997년/Number': False, '복선/Noun': False, '대작/Noun': False, '불륜/Noun': False, 'ㅈㅈ/KoreanParticle': False, '연속극/Noun': False, '정치/Noun': False, '신음/Noun': False, '대들다/Verb': False, '범죄/Noun': False, '전꺼다/Foreign': False, '밉다/Adjective': False, 'kl/Alpha': False, '유명하다/Adjective': False, '게이물/Noun': False, '애쓰다/Verb': False, '섹시하다/Adjective': False, '이틀/Noun': False, '내/Noun': False, '세상/Noun': False, '안나/Noun': False, '쥐/Noun': False, '지/Modifier': False, '그대로/Noun': False, '뻔/Noun': False, '로버트/Noun': False, '에는/Josa': False, '공주/Noun': False, '울컥/Adverb': False, '부다페스트/Noun': False, '빵점/Noun': False, '인물/Noun': False, '도와주다/Verb': False, '한편/Noun': False, '군대/Noun': False, '위드/Noun': False, '안달/Noun': False, '지대/Noun': False, '아직/Adverb': False, '거슬리다/Verb': False, '개그콘서트/Noun': False, '김태희/Noun': False, '월드/Noun': False, '센세이션/Noun': False, '십/Modifier': False, '아햏햏/Noun': False, '매우/Noun': False, '란슬롯/Noun': False, '안/Noun': False, '미치다/Adjective': False, '괜히/Adverb': False, '최고/Noun': False, '배두나/Noun': False, '다음/Noun': False, '문/Modifier': False, '1/10/Number': False, '횡단보도/Noun': False, '상상력/Noun': False, '증상/Noun': False, '드/Noun': False, '산/Noun': False, '13년/Number': False, '장끌/Noun': False, '날/Noun': False, '판/Noun': False, '라미란/Noun': False, '빨갱이/Noun': False, '피의자/Noun': False, '제대로/Noun': False, '기도/Noun': False, '콧대/Noun': False, '닮다/Verb': False, '교도소/Noun': False, '이야/Josa': False, ',': False, '그저/Adverb': False, '박정아/Noun': False, '압삘럽/Noun': False, '공유/Noun': False, '화해/Noun': False, '이만/Noun': False, '제대/Noun': False, '도움/Noun': False, '걸스데이/Noun': False, '의문/Noun': False, '%': False, '봣는데/Noun': False, '깔다/Verb': False, '북한/Noun': False, './Punctuation': False, '엄마/Noun': False, '눈물나다/Verb': False, '+/Punctuation': False, '빌리다/Verb': False, '따로/Adverb': False, '주기도/Noun': False, '건담/Noun': False, '감사하다/Verb': False, '빼다/Verb': False, '클래식/Noun': False, '그랜드/Noun': False, '신나다/Adjective': False, '납득/Noun': False, '깊다/Adjective': False, '뛰어넘다/Verb': False, '찾다/Verb': False, '또한/Noun': False, '달팽이/Noun': False, '광장/Noun': False, '일본/Noun': False, '나머/Noun': False, '주제가/Noun': False, '불협화음/Noun': False, '어마어마하다/Adjective': False, '아름답다/Adjective': False, '캐릭터/Noun': False, '친구/Noun': False, '이라고는/Josa': False, '런가/Noun': False, '싫어하다/Adjective': False, '힘겹다/Adjective': False, '치다/Verb': False, '불알/Noun': False, '문학/Noun': False, '만에/Josa': False, '만이/Josa': False, '위력/Noun': False, '연인/Noun': False, '강수연/Noun': False, '여배우/Noun': False, '친척/Noun': False, '최고봉/Noun': False, '집/Noun': False, '문자/Noun': False, '문제/Noun': False, '학위/Noun': False, '빨/Noun': False, '전/Foreign': False, 'ㅎㅎㅎ/KoreanParticle': False, '긍정/Noun': False, '맵다/Adjective': False, '네/Determiner': False, '찡/Adverb': False, '어설프다/Adjective': False, '김유미/Noun': False, '~': False, '에서/Josa': False, '술/Noun': False, '울리다/Verb': False, '아무나/Noun': False, '어쩔/Modifier': False, '불구/Noun': False, '이란/Josa': False, '든/Josa': False, '오피스/Noun': False, '여/Josa': False, '찰나/Noun': False, \"'/Punctuation\": False, '일으키다/Verb': False, '완전/Noun': False, '안/VerbPrefix': False, '반대/Noun': False, '........': False, '그만/Adverb': False, 'ㅜㅡ/KoreanParticle': False, '권/Suffix': False, '경극/Noun': False, '카톡/Noun': False, '괜찮다/Adjective': False, '정유미/Noun': False, '싸이코/Noun': False, '델피/Noun': False, '칠이/Noun': False, '놈/Noun': False, '내용/Noun': False, '애/Noun': False, '흉내/Noun': False, '시/Modifier': False, '살인/Noun': False, '번/Noun': False, '고증/Noun': False, '중/Suffix': False, '짜증/Noun': False, '유치하다/Adjective': False, '심은하/Noun': False, '다미/Noun': False, '표절/Noun': False, '표현/Modifier': False, '뮤지컬영화/Noun': False, '지나치다/Verb': False, '질퍽/Noun': False, '글쎄/Noun': False, '저스트/Noun': False, '더/Noun': False, '^^/Punctuation': False, '뼈/Noun': False, '와는/Josa': False, '시/Noun': False, '여부/Noun': False, '평가/Noun': False, '이번/Noun': False, '만찬/Noun': False, '하고/Josa': False, '그것/Noun': False, '전개/Noun': False, '리플릿/Noun': False, '이름/Noun': False, '완전하다/Adjective': False, '가르다/Verb': False, '변명/Noun': False, '연출/Noun': False, '걸리다/Verb': False, '추가/Noun': False, '쓰러지다/Verb': False, '시선/Noun': False, '기분/Noun': False, '도의/Foreign': False, '아메리칸/Noun': False, '예전/Noun': False, '조연/Noun': False, '한심하다/Adjective': False, '웃다/Verb': False, '이라는/Josa': False, '단면/Noun': False, '뜻밖/Noun': False, '밝혀지다/Verb': False, '몰입도/Noun': False, '도대체/Noun': False, \"'-'/Punctuation\": False, '지루하다/Adjective': False, '어색/Noun': False, '멀다/Adjective': False, '만끽/Noun': False, '번만/Noun': False, '군더더기/Noun': False, '토마스/Noun': False, '굿/Noun': False, '감다/Verb': False, '♥/Foreign': False, '고민/Noun': False, '당신/Noun': False, '1/Number': False, '뭐라다/Verb': False, '홍혜정/Noun': False, '좋다/Adjective': False, '섬세하다/Adjective': False, '진정/Noun': False, '들/Suffix': False, '과장/Noun': False, '훨/Noun': False, '가상하다/Adjective': False, 'young/Alpha': False, '90년/Number': False, '성해/Noun': False, '뿐/Suffix': False, '이승기/Noun': False, '법/Noun': False, '키/Noun': False, '주인/Noun': False, '깜놀/Noun': False, '주제/Noun': False, '반전/Noun': False, '사이/Modifier': False, '슬프다/Adjective': False, '천카이거/Noun': False, '무재/Noun': False, '값/Noun': False, '구먼/Noun': False, '파다/Verb': False, '태어나다/Verb': False, '속/Noun': False, '정치범/Noun': False, '아끼다/Verb': False, '끝나다/Verb': False, '아카데미상/Noun': False, '자꾸/Noun': False, '부라리다/Verb': False, '기술/Noun': False, '매번/Noun': False, '생/Noun': False, '120/Number': False, '영활/Noun': False, '지나가다/Verb': False, '공통점/Noun': False, '엄포스/Noun': False, '계시다/Adjective': False, '짱짱/Noun': False, '에선/Josa': False, '말다/Verb': False, '..': False, '아역/Noun': False, '부르다/Verb': False, '기/Modifier': False, '올/Modifier': False, '찌릿/Noun': False, '찍을껀데/Noun': False, '지금/Noun': False, '답지/Noun': False, '다/Adverb': False, '가족/Noun': False, '다르덴/Noun': False, '차이밍량/Noun': False, '2/Number': False, '스포츠영화/Noun': False, '가발/Noun': False, '소/Noun': False, '상쾌/Noun': False, '지고/Noun': False, '서린/Noun': False, '대변/Noun': False, '신화/Noun': False, '킬링타임/Noun': False, '익숙하다/Adjective': False, '미국드라마/Noun': False, '마는/Noun': False, '시베리아/Noun': False, '대박/Noun': False, '지나/Noun': False, '쩔다/Verb': False, '바랬다/Noun': False, '진호/Noun': False, '다시/Noun': False, '여정/Noun': False, '극/Modifier': False, '재미/Noun': False, '애니메이션/Noun': False, '긔/Noun': False, '바꾸다/Verb': False, '뿅/Adverb': False, '다른/Modifier': False, '식이/Noun': False, '실력/Noun': False, '시가전/Noun': False, '잼/Noun': False, '위원회/Noun': False, '머물다/Verb': False, '비롯/Noun': False, '사색/Noun': False, '곤/Noun': False, '물/Noun': False, '마저/Josa': False, '원한/Noun': False, '조은숙/Noun': False, '맞서다/Verb': False, ':': False, '과/Noun': False, '손/Noun': False, '당황/Noun': False, '삼/Modifier': False, '돈/Noun': False, '참가자/Noun': False, '뒤/Noun': False, '데/Noun': False, '지만/Josa': False, '두/Josa': False, '결국/Adverb': False, '밀려오다/Verb': False, '밝다/Verb': False, '서준/Noun': False, '역사/Noun': False, '서양/Noun': False, '시원하다/Adjective': False, '.......': False, '생기다/Verb': False, '감옥살이/Noun': False, '다소/Noun': False, '그래도/Adverb': False, '후/Noun': False, '쓰다/Verb': False, '종방/Noun': False, '>': False, '명치/Noun': False, '1996년/Number': False, '소박하다/Adjective': False, '필요/Noun': False, '뭔가/Noun': False, '반개/Noun': False, '세르게이/Noun': False, 'upon/Alpha': False, '개콘/Noun': False, '지존/Noun': False, '수준/Noun': False, '감기/Noun': False, '7.5/Number': False, '로만/Noun': False, '참다/Verb': False, '일어나고/Noun': False, '놀라다/Verb': False, '제적/Noun': False, '모르다/Verb': False, '제자/Noun': False, '재탕하다/Adjective': False, '별루/Noun': False, '망치/Noun': False, '선생님/Noun': False, '네이버/Noun': False, '락스/Noun': False, '여/Modifier': False, '부실하다/Adjective': False, '공감/Noun': False, '사회/Noun': False, '오랜/Modifier': False, '컴/Noun': False, '걸음/Noun': False, '유쾌하다/Adjective': False, '한창/Noun': False, '투/Noun': False, '구만/Eomi': False, '~~~~~/Punctuation': False, '떠들다/Verb': False, '는걸/Noun': False, '재밌다/Adjective': False, '자유/Noun': False, '노땅/Noun': False, '프로필/Noun': False, '나/Noun': False, '무술/Noun': False, '가슴속/Noun': False, '나다/Verb': False, '보/Noun': False, '살해/Noun': False, '보다도/Josa': False, '학생/Noun': False, '개그/Noun': False, '미국/Noun': False, '호/Noun': False, '구리지/Noun': False, '아깝다/Adjective': False, '거기/Noun': False, '아누/Noun': False, '지/Josa': False, '하아/Exclamation': False, '만으로도/Josa': False, '도인줄모를정도로/Foreign': False, '도에/Foreign': False, '만들어지다/Verb': False, '부작/Noun': False, '뽑히다/Verb': False, '특집/Noun': False, '월요일/Noun': False, '래서/Noun': False, '류/Noun': False, '거짓/Noun': False, ':/Punctuation': False, '건데/Noun': False, '떨다/Verb': False, '풀리다/Verb': False, '하라/Noun': False, '이라/Josa': False, '대놓고/Adverb': False, '김혜성/Noun': False, '내내/Noun': False, '만/Noun': False, '마치/Noun': False, '로봇/Noun': False, '이랑/Josa': False, '알고싶다/Noun': False, '세월/Noun': False, '짜다/Verb': False, '아오/Exclamation': False, '어거지/Noun': False, '퀄리티/Noun': False, '음향/Noun': False, '활짝/Noun': False, '욕심/Noun': False, '일이/Noun': False, '길들이다/Verb': False, '어쩌라고/Adverb': False, '영구/Noun': False, '만해/Noun': False, '한마디/Noun': False, '알바생/Noun': False, '대체/Noun': False, '10회/Number': False, '조절/Noun': False, '녹다/Verb': False, '관객수/Noun': False, '레닌/Noun': False, '전하/Noun': False, '스텝/Noun': False, '``': False, '과대/Noun': False, '준/Noun': False, '키우다/Verb': False, '틀다/Verb': False, '진심/Noun': False, '마음/Noun': False, '게뭐/Noun': False, '보도/Noun': False, '배역/Noun': False, '명/Noun': False, '죄송하다/Adjective': False, '핀/Noun': False, '영화평론가/Noun': False, '맘마미아/Noun': False, '즉/Noun': False, '우상화/Noun': False, '졸작/Noun': False, '슬픔/Noun': False, '모건/Noun': False, '시작/Noun': False, '작살/Noun': False, '치고/Josa': False, '몬스터/Noun': False, '이상하다/Adjective': False, '차/Noun': False, '고/Josa': False, '결투/Noun': False, '~/Punctuation': False, '주된/Modifier': False, '돌아오다/Verb': False, '이야기/Noun': False, '이응경/Noun': False, '꼭두각시/Noun': False, '훈련/Noun': False, '은지원/Noun': False, '울먹이다/Verb': False, '공부/Noun': False, '해보다/Verb': False, '눈물/Noun': False, '호구/Noun': False, '빠져들다/Verb': False, '진/Noun': False, '소리/Noun': False, '토르/Noun': False, '보이/Noun': False, '설정/Noun': False, '치르다/Verb': False, '별루더/Noun': False, '어리다/Verb': False, '요/Noun': False, '완벽하다/Adjective': False, '커스틴/Noun': False, '심오하다/Adjective': False, '고위/Noun': False, '이해/Noun': False, '마다/Josa': False, '라서/Josa': False, '짜지다/Verb': False, '가/Foreign': False, 'CGV/Alpha': False, '미국인/Noun': False, '뭘/Noun': False, '자/Suffix': False, '착각/Noun': False, '보지/Noun': False, '원작/Noun': False, '편/Noun': False, '성범죄자/Noun': False, '사촌형/Noun': False, '판타지영화/Noun': False, '제/Modifier': False, '보내다/Verb': False, '생각/Noun': False, '생명/Noun': False, '일/Noun': False, '화/Suffix': False, '아이/Noun': False, '그래서/Adverb': False, '투어/Noun': False, '몬초/Noun': False, '이안/Noun': False, '위/Noun': False, '아/Josa': False, '전부/Noun': False, '듣다/Verb': False, '키이라/Noun': False, '형/Suffix': False, '딸리다/Verb': False, '가볍다/Adjective': False, '우뢰매/Noun': False, 'OOO/Alpha': False, '-/Punctuation': False, '다듬다/Verb': False, '답/Noun': False, '뜬금/Noun': False, '어린이/Noun': False, '경제/Noun': False, '스릴러물/Noun': False, '너무/Adverb': False, '예술가/Noun': False, '환경/Noun': False, '다지/Noun': False, '아빠/Noun': False, '스파이더맨/Noun': False, '게임/Noun': False, '수입/Noun': False, '완/Noun': False, '아무튼/Adverb': False, '어디/Noun': False, '장교/Noun': False, '방송/Noun': False, '석/Modifier': False, '야릇하다/Adjective': False, '끊음/Noun': False, '껄끄런/Noun': False, '부터/Noun': False, '녹음/Noun': False, '큐브/Noun': False, '고요하다/Adjective': False, '내일/Noun': False, '두/Noun': False, '왈츠/Noun': False, '한/Determiner': False, '유/Noun': False, '할아버지/Noun': False, '연예인/Noun': False, '편이/Noun': False, '맛깔/Noun': False, '오다/Verb': False, '연기력/Noun': False, '노/Noun': False, '모녀/Noun': False, '인/Suffix': False, '봉하/Noun': False, '이적/Noun': False, '니노/Noun': False, '12년/Number': False, '넘어지다/Verb': False, '주/Noun': False, '이상/Noun': False, '우연히/Adverb': False, '맛/Noun': False, '한예슬/Noun': False, '정치인/Noun': False, '느낌/Noun': False, '예쁘다/Adjective': False, '서리/Noun': False, '깨닫다/Verb': False, '암/Noun': False, '민중/Noun': False, '신봉선/Noun': False, '개연/Noun': False, '를/Josa': False, '생동감/Noun': False, '알/Noun': False, '안이/Noun': False, '잔잔하다/Adjective': False, '이쁘다/Adjective': False, '밴드/Noun': False, '우리/Noun': False, '짜증나다/Adjective': False, '살인마/Noun': False, '절절/Noun': False, '2009년/Number': False, '좀/Noun': False, '안되다/Adjective': False, '이네/Josa': False, '질왜/Noun': False, '순수하다/Adjective': False, '엠비씨/Noun': False, '선속/Noun': False, '가지/Noun': False, '끄다/Verb': False, '이리/Adverb': False, '높이다/Verb': False, '산뜻하다/Adjective': False, '고은님/Noun': False, '주식회사/Noun': False, '되다/Verb': False, '로큰롤/Noun': False, '달인/Noun': False, '김/Noun': False, '발랄하다/Adjective': False, '예측/Noun': False, '이든/Josa': False, '순간/Noun': False, '뮤비/Noun': False, '핑계/Noun': False, '가요/Noun': False, '기량/Noun': False, '10년/Number': False, '움/Noun': False, '마이너스/Noun': False, '돌진/Noun': False, '처음/Noun': False, '구/Noun': False, '흥행/Noun': False, '극적/Noun': False, '잡수다/Verb': False, '조금/Noun': False, '미화/Noun': False, '질질/Noun': False, '재기/Noun': False, '평정/Noun': False, '반공/Noun': False, '감각/Noun': False, '자신/Noun': False, '핀란드/Noun': False, '갈다/Verb': False, '펴다/Verb': False, '짱짱맨/Noun': False, '나이/Noun': False, '똑똑하다/Adjective': False, '멋있다/Adjective': False, '드라마/Noun': False, '그리다/Verb': False, '일반/Noun': False, '달이/Noun': False, '짜릿/Noun': False, '더럽다/Adjective': False, '울다/Verb': False, '보단/Josa': False, '빙빙/Noun': False, '코믹/Noun': False, '뚱뚱하다/Adjective': False, '말고/Josa': False, '나가다/Verb': False, '진짜/Noun': False, '츠무구/Noun': False, '펑펑/Noun': False, '즐/Noun': False, '항거/Noun': False, '다리/Noun': False, '어/Noun': False, '흘리다/Verb': False, '대가/Noun': False, '맥스/Noun': False, '올레/Noun': False, '보다/Josa': False, '분/Suffix': False, '으로/Josa': False, '담기다/Verb': False, '적월/Noun': False, 'ㅈ/KoreanParticle': False, '장혁/Noun': False, '정당화/Noun': False, '말/Noun': False, '피고/Noun': False, '크다/Verb': False, '로더/Noun': False, '막문위/Noun': False, '력/Suffix': False, '해주다/Verb': False, '거리/Noun': False, '적/Noun': False, '비추다/Verb': False, '라/Josa': False, '안타깝다/Adjective': False, '탈피/Noun': False, '똥/Noun': False, '후반/Noun': False, '섞다/Verb': False, '말로/Noun': False, '며/Noun': False, '단순하다/Adjective': False, '오/Modifier': False, '싸다/Verb': False, '마도/Noun': False, '씩/Adverb': False, '응답/Noun': False, '이연서/Noun': False, '신현준/Noun': False, '그때/Noun': False, '냐/Josa': False, '쩌/Noun': False, '베댓/Noun': False, '꼭/Noun': False, '리얼/Noun': False, '쌤/Noun': False, '필름/Noun': False, '인상/Noun': False, '챙기다/Verb': False, '음식/Noun': False, '거치다/Verb': False, '반하다/Adjective': False, 'ㅋㅋ/KoreanParticle': False, '니/Josa': False, '짜임새/Noun': False, '복귀/Noun': False, '말리/Noun': False, '리스/Noun': False, '이현진/Noun': False, '끝내/Noun': False, '우베/Noun': False, '림프비즈킷/Noun': False, '높아지다/Verb': False, '투쟁/Noun': False, '상/Suffix': False, '할머니/Noun': False, '때/Noun': False, '어디서/Adverb': False, '예/Modifier': False, '골깜/Noun': False, '면상/Noun': False, '지네/Noun': False, '19/Number': False, '쌍/Noun': False, '카나/Noun': False, '사고/Noun': False, '카리스마/Noun': False, '무난/Noun': False, '요/Josa': False, 'the/Alpha': False, '답답하다/Adjective': False, '급/Noun': False, '5/Number': False, '함정/Noun': False, '도둑/Noun': False, '도안/Noun': False, '가져오다/Verb': False, '박빙/Noun': False, '비디오/Noun': False, '선방/Noun': False, '시나리오/Noun': False, '크리스마스/Noun': False, '난/Josa': False, '파다/Noun': False, '교양/Noun': False, '잡기/Noun': False, '살/Noun': False, '순/Modifier': False, '급/Suffix': False, '간첩/Noun': False, '스킨헤드/Noun': False, '뒷받침/Noun': False, '보아/Noun': False, '주귀/Noun': False, 'ㅝ/KoreanParticle': False, '중반인데/Foreign': False, '만이라도/Josa': False, '안개/Noun': False, '계속/Noun': False, '이민기/Noun': False, '8/Number': False, '성룡/Noun': False, '구성/Noun': False, '없다/Adjective': False, '부엌/Noun': False, '올인/Noun': False, '지수/Noun': False, '질/Noun': False, '낭비/Noun': False, '새롭다/Adjective': False, 'MBC/Alpha': False, '트리스탄/Noun': False, '돋보이다/Verb': False, '대다/Verb': False, '매끄럽다/Adjective': False, '`': False, '이지만/Josa': False, '졸다/Verb': False, '흥미롭다/Adjective': False, '민간인/Noun': False, '햇살/Noun': False, '매니저/Noun': False, '총을드/Noun': False, '흥미/Noun': False, '계/Noun': False, '노골/Noun': False, '애니매이션/Noun': False, '20년/Number': False, '년/Noun': False, '맞다/Verb': False, '휴가/Noun': False, '성공/Noun': False, '리브/Noun': False, '불법체류자/Noun': False, '10/Number': False, '무자비하다/Adjective': False, '잠/Noun': False, '소소하다/Adjective': False, '삭제/Noun': False, '받다/Verb': False, '지옥/Noun': False, '에도/Josa': False, '고추/Noun': False, '멜로/Noun': False, '본인/Noun': False, '면서/Noun': False, '미안하다/Adjective': False, '예요/Josa': False, '광고/Noun': False, '동심/Noun': False, '연/Modifier': False, '만/Josa': False, '없이/Adverb': False, '한데/Eomi': False, '역도/Noun': False, 'asfgsdlgkbjsjvb/Alpha': False, '신카이/Noun': False, '요원/Noun': False, '가족사진/Noun': False, '쩝/Adverb': False, '에서는/Josa': False, 'ㄷㅔ/KoreanParticle': False, '70회/Number': False, '쫌/Noun': False, '소/Modifier': False, 'C/Alpha': False, '한두/Modifier': False, '백/Modifier': False, '밖에/Josa': False, '권상우/Noun': False, '짐승/Noun': False, '감금/Noun': False, '월/Noun': False, '왠만하다/Adjective': False, '남자/Noun': False, '식/Suffix': False, '에피소드/Noun': False, '읽다/Verb': False, '동영상/Noun': False, '저그/Noun': False, '프리/Noun': False, 'ㅎㅎ/KoreanParticle': False, '남다/Verb': False, '닿다/Verb': False, '바비/Noun': False, '예산/Noun': False, '곳곳/Noun': False, '걍/Adverb': False, '낼/Noun': False, '진행/Noun': False, '남/Noun': False, '중요하다/Adjective': False, '사진/Noun': False, '딱/Adverb': False, '들이다/Verb': False, '반복/Noun': False, '차다/Verb': False, '114/Number': False, '들어가다/Verb': False, '그녀/Noun': False, 'What/Alpha': False, '틱장애/Noun': False, '점차/Noun': False, '별로/Noun': False, '수년/Noun': False, '속편/Noun': False, '드래곤/Noun': False, '회/Noun': False, '인공/Noun': False, '요즘/Noun': False, '영화관/Noun': False, '이면/Foreign': False, '연기자/Noun': False, '지난/Noun': False, '팔자/Noun': False, '그리고/Conjunction': False, '보여주다/Verb': False, '의/Josa': False, '대/Suffix': False, '공효진/Noun': False, '열리다/Verb': False, '이혜리/Noun': False, '뽑다/Verb': False, '나름/Noun': False, '짱/Noun': False, '경의/Noun': False, '유령/Noun': False, '므/Noun': False, '어렵다/Adjective': False, '결말/Noun': False, '조합/Noun': False, '허진호/Noun': False, '마스코트/Noun': False, '왼쪽/Noun': False, '이/Foreign': False, '클라라/Noun': False, '존중/Noun': False, '가슴/Noun': False, '엔/Josa': False, '영화롭다/Adjective': False, '다투다/Verb': False, '으/Adverb': False, '혼자/Noun': False, '장/Suffix': False, '자막/Noun': False, '성하다/Adjective': False, '힘내다/Verb': False, '밓었/Noun': False, '사운드/Noun': False, '뭐/Noun': False, '순위/Noun': False, '와/Josa': False, '저/Noun': False, '공짜/Noun': False, '용서/Noun': False, '과는/Josa': False, '만약/Noun': False, '이범수/Noun': False, '볼때/Noun': False, '깨알/Noun': False, '차차/Noun': False, '저급/Noun': False, '왕조/Noun': False, '묘사/Noun': False, '노래/Noun': False, '바라보다/Verb': False, '이후/Noun': False, '?': False, '명백하다/Adjective': False, '글쎄요/Noun': False, '모/Modifier': False, '어린시절/Noun': False, '까지/Josa': False, '넘어가다/Verb': False, '정말로/Adverb': False, '무고/Noun': False, '~~~~~~~~~~~/Punctuation': False, '옥소리/Noun': False, '국민/Noun': False, 'i/Alpha': False, '꽤/Noun': False, '1963년/Number': False, '발톱/Noun': False, '작다/Adjective': False, '얼마나/Noun': False, '테이프/Noun': False, '매칭/Noun': False, '니스/Noun': False, '해피/Noun': False, '장난/Noun': False, '대한/Noun': False, '그린/Noun': False, '누가/Noun': False, '벗어나다/Verb': False, '핵/Noun': False, '조차/Josa': False, '장/Noun': False, '노래실력/Noun': False, 'ㅄ/KoreanParticle': False, '하락/Noun': False, '아수라/Noun': False, '3/Number': False, '중간/Noun': True, '하/Suffix': False, '젊음/Noun': False, '무섭다/Adjective': False, '인척/Noun': False, '백봉기/Noun': False, '볼라/Noun': False, '굶주리다/Verb': False, '비정하다/Adjective': False, '이구/Noun': False, '유괴/Noun': False, '사/Modifier': False, '동행/Noun': False, '오월/Noun': False, '세계대전/Noun': False, '잊어버리다/Verb': False, '미묘하다/Adjective': False, '뛰다/Verb': False, '갈등/Noun': False, '잘/VerbPrefix': False, '불가/Noun': False, '만에/Foreign': False, '싫다/Adjective': False, '이던/Josa': False, '차이나타운/Noun': False, '생애/Noun': False, '시각/Noun': False, '하나님/Noun': False, '즐기다/Verb': False, '꿈/Noun': False, '깨달/Noun': False, '학년/Noun': False, '녀/Noun': False, '재밌쎠/Noun': False, '에릭/Noun': False, '인터뷰/Noun': False, 'ㅜ/KoreanParticle': False, '로드/Noun': False, '대적/Noun': False, '용기/Noun': False, '상대/Noun': False, '와의/Josa': False, '괴물/Noun': False, '잃어버리다/Verb': False, '느와르/Noun': False, '토록/Josa': False, '복수/Noun': False, '게/Josa': False, '탁월하다/Adjective': False, '아무/Modifier': False, '억지스럽다/Adjective': False, '올해/Noun': False, '이렇다/Adjective': False, '특유/Noun': False, '무슨/Noun': False, '.': False, '익숙해지다/Verb': False, '기준/Noun': False, '아무리/Adverb': False, '패자부활전/Noun': False, '느리다/Adjective': False, '네/Noun': False, '란/Noun': False, '엿/Modifier': False, '놀다/Verb': False, '당하다/Adjective': False, '언/Modifier': False, '드니/Noun': False, '종착역/Noun': False, '모순/Noun': False, '절대/Noun': False, '사다/Verb': False, '전화/Noun': False, '물폭탄/Noun': False, '킁/Noun': False, '아쉽다/Adjective': False, '위조/Noun': False, '혀/Noun': False, '5년/Number': False, '찍다/Verb': False, '초월/Noun': False, '동화/Noun': False, '그래픽/Noun': False, '착하다/Adjective': False, '포장/Noun': False, '검술/Noun': False, '다가/Noun': False, '그로/Noun': False, '떨어지다/Verb': False, '리얼리티/Noun': False, '단/Modifier': False, '열정/Noun': False, '연극/Noun': False, '불가능하다/Adjective': False, '볼/Noun': False, '게/Noun': False, '성적/Noun': False, '땜/Noun': False, '변화/Noun': False, '한번/Noun': False, '대/Modifier': False, '개봉/Noun': False, '망치다/Verb': False, '때문/Noun': False, '처럼/Josa': False, '온/Modifier': False, '이라니/Josa': False, '내다/Verb': False, '탈출/Noun': False, '이론/Noun': False, '삼다/Verb': False, '명대사/Noun': False, '해설/Noun': False, '알맞다/Adjective': False, '!': False, '논란/Noun': False, '간/Noun': False, '강하다/Adjective': False, '폭풍눈물/Noun': False, '화보/Noun': False, '아예/Noun': False, '검증/Noun': False, '까지도/Josa': False, '기리/Noun': False, '의견/Noun': False, '최신/Noun': False, '스피디/Noun': False, '화산고/Noun': False, '어느/Adverb': False, '앞/Noun': False, '철/Noun': False, '스릴/Noun': False, '살인자/Noun': False, '퀄/Noun': False, '상대성/Noun': False, '굿바이/Noun': False, '자다/Verb': False, '적임/Noun': False, '선생/Noun': False, '가정/Noun': False, '미모/Noun': False, '메세지/Noun': False, '어허/Exclamation': False, '래/Josa': False, '해내다/Verb': False, '스러운/Josa': False, '아무/Noun': False, '미스캐스팅/Noun': False, '평균/Noun': False, '면/Noun': False, '겁나다/Verb': False, '깜짝/Noun': False, '100/Number': False, '오글거리다/Verb': False, '화이팅/Noun': False, '조디/Noun': False, '해도/Noun': False, '날카로워지다/Verb': False, '인거/Josa': False, '물건/Noun': False, '다녀오다/Verb': False, '즐겁다/Adjective': False, '낫다/Verb': False, '뛰어나다/Adjective': False, '로/Noun': False, '앨빈/Noun': False, '기대하다/Adjective': False, '네/Suffix': False, '지키다/Verb': False, '탑/Noun': False, '다큐/Noun': False, '수/Noun': False, '무기/Noun': False, '재미있다/Adjective': False, '극/Noun': False, '용구성/Noun': False, '몰입/Noun': False, '정신의학/Noun': False, '세기/Noun': False, '서기/Noun': False, '나/Josa': False, '시나/Noun': False, '이민정/Noun': False, '시종일관/Noun': False, '~~/Punctuation': False, '우웩/Noun': False, 'CG/Alpha': False, '자체/Noun': False, '이외/Noun': False, '화신/Noun': False, '대본/Noun': False, '숀펜/Noun': False, '주입/Noun': False, '등/Noun': False, '그리움/Noun': False, '마코토/Noun': False, '깊이/Noun': False, '요리/Noun': False, '앉다/Verb': False, '먹음/Noun': False, '멍하다/Adjective': False, '<': False, '숨다/Verb': False, '갈팡질팡/Noun': False, '올리다/Verb': False, '프로/Noun': False, '교훈/Noun': False, 'once/Alpha': False, '논리/Noun': False, '가보다/Verb': False, '취향/Noun': False, '간간히/Adverb': False, '에게/Josa': False, '들어주다/Verb': False, '흑인음악/Noun': False, '그렇게/Adverb': False, ',/Punctuation': False, '이인상/Noun': False, '연기/Noun': False, '전쟁/Noun': False, '역활/Noun': False, '여자/Noun': False, '부/Noun': False, '하나로/Noun': False, '^^': False, '푹/Noun': False, '2010년/Number': False, '영/Modifier': False, '뜨다/Verb': False, '신/Noun': False, '한국영/Noun': False, '헐리우드/Noun': False, '패션/Noun': False, '믹스/Noun': False, '무엇/Noun': False, 'ost/Alpha': False, '시리/Noun': False, '중국인/Noun': False, '찌다/Verb': False, '상술/Noun': False, '초딩/Noun': False, '코미디/Noun': False, '2년/Number': False, ')': False, '피/Noun': False, '사라지다/Verb': False, '욕/Noun': False, 'OO/Alpha': False, '끌리다/Verb': False, '너무나/Adverb': False, '짠하다/Adjective': False, '나중/Noun': False, '싸구려/Noun': False, '황/Noun': False, '쪽/Noun': False, '망하다/Adjective': False, '돼지/Noun': False, '분/Noun': False, '대유/Noun': False, '이의/Noun': False, '건가/Noun': False, '분노조절/Noun': False, '설레다/Adjective': False, '난감하다/Adjective': False, '늙다/Verb': False, '용가리/Noun': False, '통/Noun': False, '의/Noun': False, '애기/Noun': False, '@': False, '마/Noun': False, '들다/Verb': False, '행복/Noun': False, '생생하다/Adjective': False, '즐거움/Noun': False, '절망/Noun': False, '루/Noun': False, '둘/Noun': False, '푸근하다/Adjective': False, '잠시/Noun': False, '정말/Noun': False, 'this/Alpha': False, '발/Noun': False, '우려/Noun': False, '따다/Verb': False, '후세/Noun': False, '토막/Noun': False, '도/Josa': False, '진리/Noun': False, '나르다/Verb': False, '긴장감/Noun': False, '가치/Noun': False, '갖추다/Verb': False, '지존파/Noun': False, 'ㅉㅉ/KoreanParticle': False, '이겠다/Verb': False, '길용우/Noun': False, '삶속/Noun': False, '보다/Verb': True, '치밀하다/Adjective': False, '해석/Noun': False, 'D/Alpha': False, '♥♥/Foreign': False, '절때/Noun': False, '넘치다/Adjective': False, '주년/Noun': False, '쵝오/Noun': False, '헤집다/Verb': False, '영양가/Noun': False, '순정/Noun': False, '현충일/Noun': False, '향수/Noun': False, '원주민/Noun': False, '인가/Josa': False, '후련/Noun': False, '에볼라/Noun': False, '사극/Noun': False, '포스/Noun': False, '싸하다/Adjective': False, '매력/Noun': False, 'trash/Alpha': False, '엽문/Noun': False, '엄청/Adverb': False, '송강호/Noun': False, '부정/Noun': False, 'g/Alpha': False, '없애다/Verb': False, '어/Suffix': False, '하늘/Noun': False, '끼다/Verb': False, '수작/Noun': False, '다/Josa': False, '부터/Josa': False, '닭목/Noun': False, '따르다/Verb': False, '검다/Adjective': False, '넣다/Verb': False, '방도/Noun': False, '간신히/Adverb': False, '개다/Verb': False, '무당/Noun': False, '기사/Noun': False, '중/Noun': False, '에서도/Josa': False, '달밤/Noun': False, '야/Josa': False, '화남/Noun': False, '길다/Adjective': False, '...': False, '야하다/Adjective': False, '뭣같/Noun': False, '라는/Josa': False, '먹다/Verb': False, '이런/Modifier': False, '중국/Noun': False, '배꼽/Noun': False, '조차도/Josa': False, '여기/Noun': False, '젤/Noun': False, '이래/Josa': False, '견자단/Noun': False, '상사/Noun': False, '비어/Noun': False, '터지다/Verb': False, '그냥/Noun': False, '남북/Noun': False, '훈훈하다/Adjective': False, '대의/Foreign': False, '던스트/Noun': False, '불후/Noun': False, '남발/Noun': False, '신/Modifier': False, '아니다/Adjective': False, '드러나다/Verb': False, '6/Number': False, '박물관/Noun': False, '언밸러스/Noun': False, '독/Noun': False, '느끼다/Verb': False, '귀신/Noun': False, '나쁘다/Adjective': False, '가나다라/Noun': False, '비참하다/Adjective': False, '솔직하다/Adjective': False, '감성/Noun': False, '노잼/Noun': False, '단어/Noun': False, '이훨/Noun': False, 'ㅠㅠ/KoreanParticle': False, '삶/Noun': False, '잘생기다/Adjective': False, '쥑/Noun': False, '무겁다/Adjective': False, '이다/Adjective': False, '이고/Josa': False, '서운하다/Adjective': False, '동/Modifier': False, '함부로/Noun': False, '금지/Noun': False, '버무러진/Noun': False, '댓글/Noun': False, '훅/Noun': False, '현/Modifier': False, '다가오다/Verb': False, '방법/Noun': False, '심사/Noun': False, '대한민국/Noun': False, '사죄/Noun': False, '얘기/Noun': False, '사랑비/Noun': False, '무표/Noun': False, '풍/Adverb': False, '코드/Noun': False, '들어맞다/Verb': False, '물론/Adverb': False, '몰락/Noun': False, '오버/Noun': False, '재탕/Noun': False, '영웅본색/Noun': False, '요구/Noun': False, '담백하다/Adjective': False, '한국/Noun': False, '젖다/Verb': False, '눈부시다/Adjective': False, '역시/Noun': False, 'ㅜㅜㅜ/KoreanParticle': False, '파워/Noun': False, '불안하다/Adjective': False, '스/Noun': False, '못/Noun': False, '찝찝하다/Adjective': False, '미소/Noun': False, '이딴/Modifier': False, '최초/Noun': False, '열심히/Adverb': False, '그/Determiner': False, '상태/Noun': False, '인생/Noun': False, '꽉/Noun': False, '그건/Adverb': False, '보이다/Verb': False, '수백향/Noun': False, '98년/Number': False, \"''\": False, '시청률/Noun': False, '역작/Noun': False, '엉/Exclamation': False, '히/Adverb': False, '선거/Noun': False, '쇼/Noun': False, '조미/Noun': False, '국산/Noun': False, '못/VerbPrefix': False, '손예진/Noun': False, '모습/Noun': False, '작품/Noun': False, 'OST/Alpha': False, '그만/Modifier': False, '버킷리스트/Noun': False, '울/Noun': False, '씬/Noun': False, '잔인함/Noun': False, '최악/Noun': False, '활/Noun': False, '윤제문/Noun': False, '정신장애/Noun': False, '냥/Josa': False, '놓다/Verb': False, '가면/Noun': False, '대강/Noun': False, '재미없다/Adjective': False, '따뜻하다/Adjective': False, 'ㅡ/KoreanParticle': False, '강추/Noun': False, '지휘/Noun': False, '무/Noun': False, '다르다/Adjective': False, '재생/Noun': False, '추다/Verb': False, '무능력하다/Adjective': False, '임/Noun': False, '장애/Noun': False, '돌아가다/Verb': False, '평점/Noun': False, '잡히다/Verb': False, '성향/Noun': False, '이유/Noun': False, '탄탄하다/Adjective': False, '폭도/Noun': False, '건지다/Verb': False, '하다/Verb': False, '빠순이/Noun': False, '1': False, '트레비스/Noun': False, '민망하다/Adjective': False, '힘드다/Adjective': False, '랑/Josa': False, '별거/Noun': False, '시리즈/Noun': False, '역할/Noun': False, '거/Noun': False, '은은하다/Adjective': False, '머/Noun': False, '세계/Noun': False, '목소리/Noun': False, '영화사/Noun': False, '천재/Noun': False, '허다/Verb': False, '50': False, '샤넬/Noun': False, '긴장/Noun': False, '14년/Number': False, '미로/Noun': False, '일/Modifier': False, '밟다/Verb': False, '엉망/Noun': False, '알아차리다/Verb': False, '벨/Noun': False, '다니다/Verb': False, '땡/Noun': False, '힘들다/Adjective': False, '실망하다/Adjective': False, '뼈대/Noun': False, '적다/Verb': False, '어딘가/Noun': False, '없어지다/Verb': False, '멀리/Noun': False, '이따위/Modifier': False, '혹/Noun': False, '우리나라/Noun': False, '장면/Noun': False, '유혹/Noun': False, '건너다/Verb': False, '결정/Noun': False, '에요/Josa': False, '약탈/Noun': False, '인데/Josa': False, '흥미진진/Noun': False, '사건/Noun': False, '지지다/Verb': False, '악역/Noun': False, '막장/Noun': False, '복/Noun': False, '밤/Noun': False, '에/Josa': True, '겨/Noun': False, '작화/Noun': False, '볼걸/Noun': False, '비록/Noun': False, '바로/Noun': False, '중심/Noun': False, '액션/Noun': False, '을/Josa': False, '재밓당/Noun': False, '제목/Noun': False, '20/Number': False, '탕/Noun': False, '귀엽다/Adjective': False, '함/Noun': False, '소원/Noun': False, '끌/Noun': False, '씨/Suffix': False, '다른/Noun': False, '의/Foreign': False, '흠/Noun': False, '표현/Noun': False, '중반/Noun': False, '도가니탕/Noun': False, '애니스톤/Noun': False, '않다/Verb': False, '자/Noun': False, '극장/Noun': False, '9/Number': False, '스토리/Noun': False, '색휘/Noun': False, '무슨/Modifier': False, '줄리/Noun': False, '가져가다/Verb': False, '제발/Noun': False, 'for/Alpha': False, '효느/Noun': False, '음악/Noun': False, '굳다/Adjective': False, '만큼도/Josa': False, '사로자다/Verb': False, '사람/Noun': False, '서스펜스/Noun': False, '이/Noun': False, '몇/Noun': False, '뜻/Noun': False, '지치다/Verb': False, '난/Noun': False, '온몸/Noun': False, '비약/Noun': False, '본/Modifier': False, '다운/Noun': False, '절제/Noun': False, '화끈하다/Adjective': False, '남기다/Verb': False, '이제/Noun': False, '이탈리아/Noun': False, '면/Josa': False, '쓸데없이/Adverb': False, '뭐임/Noun': False, '정장/Noun': False, '용의/Noun': False, '초기/Noun': False, '그릇/Noun': False, '여군/Noun': False, '우물/Noun': False, '메인/Noun': False, '남녀/Noun': False, '마지막/Noun': False, '여자애/Noun': False, '유태인/Noun': False, '음/Noun': False, '누/Noun': False, '저/Determiner': False, '타르/Noun': False, '위대하다/Adjective': False, '일본인/Noun': False, 'ㅎ/KoreanParticle': False, '과/Josa': False, '숨막히다/Adjective': False, '개/Noun': False, '한/Josa': False, '거북/Noun': False, '전/Modifier': False, '극치/Noun': False, '가문/Noun': False}\n"
     ]
    }
   ],
   "source": [
    "# 테스트하기 2\n",
    "\n",
    "test_sent = '보다가 중간에 나왔습니다'\n",
    "\n",
    "if use_morph: test_sent = pos_tokenize(test_sent)   # pos_tokenize 함수 추가\n",
    "words = word_tokenize(test_sent)\n",
    "test_feature = {set_word: (set_word in words) for set_word in all_words}\n",
    "\n",
    "print(test_feature)"
   ]
  },
  {
   "cell_type": "code",
   "execution_count": 34,
   "id": "85a954e6",
   "metadata": {},
   "outputs": [
    {
     "data": {
      "text/plain": [
       "'pos'"
      ]
     },
     "execution_count": 34,
     "metadata": {},
     "output_type": "execute_result"
    }
   ],
   "source": [
    "classifier.classify(test_feature)"
   ]
  }
 ],
 "metadata": {
  "kernelspec": {
   "display_name": "Python 3 (ipykernel)",
   "language": "python",
   "name": "python3"
  },
  "language_info": {
   "codemirror_mode": {
    "name": "ipython",
    "version": 3
   },
   "file_extension": ".py",
   "mimetype": "text/x-python",
   "name": "python",
   "nbconvert_exporter": "python",
   "pygments_lexer": "ipython3",
   "version": "3.9.12"
  }
 },
 "nbformat": 4,
 "nbformat_minor": 5
}
