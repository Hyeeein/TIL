{
 "cells": [
  {
   "cell_type": "markdown",
   "id": "68e7bb73",
   "metadata": {},
   "source": [
    "## Selenium 개요\n",
    "\n",
    "\n",
    "- \"셀프 주유소는 정말 저렴할까?\" 라는 답을 얻는 방법은 `데이터 분석`\n",
    "\n",
    "\n",
    "- BeautifulSoup 만으로는 접근할 수 없는 인터넷 정보가 존재함 -> `Selenium 활용`\n",
    "\n",
    "\n",
    "### Selenium\n",
    "\n",
    "- **웹 브라우저의 자동화**를 가능하게 하고 지원하는 다양한 도구와 라이브러리를 포함한 프로젝트\n",
    "\n",
    "\n",
    "- 웹 애플리케이션을 자동으로 테스트할 때 사용하는 프레임워크\n",
    "    - Selenium을 이용하여 웹 애플리케이션이 잘 동작하는지 이것저것 작동시켜보는 자동화 프로그램을 만들 수 있음\n",
    "    - Webdriver라는 것을 이용하여 브라우저를 사람이 이용하는 것과 비슷하게 제어할 수 있음\n",
    "    \n",
    "    \n",
    "### JavaScript\n",
    "\n",
    "- 최근에는 대부분의 웹사이트가 JavaScript 사용\n",
    "\n",
    "\n",
    "- 자바스크립트(JavaScript) : 현재 가장 널리 쓰이는 스크립트 언어\n",
    "    - 페이지에 새로운 HTML을 추가하거나 기존 HTML, 혹은 스타일 수정하기\n",
    "    - 마우스 클릭이나 포인터의 움직임, 키보드 키 눌림 등과 같은 사용자 행동에 반응하기\n",
    "    - 네트워크를 통해 원격 서버에 요청을 보내거나, 파일 다운로드, 업로드 하기 (AJAX, COMET과 같은 기술 사용)\n",
    "    - 쿠키를 가져오거나 설정하기\n",
    "    - 사용자에게 질문을 건네거나 메시지 보여주기\n",
    "    - 클라이언트 측에 데이터 저장하기 (로컬 스토리지)\n",
    "    \n",
    "\n",
    "- JavaScript는 페이지 소스 코드에서 `<script>` 태그 부분에 들어있음\n",
    "\n",
    "\n",
    "### JavaScript와 Selenium\n",
    "\n",
    "- 웹 브라우저(클라이언트)와 서버 간의 통신\n",
    "    - 보안을 위해 동기적(sync)으로만 가능했음\n",
    "    - JS를 통해 비동기적(async)으로 가능 (Ajax: Asynchronous JavaScript And XML - 비동기 자바스크립트와 XML)\n",
    "    - 서버와 통신하기 위해 XMLHttpRequest 객체를 사용\n",
    "    \n",
    "\n",
    "- **페이지 전체를 새로고침**하지 않고도 이벤트 발생 시에 비동기적으로 페이지 일부분만 업데이트 가능\n",
    "\n",
    "\n",
    "- **사용자가 직접 동작시켜야만**(ex. 조회 버튼 클릭) 정보가 보이도록 설계\n",
    "\n",
    "\n",
    "- *Selenium을 이용하여*\n",
    "    - 사이트에서 이것저것 클릭하고, 콘텐츠를 열고 닫고 하면서 가져오는 정보들을 수집할 수 있도록 함\n",
    "    - JavaScript가 동작하여 서버로부터 비동기적으로 가져오는 정보나 숨겨져 있는 콘텐츠를 열 수 있음\n",
    "    - **브라우저에 보이는 그대로 웹 페이지 스크랩 가능!!**"
   ]
  },
  {
   "cell_type": "markdown",
   "id": "be21e5c6",
   "metadata": {},
   "source": [
    "---"
   ]
  },
  {
   "cell_type": "markdown",
   "id": "2fc84397",
   "metadata": {},
   "source": [
    "## 1. Selenium 설치하기\n",
    "\n",
    "\n",
    "* Selenium을 사용하기 위해 설치해야 하는 것\n",
    "    1. 아나콘다에 selenium 설치하기: `pip install selenium`\n",
    "    2. 크롬 웹 드라이버 설치하기\n",
    "\n",
    "\n",
    "### (1) Anaconda 환경 설정\n",
    "\n",
    "* **아나콘다 프롬프트**: 아나콘다의 환경설정이 적용된 터미널\n",
    "    - 사용자의 필요에 따라, (가상)환경(env)을 설정할/만들 수 있음\n",
    "    - *파이썬 버전, 모듈 설치 여부 및 모듈 버전* 등\n",
    "\n",
    "\n",
    "* 가상머신(Virtual Machine): OS를 가상으로 올려 윈도우/리눅스 환경에서 개발\n",
    "    - `conda env list` 혹은 `conda info --envs`\n",
    "    - 현재 만들어져 있는 환경(env)들 확인 / envs 폴더 내에 생성\n",
    "    \n",
    "    \n",
    "* 새로운 환경을 만들고 싶다면? `conda create -name 환경이름 python=버전`\n",
    "\n",
    "\n",
    "* 환경을 나누는 이유: python 버전 관리 및 패키지/모듈 충돌 방지\n",
    "\n",
    "\n",
    "* 예시\n",
    "\n",
    "    conda create -n env1 python=3.7 <br>\n",
    "    conda activate env1 <br>\n",
    "    conda deactivate <br>\n",
    "    numpy, pandas 등"
   ]
  },
  {
   "cell_type": "markdown",
   "id": "e2663309",
   "metadata": {},
   "source": [
    "### (2) 크롬 웹 드라이버 설치\n",
    "\n",
    "\n",
    "* 구글에서 Chrome Driver 검색 후 다운로드\n",
    "\n",
    "\n",
    "* 압축 파일(.zip) 해제 후 꼭 경로 확인\n",
    "    - `webdriver.Chrome('chrome이 있는 경로명')`와 같이 사용\n",
    "    - 예) webdriver.Chrome('../driver/chromedriver.exe') -> 상대경로: 현재 실행되는 코드 위치 기준으로 탐색\n",
    "    - 예) webdriver.Chrome(r\"C:\\Users\\phi49\\Downloads\\chromedriver_win32\\chromedriver.exe\") -> 절대 경로"
   ]
  },
  {
   "cell_type": "markdown",
   "id": "ff43c56a",
   "metadata": {},
   "source": [
    "## 2. Selenium 시작하기"
   ]
  },
  {
   "cell_type": "markdown",
   "id": "73360874",
   "metadata": {},
   "source": [
    "1. Selenium에서 webdriver import\n",
    "\n",
    "\n",
    "2. webdriver.Chrome() 이용\n",
    "    - Windows의 경우, r을 앞에 붙이기 / \\를 앞에 한 번 더 붙이기 / \\을 /로 바꾸기\n",
    "    - Linux, Max의 경우, `driver = webdriver.Chrome(\"/home/USER_NAME/FOLDER/chromedriver.exe`)\n",
    "\n",
    "\n",
    "3. 아래의 셀 실행할 때, In[*]이 숫자로 바뀌면 새로운 크롬 창 등장\n",
    "\n",
    "\n",
    "4. 네이버 접속 (새로 만들어진 크롬 창에서 네이버 접속)\n",
    "    - 화면 상단에 'Chrome이 자동화된 테스트 소프트웨어에 의해 제어되고 있습니다'라고 써있음"
   ]
  },
  {
   "cell_type": "code",
   "execution_count": 1,
   "id": "a94a29bf",
   "metadata": {},
   "outputs": [],
   "source": [
    "from selenium import webdriver"
   ]
  },
  {
   "cell_type": "code",
   "execution_count": 2,
   "id": "895731cf",
   "metadata": {},
   "outputs": [
    {
     "name": "stderr",
     "output_type": "stream",
     "text": [
      "C:\\Users\\phi49\\AppData\\Local\\Temp\\ipykernel_29764\\1590875391.py:1: DeprecationWarning: executable_path has been deprecated, please pass in a Service object\n",
      "  driver = webdriver.Chrome(r\"C:\\Users\\phi49\\Downloads\\chromedriver_win32\\chromedriver.exe\")\n"
     ]
    }
   ],
   "source": [
    "driver = webdriver.Chrome(r\"C:\\Users\\phi49\\Downloads\\chromedriver_win32\\chromedriver.exe\")"
   ]
  },
  {
   "cell_type": "code",
   "execution_count": 3,
   "id": "e4525946",
   "metadata": {},
   "outputs": [],
   "source": [
    "driver.get(\"https://www.naver.com\")"
   ]
  },
  {
   "attachments": {},
   "cell_type": "markdown",
   "id": "6cbda87d",
   "metadata": {},
   "source": [
    "5. 개발자 도구를 이용해 네이버 로그인해보기\n",
    "    - F12 누르고, 태그 확인 -> Xpath 확인 (XML + JavaScript)\n",
    "    - 개발자 도구로 아이디와 비밀번호 입력창 태그 확인\n",
    "    - `<input type=\"text\" id=\"id\" name=\"id\" placeholder=\"아이디\" title=\"아이디\" class=\"input_text\" maxlength=\"41 value=\"\">`"
   ]
  },
  {
   "cell_type": "code",
   "execution_count": 4,
   "id": "dd25d433",
   "metadata": {},
   "outputs": [],
   "source": [
    "driver.get(\"https://nid.naver.com/nidlogin.login?url=http%3A%2F%2Fmail.naver.com%2F\")"
   ]
  },
  {
   "cell_type": "markdown",
   "id": "ce78ead0",
   "metadata": {},
   "source": [
    "6. 아이디 입력하기: Selenium의 `find_element_by_id`를 이용하여 id 찾기\n",
    "\n",
    "\n",
    "7. 개발자 도구로 아이디(id)와 비밀번호(pw) 입력창 태그 확인하기\n",
    "    - HTML 소스코드: `<input type=\"password\" id=\"pw\" name=\"pw\" placeholder=\"비밀번호\" class=\"int\" maxlength=\"16\"`"
   ]
  },
  {
   "cell_type": "code",
   "execution_count": 6,
   "id": "954bc275",
   "metadata": {},
   "outputs": [],
   "source": [
    "login_id = driver.find_element(\"id\", \"id\")   # ppt와 문법 다름 주의!!\n",
    "login_id.clear()                             # 어떤 글자가 입력되어 있는 경우가 있을 수 있으므로 clear\n",
    "login_id.send_keys(\"naver_id\")               # 예시 아이디 (내 아이디 넣지 말기)"
   ]
  },
  {
   "cell_type": "code",
   "execution_count": 7,
   "id": "5abc81fe",
   "metadata": {},
   "outputs": [],
   "source": [
    "login_pw = driver.find_element(\"id\", \"pw\")\n",
    "login_pw.clear()\n",
    "login_pw.send_keys(\"password1111\")"
   ]
  },
  {
   "cell_type": "markdown",
   "id": "e7f54bfa",
   "metadata": {},
   "source": [
    "8. 로그인 버튼 누르기\n",
    "    - 개발자 도구 열고 -> 로그인 버튼 클릭 -> 하이라이트된 부분에 오른쪽 마우스 클릭 -> Copy -> Copy XPath 클릭\n",
    "    - `//*[@id=\"log.login\"]` : 웹 페이지의 모든 내용을 XPath로 접근 (XML 언어 형식, 로그인 버튼 위치를 알아냄)"
   ]
  },
  {
   "cell_type": "code",
   "execution_count": 8,
   "id": "7e0a0b85",
   "metadata": {},
   "outputs": [],
   "source": [
    "login_button = '//*[@id=\"log.login\"]'        # 문자열 따옴표 주의\n",
    "click_button = driver.find_element(\"xpath\", login_button)\n",
    "click_button.click()"
   ]
  },
  {
   "cell_type": "code",
   "execution_count": 9,
   "id": "f8ba24be",
   "metadata": {},
   "outputs": [],
   "source": [
    "driver.close()"
   ]
  }
 ],
 "metadata": {
  "kernelspec": {
   "display_name": "Python 3.10.7 64-bit",
   "language": "python",
   "name": "python3"
  },
  "language_info": {
   "codemirror_mode": {
    "name": "ipython",
    "version": 3
   },
   "file_extension": ".py",
   "mimetype": "text/x-python",
   "name": "python",
   "nbconvert_exporter": "python",
   "pygments_lexer": "ipython3",
   "version": "3.10.7"
  },
  "vscode": {
   "interpreter": {
    "hash": "571214fd5c1f53d624ff021843f557c5fed43ab37a0f8ef5dfc8b3865f00e5a5"
   }
  }
 },
 "nbformat": 4,
 "nbformat_minor": 5
}
