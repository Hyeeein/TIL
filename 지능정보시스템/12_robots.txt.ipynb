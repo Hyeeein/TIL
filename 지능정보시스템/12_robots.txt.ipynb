{
 "cells": [
  {
   "cell_type": "markdown",
   "id": "2a6b6775",
   "metadata": {},
   "source": [
    "## robots.txt\n",
    "\n",
    "* 로봇 배제 표준\n",
    "    - 웹 크롤러와 같은 봇(Bot)들의 접근을 제어하기 위해 1994년 6월에 제정됨\n",
    "    - 어떤 페이지의 접근 권한이 허가(Allow)되고, 금지(Disallow)되는지 텍스트 파일로 기록함\n",
    "    \n",
    "    \n",
    "* 웹 브라우저로 직접 이 사이트를 보는 건 괜찮지만, 프로그램을 통해 접근하는 건 안됨. **그러나 강제성이 있는 것은 아님.**\n",
    "    - '권고안' -> 금지된 웹 페이지에 빈번하게 접근하는 것은 웹 서버 공격 행위로 간주될 수 있음"
   ]
  },
  {
   "cell_type": "markdown",
   "id": "ee34b322",
   "metadata": {},
   "source": [
    "### robots.txt의 위치\n",
    "\n",
    "- 웹 페이지의 루트에 위치\n",
    "\n",
    "\n",
    "- robots.txt 보는 법: 홈페이지 주소 + /robots.txt\n",
    "    - 네이버의 경우: www.naver.com/robots.txt"
   ]
  },
  {
   "cell_type": "markdown",
   "id": "01b7d10a",
   "metadata": {},
   "source": [
    "* 형태\n",
    "    - User-agent : 누구/어떤 로봇에 규칙이 적용되는지 지정\n",
    "        - `*` : 모든 봇에 대해 적용\n",
    "    - Disallow : 접근을 금지할 웹페이지\n",
    "        - `/` : 전체 웹 페이지\n",
    "    - Allow : 접근을 허용할 웹페이지\n",
    "        - `/$` : 루트(메인, 첫) 페이지\n",
    "\n",
    "    User-agent: * <br>\n",
    "    Disallow: / <br>\n",
    "    Allow : /$ "
   ]
  },
  {
   "cell_type": "markdown",
   "id": "ade5269d",
   "metadata": {},
   "source": [
    "* 크롤링을 금지하지만, 메인 페이지는 예외적으로 허용\n",
    "    - 구글에서 네이버 블로그 글 등이 노출되지 않는 이유!"
   ]
  },
  {
   "cell_type": "markdown",
   "id": "81f8e9eb",
   "metadata": {},
   "source": [
    "* robots.txt로 허가된 것만 수집 가능\n",
    "    - 일반 유저는 User-agent: * 로 표기되는 경우가 많음\n",
    "    - 웹 서버에 지나친 부하가 걸리지 않게 프로그래밍으로 조절"
   ]
  },
  {
   "cell_type": "markdown",
   "id": "88c2d444",
   "metadata": {},
   "source": [
    "### robots.txt의 다양한 경우의 수\n",
    "\n",
    "1. 모든 로봇에게 접근 허락 (의미 없음)\n",
    "\n",
    "    User-agent: * <br>\n",
    "    Allow: / <br>\n",
    "\n",
    "\n",
    "2. 모든 로봇에게 접근 금지\n",
    "\n",
    "    User-agent: * <br>\n",
    "    Disallow: / <br>\n",
    "    \n",
    "    \n",
    "3. 모든 로봇에 특정 디렉토리 접근 금지 <br>\n",
    "   폴더명의 끝에는 /을 붙여야 함. 안 붙이면 확장자가 없는 파일로 인식\n",
    "\n",
    "    User-agent: * <br>\n",
    "    Disallow: /directory_name1/ <br>\n",
    "    \n",
    "    \n",
    "4. 모든 로봇에 특정 파일 접근 금지\n",
    "\n",
    "    User-agent: * <br>\n",
    "    Disallow: /directory_name1/file_name.html <br>\n",
    "    \n",
    "    \n",
    "5. 특정 로봇에게 특정 디렉토리 접근 허락\n",
    "\n",
    "    User-agent: 특정 로봇명 <br>\n",
    "    Allow: /directory_name1/directory_name2/ <br>\n",
    "    \n",
    "    \n",
    "6. 특정 로봇에게 특정 디렉토리 접근 금지\n",
    "\n",
    "    User-agent: 특정 로봇명 <br>\n",
    "    Disallow: /directory_name1/directory_name2 <br>"
   ]
  }
 ],
 "metadata": {
  "kernelspec": {
   "display_name": "Python 3 (ipykernel)",
   "language": "python",
   "name": "python3"
  },
  "language_info": {
   "codemirror_mode": {
    "name": "ipython",
    "version": 3
   },
   "file_extension": ".py",
   "mimetype": "text/x-python",
   "name": "python",
   "nbconvert_exporter": "python",
   "pygments_lexer": "ipython3",
   "version": "3.9.12"
  }
 },
 "nbformat": 4,
 "nbformat_minor": 5
}
