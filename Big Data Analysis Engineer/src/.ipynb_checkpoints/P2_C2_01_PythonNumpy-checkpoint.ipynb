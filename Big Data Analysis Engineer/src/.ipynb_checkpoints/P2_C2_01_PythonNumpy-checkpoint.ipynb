{
 "cells": [
  {
   "cell_type": "markdown",
   "metadata": {
    "id": "OdDKGx2sqyz7"
   },
   "source": [
    "# **Chapter 2. 파이썬 빅데이터 분석 패키지**"
   ]
  },
  {
   "cell_type": "markdown",
   "metadata": {
    "id": "tbxvP8i3q6LW"
   },
   "source": [
    "## 1. 넘파이 (Numpy)"
   ]
  },
  {
   "cell_type": "markdown",
   "metadata": {
    "id": "WMK-6f2Hq9nX"
   },
   "source": [
    "### (1) 넘파이 (Numpy) 개요"
   ]
  },
  {
   "cell_type": "markdown",
   "metadata": {
    "id": "KxDvNQx1rCe9"
   },
   "source": [
    "### (2) 넘파이 배열 생성"
   ]
  },
  {
   "cell_type": "markdown",
   "metadata": {
    "id": "G56GX2GarWZe"
   },
   "source": [
    "#### 212-01 넘파이 임포트"
   ]
  },
  {
   "cell_type": "code",
   "execution_count": null,
   "metadata": {
    "id": "RlifE587mJ-w"
   },
   "outputs": [],
   "source": [
    "import numpy as np"
   ]
  },
  {
   "cell_type": "markdown",
   "metadata": {
    "id": "t9g4U5oKtlI5"
   },
   "source": [
    "#### 212-02 넘파이 배열 형태"
   ]
  },
  {
   "cell_type": "code",
   "execution_count": null,
   "metadata": {
    "colab": {
     "base_uri": "https://localhost:8080/"
    },
    "id": "S_GUaWA5rY2H",
    "outputId": "63505b5a-4d3e-4b04-ec1a-708c24beb8cf"
   },
   "outputs": [
    {
     "name": "stdout",
     "output_type": "stream",
     "text": [
      "[1 2 3]\n",
      "array1 type :  <class 'numpy.ndarray'>\n",
      "array1 shape :  (3,)\n",
      "[[1 2 3]\n",
      " [4 5 6]]\n",
      "array2 type :  <class 'numpy.ndarray'>\n",
      "array2 shape :  (2, 3)\n",
      "[[1 2 3]]\n",
      "array3 type :  <class 'numpy.ndarray'>\n",
      "array3 shape :  (1, 3)\n"
     ]
    }
   ],
   "source": [
    "a1 = np.array([1, 2, 3])\n",
    "print(a1)\n",
    "print('array1 type : ', type(a1))\n",
    "print('array1 shape : ', a1.shape)\n",
    "\n",
    "a2 = np.array([[1, 2, 3], [4, 5, 6]])\n",
    "print(a2)\n",
    "print('array2 type : ', type(a2))\n",
    "print('array2 shape : ', a2.shape)\n",
    "\n",
    "a3 = np.array([[1, 2, 3]])\n",
    "print(a3)\n",
    "print('array3 type : ', type(a3))\n",
    "print('array3 shape : ', a3.shape)"
   ]
  },
  {
   "cell_type": "markdown",
   "metadata": {
    "id": "-QpZOUdlvv8_"
   },
   "source": [
    "#### 212-03 넘파이 배열 차원"
   ]
  },
  {
   "cell_type": "code",
   "execution_count": null,
   "metadata": {
    "colab": {
     "base_uri": "https://localhost:8080/"
    },
    "id": "yjglzzAJt45w",
    "outputId": "6fd255b7-1d0f-46bc-b2f8-c75bd31db533"
   },
   "outputs": [
    {
     "name": "stdout",
     "output_type": "stream",
     "text": [
      "array1 dim : 1\n",
      "array2 dim : 2\n",
      "array3 dim : 2\n"
     ]
    }
   ],
   "source": [
    "print('array1 dim :', a1.ndim)\n",
    "print('array2 dim :', a2.ndim)\n",
    "print('array3 dim :', a3.ndim)"
   ]
  },
  {
   "cell_type": "markdown",
   "metadata": {
    "id": "D9-Db4_pxh1p"
   },
   "source": [
    "#### 212-04 넘파이 arange 함수 기본"
   ]
  },
  {
   "cell_type": "code",
   "execution_count": null,
   "metadata": {
    "colab": {
     "base_uri": "https://localhost:8080/"
    },
    "id": "lWRfhNIVv-DD",
    "outputId": "4015a25e-4395-40d6-92eb-133bbbe3d5b5"
   },
   "outputs": [
    {
     "name": "stdout",
     "output_type": "stream",
     "text": [
      "[ 0  1  2  3  4  5  6  7  8  9 10 11 12 13 14 15 16 17 18 19]\n"
     ]
    }
   ],
   "source": [
    "a = np.arange(20) \n",
    "print(a)"
   ]
  },
  {
   "cell_type": "markdown",
   "metadata": {
    "id": "mKVDYz-3yPXW"
   },
   "source": [
    "#### 212-05 넘파이 arange 함수 응용"
   ]
  },
  {
   "cell_type": "code",
   "execution_count": null,
   "metadata": {
    "colab": {
     "base_uri": "https://localhost:8080/"
    },
    "id": "XnvtBGpIxpQN",
    "outputId": "15992383-2c02-416a-a2fb-7140345fad5d"
   },
   "outputs": [
    {
     "name": "stdout",
     "output_type": "stream",
     "text": [
      "[ 1  4  7 10 13 16 19]\n"
     ]
    }
   ],
   "source": [
    "a = np.arange(1, 20, 3) \n",
    "print(a)"
   ]
  },
  {
   "cell_type": "markdown",
   "metadata": {
    "id": "oqyC62ljzwFs"
   },
   "source": [
    "### (3) 넘파이 배열 초기화"
   ]
  },
  {
   "cell_type": "markdown",
   "metadata": {
    "id": "xmQDEhvlzzPH"
   },
   "source": [
    "#### 213-01 넘파이 zeros, ones 함수"
   ]
  },
  {
   "cell_type": "code",
   "execution_count": null,
   "metadata": {
    "colab": {
     "base_uri": "https://localhost:8080/"
    },
    "id": "6CNrUaaVyZRK",
    "outputId": "6cf7e1a4-b481-4bd8-b524-23339ec6d8ba"
   },
   "outputs": [
    {
     "name": "stdout",
     "output_type": "stream",
     "text": [
      "[[0. 0. 0. 0. 0.]\n",
      " [0. 0. 0. 0. 0.]]\n",
      "[[1. 1. 1. 1.]\n",
      " [1. 1. 1. 1.]\n",
      " [1. 1. 1. 1.]]\n"
     ]
    }
   ],
   "source": [
    "zero_a = np.zeros((2,5)) \n",
    "one_a = np.ones((3,4)) \n",
    "\n",
    "print(zero_a)\n",
    "print(one_a)"
   ]
  },
  {
   "cell_type": "markdown",
   "metadata": {
    "id": "dhtjhiQs02Ag"
   },
   "source": [
    "#### 213-02 넘파이 zeros_like 함수"
   ]
  },
  {
   "cell_type": "code",
   "execution_count": null,
   "metadata": {
    "colab": {
     "base_uri": "https://localhost:8080/"
    },
    "id": "SQqXJ9Us0D0U",
    "outputId": "46c6695b-614b-4713-9084-9360987c194a"
   },
   "outputs": [
    {
     "name": "stdout",
     "output_type": "stream",
     "text": [
      "[[0. 0. 0. 0.]\n",
      " [0. 0. 0. 0.]\n",
      " [0. 0. 0. 0.]]\n"
     ]
    }
   ],
   "source": [
    "zero_b = np.zeros_like(one_a)\n",
    "print(zero_b)"
   ]
  },
  {
   "cell_type": "markdown",
   "metadata": {
    "id": "0uIpL8Vf1NuC"
   },
   "source": [
    "#### 213-03 넘파이 ones_like 함수"
   ]
  },
  {
   "cell_type": "code",
   "execution_count": null,
   "metadata": {
    "colab": {
     "base_uri": "https://localhost:8080/"
    },
    "id": "gmt0e6qZ08aC",
    "outputId": "b3dc0ddd-3796-454f-a942-6df017c8c57e"
   },
   "outputs": [
    {
     "name": "stdout",
     "output_type": "stream",
     "text": [
      "[[1. 1. 1. 1. 1.]\n",
      " [1. 1. 1. 1. 1.]]\n"
     ]
    }
   ],
   "source": [
    "one_b = np.ones_like(zero_a)\n",
    "print(one_b)"
   ]
  },
  {
   "cell_type": "markdown",
   "metadata": {
    "id": "96kHN0SI3jOr"
   },
   "source": [
    "#### 213-04 넘파이 full, random 함수"
   ]
  },
  {
   "cell_type": "code",
   "execution_count": null,
   "metadata": {
    "colab": {
     "base_uri": "https://localhost:8080/"
    },
    "id": "yKk-DOGV1VqP",
    "outputId": "201e9a64-c5ed-4331-e711-dc64f6fd439e"
   },
   "outputs": [
    {
     "name": "stdout",
     "output_type": "stream",
     "text": [
      "[[9 9 9]\n",
      " [9 9 9]\n",
      " [9 9 9]\n",
      " [9 9 9]]\n",
      "[[0.41176928 0.37840885 0.74979053 0.15214094]\n",
      " [0.8248999  0.04586987 0.87185399 0.18875634]\n",
      " [0.53343751 0.54662109 0.83876615 0.31865313]]\n"
     ]
    }
   ],
   "source": [
    "full_a = np.full((4, 3),9) \n",
    "random_a = np.random.random((3, 4)) \n",
    "\n",
    "print(full_a)\n",
    "print(random_a)"
   ]
  },
  {
   "cell_type": "markdown",
   "metadata": {
    "id": "2Y-xpSgz4PqA"
   },
   "source": [
    "#### 213-05 넘파이 eye 함수"
   ]
  },
  {
   "cell_type": "code",
   "execution_count": null,
   "metadata": {
    "colab": {
     "base_uri": "https://localhost:8080/"
    },
    "id": "e2KpCFGq3xz9",
    "outputId": "8cf2eccf-a18e-4f24-d8eb-5b30e9b5659c"
   },
   "outputs": [
    {
     "name": "stdout",
     "output_type": "stream",
     "text": [
      "[[1. 0. 0. 0.]\n",
      " [0. 1. 0. 0.]\n",
      " [0. 0. 1. 0.]\n",
      " [0. 0. 0. 1.]]\n"
     ]
    }
   ],
   "source": [
    "eye_a = np.eye(4) \n",
    "print(eye_a)"
   ]
  },
  {
   "cell_type": "markdown",
   "metadata": {
    "id": "XySs6aCO6ktG"
   },
   "source": [
    "### (4) 넘파이 배열 크기 변형"
   ]
  },
  {
   "cell_type": "markdown",
   "metadata": {
    "id": "MekjqWl06pWr"
   },
   "source": [
    "#### 214-01 넘파이 reshape 함수 기본"
   ]
  },
  {
   "cell_type": "code",
   "execution_count": null,
   "metadata": {
    "colab": {
     "base_uri": "https://localhost:8080/"
    },
    "id": "S2qnFZuP4XhK",
    "outputId": "a58319b7-aaf0-49ff-c0ee-9955ad2dab47"
   },
   "outputs": [
    {
     "name": "stdout",
     "output_type": "stream",
     "text": [
      "array1:\n",
      " [ 0  1  2  3  4  5  6  7  8  9 10 11]\n",
      "array2:\n",
      " [[ 0  1  2  3]\n",
      " [ 4  5  6  7]\n",
      " [ 8  9 10 11]]\n",
      "array3:\n",
      " [[ 0  3  6  9]\n",
      " [ 1  4  7 10]\n",
      " [ 2  5  8 11]]\n"
     ]
    }
   ],
   "source": [
    "array1 = np.arange(12)\n",
    "print('array1:\\n', array1)\n",
    "\n",
    "array2 = array1.reshape(3,4)\n",
    "print('array2:\\n', array2)\n",
    "\n",
    "array3 = array1.reshape(3,4,order='F')\n",
    "print('array3:\\n', array3)"
   ]
  },
  {
   "cell_type": "markdown",
   "metadata": {
    "id": "mBbvjLHK8St1"
   },
   "source": [
    "#### 214-02 넘파이 reshape 함수 응용"
   ]
  },
  {
   "cell_type": "code",
   "execution_count": null,
   "metadata": {
    "colab": {
     "base_uri": "https://localhost:8080/"
    },
    "id": "sEJ2PB2V7SUj",
    "outputId": "f3f125ec-5298-420f-c847-801db56424bc"
   },
   "outputs": [
    {
     "name": "stdout",
     "output_type": "stream",
     "text": [
      "[[0 1 2 3 4]\n",
      " [5 6 7 8 9]]\n",
      "array2 dim :  2\n",
      "array2 shape :  (2, 5)\n"
     ]
    }
   ],
   "source": [
    "array1 = np.arange(10)\n",
    "array2 = array1.reshape(-1, 5)\n",
    "\n",
    "print(array2)\n",
    "print('array2 dim : ', array2.ndim)\n",
    "print('array2 shape : ', array2.shape)"
   ]
  },
  {
   "cell_type": "markdown",
   "metadata": {
    "id": "96YoDHhR-fnS"
   },
   "source": [
    "#### 214-03 넘파이 reshape 함수 다차원 변형"
   ]
  },
  {
   "cell_type": "code",
   "execution_count": null,
   "metadata": {
    "colab": {
     "base_uri": "https://localhost:8080/"
    },
    "id": "l1sIEhvz8wIJ",
    "outputId": "b4e903bf-4e35-41db-998d-808a66e505d8"
   },
   "outputs": [
    {
     "name": "stdout",
     "output_type": "stream",
     "text": [
      "[[[ 0  6]\n",
      "  [ 2  8]\n",
      "  [ 4 10]]\n",
      "\n",
      " [[ 1  7]\n",
      "  [ 3  9]\n",
      "  [ 5 11]]]\n",
      "array2 dim :  3\n",
      "array2 shape :  (2, 3, 2)\n"
     ]
    }
   ],
   "source": [
    "array1 = np.arange(12)\n",
    "array2 = array1.reshape(2,3,2, order='F')\n",
    "\n",
    "print(array2)\n",
    "print('array2 dim : ', array2.ndim)\n",
    "print('array2 shape : ', array2.shape)"
   ]
  },
  {
   "cell_type": "markdown",
   "metadata": {
    "id": "JMq7nF7Z_IUa"
   },
   "source": [
    "#### 214-04 넘파이 flatten 함수 1차원 변형"
   ]
  },
  {
   "cell_type": "code",
   "execution_count": null,
   "metadata": {
    "colab": {
     "base_uri": "https://localhost:8080/"
    },
    "id": "KxCpB9Sa-sIT",
    "outputId": "c1df931b-f4de-4f75-cc69-41631eb26c4c"
   },
   "outputs": [
    {
     "name": "stdout",
     "output_type": "stream",
     "text": [
      "[ 0  6  2  8  4 10  1  7  3  9  5 11]\n"
     ]
    }
   ],
   "source": [
    "array3 = array2.flatten()\n",
    "print(array3)"
   ]
  },
  {
   "cell_type": "markdown",
   "metadata": {
    "id": "_Wb2TzRc_vWW"
   },
   "source": [
    "### (5) 넘파이 배열 데이터 추출하기"
   ]
  },
  {
   "cell_type": "markdown",
   "metadata": {
    "id": "YhyLV4CAApj7"
   },
   "source": [
    "#### 215-01 넘파이 1차원 배열 단일값 추출"
   ]
  },
  {
   "cell_type": "code",
   "execution_count": null,
   "metadata": {
    "colab": {
     "base_uri": "https://localhost:8080/"
    },
    "id": "OWAI-arn_NEv",
    "outputId": "5e4c8a5b-b26a-4b79-cf28-9a7a134b36fc"
   },
   "outputs": [
    {
     "name": "stdout",
     "output_type": "stream",
     "text": [
      "array1 :  [1 2 3 4 5 6 7 8 9]\n",
      "3\n",
      "8\n"
     ]
    }
   ],
   "source": [
    "array1 = np.arange(1, 10)\n",
    "print('array1 : ', array1)\n",
    "\n",
    "value1 = array1[2]\n",
    "value2 = array1[-2]\n",
    "\n",
    "print(value1)\n",
    "print(value2)"
   ]
  },
  {
   "cell_type": "markdown",
   "metadata": {
    "id": "WMnmP_YpCNno"
   },
   "source": [
    "#### 215-02 넘파이 다차원 배열 단일값 추출"
   ]
  },
  {
   "cell_type": "code",
   "execution_count": null,
   "metadata": {
    "colab": {
     "base_uri": "https://localhost:8080/"
    },
    "id": "zuMaQcGeA7l-",
    "outputId": "c8ef9dc7-b0f3-40f2-8172-3662f1a21453"
   },
   "outputs": [
    {
     "name": "stdout",
     "output_type": "stream",
     "text": [
      "array2 :\n",
      " [[1 2 3]\n",
      " [4 5 6]\n",
      " [7 8 9]]\n",
      "1\n",
      "9\n",
      "8\n"
     ]
    }
   ],
   "source": [
    "array1 = np.arange(1, 10)\n",
    "array2 = array1.reshape(3, 3)\n",
    "print('array2 :\\n', array2)\n",
    "\n",
    "value1 = array2[0,0]\n",
    "value2 = array2[-1, -1]\n",
    "value3 = array2[-1, -2]\n",
    "\n",
    "print(value1)\n",
    "print(value2)\n",
    "print(value3)"
   ]
  },
  {
   "cell_type": "markdown",
   "metadata": {
    "id": "e3MxF7fOFmG8"
   },
   "source": [
    "#### 215-03 넘파이 1차원 배열 슬라이싱 추출"
   ]
  },
  {
   "cell_type": "code",
   "execution_count": null,
   "metadata": {
    "colab": {
     "base_uri": "https://localhost:8080/"
    },
    "id": "9mP8DwoSCaD0",
    "outputId": "8557b59e-b876-446b-9227-d78889a45544"
   },
   "outputs": [
    {
     "name": "stdout",
     "output_type": "stream",
     "text": [
      "<class 'numpy.ndarray'>\n",
      "[1 2 3]\n",
      "[1 2 3]\n",
      "[4 5 6 7 8 9]\n"
     ]
    }
   ],
   "source": [
    "array1 = np.arange(1, 10)\n",
    "array2 = array1[0:3]\n",
    "array3 = array1[:3]\n",
    "array4 = array1[3:]\n",
    "\n",
    "print(type(array2))\n",
    "print(array2)\n",
    "print(array3)\n",
    "print(array4)"
   ]
  },
  {
   "cell_type": "markdown",
   "metadata": {
    "id": "2XsA9FzyGspB"
   },
   "source": [
    "#### 215-04 넘파이 다차원 배열 슬라이싱 추출"
   ]
  },
  {
   "cell_type": "code",
   "execution_count": null,
   "metadata": {
    "colab": {
     "base_uri": "https://localhost:8080/"
    },
    "id": "xytCewRMGWpf",
    "outputId": "a0eff2c5-337d-4968-8dd6-9898b36b540b"
   },
   "outputs": [
    {
     "name": "stdout",
     "output_type": "stream",
     "text": [
      "array2 : \n",
      " [[1 2 3]\n",
      " [4 5 6]\n",
      " [7 8 9]]\n",
      "array2[0:2, 0:2]\n",
      " [[1 2]\n",
      " [4 5]]\n",
      "array2[1:3, 0:3]\n",
      " [[4 5 6]\n",
      " [7 8 9]]\n",
      "array2[:2, 1:]\n",
      " [[2 3]\n",
      " [5 6]]\n",
      "array2[:2, 0]\n",
      " [1 4]\n"
     ]
    }
   ],
   "source": [
    "array1 = np.arange(1, 10)\n",
    "array2 = array1.reshape(3, 3)\n",
    "print('array2 : \\n', array2)\n",
    "\n",
    "print('array2[0:2, 0:2]\\n', array2[0:2, 0:2])\n",
    "print('array2[1:3, 0:3]\\n', array2[1:3, 0:3])\n",
    "print('array2[:2, 1:]\\n', array2[:2, 1:])\n",
    "print('array2[:2, 0]\\n', array2[:2, 0])"
   ]
  },
  {
   "cell_type": "markdown",
   "metadata": {
    "id": "vxRH3fyEM24T"
   },
   "source": [
    "### (6) 넘파이 선형대수 기본연산"
   ]
  },
  {
   "cell_type": "markdown",
   "metadata": {
    "id": "onYPHMJhNa76"
   },
   "source": [
    "#### 216-01 넘파이 행렬 내적 계산"
   ]
  },
  {
   "cell_type": "code",
   "execution_count": null,
   "metadata": {
    "colab": {
     "base_uri": "https://localhost:8080/"
    },
    "id": "lpX9m5ZjHLq-",
    "outputId": "53a5504c-281a-4a13-ed5d-d3ff27f0fca6"
   },
   "outputs": [
    {
     "name": "stdout",
     "output_type": "stream",
     "text": [
      "[[ 58  64]\n",
      " [139 154]]\n"
     ]
    }
   ],
   "source": [
    "array1 = np.array([[1, 2, 3],\n",
    "                   [4, 5, 6]])\n",
    "array2 = np.array([[7, 8],\n",
    "                   [9, 10],\n",
    "                   [11, 12]])\n",
    "\n",
    "dot_array = np.dot(array1, array2)\n",
    "print(dot_array)"
   ]
  },
  {
   "cell_type": "markdown",
   "metadata": {
    "id": "Ndw6oC7rOE4M"
   },
   "source": [
    "#### 216-02 넘파이 전치 행렬 계산"
   ]
  },
  {
   "cell_type": "code",
   "execution_count": null,
   "metadata": {
    "colab": {
     "base_uri": "https://localhost:8080/"
    },
    "id": "Ozyu_d1gNU4n",
    "outputId": "52d3fe95-50a6-44f5-924e-0616b91e5bfc"
   },
   "outputs": [
    {
     "name": "stdout",
     "output_type": "stream",
     "text": [
      "[[1 4]\n",
      " [2 5]\n",
      " [3 6]]\n"
     ]
    }
   ],
   "source": [
    "array1 = np.array([[1, 2, 3],\n",
    "                   [4, 5, 6]])\n",
    "transpose_array = np.transpose(array1)\n",
    "\n",
    "print(transpose_array)"
   ]
  },
  {
   "cell_type": "markdown",
   "metadata": {
    "id": "imVsWDFtPAtv"
   },
   "source": [
    "### (7) 넘파이 기술 통계"
   ]
  },
  {
   "cell_type": "markdown",
   "metadata": {
    "id": "buUIRgYhPE8M"
   },
   "source": [
    "#### 217-01 배열 데이터 개수 계산"
   ]
  },
  {
   "cell_type": "code",
   "execution_count": null,
   "metadata": {
    "colab": {
     "base_uri": "https://localhost:8080/"
    },
    "id": "H1JlqdOfOVbX",
    "outputId": "3dc16554-401c-4e64-ecf2-3b2945a7171c"
   },
   "outputs": [
    {
     "data": {
      "text/plain": [
       "26"
      ]
     },
     "execution_count": 37,
     "metadata": {},
     "output_type": "execute_result"
    }
   ],
   "source": [
    "x = np.array([18,   5,  10,  23,  19,  -8,  10,   0,   0,   5,   2,  15,   8,\n",
    "              2,   5,   4,  15,  -1,   4,  -7, -24,   7,   9,  -6,  23, -13])\n",
    "\n",
    "len(x)"
   ]
  },
  {
   "cell_type": "markdown",
   "metadata": {
    "id": "YGFjl032PbzK"
   },
   "source": [
    "#### 217-02 평균, 분산, 표준편차 계산"
   ]
  },
  {
   "cell_type": "code",
   "execution_count": null,
   "metadata": {
    "colab": {
     "base_uri": "https://localhost:8080/"
    },
    "id": "wv4Btw0YPLIw",
    "outputId": "7195396e-3ed3-4425-bedf-4c3fac9273e9"
   },
   "outputs": [
    {
     "name": "stdout",
     "output_type": "stream",
     "text": [
      "4.8076923076923075\n",
      "115.23224852071006\n",
      "10.734628476137871\n"
     ]
    }
   ],
   "source": [
    "print(np.mean(x))\n",
    "print(np.var(x))\n",
    "print(np.std(x))"
   ]
  },
  {
   "cell_type": "markdown",
   "metadata": {
    "id": "d21ZQ106P2zV"
   },
   "source": [
    "#### 217-03 최대값, 최소값, 중앙값 계산"
   ]
  },
  {
   "cell_type": "code",
   "execution_count": null,
   "metadata": {
    "colab": {
     "base_uri": "https://localhost:8080/"
    },
    "id": "YIP7mJSTPkq3",
    "outputId": "35116a9a-a9f9-4639-9c66-030c166fe86e"
   },
   "outputs": [
    {
     "name": "stdout",
     "output_type": "stream",
     "text": [
      "23\n",
      "-24\n",
      "5.0\n"
     ]
    }
   ],
   "source": [
    "print(np.max(x))\n",
    "print(np.min(x))\n",
    "print(np.median(x))"
   ]
  },
  {
   "cell_type": "markdown",
   "metadata": {
    "id": "zW0TTU_iQIOJ"
   },
   "source": [
    "#### 217-04 사분위수 계산"
   ]
  },
  {
   "cell_type": "code",
   "execution_count": null,
   "metadata": {
    "colab": {
     "base_uri": "https://localhost:8080/"
    },
    "id": "X9YdEnGYP6nW",
    "outputId": "0aefa09e-9b9a-4026-d005-439ac0f2e079"
   },
   "outputs": [
    {
     "name": "stdout",
     "output_type": "stream",
     "text": [
      "0.0\n",
      "5.0\n",
      "10.0\n"
     ]
    }
   ],
   "source": [
    "print(np.percentile(x, 25))\n",
    "print(np.percentile(x, 50))\n",
    "print(np.percentile(x, 75))"
   ]
  }
 ],
 "metadata": {
  "colab": {
   "collapsed_sections": [],
   "name": "P2_C2_PythonNumpy.ipynb",
   "provenance": [],
   "toc_visible": true
  },
  "kernelspec": {
   "display_name": "Python 3 (ipykernel)",
   "language": "python",
   "name": "python3"
  },
  "language_info": {
   "codemirror_mode": {
    "name": "ipython",
    "version": 3
   },
   "file_extension": ".py",
   "mimetype": "text/x-python",
   "name": "python",
   "nbconvert_exporter": "python",
   "pygments_lexer": "ipython3",
   "version": "3.9.12"
  }
 },
 "nbformat": 4,
 "nbformat_minor": 1
}
