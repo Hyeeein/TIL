{
 "cells": [
  {
   "cell_type": "markdown",
   "metadata": {
    "id": "LIOFQkLJXKFk"
   },
   "source": [
    "# **Chapter 5. 과목 마무리 문제**"
   ]
  },
  {
   "cell_type": "markdown",
   "metadata": {
    "id": "gpFW6wvCXlQd"
   },
   "source": [
    "## 1. 작업형 제 1유형"
   ]
  },
  {
   "cell_type": "code",
   "execution_count": 1,
   "metadata": {
    "colab": {
     "base_uri": "https://localhost:8080/"
    },
    "id": "VHHqdFho5GQS",
    "outputId": "bb0775d1-030c-42aa-92fa-59928ae17757"
   },
   "outputs": [
    {
     "name": "stdout",
     "output_type": "stream",
     "text": [
      "Cloning into 'yemoonsaBigdata'...\n",
      "remote: Enumerating objects: 421, done.\u001b[K\n",
      "remote: Counting objects: 100% (421/421), done.\u001b[K\n",
      "remote: Compressing objects: 100% (396/396), done.\u001b[K\n",
      "remote: Total 421 (delta 204), reused 42 (delta 19), pack-reused 0\u001b[K\n",
      "Receiving objects: 100% (421/421), 8.30 MiB | 4.59 MiB/s, done.\n",
      "Resolving deltas: 100% (204/204), done.\n"
     ]
    }
   ],
   "source": [
    "!git clone https://github.com/AnalyticsKnight/yemoonsaBigdata/"
   ]
  },
  {
   "cell_type": "markdown",
   "metadata": {
    "id": "5TqE-4SgXJ7W"
   },
   "source": [
    "### (1) Iris 데이터 세트"
   ]
  },
  {
   "cell_type": "code",
   "execution_count": 2,
   "metadata": {
    "id": "Yl39rkP1YECB"
   },
   "outputs": [],
   "source": [
    "import pandas as pd\n",
    "data = pd.read_csv(\"./yemoonsaBigdata/datasets/Part2/iris.csv\")"
   ]
  },
  {
   "cell_type": "markdown",
   "metadata": {
    "id": "aikvAMIm4tH3"
   },
   "source": [
    "#### 코드 511-01"
   ]
  },
  {
   "cell_type": "code",
   "execution_count": 3,
   "metadata": {
    "colab": {
     "base_uri": "https://localhost:8080/"
    },
    "id": "5v8oG6Kd0Zlg",
    "outputId": "f835548f-9138-4a05-e7a3-ef53c9ec3f85"
   },
   "outputs": [
    {
     "name": "stdout",
     "output_type": "stream",
     "text": [
      "species         \n",
      "setosa      0.75    0.3\n",
      "versicolor  0.75    1.5\n",
      "virginica   0.75    2.3\n",
      "Name: petal_width, dtype: float64\n"
     ]
    }
   ],
   "source": [
    "print(data.groupby('species')['petal_width'].quantile([0.75]))"
   ]
  },
  {
   "cell_type": "markdown",
   "metadata": {
    "id": "yuFqdiaS5JQM"
   },
   "source": [
    "#### 코드 511-02"
   ]
  },
  {
   "cell_type": "code",
   "execution_count": 4,
   "metadata": {
    "colab": {
     "base_uri": "https://localhost:8080/"
    },
    "id": "7RlkOohr08UO",
    "outputId": "ef38e97f-2a15-424c-eb6a-1fd5871233ef"
   },
   "outputs": [
    {
     "name": "stdout",
     "output_type": "stream",
     "text": [
      "5.2\n"
     ]
    }
   ],
   "source": [
    "lst = data['sepal_length'].unique().tolist()\n",
    "lst.sort()\n",
    "print(lst[9])"
   ]
  },
  {
   "cell_type": "markdown",
   "metadata": {
    "id": "aa12FmQN627f"
   },
   "source": [
    "#### 코드 511-03"
   ]
  },
  {
   "cell_type": "code",
   "execution_count": 5,
   "metadata": {
    "colab": {
     "base_uri": "https://localhost:8080/"
    },
    "id": "WM37nQ1n63UT",
    "outputId": "ca4d17bb-b1d9-49fb-abd3-b8581c08bd8c"
   },
   "outputs": [
    {
     "name": "stdout",
     "output_type": "stream",
     "text": [
      "16\n"
     ]
    }
   ],
   "source": [
    "sorted_data = data.sort_values(by='sepal_width', ascending=False).reset_index(drop=True)\n",
    "sorted_data_split = sorted_data.loc[0:99] # 또는 sorted_data.head(100)\n",
    "print(int(sorted_data_split['sepal_width'].std()*50))"
   ]
  },
  {
   "cell_type": "markdown",
   "metadata": {
    "id": "FYtO1JkT9fdK"
   },
   "source": [
    "#### 코드 511-04"
   ]
  },
  {
   "cell_type": "code",
   "execution_count": 6,
   "metadata": {
    "colab": {
     "base_uri": "https://localhost:8080/"
    },
    "id": "mKHOHger9fkp",
    "outputId": "bc2951ea-bafb-43c0-aef7-1bdc2a3dfd64"
   },
   "outputs": [
    {
     "name": "stdout",
     "output_type": "stream",
     "text": [
      "13\n"
     ]
    }
   ],
   "source": [
    "data = data.sort_values(by=['species', 'petal_length'], ascending=[True, False])\n",
    "data_top10 = data.groupby('species').head(10)\n",
    "print(round(data_top10.groupby('species')['petal_length'].mean().sum()))"
   ]
  },
  {
   "cell_type": "markdown",
   "metadata": {
    "id": "WCHpTfBFKD-s"
   },
   "source": [
    "#### 코드 511-05"
   ]
  },
  {
   "cell_type": "code",
   "execution_count": 7,
   "metadata": {
    "colab": {
     "base_uri": "https://localhost:8080/"
    },
    "id": "g34Dneh5ISTG",
    "outputId": "ba68b4b1-4aa2-4fd4-dcef-0df16368e73b"
   },
   "outputs": [
    {
     "name": "stdout",
     "output_type": "stream",
     "text": [
      "     sepal_length  sepal_width  petal_length  petal_width    species\n",
      "118           7.7          2.6           6.9          2.3  virginica\n",
      "117           7.7          3.8           6.7          2.2  virginica\n",
      "122           7.7          2.8           6.7          2.0  virginica\n",
      "105           7.6          3.0           6.6          2.1  virginica\n",
      "131           7.9          3.8           6.4          2.0  virginica\n",
      "135           7.7          3.0           6.1          2.3  virginica\n"
     ]
    }
   ],
   "source": [
    "mean = data['sepal_length'].mean()\n",
    "std = data['sepal_length'].std()\n",
    "crit1 = mean+2*std\n",
    "crit2 = mean-2*std\n",
    "print(data[(data['sepal_length']>=crit1)|(data['sepal_length']<=crit2)])"
   ]
  },
  {
   "cell_type": "markdown",
   "metadata": {
    "id": "Bp1go40oW7q1"
   },
   "source": [
    "### (2) Wine 데이터 세트"
   ]
  },
  {
   "cell_type": "code",
   "execution_count": 8,
   "metadata": {
    "id": "R7Qt95tI5UbO"
   },
   "outputs": [],
   "source": [
    "import pandas as pd\n",
    "data = pd.read_csv(\"./yemoonsaBigdata/datasets/Part2/wine.csv\")"
   ]
  },
  {
   "cell_type": "markdown",
   "metadata": {
    "id": "2G78SMGcPAco"
   },
   "source": [
    "#### 코드 512-01"
   ]
  },
  {
   "cell_type": "code",
   "execution_count": 9,
   "metadata": {
    "colab": {
     "base_uri": "https://localhost:8080/"
    },
    "id": "Z1NLxFxENNtT",
    "outputId": "76af6043-6b8b-4622-e993-bfe33c619216"
   },
   "outputs": [
    {
     "name": "stdout",
     "output_type": "stream",
     "text": [
      "19.397546012269935\n"
     ]
    },
    {
     "name": "stderr",
     "output_type": "stream",
     "text": [
      "/usr/local/lib/python3.7/dist-packages/pandas/core/indexing.py:1817: SettingWithCopyWarning: \n",
      "A value is trying to be set on a copy of a slice from a DataFrame.\n",
      "Try using .loc[row_indexer,col_indexer] = value instead\n",
      "\n",
      "See the caveats in the documentation: https://pandas.pydata.org/pandas-docs/stable/user_guide/indexing.html#returning-a-view-versus-a-copy\n",
      "  self._setitem_single_column(loc, value, pi)\n"
     ]
    }
   ],
   "source": [
    "data_drop = data[data['total_phenols'].notnull()]\n",
    "med = data_drop['alcalinity_of_ash'].median()\n",
    "data_drop.loc[data_drop['alcalinity_of_ash'].isnull(), 'alcalinity_of_ash'] = med\n",
    "print(data_drop['alcalinity_of_ash'].mean())"
   ]
  },
  {
   "cell_type": "markdown",
   "metadata": {
    "id": "Fb98ZU5QXv4s"
   },
   "source": [
    "#### 코드 512-02"
   ]
  },
  {
   "cell_type": "code",
   "execution_count": 10,
   "metadata": {
    "colab": {
     "base_uri": "https://localhost:8080/"
    },
    "id": "fLhicFdEXEWY",
    "outputId": "1a913b1c-7554-4bba-ea16-3f07a540bb0c"
   },
   "outputs": [
    {
     "name": "stdout",
     "output_type": "stream",
     "text": [
      "0    37\n",
      "2    23\n",
      "1     1\n",
      "Name: class, dtype: int64\n"
     ]
    }
   ],
   "source": [
    "mean_val1 = data['alcohol'].mean()\n",
    "mean_val2 = data['color_intensity'].mean()\n",
    "data_filtered = data[(data['alcohol']>=mean_val1)&(data['color_intensity']>=mean_val2)]\n",
    "print(data_filtered['class'].value_counts())"
   ]
  },
  {
   "cell_type": "markdown",
   "metadata": {
    "id": "k37JuW21Xw7w"
   },
   "source": [
    "#### 코드 512-03"
   ]
  },
  {
   "cell_type": "code",
   "execution_count": 11,
   "metadata": {
    "colab": {
     "base_uri": "https://localhost:8080/"
    },
    "id": "7uTd3MjUi5LR",
    "outputId": "38a87b60-ac5d-4f48-9225-3e860d773d3e"
   },
   "outputs": [
    {
     "name": "stdout",
     "output_type": "stream",
     "text": [
      "                                    0\n",
      "alcohol                         14.23\n",
      "malic_acid                       1.71\n",
      "ash                              2.43\n",
      "alcalinity_of_ash               15.60\n",
      "magnesium                      127.00\n",
      "total_phenols                    2.80\n",
      "flavanoids                       3.06\n",
      "nonflavanoid_phenols             0.28\n",
      "proanthocyanins                  2.29\n",
      "color_intensity                  5.64\n",
      "hue                              1.04\n",
      "od280/od315_of_diluted_wines     3.92\n",
      "proline                       1065.00\n",
      "class                            0.00\n"
     ]
    }
   ],
   "source": [
    "print(data.head(1).T)"
   ]
  },
  {
   "cell_type": "code",
   "execution_count": 12,
   "metadata": {
    "colab": {
     "base_uri": "https://localhost:8080/"
    },
    "id": "VFXBZ5zpXys0",
    "outputId": "a63c9c56-b59f-4405-a1d3-84dd9ee29fad"
   },
   "outputs": [
    {
     "name": "stdout",
     "output_type": "stream",
     "text": [
      "0.12\n"
     ]
    }
   ],
   "source": [
    "val1 = data[data['class']==1]['ash'].mean()\n",
    "val2 = data.dropna()['ash'].mean()\n",
    "print(round(abs(val1-val2), 3))"
   ]
  },
  {
   "cell_type": "markdown",
   "metadata": {
    "id": "eP2JbUbYXx6k"
   },
   "source": [
    "#### 코드 512-04"
   ]
  },
  {
   "cell_type": "code",
   "execution_count": 13,
   "metadata": {
    "colab": {
     "base_uri": "https://localhost:8080/"
    },
    "id": "trn_gx-oXxjY",
    "outputId": "eb74365f-bdca-4b98-ea5b-0c852dbe4550"
   },
   "outputs": [
    {
     "name": "stdout",
     "output_type": "stream",
     "text": [
      "12.94\n"
     ]
    }
   ],
   "source": [
    "data_sorted = data.sort_values(by='alcohol')\n",
    "data_sorted.loc[0:19, 'alcohol'] = data_sorted.loc[19, 'alcohol']\n",
    "print(round(data_sorted[data_sorted['proanthocyanins']<=2]['alcohol'].mean(), 2))"
   ]
  },
  {
   "cell_type": "markdown",
   "metadata": {
    "id": "NI56d5yVXzi_"
   },
   "source": [
    "#### 코드 512-05"
   ]
  },
  {
   "cell_type": "code",
   "execution_count": 14,
   "metadata": {
    "colab": {
     "base_uri": "https://localhost:8080/"
    },
    "id": "5XepS54pm4cs",
    "outputId": "433f20fb-4e69-4e6d-e260-dd1467eed2f4"
   },
   "outputs": [
    {
     "name": "stdout",
     "output_type": "stream",
     "text": [
      "68.5\n"
     ]
    }
   ],
   "source": [
    "class1_q1, class1_q3 = data[data['class']==1]['proline'].quantile([0.25, 0.75])\n",
    "class2_q1, class2_q3 = data[data['class']==2]['proline'].quantile([0.25, 0.75])\n",
    "print(abs((class1_q3-class1_q1) - (class2_q3-class2_q1)))"
   ]
  }
 ],
 "metadata": {
  "colab": {
   "collapsed_sections": [],
   "include_colab_link": true,
   "name": "P2_C5_01_iris_wine.ipynb",
   "provenance": [],
   "toc_visible": true
  },
  "kernelspec": {
   "display_name": "Python 3 (ipykernel)",
   "language": "python",
   "name": "python3"
  },
  "language_info": {
   "codemirror_mode": {
    "name": "ipython",
    "version": 3
   },
   "file_extension": ".py",
   "mimetype": "text/x-python",
   "name": "python",
   "nbconvert_exporter": "python",
   "pygments_lexer": "ipython3",
   "version": "3.9.12"
  }
 },
 "nbformat": 4,
 "nbformat_minor": 1
}
