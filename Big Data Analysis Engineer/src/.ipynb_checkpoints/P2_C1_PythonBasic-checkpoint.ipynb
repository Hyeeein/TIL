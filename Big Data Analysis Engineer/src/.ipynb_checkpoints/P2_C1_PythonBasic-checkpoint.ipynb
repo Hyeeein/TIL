{
 "cells": [
  {
   "cell_type": "markdown",
   "metadata": {
    "id": "nHcOnSJfzaMx"
   },
   "source": [
    "# **Chapter 1. 파이썬 기본 문법**"
   ]
  },
  {
   "cell_type": "markdown",
   "metadata": {
    "id": "oHRETlrfz0BT"
   },
   "source": [
    "## 파이썬 자료형"
   ]
  },
  {
   "cell_type": "markdown",
   "metadata": {
    "id": "tRHEdKUIz7OR"
   },
   "source": [
    "### (1) 숫자형 "
   ]
  },
  {
   "cell_type": "markdown",
   "metadata": {
    "id": "v-jUHt_7uBWn"
   },
   "source": [
    "#### 131-01 정수형 + 실수형 "
   ]
  },
  {
   "cell_type": "code",
   "execution_count": 2,
   "metadata": {
    "colab": {
     "base_uri": "https://localhost:8080/"
    },
    "id": "iH_9vsFrzZZL",
    "outputId": "9abd655d-89c3-4efa-ef55-682fbb5b00e0"
   },
   "outputs": [
    {
     "name": "stdout",
     "output_type": "stream",
     "text": [
      "1234 -12.34\n",
      "<class 'int'> <class 'float'>\n",
      "1221.66\n",
      "<class 'float'>\n"
     ]
    }
   ],
   "source": [
    "a = 1234\n",
    "b = -12.34\n",
    "c = a + b\n",
    "\n",
    "print(a, b)\n",
    "print(type(a), type(b))\n",
    "print(c)\n",
    "print(type(c))"
   ]
  },
  {
   "cell_type": "markdown",
   "metadata": {
    "id": "sWMXEayDuc52"
   },
   "source": [
    "#### 131-02 사칙연산 기능"
   ]
  },
  {
   "cell_type": "code",
   "execution_count": 3,
   "metadata": {
    "colab": {
     "base_uri": "https://localhost:8080/"
    },
    "id": "DDAqTH7p0DQg",
    "outputId": "f05044c3-1b17-4198-f920-009a6b1c5dfb"
   },
   "outputs": [
    {
     "name": "stdout",
     "output_type": "stream",
     "text": [
      "10\n",
      "-4\n",
      "21\n",
      "0.42857142857142855\n",
      "2187\n",
      "3\n",
      "0\n"
     ]
    }
   ],
   "source": [
    "a = 3\n",
    "b = 7\n",
    "\n",
    "print(a + b)\n",
    "print(a - b)\n",
    "print(a * b)\n",
    "print(a / b)\n",
    "print(a ** b)\n",
    "print(a % b)\n",
    "print(a // b)"
   ]
  },
  {
   "cell_type": "markdown",
   "metadata": {
    "id": "aRLGCbPM12NZ"
   },
   "source": [
    "### (2) 문자열 자료형"
   ]
  },
  {
   "cell_type": "markdown",
   "metadata": {
    "id": "Lpq9c_6bz5vA"
   },
   "source": [
    "#### 132-01 문자열 자료형"
   ]
  },
  {
   "cell_type": "code",
   "execution_count": 4,
   "metadata": {
    "colab": {
     "base_uri": "https://localhost:8080/"
    },
    "id": "Hlxq_ngH1MHm",
    "outputId": "4815017d-43f6-43a4-a0ba-306932fd2899"
   },
   "outputs": [
    {
     "name": "stdout",
     "output_type": "stream",
     "text": [
      "Hello World\n",
      "Hello Python's World\n",
      "\"Hello World.\" he says.\n",
      "Hello World\n",
      "Life is good\n"
     ]
    }
   ],
   "source": [
    "a = \"Hello World\"\n",
    "b = \"Hello Python's World\"\n",
    "c = '\"Hello World.\" he says.'\n",
    "d = \"Hello World\\nLife is good\"\n",
    "\n",
    "print(a)\n",
    "print(b)\n",
    "print(c)\n",
    "print(d)"
   ]
  },
  {
   "cell_type": "markdown",
   "metadata": {
    "id": "g1fwGH-D2mSX"
   },
   "source": [
    "####132-02 문자열 더하기"
   ]
  },
  {
   "cell_type": "code",
   "execution_count": 5,
   "metadata": {
    "colab": {
     "base_uri": "https://localhost:8080/"
    },
    "id": "Xd_GaCmo1NuG",
    "outputId": "9d08f952-e799-44b2-cfff-390acae77044"
   },
   "outputs": [
    {
     "name": "stdout",
     "output_type": "stream",
     "text": [
      "Python is good.\n"
     ]
    }
   ],
   "source": [
    "a = \"Python\"\n",
    "b = \" \"\n",
    "c = \"is good.\"\n",
    "\n",
    "print(a + b + c)"
   ]
  },
  {
   "cell_type": "markdown",
   "metadata": {
    "id": "XA--zT-r3dSM"
   },
   "source": [
    "####132-03 문자열 곱하기"
   ]
  },
  {
   "cell_type": "code",
   "execution_count": 6,
   "metadata": {
    "colab": {
     "base_uri": "https://localhost:8080/"
    },
    "id": "5-iEfrDv20a2",
    "outputId": "8ab19cd8-beaf-4635-fffc-071d2c387aca"
   },
   "outputs": [
    {
     "name": "stdout",
     "output_type": "stream",
     "text": [
      "PythonPythonPython\n"
     ]
    }
   ],
   "source": [
    "a = \"Python\"\n",
    "\n",
    "print(a*3)"
   ]
  },
  {
   "cell_type": "markdown",
   "metadata": {
    "id": "LrXLn1Qj3ya8"
   },
   "source": [
    "####132-04 문자열 길이 구하기"
   ]
  },
  {
   "cell_type": "code",
   "execution_count": 7,
   "metadata": {
    "colab": {
     "base_uri": "https://localhost:8080/"
    },
    "id": "zLo0ShGY3ixO",
    "outputId": "8929124e-e7a6-47b7-9a2a-fc77538109ee"
   },
   "outputs": [
    {
     "name": "stdout",
     "output_type": "stream",
     "text": [
      "33\n"
     ]
    }
   ],
   "source": [
    "a = \"Life is short, Python is valuable\"\n",
    "b = len(a)\n",
    "\n",
    "print(b)"
   ]
  },
  {
   "cell_type": "markdown",
   "metadata": {
    "id": "tvdIs2c64xCq"
   },
   "source": [
    "####132-05 문자열 인덱싱"
   ]
  },
  {
   "cell_type": "code",
   "execution_count": 8,
   "metadata": {
    "colab": {
     "base_uri": "https://localhost:8080/"
    },
    "id": "E0PJisWz4jVb",
    "outputId": "426b1cc4-6b7e-418c-f112-cd88f8ca75a4"
   },
   "outputs": [
    {
     "name": "stdout",
     "output_type": "stream",
     "text": [
      "Love\n"
     ]
    }
   ],
   "source": [
    "a = \"Life is short, Python is valuable\"\n",
    "b = a[0]\n",
    "c = a[10]\n",
    "d = a[-8]\n",
    "e = a[-1]\n",
    "\n",
    "print(b + c + d + e)"
   ]
  },
  {
   "cell_type": "markdown",
   "metadata": {
    "id": "03qpb4u77tWF"
   },
   "source": [
    "####132-06 문자열 슬라이싱"
   ]
  },
  {
   "cell_type": "code",
   "execution_count": 9,
   "metadata": {
    "colab": {
     "base_uri": "https://localhost:8080/"
    },
    "id": "cfjP4vCE6Gi1",
    "outputId": "7a01507e-efec-4f3e-ab57-39b4a954f7d1"
   },
   "outputs": [
    {
     "name": "stdout",
     "output_type": "stream",
     "text": [
      "Life is valuable\n"
     ]
    }
   ],
   "source": [
    "a = \"Life is short, Python is valuable\"\n",
    "b = a[:4]\n",
    "c = a[4:8]\n",
    "d = a[25:]\n",
    "\n",
    "print(b + c + d)"
   ]
  },
  {
   "cell_type": "markdown",
   "metadata": {
    "id": "bn_KlTjE-LHA"
   },
   "source": [
    "####132-07 문자 개수 세기"
   ]
  },
  {
   "cell_type": "code",
   "execution_count": 10,
   "metadata": {
    "colab": {
     "base_uri": "https://localhost:8080/"
    },
    "id": "wt0fMJy18gWO",
    "outputId": "4399ea0b-b1dd-4c32-db20-ebe8dfdd8c79"
   },
   "outputs": [
    {
     "name": "stdout",
     "output_type": "stream",
     "text": [
      "2\n"
     ]
    }
   ],
   "source": [
    "a = \"apple\"\n",
    "b = a.count('p')\n",
    "\n",
    "print(b)"
   ]
  },
  {
   "cell_type": "markdown",
   "metadata": {
    "id": "wZmrnyk9_czI"
   },
   "source": [
    "####132-08 문자 위치 찾기"
   ]
  },
  {
   "cell_type": "code",
   "execution_count": 11,
   "metadata": {
    "colab": {
     "base_uri": "https://localhost:8080/"
    },
    "id": "2x16bCiL9kFB",
    "outputId": "9c54eb26-cb0d-4f57-b895-0fa5fc24c667"
   },
   "outputs": [
    {
     "name": "stdout",
     "output_type": "stream",
     "text": [
      "1\n"
     ]
    }
   ],
   "source": [
    "a = \"apple\"\n",
    "b = a.find('p')\n",
    "\n",
    "print(b)"
   ]
  },
  {
   "cell_type": "markdown",
   "metadata": {
    "id": "-vc_XIoP_rp-"
   },
   "source": [
    "####132-09 문자열 삽입"
   ]
  },
  {
   "cell_type": "code",
   "execution_count": 12,
   "metadata": {
    "colab": {
     "base_uri": "https://localhost:8080/"
    },
    "id": "k9Cj5lLl_jIA",
    "outputId": "9e77ff01-8985-4549-9d34-16bae65d4297"
   },
   "outputs": [
    {
     "name": "stdout",
     "output_type": "stream",
     "text": [
      "a,p,p,l,e\n"
     ]
    }
   ],
   "source": [
    "a = \"apple\"\n",
    "b = ','.join(a)\n",
    "\n",
    "print(b)"
   ]
  },
  {
   "cell_type": "markdown",
   "metadata": {
    "id": "tu0YI6NLAKGI"
   },
   "source": [
    "####132-10 소문자와 대문자 바꾸기"
   ]
  },
  {
   "cell_type": "code",
   "execution_count": 13,
   "metadata": {
    "colab": {
     "base_uri": "https://localhost:8080/"
    },
    "id": "dACsB34tANEW",
    "outputId": "6c855ccc-4824-4d71-ed80-0950d4c48791"
   },
   "outputs": [
    {
     "name": "stdout",
     "output_type": "stream",
     "text": [
      "APPLE\n",
      "apple\n"
     ]
    }
   ],
   "source": [
    "a = \"apple\"\n",
    "b = a.upper()\n",
    "c = b.lower()\n",
    "\n",
    "print(b)\n",
    "print(c)"
   ]
  },
  {
   "cell_type": "markdown",
   "metadata": {
    "id": "OJY1AA-HArb1"
   },
   "source": [
    "####132-11 공백 지우기"
   ]
  },
  {
   "cell_type": "code",
   "execution_count": 14,
   "metadata": {
    "colab": {
     "base_uri": "https://localhost:8080/"
    },
    "id": "UpOFQSeDASJp",
    "outputId": "1d798edf-e298-4897-8f56-898bf1f2ce68"
   },
   "outputs": [
    {
     "name": "stdout",
     "output_type": "stream",
     "text": [
      "apple \n",
      " apple\n",
      "apple\n"
     ]
    }
   ],
   "source": [
    "a = \" apple \"\n",
    "b = a.lstrip()\n",
    "c = a.rstrip()\n",
    "d = a.strip()\n",
    "\n",
    "print(b)\n",
    "print(c)\n",
    "print(d)"
   ]
  },
  {
   "cell_type": "markdown",
   "metadata": {
    "id": "Tvxk4GQrBLX9"
   },
   "source": [
    "####132-12 문자열 바꾸기"
   ]
  },
  {
   "cell_type": "code",
   "execution_count": 15,
   "metadata": {
    "colab": {
     "base_uri": "https://localhost:8080/"
    },
    "id": "ypB_gl81A3cA",
    "outputId": "02ce9784-83ce-43e0-af56-de5dc43f42be"
   },
   "outputs": [
    {
     "name": "stdout",
     "output_type": "stream",
     "text": [
      "Python is good\n"
     ]
    }
   ],
   "source": [
    "a = \"Life is good\"\n",
    "b = a.replace(\"Life\", \"Python\")\n",
    "\n",
    "print(b)"
   ]
  },
  {
   "cell_type": "markdown",
   "metadata": {
    "id": "QZj8uMdsBh07"
   },
   "source": [
    "####132-13 문자열 나누기"
   ]
  },
  {
   "cell_type": "code",
   "execution_count": 16,
   "metadata": {
    "colab": {
     "base_uri": "https://localhost:8080/"
    },
    "id": "q0E-3QGxBXKI",
    "outputId": "76eb1d61-3fad-43b9-aaa7-f4bf906646c3"
   },
   "outputs": [
    {
     "name": "stdout",
     "output_type": "stream",
     "text": [
      "['Life', 'is', 'short,', 'Python', 'is', 'valuable']\n",
      "['Life is short', ' Python is valuable']\n"
     ]
    }
   ],
   "source": [
    "a = \"Life is short, Python is valuable\"\n",
    "b = a.split()\n",
    "c = a.split(',')\n",
    "\n",
    "print(b)\n",
    "print(c)"
   ]
  },
  {
   "cell_type": "markdown",
   "metadata": {
    "id": "N7lU0zhLFHI5"
   },
   "source": [
    "###(3) 리스트 자료형"
   ]
  },
  {
   "cell_type": "markdown",
   "metadata": {
    "id": "GTs0DA8NI-iI"
   },
   "source": [
    "####133-01 리스트 기본 연산"
   ]
  },
  {
   "cell_type": "code",
   "execution_count": 17,
   "metadata": {
    "colab": {
     "base_uri": "https://localhost:8080/"
    },
    "id": "dTRCqgrmJMrc",
    "outputId": "232906f2-863c-412b-f3bc-37cc436d8921"
   },
   "outputs": [
    {
     "name": "stdout",
     "output_type": "stream",
     "text": [
      "[1, 2, 3, 4, 5, 1, 2, 3, 4, 5, 'a', 'b', 'c']\n",
      "13\n"
     ]
    }
   ],
   "source": [
    "a = [1, 2, 3, 4, 5]\n",
    "b = ['a', 'b', 'c']\n",
    "c = a * 2 + b\n",
    "d = len(c)\n",
    "\n",
    "print(c)\n",
    "print(d)"
   ]
  },
  {
   "cell_type": "markdown",
   "metadata": {
    "id": "ihHY0gwSGDHE"
   },
   "source": [
    "####133-02 리스트 인덱싱과 슬라이싱"
   ]
  },
  {
   "cell_type": "code",
   "execution_count": 18,
   "metadata": {
    "colab": {
     "base_uri": "https://localhost:8080/"
    },
    "id": "Togi0VbwGI20",
    "outputId": "b597fb0b-7b26-422e-f715-157c721d69f7"
   },
   "outputs": [
    {
     "name": "stdout",
     "output_type": "stream",
     "text": [
      "[1, 2, 3, 4, 5]\n",
      "1\n",
      "[2, 3, 4]\n",
      "5\n",
      "5\n",
      "[3, 4, 5]\n",
      "[3, 4, 5]\n",
      "[1, 2, 3]\n",
      "[1, 2, 3]\n"
     ]
    }
   ],
   "source": [
    "a = [1, 2, 3, 4, 5]\n",
    "\n",
    "print(a)\n",
    "print(a[0])\n",
    "print(a[1:4])\n",
    "print(a[-1])\n",
    "print(a[4])\n",
    "print(a[2:])\n",
    "print(a[2:5])\n",
    "print(a[:3])\n",
    "print(a[0:3])"
   ]
  },
  {
   "cell_type": "markdown",
   "metadata": {
    "id": "mSZRjP0YHrle"
   },
   "source": [
    "####133-03 중첩된 리스트 인덱싱과 슬라이싱"
   ]
  },
  {
   "cell_type": "code",
   "execution_count": 19,
   "metadata": {
    "colab": {
     "base_uri": "https://localhost:8080/"
    },
    "id": "GkU4agCnHpp4",
    "outputId": "a23d8faf-995b-41a4-d2ff-d2e539819568"
   },
   "outputs": [
    {
     "name": "stdout",
     "output_type": "stream",
     "text": [
      "[1, 2, 3, ['a', 'b', 'c']]\n",
      "['a', 'b', 'c']\n",
      "a\n",
      "['b', 'c']\n",
      "['a']\n"
     ]
    }
   ],
   "source": [
    "a = [1, 2, 3, ['a', 'b', 'c']]\n",
    "\n",
    "print(a)\n",
    "print(a[3])\n",
    "print(a[3][0])\n",
    "print(a[3][1:])\n",
    "print(a[3][:1])"
   ]
  },
  {
   "cell_type": "markdown",
   "metadata": {
    "id": "Aqz8IwLcJ1VD"
   },
   "source": [
    "####133-04 리스트 요소의 수정과 삭제"
   ]
  },
  {
   "cell_type": "code",
   "execution_count": 20,
   "metadata": {
    "colab": {
     "base_uri": "https://localhost:8080/"
    },
    "id": "gA8yCc8bK_S0",
    "outputId": "5880096f-71c5-47bf-af1c-9897b0d78756"
   },
   "outputs": [
    {
     "name": "stdout",
     "output_type": "stream",
     "text": [
      "[1, 2, 10, 4]\n"
     ]
    }
   ],
   "source": [
    "a = [1, 2, 3, 4, 5]\n",
    "a[2] = 10\n",
    "del a[4]\n",
    "\n",
    "print(a)"
   ]
  },
  {
   "cell_type": "markdown",
   "metadata": {
    "id": "Y3PpNEDhLWxX"
   },
   "source": [
    "####133-05 리스트 요소 추가"
   ]
  },
  {
   "cell_type": "code",
   "execution_count": 21,
   "metadata": {
    "colab": {
     "base_uri": "https://localhost:8080/"
    },
    "id": "TIJu0EcmLWaB",
    "outputId": "390b2aee-d34c-4ab2-f7e3-2ca68d125b24"
   },
   "outputs": [
    {
     "name": "stdout",
     "output_type": "stream",
     "text": [
      "[1, 2, 3, 10]\n"
     ]
    }
   ],
   "source": [
    "a = [1, 2, 3]\n",
    "a.append(10)\n",
    "\n",
    "print(a)"
   ]
  },
  {
   "cell_type": "markdown",
   "metadata": {
    "id": "zKZBUBPGLsE6"
   },
   "source": [
    "####133-06 리스트 정렬"
   ]
  },
  {
   "cell_type": "code",
   "execution_count": 22,
   "metadata": {
    "colab": {
     "base_uri": "https://localhost:8080/"
    },
    "id": "T3ivn9WTLvm6",
    "outputId": "0004504a-02f3-4a47-a37a-f1a993b7e9b3"
   },
   "outputs": [
    {
     "name": "stdout",
     "output_type": "stream",
     "text": [
      "[1, 2, 3, 4, 5]\n"
     ]
    }
   ],
   "source": [
    "a = [1, 5, 2, 4, 3]\n",
    "a.sort()\n",
    "\n",
    "print(a)"
   ]
  },
  {
   "cell_type": "markdown",
   "metadata": {
    "id": "NQuc3bpMMReo"
   },
   "source": [
    "####133-07 리스트 요소의 위치 반환"
   ]
  },
  {
   "cell_type": "code",
   "execution_count": 23,
   "metadata": {
    "colab": {
     "base_uri": "https://localhost:8080/"
    },
    "id": "46yHorVCM1-H",
    "outputId": "3fc0d1ce-286b-42bc-d0d6-bea4808f46aa"
   },
   "outputs": [
    {
     "name": "stdout",
     "output_type": "stream",
     "text": [
      "2\n",
      "0\n"
     ]
    }
   ],
   "source": [
    "a = [5, 4, 3, 2, 1]\n",
    "b = a.index(3)\n",
    "c = a.index(5)\n",
    "\n",
    "print(b)\n",
    "print(c)"
   ]
  },
  {
   "cell_type": "markdown",
   "metadata": {
    "id": "zrzdKyBmNuyX"
   },
   "source": [
    "####133-08 리스트 요소 삽입"
   ]
  },
  {
   "cell_type": "code",
   "execution_count": 24,
   "metadata": {
    "colab": {
     "base_uri": "https://localhost:8080/"
    },
    "id": "0dKWynEPOIVw",
    "outputId": "e359c010-08e5-48de-fbbd-ec1026317b6b"
   },
   "outputs": [
    {
     "name": "stdout",
     "output_type": "stream",
     "text": [
      "[10, 1, 2, 3]\n"
     ]
    }
   ],
   "source": [
    "a = [1, 2, 3]\n",
    "a.insert(0, 10)\n",
    "\n",
    "print(a)"
   ]
  },
  {
   "cell_type": "markdown",
   "metadata": {
    "id": "DCPQ5rlfNxUD"
   },
   "source": [
    "####133-09 리스트 요소 제거"
   ]
  },
  {
   "cell_type": "code",
   "execution_count": 25,
   "metadata": {
    "colab": {
     "base_uri": "https://localhost:8080/"
    },
    "id": "atxVTDlxOcXZ",
    "outputId": "f520ac79-90bd-43f0-bd4c-7bf734ed6654"
   },
   "outputs": [
    {
     "name": "stdout",
     "output_type": "stream",
     "text": [
      "[5, 3, 2, 1, 5, 4, 3, 2, 1]\n"
     ]
    }
   ],
   "source": [
    "a = [5, 4, 3, 2, 1, 5, 4, 3, 2, 1]\n",
    "a.remove(4)\n",
    "\n",
    "print(a)"
   ]
  },
  {
   "cell_type": "markdown",
   "metadata": {
    "id": "d429PWgyNzIr"
   },
   "source": [
    "####133-10 리스트 요소 뽑기"
   ]
  },
  {
   "cell_type": "code",
   "execution_count": 26,
   "metadata": {
    "colab": {
     "base_uri": "https://localhost:8080/"
    },
    "id": "yhZAwZzVO2ns",
    "outputId": "3ad2bcd1-3680-40cf-abe0-e90ad79152ce"
   },
   "outputs": [
    {
     "name": "stdout",
     "output_type": "stream",
     "text": [
      "[5, 3, 2, 1, 5, 4, 3, 2, 1]\n",
      "4\n"
     ]
    }
   ],
   "source": [
    "a = [5, 4, 3, 2, 1, 5, 4, 3, 2, 1]\n",
    "b = a.pop(1)\n",
    "\n",
    "print(a)\n",
    "print(b)"
   ]
  },
  {
   "cell_type": "markdown",
   "metadata": {
    "id": "YNYziNIvOGnF"
   },
   "source": [
    "####133-11 리스트 요소 개수 세기"
   ]
  },
  {
   "cell_type": "code",
   "execution_count": 27,
   "metadata": {
    "colab": {
     "base_uri": "https://localhost:8080/"
    },
    "id": "6KYg8n1fPPWx",
    "outputId": "b9bc207e-6d7b-4df5-ccbf-0f8988b4a5f4"
   },
   "outputs": [
    {
     "name": "stdout",
     "output_type": "stream",
     "text": [
      "2\n"
     ]
    }
   ],
   "source": [
    "a = [5, 4, 3, 2, 1, 5, 4, 3, 2, 1]\n",
    "b = a.count(1)\n",
    "\n",
    "print(b)"
   ]
  },
  {
   "cell_type": "markdown",
   "metadata": {
    "id": "uMSVZ9VYFNje"
   },
   "source": [
    "###(4) 튜플 자료형"
   ]
  },
  {
   "cell_type": "markdown",
   "metadata": {
    "id": "YP0DJQY9SYg4"
   },
   "source": [
    "####134-01 튜플 기본 연산"
   ]
  },
  {
   "cell_type": "code",
   "execution_count": 28,
   "metadata": {
    "colab": {
     "base_uri": "https://localhost:8080/"
    },
    "id": "7nNmynhUSbYI",
    "outputId": "59faef60-f0b8-4b97-c163-163a38ebfe97"
   },
   "outputs": [
    {
     "name": "stdout",
     "output_type": "stream",
     "text": [
      "(1, 2, 3, 4, 5, 1, 2, 3, 4, 5, 'a', 'b', 'c')\n",
      "13\n"
     ]
    }
   ],
   "source": [
    "a = (1, 2, 3, 4, 5)\n",
    "b = ('a', 'b', 'c')\n",
    "c = a * 2 + b\n",
    "d = len(c)\n",
    "\n",
    "print(c)\n",
    "print(d)"
   ]
  },
  {
   "cell_type": "markdown",
   "metadata": {
    "id": "vhCiKw4iRze_"
   },
   "source": [
    "####134-02 튜플 인덱싱과 슬라이싱"
   ]
  },
  {
   "cell_type": "code",
   "execution_count": 29,
   "metadata": {
    "colab": {
     "base_uri": "https://localhost:8080/"
    },
    "id": "i046H_N7R6t4",
    "outputId": "d82dfbd2-9cbf-411f-d006-c244682f241c"
   },
   "outputs": [
    {
     "name": "stdout",
     "output_type": "stream",
     "text": [
      "1\n",
      "('a', 'b', 'c')\n"
     ]
    }
   ],
   "source": [
    "a = (1, 2, 3, 'a', 'b', 'c')\n",
    "\n",
    "print(a[0])\n",
    "print(a[3:])"
   ]
  },
  {
   "cell_type": "markdown",
   "metadata": {
    "id": "yWx7FN5dFYw7"
   },
   "source": [
    "###(5) 딕셔너리 자료형"
   ]
  },
  {
   "cell_type": "markdown",
   "metadata": {
    "id": "GKxvTgRjXucQ"
   },
   "source": [
    "#### 135-01 딕셔너리 자료 구조"
   ]
  },
  {
   "cell_type": "code",
   "execution_count": 30,
   "metadata": {
    "colab": {
     "base_uri": "https://localhost:8080/"
    },
    "id": "gVMLICCIXt1P",
    "outputId": "61ba35a7-ad2f-4907-b8b6-88629d478419"
   },
   "outputs": [
    {
     "name": "stdout",
     "output_type": "stream",
     "text": [
      "{'name': 'John', 'age': 30, 'birth': [11, 8]}\n",
      "John\n",
      "[11, 8]\n"
     ]
    }
   ],
   "source": [
    "a = {'name':'John', 'age':30, 'birth':[11, 8]}\n",
    "\n",
    "print(a)\n",
    "print(a['name'])\n",
    "print(a['birth'])"
   ]
  },
  {
   "cell_type": "markdown",
   "metadata": {
    "id": "_oZqZZhkaqnT"
   },
   "source": [
    "####135-02 딕셔너리 키-값 추가와 삭제"
   ]
  },
  {
   "cell_type": "code",
   "execution_count": 31,
   "metadata": {
    "colab": {
     "base_uri": "https://localhost:8080/"
    },
    "id": "-KtX0t4XYwdp",
    "outputId": "def5fdaa-69f9-4ac6-8a4e-f1ea432f344c"
   },
   "outputs": [
    {
     "name": "stdout",
     "output_type": "stream",
     "text": [
      "{'name': 'John', 'age': 30, 'birth': [11, 8]}\n"
     ]
    }
   ],
   "source": [
    "a = {'name':'John'}\n",
    "a['age'] = 30\n",
    "a['house'] = 'apartment'\n",
    "a['birth'] = [11, 8]\n",
    "del a['house']\n",
    "\n",
    "print(a)"
   ]
  },
  {
   "cell_type": "markdown",
   "metadata": {
    "id": "ZWfbnuQ8awEK"
   },
   "source": [
    "####135-03 딕셔너리 키 중복"
   ]
  },
  {
   "cell_type": "code",
   "execution_count": 32,
   "metadata": {
    "colab": {
     "base_uri": "https://localhost:8080/"
    },
    "id": "qht6D5eMayoB",
    "outputId": "4efe12f6-ef7b-4f3e-eef6-3f1ed63d3212"
   },
   "outputs": [
    {
     "name": "stdout",
     "output_type": "stream",
     "text": [
      "{'name': 'Park'}\n"
     ]
    }
   ],
   "source": [
    "a = {'name':'John', 'name':'Park'}\n",
    "\n",
    "print(a)"
   ]
  },
  {
   "cell_type": "markdown",
   "metadata": {
    "id": "C_APq-WJdyJ1"
   },
   "source": [
    "####135-04 딕셔너리 키 리스트 만들기"
   ]
  },
  {
   "cell_type": "code",
   "execution_count": 33,
   "metadata": {
    "colab": {
     "base_uri": "https://localhost:8080/"
    },
    "id": "b8FnEaDrd0Yd",
    "outputId": "d1b110c4-acb1-4d6b-8360-d3d4a1738b52"
   },
   "outputs": [
    {
     "name": "stdout",
     "output_type": "stream",
     "text": [
      "dict_keys(['name', 'age', 'birth'])\n",
      "['name', 'age', 'birth']\n"
     ]
    }
   ],
   "source": [
    "a = {'name':'John', 'age':30, 'birth':[11, 8]}\n",
    "b = a.keys()\n",
    "c = list(a.keys())\n",
    "\n",
    "print(b)\n",
    "print(c)"
   ]
  },
  {
   "cell_type": "markdown",
   "metadata": {
    "id": "K7GJ2uaBeO6C"
   },
   "source": [
    "####135-05 딕셔너리 값 리스트 만들기"
   ]
  },
  {
   "cell_type": "code",
   "execution_count": 34,
   "metadata": {
    "colab": {
     "base_uri": "https://localhost:8080/"
    },
    "id": "Z_3wrKrweSzc",
    "outputId": "61ab8250-b36f-4fc8-c4c3-590621d73f86"
   },
   "outputs": [
    {
     "name": "stdout",
     "output_type": "stream",
     "text": [
      "dict_values(['John', 30, [11, 8]])\n",
      "['John', 30, [11, 8]]\n"
     ]
    }
   ],
   "source": [
    "a = {'name':'John', 'age':30, 'birth':[11, 8]}\n",
    "b = a.values()\n",
    "c = list(a.values())\n",
    "\n",
    "print(b)\n",
    "print(c)"
   ]
  },
  {
   "cell_type": "markdown",
   "metadata": {
    "id": "AWQ6mXpEel0H"
   },
   "source": [
    "####135-06 딕셔너리 키-값 리스트 만들기"
   ]
  },
  {
   "cell_type": "code",
   "execution_count": 35,
   "metadata": {
    "colab": {
     "base_uri": "https://localhost:8080/"
    },
    "id": "ANLfqlj0eoSN",
    "outputId": "71e4dbf7-f58d-4731-e081-c0ee3f6fe9ff"
   },
   "outputs": [
    {
     "name": "stdout",
     "output_type": "stream",
     "text": [
      "dict_items([('name', 'John'), ('age', 30), ('birth', [11, 8])])\n",
      "[('name', 'John'), ('age', 30), ('birth', [11, 8])]\n"
     ]
    }
   ],
   "source": [
    "a = {'name':'John', 'age':30, 'birth':[11, 8]}\n",
    "b = a.items()\n",
    "c = list(a.items())\n",
    "\n",
    "print(b)\n",
    "print(c)"
   ]
  },
  {
   "cell_type": "markdown",
   "metadata": {
    "id": "09e_RJjJfYVh"
   },
   "source": [
    "####135-07 딕셔너리 키로 값 호출하기"
   ]
  },
  {
   "cell_type": "code",
   "execution_count": 36,
   "metadata": {
    "colab": {
     "base_uri": "https://localhost:8080/"
    },
    "id": "BVIiozo1fcB2",
    "outputId": "32547866-73d1-414a-e6f9-1c563b4d6c3e"
   },
   "outputs": [
    {
     "name": "stdout",
     "output_type": "stream",
     "text": [
      "John\n",
      "John\n",
      "None\n",
      "No data\n"
     ]
    }
   ],
   "source": [
    "a = {'name':'John', 'age':30, 'birth':[11, 8]}\n",
    "b = a.get('name')\n",
    "c = a['name']\n",
    "d = a.get('house')\n",
    "e = a.get('house', 'No data')\n",
    "\n",
    "print(b)\n",
    "print(c)\n",
    "print(d)\n",
    "print(e)"
   ]
  },
  {
   "cell_type": "markdown",
   "metadata": {
    "id": "TcYV_3DgFctK"
   },
   "source": [
    "###(6) 집합 자료형"
   ]
  },
  {
   "cell_type": "markdown",
   "metadata": {
    "id": "SGmPXqr4xNAM"
   },
   "source": [
    "####136-01 집합 자료형"
   ]
  },
  {
   "cell_type": "code",
   "execution_count": 37,
   "metadata": {
    "colab": {
     "base_uri": "https://localhost:8080/"
    },
    "id": "QaPNIV6ExTrx",
    "outputId": "9b0ee0f1-8366-445f-f5f8-d7bfd9d75a77"
   },
   "outputs": [
    {
     "name": "stdout",
     "output_type": "stream",
     "text": [
      "{1, 2, 3}\n",
      "{1, 2, 3}\n",
      "{'h', 'y', 'o', 'P', 'n', 't'}\n"
     ]
    }
   ],
   "source": [
    "a = {1, 2, 3, 2, 1}\n",
    "b = set([1, 2, 3, 2, 1])\n",
    "c = set(\"Python\")\n",
    "\n",
    "print(a)\n",
    "print(b)\n",
    "print(c)"
   ]
  },
  {
   "cell_type": "markdown",
   "metadata": {
    "id": "G2LRRhnEx3tj"
   },
   "source": [
    "####136-02 집합 자료형 변환"
   ]
  },
  {
   "cell_type": "code",
   "execution_count": 38,
   "metadata": {
    "colab": {
     "base_uri": "https://localhost:8080/"
    },
    "id": "NtQ1oyt2yCQ-",
    "outputId": "e547006e-8b4f-4fee-bc68-0d5bd87f9b75"
   },
   "outputs": [
    {
     "name": "stdout",
     "output_type": "stream",
     "text": [
      "{1, 2, 3}\n",
      "[1, 2, 3]\n",
      "1\n",
      "(1, 2, 3)\n",
      "3\n"
     ]
    }
   ],
   "source": [
    "a = set([1, 2, 3])\n",
    "b = list(a)\n",
    "c = tuple(a)\n",
    "\n",
    "print(a)\n",
    "print(b)\n",
    "print(b[0])\n",
    "print(c)\n",
    "print(c[2])"
   ]
  },
  {
   "cell_type": "markdown",
   "metadata": {
    "id": "a-YgO7XYzZ3q"
   },
   "source": [
    "####136-03 집합 자료형 교집합"
   ]
  },
  {
   "cell_type": "code",
   "execution_count": 39,
   "metadata": {
    "colab": {
     "base_uri": "https://localhost:8080/"
    },
    "id": "ujPlAnw5zcp3",
    "outputId": "ff3c6cb8-0a15-460b-e506-e35741296ae9"
   },
   "outputs": [
    {
     "name": "stdout",
     "output_type": "stream",
     "text": [
      "{3, 4, 5}\n",
      "{3, 4, 5}\n"
     ]
    }
   ],
   "source": [
    "a = set([1, 2, 3, 4, 5])\n",
    "b = set([3, 4, 5, 6, 7])\n",
    "c = a & b\n",
    "d = a.intersection(b)\n",
    "\n",
    "print(c)\n",
    "print(d)"
   ]
  },
  {
   "cell_type": "markdown",
   "metadata": {
    "id": "LBuoB6I-z7iZ"
   },
   "source": [
    "####136-04 집합 자료형 합집합"
   ]
  },
  {
   "cell_type": "code",
   "execution_count": 40,
   "metadata": {
    "colab": {
     "base_uri": "https://localhost:8080/"
    },
    "id": "eDUXf0E4z90v",
    "outputId": "eb3e085a-3280-459b-ad8e-837375f8c3d1"
   },
   "outputs": [
    {
     "name": "stdout",
     "output_type": "stream",
     "text": [
      "{1, 2, 3, 4, 5, 6, 7}\n",
      "{1, 2, 3, 4, 5, 6, 7}\n"
     ]
    }
   ],
   "source": [
    "a = set([1, 2, 3, 4, 5])\n",
    "b = set([3, 4, 5, 6, 7])\n",
    "c = a | b\n",
    "d = a.union(b)\n",
    "\n",
    "print(c)\n",
    "print(d)"
   ]
  },
  {
   "cell_type": "markdown",
   "metadata": {
    "id": "-hxv6iHx0Iho"
   },
   "source": [
    "####136-05 집합 자료형 차집합"
   ]
  },
  {
   "cell_type": "code",
   "execution_count": 41,
   "metadata": {
    "colab": {
     "base_uri": "https://localhost:8080/"
    },
    "id": "EN-iRfAR0LXB",
    "outputId": "147a43df-d3a2-46b1-a1c6-b83bec49bf31"
   },
   "outputs": [
    {
     "name": "stdout",
     "output_type": "stream",
     "text": [
      "{1, 2}\n",
      "{1, 2}\n"
     ]
    }
   ],
   "source": [
    "a = set([1, 2, 3, 4, 5])\n",
    "b = set([3, 4, 5, 6, 7])\n",
    "c = a - b\n",
    "d = a.difference(b)\n",
    "\n",
    "print(c)\n",
    "print(d)"
   ]
  },
  {
   "cell_type": "markdown",
   "metadata": {
    "id": "IpIgLxqFFed9"
   },
   "source": [
    "###(7) 논리 자료형"
   ]
  },
  {
   "cell_type": "markdown",
   "metadata": {
    "id": "bUcqJVy-1FTZ"
   },
   "source": [
    "####137-01 논리 자료형 특징"
   ]
  },
  {
   "cell_type": "code",
   "execution_count": 42,
   "metadata": {
    "colab": {
     "base_uri": "https://localhost:8080/"
    },
    "id": "BfItBgto1Hqk",
    "outputId": "de212de7-e681-4d43-9155-188edf8cf512"
   },
   "outputs": [
    {
     "name": "stdout",
     "output_type": "stream",
     "text": [
      "True\n",
      "<class 'bool'>\n",
      "False\n",
      "<class 'bool'>\n",
      "1\n",
      "<class 'int'>\n",
      "0\n",
      "<class 'int'>\n"
     ]
    }
   ],
   "source": [
    "a = True\n",
    "b = False\n",
    "\n",
    "print(a)\n",
    "print(type(a))\n",
    "print(b)\n",
    "print(type(b))\n",
    "print(a + b)\n",
    "print(type(a + b))\n",
    "print(a * b)\n",
    "print(type(a * b))"
   ]
  },
  {
   "cell_type": "markdown",
   "metadata": {
    "id": "_IewLf4oFr7O"
   },
   "source": [
    "##4. 파이썬 제어문"
   ]
  },
  {
   "cell_type": "markdown",
   "metadata": {
    "id": "6fNzChnFFu-r"
   },
   "source": [
    "###(1) if문"
   ]
  },
  {
   "cell_type": "markdown",
   "metadata": {
    "id": "kE3WHI5GIxy0"
   },
   "source": [
    "####141-01 조건문 기본 구조"
   ]
  },
  {
   "cell_type": "code",
   "execution_count": 43,
   "metadata": {
    "colab": {
     "base_uri": "https://localhost:8080/"
    },
    "id": "aFarvhQuI0SR",
    "outputId": "49c85760-2c3b-4869-8b1e-e1f8f632e4c3"
   },
   "outputs": [
    {
     "name": "stdout",
     "output_type": "stream",
     "text": [
      "가설은\n",
      "사실이다\n"
     ]
    }
   ],
   "source": [
    "a = True\n",
    "\n",
    "if a:\n",
    "    print(\"가설은\")\n",
    "    print(\"사실이다\")\n",
    "else:\n",
    "    print(\"가설은\")\n",
    "    print(\"거짓이다\")"
   ]
  },
  {
   "cell_type": "markdown",
   "metadata": {
    "id": "ve4pzezBQF09"
   },
   "source": [
    "####141-02 조건문 비교 연산자"
   ]
  },
  {
   "cell_type": "code",
   "execution_count": 44,
   "metadata": {
    "colab": {
     "base_uri": "https://localhost:8080/"
    },
    "id": "9zCH5_8ZI0IW",
    "outputId": "ed2a8c56-2263-40e5-a846-3e50535ab6a3"
   },
   "outputs": [
    {
     "name": "stdout",
     "output_type": "stream",
     "text": [
      "x가 y보다 작거나 같다\n"
     ]
    }
   ],
   "source": [
    "x = 3\n",
    "y = 7\n",
    "\n",
    "if x <= y:\n",
    "    print(\"x가 y보다 작거나 같다\")\n",
    "else:\n",
    "    print(\"x가 y보다 크다\")"
   ]
  },
  {
   "cell_type": "markdown",
   "metadata": {
    "id": "E38BgqKDRlbe"
   },
   "source": [
    "####141-03 조건문 and, or, not 연산자"
   ]
  },
  {
   "cell_type": "code",
   "execution_count": 45,
   "metadata": {
    "colab": {
     "base_uri": "https://localhost:8080/"
    },
    "id": "krDItG7gRoi2",
    "outputId": "add5f92b-90f5-4545-9774-de6be35a8bc1"
   },
   "outputs": [
    {
     "name": "stdout",
     "output_type": "stream",
     "text": [
      "x가 y보다 작거나 같다\n"
     ]
    }
   ],
   "source": [
    "x = 3\n",
    "y = 7\n",
    "\n",
    "if x == y or x < y:\n",
    "    print(\"x가 y보다 작거나 같다\")\n",
    "else:\n",
    "    print(\"x가 y보다 크다\")"
   ]
  },
  {
   "cell_type": "markdown",
   "metadata": {
    "id": "er_KgflYSjzf"
   },
   "source": [
    "####141-04 조건문 in, not in 연산자"
   ]
  },
  {
   "cell_type": "code",
   "execution_count": 46,
   "metadata": {
    "colab": {
     "base_uri": "https://localhost:8080/"
    },
    "id": "ggaY0nwXSm4z",
    "outputId": "458e26c2-9ad3-4515-f1be-a074bbe1e357"
   },
   "outputs": [
    {
     "name": "stdout",
     "output_type": "stream",
     "text": [
      "데이터가 존재한다\n"
     ]
    }
   ],
   "source": [
    "x = 3\n",
    "y = [1, 2, 3, 4, 5]\n",
    "\n",
    "if x in y:\n",
    "    print(\"데이터가 존재한다\")\n",
    "else:\n",
    "    print(\"데이터가 존재하지 않는다\")"
   ]
  },
  {
   "cell_type": "markdown",
   "metadata": {
    "id": "Q4t8EyyTUuJT"
   },
   "source": [
    "####141-05 elif 활용한 조건문 기본 구조"
   ]
  },
  {
   "cell_type": "code",
   "execution_count": 47,
   "metadata": {
    "colab": {
     "base_uri": "https://localhost:8080/"
    },
    "id": "ipFBgzfhUxr3",
    "outputId": "2aa96e9c-d7b5-4f27-d39d-3b3eb85fb912"
   },
   "outputs": [
    {
     "name": "stdout",
     "output_type": "stream",
     "text": [
      "x가 y보다 작다\n"
     ]
    }
   ],
   "source": [
    "x = 3\n",
    "y = 7\n",
    "\n",
    "if x == y:\n",
    "    print(\"x와 y는 같다\")\n",
    "elif x < y:\n",
    "    print(\"x가 y보다 작다\")\n",
    "else:\n",
    "    print(\"x가 y보다 크다\")"
   ]
  },
  {
   "cell_type": "markdown",
   "metadata": {
    "id": "n1IrvdSiFyHj"
   },
   "source": [
    "###(2) while문"
   ]
  },
  {
   "cell_type": "markdown",
   "metadata": {
    "id": "bGs1XsWcXTYJ"
   },
   "source": [
    "####142-01 while문 기본 구조"
   ]
  },
  {
   "cell_type": "code",
   "execution_count": 48,
   "metadata": {
    "colab": {
     "base_uri": "https://localhost:8080/"
    },
    "id": "ZP5Vj7IwXWQQ",
    "outputId": "4a5be12f-9880-4cd8-d71a-2aff87bc36fe"
   },
   "outputs": [
    {
     "name": "stdout",
     "output_type": "stream",
     "text": [
      "a값은 0 입니다\n",
      "a값은 1 입니다\n",
      "a값은 2 입니다\n",
      "a값은 3 입니다\n",
      "a값은 4 입니다\n",
      "while문이 종료되었습니다\n"
     ]
    }
   ],
   "source": [
    "a = 0\n",
    "\n",
    "while a < 5:\n",
    "    print(\"a값은 %s 입니다\" % a)\n",
    "    a = a + 1\n",
    "\n",
    "print(\"while문이 종료되었습니다\")"
   ]
  },
  {
   "cell_type": "markdown",
   "metadata": {
    "id": "OAccdB4cavqd"
   },
   "source": [
    "####142-02 while문 조건 변경"
   ]
  },
  {
   "cell_type": "code",
   "execution_count": 49,
   "metadata": {
    "colab": {
     "base_uri": "https://localhost:8080/"
    },
    "id": "bKW4EwT6a1Ku",
    "outputId": "158a4ad1-1381-4eeb-d4a0-94fc6cf945b6"
   },
   "outputs": [
    {
     "name": "stdout",
     "output_type": "stream",
     "text": [
      "바구니에서 사과를 꺼냈습니다\n",
      "바구니에서 바나나를 꺼냈습니다\n",
      "바구니에서 토마토를 꺼냈습니다\n",
      "바구니에 아무것도 남아있지 않습니다\n"
     ]
    }
   ],
   "source": [
    "a = 0\n",
    "b = [\"사과\", \"바나나\", \"토마토\"]\n",
    "\n",
    "while a < len(b):\n",
    "    print(\"바구니에서 %s를 꺼냈습니다\" % b[a])\n",
    "    a = a + 1\n",
    "\n",
    "print(\"바구니에 아무것도 남아있지 않습니다\")"
   ]
  },
  {
   "cell_type": "markdown",
   "metadata": {
    "id": "MrzXQXyecGqd"
   },
   "source": [
    "####142-03 while문 break 활용"
   ]
  },
  {
   "cell_type": "code",
   "execution_count": 50,
   "metadata": {
    "colab": {
     "base_uri": "https://localhost:8080/"
    },
    "id": "RAHBbxf4cJbc",
    "outputId": "f338852e-4f17-4b58-bf78-c497a4e0d64d"
   },
   "outputs": [
    {
     "name": "stdout",
     "output_type": "stream",
     "text": [
      "a값은 5 입니다\n",
      "a값은 4 입니다\n",
      "a값은 3 입니다\n",
      "while문이 종료되었습니다\n"
     ]
    }
   ],
   "source": [
    "a = 5\n",
    "\n",
    "while a > 0:\n",
    "    print(\"a값은 %s 입니다\" % a)\n",
    "    a = a - 1\n",
    "\n",
    "    if a == 2:\n",
    "        break\n",
    "\n",
    "print(\"while문이 종료되었습니다\")"
   ]
  },
  {
   "cell_type": "markdown",
   "metadata": {
    "id": "AU1JRXGMPU9s"
   },
   "source": [
    "####142-04 while문 continue 활용"
   ]
  },
  {
   "cell_type": "code",
   "execution_count": 51,
   "metadata": {
    "colab": {
     "base_uri": "https://localhost:8080/"
    },
    "id": "cIFlkGjWPZd_",
    "outputId": "5a4edb71-86c9-4fb9-f224-1281aa4eaae6"
   },
   "outputs": [
    {
     "name": "stdout",
     "output_type": "stream",
     "text": [
      "1\n",
      "3\n",
      "5\n",
      "7\n",
      "9\n"
     ]
    }
   ],
   "source": [
    "a = 0\n",
    "\n",
    "while a < 10:\n",
    "    a = a + 1\n",
    "    if a % 2 == 0:\n",
    "        continue\n",
    "    print(a)"
   ]
  },
  {
   "cell_type": "markdown",
   "metadata": {
    "id": "Nztj2-RjF0vU"
   },
   "source": [
    "###(3) for문"
   ]
  },
  {
   "cell_type": "markdown",
   "metadata": {
    "id": "8Ul0JTtufY7a"
   },
   "source": [
    "####143-01 for문 기본 구조"
   ]
  },
  {
   "cell_type": "code",
   "execution_count": 52,
   "metadata": {
    "colab": {
     "base_uri": "https://localhost:8080/"
    },
    "id": "WGzGVMN_fbWJ",
    "outputId": "f59de4d8-1206-4317-e2c3-48dbdb9d3ec1"
   },
   "outputs": [
    {
     "name": "stdout",
     "output_type": "stream",
     "text": [
      "사과\n",
      "바나나\n",
      "토마토\n"
     ]
    }
   ],
   "source": [
    "a = [\"사과\", \"바나나\", \"토마토\"]\n",
    "\n",
    "for i in a:\n",
    "    print(i)"
   ]
  },
  {
   "cell_type": "markdown",
   "metadata": {
    "id": "-uWhF0hjgx-g"
   },
   "source": [
    "####143-02 for문과 if문 활용"
   ]
  },
  {
   "cell_type": "code",
   "execution_count": 53,
   "metadata": {
    "colab": {
     "base_uri": "https://localhost:8080/"
    },
    "id": "f9yM79Ryf0_b",
    "outputId": "1c824c6b-186a-4fc3-a06e-5cc920a632be"
   },
   "outputs": [
    {
     "name": "stdout",
     "output_type": "stream",
     "text": [
      "90 는(은) 평균보다 크다\n",
      "25 는(은) 평균보다 작거나 같다\n",
      "67 는(은) 평균보다 크다\n",
      "45 는(은) 평균보다 작거나 같다\n",
      "80 는(은) 평균보다 크다\n"
     ]
    }
   ],
   "source": [
    "a = [90, 25, 67, 45, 80]\n",
    "b = sum(a) / len(a)\n",
    "\n",
    "for i in a:\n",
    "    if i > b:\n",
    "        print(\"%d 는(은) 평균보다 크다\" % i)\n",
    "    else:\n",
    "        print(\"%d 는(은) 평균보다 작거나 같다\" % i)"
   ]
  },
  {
   "cell_type": "markdown",
   "metadata": {
    "id": "se0ATYC4jvUX"
   },
   "source": [
    "####143-03 for문과 range문 활용"
   ]
  },
  {
   "cell_type": "code",
   "execution_count": 54,
   "metadata": {
    "colab": {
     "base_uri": "https://localhost:8080/"
    },
    "id": "qIAsb1EbhF5k",
    "outputId": "1c77b141-ff07-40a4-c415-97b665b73c87"
   },
   "outputs": [
    {
     "name": "stdout",
     "output_type": "stream",
     "text": [
      "2 4 6 8 10 12 14 16 18  \n",
      "3 6 9 12 15 18 21 24 27  \n",
      "4 8 12 16 20 24 28 32 36  \n",
      "5 10 15 20 25 30 35 40 45  \n",
      "6 12 18 24 30 36 42 48 54  \n",
      "7 14 21 28 35 42 49 56 63  \n",
      "8 16 24 32 40 48 56 64 72  \n",
      "9 18 27 36 45 54 63 72 81  \n"
     ]
    }
   ],
   "source": [
    "for i in range(2, 10):\n",
    "    for j in range(1, 10):\n",
    "        print(i * j, end = ' ')\n",
    "    print(' ')"
   ]
  },
  {
   "cell_type": "markdown",
   "metadata": {
    "id": "yLP27PoIQ9o1"
   },
   "source": [
    "#### 143-04 for문과 리스트 요소 삽입"
   ]
  },
  {
   "cell_type": "code",
   "execution_count": 55,
   "metadata": {
    "colab": {
     "base_uri": "https://localhost:8080/"
    },
    "id": "v9nNk-I9kMtD",
    "outputId": "20edfac9-f716-4d79-cf14-6f0cab7012a2"
   },
   "outputs": [
    {
     "name": "stdout",
     "output_type": "stream",
     "text": [
      "[40, 30, 20, 10]\n"
     ]
    }
   ],
   "source": [
    "a = [1, 2, 3, 4]\n",
    "result = []\n",
    "\n",
    "for i in a:\n",
    "    result.insert(0, i * 10)\n",
    "\n",
    "print(result)"
   ]
  },
  {
   "cell_type": "markdown",
   "metadata": {
    "id": "FHVTDtYySEOC"
   },
   "source": [
    "##5. 파이썬 함수"
   ]
  },
  {
   "cell_type": "markdown",
   "metadata": {
    "id": "od1sPrCnWcQB"
   },
   "source": [
    "###(1) def문"
   ]
  },
  {
   "cell_type": "markdown",
   "metadata": {
    "id": "dI_ell5CUG3s"
   },
   "source": [
    "####151-01 def문 기본 구조"
   ]
  },
  {
   "cell_type": "code",
   "execution_count": 56,
   "metadata": {
    "colab": {
     "base_uri": "https://localhost:8080/"
    },
    "id": "ylnrUYnCSGZj",
    "outputId": "6da019a0-f6b5-4f2f-e5e4-b4b46c9442cb"
   },
   "outputs": [
    {
     "name": "stdout",
     "output_type": "stream",
     "text": [
      "10\n"
     ]
    }
   ],
   "source": [
    "def add(a, b):\n",
    "  return a + b\n",
    "\n",
    "a = 3\n",
    "b = 7\n",
    "c = add(a, b)\n",
    "\n",
    "print(c)"
   ]
  }
 ],
 "metadata": {
  "colab": {
   "collapsed_sections": [],
   "include_colab_link": true,
   "name": "P2_C1_PythonBasic.ipynb",
   "provenance": [],
   "toc_visible": true
  },
  "kernelspec": {
   "display_name": "Python 3 (ipykernel)",
   "language": "python",
   "name": "python3"
  },
  "language_info": {
   "codemirror_mode": {
    "name": "ipython",
    "version": 3
   },
   "file_extension": ".py",
   "mimetype": "text/x-python",
   "name": "python",
   "nbconvert_exporter": "python",
   "pygments_lexer": "ipython3",
   "version": "3.9.12"
  }
 },
 "nbformat": 4,
 "nbformat_minor": 1
}
