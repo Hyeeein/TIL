{
 "cells": [
  {
   "cell_type": "markdown",
   "metadata": {
    "id": "qvrlQlwK09K4"
   },
   "source": [
    "# Chapter 4. A to Z 빅데이터 분석 실습  "
   ]
  },
  {
   "cell_type": "markdown",
   "metadata": {
    "id": "XhmllIp-004C"
   },
   "source": [
    "## 1.실습 A to Z – Motor Trend Car Road Tests"
   ]
  },
  {
   "cell_type": "markdown",
   "metadata": {
    "id": "6133mB54-c5l"
   },
   "source": [
    "### mtcars: Motor Trend Car Road Tests\n",
    "- https://raw.githubusercontent.com/mwaskom/seaborn-data/master/mpg.csv"
   ]
  },
  {
   "cell_type": "code",
   "execution_count": 1,
   "metadata": {
    "colab": {
     "base_uri": "https://localhost:8080/"
    },
    "id": "_1NzoskYRGjk",
    "outputId": "2b370e44-a32f-47fe-c928-2bda28a0e563"
   },
   "outputs": [
    {
     "name": "stdout",
     "output_type": "stream",
     "text": [
      "Cloning into 'yemoonsaBigdata'...\n",
      "remote: Enumerating objects: 417, done.\u001b[K\n",
      "remote: Counting objects: 100% (417/417), done.\u001b[K\n",
      "remote: Compressing objects: 100% (392/392), done.\u001b[K\n",
      "remote: Total 417 (delta 201), reused 42 (delta 19), pack-reused 0\u001b[K\n",
      "Receiving objects: 100% (417/417), 8.30 MiB | 4.60 MiB/s, done.\n",
      "Resolving deltas: 100% (201/201), done.\n"
     ]
    }
   ],
   "source": [
    "!git clone https://github.com/AnalyticsKnight/yemoonsaBigdata/"
   ]
  },
  {
   "cell_type": "markdown",
   "metadata": {
    "id": "oaTRSpbE1bCE"
   },
   "source": [
    "### (2) 사전준비"
   ]
  },
  {
   "cell_type": "markdown",
   "metadata": {
    "id": "05PSmAPwPUdg"
   },
   "source": [
    "#### 412-01"
   ]
  },
  {
   "cell_type": "code",
   "execution_count": 2,
   "metadata": {
    "id": "glfo_TdlXuU5"
   },
   "outputs": [],
   "source": [
    "# 출력을 원하실 경우 print() 함수 활용\n",
    "# 예시) print(df.head())\n",
    "\n",
    "# getcwd(), chdir() 등 작업 폴더 설정 불필요\n",
    "# 파일 경로 상 내부 드라이브 경로(C: 등) 접근 불가\n",
    "\n",
    "# 데이터 파일 읽기 예제\n",
    "import pandas as pd\n",
    "X_test = pd.read_csv(\"./yemoonsaBigdata/datasets/Part2/mpg_X_test.csv\")\n",
    "X_train = pd.read_csv(\"./yemoonsaBigdata/datasets/Part2/mpg_X_train.csv\")\n",
    "y_train = pd.read_csv(\"./yemoonsaBigdata/datasets/Part2/mpg_y_train.csv\")\n",
    "\n",
    "# 사용자 코딩\n",
    "\n",
    "# 답안 제출 참고\n",
    "# 아래 코드 예측변수와 수험번호를 개인별로 변경하여 활용\n",
    "# pd.DataFrame({'gender': pred}).to_csv('003000000.csv', index=False)"
   ]
  },
  {
   "cell_type": "markdown",
   "metadata": {
    "id": "mBwI3KkXPskr"
   },
   "source": [
    "#### 412-02"
   ]
  },
  {
   "cell_type": "code",
   "execution_count": 3,
   "metadata": {
    "id": "OKHJXjwU492V"
   },
   "outputs": [],
   "source": [
    "import pandas as pd\n",
    "import numpy as np"
   ]
  },
  {
   "cell_type": "markdown",
   "metadata": {
    "id": "Ef--FhM5QJYI"
   },
   "source": [
    "#### 412-03"
   ]
  },
  {
   "cell_type": "code",
   "execution_count": 4,
   "metadata": {
    "id": "8GTBlyYwPjzP"
   },
   "outputs": [],
   "source": [
    "X_test = pd.read_csv(\"./yemoonsaBigdata/datasets/Part2/mpg_X_test.csv\")\n",
    "X_train = pd.read_csv(\"./yemoonsaBigdata/datasets/Part2/mpg_X_train.csv\")\n",
    "y_train = pd.read_csv(\"./yemoonsaBigdata/datasets/Part2/mpg_y_train.csv\")"
   ]
  },
  {
   "cell_type": "markdown",
   "metadata": {
    "id": "tz3AYrSR1xIL"
   },
   "source": [
    "### (3) 데이터 전처리"
   ]
  },
  {
   "cell_type": "markdown",
   "metadata": {
    "id": "XrYvJyQxQoxz"
   },
   "source": [
    "#### 413-01"
   ]
  },
  {
   "cell_type": "code",
   "execution_count": 5,
   "metadata": {
    "colab": {
     "base_uri": "https://localhost:8080/"
    },
    "id": "qjtQJGsHQpe9",
    "outputId": "c877ff52-a18a-4c87-e1ee-fe9ed90888a7"
   },
   "outputs": [
    {
     "name": "stdout",
     "output_type": "stream",
     "text": [
      "<class 'pandas.core.frame.DataFrame'>\n",
      "RangeIndex: 278 entries, 0 to 277\n",
      "Data columns (total 8 columns):\n",
      " #   Column        Non-Null Count  Dtype  \n",
      "---  ------        --------------  -----  \n",
      " 0   name          278 non-null    object \n",
      " 1   mpg           278 non-null    float64\n",
      " 2   cylinders     278 non-null    int64  \n",
      " 3   displacement  278 non-null    float64\n",
      " 4   horsepower    274 non-null    float64\n",
      " 5   weight        278 non-null    int64  \n",
      " 6   acceleration  278 non-null    float64\n",
      " 7   model_year    278 non-null    int64  \n",
      "dtypes: float64(4), int64(3), object(1)\n",
      "memory usage: 17.5+ KB\n",
      "None\n"
     ]
    }
   ],
   "source": [
    "print(X_train.info())"
   ]
  },
  {
   "cell_type": "markdown",
   "metadata": {
    "id": "O2tTLtEceQ3K"
   },
   "source": [
    "#### 413-02"
   ]
  },
  {
   "cell_type": "code",
   "execution_count": 6,
   "metadata": {
    "id": "LTLaTCFnjZC9"
   },
   "outputs": [],
   "source": [
    "from sklearn.impute import SimpleImputer\n",
    "\n",
    "imputer = SimpleImputer(missing_values=np.nan, strategy='mean')\n",
    "X_train[['horsepower']] = imputer.fit_transform( X_train[['horsepower']] )\n",
    "X_test[['horsepower']] = imputer.fit_transform( X_test[['horsepower']] )"
   ]
  },
  {
   "cell_type": "markdown",
   "metadata": {
    "id": "tOY_jbXXjZOG"
   },
   "source": [
    "#### 413-03"
   ]
  },
  {
   "cell_type": "code",
   "execution_count": 7,
   "metadata": {
    "colab": {
     "base_uri": "https://localhost:8080/"
    },
    "id": "WOXjksb5eRzA",
    "outputId": "0a079563-d7c4-4fe1-80ec-d5f50288b9fb"
   },
   "outputs": [
    {
     "name": "stdout",
     "output_type": "stream",
     "text": [
      "              mpg   cylinders  displacement  horsepower       weight  \\\n",
      "count  278.000000  278.000000    278.000000  278.000000   278.000000   \n",
      "mean    23.732734    5.374101    189.994604  103.383212  2948.464029   \n",
      "std      7.647295    1.677084    105.471423   38.695458   862.949746   \n",
      "min     10.000000    3.000000     68.000000   46.000000  1613.000000   \n",
      "25%     18.000000    4.000000     98.000000   75.000000  2206.250000   \n",
      "50%     23.000000    4.000000    140.500000   90.500000  2737.500000   \n",
      "75%     29.000000    6.000000    258.000000  118.750000  3560.000000   \n",
      "max     46.600000    8.000000    455.000000  230.000000  5140.000000   \n",
      "\n",
      "       acceleration  model_year  \n",
      "count    278.000000  278.000000  \n",
      "mean      15.580216   76.057554  \n",
      "std        2.745907    3.605591  \n",
      "min        8.000000   70.000000  \n",
      "25%       14.000000   73.000000  \n",
      "50%       15.500000   76.000000  \n",
      "75%       17.000000   79.000000  \n",
      "max       24.800000   82.000000  \n"
     ]
    }
   ],
   "source": [
    "print(X_train.describe())"
   ]
  },
  {
   "cell_type": "markdown",
   "metadata": {
    "id": "tAfj4mZBoFAU"
   },
   "source": [
    "#### 413-04"
   ]
  },
  {
   "cell_type": "code",
   "execution_count": 8,
   "metadata": {
    "id": "kX0Qjg4yoFHI"
   },
   "outputs": [],
   "source": [
    "COL_DEL = ['name']\n",
    "COL_NUM = ['mpg', 'cylinders', 'displacement', 'horsepower', 'weight', 'acceleration', 'model_year']\n",
    "COL_CAT = []\n",
    "COL_Y = ['isUSA']\n",
    "\n",
    "X_train = X_train.iloc[:, 1:]\n",
    "X_test = X_test.iloc[:, 1:]"
   ]
  },
  {
   "cell_type": "markdown",
   "metadata": {
    "id": "z3lTeHdG10nv"
   },
   "source": [
    "### (4) 데이터 모형 구축"
   ]
  },
  {
   "cell_type": "markdown",
   "metadata": {
    "id": "5eUgJyqCVNfJ"
   },
   "source": [
    "#### 414-01"
   ]
  },
  {
   "cell_type": "code",
   "execution_count": 9,
   "metadata": {
    "id": "GroexjoyVOSY"
   },
   "outputs": [],
   "source": [
    "from sklearn.model_selection import train_test_split\n",
    "X_tr, X_val, y_tr, y_val = train_test_split(X_train, y_train, test_size=0.3)"
   ]
  },
  {
   "cell_type": "markdown",
   "metadata": {
    "id": "5qe4rethnV_p"
   },
   "source": [
    "#### 414-02"
   ]
  },
  {
   "cell_type": "code",
   "execution_count": 10,
   "metadata": {
    "id": "IoU1WQs3nWzi"
   },
   "outputs": [],
   "source": [
    "from sklearn.preprocessing import StandardScaler\n",
    "\n",
    "scaler = StandardScaler()\n",
    "scaler.fit(X_tr[COL_NUM])\n",
    "X_tr[COL_NUM]=scaler.transform(X_tr[COL_NUM])\n",
    "X_val[COL_NUM]=scaler.transform(X_val[COL_NUM])\n",
    "X_test[COL_NUM]=scaler.transform(X_test[COL_NUM])"
   ]
  },
  {
   "cell_type": "markdown",
   "metadata": {
    "id": "KdBrKqeYV_I6"
   },
   "source": [
    "#### 414-03"
   ]
  },
  {
   "cell_type": "code",
   "execution_count": 11,
   "metadata": {
    "colab": {
     "base_uri": "https://localhost:8080/"
    },
    "id": "UJc0FcepV_0o",
    "outputId": "0063c509-8900-4486-e1c2-f005d15f1fcd"
   },
   "outputs": [
    {
     "data": {
      "text/plain": [
       "DecisionTreeClassifier(max_depth=10)"
      ]
     },
     "execution_count": 11,
     "metadata": {},
     "output_type": "execute_result"
    }
   ],
   "source": [
    "from sklearn.neighbors import KNeighborsClassifier\n",
    "modelKNN = KNeighborsClassifier(n_neighbors=5, metric='euclidean')\n",
    "modelKNN.fit(X_tr, y_tr.values.ravel())\n",
    "\n",
    "from sklearn.tree import DecisionTreeClassifier\n",
    "modelDT = DecisionTreeClassifier(max_depth=10)\n",
    "modelDT.fit(X_tr, y_tr)"
   ]
  },
  {
   "cell_type": "markdown",
   "metadata": {
    "id": "L-yDG-WkBOA7"
   },
   "source": [
    "### (5) 데이터 모형 평가"
   ]
  },
  {
   "cell_type": "markdown",
   "metadata": {
    "id": "vSBkfIL5WAgx"
   },
   "source": [
    "#### 415-01"
   ]
  },
  {
   "cell_type": "code",
   "execution_count": 12,
   "metadata": {
    "id": "gWW9YI9DV_44"
   },
   "outputs": [],
   "source": [
    "y_val_pred = modelKNN.predict(X_val)\n",
    "\n",
    "y_val_pred_probaKNN = modelKNN.predict_proba(X_val)\n",
    "y_val_pred_probaDT = modelDT.predict_proba(X_val)"
   ]
  },
  {
   "cell_type": "markdown",
   "metadata": {
    "id": "q4MVl56Wdg66"
   },
   "source": [
    "#### 415-02"
   ]
  },
  {
   "cell_type": "code",
   "execution_count": 13,
   "metadata": {
    "colab": {
     "base_uri": "https://localhost:8080/"
    },
    "id": "3hs9oIn7dhoA",
    "outputId": "6d3951b6-8a99-4519-c73c-c5efaa0054cb"
   },
   "outputs": [
    {
     "name": "stdout",
     "output_type": "stream",
     "text": [
      "0.879973474801061 0.916445623342175\n"
     ]
    }
   ],
   "source": [
    "from sklearn.metrics import roc_auc_score\n",
    "\n",
    "scoreKNN = roc_auc_score(y_val, y_val_pred_probaKNN[:, 1])\n",
    "scoreDT = roc_auc_score(y_val, y_val_pred_probaDT[:, 1])\n",
    "\n",
    "print( scoreKNN, scoreDT )"
   ]
  },
  {
   "cell_type": "markdown",
   "metadata": {
    "id": "vB2u1YLDiRtx"
   },
   "source": [
    "#### 415-03"
   ]
  },
  {
   "cell_type": "code",
   "execution_count": 14,
   "metadata": {
    "colab": {
     "base_uri": "https://localhost:8080/"
    },
    "id": "5aMPIAaZiRzG",
    "outputId": "4f798663-f07e-4c2d-a336-f70983f4e1a7"
   },
   "outputs": [
    {
     "name": "stdout",
     "output_type": "stream",
     "text": [
      "2 개의 이웃 확인 :  0.8869363395225465\n",
      "3 개의 이웃 확인 :  0.8919098143236075\n",
      "4 개의 이웃 확인 :  0.8796419098143237\n",
      "5 개의 이웃 확인 :  0.879973474801061\n",
      "6 개의 이웃 확인 :  0.8779840848806366\n",
      "7 개의 이웃 확인 :  0.8988726790450929\n",
      "8 개의 이웃 확인 :  0.8836206896551724\n",
      "9 개의 이웃 확인 :  0.8882625994694962\n"
     ]
    }
   ],
   "source": [
    "best_model = None\n",
    "best_score = 0\n",
    "\n",
    "for i in range(2, 10):\n",
    "    model = KNeighborsClassifier(n_neighbors=i, metric='euclidean')\n",
    "    model.fit(X_tr, y_tr.values.ravel())\n",
    "    y_val_pred_proba = model.predict_proba(X_val)\n",
    "    score = roc_auc_score(y_val, y_val_pred_proba[:, 1])\n",
    "    print(i,\"개의 이웃 확인 : \", score)\n",
    "    if best_score <= score:\n",
    "        best_model = model"
   ]
  },
  {
   "cell_type": "markdown",
   "metadata": {
    "id": "w_LY_L8GnJF9"
   },
   "source": [
    "#### 415-04"
   ]
  },
  {
   "cell_type": "code",
   "execution_count": 15,
   "metadata": {
    "colab": {
     "base_uri": "https://localhost:8080/"
    },
    "id": "E2Mhq9dWnJLd",
    "outputId": "47b1ba98-3e57-4ad2-a748-0a1414d3127c"
   },
   "outputs": [
    {
     "name": "stdout",
     "output_type": "stream",
     "text": [
      "[[0.55555556 0.44444444]\n",
      " [0.22222222 0.77777778]\n",
      " [0.         1.        ]\n",
      " [0.         1.        ]\n",
      " [0.66666667 0.33333333]\n",
      " [0.77777778 0.22222222]\n",
      " [0.44444444 0.55555556]\n",
      " [0.66666667 0.33333333]\n",
      " [0.55555556 0.44444444]\n",
      " [0.55555556 0.44444444]\n",
      " [0.         1.        ]\n",
      " [0.55555556 0.44444444]\n",
      " [0.         1.        ]\n",
      " [0.55555556 0.44444444]\n",
      " [0.66666667 0.33333333]\n",
      " [0.66666667 0.33333333]\n",
      " [0.         1.        ]\n",
      " [0.         1.        ]\n",
      " [0.77777778 0.22222222]\n",
      " [0.         1.        ]\n",
      " [0.         1.        ]\n",
      " [0.         1.        ]\n",
      " [0.         1.        ]\n",
      " [0.         1.        ]\n",
      " [0.         1.        ]\n",
      " [0.66666667 0.33333333]\n",
      " [0.77777778 0.22222222]\n",
      " [0.         1.        ]\n",
      " [0.         1.        ]\n",
      " [0.55555556 0.44444444]\n",
      " [0.77777778 0.22222222]\n",
      " [0.88888889 0.11111111]\n",
      " [0.44444444 0.55555556]\n",
      " [0.11111111 0.88888889]\n",
      " [0.         1.        ]\n",
      " [0.44444444 0.55555556]\n",
      " [0.44444444 0.55555556]\n",
      " [0.         1.        ]\n",
      " [0.77777778 0.22222222]\n",
      " [0.44444444 0.55555556]\n",
      " [0.         1.        ]\n",
      " [0.88888889 0.11111111]\n",
      " [1.         0.        ]\n",
      " [0.55555556 0.44444444]\n",
      " [0.66666667 0.33333333]\n",
      " [0.66666667 0.33333333]\n",
      " [0.55555556 0.44444444]\n",
      " [0.         1.        ]\n",
      " [0.66666667 0.33333333]\n",
      " [0.         1.        ]\n",
      " [1.         0.        ]\n",
      " [0.77777778 0.22222222]\n",
      " [0.         1.        ]\n",
      " [0.88888889 0.11111111]\n",
      " [0.         1.        ]\n",
      " [0.         1.        ]\n",
      " [0.         1.        ]\n",
      " [0.33333333 0.66666667]\n",
      " [0.         1.        ]\n",
      " [0.66666667 0.33333333]\n",
      " [0.11111111 0.88888889]\n",
      " [0.22222222 0.77777778]\n",
      " [0.         1.        ]\n",
      " [0.         1.        ]\n",
      " [0.22222222 0.77777778]\n",
      " [0.         1.        ]\n",
      " [0.         1.        ]\n",
      " [0.66666667 0.33333333]\n",
      " [0.22222222 0.77777778]\n",
      " [1.         0.        ]\n",
      " [0.11111111 0.88888889]\n",
      " [0.         1.        ]\n",
      " [0.55555556 0.44444444]\n",
      " [0.88888889 0.11111111]\n",
      " [0.         1.        ]\n",
      " [0.66666667 0.33333333]\n",
      " [0.         1.        ]\n",
      " [0.77777778 0.22222222]\n",
      " [0.55555556 0.44444444]\n",
      " [0.         1.        ]\n",
      " [0.         1.        ]\n",
      " [0.         1.        ]\n",
      " [0.77777778 0.22222222]\n",
      " [0.         1.        ]\n",
      " [0.         1.        ]\n",
      " [0.11111111 0.88888889]\n",
      " [0.77777778 0.22222222]\n",
      " [0.88888889 0.11111111]\n",
      " [0.77777778 0.22222222]\n",
      " [0.         1.        ]\n",
      " [0.         1.        ]\n",
      " [0.         1.        ]\n",
      " [0.         1.        ]\n",
      " [0.         1.        ]\n",
      " [0.         1.        ]\n",
      " [0.11111111 0.88888889]\n",
      " [0.77777778 0.22222222]\n",
      " [0.         1.        ]\n",
      " [0.         1.        ]\n",
      " [0.         1.        ]\n",
      " [0.         1.        ]\n",
      " [0.         1.        ]\n",
      " [0.         1.        ]\n",
      " [0.         1.        ]\n",
      " [0.         1.        ]\n",
      " [0.77777778 0.22222222]\n",
      " [0.66666667 0.33333333]\n",
      " [0.33333333 0.66666667]\n",
      " [0.77777778 0.22222222]\n",
      " [0.         1.        ]\n",
      " [0.77777778 0.22222222]\n",
      " [0.11111111 0.88888889]\n",
      " [0.88888889 0.11111111]\n",
      " [0.         1.        ]\n",
      " [0.         1.        ]\n",
      " [1.         0.        ]\n",
      " [0.         1.        ]\n",
      " [0.         1.        ]\n",
      " [0.         1.        ]\n",
      " [1.         0.        ]]\n"
     ]
    }
   ],
   "source": [
    "print(best_model.predict_proba(X_test))"
   ]
  },
  {
   "cell_type": "markdown",
   "metadata": {
    "id": "lZ2Q2sUjj-xx"
   },
   "source": [
    "#### 415-05"
   ]
  },
  {
   "cell_type": "code",
   "execution_count": 16,
   "metadata": {
    "colab": {
     "base_uri": "https://localhost:8080/"
    },
    "id": "rHwYKQYkj8Xb",
    "outputId": "432f0dfc-8936-424d-ed06-c1b5d3a0f99e"
   },
   "outputs": [
    {
     "name": "stdout",
     "output_type": "stream",
     "text": [
      "[0.44444444 0.77777778 1.         1.         0.33333333 0.22222222\n",
      " 0.55555556 0.33333333 0.44444444 0.44444444 1.         0.44444444\n",
      " 1.         0.44444444 0.33333333 0.33333333 1.         1.\n",
      " 0.22222222 1.         1.         1.         1.         1.\n",
      " 1.         0.33333333 0.22222222 1.         1.         0.44444444\n",
      " 0.22222222 0.11111111 0.55555556 0.88888889 1.         0.55555556\n",
      " 0.55555556 1.         0.22222222 0.55555556 1.         0.11111111\n",
      " 0.         0.44444444 0.33333333 0.33333333 0.44444444 1.\n",
      " 0.33333333 1.         0.         0.22222222 1.         0.11111111\n",
      " 1.         1.         1.         0.66666667 1.         0.33333333\n",
      " 0.88888889 0.77777778 1.         1.         0.77777778 1.\n",
      " 1.         0.33333333 0.77777778 0.         0.88888889 1.\n",
      " 0.44444444 0.11111111 1.         0.33333333 1.         0.22222222\n",
      " 0.44444444 1.         1.         1.         0.22222222 1.\n",
      " 1.         0.88888889 0.22222222 0.11111111 0.22222222 1.\n",
      " 1.         1.         1.         1.         1.         0.88888889\n",
      " 0.22222222 1.         1.         1.         1.         1.\n",
      " 1.         1.         1.         0.22222222 0.33333333 0.66666667\n",
      " 0.22222222 1.         0.22222222 0.88888889 0.11111111 1.\n",
      " 1.         0.         1.         1.         1.         0.        ]\n"
     ]
    }
   ],
   "source": [
    "pred = best_model.predict_proba(X_test)[:,1]\n",
    "print(pred)"
   ]
  },
  {
   "cell_type": "markdown",
   "metadata": {
    "id": "tcugiuHMTOAM"
   },
   "source": [
    "#### 415-06"
   ]
  },
  {
   "cell_type": "code",
   "execution_count": 17,
   "metadata": {
    "id": "hIUmhHQ8TT3z"
   },
   "outputs": [],
   "source": [
    "pd.DataFrame({'isUSA': pred}).to_csv('./yemoonsaBigdata/res/003000000.csv', index=False)"
   ]
  }
 ],
 "metadata": {
  "colab": {
   "authorship_tag": "ABX9TyMI2Fq2SMRMedEy8Gl4DA81",
   "collapsed_sections": [],
   "include_colab_link": true,
   "name": "P2_C4_01_MotorTrendCarRoadTests.ipynb",
   "provenance": []
  },
  "kernelspec": {
   "display_name": "Python 3 (ipykernel)",
   "language": "python",
   "name": "python3"
  },
  "language_info": {
   "codemirror_mode": {
    "name": "ipython",
    "version": 3
   },
   "file_extension": ".py",
   "mimetype": "text/x-python",
   "name": "python",
   "nbconvert_exporter": "python",
   "pygments_lexer": "ipython3",
   "version": "3.9.12"
  }
 },
 "nbformat": 4,
 "nbformat_minor": 1
}
