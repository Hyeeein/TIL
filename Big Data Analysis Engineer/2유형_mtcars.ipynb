{
 "cells": [
  {
   "cell_type": "code",
   "execution_count": 2,
   "id": "c45e1785",
   "metadata": {},
   "outputs": [],
   "source": [
    "# 출력을 원하실 경우 print() 함수 활용\n",
    "# 예시) print(df.head())\n",
    "\n",
    "# getcwd(), chdir() 등 작업 폴더 설정 불필요\n",
    "# 파일 경로 상 내부 드라이브 경로(C: 등) 접근 불가\n",
    "\n",
    "# 1. 모듈 임포트\n",
    "import pandas as pd\n",
    "\n",
    "# 2. 데이터 불러오기\n",
    "X_test = pd.read_csv(\"./datasets/Part2/mpg_X_test.csv\")\n",
    "X_train = pd.read_csv(\"./datasets/Part2/mpg_X_train.csv\")\n",
    "y_train = pd.read_csv(\"./datasets/Part2/mpg_y_train.csv\")\n",
    "\n",
    "# 3. 데이터 전처리\n",
    "\n",
    "\n",
    "# 4. 모델 구축\n",
    "\n",
    "# 5. 모델 평가\n",
    "\n",
    "# 6. 제출 파일 저장\n",
    "\n",
    "# 답안 제출 참고\n",
    "# 아래 코드 예측변수와 수험번호를 개인별로 변경하여 활용\n",
    "# pd.DataFrame({'gender': pred}).to_csv('003000000.csv', index=False)"
   ]
  }
 ],
 "metadata": {
  "kernelspec": {
   "display_name": "bigbunki",
   "language": "python",
   "name": "bigbunki"
  },
  "language_info": {
   "codemirror_mode": {
    "name": "ipython",
    "version": 3
   },
   "file_extension": ".py",
   "mimetype": "text/x-python",
   "name": "python",
   "nbconvert_exporter": "python",
   "pygments_lexer": "ipython3",
   "version": "3.9.12"
  }
 },
 "nbformat": 4,
 "nbformat_minor": 5
}
