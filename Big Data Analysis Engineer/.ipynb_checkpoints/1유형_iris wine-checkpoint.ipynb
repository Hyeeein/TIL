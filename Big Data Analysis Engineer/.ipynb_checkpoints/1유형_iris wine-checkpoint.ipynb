{
 "cells": [
  {
   "cell_type": "markdown",
   "id": "ddb79c08",
   "metadata": {},
   "source": [
    "## 1유형 [1] Iris"
   ]
  },
  {
   "cell_type": "code",
   "execution_count": 3,
   "id": "d0d9417a",
   "metadata": {},
   "outputs": [
    {
     "name": "stdout",
     "output_type": "stream",
     "text": [
      "   sepal_length  sepal_width  petal_length  petal_width species\n",
      "0           5.1          3.5           1.4          0.2  setosa\n",
      "1           4.9          3.0           1.4          0.2  setosa\n",
      "2           4.7          3.2           1.3          0.2  setosa\n",
      "3           4.6          3.1           1.5          0.2  setosa\n",
      "4           5.0          3.6           1.4          0.2  setosa\n"
     ]
    }
   ],
   "source": [
    "import pandas as pd\n",
    "data = pd.read_csv(\"./datasets/Part2/iris.csv\")\n",
    "print(data.head())"
   ]
  },
  {
   "cell_type": "code",
   "execution_count": 7,
   "id": "c07637d4",
   "metadata": {},
   "outputs": [
    {
     "name": "stdout",
     "output_type": "stream",
     "text": [
      "species         \n",
      "setosa      0.75    0.3\n",
      "versicolor  0.75    1.5\n",
      "virginica   0.75    2.3\n",
      "Name: petal_width, dtype: float64\n"
     ]
    }
   ],
   "source": [
    "# 1번\n",
    "print(data.groupby('species')['petal_width'].quantile([0.75]))"
   ]
  },
  {
   "cell_type": "code",
   "execution_count": 11,
   "id": "cb27d346",
   "metadata": {},
   "outputs": [
    {
     "name": "stdout",
     "output_type": "stream",
     "text": [
      "5.2\n"
     ]
    }
   ],
   "source": [
    "# 2번\n",
    "lst = data['sepal_length'].unique().tolist()\n",
    "lst.sort()\n",
    "print(lst[9])"
   ]
  },
  {
   "cell_type": "code",
   "execution_count": 17,
   "id": "9982b4a1",
   "metadata": {},
   "outputs": [
    {
     "name": "stdout",
     "output_type": "stream",
     "text": [
      "16\n"
     ]
    }
   ],
   "source": [
    "# 3번\n",
    "lst = data.sort_values(by='sepal_width', ascending=False).reset_index(drop=True)\n",
    "sort_lst = lst.loc[0:99, 'sepal_width']\n",
    "print(int(sort_lst.std() * 50))"
   ]
  },
  {
   "cell_type": "code",
   "execution_count": 25,
   "id": "9b0cb917",
   "metadata": {},
   "outputs": [
    {
     "name": "stdout",
     "output_type": "stream",
     "text": [
      "13\n"
     ]
    }
   ],
   "source": [
    "# 4번\n",
    "data2 = data.sort_values(by=['species', 'petal_length'], ascending=[True, False])\n",
    "data_top10 = data2.groupby('species').head(10)\n",
    "print(round(data_top10.groupby('species')['petal_length'].mean().sum()))"
   ]
  },
  {
   "cell_type": "code",
   "execution_count": 27,
   "id": "f705a0eb",
   "metadata": {},
   "outputs": [
    {
     "name": "stdout",
     "output_type": "stream",
     "text": [
      "6\n"
     ]
    }
   ],
   "source": [
    "# 5번\n",
    "mean = data['sepal_length'].mean()\n",
    "std = data['sepal_length'].std()\n",
    "crit1 = mean + 2*std\n",
    "crit2 = mean - 2*std\n",
    "print(len(data[(data['sepal_length'] >= crit1) | (data['sepal_length'] <= crit2)]))"
   ]
  },
  {
   "cell_type": "markdown",
   "id": "bdb8b19f",
   "metadata": {},
   "source": [
    "## 1유형 [2] Wine"
   ]
  },
  {
   "cell_type": "code",
   "execution_count": 30,
   "id": "f6ba0efa",
   "metadata": {},
   "outputs": [
    {
     "name": "stdout",
     "output_type": "stream",
     "text": [
      "   alcohol  malic_acid   ash  alcalinity_of_ash  magnesium  total_phenols  \\\n",
      "0    14.23        1.71  2.43               15.6      127.0           2.80   \n",
      "1    13.20        1.78  2.14               11.2      100.0           2.65   \n",
      "2    13.16        2.36  2.67               18.6      101.0            NaN   \n",
      "3    14.37        1.95  2.50               16.8      113.0           3.85   \n",
      "4    13.24        2.59  2.87               21.0      118.0           2.80   \n",
      "\n",
      "   flavanoids  nonflavanoid_phenols  proanthocyanins  color_intensity   hue  \\\n",
      "0        3.06                  0.28             2.29             5.64  1.04   \n",
      "1        2.76                  0.26             1.28             4.38  1.05   \n",
      "2        3.24                  0.30             2.81             5.68  1.03   \n",
      "3        3.49                  0.24             2.18             7.80  0.86   \n",
      "4        2.69                  0.39             1.82             4.32  1.04   \n",
      "\n",
      "   od280/od315_of_diluted_wines  proline  class  \n",
      "0                          3.92   1065.0      0  \n",
      "1                          3.40   1050.0      0  \n",
      "2                          3.17   1185.0      0  \n",
      "3                          3.45   1480.0      0  \n",
      "4                          2.93    735.0      0  \n"
     ]
    }
   ],
   "source": [
    "import pandas as pd\n",
    "data = pd.read_csv(\"./datasets/Part2/wine.csv\")\n",
    "print(data.head())"
   ]
  },
  {
   "cell_type": "code",
   "execution_count": 36,
   "id": "5fc5c64c",
   "metadata": {},
   "outputs": [
    {
     "name": "stdout",
     "output_type": "stream",
     "text": [
      "19\n"
     ]
    }
   ],
   "source": [
    "# 1번\n",
    "data_drop = data[data['total_phenols'].notnull()]\n",
    "alcal_median = data['alcalinity_of_ash'].median()\n",
    "data_drop.loc[data['alcalinity_of_ash'].isnull(), 'alcalinity_of_ash'] = alcal_median\n",
    "print(int(data_drop['alcalinity_of_ash'].mean()))"
   ]
  },
  {
   "cell_type": "code",
   "execution_count": 39,
   "id": "bd3eb5e6",
   "metadata": {},
   "outputs": [
    {
     "name": "stdout",
     "output_type": "stream",
     "text": [
      "37\n"
     ]
    }
   ],
   "source": [
    "# 2번\n",
    "mean1 = data['alcohol'].mean()\n",
    "mean2 = data['color_intensity'].mean()\n",
    "data_filtered = data[(data['alcohol']>=mean1) & (data['color_intensity']>=mean2)]\n",
    "print(data_filtered['class'].value_counts().max())"
   ]
  },
  {
   "cell_type": "code",
   "execution_count": 49,
   "id": "e6e79260",
   "metadata": {},
   "outputs": [
    {
     "name": "stdout",
     "output_type": "stream",
     "text": [
      "0.12\n"
     ]
    }
   ],
   "source": [
    "# 3번\n",
    "data_one = data[data['class']==1]['ash'].mean()\n",
    "data_two = data.dropna()['ash'].mean()\n",
    "print(round(abs(data_one - data_two), 3))"
   ]
  },
  {
   "cell_type": "code",
   "execution_count": 51,
   "id": "7d86f1cf",
   "metadata": {},
   "outputs": [
    {
     "name": "stdout",
     "output_type": "stream",
     "text": [
      "12.94\n"
     ]
    }
   ],
   "source": [
    "# 4번\n",
    "data_sorted = data.sort_values(by='alcohol')\n",
    "data_sorted.loc[0:19, 'alcohol'] = data_sorted.loc[19, 'alcohol']\n",
    "print(round(data[data['proanthocyanins']<=2]['alcohol'].mean(), 2))"
   ]
  },
  {
   "cell_type": "code",
   "execution_count": null,
   "id": "2176b29d",
   "metadata": {},
   "outputs": [],
   "source": [
    "# 5번\n"
   ]
  }
 ],
 "metadata": {
  "kernelspec": {
   "display_name": "bigbunki",
   "language": "python",
   "name": "bigbunki"
  },
  "language_info": {
   "codemirror_mode": {
    "name": "ipython",
    "version": 3
   },
   "file_extension": ".py",
   "mimetype": "text/x-python",
   "name": "python",
   "nbconvert_exporter": "python",
   "pygments_lexer": "ipython3",
   "version": "3.9.12"
  }
 },
 "nbformat": 4,
 "nbformat_minor": 5
}
