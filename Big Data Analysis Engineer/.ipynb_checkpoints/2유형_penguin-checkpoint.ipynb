{
 "cells": [
  {
   "cell_type": "markdown",
   "id": "ecd2368d",
   "metadata": {},
   "source": [
    "## 2유형 [2] Penguins"
   ]
  },
  {
   "cell_type": "code",
   "execution_count": null,
   "id": "b7af54b7",
   "metadata": {},
   "outputs": [],
   "source": [
    "# 출력을 원하실 경우 print() 함수 활용\n",
    "# 예시) print(df.head())\n",
    "\n",
    "# getcwd(), chdir() 등 작업 폴더 설정 불필요\n",
    "# 파일 경로 상 내부 드라이브 경로(C: 등) 접근 불가\n",
    "\n",
    "# 데이터 파일 읽기 예제\n",
    "import pandas as pd\n",
    "X_test = pd.read_csv(\"./datasets/Part2/penguin_X_test.csv\")\n",
    "X_train = pd.read_csv(\"./datasets/Part2/penguin_X_train.csv\")\n",
    "y_train = pd.read_csv(\"./datasets/Part2/penguin_y_train.csv\")\n",
    "\n",
    "# 사용자 코딩\n",
    "\n",
    "### 1. 데이터 전처리\n",
    "# 1) info 함수로 결측치 확인\n",
    "\n",
    "# 2) 결측치를 제거하는 방식을 사용하려면 y_train과 갯수를 맞춰주어야 함 => concat으로 합치고 제거\n",
    "\n",
    "# 3) 다시 독립변수&종속변수로 분리 후, 기술통계량 확인\n",
    "\n",
    "# 4) 범주형 독립변수에 대한 레이블 인코딩 (원-핫 인코딩)\n",
    "\n",
    "# 5) 레이블 인코딩 후 데이터프레임으로 변환\n",
    "\n",
    "# -------------------------\n",
    "\n",
    "### 2. 모델 구축\n",
    "# 1) 데이터 분할\n",
    "\n",
    "# 2) 데이터 스케일링 (MinMaxScaler)\n",
    "\n",
    "# 3) 회귀 모델 구축\n",
    "\n",
    "# 4) 회귀 절편과 기울기 구하기\n",
    "\n",
    "# -------------------------\n",
    "\n",
    "### 3. 모델 평가 (RMSE)\n",
    "\n",
    "# -------------------------\n",
    "\n",
    "### 4. 제출 파일 저장\n",
    "# 1) 문제에서 요구하는 제출물 그대로 predict 함수 적용\n",
    "\n",
    "# 2) \n",
    "\n",
    "\n",
    "# 답안 제출 참고\n",
    "# 아래 코드 예측변수와 수험번호를 개인별로 변경하여 활용\n",
    "# pd.DataFrame({'cust_id': X_test.cust_id, 'gender': pred}).to_csv('003000000.csv', index=False)\n"
   ]
  }
 ],
 "metadata": {
  "kernelspec": {
   "display_name": "bigbunki",
   "language": "python",
   "name": "bigbunki"
  },
  "language_info": {
   "codemirror_mode": {
    "name": "ipython",
    "version": 3
   },
   "file_extension": ".py",
   "mimetype": "text/x-python",
   "name": "python",
   "nbconvert_exporter": "python",
   "pygments_lexer": "ipython3",
   "version": "3.9.12"
  }
 },
 "nbformat": 4,
 "nbformat_minor": 5
}
