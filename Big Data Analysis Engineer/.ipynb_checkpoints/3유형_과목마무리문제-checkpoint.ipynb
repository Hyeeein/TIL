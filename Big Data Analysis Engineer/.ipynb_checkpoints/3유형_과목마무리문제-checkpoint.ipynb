{
 "cells": [
  {
   "cell_type": "markdown",
   "id": "7d8c8821",
   "metadata": {},
   "source": [
    "## 3과목 과목 마무리 문제"
   ]
  },
  {
   "cell_type": "markdown",
   "id": "4416e0b6",
   "metadata": {},
   "source": [
    "### 1. Airquality"
   ]
  },
  {
   "cell_type": "code",
   "execution_count": 9,
   "id": "a9737510",
   "metadata": {},
   "outputs": [
    {
     "name": "stdout",
     "output_type": "stream",
     "text": [
      "표본 평균: 9.96\n",
      "검정통계량: -0.15 , p-value: 0.8816\n",
      "채택\n"
     ]
    }
   ],
   "source": [
    "import pandas as pd\n",
    "\n",
    "from scipy.stats import stats\n",
    "from math import sqrt\n",
    "\n",
    "data = pd.read_csv('./datasets/supplement/airquality.csv')\n",
    "# print(data.head())\n",
    "\n",
    "# 1. 표본 평균 구하기\n",
    "X = data['Wind'].mean()\n",
    "print('표본 평균:', round(X, 2))\n",
    "\n",
    "# 2. 검정통계량과 p-값\n",
    "t_score, p_value = stats.ttest_1samp(data['Wind'], 10)\n",
    "print('검정통계량:', round(t_score, 2), ', p-value:', round(p_value, 4))\n",
    "\n",
    "# 3. 유의확률 0.05에서 기각/채택\n",
    "if p_value >= 0.05:\n",
    "    print('채택')\n",
    "else:\n",
    "    print('기각')"
   ]
  },
  {
   "cell_type": "markdown",
   "id": "222f6749",
   "metadata": {},
   "source": [
    "### 2. Chickweight"
   ]
  },
  {
   "cell_type": "code",
   "execution_count": 24,
   "id": "b37dcbbc",
   "metadata": {},
   "outputs": [
    {
     "name": "stdout",
     "output_type": "stream",
     "text": [
      "X1: 102.65 , X4: 135.26\n",
      "검정통계량: -4.41 , p-value: 0.0\n",
      "기각\n"
     ]
    }
   ],
   "source": [
    "import pandas as pd\n",
    "\n",
    "from scipy.stats import stats\n",
    "from math import sqrt\n",
    "\n",
    "data = pd.read_csv('./datasets/supplement/chickweight.csv')\n",
    "# print(data.head())\n",
    "\n",
    "# 1. 표본평균\n",
    "X1 = data.loc[data.Diet==1]\n",
    "X4 = data.loc[data.Diet==4]\n",
    "\n",
    "X1_mean = X1['weight'].mean()\n",
    "X4_mean = X4['weight'].mean()\n",
    "\n",
    "print('X1:', round(X1_mean, 2), ', X4:', round(X4_mean, 2))\n",
    "\n",
    "# 2. 검정통계량과 p-value\n",
    "t_score, p_value = stats.ttest_ind(X1['weight'], X4['weight'], equal_var=False)\n",
    "print('검정통계량:', round(t_score, 2), ', p-value:', round(p_value, 4))\n",
    "\n",
    "# 3. 유의확률 0.05에서 기각/채택\n",
    "if p_value >= 0.05:\n",
    "    print('채택')\n",
    "else:\n",
    "    print('기각')"
   ]
  },
  {
   "cell_type": "markdown",
   "id": "c3ff9dec",
   "metadata": {},
   "source": [
    "### 3. StudentsPerformance"
   ]
  },
  {
   "cell_type": "code",
   "execution_count": 31,
   "id": "ce9b4b1d",
   "metadata": {},
   "outputs": [
    {
     "name": "stdout",
     "output_type": "stream",
     "text": [
      "표본 평균: 61.63 / 63.45 / 64.46 / 67.36\n",
      "검정통계량: 4.66 , p-value: 0.0031\n",
      "기각\n"
     ]
    }
   ],
   "source": [
    "import pandas as pd\n",
    "\n",
    "from scipy.stats import stats\n",
    "from math import sqrt\n",
    "\n",
    "data = pd.read_csv('./datasets/supplement/StudentsPerformance1.csv', encoding='cp949')\n",
    "# print(data.head())\n",
    "\n",
    "# 1. 표본평균\n",
    "X_A = data.loc[data['인종']=='A그룹']\n",
    "X_B = data.loc[data['인종']=='B그룹']\n",
    "X_C = data.loc[data['인종']=='C그룹']\n",
    "X_D = data.loc[data['인종']=='D그룹']\n",
    "\n",
    "X_A_mean = X_A['수학 점수'].mean()\n",
    "X_B_mean = X_B['수학 점수'].mean()\n",
    "X_C_mean = X_C['수학 점수'].mean()\n",
    "X_D_mean = X_D['수학 점수'].mean()\n",
    "\n",
    "print('표본 평균:', round(X_A_mean, 2), '/', round(X_B_mean, 2), '/', round(X_C_mean, 2), '/', round(X_D_mean, 2))\n",
    "\n",
    "# 2. 검정통계량과 p-value\n",
    "t_score, p_value = stats.f_oneway(X_A['수학 점수'], X_B['수학 점수'], X_C['수학 점수'], X_D['수학 점수'])\n",
    "print('검정통계량:', round(t_score, 2), ', p-value:', round(p_value, 4))\n",
    "\n",
    "# 3. 유의확률 0.05에서 기각/채택\n",
    "if p_value >= 0.05:\n",
    "    print('채택')\n",
    "else:\n",
    "    print('기각')"
   ]
  },
  {
   "cell_type": "markdown",
   "id": "f118dcf7",
   "metadata": {},
   "source": [
    "### 4. StudentsPerformance ver2"
   ]
  },
  {
   "cell_type": "code",
   "execution_count": 6,
   "id": "b5b7002a",
   "metadata": {},
   "outputs": [
    {
     "name": "stdout",
     "output_type": "stream",
     "text": [
      "학업 성적   낮음   보통   우수\n",
      "성별                  \n",
      "남성     115  283   84\n",
      "여성      83  313  122\n",
      "\n",
      "차이: 38\n",
      "기각\n"
     ]
    }
   ],
   "source": [
    "import pandas as pd\n",
    "\n",
    "from scipy.stats import stats\n",
    "from math import sqrt\n",
    "\n",
    "data = pd.read_csv('./datasets/supplement/StudentsPerformance2.csv', encoding='cp949')\n",
    "# print(data.head())\n",
    "\n",
    "# 1. 성별, 학업성적 간 분할표 만들고, 우수한 남학생 수 여학생 수 차이\n",
    "table = pd.crosstab(data['성별'], data['학업 성적'])\n",
    "print(table)\n",
    "print()\n",
    "\n",
    "X1 = table.loc['남성', :]\n",
    "X2 = table.loc['여성', :]\n",
    "\n",
    "X1_sum = X1['우수']\n",
    "X2_sum = X2['우수']\n",
    "\n",
    "print('차이:', int(abs(X1_sum - X2_sum)))\n",
    "\n",
    "# 2. 검정통계량 및 p-값\n",
    "import scipy.stats\n",
    "test_result = scipy.stats.chi2_contingency([X1, X2])\n",
    "\n",
    "t_score = test_result[0]\n",
    "p_value = test_result[1]\n",
    "\n",
    "print('검정통계량:', round(t_score, 2), ', p-value:', round(p_value, 4))\n",
    "\n",
    "# 3. 유의확률 0.05에서 기각/채택\n",
    "if p_value >= 0.05:\n",
    "    print('채택')\n",
    "else:\n",
    "    print('기각')"
   ]
  },
  {
   "cell_type": "code",
   "execution_count": null,
   "id": "42218394",
   "metadata": {},
   "outputs": [],
   "source": []
  }
 ],
 "metadata": {
  "kernelspec": {
   "display_name": "bigbunki",
   "language": "python",
   "name": "bigbunki"
  },
  "language_info": {
   "codemirror_mode": {
    "name": "ipython",
    "version": 3
   },
   "file_extension": ".py",
   "mimetype": "text/x-python",
   "name": "python",
   "nbconvert_exporter": "python",
   "pygments_lexer": "ipython3",
   "version": "3.9.12"
  }
 },
 "nbformat": 4,
 "nbformat_minor": 5
}
