{
 "cells": [
  {
   "cell_type": "markdown",
   "id": "e3cb13ef",
   "metadata": {},
   "source": [
    "### 1. 데이터 수집"
   ]
  },
  {
   "cell_type": "code",
   "execution_count": 1,
   "id": "727e0b41",
   "metadata": {},
   "outputs": [
    {
     "name": "stderr",
     "output_type": "stream",
     "text": [
      "C:\\Users\\phi49\\anaconda3\\lib\\site-packages\\scipy\\__init__.py:146: UserWarning: A NumPy version >=1.16.5 and <1.23.0 is required for this version of SciPy (detected version 1.24.3\n",
      "  warnings.warn(f\"A NumPy version >={np_minversion} and <{np_maxversion}\"\n"
     ]
    }
   ],
   "source": [
    "import numpy as np\n",
    "import pandas as pd\n",
    "import matplotlib.pyplot as plt\n",
    "import seaborn as sns"
   ]
  },
  {
   "cell_type": "code",
   "execution_count": 2,
   "id": "6515ed2b",
   "metadata": {},
   "outputs": [
    {
     "name": "stdout",
     "output_type": "stream",
     "text": [
      "      CRIM    ZN  INDUS  CHAS    NOX     RM   AGE     DIS  RAD    TAX  \\\n",
      "0  0.00632  18.0   2.31     0  0.538  6.575  65.2  4.0900    1  296.0   \n",
      "1  0.02731   0.0   7.07     0  0.469  6.421  78.9  4.9671    2  242.0   \n",
      "2  0.02729   0.0   7.07     0  0.469  7.185  61.1  4.9671    2  242.0   \n",
      "3  0.03237   0.0   2.18     0  0.458  6.998  45.8  6.0622    3  222.0   \n",
      "4  0.06905   0.0   2.18     0  0.458  7.147  54.2  6.0622    3  222.0   \n",
      "\n",
      "   PTRATIO       B  LSTAT  MEDV  isHighValue  \n",
      "0     15.3  396.90   4.98  24.0            0  \n",
      "1     17.8  396.90   9.14  21.6            0  \n",
      "2     17.8  392.83   4.03  34.7            1  \n",
      "3     18.7  394.63   2.94  33.4            1  \n",
      "4     18.7  396.90   5.33  36.2            1  \n"
     ]
    }
   ],
   "source": [
    "# csv 파일 불러오기\n",
    "data = pd.read_csv(\"./datasets/Part2/housing_data.csv\", header=None, sep=',') \n",
    "col_names = ['CRIM', 'ZN', 'INDUS', 'CHAS', 'NOX', 'RM', 'AGE', 'DIS', 'RAD', 'TAX', 'PTRATIO', 'B', 'LSTAT', 'MEDV', 'isHighValue']\n",
    "data.columns = col_names\n",
    "\n",
    "# 데이터 확인 (head 함수)\n",
    "print(data.head())"
   ]
  },
  {
   "cell_type": "markdown",
   "id": "022406a8",
   "metadata": {},
   "source": [
    "### 2. 데이터 전처리"
   ]
  },
  {
   "cell_type": "markdown",
   "id": "f21a7edc",
   "metadata": {},
   "source": [
    "#### 1) 데이터 확인"
   ]
  },
  {
   "cell_type": "code",
   "execution_count": 3,
   "id": "8372ce17",
   "metadata": {},
   "outputs": [
    {
     "name": "stdout",
     "output_type": "stream",
     "text": [
      "(526, 15)\n"
     ]
    }
   ],
   "source": [
    "# 데이터 확인 1\n",
    "print(data.shape)"
   ]
  },
  {
   "cell_type": "code",
   "execution_count": 4,
   "id": "27dfddd0",
   "metadata": {},
   "outputs": [
    {
     "name": "stdout",
     "output_type": "stream",
     "text": [
      "<bound method DataFrame.info of         CRIM    ZN  INDUS  CHAS    NOX     RM   AGE     DIS  RAD    TAX  \\\n",
      "0    0.00632  18.0   2.31     0  0.538  6.575  65.2  4.0900    1  296.0   \n",
      "1    0.02731   0.0   7.07     0  0.469  6.421  78.9  4.9671    2  242.0   \n",
      "2    0.02729   0.0   7.07     0  0.469  7.185  61.1  4.9671    2  242.0   \n",
      "3    0.03237   0.0   2.18     0  0.458  6.998  45.8  6.0622    3  222.0   \n",
      "4    0.06905   0.0   2.18     0  0.458  7.147  54.2  6.0622    3  222.0   \n",
      "..       ...   ...    ...   ...    ...    ...   ...     ...  ...    ...   \n",
      "521      NaN   0.0  11.93     0  0.573  6.593  69.1  2.4786    1  273.0   \n",
      "522      NaN   0.0  11.93     0  0.573  6.120  76.7  2.2875    1  273.0   \n",
      "523      NaN   0.0  11.93     0  0.573  6.976  91.0  2.1675    1  273.0   \n",
      "524      NaN   0.0  11.93     0  0.573  6.794  89.3  2.3889    1  273.0   \n",
      "525      NaN   0.0  11.93     0  0.573  6.030  80.8  2.5050    1  273.0   \n",
      "\n",
      "     PTRATIO       B  LSTAT  MEDV  isHighValue  \n",
      "0       15.3  396.90   4.98  24.0            0  \n",
      "1       17.8  396.90   9.14  21.6            0  \n",
      "2       17.8  392.83   4.03  34.7            1  \n",
      "3       18.7  394.63   2.94  33.4            1  \n",
      "4       18.7  396.90   5.33  36.2            1  \n",
      "..       ...     ...    ...   ...          ...  \n",
      "521     21.0  391.99   9.67  22.4            0  \n",
      "522     21.0  396.90   9.08  20.6            0  \n",
      "523     21.0  396.90   5.64  23.9            0  \n",
      "524     21.0  393.45   6.48  22.0            0  \n",
      "525     21.0  396.90   7.88  11.9            0  \n",
      "\n",
      "[526 rows x 15 columns]>\n"
     ]
    }
   ],
   "source": [
    "# 데이터 확인 2\n",
    "print(data.info)"
   ]
  },
  {
   "cell_type": "code",
   "execution_count": 5,
   "id": "964f644e",
   "metadata": {},
   "outputs": [
    {
     "name": "stdout",
     "output_type": "stream",
     "text": [
      "             CRIM          ZN       INDUS        CHAS         NOX          RM  \\\n",
      "count  506.000000  526.000000  526.000000  526.000000  526.000000  526.000000   \n",
      "mean     3.613524   10.931559   11.306616    0.066540    0.555954    6.271076   \n",
      "std      8.601545   22.977112    6.934739    0.249461    0.113854    0.698140   \n",
      "min      0.006320    0.000000    0.460000    0.000000    0.385000    3.561000   \n",
      "25%      0.082045    0.000000    5.190000    0.000000    0.453000    5.879250   \n",
      "50%      0.256510    0.000000    9.690000    0.000000    0.538000    6.183500   \n",
      "75%      3.677083   12.500000   18.100000    0.000000    0.624000    6.613500   \n",
      "max     88.976200  100.000000   27.740000    1.000000    0.871000    8.780000   \n",
      "\n",
      "              AGE         DIS         RAD         TAX     PTRATIO           B  \\\n",
      "count  526.000000  526.000000  526.000000  526.000000  526.000000  526.000000   \n",
      "mean    68.816540    3.742880    9.416350  410.547529   18.513308  357.888099   \n",
      "std     27.868375    2.083661    8.653743  169.180818    2.147684   89.829808   \n",
      "min      2.900000    1.129600    1.000000  187.000000   12.600000    0.320000   \n",
      "25%     45.625000    2.101425    4.000000  279.000000   17.400000  376.057500   \n",
      "50%     77.500000    3.095750    5.000000  334.500000   19.100000  391.955000   \n",
      "75%     93.900000    5.112625   24.000000  666.000000   20.200000  396.397500   \n",
      "max    100.000000   12.126500   24.000000  711.000000   22.000000  396.900000   \n",
      "\n",
      "            LSTAT        MEDV  isHighValue  \n",
      "count  526.000000  526.000000   526.000000  \n",
      "mean    12.721578   22.374525     0.250951  \n",
      "std      7.101213    9.104400     0.433973  \n",
      "min      1.730000    5.000000     0.000000  \n",
      "25%      7.150000   16.850000     0.000000  \n",
      "50%     11.490000   21.100000     0.000000  \n",
      "75%     17.057500   24.950000     0.750000  \n",
      "max     37.970000   50.000000     1.000000  \n"
     ]
    }
   ],
   "source": [
    "# 데이터 확인 3\n",
    "print(data.describe())"
   ]
  },
  {
   "cell_type": "markdown",
   "id": "4526b571",
   "metadata": {},
   "source": [
    "#### 2) 결측치 처리"
   ]
  },
  {
   "cell_type": "code",
   "execution_count": 6,
   "id": "f73d5762",
   "metadata": {},
   "outputs": [
    {
     "name": "stdout",
     "output_type": "stream",
     "text": [
      "CRIM           20\n",
      "ZN              0\n",
      "INDUS           0\n",
      "CHAS            0\n",
      "NOX             0\n",
      "RM              0\n",
      "AGE             0\n",
      "DIS             0\n",
      "RAD             0\n",
      "TAX             0\n",
      "PTRATIO         0\n",
      "B               0\n",
      "LSTAT           0\n",
      "MEDV            0\n",
      "isHighValue     0\n",
      "dtype: int64\n"
     ]
    }
   ],
   "source": [
    "print(data.isnull().sum())"
   ]
  },
  {
   "cell_type": "code",
   "execution_count": 7,
   "id": "24ba748c",
   "metadata": {},
   "outputs": [
    {
     "name": "stdout",
     "output_type": "stream",
     "text": [
      "CRIM           0.038023\n",
      "ZN             0.000000\n",
      "INDUS          0.000000\n",
      "CHAS           0.000000\n",
      "NOX            0.000000\n",
      "RM             0.000000\n",
      "AGE            0.000000\n",
      "DIS            0.000000\n",
      "RAD            0.000000\n",
      "TAX            0.000000\n",
      "PTRATIO        0.000000\n",
      "B              0.000000\n",
      "LSTAT          0.000000\n",
      "MEDV           0.000000\n",
      "isHighValue    0.000000\n",
      "dtype: float64\n"
     ]
    }
   ],
   "source": [
    "print(data.isnull().sum()/data.shape[0])"
   ]
  },
  {
   "cell_type": "code",
   "execution_count": 8,
   "id": "ca30aa0d",
   "metadata": {},
   "outputs": [
    {
     "name": "stdout",
     "output_type": "stream",
     "text": [
      "CRIM           0\n",
      "ZN             0\n",
      "INDUS          0\n",
      "CHAS           0\n",
      "NOX            0\n",
      "RM             0\n",
      "AGE            0\n",
      "DIS            0\n",
      "RAD            0\n",
      "TAX            0\n",
      "PTRATIO        0\n",
      "B              0\n",
      "LSTAT          0\n",
      "MEDV           0\n",
      "isHighValue    0\n",
      "dtype: int64\n"
     ]
    }
   ],
   "source": [
    "# 결측치 대체 (중앙값)\n",
    "data1 = data.copy()\n",
    "med_val = data['CRIM'].median()\n",
    "data1['CRIM'] = data1['CRIM'].fillna(med_val)\n",
    "\n",
    "print(data1.isnull().sum())"
   ]
  },
  {
   "cell_type": "code",
   "execution_count": 9,
   "id": "ed4dc6a9",
   "metadata": {},
   "outputs": [
    {
     "name": "stdout",
     "output_type": "stream",
     "text": [
      "             CRIM          ZN       INDUS        CHAS         NOX          RM  \\\n",
      "count  506.000000  506.000000  506.000000  506.000000  506.000000  506.000000   \n",
      "mean     3.613524   11.363636   11.136779    0.069170    0.554695    6.284634   \n",
      "std      8.601545   23.322453    6.860353    0.253994    0.115878    0.702617   \n",
      "min      0.006320    0.000000    0.460000    0.000000    0.385000    3.561000   \n",
      "25%      0.082045    0.000000    5.190000    0.000000    0.449000    5.885500   \n",
      "50%      0.256510    0.000000    9.690000    0.000000    0.538000    6.208500   \n",
      "75%      3.677083   12.500000   18.100000    0.000000    0.624000    6.623500   \n",
      "max     88.976200  100.000000   27.740000    1.000000    0.871000    8.780000   \n",
      "\n",
      "              AGE         DIS         RAD         TAX     PTRATIO           B  \\\n",
      "count  506.000000  506.000000  506.000000  506.000000  506.000000  506.000000   \n",
      "mean    68.574901    3.795043    9.549407  408.237154   18.455534  356.674032   \n",
      "std     28.148861    2.105710    8.707259  168.537116    2.164946   91.294864   \n",
      "min      2.900000    1.129600    1.000000  187.000000   12.600000    0.320000   \n",
      "25%     45.025000    2.100175    4.000000  279.000000   17.400000  375.377500   \n",
      "50%     77.500000    3.207450    5.000000  330.000000   19.050000  391.440000   \n",
      "75%     94.075000    5.188425   24.000000  666.000000   20.200000  396.225000   \n",
      "max    100.000000   12.126500   24.000000  711.000000   22.000000  396.900000   \n",
      "\n",
      "            LSTAT        MEDV  isHighValue  \n",
      "count  506.000000  506.000000   506.000000  \n",
      "mean    12.653063   22.532806     0.260870  \n",
      "std      7.141062    9.197104     0.439543  \n",
      "min      1.730000    5.000000     0.000000  \n",
      "25%      6.950000   17.025000     0.000000  \n",
      "50%     11.360000   21.200000     0.000000  \n",
      "75%     16.955000   25.000000     1.000000  \n",
      "max     37.970000   50.000000     1.000000  \n"
     ]
    }
   ],
   "source": [
    "# 결측치 제거\n",
    "data = data.loc[data['CRIM'].notnull(), ]\n",
    "print(data.describe())"
   ]
  },
  {
   "cell_type": "markdown",
   "id": "84b7ad8c",
   "metadata": {},
   "source": [
    "#### 3) 이상치 처리"
   ]
  },
  {
   "cell_type": "code",
   "execution_count": 10,
   "id": "443c151e",
   "metadata": {},
   "outputs": [
    {
     "name": "stderr",
     "output_type": "stream",
     "text": [
      "C:\\Users\\phi49\\anaconda3\\lib\\site-packages\\seaborn\\_decorators.py:36: FutureWarning: Pass the following variable as a keyword arg: x. From version 0.12, the only valid positional argument will be `data`, and passing other arguments without an explicit keyword will result in an error or misinterpretation.\n",
      "  warnings.warn(\n"
     ]
    },
    {
     "data": {
      "text/plain": [
       "<AxesSubplot:xlabel='MEDV'>"
      ]
     },
     "execution_count": 10,
     "metadata": {},
     "output_type": "execute_result"
    },
    {
     "data": {
      "image/png": "[encoded data removed]",
      "text/plain": [
       "<Figure size 432x288 with 1 Axes>"
      ]
     },
     "metadata": {
      "needs_background": "light"
     },
     "output_type": "display_data"
    }
   ],
   "source": [
    "sns.boxplot(data['MEDV'])"
   ]
  },
  {
   "cell_type": "code",
   "execution_count": 11,
   "id": "67bbb57a",
   "metadata": {},
   "outputs": [
    {
     "name": "stdout",
     "output_type": "stream",
     "text": [
      "이상치 범위: 36.96 초과 또는 5.06 미만\n",
      "이상치 개수: 40.00\n",
      "이상치 비율: 0.08\n"
     ]
    }
   ],
   "source": [
    "Q1, Q3 = data['MEDV'].quantile([0.25, 0.75])\n",
    "IQR = Q3 - Q1\n",
    "upper_bound = Q3 + 1.5*IQR\n",
    "lower_bound = Q1 - 1.5*IQR\n",
    "\n",
    "print('이상치 범위: %.2f 초과 또는 %.2f 미만' % (upper_bound, lower_bound))\n",
    "print('이상치 개수: %.2f' % len(data[(data['MEDV']>upper_bound)|(data['MEDV']<lower_bound)]))\n",
    "print('이상치 비율: %.2f' % (len(data[(data['MEDV']>upper_bound)|(data['MEDV']<lower_bound)])/len(data)))"
   ]
  },
  {
   "cell_type": "code",
   "execution_count": 12,
   "id": "02f77505",
   "metadata": {},
   "outputs": [
    {
     "name": "stdout",
     "output_type": "stream",
     "text": [
      "CRIM            80.6%\n",
      "ZN              85.0%\n",
      "INDUS           23.7%\n",
      "CHAS           100.0%\n",
      "NOX            100.0%\n",
      "RM               3.8%\n",
      "AGE             80.6%\n",
      "DIS             73.5%\n",
      "RAD             60.7%\n",
      "TAX            100.0%\n",
      "PTRATIO          0.0%\n",
      "B               97.4%\n",
      "LSTAT           13.0%\n",
      "MEDV             7.9%\n",
      "isHighValue    100.0%\n",
      "dtype: object\n"
     ]
    }
   ],
   "source": [
    "# IQR 값 기준 이상치 함수화\n",
    "def get_outlier_prop(x):\n",
    "    Q1, Q3 = data['MEDV'].quantile([0.25, 0.75])\n",
    "    IQR = Q3 - Q1\n",
    "    upper_bound = Q3 + 1.5*IQR\n",
    "    lower_bound = Q1 - 1.5*IQR\n",
    "    outliers = x[(x>upper_bound)|(x<lower_bound)]\n",
    "    \n",
    "    return str(round(100*len(outliers)/len(x), 1)) + '%'\n",
    "\n",
    "print(data.apply(get_outlier_prop))"
   ]
  },
  {
   "cell_type": "code",
   "execution_count": 13,
   "id": "1cbe96d3",
   "metadata": {},
   "outputs": [
    {
     "name": "stdout",
     "output_type": "stream",
     "text": [
      "(466, 15)\n"
     ]
    }
   ],
   "source": [
    "# 이상치 제거 예시 1) IQR 값 기준으로 MEDV 변수의 이상치를 제거\n",
    "Q1, Q3 = data['MEDV'].quantile([0.25, 0.75])\n",
    "IQR = Q3 - Q1\n",
    "upper_bound = Q3 + 1.5*IQR\n",
    "lower_bound = Q1 - 1.5*IQR\n",
    "data1 = data[(data['MEDV']<=upper_bound)&(data['MEDV']>=lower_bound)]\n",
    "print(data1.shape)"
   ]
  },
  {
   "cell_type": "code",
   "execution_count": 14,
   "id": "24c0b269",
   "metadata": {},
   "outputs": [
    {
     "name": "stdout",
     "output_type": "stream",
     "text": [
      "(484, 15)\n"
     ]
    }
   ],
   "source": [
    "# 이상치 제거 예시 2) MEDV 변수 값이 45 이상인 경우를 이상치로 보고 제거\n",
    "data2 = data[~(data['MEDV']>=45)]\n",
    "print(data2.shape)"
   ]
  },
  {
   "cell_type": "markdown",
   "id": "d4c4d7a3",
   "metadata": {},
   "source": [
    "#### 4) 변수 변환"
   ]
  },
  {
   "cell_type": "code",
   "execution_count": 15,
   "id": "f701535a",
   "metadata": {},
   "outputs": [
    {
     "name": "stderr",
     "output_type": "stream",
     "text": [
      "C:\\Users\\phi49\\anaconda3\\lib\\site-packages\\seaborn\\distributions.py:2619: FutureWarning: `distplot` is a deprecated function and will be removed in a future version. Please adapt your code to use either `displot` (a figure-level function with similar flexibility) or `histplot` (an axes-level function for histograms).\n",
      "  warnings.warn(msg, FutureWarning)\n",
      "C:\\Users\\phi49\\anaconda3\\lib\\site-packages\\seaborn\\distributions.py:2619: FutureWarning: `distplot` is a deprecated function and will be removed in a future version. Please adapt your code to use either `displot` (a figure-level function with similar flexibility) or `histplot` (an axes-level function for histograms).\n",
      "  warnings.warn(msg, FutureWarning)\n",
      "C:\\Users\\phi49\\anaconda3\\lib\\site-packages\\seaborn\\distributions.py:2619: FutureWarning: `distplot` is a deprecated function and will be removed in a future version. Please adapt your code to use either `displot` (a figure-level function with similar flexibility) or `histplot` (an axes-level function for histograms).\n",
      "  warnings.warn(msg, FutureWarning)\n",
      "C:\\Users\\phi49\\anaconda3\\lib\\site-packages\\seaborn\\distributions.py:2619: FutureWarning: `distplot` is a deprecated function and will be removed in a future version. Please adapt your code to use either `displot` (a figure-level function with similar flexibility) or `histplot` (an axes-level function for histograms).\n",
      "  warnings.warn(msg, FutureWarning)\n",
      "C:\\Users\\phi49\\anaconda3\\lib\\site-packages\\seaborn\\distributions.py:2619: FutureWarning: `distplot` is a deprecated function and will be removed in a future version. Please adapt your code to use either `displot` (a figure-level function with similar flexibility) or `histplot` (an axes-level function for histograms).\n",
      "  warnings.warn(msg, FutureWarning)\n",
      "C:\\Users\\phi49\\anaconda3\\lib\\site-packages\\seaborn\\distributions.py:2619: FutureWarning: `distplot` is a deprecated function and will be removed in a future version. Please adapt your code to use either `displot` (a figure-level function with similar flexibility) or `histplot` (an axes-level function for histograms).\n",
      "  warnings.warn(msg, FutureWarning)\n",
      "C:\\Users\\phi49\\anaconda3\\lib\\site-packages\\seaborn\\distributions.py:2619: FutureWarning: `distplot` is a deprecated function and will be removed in a future version. Please adapt your code to use either `displot` (a figure-level function with similar flexibility) or `histplot` (an axes-level function for histograms).\n",
      "  warnings.warn(msg, FutureWarning)\n",
      "C:\\Users\\phi49\\anaconda3\\lib\\site-packages\\seaborn\\distributions.py:2619: FutureWarning: `distplot` is a deprecated function and will be removed in a future version. Please adapt your code to use either `displot` (a figure-level function with similar flexibility) or `histplot` (an axes-level function for histograms).\n",
      "  warnings.warn(msg, FutureWarning)\n",
      "C:\\Users\\phi49\\anaconda3\\lib\\site-packages\\seaborn\\distributions.py:2619: FutureWarning: `distplot` is a deprecated function and will be removed in a future version. Please adapt your code to use either `displot` (a figure-level function with similar flexibility) or `histplot` (an axes-level function for histograms).\n",
      "  warnings.warn(msg, FutureWarning)\n",
      "C:\\Users\\phi49\\anaconda3\\lib\\site-packages\\seaborn\\distributions.py:2619: FutureWarning: `distplot` is a deprecated function and will be removed in a future version. Please adapt your code to use either `displot` (a figure-level function with similar flexibility) or `histplot` (an axes-level function for histograms).\n",
      "  warnings.warn(msg, FutureWarning)\n",
      "C:\\Users\\phi49\\anaconda3\\lib\\site-packages\\seaborn\\distributions.py:2619: FutureWarning: `distplot` is a deprecated function and will be removed in a future version. Please adapt your code to use either `displot` (a figure-level function with similar flexibility) or `histplot` (an axes-level function for histograms).\n",
      "  warnings.warn(msg, FutureWarning)\n",
      "C:\\Users\\phi49\\anaconda3\\lib\\site-packages\\seaborn\\distributions.py:2619: FutureWarning: `distplot` is a deprecated function and will be removed in a future version. Please adapt your code to use either `displot` (a figure-level function with similar flexibility) or `histplot` (an axes-level function for histograms).\n",
      "  warnings.warn(msg, FutureWarning)\n",
      "C:\\Users\\phi49\\anaconda3\\lib\\site-packages\\seaborn\\distributions.py:2619: FutureWarning: `distplot` is a deprecated function and will be removed in a future version. Please adapt your code to use either `displot` (a figure-level function with similar flexibility) or `histplot` (an axes-level function for histograms).\n",
      "  warnings.warn(msg, FutureWarning)\n",
      "C:\\Users\\phi49\\anaconda3\\lib\\site-packages\\seaborn\\distributions.py:2619: FutureWarning: `distplot` is a deprecated function and will be removed in a future version. Please adapt your code to use either `displot` (a figure-level function with similar flexibility) or `histplot` (an axes-level function for histograms).\n",
      "  warnings.warn(msg, FutureWarning)\n",
      "C:\\Users\\phi49\\anaconda3\\lib\\site-packages\\seaborn\\distributions.py:2619: FutureWarning: `distplot` is a deprecated function and will be removed in a future version. Please adapt your code to use either `displot` (a figure-level function with similar flexibility) or `histplot` (an axes-level function for histograms).\n",
      "  warnings.warn(msg, FutureWarning)\n"
     ]
    },
    {
     "data": {
      "image/png": "[encoded data removed]",
      "text/plain": [
       "<Figure size 1440x720 with 15 Axes>"
      ]
     },
     "metadata": {
      "needs_background": "light"
     },
     "output_type": "display_data"
    }
   ],
   "source": [
    "# 변수 분포 확인 (matplotlib 활용)\n",
    "\n",
    "cols = data.columns\n",
    "\n",
    "fig, axs = plt.subplots(ncols=5, nrows=3, figsize=(20, 10))\n",
    "idx = 0\n",
    "for row in range(3):\n",
    "    for col in range(5):\n",
    "        if idx < len(cols):\n",
    "            sns.distplot(data[cols[idx]], ax=axs[row][col])\n",
    "            idx+=1\n",
    "\n",
    "plt.tight_layout()"
   ]
  },
  {
   "cell_type": "code",
   "execution_count": 16,
   "id": "5397b924",
   "metadata": {
    "scrolled": true
   },
   "outputs": [
    {
     "name": "stdout",
     "output_type": "stream",
     "text": [
      "CRIM           5.223149\n",
      "ZN             2.225666\n",
      "INDUS          0.295022\n",
      "CHAS           3.405904\n",
      "NOX            0.729308\n",
      "RM             0.403612\n",
      "AGE           -0.598963\n",
      "DIS            1.011781\n",
      "RAD            1.004815\n",
      "TAX            0.669956\n",
      "PTRATIO       -0.802325\n",
      "B             -2.890374\n",
      "LSTAT          0.906460\n",
      "MEDV           1.108098\n",
      "isHighValue    1.092403\n",
      "dtype: float64\n"
     ]
    }
   ],
   "source": [
    "# 변수 왜도 확인\n",
    "print(data.apply(lambda x: x.skew(), axis=0))"
   ]
  },
  {
   "cell_type": "code",
   "execution_count": 17,
   "id": "6d43bf5f",
   "metadata": {},
   "outputs": [
    {
     "name": "stdout",
     "output_type": "stream",
     "text": [
      "1.2692005882725572\n"
     ]
    }
   ],
   "source": [
    "# CRIM 열의 왜도가 5가 넘으므로 로그 변환을 해줌\n",
    "data['CRIM'] = np.log1p(data['CRIM'])\n",
    "print(data['CRIM'].skew())"
   ]
  },
  {
   "cell_type": "markdown",
   "id": "117e9f88",
   "metadata": {},
   "source": [
    "### 3. 회귀 모델링"
   ]
  },
  {
   "cell_type": "code",
   "execution_count": 18,
   "id": "786d2cb7",
   "metadata": {},
   "outputs": [
    {
     "name": "stdout",
     "output_type": "stream",
     "text": [
      "           MEDV     LSTAT        RM      CHAS       RAD       TAX\n",
      "MEDV   1.000000 -0.737663  0.695360  0.175260 -0.381626 -0.468536\n",
      "LSTAT -0.737663  1.000000 -0.613808 -0.053929  0.488676  0.543993\n",
      "RM     0.695360 -0.613808  1.000000  0.091251 -0.209847 -0.292048\n",
      "CHAS   0.175260 -0.053929  0.091251  1.000000 -0.007368 -0.035587\n",
      "RAD   -0.381626  0.488676 -0.209847 -0.007368  1.000000  0.910228\n",
      "TAX   -0.468536  0.543993 -0.292048 -0.035587  0.910228  1.000000\n"
     ]
    }
   ],
   "source": [
    "# 데이터 생성 (종속변수 제외)\n",
    "df_r = data.drop(['isHighValue'], axis=1)\n",
    "\n",
    "# 변수 상관관계 확인\n",
    "cols = ['MEDV', 'LSTAT', 'RM', 'CHAS', 'RAD', 'TAX']\n",
    "print(df_r[cols].corr())"
   ]
  },
  {
   "cell_type": "code",
   "execution_count": 19,
   "id": "15c4ffc5",
   "metadata": {},
   "outputs": [],
   "source": [
    "from sklearn.model_selection import train_test_split\n",
    "from sklearn.preprocessing import MinMaxScaler\n",
    "from sklearn.linear_model import LinearRegression\n",
    "from sklearn.svm import SVR\n",
    "from sklearn.ensemble import RandomForestRegressor"
   ]
  },
  {
   "cell_type": "code",
   "execution_count": 20,
   "id": "6ae2ef71",
   "metadata": {},
   "outputs": [],
   "source": [
    "# 분석 모형 구축\n",
    "X_cols = ['LSTAT', 'PTRATIO', 'TAX', 'AGE', 'NOX', 'INDUS', 'CRIM']\n",
    "\n",
    "X = df_r[X_cols].values \n",
    "y = df_r['MEDV'].values\n",
    "X_train_r, X_test_r, y_train_r, y_test_r = train_test_split(X, y, test_size=0.3, random_state=123)"
   ]
  },
  {
   "cell_type": "code",
   "execution_count": 21,
   "id": "abb8ebba",
   "metadata": {},
   "outputs": [],
   "source": [
    "# 데이터 스케일링\n",
    "scaler = MinMaxScaler()\n",
    "\n",
    "X_train_r_scaled = scaler.fit_transform(X_train_r) \n",
    "X_test_r_scaled = scaler.transform(X_test_r)"
   ]
  },
  {
   "cell_type": "code",
   "execution_count": 22,
   "id": "33482902",
   "metadata": {},
   "outputs": [
    {
     "name": "stdout",
     "output_type": "stream",
     "text": [
      "[-32.51042803 -11.94191767  -3.84240793   5.58034429  -4.34593586\n",
      "   0.98706819   6.83941179]\n",
      "38.03006298623825\n"
     ]
    }
   ],
   "source": [
    "# 선형 회귀모델 구축\n",
    "model_lr = LinearRegression()\n",
    "model_lr.fit(X_train_r_scaled, y_train_r)\n",
    "\n",
    "print(model_lr.coef_)\n",
    "print(model_lr.intercept_)"
   ]
  },
  {
   "cell_type": "code",
   "execution_count": 23,
   "id": "f282351f",
   "metadata": {},
   "outputs": [
    {
     "data": {
      "text/plain": [
       "SVR()"
      ]
     },
     "execution_count": 23,
     "metadata": {},
     "output_type": "execute_result"
    }
   ],
   "source": [
    "# SVM 학습\n",
    "model_svr = SVR()\n",
    "model_svr.fit(X_train_r_scaled, y_train_r)"
   ]
  },
  {
   "cell_type": "code",
   "execution_count": 24,
   "id": "f88467d1",
   "metadata": {},
   "outputs": [
    {
     "data": {
      "text/plain": [
       "RandomForestRegressor(random_state=123)"
      ]
     },
     "execution_count": 24,
     "metadata": {},
     "output_type": "execute_result"
    }
   ],
   "source": [
    "# 랜덤 포레스트 학습\n",
    "model_rfr = RandomForestRegressor(random_state=123)\n",
    "model_rfr.fit(X_train_r_scaled, y_train_r)"
   ]
  },
  {
   "cell_type": "code",
   "execution_count": 25,
   "id": "e41ebdf4",
   "metadata": {
    "scrolled": true
   },
   "outputs": [
    {
     "name": "stdout",
     "output_type": "stream",
     "text": [
      "LSTAT : 0.718\n",
      "PTRATIO : 0.070\n",
      "TAX : 0.040\n",
      "AGE : 0.038\n",
      "NOX : 0.056\n",
      "INDUS : 0.013\n",
      "CRIM : 0.064\n"
     ]
    }
   ],
   "source": [
    "# 변수별 중요도 확인\n",
    "for x, val in zip(X_cols, model_rfr.feature_importances_):\n",
    "    print(f'{x} : %.3f' %val)"
   ]
  },
  {
   "cell_type": "code",
   "execution_count": 26,
   "id": "23a0cbfb",
   "metadata": {},
   "outputs": [],
   "source": [
    "from sklearn.metrics import mean_absolute_error, mean_squared_error, mean_absolute_percentage_error"
   ]
  },
  {
   "cell_type": "code",
   "execution_count": 27,
   "id": "a27f0405",
   "metadata": {},
   "outputs": [
    {
     "name": "stdout",
     "output_type": "stream",
     "text": [
      "------------------------------\n",
      "선형 회귀 결과\n",
      "MAE: 4.408\n",
      "MSE: 34.861\n",
      "MAPE: 0.223\n",
      "------------------------------\n",
      "SVM 결과\n",
      "MAE: 3.846\n",
      "MSE: 36.890\n",
      "MAPE: 0.170\n",
      "------------------------------\n",
      "랜덤 포레스트 결과\n",
      "MAE: 2.967\n",
      "MSE: 17.955\n",
      "MAPE: 0.147\n",
      "------------------------------\n"
     ]
    }
   ],
   "source": [
    "# 예측값 생성 및 평가지표 계산\n",
    "y_pred_lr = model_lr.predict(X_test_r_scaled)\n",
    "y_pred_svr = model_svr.predict(X_test_r_scaled)\n",
    "y_pred_rfr = model_rfr.predict(X_test_r_scaled)\n",
    "\n",
    "print('-'*30)\n",
    "print('선형 회귀 결과')\n",
    "print('MAE: %.3f' %mean_absolute_error(y_test_r, y_pred_lr))\n",
    "print('MSE: %.3f' %mean_squared_error(y_test_r, y_pred_lr))\n",
    "print('MAPE: %.3f' %mean_absolute_percentage_error(y_test_r, y_pred_lr))\n",
    "print('-'*30)\n",
    "print('SVM 결과')\n",
    "print('MAE: %.3f' %mean_absolute_error(y_test_r, y_pred_svr))\n",
    "print('MSE: %.3f' %mean_squared_error(y_test_r, y_pred_svr))\n",
    "print('MAPE: %.3f' %mean_absolute_percentage_error(y_test_r, y_pred_svr))\n",
    "print('-'*30)\n",
    "print('랜덤 포레스트 결과')\n",
    "print('MAE: %.3f' %mean_absolute_error(y_test_r, y_pred_rfr))\n",
    "print('MSE: %.3f' %mean_squared_error(y_test_r, y_pred_rfr))\n",
    "print('MAPE: %.3f' %mean_absolute_percentage_error(y_test_r, y_pred_rfr))\n",
    "print('-'*30)"
   ]
  },
  {
   "cell_type": "markdown",
   "id": "0f77af85",
   "metadata": {},
   "source": [
    "### 4. 분류 모델링"
   ]
  },
  {
   "cell_type": "code",
   "execution_count": 28,
   "id": "3778fc28",
   "metadata": {},
   "outputs": [],
   "source": [
    "# 데이터 생성 (종속변수 제거한 데이터)\n",
    "df_c = data.drop(['MEDV'], axis=1) "
   ]
  },
  {
   "cell_type": "code",
   "execution_count": 29,
   "id": "ae6fdbfb",
   "metadata": {},
   "outputs": [
    {
     "data": {
      "text/plain": [
       "<AxesSubplot:xlabel='isHighValue', ylabel='LSTAT'>"
      ]
     },
     "execution_count": 29,
     "metadata": {},
     "output_type": "execute_result"
    },
    {
     "data": {
      "image/png": "[encoded data removed]",
      "text/plain": [
       "<Figure size 432x288 with 1 Axes>"
      ]
     },
     "metadata": {
      "needs_background": "light"
     },
     "output_type": "display_data"
    }
   ],
   "source": [
    "# LSTAT 변수 박스 플롯으로 이상치 탐지\n",
    "sns.boxplot(x='isHighValue', y='LSTAT', data=df_c)"
   ]
  },
  {
   "cell_type": "code",
   "execution_count": 30,
   "id": "c1f07bd1",
   "metadata": {},
   "outputs": [
    {
     "data": {
      "text/plain": [
       "<AxesSubplot:xlabel='LSTAT', ylabel='Density'>"
      ]
     },
     "execution_count": 30,
     "metadata": {},
     "output_type": "execute_result"
    },
    {
     "data": {
      "image/png": "[encoded data removed]",
      "text/plain": [
       "<Figure size 432x288 with 1 Axes>"
      ]
     },
     "metadata": {
      "needs_background": "light"
     },
     "output_type": "display_data"
    }
   ],
   "source": [
    "# LSTAT 변수 kde 플롯\n",
    "sns.kdeplot(df_c.loc[df_c['isHighValue']==1, 'LSTAT'], color='orange', fill=True)\n",
    "sns.kdeplot(df_c.loc[df_c['isHighValue']==0, 'LSTAT'], color='blue', fill=True)"
   ]
  },
  {
   "cell_type": "code",
   "execution_count": 31,
   "id": "bb2a1b71",
   "metadata": {},
   "outputs": [
    {
     "name": "stdout",
     "output_type": "stream",
     "text": [
      "isHighValue           0           1\n",
      "CRIM           0.975497    0.354194\n",
      "ZN             6.691176   24.602273\n",
      "INDUS         12.777353    6.488485\n",
      "CHAS           0.050802    0.121212\n",
      "NOX            0.575957    0.494454\n",
      "RM             6.028837    7.009394\n",
      "AGE           73.275134   55.257576\n",
      "DIS            3.593655    4.365642\n",
      "RAD           10.729947    6.204545\n",
      "TAX          440.788770  316.007576\n",
      "PTRATIO       18.994920   16.927273\n",
      "B            346.706738  384.914697\n",
      "LSTAT         14.949652    6.146061\n",
      "isHighValue    0.000000    1.000000\n"
     ]
    },
    {
     "name": "stderr",
     "output_type": "stream",
     "text": [
      "C:\\Users\\phi49\\anaconda3\\lib\\site-packages\\numpy\\core\\fromnumeric.py:3462: FutureWarning: In a future version, DataFrame.mean(axis=None) will return a scalar mean over the entire DataFrame. To retain the old behavior, use 'frame.mean(axis=0)' or just 'frame.mean()'\n",
      "  return mean(axis=axis, dtype=dtype, out=out, **kwargs)\n"
     ]
    }
   ],
   "source": [
    "# isHighValue 값별 변수 평균\n",
    "print(df_c.groupby('isHighValue').apply(np.mean).T)"
   ]
  },
  {
   "cell_type": "code",
   "execution_count": 32,
   "id": "8916fda3",
   "metadata": {},
   "outputs": [],
   "source": [
    "from sklearn.model_selection import train_test_split \n",
    "from sklearn.preprocessing import MinMaxScaler\n",
    "from sklearn.linear_model import LogisticRegression\n",
    "from sklearn.svm import SVC\n",
    "from sklearn.ensemble import RandomForestClassifier"
   ]
  },
  {
   "cell_type": "code",
   "execution_count": 33,
   "id": "a36a3e10",
   "metadata": {},
   "outputs": [],
   "source": [
    "# 데이터 분할\n",
    "X_cols = ['LSTAT', 'PTRATIO', 'TAX', 'AGE', 'NOX', 'INDUS', 'CRIM']\n",
    "\n",
    "X = data[X_cols].values \n",
    "y = data['isHighValue'].values\n",
    "\n",
    "X_train_c, X_test_c, y_train_c, y_test_c = train_test_split(X, y, test_size=0.3, random_state=123)"
   ]
  },
  {
   "cell_type": "code",
   "execution_count": 34,
   "id": "4a1548f1",
   "metadata": {},
   "outputs": [],
   "source": [
    "# 데이터 스케일링\n",
    "scaler = MinMaxScaler()\n",
    "\n",
    "X_train_c_scaled = scaler.fit_transform(X_train_c) \n",
    "X_test_c_scaled = scaler.transform(X_test_c)"
   ]
  },
  {
   "cell_type": "code",
   "execution_count": 35,
   "id": "2ff9a33c",
   "metadata": {},
   "outputs": [
    {
     "data": {
      "text/plain": [
       "LogisticRegression()"
      ]
     },
     "execution_count": 35,
     "metadata": {},
     "output_type": "execute_result"
    }
   ],
   "source": [
    "# 1) 로지스틱 회귀 학습\n",
    "model_lo = LogisticRegression()\n",
    "model_lo.fit(X_train_c_scaled, y_train_c)"
   ]
  },
  {
   "cell_type": "code",
   "execution_count": 36,
   "id": "4bdb12df",
   "metadata": {},
   "outputs": [
    {
     "name": "stdout",
     "output_type": "stream",
     "text": [
      "[[-4.67917856 -2.26271976 -0.80852617  0.45926521 -0.32914015 -1.36930599\n",
      "   0.86834454]]\n",
      "[1.90334599]\n"
     ]
    }
   ],
   "source": [
    "# 계수와 절편 값\n",
    "print(model_lo.coef_)\n",
    "print(model_lo.intercept_)"
   ]
  },
  {
   "cell_type": "code",
   "execution_count": 37,
   "id": "e042b6ba",
   "metadata": {},
   "outputs": [
    {
     "data": {
      "text/plain": [
       "SVC(probability=True)"
      ]
     },
     "execution_count": 37,
     "metadata": {},
     "output_type": "execute_result"
    }
   ],
   "source": [
    "# 2) SVM 학습\n",
    "model_svc = SVC(probability=True)\n",
    "model_svc.fit(X_train_c_scaled, y_train_c)"
   ]
  },
  {
   "cell_type": "code",
   "execution_count": 38,
   "id": "b2d9667c",
   "metadata": {},
   "outputs": [
    {
     "data": {
      "text/plain": [
       "RandomForestClassifier(random_state=123)"
      ]
     },
     "execution_count": 38,
     "metadata": {},
     "output_type": "execute_result"
    }
   ],
   "source": [
    "# 3) 랜덤 포레스트\n",
    "model_rfc = RandomForestClassifier(random_state=123)\n",
    "model_rfc.fit(X_train_c_scaled, y_train_c)"
   ]
  },
  {
   "cell_type": "code",
   "execution_count": 39,
   "id": "bd070305",
   "metadata": {},
   "outputs": [
    {
     "name": "stdout",
     "output_type": "stream",
     "text": [
      "LSTAT : 0.378\n",
      "PTRATIO : 0.105\n",
      "TAX : 0.112\n",
      "AGE : 0.087\n",
      "NOX : 0.080\n",
      "INDUS : 0.134\n",
      "CRIM : 0.104\n"
     ]
    }
   ],
   "source": [
    "# 피처의 중요도\n",
    "for x, val in zip(X_cols, model_rfc.feature_importances_):\n",
    "    print(f'{x} : %.3f' %val)"
   ]
  },
  {
   "cell_type": "code",
   "execution_count": 40,
   "id": "9d9a060b",
   "metadata": {},
   "outputs": [],
   "source": [
    "from sklearn.metrics import classification_report\n",
    "from sklearn.metrics import roc_auc_score"
   ]
  },
  {
   "cell_type": "code",
   "execution_count": 41,
   "id": "2ec3081b",
   "metadata": {},
   "outputs": [
    {
     "name": "stdout",
     "output_type": "stream",
     "text": [
      "------------------------------------------------------------\n",
      "로지스틱 회귀 결과\n",
      "              precision    recall  f1-score   support\n",
      "\n",
      "           0       0.90      0.97      0.93       115\n",
      "           1       0.89      0.65      0.75        37\n",
      "\n",
      "    accuracy                           0.89       152\n",
      "   macro avg       0.89      0.81      0.84       152\n",
      "weighted avg       0.89      0.89      0.89       152\n",
      "\n",
      "------------------------------------------------------------\n",
      "SVM 결과\n",
      "              precision    recall  f1-score   support\n",
      "\n",
      "           0       0.92      0.96      0.94       115\n",
      "           1       0.84      0.73      0.78        37\n",
      "\n",
      "    accuracy                           0.90       152\n",
      "   macro avg       0.88      0.84      0.86       152\n",
      "weighted avg       0.90      0.90      0.90       152\n",
      "\n",
      "------------------------------------------------------------\n",
      "랜덤포레스트 결과\n",
      "              precision    recall  f1-score   support\n",
      "\n",
      "           0       0.94      0.96      0.95       115\n",
      "           1       0.86      0.81      0.83        37\n",
      "\n",
      "    accuracy                           0.92       152\n",
      "   macro avg       0.90      0.88      0.89       152\n",
      "weighted avg       0.92      0.92      0.92       152\n",
      "\n",
      "------------------------------------------------------------\n"
     ]
    }
   ],
   "source": [
    "# 분석모형 평가\n",
    "\n",
    "# 예측값 생성\n",
    "y_pred_lo = model_lo.predict(X_test_c_scaled)\n",
    "y_pred_svc = model_svc.predict(X_test_c_scaled)\n",
    "y_pred_rfc = model_rfc.predict(X_test_c_scaled)\n",
    "\n",
    "# 평가지표 생성 후 출력\n",
    "print('-'*60)\n",
    "print('로지스틱 회귀 결과')\n",
    "print(classification_report(y_test_c, y_pred_lo, labels=[0,1]))\n",
    "print('-'*60)\n",
    "print('SVM 결과')\n",
    "print(classification_report(y_test_c, y_pred_svc, labels=[0,1]))\n",
    "print('-'*60)\n",
    "print('랜덤포레스트 결과')\n",
    "print(classification_report(y_test_c, y_pred_rfc, labels=[0,1]))\n",
    "print('-'*60)"
   ]
  },
  {
   "cell_type": "code",
   "execution_count": 42,
   "id": "02dacaac",
   "metadata": {},
   "outputs": [
    {
     "name": "stdout",
     "output_type": "stream",
     "text": [
      "로지스틱 회귀 결과: 0.918\n",
      "SVM 결과: 0.937\n",
      "랜덤포레스트 결과: 0.966\n"
     ]
    }
   ],
   "source": [
    "# AUROC 계산\n",
    "y_pred_lo = model_lo.predict_proba(X_test_c_scaled)[:, 1]\n",
    "y_pred_svc = model_svc.predict_proba(X_test_c_scaled)[:, 1]\n",
    "y_pred_rfc = model_rfc.predict_proba(X_test_c_scaled)[:, 1]\n",
    "\n",
    "print('로지스틱 회귀 결과: %.3f' %roc_auc_score(y_test_c, y_pred_lo))\n",
    "print('SVM 결과: %.3f' %roc_auc_score(y_test_c, y_pred_svc))\n",
    "print('랜덤포레스트 결과: %.3f' %roc_auc_score(y_test_c, y_pred_rfc))"
   ]
  },
  {
   "cell_type": "code",
   "execution_count": null,
   "id": "fecda8a1",
   "metadata": {},
   "outputs": [],
   "source": []
  }
 ],
 "metadata": {
  "kernelspec": {
   "display_name": "bigbunki",
   "language": "python",
   "name": "bigbunki"
  },
  "language_info": {
   "codemirror_mode": {
    "name": "ipython",
    "version": 3
   },
   "file_extension": ".py",
   "mimetype": "text/x-python",
   "name": "python",
   "nbconvert_exporter": "python",
   "pygments_lexer": "ipython3",
   "version": "3.9.12"
  }
 },
 "nbformat": 4,
 "nbformat_minor": 5
}
