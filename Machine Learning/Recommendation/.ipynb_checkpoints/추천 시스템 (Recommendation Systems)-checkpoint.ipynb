{
 "cells": [
  {
   "cell_type": "markdown",
   "id": "042001d0",
   "metadata": {},
   "source": [
    "## 추천 시스템 (Recommender Systems)"
   ]
  },
  {
   "cell_type": "markdown",
   "id": "d2685b5b",
   "metadata": {},
   "source": [
    "참고: 이수안컴퓨터연구소 (https://www.youtube.com/watch?v=6TP51jvjLsE)"
   ]
  },
  {
   "cell_type": "markdown",
   "id": "9124caec",
   "metadata": {},
   "source": [
    "* 추천 시스템은 크게 두 가지로 구분 가능\n",
    "    - 컨텐츠 기반 필터링 (content-based filtering)\n",
    "    - 협업 필터링 (collaborative filtering)\n",
    "* 두 가지를 조합한 hybrid 방식도 가능\n",
    "* 컨텐츠 기반 필터링: 지금까지 사용자의 이전 행동과 명시적 피드백을 통해 사용자가 좋아하는 것과 유사한 항목을 추천\n",
    "* 협업 필터링: 사용자와 항목 간의 유사성을 동시에 사용해 추천"
   ]
  },
  {
   "cell_type": "markdown",
   "id": "405db567",
   "metadata": {},
   "source": [
    "## Surprise\n",
    "\n",
    "* 추천 시스템 개발을 위한 라이브러리\n",
    "* 다양한 모델과 데이터 제공\n",
    "* scikit-learn과 유사한 사용 방법"
   ]
  },
  {
   "cell_type": "code",
   "execution_count": 1,
   "id": "4797a752",
   "metadata": {},
   "outputs": [],
   "source": [
    "!pip install scikit-surprise"
   ]
  },
  {
   "cell_type": "markdown",
   "id": "659ae52e",
   "metadata": {},
   "source": [
    "간단한 surprise 실습"
   ]
  },
  {
   "cell_type": "code",
   "execution_count": 2,
   "id": "a202c0f9",
   "metadata": {},
   "outputs": [],
   "source": [
    "from surprise import SVD\n",
    "from surprise import Dataset\n",
    "from surprise.model_selection import cross_validate"
   ]
  },
  {
   "cell_type": "code",
   "execution_count": 3,
   "id": "f4526306",
   "metadata": {
    "scrolled": true
   },
   "outputs": [
    {
     "data": {
      "text/plain": [
       "[('196', '242', 3.0, '881250949'),\n",
       " ('186', '302', 3.0, '891717742'),\n",
       " ('22', '377', 1.0, '878887116'),\n",
       " ('244', '51', 2.0, '880606923'),\n",
       " ('166', '346', 1.0, '886397596'),\n",
       " ('298', '474', 4.0, '884182806'),\n",
       " ('115', '265', 2.0, '881171488'),\n",
       " ('253', '465', 5.0, '891628467'),\n",
       " ('305', '451', 3.0, '886324817'),\n",
       " ('6', '86', 3.0, '883603013')]"
      ]
     },
     "execution_count": 3,
     "metadata": {},
     "output_type": "execute_result"
    }
   ],
   "source": [
    "# 데이터를 가져오고, 그 중 10개만 출력해봄\n",
    "data = Dataset.load_builtin('ml-100k', prompt=False)\n",
    "data.raw_ratings[:10]"
   ]
  },
  {
   "cell_type": "markdown",
   "id": "27918d08",
   "metadata": {},
   "source": [
    "순서대로 User, 영화, 평점, ID를 의미"
   ]
  },
  {
   "cell_type": "code",
   "execution_count": 4,
   "id": "4d6a0760",
   "metadata": {},
   "outputs": [],
   "source": [
    "model = SVD()"
   ]
  },
  {
   "cell_type": "code",
   "execution_count": 5,
   "id": "19add5ab",
   "metadata": {},
   "outputs": [
    {
     "name": "stdout",
     "output_type": "stream",
     "text": [
      "Evaluating RMSE, MAE of algorithm SVD on 5 split(s).\n",
      "\n",
      "                  Fold 1  Fold 2  Fold 3  Fold 4  Fold 5  Mean    Std     \n",
      "RMSE (testset)    0.9376  0.9421  0.9337  0.9344  0.9373  0.9370  0.0030  \n",
      "MAE (testset)     0.7376  0.7415  0.7344  0.7415  0.7398  0.7389  0.0027  \n",
      "Fit time          3.62    2.51    2.54    2.14    2.00    2.56    0.57    \n",
      "Test time         0.63    0.43    0.31    0.26    0.32    0.39    0.13    \n"
     ]
    },
    {
     "data": {
      "text/plain": [
       "{'test_rmse': array([0.93759586, 0.94211462, 0.93367897, 0.93435276, 0.93734008]),\n",
       " 'test_mae': array([0.73764157, 0.74145305, 0.73436004, 0.74146581, 0.73977978]),\n",
       " 'fit_time': (3.622640609741211,\n",
       "  2.5096683502197266,\n",
       "  2.5371062755584717,\n",
       "  2.140704393386841,\n",
       "  2.000051975250244),\n",
       " 'test_time': (0.6313388347625732,\n",
       "  0.42505931854248047,\n",
       "  0.3095242977142334,\n",
       "  0.2643594741821289,\n",
       "  0.3174858093261719)}"
      ]
     },
     "execution_count": 5,
     "metadata": {},
     "output_type": "execute_result"
    }
   ],
   "source": [
    "cross_validate(model, data, measures=['rmse', 'mae'], cv=5, verbose=True)"
   ]
  },
  {
   "cell_type": "markdown",
   "id": "bae77d67",
   "metadata": {},
   "source": [
    "RMSE와 MAE의 Mean 값이 93%, 73%임을 확인할 수 있음"
   ]
  },
  {
   "cell_type": "markdown",
   "id": "5b288982",
   "metadata": {},
   "source": [
    "## 컨텐츠 기반 필터링 (Content-based Filtering)"
   ]
  },
  {
   "cell_type": "markdown",
   "id": "f763e267",
   "metadata": {},
   "source": [
    "* 컨텐츠 기반 필터링: 이전의 행동과 명시적 피드백을 통해 좋아하는 것과 유사한 항목을 추천\n",
    "    - ex) 내가 지금까지 시청한 영화 목록과 다른 사용자의 시청 목록을 비교해 나와 비슷한 취향의 사용자가 시청한 영화를 추천\n",
    "    \n",
    "    \n",
    "* **유사도**를 기반으로 추천\n",
    "\n",
    "\n",
    "* 컨텐츠 기반 필터링의 장단점\n",
    "    - 장점\n",
    "        - 많은 수의 사용자를 대상으로 쉽게 확장 가능\n",
    "        - 사용자가 관심을 갖지 않던 상품 추천 가능\n",
    "    - 단점\n",
    "        - 입력 특성을 직접 설계해야 하므로, 많은 도메인 지식이 필요\n",
    "        - 사용자의 기존 관심사항을 기반으로만 추천 가능"
   ]
  },
  {
   "cell_type": "code",
   "execution_count": 6,
   "id": "31387640",
   "metadata": {},
   "outputs": [],
   "source": [
    "import numpy as np\n",
    "from surprise import Dataset"
   ]
  },
  {
   "cell_type": "markdown",
   "id": "ba0b10e5",
   "metadata": {},
   "source": [
    "* 이진 벡터의 내적을 통해 다른 사용자들과의 유사도 구하기\n",
    "* 나와 가장 높은 유사도를 가진 사용자의 시청 목록을 추천"
   ]
  },
  {
   "cell_type": "code",
   "execution_count": 7,
   "id": "eeeaac9e",
   "metadata": {},
   "outputs": [],
   "source": [
    "data = Dataset.load_builtin('ml-100k', prompt=False)\n",
    "raw_data = np.array(data.raw_ratings, dtype=int)"
   ]
  },
  {
   "cell_type": "code",
   "execution_count": 8,
   "id": "b06fcb81",
   "metadata": {},
   "outputs": [],
   "source": [
    "raw_data[:, 0] -= 1\n",
    "raw_data[:, 1] -= 1"
   ]
  },
  {
   "cell_type": "code",
   "execution_count": 9,
   "id": "ebd49ce2",
   "metadata": {},
   "outputs": [
    {
     "data": {
      "text/plain": [
       "(943, 1682)"
      ]
     },
     "execution_count": 9,
     "metadata": {},
     "output_type": "execute_result"
    }
   ],
   "source": [
    "n_users = np.max(raw_data[:, 0])\n",
    "n_movies = np.max(raw_data[:, 1])\n",
    "shape = (n_users + 1, n_movies + 1)\n",
    "shape"
   ]
  },
  {
   "cell_type": "code",
   "execution_count": 10,
   "id": "1f5d85b8",
   "metadata": {},
   "outputs": [
    {
     "data": {
      "text/plain": [
       "array([[1, 1, 1, ..., 0, 0, 0],\n",
       "       [1, 0, 0, ..., 0, 0, 0],\n",
       "       [0, 0, 0, ..., 0, 0, 0],\n",
       "       ...,\n",
       "       [1, 0, 0, ..., 0, 0, 0],\n",
       "       [0, 0, 0, ..., 0, 0, 0],\n",
       "       [0, 1, 0, ..., 0, 0, 0]])"
      ]
     },
     "execution_count": 10,
     "metadata": {},
     "output_type": "execute_result"
    }
   ],
   "source": [
    "# 인접행렬 만들기 (1은 봄, 0은 보지 않음)\n",
    "adj_matrix = np.ndarray(shape, dtype=int)\n",
    "\n",
    "for user_id, movie_id, rating, time in raw_data:\n",
    "    adj_matrix[user_id][movie_id] = 1.\n",
    "adj_matrix"
   ]
  },
  {
   "cell_type": "code",
   "execution_count": 11,
   "id": "07a085b9",
   "metadata": {},
   "outputs": [
    {
     "name": "stdout",
     "output_type": "stream",
     "text": [
      "Best Match: 183, Best Match ID: 275\n"
     ]
    }
   ],
   "source": [
    "my_id, my_vector = 0, adj_matrix[0]\n",
    "best_match, best_match_id, best_match_vector = -1, -1, []\n",
    "\n",
    "for user_id, user_vector in enumerate(adj_matrix):\n",
    "    if my_id != user_id:\n",
    "        similarity = np.dot(my_vector, user_vector)\n",
    "        if similarity > best_match:\n",
    "            best_match = similarity\n",
    "            best_match_id = user_id\n",
    "            best_match_vector = user_vector\n",
    "\n",
    "print('Best Match: {}, Best Match ID: {}'.format(best_match, best_match_id))"
   ]
  },
  {
   "cell_type": "code",
   "execution_count": 12,
   "id": "0dcf744d",
   "metadata": {},
   "outputs": [
    {
     "name": "stdout",
     "output_type": "stream",
     "text": [
      "[272, 273, 275, 280, 281, 283, 287, 288, 289, 290, 292, 293, 297, 299, 300, 301, 302, 306, 312, 314, 315, 316, 317, 321, 322, 323, 324, 327, 330, 331, 332, 333, 339, 342, 345, 346, 353, 354, 355, 356, 357, 363, 364, 365, 366, 372, 374, 378, 379, 381, 382, 383, 384, 385, 386, 387, 390, 391, 392, 394, 395, 396, 398, 400, 401, 402, 403, 404, 405, 406, 407, 408, 409, 410, 412, 414, 416, 417, 418, 419, 420, 422, 424, 425, 426, 427, 428, 430, 431, 432, 435, 442, 446, 447, 448, 449, 450, 451, 452, 454, 455, 457, 460, 461, 462, 468, 469, 470, 471, 472, 473, 474, 478, 495, 500, 507, 517, 522, 525, 530, 539, 540, 543, 545, 546, 548, 549, 550, 551, 553, 557, 558, 560, 561, 562, 563, 565, 566, 567, 568, 570, 571, 574, 575, 576, 577, 580, 581, 582, 585, 587, 589, 590, 594, 596, 602, 623, 626, 627, 630, 633, 635, 639, 646, 648, 651, 652, 654, 657, 664, 668, 671, 677, 678, 681, 683, 684, 685, 690, 691, 692, 695, 696, 708, 709, 714, 718, 719, 720, 724, 726, 727, 731, 733, 734, 736, 738, 741, 742, 745, 746, 747, 749, 750, 754, 758, 762, 764, 767, 768, 769, 770, 771, 772, 773, 778, 779, 782, 785, 788, 789, 793, 795, 796, 799, 800, 801, 802, 805, 806, 808, 815, 819, 822, 824, 830, 839, 842, 843, 844, 852, 853, 870, 875, 878, 880, 889, 901, 914, 915, 918, 921, 927, 929, 930, 938, 940, 941, 942, 948, 950, 958, 968, 973, 974, 976, 992, 999, 1005, 1009, 1010, 1012, 1015, 1018, 1027, 1030, 1034, 1035, 1041, 1043, 1045, 1046, 1051, 1055, 1072, 1073, 1078, 1080, 1082, 1088, 1089, 1090, 1094, 1097, 1108, 1109, 1117, 1128, 1130, 1134, 1139, 1140, 1144, 1156, 1169, 1171, 1179, 1193, 1198, 1207, 1209, 1212, 1217, 1219, 1220, 1227, 1231, 1238, 1239, 1243, 1244, 1252, 1266, 1272, 1273, 1300, 1313, 1406, 1412, 1415, 1470, 1477, 1480, 1481, 1482]\n"
     ]
    }
   ],
   "source": [
    "recommend_list = []\n",
    "for i, log in enumerate(zip(my_vector, best_match_vector)):\n",
    "    log1, log2 = log\n",
    "    if log1 < 1. and log2 > 0:\n",
    "        recommend_list.append(i)\n",
    "print(recommend_list)"
   ]
  },
  {
   "attachments": {
    "image.png": {
     "image/png": "[encoded data removed]"
    }
   },
   "cell_type": "markdown",
   "id": "9628c3df",
   "metadata": {},
   "source": [
    "* 유클리드 거리를 사용해 추천\n",
    "![image.png](attachment:image.png)\n",
    "    - 거리가 가까울수록 (값이 작을수록) 나와 유사한 사용자"
   ]
  },
  {
   "cell_type": "code",
   "execution_count": 13,
   "id": "42ceccf1",
   "metadata": {},
   "outputs": [
    {
     "name": "stdout",
     "output_type": "stream",
     "text": [
      "Best Match: 14.832396974191326, Best Match ID: 737\n"
     ]
    }
   ],
   "source": [
    "my_id, my_vector = 0, adj_matrix[0]\n",
    "best_match, best_match_id, best_match_vector = 9999, -1, []\n",
    "\n",
    "for user_id, user_vector in enumerate(adj_matrix):\n",
    "    if my_id != user_id:\n",
    "        euclidean_dist = np.sqrt(np.sum(np.square(my_vector - user_vector)))\n",
    "        if euclidean_dist < best_match:\n",
    "            best_match = euclidean_dist\n",
    "            best_match_id = user_id\n",
    "            best_match_vector = user_vector\n",
    "\n",
    "print('Best Match: {}, Best Match ID: {}'.format(best_match, best_match_id))"
   ]
  },
  {
   "cell_type": "code",
   "execution_count": 14,
   "id": "fb6d06db",
   "metadata": {},
   "outputs": [
    {
     "name": "stdout",
     "output_type": "stream",
     "text": [
      "[297, 312, 317, 342, 356, 366, 379, 384, 392, 402, 404, 407, 417, 422, 428, 433, 448, 454, 469, 473, 495, 510, 516, 526, 527, 549, 567, 602, 635, 649, 650, 654, 658, 661, 664, 696, 731, 746, 750, 754, 915, 918, 925, 929, 950, 968, 1015, 1046]\n"
     ]
    }
   ],
   "source": [
    "recommend_list = []\n",
    "for i, log in enumerate(zip(my_vector, best_match_vector)):\n",
    "    log1, log2 = log\n",
    "    if log1 < 1. and log2 > 0:\n",
    "        recommend_list.append(i)\n",
    "print(recommend_list)"
   ]
  },
  {
   "attachments": {
    "image.png": {
     "image/png": "[encoded data removed]"
    }
   },
   "cell_type": "markdown",
   "id": "72cddce5",
   "metadata": {},
   "source": [
    "* 코사인 유사도를 사용해 추천\n",
    "![image.png](attachment:image.png)\n",
    "    - 두 벡터가 이루고 있는 각을 계산"
   ]
  },
  {
   "cell_type": "code",
   "execution_count": 15,
   "id": "6f47bd5f",
   "metadata": {},
   "outputs": [],
   "source": [
    "def compute_cos_similarity(v1, v2):\n",
    "    norm1 = np.sqrt(np.sum(np.square(v1)))\n",
    "    norm2 = np.sqrt(np.sum(np.square(v2)))\n",
    "    dot = np.dot(v1, v2)\n",
    "    return dot / (norm1 * norm2)"
   ]
  },
  {
   "cell_type": "code",
   "execution_count": 16,
   "id": "d4b786d1",
   "metadata": {},
   "outputs": [
    {
     "name": "stdout",
     "output_type": "stream",
     "text": [
      "Best Match: 0.5278586163659506, Best Match ID: 915\n"
     ]
    }
   ],
   "source": [
    "my_id, my_vector = 0, adj_matrix[0]\n",
    "best_match, best_match_id, best_match_vector = -1, -1, []\n",
    "\n",
    "for user_id, user_vector in enumerate(adj_matrix):\n",
    "    if my_id != user_id:\n",
    "        cos_similarity = compute_cos_similarity(my_vector, user_vector)\n",
    "        if cos_similarity > best_match:\n",
    "            best_match = cos_similarity\n",
    "            best_match_id = user_id\n",
    "            best_match_vector = user_vector\n",
    "\n",
    "print('Best Match: {}, Best Match ID: {}'.format(best_match, best_match_id))"
   ]
  },
  {
   "cell_type": "code",
   "execution_count": 17,
   "id": "c8f8abfc",
   "metadata": {},
   "outputs": [
    {
     "name": "stdout",
     "output_type": "stream",
     "text": [
      "[272, 275, 279, 280, 283, 285, 289, 294, 297, 316, 317, 355, 365, 366, 368, 379, 380, 381, 384, 386, 392, 398, 401, 404, 416, 420, 422, 424, 426, 427, 430, 432, 450, 460, 461, 466, 469, 471, 473, 474, 475, 479, 482, 483, 497, 505, 508, 510, 511, 522, 526, 527, 529, 530, 534, 536, 540, 545, 548, 549, 556, 557, 558, 560, 565, 567, 568, 569, 577, 580, 581, 582, 592, 596, 630, 635, 639, 641, 649, 651, 654, 673, 677, 678, 683, 684, 692, 696, 701, 703, 707, 708, 709, 712, 714, 719, 720, 726, 731, 734, 736, 738, 740, 745, 747, 754, 755, 761, 762, 763, 766, 780, 789, 791, 805, 819, 823, 824, 830, 843, 862, 865, 918, 929, 930, 938, 942, 943, 947, 958, 959, 960, 970, 977, 1004, 1008, 1009, 1010, 1013, 1041, 1045, 1069, 1072, 1073, 1078, 1097, 1100, 1108, 1112, 1118, 1134, 1193, 1205, 1207, 1216, 1219, 1267, 1334, 1400, 1427, 1596, 1681]\n"
     ]
    }
   ],
   "source": [
    "# 915번은 봤지만 나는 안 본 영화를 추천\n",
    "\n",
    "recommend_list = []\n",
    "for i, log in enumerate(zip(my_vector, best_match_vector)):\n",
    "    log1, log2 = log\n",
    "    if log1 < 1. and log2 > 0:\n",
    "        recommend_list.append(i)\n",
    "print(recommend_list)"
   ]
  },
  {
   "cell_type": "markdown",
   "id": "e874c764",
   "metadata": {},
   "source": [
    "기존 방법에 명시적 피드백(사용자가 평가한 영화점수를 추가해 실험)"
   ]
  },
  {
   "cell_type": "code",
   "execution_count": 19,
   "id": "3ea8163d",
   "metadata": {},
   "outputs": [
    {
     "data": {
      "text/plain": [
       "array([[5, 3, 4, ..., 0, 0, 0],\n",
       "       [4, 0, 0, ..., 0, 0, 0],\n",
       "       [0, 0, 0, ..., 0, 0, 0],\n",
       "       ...,\n",
       "       [5, 0, 0, ..., 0, 0, 0],\n",
       "       [0, 0, 0, ..., 0, 0, 0],\n",
       "       [0, 5, 0, ..., 0, 0, 0]])"
      ]
     },
     "execution_count": 19,
     "metadata": {},
     "output_type": "execute_result"
    }
   ],
   "source": [
    "adj_matrix = np.ndarray(shape, dtype=int)\n",
    "for user_id, movie_id, rating, time in raw_data:\n",
    "    adj_matrix[user_id][movie_id] = rating\n",
    "adj_matrix"
   ]
  },
  {
   "cell_type": "code",
   "execution_count": 20,
   "id": "9fe8f634",
   "metadata": {},
   "outputs": [
    {
     "name": "stdout",
     "output_type": "stream",
     "text": [
      "Best Match: 55.06359959174482, Best Match ID: 737\n"
     ]
    }
   ],
   "source": [
    "my_id, my_vector = 0, adj_matrix[0]\n",
    "best_match, best_match_id, best_match_vector = 9999, -1, []\n",
    "\n",
    "for user_id, user_vector in enumerate(adj_matrix):\n",
    "    if my_id != user_id:\n",
    "        euclidean_dist = np.sqrt(np.sum(np.square(my_vector - user_vector)))\n",
    "        if euclidean_dist < best_match:\n",
    "            best_match = euclidean_dist\n",
    "            best_match_id = user_id\n",
    "            best_match_vector = user_vector\n",
    "\n",
    "print('Best Match: {}, Best Match ID: {}'.format(best_match, best_match_id))"
   ]
  },
  {
   "cell_type": "code",
   "execution_count": 21,
   "id": "d492e004",
   "metadata": {},
   "outputs": [
    {
     "name": "stdout",
     "output_type": "stream",
     "text": [
      "Best Match: 0.569065731527988, Best Match ID: 915\n"
     ]
    }
   ],
   "source": [
    "my_id, my_vector = 0, adj_matrix[0]\n",
    "best_match, best_match_id, best_match_vector = -1, -1, []\n",
    "\n",
    "for user_id, user_vector in enumerate(adj_matrix):\n",
    "    if my_id != user_id:\n",
    "        cos_similarity = compute_cos_similarity(my_vector, user_vector)\n",
    "        if cos_similarity > best_match:\n",
    "            best_match = cos_similarity\n",
    "            best_match_id = user_id\n",
    "            best_match_vector = user_vector\n",
    "\n",
    "print('Best Match: {}, Best Match ID: {}'.format(best_match, best_match_id))"
   ]
  },
  {
   "cell_type": "markdown",
   "id": "0ca5de5c",
   "metadata": {},
   "source": [
    "## 협업 필터링 (Collaborative Filtering)"
   ]
  },
  {
   "cell_type": "markdown",
   "id": "253187b2",
   "metadata": {},
   "source": [
    "* 사용자와 항목의 유사성을 동시에 고려해 추천\n",
    "* 기존에 내 관심사가 아닌 항목이라도 추천 가능\n",
    "* 자동으로 임베딩 학습 가능\n",
    "\n",
    "\n",
    "* 협업 필터링의 장단점\n",
    "    * 장점\n",
    "        - 자동으로 임베딩을 학습하므로, 도메인 지식이 필요 없음\n",
    "        - 기존의 관심사가 아니더라도 추천 가능\n",
    "    * 단점\n",
    "        - 학습 과정에 나오지 않은 항목은 임베딩을 만들 수 없음\n",
    "        - 추가 특성을 사용하기 어려움"
   ]
  },
  {
   "cell_type": "code",
   "execution_count": 22,
   "id": "3f82416c",
   "metadata": {},
   "outputs": [],
   "source": [
    "from surprise import KNNBasic, SVD, SVDpp, NMF\n",
    "from surprise import Dataset\n",
    "from surprise.model_selection import cross_validate"
   ]
  },
  {
   "cell_type": "code",
   "execution_count": 23,
   "id": "4c979e75",
   "metadata": {},
   "outputs": [],
   "source": [
    "data = Dataset.load_builtin('ml-100k', prompt=False)"
   ]
  },
  {
   "cell_type": "markdown",
   "id": "ca4dc55c",
   "metadata": {},
   "source": [
    "* KNN을 사용한 협업 필터링"
   ]
  },
  {
   "cell_type": "code",
   "execution_count": 25,
   "id": "2d391588",
   "metadata": {},
   "outputs": [
    {
     "name": "stdout",
     "output_type": "stream",
     "text": [
      "Evaluating RMSE, MAE of algorithm KNNBasic on 5 split(s).\n",
      "\n",
      "                  Fold 1  Fold 2  Fold 3  Fold 4  Fold 5  Mean    Std     \n",
      "RMSE (testset)    0.9720  0.9837  0.9816  0.9732  0.9801  0.9781  0.0047  \n",
      "MAE (testset)     0.7702  0.7747  0.7760  0.7698  0.7716  0.7725  0.0025  \n",
      "Fit time          0.67    0.60    1.08    1.05    1.00    0.88    0.20    \n",
      "Test time         5.65    8.04    9.75    9.03    7.84    8.06    1.39    \n"
     ]
    },
    {
     "data": {
      "text/plain": [
       "{'test_rmse': array([0.97201101, 0.98373014, 0.9815703 , 0.97316969, 0.98007379]),\n",
       " 'test_mae': array([0.77016244, 0.7747413 , 0.77601999, 0.76976143, 0.7715777 ]),\n",
       " 'fit_time': (0.6740396022796631,\n",
       "  0.5984675884246826,\n",
       "  1.0843892097473145,\n",
       "  1.0506958961486816,\n",
       "  0.9969866275787354),\n",
       " 'test_time': (5.646907806396484,\n",
       "  8.037906885147095,\n",
       "  9.748249053955078,\n",
       "  9.028376340866089,\n",
       "  7.8449387550354)}"
      ]
     },
     "execution_count": 25,
     "metadata": {},
     "output_type": "execute_result"
    }
   ],
   "source": [
    "model = KNNBasic()\n",
    "cross_validate(model, data, measures=['rmse', 'mae'], cv=5, n_jobs=4, verbose=True)"
   ]
  },
  {
   "cell_type": "markdown",
   "id": "41fc928c",
   "metadata": {},
   "source": [
    "* SVD를 사용한 협업 필터링"
   ]
  },
  {
   "cell_type": "code",
   "execution_count": 26,
   "id": "ad1f4393",
   "metadata": {},
   "outputs": [
    {
     "name": "stdout",
     "output_type": "stream",
     "text": [
      "Evaluating RMSE, MAE of algorithm SVD on 5 split(s).\n",
      "\n",
      "                  Fold 1  Fold 2  Fold 3  Fold 4  Fold 5  Mean    Std     \n",
      "RMSE (testset)    0.9363  0.9445  0.9346  0.9305  0.9354  0.9362  0.0046  \n",
      "MAE (testset)     0.7389  0.7482  0.7358  0.7325  0.7361  0.7383  0.0054  \n",
      "Fit time          2.61    3.25    1.68    2.00    1.74    2.25    0.59    \n",
      "Test time         0.61    0.81    0.38    0.75    0.56    0.62    0.15    \n"
     ]
    },
    {
     "data": {
      "text/plain": [
       "{'test_rmse': array([0.93625078, 0.94448353, 0.93455107, 0.9304735 , 0.93544531]),\n",
       " 'test_mae': array([0.73891358, 0.74823196, 0.7357593 , 0.7324744 , 0.73613908]),\n",
       " 'fit_time': (2.6064207553863525,\n",
       "  3.2459332942962646,\n",
       "  1.6802129745483398,\n",
       "  1.9993526935577393,\n",
       "  1.7365117073059082),\n",
       " 'test_time': (0.6080834865570068,\n",
       "  0.8120851516723633,\n",
       "  0.37818169593811035,\n",
       "  0.748016357421875,\n",
       "  0.5648219585418701)}"
      ]
     },
     "execution_count": 26,
     "metadata": {},
     "output_type": "execute_result"
    }
   ],
   "source": [
    "model = SVD()\n",
    "cross_validate(model, data, measures=['rmse', 'mae'], cv=5, n_jobs=4, verbose=True)"
   ]
  },
  {
   "cell_type": "markdown",
   "id": "7df3846d",
   "metadata": {},
   "source": [
    "* NMF를 사용한 협업 필터링"
   ]
  },
  {
   "cell_type": "code",
   "execution_count": 27,
   "id": "27bd721b",
   "metadata": {},
   "outputs": [
    {
     "name": "stdout",
     "output_type": "stream",
     "text": [
      "Evaluating RMSE, MAE of algorithm NMF on 5 split(s).\n",
      "\n",
      "                  Fold 1  Fold 2  Fold 3  Fold 4  Fold 5  Mean    Std     \n",
      "RMSE (testset)    0.9683  0.9642  0.9616  0.9533  0.9591  0.9613  0.0050  \n",
      "MAE (testset)     0.7624  0.7569  0.7527  0.7528  0.7536  0.7557  0.0037  \n",
      "Fit time          3.09    3.13    2.98    2.96    2.93    3.02    0.08    \n",
      "Test time         0.30    0.66    0.35    0.31    0.30    0.38    0.14    \n"
     ]
    },
    {
     "data": {
      "text/plain": [
       "{'test_rmse': array([0.96828044, 0.96419969, 0.96158666, 0.95332767, 0.95914944]),\n",
       " 'test_mae': array([0.76235776, 0.75690309, 0.75267549, 0.75280554, 0.75362992]),\n",
       " 'fit_time': (3.0923051834106445,\n",
       "  3.1308999061584473,\n",
       "  2.9823315143585205,\n",
       "  2.964421033859253,\n",
       "  2.931187152862549),\n",
       " 'test_time': (0.3004031181335449,\n",
       "  0.6591882705688477,\n",
       "  0.3502507209777832,\n",
       "  0.3066403865814209,\n",
       "  0.3005211353302002)}"
      ]
     },
     "execution_count": 27,
     "metadata": {},
     "output_type": "execute_result"
    }
   ],
   "source": [
    "model = NMF()\n",
    "cross_validate(model, data, measures=['rmse', 'mae'], cv=5, n_jobs=4, verbose=True)"
   ]
  },
  {
   "cell_type": "markdown",
   "id": "103836f1",
   "metadata": {},
   "source": [
    "* SVD++를 사용한 협업 필터링"
   ]
  },
  {
   "cell_type": "code",
   "execution_count": 28,
   "id": "f3a9702f",
   "metadata": {},
   "outputs": [
    {
     "name": "stdout",
     "output_type": "stream",
     "text": [
      "Evaluating RMSE, MAE of algorithm SVDpp on 5 split(s).\n",
      "\n",
      "                  Fold 1  Fold 2  Fold 3  Fold 4  Fold 5  Mean    Std     \n",
      "RMSE (testset)    0.9235  0.9217  0.9108  0.9298  0.9140  0.9200  0.0068  \n",
      "MAE (testset)     0.7250  0.7235  0.7154  0.7294  0.7148  0.7216  0.0057  \n",
      "Fit time          58.41   58.98   54.55   52.90   39.15   52.80   7.20    \n",
      "Test time         7.47    8.17    7.98    7.03    6.66    7.46    0.56    \n"
     ]
    },
    {
     "data": {
      "text/plain": [
       "{'test_rmse': array([0.92354697, 0.92173584, 0.91079126, 0.92984399, 0.91397819]),\n",
       " 'test_mae': array([0.72504363, 0.7235279 , 0.715423  , 0.72938746, 0.71481404]),\n",
       " 'fit_time': (58.40936613082886,\n",
       "  58.98132634162903,\n",
       "  54.55170011520386,\n",
       "  52.90042209625244,\n",
       "  39.14649319648743),\n",
       " 'test_time': (7.472307205200195,\n",
       "  8.172082662582397,\n",
       "  7.976349115371704,\n",
       "  7.028413534164429,\n",
       "  6.662751197814941)}"
      ]
     },
     "execution_count": 28,
     "metadata": {},
     "output_type": "execute_result"
    }
   ],
   "source": [
    "model = SVDpp()\n",
    "cross_validate(model, data, measures=['rmse', 'mae'], cv=5, n_jobs=4, verbose=True)"
   ]
  },
  {
   "cell_type": "markdown",
   "id": "6ae3c302",
   "metadata": {},
   "source": [
    "## 하이브리드 (Hybrid)"
   ]
  },
  {
   "cell_type": "markdown",
   "id": "ce839358",
   "metadata": {},
   "source": [
    "31:23"
   ]
  },
  {
   "cell_type": "code",
   "execution_count": null,
   "id": "47628048",
   "metadata": {},
   "outputs": [],
   "source": []
  },
  {
   "cell_type": "code",
   "execution_count": null,
   "id": "05429a28",
   "metadata": {},
   "outputs": [],
   "source": []
  },
  {
   "cell_type": "code",
   "execution_count": null,
   "id": "75cdba72",
   "metadata": {},
   "outputs": [],
   "source": []
  },
  {
   "cell_type": "code",
   "execution_count": null,
   "id": "3d1b3d6d",
   "metadata": {},
   "outputs": [],
   "source": []
  },
  {
   "cell_type": "code",
   "execution_count": null,
   "id": "408eb57e",
   "metadata": {},
   "outputs": [],
   "source": []
  }
 ],
 "metadata": {
  "kernelspec": {
   "display_name": "capston",
   "language": "python",
   "name": "capston"
  },
  "language_info": {
   "codemirror_mode": {
    "name": "ipython",
    "version": 3
   },
   "file_extension": ".py",
   "mimetype": "text/x-python",
   "name": "python",
   "nbconvert_exporter": "python",
   "pygments_lexer": "ipython3",
   "version": "3.7.16"
  }
 },
 "nbformat": 4,
 "nbformat_minor": 5
}
