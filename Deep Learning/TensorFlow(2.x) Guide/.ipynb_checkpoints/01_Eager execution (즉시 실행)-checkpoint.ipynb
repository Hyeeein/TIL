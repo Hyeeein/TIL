{
 "cells": [
  {
   "cell_type": "markdown",
   "id": "f980d0de",
   "metadata": {},
   "source": [
    "## Tensorflow 설치와 기본 사용법"
   ]
  },
  {
   "cell_type": "markdown",
   "id": "3eaa3227",
   "metadata": {},
   "source": [
    "### 텐서플로 즉시 실행\n",
    "\n",
    "\n",
    "- 함수를 바로 실행하는 명령형 프로그래밍 환경\n",
    "- 나중에 실행하기 위해 계산가능한 그래프를 생성하는 대신, 계산 값을 즉시 알려주는 연산\n",
    "- 이 기능은 텐서플로를 시작하고 모델을 디버깅하는 것을 더욱 쉽게 만들고, 불필요한 상용구 코드(boilerplate code) 작성을 줄여줌"
   ]
  },
  {
   "cell_type": "markdown",
   "id": "fa391341",
   "metadata": {},
   "source": [
    "### 제공하는 기능\n",
    "\n",
    "* `직관적인 인터페이스` : 자연스러운 구조화, 작은 모델과 작은 데이터 빠르게 반복\n",
    "* `손쉬운 디버깅` : 모델 검토 및 변경사항 테스트를 위한 연산 직접 호출, 에러 확인을 위한 표준 파이썬 디버깅 툴 사용\n",
    "* `자연스러운 흐름 제어` : 파이썬 제어 흐름 사용하여 동적인 모델 구조 단순화\n",
    "\n",
    "=> 즉시 실행은 대부분의 텐서플로 연산과 GPU 가속을 지원"
   ]
  },
  {
   "cell_type": "code",
   "execution_count": 1,
   "id": "98974074",
   "metadata": {},
   "outputs": [],
   "source": [
    "import tensorflow as tf\n",
    "import cProfile"
   ]
  },
  {
   "cell_type": "code",
   "execution_count": 2,
   "id": "06b92f50",
   "metadata": {},
   "outputs": [
    {
     "data": {
      "text/plain": [
       "True"
      ]
     },
     "execution_count": 2,
     "metadata": {},
     "output_type": "execute_result"
    }
   ],
   "source": [
    "tf.executing_eagerly()"
   ]
  },
  {
   "cell_type": "code",
   "execution_count": 3,
   "id": "a21eeb16",
   "metadata": {},
   "outputs": [
    {
     "name": "stdout",
     "output_type": "stream",
     "text": [
      "hello, [[4.]]\n"
     ]
    }
   ],
   "source": [
    "x = [[2.]]\n",
    "m = tf.matmul(x, x)\n",
    "print(\"hello, {}\".format(m))"
   ]
  },
  {
   "cell_type": "markdown",
   "id": "9fd16f29",
   "metadata": {},
   "source": [
    "### 즉시 실행 활성화\n",
    "\n",
    "\n",
    "- 텐서플로 연산을 바로 평가하고, 그 결과를 파이썬에게 알려주는 방식으로 동작 변경\n",
    "- `tf.Tensor` 객체는 계산 그래프에 있는 노드를 가르키는 간접 핸들(symbolic handle) 대신에 구체적인 값 참고\n",
    "    - 계산 그래프가 따로 없어 `print()`나 디버거를 통해 결과 검토가 쉬움\n",
    "- 텐서값 평가, 출력, 확인 : 그래디언트를 계산하는 흐름 방해 X"
   ]
  },
  {
   "cell_type": "markdown",
   "id": "045a29bf",
   "metadata": {},
   "source": [
    "* 즉시 실행은 `Numpy`와 잘 작동됨\n",
    "    - `tf.Tensor`를 매개변수로 사용가능\n",
    "    \n",
    "    \n",
    "- 텐서플로 수학연산은 파이썬 객체와 Numpy 배열을 `tf.Tensor` 객체로 변환\n",
    "- `tf.Tensor.numpy` 메소드는 객체 값을 Numpy ndarray로 반환함"
   ]
  },
  {
   "cell_type": "code",
   "execution_count": 8,
   "id": "64de1082",
   "metadata": {},
   "outputs": [
    {
     "name": "stdout",
     "output_type": "stream",
     "text": [
      "tf.Tensor(\n",
      "[[1 2]\n",
      " [3 4]], shape=(2, 2), dtype=int32)\n"
     ]
    }
   ],
   "source": [
    "a = tf.constant([[1, 2],\n",
    "                 [3, 4]])\n",
    "print(a)"
   ]
  },
  {
   "cell_type": "code",
   "execution_count": 9,
   "id": "7ca64c53",
   "metadata": {},
   "outputs": [
    {
     "name": "stdout",
     "output_type": "stream",
     "text": [
      "tf.Tensor(\n",
      "[[2 3]\n",
      " [4 5]], shape=(2, 2), dtype=int32)\n"
     ]
    }
   ],
   "source": [
    "# 브로드캐스팅(Broadcasting) 지원\n",
    "b = tf.add(a, 1)\n",
    "print(b)"
   ]
  },
  {
   "cell_type": "code",
   "execution_count": 10,
   "id": "fae4c7f6",
   "metadata": {},
   "outputs": [
    {
     "name": "stdout",
     "output_type": "stream",
     "text": [
      "tf.Tensor(\n",
      "[[ 2  6]\n",
      " [12 20]], shape=(2, 2), dtype=int32)\n"
     ]
    }
   ],
   "source": [
    "# 연산자 오버로딩 지원\n",
    "print(a * b)"
   ]
  },
  {
   "cell_type": "code",
   "execution_count": 11,
   "id": "5c1fcd93",
   "metadata": {},
   "outputs": [
    {
     "name": "stdout",
     "output_type": "stream",
     "text": [
      "[[ 2  6]\n",
      " [12 20]]\n"
     ]
    }
   ],
   "source": [
    "# NumPy값 사용\n",
    "import numpy as np\n",
    "\n",
    "c = np.multiply(a, b)\n",
    "print(c)"
   ]
  },
  {
   "cell_type": "code",
   "execution_count": 12,
   "id": "785b2308",
   "metadata": {},
   "outputs": [
    {
     "name": "stdout",
     "output_type": "stream",
     "text": [
      "[[1 2]\n",
      " [3 4]]\n"
     ]
    }
   ],
   "source": [
    "# 텐서로부터 numpy 값 얻기:\n",
    "print(a.numpy())\n",
    "# => [[1 2]\n",
    "#     [3 4]]"
   ]
  },
  {
   "cell_type": "markdown",
   "id": "a1d107a1",
   "metadata": {},
   "source": [
    "## 동적인 제어 흐름"
   ]
  },
  {
   "cell_type": "markdown",
   "id": "e8312f7e",
   "metadata": {},
   "source": [
    "* 즉시 실행의 가장 큰 이점: 모델을 실행하는 동안에도 호스트 언어의 모든 기능을 활용할 수 있다는 것. 그래서 fizzbuzz 손쉽게 작성 가능 (https://en.wikipedia.org/wiki/Fizz_buzz)"
   ]
  },
  {
   "cell_type": "code",
   "execution_count": 13,
   "id": "5be8859e",
   "metadata": {},
   "outputs": [],
   "source": [
    "def fizzbuzz(max_num):\n",
    "    counter = tf.constant(0)\n",
    "    max_num = tf.convert_to_tensor(max_num)\n",
    "    \n",
    "    # 텐서값에 따른 조건절이 있고, 실행 중 그 결과 출력\n",
    "    for num in range(1, max_num.numpy()+1):\n",
    "        num = tf.constant(num)\n",
    "        if int(num % 3) == 0 and int(num % 5) == 0:\n",
    "            print('FizzBuzz')\n",
    "        elif int(num % 3) == 0:\n",
    "            print('Fizz')\n",
    "        elif int(num % 5) == 0:\n",
    "            print('Buzz')\n",
    "        else:\n",
    "            print(num.numpy())\n",
    "        counter += 1"
   ]
  },
  {
   "cell_type": "code",
   "execution_count": 14,
   "id": "589b80bf",
   "metadata": {},
   "outputs": [
    {
     "name": "stdout",
     "output_type": "stream",
     "text": [
      "1\n",
      "2\n",
      "Fizz\n",
      "4\n",
      "Buzz\n",
      "Fizz\n",
      "7\n",
      "8\n",
      "Fizz\n",
      "Buzz\n",
      "11\n",
      "Fizz\n",
      "13\n",
      "14\n",
      "FizzBuzz\n"
     ]
    }
   ],
   "source": [
    "fizzbuzz(15)"
   ]
  },
  {
   "cell_type": "markdown",
   "id": "5d7db7cc",
   "metadata": {},
   "source": [
    "## 즉시 훈련"
   ]
  },
  {
   "cell_type": "markdown",
   "id": "1271a179",
   "metadata": {},
   "source": [
    "### 그래디언트 계산\n",
    "\n",
    "\n",
    "* **자동 미분** : 인공 신경망 훈련을 위한 역전파와 같은 기계학습 알고리즘 구현에 유용\n",
    "\n",
    "\n",
    "* `tf.GradientTape`\n",
    "    - 즉시 실행 중, 그래디언트를 계산하고 (나중에 그래디언트 계산 연산 추적에 사용)\n",
    "    - 모델 훈련에 이용하기 위해 사용 가능 -> 복잡하고 반복적인 훈련에 더 유용\n",
    "    - 모든 정방향(forward-pass) 연산은 \"tape\"에 기록\n",
    "    - 특정한 `tf.GradientTape`는 오직 하나의 그래디언트만 계산 가능, 부가적인 호출은 실행 중 에러(runtime error) 발생시킴"
   ]
  },
  {
   "cell_type": "code",
   "execution_count": 15,
   "id": "27abff02",
   "metadata": {},
   "outputs": [
    {
     "name": "stdout",
     "output_type": "stream",
     "text": [
      "tf.Tensor([[2.]], shape=(1, 1), dtype=float32)\n"
     ]
    }
   ],
   "source": [
    "w = tf.Variable([[1.0]])\n",
    "with tf.GradientTape() as tape:\n",
    "    loss = w * w\n",
    "\n",
    "grad = tape.gradient(loss, w)\n",
    "print(grad)  # => tf.Tensor([[ 2.]], shape=(1, 1), dtype=float32)"
   ]
  },
  {
   "cell_type": "markdown",
   "id": "9e6f4213",
   "metadata": {},
   "source": [
    "### 모델 훈련\n",
    "\n",
    "\n",
    "##### (예) 표준 MNIST 손글씨 분류를 위한 다층 모델 생성\n",
    "즉시 실행 환경에서 훈련가능한 그래프 생성을 위해 옵티마이저(optimizer)와 층 API를 보여줌"
   ]
  },
  {
   "cell_type": "code",
   "execution_count": 16,
   "id": "b8f8634a",
   "metadata": {},
   "outputs": [],
   "source": [
    "# mnist 데이터 가져오기 및 포맷 맞추기\n",
    "(mnist_images, mnist_labels), _ = tf.keras.datasets.mnist.load_data()\n",
    "\n",
    "dataset = tf.data.Dataset.from_tensor_slices(\n",
    "    (tf.cast(mnist_images[...,tf.newaxis]/255, tf.float32),\n",
    "     tf.cast(mnist_labels,tf.int64)))\n",
    "dataset = dataset.shuffle(1000).batch(32)"
   ]
  },
  {
   "cell_type": "code",
   "execution_count": 17,
   "id": "40571177",
   "metadata": {},
   "outputs": [],
   "source": [
    "# 모델 생성\n",
    "mnist_model = tf.keras.Sequential([\n",
    "   tf.keras.layers.Conv2D(16,[3,3], activation='relu',\n",
    "                          input_shape=(None, None, 1)),\n",
    "   tf.keras.layers.Conv2D(16,[3,3], activation='relu'),\n",
    "   tf.keras.layers.GlobalAveragePooling2D(),\n",
    "   tf.keras.layers.Dense(10)\n",
    "])"
   ]
  },
  {
   "cell_type": "markdown",
   "id": "f26cfdb2",
   "metadata": {},
   "source": [
    "즉시 실행에서는 훈련을 하지 않아도 모델 사용 가능, 결과 점검도 가능"
   ]
  },
  {
   "cell_type": "code",
   "execution_count": 18,
   "id": "49038408",
   "metadata": {},
   "outputs": [
    {
     "name": "stdout",
     "output_type": "stream",
     "text": [
      "로짓:  [[ 0.07763627 -0.04346912 -0.03858145  0.05652889  0.0319109  -0.06233951\n",
      "   0.08460674 -0.05094534 -0.0143687  -0.03439349]]\n"
     ]
    }
   ],
   "source": [
    "for images,labels in dataset.take(1):\n",
    "    print(\"로짓: \", mnist_model(images[0:1]).numpy())"
   ]
  },
  {
   "cell_type": "markdown",
   "id": "5f4a0aec",
   "metadata": {},
   "source": [
    "케라스 모델은 자체적인 훈련 메서드(fit)을 포함하고 있지만, 좀 더 수정할 필요가 있음\n",
    "\n",
    "##### (예) 즉시 실행을 활용한 반복적인 훈련의 예"
   ]
  },
  {
   "cell_type": "code",
   "execution_count": 19,
   "id": "5d505fee",
   "metadata": {},
   "outputs": [
    {
     "name": "stdout",
     "output_type": "stream",
     "text": [
      "로짓:  [[ 0.04861377 -0.0289824  -0.02741379  0.03515264  0.01820234 -0.03736287\n",
      "   0.04797138 -0.02933557 -0.00386143 -0.02063759]]\n"
     ]
    }
   ],
   "source": [
    "for images,labels in dataset.take(1):\n",
    "    print(\"로짓: \", mnist_model(images[0:1]).numpy())"
   ]
  },
  {
   "cell_type": "code",
   "execution_count": 20,
   "id": "f8a72f9d",
   "metadata": {},
   "outputs": [],
   "source": [
    "optimizer = tf.keras.optimizers.Adam()\n",
    "loss_object = tf.keras.losses.SparseCategoricalCrossentropy(from_logits=True)\n",
    "\n",
    "loss_history = []"
   ]
  },
  {
   "cell_type": "markdown",
   "id": "4d869c72",
   "metadata": {},
   "source": [
    "★ Note : 조건을 만족했는지 확인하기 위해, `tf.debugging`에 있는 단언문(assert) 함수를 사용하기. 이것은 즉시 실행 그래프 실행 모두 동작 !!"
   ]
  },
  {
   "cell_type": "code",
   "execution_count": 21,
   "id": "03d0fcfc",
   "metadata": {},
   "outputs": [],
   "source": [
    "def train_step(images, labels):\n",
    "    with tf.GradientTape() as tape:\n",
    "        logits = mnist_model(images, training=True)\n",
    "\n",
    "        # 결과의 형태를 확인하기 위해서 단언문 추가\n",
    "        tf.debugging.assert_equal(logits.shape, (32, 10))\n",
    "        \n",
    "        loss_value = loss_object(labels, logits)\n",
    "\n",
    "    loss_history.append(loss_value.numpy().mean())\n",
    "    grads = tape.gradient(loss_value, mnist_model.trainable_variables)\n",
    "    optimizer.apply_gradients(zip(grads, mnist_model.trainable_variables))"
   ]
  },
  {
   "cell_type": "code",
   "execution_count": 22,
   "id": "7cae1708",
   "metadata": {},
   "outputs": [],
   "source": [
    "def train():\n",
    "    for epoch in range(3):\n",
    "        for (batch, (images, labels)) in enumerate(dataset):\n",
    "            train_step(images, labels)\n",
    "        print ('에포크 {} 종료'.format(epoch))"
   ]
  },
  {
   "cell_type": "code",
   "execution_count": 23,
   "id": "0c7d5532",
   "metadata": {},
   "outputs": [
    {
     "name": "stdout",
     "output_type": "stream",
     "text": [
      "에포크 0 종료\n",
      "에포크 1 종료\n",
      "에포크 2 종료\n"
     ]
    }
   ],
   "source": [
    "train()"
   ]
  },
  {
   "cell_type": "code",
   "execution_count": 24,
   "id": "2fa92660",
   "metadata": {},
   "outputs": [
    {
     "data": {
      "text/plain": [
       "Text(0, 0.5, 'Loss [entropy]')"
      ]
     },
     "execution_count": 24,
     "metadata": {},
     "output_type": "execute_result"
    },
    {
     "data": {
      "image/png": "[encoded data removed]",
      "text/plain": [
       "<Figure size 432x288 with 1 Axes>"
      ]
     },
     "metadata": {
      "needs_background": "light"
     },
     "output_type": "display_data"
    }
   ],
   "source": [
    "import matplotlib.pyplot as plt\n",
    "\n",
    "plt.plot(loss_history)\n",
    "plt.xlabel('Batch #')\n",
    "plt.ylabel('Loss [entropy]')"
   ]
  },
  {
   "cell_type": "markdown",
   "id": "f125885e",
   "metadata": {},
   "source": [
    "### 변수와 옵티마이저"
   ]
  },
  {
   "cell_type": "markdown",
   "id": "12a3c28d",
   "metadata": {},
   "source": [
    "* `tf.Variable` : 자동 미분을 쉽게 하기 위해서 학습동안 변경된 `tf.Tensor` 값을 저장. **모델 파라미터는 클래스 인스턴스 변수로 캡슐화 될 수 있음**\n",
    "\n",
    "* 모델 파라미터 캡슐화 : `tf.Variable`, `tf.GradientTape`와 함께 사용 가능\n",
    "\n",
    "##### (예) 자동 미분 캡슐화"
   ]
  },
  {
   "cell_type": "code",
   "execution_count": 25,
   "id": "56815911",
   "metadata": {},
   "outputs": [
    {
     "name": "stdout",
     "output_type": "stream",
     "text": [
      "초기 손실: 68.842\n",
      "스텝 000에서 손실: 66.142\n",
      "스텝 020에서 손실: 29.921\n",
      "스텝 040에서 손실: 13.848\n",
      "스텝 060에서 손실: 6.715\n",
      "스텝 080에서 손실: 3.550\n",
      "스텝 100에서 손실: 2.145\n",
      "스텝 120에서 손실: 1.521\n",
      "스텝 140에서 손실: 1.244\n",
      "스텝 160에서 손실: 1.122\n",
      "스텝 180에서 손실: 1.067\n",
      "스텝 200에서 손실: 1.043\n",
      "스텝 220에서 손실: 1.032\n",
      "스텝 240에서 손실: 1.027\n",
      "스텝 260에서 손실: 1.025\n",
      "스텝 280에서 손실: 1.024\n",
      "최종 손실: 1.024\n",
      "W = 3.0219638347625732, B = 2.0473251342773438\n"
     ]
    }
   ],
   "source": [
    "class Model(tf.keras.Model):\n",
    "    def __init__(self):\n",
    "        super(Model, self).__init__()\n",
    "        self.W = tf.Variable(5., name='weight')\n",
    "        self.B = tf.Variable(10., name='bias')\n",
    "    def call(self, inputs):\n",
    "        return inputs * self.W + self.B\n",
    "\n",
    "# 약 3 * x + 2개의 점으로 구성된 실험 데이터\n",
    "NUM_EXAMPLES = 2000\n",
    "training_inputs = tf.random.normal([NUM_EXAMPLES])\n",
    "noise = tf.random.normal([NUM_EXAMPLES])\n",
    "training_outputs = training_inputs * 3 + 2 + noise\n",
    "\n",
    "# 최적화할 손실함수\n",
    "def loss(model, inputs, targets):\n",
    "    error = model(inputs) - targets\n",
    "    return tf.reduce_mean(tf.square(error))\n",
    "\n",
    "def grad(model, inputs, targets):\n",
    "    with tf.GradientTape() as tape:\n",
    "        loss_value = loss(model, inputs, targets)\n",
    "    return tape.gradient(loss_value, [model.W, model.B])\n",
    "\n",
    "# 정의:\n",
    "# 1. 모델\n",
    "# 2. 모델 파라미터에 대한 손실 함수의 미분\n",
    "# 3. 미분에 기초한 변수 업데이트 전략\n",
    "model = Model()\n",
    "optimizer = tf.keras.optimizers.SGD(learning_rate=0.01)\n",
    "\n",
    "print(\"초기 손실: {:.3f}\".format(loss(model, training_inputs, training_outputs)))\n",
    "\n",
    "# 반복 훈련\n",
    "for i in range(300):\n",
    "    grads = grad(model, training_inputs, training_outputs)\n",
    "    optimizer.apply_gradients(zip(grads, [model.W, model.B]))\n",
    "    if i % 20 == 0:\n",
    "        print(\"스텝 {:03d}에서 손실: {:.3f}\".format(i, loss(model, training_inputs, training_outputs)))\n",
    "\n",
    "print(\"최종 손실: {:.3f}\".format(loss(model, training_inputs, training_outputs)))\n",
    "print(\"W = {}, B = {}\".format(model.W.numpy(), model.B.numpy()))"
   ]
  },
  {
   "cell_type": "markdown",
   "id": "597734f8",
   "metadata": {},
   "source": [
    "## 즉시 실행에서 상태를 위한 객체 사용\n",
    "\n",
    "\n",
    "텐서플로 1.* 그래프 실행 -> 프로그램 상태는 전역 컬렉션에 저장되고. 수명은 `tf.Session` 객체에 의해 관리 <br>\n",
    "반면, 즉시 실행에서의 상태 객체 수명은 그와 관련된 파이썬 객체 수명에 의해 결정됨"
   ]
  },
  {
   "cell_type": "markdown",
   "id": "d9121ca8",
   "metadata": {},
   "source": [
    "### 변수는 객체다\n",
    "\n",
    "\n",
    "* 즉시 실행에서의 변수 : 객체의 마지막 참조가 제거될 때까지 유지되고, 그 이후에 삭제"
   ]
  },
  {
   "cell_type": "code",
   "execution_count": 26,
   "id": "fa4d8b1a",
   "metadata": {},
   "outputs": [],
   "source": [
    "if tf.config.experimental.list_physical_devices(\"GPU\"):\n",
    "    with tf.device(\"gpu:0\"):\n",
    "        print(\"GPU 사용 가능\")\n",
    "        v = tf.Variable(tf.random.normal([1000, 1000]))\n",
    "        v = None  # v는 더이상 GPU 메모리를 사용하지 않음"
   ]
  },
  {
   "cell_type": "markdown",
   "id": "ddbeebe6",
   "metadata": {},
   "source": [
    "### 객체 기반의 저장"
   ]
  },
  {
   "cell_type": "markdown",
   "id": "328c6cb7",
   "metadata": {},
   "source": [
    "* `tf.train.Checkpoint`\n",
    "    - `tf.Variable`을 체크포인트 파일로 저장하거나 체크포인트 파일에서 복구 가능\n",
    "    - 모델을 저장하거나 읽어들이기 위해, 숨겨진 변수를 요구하지 않고 객체 내부 상태를 저장\n",
    "    - 옵티마이저와 모델, 전역 단계 상태를 기록하려면 `tf.train.Checkpoint`에 전달하면 됨"
   ]
  },
  {
   "cell_type": "code",
   "execution_count": 30,
   "id": "5089b37d",
   "metadata": {},
   "outputs": [],
   "source": [
    "x = tf.Variable(10.)\n",
    "checkpoint = tf.train.Checkpoint(x=x)"
   ]
  },
  {
   "cell_type": "code",
   "execution_count": 31,
   "id": "a28df9c0",
   "metadata": {},
   "outputs": [
    {
     "data": {
      "text/plain": [
       "'./ckpt/-1'"
      ]
     },
     "execution_count": 31,
     "metadata": {},
     "output_type": "execute_result"
    }
   ],
   "source": [
    "x.assign(2.)   # 변수에 새로운 값을 할당하고 저장\n",
    "checkpoint_path = './ckpt/'\n",
    "checkpoint.save('./ckpt/')"
   ]
  },
  {
   "cell_type": "code",
   "execution_count": 32,
   "id": "b9d1d0a3",
   "metadata": {},
   "outputs": [
    {
     "name": "stdout",
     "output_type": "stream",
     "text": [
      "<tf.Variable 'Variable:0' shape=() dtype=float32, numpy=2.0>\n"
     ]
    }
   ],
   "source": [
    "x.assign(11.)  # 저장한 후에 변수 변경\n",
    "\n",
    "# 체크포인트로부터 값을 복구\n",
    "checkpoint.restore(tf.train.latest_checkpoint(checkpoint_path))\n",
    "\n",
    "print(x)  # => 2.0"
   ]
  },
  {
   "cell_type": "code",
   "execution_count": 34,
   "id": "85436831",
   "metadata": {},
   "outputs": [
    {
     "data": {
      "text/plain": [
       "<tensorflow.python.checkpoint.checkpoint.CheckpointLoadStatus at 0x1b70372e0a0>"
      ]
     },
     "execution_count": 34,
     "metadata": {},
     "output_type": "execute_result"
    }
   ],
   "source": [
    "import os\n",
    "\n",
    "# 모델 정의\n",
    "model = tf.keras.Sequential([\n",
    "  tf.keras.layers.Conv2D(16,[3,3], activation='relu'),\n",
    "  tf.keras.layers.GlobalAveragePooling2D(),\n",
    "  tf.keras.layers.Dense(10)\n",
    "])\n",
    "\n",
    "# 옵티마이저\n",
    "optimizer = tf.keras.optimizers.Adam(learning_rate=0.001)\n",
    "\n",
    "# 체크포인트\n",
    "checkpoint_dir = 'path/to/model_dir'\n",
    "\n",
    "if not os.path.exists(checkpoint_dir):\n",
    "    os.makedirs(checkpoint_dir)\n",
    "checkpoint_prefix = os.path.join(checkpoint_dir, \"ckpt\")\n",
    "\n",
    "root = tf.train.Checkpoint(optimizer=optimizer,\n",
    "                           model=model)\n",
    "\n",
    "root.save(checkpoint_prefix)\n",
    "root.restore(tf.train.latest_checkpoint(checkpoint_dir))"
   ]
  },
  {
   "cell_type": "markdown",
   "id": "ca4a3632",
   "metadata": {},
   "source": [
    "★ Note : 대부분의 반복 훈련 과정에서 변수는 `tf.train.Checkpoint.restore`가 호출된 이후 생성. 이 변수는 생성되자마자 복원될 것이므로, 체크포인트가 완벽히 적재되어있다는 것을 보장받을 수 있음."
   ]
  },
  {
   "cell_type": "markdown",
   "id": "e2d6f283",
   "metadata": {},
   "source": [
    "### 객체 지향형 지표"
   ]
  },
  {
   "cell_type": "markdown",
   "id": "8fd9ee5a",
   "metadata": {},
   "source": [
    "* `tf.keras.metrics` : 객체로 저장\n",
    "    - 새로운 데이터를 객체에 전달하여 지표 수정\n",
    "    - 결과는 `tf.keras.metrics.result` 메서드를 사용해 얻음"
   ]
  },
  {
   "cell_type": "code",
   "execution_count": 35,
   "id": "e920b2d6",
   "metadata": {},
   "outputs": [
    {
     "data": {
      "text/plain": [
       "<tf.Tensor: shape=(), dtype=float32, numpy=5.5>"
      ]
     },
     "execution_count": 35,
     "metadata": {},
     "output_type": "execute_result"
    }
   ],
   "source": [
    "m = tf.keras.metrics.Mean(\"loss\")\n",
    "m(0)\n",
    "m(5)\n",
    "m.result()  # => 2.5\n",
    "m([8, 9])\n",
    "m.result()  # => 5.5"
   ]
  },
  {
   "cell_type": "markdown",
   "id": "751cbb0b",
   "metadata": {},
   "source": [
    "### 서머리(summary)와 텐서보드"
   ]
  },
  {
   "cell_type": "markdown",
   "id": "6f0b3565",
   "metadata": {},
   "source": [
    "* 텐서보드 : 훈련과정에서 모델을 파악하거나 디버깅하고 최적화하기 위해 사용하는 시각화 도구\n",
    "\n",
    "\n",
    "* `tf.summary`\n",
    "    - 즉시 실행에서 변수의 서머리 정보를 기록하기 위해 사용\n",
    "    - 예를 들어, 매 100번째 훈련마다 loss의 서머리 정보를 기록"
   ]
  },
  {
   "cell_type": "code",
   "execution_count": 36,
   "id": "920d0a13",
   "metadata": {},
   "outputs": [],
   "source": [
    "logdir = \"./tb/\"\n",
    "writer = tf.summary.create_file_writer(logdir)\n",
    "\n",
    "with writer.as_default():  # 또는 반복 전에 writer.set_as_default()를 호출\n",
    "    for i in range(1000):\n",
    "        step = i + 1\n",
    "        # 실제 훈련 함수로 손실을 계산\n",
    "        loss = 1 - 0.001 * step\n",
    "        if step % 100 == 0:\n",
    "            tf.summary.scalar('손실', loss, step=step)"
   ]
  },
  {
   "cell_type": "markdown",
   "id": "c521b916",
   "metadata": {},
   "source": [
    "## 자동 미분 관련 고급편"
   ]
  },
  {
   "cell_type": "markdown",
   "id": "778413d5",
   "metadata": {},
   "source": [
    "### 동적 모델\n",
    "\n",
    "* `tf.GradientTape` : 동적인 모델에서도 사용 가능\n",
    "\n",
    "\n",
    "##### (예) 역추적 길찾기 알고리즘"
   ]
  },
  {
   "cell_type": "code",
   "execution_count": 37,
   "id": "b5d7a66d",
   "metadata": {},
   "outputs": [],
   "source": [
    "def line_search_step(fn, init_x, rate=1.0):\n",
    "    with tf.GradientTape() as tape:\n",
    "        # 변수는 자동적으로 기록되지만 텐서는 사용자가 스스로 확인해야 함\n",
    "        tape.watch(init_x)\n",
    "        value = fn(init_x)\n",
    "    grad = tape.gradient(value, init_x)\n",
    "    grad_norm = tf.reduce_sum(grad * grad)\n",
    "    init_value = value\n",
    "    while value > init_value - rate * grad_norm:\n",
    "        x = init_x - rate * grad\n",
    "        value = fn(x)\n",
    "        rate /= 2.0\n",
    "    return x, value"
   ]
  },
  {
   "cell_type": "markdown",
   "id": "8436e071",
   "metadata": {},
   "source": [
    "### 사용자 정의 그래디언트\n",
    "\n",
    "* 그래디언트를 재정의(override)하는 가장 쉬운 방법\n",
    "* 정방향 함수 안에서 입력값 또는 출력값, 중간값과 관련된 그래디언트를 정의해야 함\n",
    "* 일반적으로 연산에 대해 수치적으로(numerically) 안정된 그래디언트를 제공하기 위해 사용\n",
    "\n",
    "##### (예) 역전파 과정 : 그래디언트 놈(norm)을 크리핑(clip)하는 가장 쉬운 방법"
   ]
  },
  {
   "cell_type": "code",
   "execution_count": 38,
   "id": "464ba88f",
   "metadata": {},
   "outputs": [],
   "source": [
    "@tf.custom_gradient\n",
    "def clip_gradient_by_norm(x, norm):\n",
    "    y = tf.identity(x)\n",
    "    def grad_fn(dresult):\n",
    "        return [tf.clip_by_norm(dresult, norm), None]\n",
    "    return y, grad_fn"
   ]
  },
  {
   "cell_type": "code",
   "execution_count": 40,
   "id": "38737187",
   "metadata": {},
   "outputs": [],
   "source": [
    "def log1pexp(x):\n",
    "    return tf.math.log(1 + tf.exp(x))\n",
    "\n",
    "def grad_log1pexp(x):\n",
    "    with tf.GradientTape() as tape:\n",
    "        tape.watch(x)\n",
    "        value = log1pexp(x)\n",
    "    return tape.gradient(value, x)"
   ]
  },
  {
   "cell_type": "code",
   "execution_count": 41,
   "id": "75ba19e3",
   "metadata": {},
   "outputs": [
    {
     "data": {
      "text/plain": [
       "0.5"
      ]
     },
     "execution_count": 41,
     "metadata": {},
     "output_type": "execute_result"
    }
   ],
   "source": [
    "# 그래디언트 계산은 x = 0일 때 잘 동작\n",
    "grad_log1pexp(tf.constant(0.)).numpy()"
   ]
  },
  {
   "cell_type": "code",
   "execution_count": 42,
   "id": "44e4a668",
   "metadata": {},
   "outputs": [
    {
     "data": {
      "text/plain": [
       "nan"
      ]
     },
     "execution_count": 42,
     "metadata": {},
     "output_type": "execute_result"
    }
   ],
   "source": [
    "# 그러나, x = 100일 때 수치적으로 불안정하기 때문에 실패\n",
    "grad_log1pexp(tf.constant(100.)).numpy()"
   ]
  },
  {
   "cell_type": "markdown",
   "id": "9245c3a3",
   "metadata": {},
   "source": [
    "`log1pexp` 함수\n",
    "- 이론적으로 사용자 그래디언트를 활용해 간결해질 수 있음.\n",
    "- 불필요한 계산을 제거함으로써, 계산을 조금 더 효율적으로 하기 위해, 정방향 경로 안에서 계산된 `tf.exp(x)` 값을 재사용함"
   ]
  },
  {
   "cell_type": "code",
   "execution_count": 43,
   "id": "542530f3",
   "metadata": {},
   "outputs": [],
   "source": [
    "@tf.custom_gradient\n",
    "def log1pexp(x):\n",
    "    e = tf.exp(x)\n",
    "    def grad(dy):\n",
    "        return dy * (1 - 1 / (1 + e))\n",
    "    return tf.math.log(1 + e), grad\n",
    "\n",
    "def grad_log1pexp(x):\n",
    "    with tf.GradientTape() as tape:\n",
    "        tape.watch(x)\n",
    "        value = log1pexp(x)\n",
    "    return tape.gradient(value, x)"
   ]
  },
  {
   "cell_type": "code",
   "execution_count": 44,
   "id": "041ea71b",
   "metadata": {},
   "outputs": [
    {
     "data": {
      "text/plain": [
       "0.5"
      ]
     },
     "execution_count": 44,
     "metadata": {},
     "output_type": "execute_result"
    }
   ],
   "source": [
    "# 전처럼, 그래디언트 계산은 x = 0일 때 잘 동작\n",
    "grad_log1pexp(tf.constant(0.)).numpy()"
   ]
  },
  {
   "cell_type": "code",
   "execution_count": 45,
   "id": "0704effe",
   "metadata": {},
   "outputs": [
    {
     "data": {
      "text/plain": [
       "1.0"
      ]
     },
     "execution_count": 45,
     "metadata": {},
     "output_type": "execute_result"
    }
   ],
   "source": [
    "# 그래디언트 계산은 x = 100일 때 역시 잘 동작\n",
    "grad_log1pexp(tf.constant(100.)).numpy()"
   ]
  },
  {
   "cell_type": "markdown",
   "id": "6649db32",
   "metadata": {},
   "source": [
    "## 성능\n",
    "\n",
    "* 즉시 실행에서 계산은 자동으로 GPU로 분배\n",
    "* 만약, 계산 분배를 사용자가 제어하고 싶을 경우, 그 부분을 `tf.device('/gpu:0)` 블록(CPU도 동일)로 감싸기"
   ]
  },
  {
   "cell_type": "code",
   "execution_count": 46,
   "id": "279ac99e",
   "metadata": {},
   "outputs": [
    {
     "name": "stdout",
     "output_type": "stream",
     "text": [
      "(1000, 1000) 크기 행렬을 자기 자신과 200번 곱했을 때 걸리는 시간:\n",
      "CPU: 1.5453433990478516 초\n",
      "GPU: 없음\n"
     ]
    }
   ],
   "source": [
    "import time\n",
    "\n",
    "def measure(x, steps):\n",
    "    # 텐서플로는 처음 사용할 때 GPU를 초기화, 시간계산에서 제외\n",
    "    tf.matmul(x, x)\n",
    "    start = time.time()\n",
    "    for i in range(steps):\n",
    "        x = tf.matmul(x, x)\n",
    "  \n",
    "    # tf.matmul는 행렬 곱셈을 완료하기 전에 결과를 반환할 수 있습니다\n",
    "    # (예, CUDA 스트림 대기열에 연산을 추가한 후에 결과를 반환할 수 있다).\n",
    "    # 아래 x.numpy() 호출은 대기열에 추가된 모든 연산이 완료될 것임을 보장합니다\n",
    "    # (그리고 그 결과가 호스트 메모리에 복사될 것이고,\n",
    "    # 그래서 matnul 연산시간보다는 조금 많은 연산시간이\n",
    "    # 포함됩니다).\n",
    "    _ = x.numpy()\n",
    "    end = time.time()\n",
    "    return end - start\n",
    "\n",
    "shape = (1000, 1000)\n",
    "steps = 200\n",
    "print(\"{} 크기 행렬을 자기 자신과 {}번 곱했을 때 걸리는 시간:\".format(shape, steps))\n",
    "\n",
    "# CPU에서 실행:\n",
    "with tf.device(\"/cpu:0\"):\n",
    "    print(\"CPU: {} 초\".format(measure(tf.random.normal(shape), steps)))\n",
    "\n",
    "# GPU에서 실행, 가능하다면:\n",
    "if tf.config.experimental.list_physical_devices(\"GPU\"):\n",
    "    with tf.device(\"/gpu:0\"):\n",
    "        print(\"GPU: {} 초\".format(measure(tf.random.normal(shape), steps)))\n",
    "else:\n",
    "    print(\"GPU: 없음\")"
   ]
  },
  {
   "cell_type": "markdown",
   "id": "d5adc775",
   "metadata": {},
   "source": [
    "`tf.Tensor` 객체는 실제로 그 연산을 수행할 다른 디바이스로 복사 가능"
   ]
  },
  {
   "cell_type": "code",
   "execution_count": 47,
   "id": "b4dc76b6",
   "metadata": {},
   "outputs": [],
   "source": [
    "if tf.config.experimental.list_physical_devices(\"GPU\"):\n",
    "    x = tf.random.normal([10, 10])\n",
    "\n",
    "    x_gpu0 = x.gpu()\n",
    "    x_cpu = x.cpu()\n",
    "\n",
    "    _ = tf.matmul(x_cpu, x_cpu)    # CPU에서 실행\n",
    "    _ = tf.matmul(x_gpu0, x_gpu0)  # GPU:0에서 실행"
   ]
  },
  {
   "cell_type": "markdown",
   "id": "6675de0f",
   "metadata": {},
   "source": [
    "### 벤치마크\n",
    "\n",
    "GPU에서 실행되는 ResNet50 같은 계산량 많은 모델에서, 즉시 실행 성능은 `tf.function`과 비교될 수 있음.<br> \n",
    "\n",
    "이러한 차이는 계산량이 작은 모델인 경우 더 커지고, 수많은 작은 연산으로 구성된 모델은 자주 반복되는 부분을 최적화하는 사례도 있음"
   ]
  },
  {
   "cell_type": "markdown",
   "id": "3f8f166c",
   "metadata": {},
   "source": [
    "## 함수 활용\n",
    "\n",
    "즉시 실행이 개발과 디버깅 과정을 대화형(interactive)으로 만들어 주지만, 텐서플로 1.x 형태 그래프 실행은 학습의 분산과 성능, 운영 배포에 장점을 가지고 있음 <br>\n",
    "\n",
    "이러한 차이를 해소하기 위해, 텐서플로 2.0에서는 `tf.function` API를 도입"
   ]
  }
 ],
 "metadata": {
  "kernelspec": {
   "display_name": "TIL",
   "language": "python",
   "name": "til"
  },
  "language_info": {
   "codemirror_mode": {
    "name": "ipython",
    "version": 3
   },
   "file_extension": ".py",
   "mimetype": "text/x-python",
   "name": "python",
   "nbconvert_exporter": "python",
   "pygments_lexer": "ipython3",
   "version": "3.9.12"
  }
 },
 "nbformat": 4,
 "nbformat_minor": 5
}
