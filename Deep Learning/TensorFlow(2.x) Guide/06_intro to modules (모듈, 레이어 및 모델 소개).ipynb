{
 "cells": [
  {
   "cell_type": "markdown",
   "id": "ac017630",
   "metadata": {},
   "source": [
    "# 모듈, 레이어 및 모델 소개"
   ]
  },
  {
   "cell_type": "markdown",
   "id": "32fbe97d",
   "metadata": {},
   "source": [
    "머신러닝 TensorFlow를 수행하려면 모델을 정의, 저장 및 복원해야 할 수 있음\n",
    "\n",
    "모델 ?\n",
    "- 텐서에서 무언가를 계산하는 함수 (정방향)\n",
    "- 훈련에 대한 응답으로 업데이트할 수 있는 일부 변수"
   ]
  },
  {
   "cell_type": "code",
   "execution_count": 1,
   "id": "04744d8c",
   "metadata": {},
   "outputs": [],
   "source": [
    "import tensorflow as tf\n",
    "from datetime import datetime\n",
    "\n",
    "# 현재 폴더에 logs 폴더에 기록\n",
    "%load_ext tensorboard"
   ]
  },
  {
   "cell_type": "markdown",
   "id": "9dc54edf",
   "metadata": {},
   "source": [
    "## TensorFlow에서 모델 및 레이어 정의하기"
   ]
  },
  {
   "cell_type": "markdown",
   "id": "561d7d58",
   "metadata": {},
   "source": [
    "`tf.Module`\n",
    "\n",
    "- 대부분의 모델은 레이어로 구성\n",
    "- 레이어 : 재사용, 훈련 가능한 변수를 가진 수학적 구조의 함수\n",
    "    - Keras 또는 Sonnet과 같은 레이어 및 모델 상위 수준 구현은 이 클래스를 기반으로 구축"
   ]
  },
  {
   "cell_type": "code",
   "execution_count": 2,
   "id": "9f633824",
   "metadata": {},
   "outputs": [
    {
     "data": {
      "text/plain": [
       "<tf.Tensor: shape=(), dtype=float32, numpy=30.0>"
      ]
     },
     "execution_count": 2,
     "metadata": {},
     "output_type": "execute_result"
    }
   ],
   "source": [
    "# 스칼라 텐서에서 동작하는 매우 간단한 tf.Module\n",
    "class SimpleModule(tf.Module):\n",
    "    def __init__(self, name=None):\n",
    "        super().__init__(name=name)\n",
    "        self.a_variable = tf.Variable(5.0, name=\"train_me\")  # tf.Variable : 값 변경이 가능한 변수\n",
    "        self.non_trainable_variable = tf.Variable(5.0, trainable=False, name=\"do_not_train_me\")\n",
    "    \n",
    "    # 원하는 함수를 모델로 호출 가능\n",
    "    def __call__(self, x):\n",
    "        return self.a_variable * x + self.non_trainable_variable\n",
    "\n",
    "simple_module = SimpleModule(name=\"simple\")\n",
    "simple_module(tf.constant(5.0))"
   ]
  },
  {
   "cell_type": "code",
   "execution_count": 3,
   "id": "124ecaf3",
   "metadata": {},
   "outputs": [
    {
     "name": "stdout",
     "output_type": "stream",
     "text": [
      "trainable variables: (<tf.Variable 'train_me:0' shape=() dtype=float32, numpy=5.0>,)\n",
      "all variables: (<tf.Variable 'train_me:0' shape=() dtype=float32, numpy=5.0>, <tf.Variable 'do_not_train_me:0' shape=() dtype=float32, numpy=5.0>)\n"
     ]
    }
   ],
   "source": [
    "# All trainable variables\n",
    "print(\"trainable variables:\", simple_module.trainable_variables)\n",
    "\n",
    "# Every variable\n",
    "print(\"all variables:\", simple_module.variables)"
   ]
  },
  {
   "cell_type": "markdown",
   "id": "1b8332c1",
   "metadata": {},
   "source": [
    "- `tf.keras.layers.Layer` 및 `tf.keras.Model`의 기본 클래스이므로 여기에 표시되는 모든 항목도 Keras에 적용\n",
    "\n",
    "\n",
    "- `tf.Module`을 하위 클래스화 함으로써, 이 객체의 속성에 할당된 `tf.Variable` 또는 `tf.Module` 인스턴스가 자동으로 수집됨. 이를 통해, 변수를 저장하고 업로드 할 수 있고, `tf.Module` 모음을 만들 수 있음"
   ]
  },
  {
   "cell_type": "markdown",
   "id": "0f5b1310",
   "metadata": {},
   "source": [
    "모듈로 구성된 2개 레이어 선형 레이어 모델"
   ]
  },
  {
   "cell_type": "code",
   "execution_count": 4,
   "id": "be3ef503",
   "metadata": {},
   "outputs": [
    {
     "name": "stdout",
     "output_type": "stream",
     "text": [
      "Model results: tf.Tensor([[0.        3.0256922]], shape=(1, 2), dtype=float32)\n"
     ]
    }
   ],
   "source": [
    "# 밀집 (선형) 레이어\n",
    "class Dense(tf.Module):\n",
    "    def __init__(self, in_features, out_features, name=None):\n",
    "        super().__init__(name=name)\n",
    "        self.w = tf.Variable(\n",
    "            tf.random.normal([in_features, out_features]), name='w')\n",
    "        self.b = tf.Variable(tf.zeros([out_features]), name='b')\n",
    "    def __call__(self, x):\n",
    "        y = tf.matmul(x, self.w) + self.b\n",
    "        return tf.nn.relu(y)\n",
    "\n",
    "# 두 개의 레이어 인스턴스를 만들고 적용하는 전체 모델\n",
    "class SequentialModule(tf.Module):\n",
    "    def __init__(self, name=None):\n",
    "        super().__init__(name=name)\n",
    "\n",
    "        self.dense_1 = Dense(in_features=3, out_features=3)\n",
    "        self.dense_2 = Dense(in_features=3, out_features=2)\n",
    "\n",
    "    def __call__(self, x):\n",
    "        x = self.dense_1(x)\n",
    "        return self.dense_2(x)\n",
    "\n",
    "# 모델 만들기\n",
    "my_model = SequentialModule(name=\"the_model\")\n",
    "\n",
    "# 모델 결과 -> 랜덤 값\n",
    "print(\"Model results:\", my_model(tf.constant([[2.0, 2.0, 2.0]])))"
   ]
  },
  {
   "cell_type": "markdown",
   "id": "492224d5",
   "metadata": {},
   "source": [
    "- `tf.Module` 인스턴스는 `tf.Variable` 또는 할당된 `tf.Module` 인스턴스를 재귀적으로 자동 수집. 단일 모델 인스턴스로 `tf.Module` 모음을 관리하고 전체 모델을 저장하고 로드할 수 있음"
   ]
  },
  {
   "cell_type": "code",
   "execution_count": 5,
   "id": "304a467a",
   "metadata": {},
   "outputs": [
    {
     "name": "stdout",
     "output_type": "stream",
     "text": [
      "Submodules: (<__main__.Dense object at 0x0000026536C345E0>, <__main__.Dense object at 0x0000026536DAA6A0>)\n"
     ]
    }
   ],
   "source": [
    "print(\"Submodules:\", my_model.submodules)"
   ]
  },
  {
   "cell_type": "code",
   "execution_count": 6,
   "id": "445487eb",
   "metadata": {},
   "outputs": [
    {
     "name": "stdout",
     "output_type": "stream",
     "text": [
      "<tf.Variable 'b:0' shape=(3,) dtype=float32, numpy=array([0., 0., 0.], dtype=float32)> \n",
      "\n",
      "<tf.Variable 'w:0' shape=(3, 3) dtype=float32, numpy=\n",
      "array([[ 0.5434053 , -1.0995396 , -0.21144496],\n",
      "       [-0.24034368,  1.9589524 , -0.5495944 ],\n",
      "       [ 0.37318102,  0.70389444,  0.2470009 ]], dtype=float32)> \n",
      "\n",
      "<tf.Variable 'b:0' shape=(2,) dtype=float32, numpy=array([0., 0.], dtype=float32)> \n",
      "\n",
      "<tf.Variable 'w:0' shape=(3, 2) dtype=float32, numpy=\n",
      "array([[-1.0227125 , -0.10517052],\n",
      "       [-0.9902278 ,  1.0132153 ],\n",
      "       [ 0.93535393, -0.29339275]], dtype=float32)> \n",
      "\n"
     ]
    }
   ],
   "source": [
    "for var in my_model.variables:\n",
    "    print(var, \"\\n\")"
   ]
  },
  {
   "cell_type": "markdown",
   "id": "03d89a56",
   "metadata": {},
   "source": [
    "### 변수 생성 연기하기"
   ]
  },
  {
   "cell_type": "markdown",
   "id": "79f98129",
   "metadata": {},
   "source": [
    "- 레이어에 대한 입력 및 출력 크기를 모두 정의해야 함. w 변수가 알려진 형상을 가지므로 할당할 수 있음\n",
    "\n",
    "\n",
    "- 특정 입력 형상으로 모듈이 처음 호출될 때까지 변수 생성을 연기하면 입력 크기를 미리 지정할 필요 없음\n",
    "\n",
    "\n",
    "- 이러한 유연성으로 인해, TensorFlow 레이어는 `tf.keras.layers.Dense`에서와 같이 출력의 형상을 지정하면 됨"
   ]
  },
  {
   "cell_type": "code",
   "execution_count": 7,
   "id": "0547cbd5",
   "metadata": {},
   "outputs": [],
   "source": [
    "class FlexibleDenseModule(tf.Module):\n",
    "    # Note: No need for `in_features`\n",
    "    def __init__(self, out_features, name=None):\n",
    "        super().__init__(name=name)\n",
    "        self.is_built = False\n",
    "        self.out_features = out_features\n",
    "\n",
    "    def __call__(self, x):\n",
    "        # Create variables on first call.\n",
    "        if not self.is_built:\n",
    "            self.w = tf.Variable(\n",
    "                tf.random.normal([x.shape[-1], self.out_features]), name='w')\n",
    "            self.b = tf.Variable(tf.zeros([self.out_features]), name='b')\n",
    "            self.is_built = True\n",
    "\n",
    "        y = tf.matmul(x, self.w) + self.b\n",
    "        return tf.nn.relu(y)"
   ]
  },
  {
   "cell_type": "code",
   "execution_count": 8,
   "id": "141c484e",
   "metadata": {},
   "outputs": [
    {
     "name": "stdout",
     "output_type": "stream",
     "text": [
      "Model results: tf.Tensor([[3.4010122 0.7497617]], shape=(1, 2), dtype=float32)\n"
     ]
    }
   ],
   "source": [
    "# Used in a module\n",
    "class MySequentialModule(tf.Module):\n",
    "    def __init__(self, name=None):\n",
    "        super().__init__(name=name)\n",
    "        \n",
    "        self.dense_1 = FlexibleDenseModule(out_features=3)\n",
    "        self.dense_2 = FlexibleDenseModule(out_features=2)\n",
    "\n",
    "    def __call__(self, x):\n",
    "        x = self.dense_1(x)\n",
    "        return self.dense_2(x)\n",
    "\n",
    "my_model = MySequentialModule(name=\"the_model\")\n",
    "print(\"Model results:\", my_model(tf.constant([[2.0, 2.0, 2.0]])))"
   ]
  },
  {
   "cell_type": "markdown",
   "id": "e75e83d5",
   "metadata": {},
   "source": [
    "## 가중치 저장하기"
   ]
  },
  {
   "cell_type": "markdown",
   "id": "0f07a9da",
   "metadata": {},
   "source": [
    "`tf.Module`을 checkpoint와 SaveModel로 모두 저장할 수 있음\n",
    "\n",
    "* 체크포인트\n",
    "    - 가중치 (즉, 모듈 및 하위 모듈 내부의 변수 세트 값)\n",
    "    - 데이터, 메타데이터용 인덱스 파일 두 가지로 구성\n",
    "        - 데이터 : 변수 값, 해당 속성 조회 경로 포함\n",
    "        - 인덱스 파일 : 실제 저장된 항목과 체크포인트의 번호 추적\n",
    "    - 내부 살펴보기 : `list_variables(chkp_path)`\n",
    "\n",
    "\n",
    "* 이때, 분산(다중 머신) 훈련 중에는 변수 모음이 샤딩될 수 있으므로 번호가 매겨짐 (예: '00000-of-00001'). But, 이 경우에는 샤드가 하나만 있음\n",
    "\n",
    "\n",
    "* 모델을 다시 로드하면 Python 객체의 값을 덮어씀\n",
    "\n",
    "\n",
    "* cf) `tf.checkpoint.CheckpointManager` : 체크포인트 관리를 쉽게 만들어주는 도우미 클래스"
   ]
  },
  {
   "cell_type": "code",
   "execution_count": 9,
   "id": "90c26120",
   "metadata": {},
   "outputs": [
    {
     "data": {
      "text/plain": [
       "'my_checkpoint'"
      ]
     },
     "execution_count": 9,
     "metadata": {},
     "output_type": "execute_result"
    }
   ],
   "source": [
    "chkp_path = \"my_checkpoint\"\n",
    "checkpoint = tf.train.Checkpoint(model=my_model)\n",
    "checkpoint.write(chkp_path)"
   ]
  },
  {
   "cell_type": "code",
   "execution_count": 10,
   "id": "1e9ab724",
   "metadata": {},
   "outputs": [
    {
     "name": "stdout",
     "output_type": "stream",
     "text": [
      " D 드라이브의 볼륨: 로컬 디스크\n",
      " 볼륨 일련 번호: 96DD-2BDE\n",
      "\n",
      " D:\\TIL\\Deep Learning\\TensorFlow(2.x) Guide 디렉터리\n",
      "\n",
      "2023-04-14  오후 09:09               459 my_checkpoint.data-00000-of-00001\n",
      "2023-04-14  오후 09:09               362 my_checkpoint.index\n",
      "               2개 파일                 821 바이트\n",
      "               0개 디렉터리  182,716,502,016 바이트 남음\n"
     ]
    }
   ],
   "source": [
    "ls my_checkpoint*"
   ]
  },
  {
   "cell_type": "code",
   "execution_count": 11,
   "id": "29549a1f",
   "metadata": {},
   "outputs": [
    {
     "data": {
      "text/plain": [
       "[('_CHECKPOINTABLE_OBJECT_GRAPH', []),\n",
       " ('model/dense_1/b/.ATTRIBUTES/VARIABLE_VALUE', [3]),\n",
       " ('model/dense_1/w/.ATTRIBUTES/VARIABLE_VALUE', [3, 3]),\n",
       " ('model/dense_2/b/.ATTRIBUTES/VARIABLE_VALUE', [2]),\n",
       " ('model/dense_2/w/.ATTRIBUTES/VARIABLE_VALUE', [3, 2])]"
      ]
     },
     "execution_count": 11,
     "metadata": {},
     "output_type": "execute_result"
    }
   ],
   "source": [
    "tf.train.list_variables(chkp_path)"
   ]
  },
  {
   "cell_type": "code",
   "execution_count": 12,
   "id": "db8ab8b6",
   "metadata": {},
   "outputs": [
    {
     "data": {
      "text/plain": [
       "<tf.Tensor: shape=(1, 2), dtype=float32, numpy=array([[3.4010122, 0.7497617]], dtype=float32)>"
      ]
     },
     "execution_count": 12,
     "metadata": {},
     "output_type": "execute_result"
    }
   ],
   "source": [
    "new_model = MySequentialModule()\n",
    "new_checkpoint = tf.train.Checkpoint(model=new_model)\n",
    "new_checkpoint.restore(\"my_checkpoint\")\n",
    "\n",
    "# Should be the same result as above\n",
    "new_model(tf.constant([[2.0, 2.0, 2.0]]))"
   ]
  },
  {
   "cell_type": "markdown",
   "id": "5c8fe530",
   "metadata": {},
   "source": [
    "## 함수 저장하기"
   ]
  },
  {
   "cell_type": "markdown",
   "id": "eb602e02",
   "metadata": {},
   "source": [
    "* TensorFlow는 원래 Python 객체 없이 모델 실행할 수 있음\n",
    "    - Python에 설명된 계산을 수행하는 방법을 알아야 하지만, 원본 코드는 없음\n",
    "    - 그래서 그래프 및 함수 소개 가이드에 설명된 그래프를 만들 수 있음\n",
    "  \n",
    "  \n",
    "* 내가 만든 모듈은 이전과 똑같이 작동. 함수에 전달된 각 고유 서명은 별도의 그래프 생성"
   ]
  },
  {
   "cell_type": "code",
   "execution_count": 13,
   "id": "d79a22d3",
   "metadata": {},
   "outputs": [],
   "source": [
    "class MySequentialModule(tf.Module):\n",
    "    def __init__(self, name=None):\n",
    "        super().__init__(name=name)\n",
    "\n",
    "        self.dense_1 = Dense(in_features=3, out_features=3)\n",
    "        self.dense_2 = Dense(in_features=3, out_features=2)\n",
    "    \n",
    "    # tf.function 데코레이터를 사용하여 위 모델에서 그래프 정의 가능\n",
    "    @tf.function\n",
    "    def __call__(self, x):\n",
    "        x = self.dense_1(x)\n",
    "        return self.dense_2(x)\n",
    "\n",
    "# You have made a model with a graph!\n",
    "my_model = MySequentialModule(name=\"the_model\")"
   ]
  },
  {
   "cell_type": "code",
   "execution_count": 14,
   "id": "9a1e7df5",
   "metadata": {},
   "outputs": [
    {
     "name": "stdout",
     "output_type": "stream",
     "text": [
      "tf.Tensor([[0.27506474 0.        ]], shape=(1, 2), dtype=float32)\n",
      "tf.Tensor(\n",
      "[[[0.27506474 0.        ]\n",
      "  [0.27506474 0.        ]]], shape=(1, 2, 2), dtype=float32)\n"
     ]
    }
   ],
   "source": [
    "print(my_model([[2.0, 2.0, 2.0]]))\n",
    "print(my_model([[[2.0, 2.0, 2.0], [2.0, 2.0, 2.0]]]))"
   ]
  },
  {
   "cell_type": "markdown",
   "id": "3b08e147",
   "metadata": {},
   "source": [
    "* TensorBoard 요약 내에서 그래프 추적하여 그래프 시각화 가능"
   ]
  },
  {
   "cell_type": "code",
   "execution_count": 15,
   "id": "fb158eb7",
   "metadata": {},
   "outputs": [
    {
     "name": "stdout",
     "output_type": "stream",
     "text": [
      "tf.Tensor([[0. 0.]], shape=(1, 2), dtype=float32)\n"
     ]
    }
   ],
   "source": [
    "# logging 세팅\n",
    "stamp = datetime.now().strftime(\"%Y%m%d-%H%M%S\")\n",
    "logdir = \"logs/func/%s\" % stamp\n",
    "writer = tf.summary.create_file_writer(logdir)\n",
    "\n",
    "# 새로운 모델 Create, 그렇지 않으면 요약된 그래프 볼 수 없음\n",
    "new_model = MySequentialModule()\n",
    "\n",
    "# Bracket(텍스트 에디터) the function call with\n",
    "# tf.summary.trace_on() and tf.summary.trace_export().\n",
    "tf.summary.trace_on(graph=True)         # 그래프 추가\n",
    "tf.profiler.experimental.start(logdir)   # 프로파일러 시작 및 중지\n",
    "\n",
    "# Call only one tf.function when tracing.\n",
    "z = print(new_model(tf.constant([[2.0, 2.0, 2.0]])))\n",
    "with writer.as_default():\n",
    "    tf.summary.trace_export(\n",
    "        name=\"my_func_trace\",\n",
    "        step=0,\n",
    "        profiler_outdir=logdir)"
   ]
  },
  {
   "cell_type": "markdown",
   "id": "ea4b1838",
   "metadata": {},
   "source": [
    "Tensorboard를 실행해 결과 추적을 확인"
   ]
  },
  {
   "cell_type": "code",
   "execution_count": 16,
   "id": "16525381",
   "metadata": {},
   "outputs": [
    {
     "data": {
      "text/html": [
       "\n",
       "      <iframe id=\"tensorboard-frame-2fe9484acd64eb16\" width=\"100%\" height=\"800\" frameborder=\"0\">\n",
       "      </iframe>\n",
       "      <script>\n",
       "        (function() {\n",
       "          const frame = document.getElementById(\"tensorboard-frame-2fe9484acd64eb16\");\n",
       "          const url = new URL(\"/\", window.location);\n",
       "          const port = 6006;\n",
       "          if (port) {\n",
       "            url.port = port;\n",
       "          }\n",
       "          frame.src = url;\n",
       "        })();\n",
       "      </script>\n",
       "    "
      ],
      "text/plain": [
       "<IPython.core.display.HTML object>"
      ]
     },
     "metadata": {},
     "output_type": "display_data"
    }
   ],
   "source": [
    "#docs_infra: no_execute\n",
    "%tensorboard --logdir logs/func"
   ]
  },
  {
   "cell_type": "markdown",
   "id": "e2154e2d",
   "metadata": {},
   "source": [
    "### SavedModel 생성하기"
   ]
  },
  {
   "cell_type": "markdown",
   "id": "911a0aab",
   "metadata": {},
   "source": [
    "* 완전히 훈련된 모델 공유 권장 방법 : `SaveModel` (함수, 가중치 모두 포함)"
   ]
  },
  {
   "cell_type": "code",
   "execution_count": 20,
   "id": "76a244a9",
   "metadata": {},
   "outputs": [
    {
     "name": "stdout",
     "output_type": "stream",
     "text": [
      "INFO:tensorflow:Assets written to: the_saved_model\\assets\n"
     ]
    }
   ],
   "source": [
    "# 방금 학습한 모델 저장 가능\n",
    "tf.saved_model.save(my_model, \"the_saved_model\")"
   ]
  },
  {
   "attachments": {
    "image.png": {
     "image/png": "[encoded data removed]"
    }
   },
   "cell_type": "markdown",
   "id": "2b491086",
   "metadata": {},
   "source": [
    "![image.png](attachment:image.png)"
   ]
  },
  {
   "cell_type": "markdown",
   "id": "a219d527",
   "metadata": {},
   "source": [
    "`save_model.pb` 파일은 함수형 `tf.Graph`를 설명하는 프로토콜 버퍼\n",
    "\n",
    "\n",
    "- 모델과 레이어는 실제로 이 표현을 생성한 클래스의 인스턴스를 만들지 않고도 이 표현에서 로드 가능 (Python 코드 사용하지 못할 때 유용)\n",
    "\n",
    "\n",
    "- 모델을 새 객체로 로드 가능 : `tf.saved_model.load(\"the_saved_model\")`\n",
    "    - new_model은 클래스 지식이 없는 내부 TensorFlow 사용자 객체\n",
    "        - *SequentialModule* 유형이 아님!\n",
    "        - 새 모델은 이미 정의된 입력 서명에서 동작하므로, 복원된 모델에 더 많은 서명 추가 불가능\n",
    "        \n",
    "        \n",
    "- 아무튼! `SavedModel`을 사용하면 `tf.Module`을 사용하여 TensorFlow 가중치와 그래프 저장 후 다시 로드 가능하다 !!"
   ]
  },
  {
   "cell_type": "code",
   "execution_count": 24,
   "id": "d33e9817",
   "metadata": {},
   "outputs": [],
   "source": [
    "new_model = tf.saved_model.load(\"the_saved_model\")"
   ]
  },
  {
   "cell_type": "code",
   "execution_count": 25,
   "id": "cea88ad2",
   "metadata": {},
   "outputs": [
    {
     "data": {
      "text/plain": [
       "False"
      ]
     },
     "execution_count": 25,
     "metadata": {},
     "output_type": "execute_result"
    }
   ],
   "source": [
    "isinstance(new_model, SequentialModule)"
   ]
  },
  {
   "cell_type": "code",
   "execution_count": 26,
   "id": "8ee8bf58",
   "metadata": {},
   "outputs": [
    {
     "name": "stdout",
     "output_type": "stream",
     "text": [
      "tf.Tensor([[0.        3.7478333]], shape=(1, 2), dtype=float32)\n",
      "tf.Tensor(\n",
      "[[[0.        3.7478333]\n",
      "  [0.        3.7478333]]], shape=(1, 2, 2), dtype=float32)\n"
     ]
    }
   ],
   "source": [
    "print(my_model([[2.0, 2.0, 2.0]]))\n",
    "print(my_model([[[2.0, 2.0, 2.0], [2.0, 2.0, 2.0]]]))"
   ]
  },
  {
   "cell_type": "markdown",
   "id": "370d55fe",
   "metadata": {},
   "source": [
    "## Keras 모델 및 레이어"
   ]
  },
  {
   "cell_type": "markdown",
   "id": "10597ea4",
   "metadata": {},
   "source": [
    "### Keras 레이어"
   ]
  },
  {
   "cell_type": "markdown",
   "id": "772ecf0d",
   "metadata": {},
   "source": [
    "`tf.keras.layers.Layer` : 모든 Keras 레이어의 기본 클래스이며, `tf.Module`에서 상속"
   ]
  },
  {
   "cell_type": "code",
   "execution_count": 27,
   "id": "114058fc",
   "metadata": {},
   "outputs": [],
   "source": [
    "class MyDense(tf.keras.layers.Layer):\n",
    "    # Adding **kwargs to support base Keras layer arguments\n",
    "    def __init__(self, in_features, out_features, **kwargs):\n",
    "        super().__init__(**kwargs)\n",
    "\n",
    "        # This will soon move to the build step; see below\n",
    "        self.w = tf.Variable(\n",
    "            tf.random.normal([in_features, out_features]), name='w')\n",
    "        self.b = tf.Variable(tf.zeros([out_features]), name='b')\n",
    "    \n",
    "    # 부모 교체 후 __call__을 call로 변경하여 모듈을 Keras 레이어로 변환 가능\n",
    "    def call(self, x):\n",
    "        y = tf.matmul(x, self.w) + self.b\n",
    "        return tf.nn.relu(y)\n",
    "\n",
    "simple_layer = MyDense(name=\"simple\", in_features=3, out_features=3)"
   ]
  },
  {
   "cell_type": "code",
   "execution_count": 28,
   "id": "be870e0f",
   "metadata": {},
   "outputs": [
    {
     "data": {
      "text/plain": [
       "<tf.Tensor: shape=(1, 3), dtype=float32, numpy=array([[0.        , 0.        , 0.75114375]], dtype=float32)>"
      ]
     },
     "execution_count": 28,
     "metadata": {},
     "output_type": "execute_result"
    }
   ],
   "source": [
    "simple_layer([[2.0, 2.0, 2.0]])\n",
    "# 결과: 기능엔 차이 없음"
   ]
  },
  {
   "cell_type": "markdown",
   "id": "eb2b8323",
   "metadata": {},
   "source": [
    "### build 단계"
   ]
  },
  {
   "cell_type": "markdown",
   "id": "07c92724",
   "metadata": {},
   "source": [
    "* 함수 정의 단계\n",
    "\n",
    "\n",
    "* `build`는 정확히 한 번만 호출되며, 입력 형상으로 호출됨. 일반적으로 변수(가중치) 만드는데 사용\n",
    "\n",
    "\n",
    "* 위의 `MyDense` 레이어를 입력 크기에 맞게 다시 작성 가능"
   ]
  },
  {
   "cell_type": "code",
   "execution_count": 29,
   "id": "e560be84",
   "metadata": {},
   "outputs": [],
   "source": [
    "class FlexibleDense(tf.keras.layers.Layer):\n",
    "    # Note the added `**kwargs`, as Keras supports many arguments\n",
    "    def __init__(self, out_features, **kwargs):\n",
    "        super().__init__(**kwargs)\n",
    "        self.out_features = out_features\n",
    "\n",
    "    def build(self, input_shape):  # Create the state of the layer (weights)\n",
    "        self.w = tf.Variable(\n",
    "          tf.random.normal([input_shape[-1], self.out_features]), name='w')\n",
    "        self.b = tf.Variable(tf.zeros([self.out_features]), name='b')\n",
    "\n",
    "    def call(self, inputs):  # Defines the computation from inputs to outputs\n",
    "        return tf.matmul(inputs, self.w) + self.b\n",
    "\n",
    "# Create the instance of the layer\n",
    "flexible_dense = FlexibleDense(out_features=3)"
   ]
  },
  {
   "cell_type": "code",
   "execution_count": 30,
   "id": "0961dede",
   "metadata": {},
   "outputs": [
    {
     "data": {
      "text/plain": [
       "[]"
      ]
     },
     "execution_count": 30,
     "metadata": {},
     "output_type": "execute_result"
    }
   ],
   "source": [
    "# 모델 빌드 안되어서 변수 없음\n",
    "flexible_dense.variables"
   ]
  },
  {
   "cell_type": "code",
   "execution_count": 31,
   "id": "e745b416",
   "metadata": {},
   "outputs": [
    {
     "name": "stdout",
     "output_type": "stream",
     "text": [
      "Model results: tf.Tensor(\n",
      "[[-1.905567   9.027017   2.591538 ]\n",
      " [-2.8583503 13.540524   3.887307 ]], shape=(2, 3), dtype=float32)\n"
     ]
    }
   ],
   "source": [
    "# 함수 호출하면 적절한 크기의 변수 할당\n",
    "print(\"Model results:\", flexible_dense(tf.constant([[2.0, 2.0, 2.0], [3.0, 3.0, 3.0]])))"
   ]
  },
  {
   "cell_type": "code",
   "execution_count": 32,
   "id": "65f6fb5e",
   "metadata": {},
   "outputs": [
    {
     "data": {
      "text/plain": [
       "[<tf.Variable 'flexible_dense/w:0' shape=(3, 3) dtype=float32, numpy=\n",
       " array([[-0.45107567,  3.1063793 , -0.9482329 ],\n",
       "        [-0.27918908,  0.48973504,  1.01694   ],\n",
       "        [-0.22251873,  0.9173938 ,  1.2270619 ]], dtype=float32)>,\n",
       " <tf.Variable 'flexible_dense/b:0' shape=(3,) dtype=float32, numpy=array([0., 0., 0.], dtype=float32)>]"
      ]
     },
     "execution_count": 32,
     "metadata": {},
     "output_type": "execute_result"
    }
   ],
   "source": [
    "flexible_dense.variables"
   ]
  },
  {
   "cell_type": "code",
   "execution_count": 33,
   "id": "740d3829",
   "metadata": {},
   "outputs": [
    {
     "name": "stdout",
     "output_type": "stream",
     "text": [
      "Failed: Exception encountered when calling layer 'flexible_dense' (type FlexibleDense).\n",
      "\n",
      "{{function_node __wrapped__MatMul_device_/job:localhost/replica:0/task:0/device:CPU:0}} Matrix size-incompatible: In[0]: [1,4], In[1]: [3,3] [Op:MatMul]\n",
      "\n",
      "Call arguments received by layer 'flexible_dense' (type FlexibleDense):\n",
      "  • inputs=tf.Tensor(shape=(1, 4), dtype=float32)\n"
     ]
    }
   ],
   "source": [
    "# `build`는 한 번만 호출되므로, 입력 형상이 레이어 변수와 호환안되면 입력이 거부됨\n",
    "try:\n",
    "    print(\"Model results:\", flexible_dense(tf.constant([[2.0, 2.0, 2.0, 2.0]])))\n",
    "except tf.errors.InvalidArgumentError as e:\n",
    "    print(\"Failed:\", e)"
   ]
  },
  {
   "cell_type": "markdown",
   "id": "44e059f2",
   "metadata": {},
   "source": [
    "cf) Keras 레이어의 더 많은 기능 (https://www.tensorflow.org/guide/keras/custom_layers_and_models?hl=ko)\n",
    "\n",
    "- 선택적 손실\n",
    "- 메트릭 지원\n",
    "- 훈련 및 추론 사용을 구분하기 위한 선택적 training 인수에 대한 기본 지원\n",
    "- Python에서 모델 복제를 허용하도록 구성을 정확하게 저장할 수 있는 get_config 및 from_config 메서드"
   ]
  },
  {
   "cell_type": "markdown",
   "id": "30d437e8",
   "metadata": {},
   "source": [
    "### Keras 모델"
   ]
  },
  {
   "cell_type": "markdown",
   "id": "2857cd7e",
   "metadata": {},
   "source": [
    "` tf.keras.Model`\n",
    "\n",
    "- 완전한 기능을 갖춘 모델 클래스 제공\n",
    "\n",
    "\n",
    "- `tf.keras.layers.Layer`에서 상속되므로 Keras 모델은 Keras 레이어와 마찬가지로 사용, 중첩, 저장 가능 (모델을 중첩된 Keras 레이어로 정의할 수 있음)\n",
    "\n",
    "\n",
    "- Keras 모델에는 쉽게 훈련, 평가, 로드 및 저장하고, 심지어 여러 머신에서 훈련할 수 있는 추가 기능이 있음"
   ]
  },
  {
   "cell_type": "markdown",
   "id": "7ab8d7f7",
   "metadata": {},
   "source": [
    "거의 동일한 코드로 위에서 `SequentialModule`을 정의할 수 있으며, 다시 __call__을 call()로 변환하고 부모를 변환할 수 있음"
   ]
  },
  {
   "cell_type": "code",
   "execution_count": 34,
   "id": "5f44baf8",
   "metadata": {},
   "outputs": [
    {
     "name": "stdout",
     "output_type": "stream",
     "text": [
      "Model results: tf.Tensor([[ 1.2106328 -1.5425544]], shape=(1, 2), dtype=float32)\n"
     ]
    }
   ],
   "source": [
    "class MySequentialModel(tf.keras.Model):\n",
    "    def __init__(self, name=None, **kwargs):\n",
    "        super().__init__(**kwargs)\n",
    "\n",
    "        self.dense_1 = FlexibleDense(out_features=3)\n",
    "        self.dense_2 = FlexibleDense(out_features=2)\n",
    "        \n",
    "    def call(self, x):\n",
    "        x = self.dense_1(x)\n",
    "        return self.dense_2(x)\n",
    "\n",
    "# 케라스 모델 만들 수 있음 !\n",
    "my_sequential_model = MySequentialModel(name=\"the_model\")\n",
    "\n",
    "# Call it on a tensor, with random results\n",
    "print(\"Model results:\", my_sequential_model(tf.constant([[2.0, 2.0, 2.0]])))"
   ]
  },
  {
   "cell_type": "code",
   "execution_count": 35,
   "id": "bbab0b56",
   "metadata": {},
   "outputs": [
    {
     "data": {
      "text/plain": [
       "[<tf.Variable 'my_sequential_model/flexible_dense_1/w:0' shape=(3, 3) dtype=float32, numpy=\n",
       " array([[-0.1592884 , -1.2919457 ,  0.74933535],\n",
       "        [-0.9470681 ,  1.6291081 , -0.44126073],\n",
       "        [ 0.20496644,  0.34732628,  1.2738811 ]], dtype=float32)>,\n",
       " <tf.Variable 'my_sequential_model/flexible_dense_1/b:0' shape=(3,) dtype=float32, numpy=array([0., 0., 0.], dtype=float32)>,\n",
       " <tf.Variable 'my_sequential_model/flexible_dense_2/w:0' shape=(3, 2) dtype=float32, numpy=\n",
       " array([[ 0.19834481, -0.6172716 ],\n",
       "        [-1.9494656 , -0.17068535],\n",
       "        [ 1.3391585 , -0.7654118 ]], dtype=float32)>,\n",
       " <tf.Variable 'my_sequential_model/flexible_dense_2/b:0' shape=(2,) dtype=float32, numpy=array([0., 0.], dtype=float32)>]"
      ]
     },
     "execution_count": 35,
     "metadata": {},
     "output_type": "execute_result"
    }
   ],
   "source": [
    "# Keras 레이어 중첩\n",
    "my_sequential_model.variables"
   ]
  },
  {
   "cell_type": "code",
   "execution_count": 36,
   "id": "6ad3ed36",
   "metadata": {},
   "outputs": [
    {
     "data": {
      "text/plain": [
       "(<__main__.FlexibleDense at 0x2db66af6bb0>,\n",
       " <__main__.FlexibleDense at 0x2db67068190>)"
      ]
     },
     "execution_count": 36,
     "metadata": {},
     "output_type": "execute_result"
    }
   ],
   "source": [
    "my_sequential_model.submodules"
   ]
  },
  {
   "cell_type": "markdown",
   "id": "2b3f9265",
   "metadata": {},
   "source": [
    "`tf.keras.Model` 재정의\n",
    "\n",
    "- TensorFlow 모델을 빌드하는 Python다운 접근 방식 (다름 프레임워크 모델을 마이그레이션하는 경우, 매우 간단할 수 있음)\n",
    "\n",
    "- 기존 레이어와 입력을 간단하게 조합한 모델을 구성하는 경우, 모델 재구성 및 아키텍처와 관련된 추가 기능과 함께 제공되는 함수형 API를 사용하여 시간 절약 가능 (아래 예시 확인)\n",
    "\n",
    "    - 가장 큰 차이는 입력 형상이 함수형 구성 프로세스의 일부로 저장된다는 것\n",
    "    - 이 경우, input_shape를 완전히 지정할 필요 없고, 일부 차원은 None으로 남겨둘 수 있음"
   ]
  },
  {
   "cell_type": "code",
   "execution_count": 37,
   "id": "9295b046",
   "metadata": {},
   "outputs": [
    {
     "name": "stdout",
     "output_type": "stream",
     "text": [
      "Model: \"model\"\n",
      "_________________________________________________________________\n",
      " Layer (type)                Output Shape              Param #   \n",
      "=================================================================\n",
      " input_1 (InputLayer)        [(None, 3)]               0         \n",
      "                                                                 \n",
      " flexible_dense_3 (FlexibleD  (None, 3)                12        \n",
      " ense)                                                           \n",
      "                                                                 \n",
      " flexible_dense_4 (FlexibleD  (None, 2)                8         \n",
      " ense)                                                           \n",
      "                                                                 \n",
      "=================================================================\n",
      "Total params: 20\n",
      "Trainable params: 20\n",
      "Non-trainable params: 0\n",
      "_________________________________________________________________\n"
     ]
    }
   ],
   "source": [
    "inputs = tf.keras.Input(shape=[3,])\n",
    "\n",
    "x = FlexibleDense(3)(inputs)\n",
    "x = FlexibleDense(2)(x)\n",
    "\n",
    "my_functional_model = tf.keras.Model(inputs=inputs, outputs=x)\n",
    "\n",
    "my_functional_model.summary()"
   ]
  },
  {
   "cell_type": "code",
   "execution_count": 38,
   "id": "c4a5b69c",
   "metadata": {},
   "outputs": [
    {
     "data": {
      "text/plain": [
       "<tf.Tensor: shape=(1, 2), dtype=float32, numpy=array([[-5.548208 ,  3.0216465]], dtype=float32)>"
      ]
     },
     "execution_count": 38,
     "metadata": {},
     "output_type": "execute_result"
    }
   ],
   "source": [
    "my_functional_model(tf.constant([[2.0, 2.0, 2.0]]))"
   ]
  },
  {
   "cell_type": "markdown",
   "id": "735b0144",
   "metadata": {},
   "source": [
    "## Keras 모델 저장하기"
   ]
  },
  {
   "cell_type": "markdown",
   "id": "77edc500",
   "metadata": {},
   "source": [
    "모듈 `tf.saved_models.save()`을 사용하여 모델 저장 가능\n",
    "\n",
    "- 다시 쉽게 로드할 수도 있고, `SavedModels`은 메트릭, 손실, 옵티마이저 상태를 저장함\n",
    "\n",
    "\n",
    "- 이 재구성된 모델을 사용할 수 있으며, 같은 데이터로 호출될 때 같은 결과를 생성함"
   ]
  },
  {
   "cell_type": "code",
   "execution_count": 39,
   "id": "bfc9895d",
   "metadata": {},
   "outputs": [
    {
     "name": "stdout",
     "output_type": "stream",
     "text": [
      "INFO:tensorflow:Assets written to: exname_of_file\\assets\n"
     ]
    }
   ],
   "source": [
    "my_sequential_model.save(\"exname_of_file\")"
   ]
  },
  {
   "cell_type": "code",
   "execution_count": 40,
   "id": "64ab382f",
   "metadata": {},
   "outputs": [
    {
     "name": "stdout",
     "output_type": "stream",
     "text": [
      "WARNING:tensorflow:No training configuration found in save file, so the model was *not* compiled. Compile it manually.\n"
     ]
    }
   ],
   "source": [
    "reconstructed_model = tf.keras.models.load_model(\"exname_of_file\")"
   ]
  },
  {
   "cell_type": "code",
   "execution_count": 41,
   "id": "2d6719cd",
   "metadata": {},
   "outputs": [
    {
     "data": {
      "text/plain": [
       "<tf.Tensor: shape=(1, 2), dtype=float32, numpy=array([[ 1.2106328, -1.5425544]], dtype=float32)>"
      ]
     },
     "execution_count": 41,
     "metadata": {},
     "output_type": "execute_result"
    }
   ],
   "source": [
    "reconstructed_model(tf.constant([[2.0, 2.0, 2.0]]))"
   ]
  }
 ],
 "metadata": {
  "kernelspec": {
   "display_name": "Python 3 (ipykernel)",
   "language": "python",
   "name": "python3"
  },
  "language_info": {
   "codemirror_mode": {
    "name": "ipython",
    "version": 3
   },
   "file_extension": ".py",
   "mimetype": "text/x-python",
   "name": "python",
   "nbconvert_exporter": "python",
   "pygments_lexer": "ipython3",
   "version": "3.9.12"
  }
 },
 "nbformat": 4,
 "nbformat_minor": 5
}
