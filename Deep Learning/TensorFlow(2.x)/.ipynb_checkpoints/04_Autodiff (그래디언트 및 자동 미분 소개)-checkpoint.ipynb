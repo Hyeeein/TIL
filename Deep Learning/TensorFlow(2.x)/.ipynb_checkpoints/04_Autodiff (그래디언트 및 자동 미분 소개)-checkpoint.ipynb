{
 "cells": [
  {
   "cell_type": "markdown",
   "id": "b47ba641",
   "metadata": {},
   "source": [
    "## 자동 미분 및 그래디언트"
   ]
  },
  {
   "cell_type": "markdown",
   "id": "bff24d59",
   "metadata": {},
   "source": [
    "* 자동 미분: 역전파 알고리즘과 같은 머신러닝 알고리즘 구현에 유용"
   ]
  },
  {
   "cell_type": "code",
   "execution_count": 1,
   "id": "237015d3",
   "metadata": {},
   "outputs": [],
   "source": [
    "import numpy as np\n",
    "import matplotlib.pyplot as plt\n",
    "\n",
    "import tensorflow as tf"
   ]
  },
  {
   "cell_type": "markdown",
   "id": "f7e3d882",
   "metadata": {},
   "source": [
    "## 그래디언트 계산하기"
   ]
  },
  {
   "cell_type": "markdown",
   "id": "ad9ba232",
   "metadata": {},
   "source": [
    "자동으로 미분하기 위해 Tensorflow는 정방향 패스동안 어떤 연산이 어떤 순서로 발생했는지 기억해야 함\n",
    "\n",
    "그리고 역방향 패스동안 Tensorflow는 이 연산 목록을 역순으로 이동하여 그래디언트 계산"
   ]
  },
  {
   "cell_type": "markdown",
   "id": "2aa352e4",
   "metadata": {},
   "source": [
    "## 그래디언트 테이프"
   ]
  },
  {
   "cell_type": "markdown",
   "id": "ed948a7b",
   "metadata": {},
   "source": [
    "* tf.GradientTape API : 자동 미분을 위한 API 제공\n",
    "\n",
    "\n",
    "* `tf.GradientTape`\n",
    "    - 컨텍스트(context) 안에서 실행된 모든 연산을 테이프(tape)에 기록\n",
    "    - 후진 방식 자동 미분(reverse mode differentitation)을 사용해 테이프에 기록된 연산의 그래디언트 계산"
   ]
  },
  {
   "cell_type": "code",
   "execution_count": 2,
   "id": "467ba3df",
   "metadata": {},
   "outputs": [],
   "source": [
    "x = tf.Variable(3.0)\n",
    "\n",
    "with tf.GradientTape() as tape:\n",
    "    y = x**2"
   ]
  },
  {
   "cell_type": "markdown",
   "id": "1547609b",
   "metadata": {},
   "source": [
    "`GradientTape.gradient(target, sources)`\n",
    "\n",
    "- 일부 소스(종종 모델 변수)에 상대적인 일부 대상(종종 손실)의 그래디언트를 계산\n",
    "- 모든 텐서에서 쉽게 작동"
   ]
  },
  {
   "cell_type": "code",
   "execution_count": 3,
   "id": "23aa14bf",
   "metadata": {},
   "outputs": [
    {
     "data": {
      "text/plain": [
       "6.0"
      ]
     },
     "execution_count": 3,
     "metadata": {},
     "output_type": "execute_result"
    }
   ],
   "source": [
    "# dy = 2x * dx\n",
    "dy_dx = tape.gradient(y, x)\n",
    "dy_dx.numpy()"
   ]
  },
  {
   "cell_type": "code",
   "execution_count": 4,
   "id": "1c9d2a34",
   "metadata": {},
   "outputs": [],
   "source": [
    "w = tf.Variable(tf.random.normal((3, 2)), name='w')\n",
    "b = tf.Variable(tf.zeros(2, dtype=tf.float32), name='b')\n",
    "x = [[1., 2., 3.]]\n",
    "\n",
    "with tf.GradientTape(persistent=True) as tape:\n",
    "    y = x @ w + b\n",
    "    loss = tf.reduce_mean(y**2)"
   ]
  },
  {
   "cell_type": "markdown",
   "id": "4ab45f90",
   "metadata": {},
   "source": [
    "두 변수 모두에게 loss의 그래디언트를 가져오려면, 두 변수를 gradient 메서드에 소스로 전달 가능\n",
    "\n",
    "테이프는 소스가 전달되는 방식에 대해 융통성이 있으며, 목록 또는 사전의 중첩된 조합을 허용하고 같은 방식으로 구조화된 그래디언트를 반환함"
   ]
  },
  {
   "cell_type": "code",
   "execution_count": 5,
   "id": "4578b2ed",
   "metadata": {},
   "outputs": [],
   "source": [
    "[dl_dw, dl_db] = tape.gradient(loss, [w, b])"
   ]
  },
  {
   "cell_type": "code",
   "execution_count": 6,
   "id": "698fe85b",
   "metadata": {},
   "outputs": [
    {
     "name": "stdout",
     "output_type": "stream",
     "text": [
      "(3, 2)\n",
      "(3, 2)\n"
     ]
    }
   ],
   "source": [
    "# 각 소스에 대한 그래디언트는 소스의 형상을 가짐\n",
    "print(w.shape)\n",
    "print(dl_dw.shape)"
   ]
  },
  {
   "cell_type": "code",
   "execution_count": 7,
   "id": "0a1ef48a",
   "metadata": {},
   "outputs": [
    {
     "data": {
      "text/plain": [
       "<tf.Tensor: shape=(2,), dtype=float32, numpy=array([-4.2609806,  2.4636304], dtype=float32)>"
      ]
     },
     "execution_count": 7,
     "metadata": {},
     "output_type": "execute_result"
    }
   ],
   "source": [
    "# 그래디언트 계산: 변수의 사전을 전달\n",
    "my_vars = {\n",
    "    'w': w,\n",
    "    'b': b\n",
    "}\n",
    "\n",
    "grad = tape.gradient(loss, my_vars)\n",
    "grad['b']"
   ]
  },
  {
   "cell_type": "markdown",
   "id": "3fec78dd",
   "metadata": {},
   "source": [
    "## 모델에 대한 그래디언트"
   ]
  },
  {
   "cell_type": "markdown",
   "id": "36a7e05c",
   "metadata": {},
   "source": [
    "`tf.Module`\n",
    "\n",
    "- 검사점 설정 및 내보내기를 위해 `tf.Variable`을 수집\n",
    "- 모든 서브 클래스는 `Module.trainable_variables` 속성에서 변수를 집계, 몇 줄의 코드로 그래디언트 계산 가능"
   ]
  },
  {
   "cell_type": "code",
   "execution_count": 8,
   "id": "b4765729",
   "metadata": {},
   "outputs": [],
   "source": [
    "layer = tf.keras.layers.Dense(2, activation='relu')\n",
    "x = tf.constant([[1., 2., 3.]])\n",
    "\n",
    "with tf.GradientTape() as tape:\n",
    "    # Forward pass\n",
    "    y = layer(x)\n",
    "    loss = tf.reduce_mean(y**2)\n",
    "\n",
    "# Calculate gradients with respect to every trainable variable\n",
    "grad = tape.gradient(loss, layer.trainable_variables)"
   ]
  },
  {
   "cell_type": "code",
   "execution_count": 9,
   "id": "30c5e91b",
   "metadata": {},
   "outputs": [
    {
     "name": "stdout",
     "output_type": "stream",
     "text": [
      "dense/kernel:0, shape: (3, 2)\n",
      "dense/bias:0, shape: (2,)\n"
     ]
    }
   ],
   "source": [
    "for var, g in zip(layer.trainable_variables, grad):\n",
    "    print(f'{var.name}, shape: {g.shape}')"
   ]
  },
  {
   "cell_type": "markdown",
   "id": "124ab41a",
   "metadata": {},
   "source": [
    "## 테이프의 감시 대상 제어하기"
   ]
  },
  {
   "cell_type": "markdown",
   "id": "2f640b96",
   "metadata": {},
   "source": [
    "기본 동작은 훈련 가능한 `tf.Variable`에 엑세스한 후, 모든 연산을 기록하는 것\n",
    "\n",
    "왜 기록해야 할까?\n",
    "\n",
    "- 테이프는 역방향 패스의 그래디언트를 계산하기 위해 정방향 패스 기록할 연산을 알아야 함\n",
    "- 테이프는 중간에 대한 참조를 보유하므로 불필요한 연산을 기록하지 않음\n",
    "- 가장 일반적인 예: 모든 모델의 훈련 가능 가능한 변수에 대해 손실 그래디언트를 계산하는 것\n",
    "\n",
    "##### (예) tf.Tensor가 기본적으로 감시되지 않고, tf.Variable을 훈련할 수 없어 그래디언트 계산 못함"
   ]
  },
  {
   "cell_type": "code",
   "execution_count": 10,
   "id": "80caea5b",
   "metadata": {},
   "outputs": [
    {
     "name": "stdout",
     "output_type": "stream",
     "text": [
      "tf.Tensor(6.0, shape=(), dtype=float32)\n",
      "None\n",
      "None\n",
      "None\n"
     ]
    }
   ],
   "source": [
    "# A trainable variable\n",
    "x0 = tf.Variable(3.0, name='x0')\n",
    "# Not trainable\n",
    "x1 = tf.Variable(3.0, name='x1', trainable=False)\n",
    "# Not a Variable: A variable + tensor returns a tensor.\n",
    "x2 = tf.Variable(2.0, name='x2') + 1.0\n",
    "# Not a variable\n",
    "x3 = tf.constant(3.0, name='x3')\n",
    "\n",
    "with tf.GradientTape() as tape:\n",
    "    y = (x0**2) + (x1**2) + (x2**2)\n",
    "\n",
    "grad = tape.gradient(y, [x0, x1, x2, x3])\n",
    "\n",
    "for g in grad:\n",
    "    print(g)"
   ]
  },
  {
   "cell_type": "markdown",
   "id": "f33563b2",
   "metadata": {},
   "source": [
    "`GradientTape.watched_variables` : 메서드를 사용하여 테이프에서 감시중인 변수 나열 가능"
   ]
  },
  {
   "cell_type": "code",
   "execution_count": 11,
   "id": "4fc31540",
   "metadata": {},
   "outputs": [
    {
     "data": {
      "text/plain": [
       "['x0:0']"
      ]
     },
     "execution_count": 11,
     "metadata": {},
     "output_type": "execute_result"
    }
   ],
   "source": [
    "[var.name for var in tape.watched_variables()]"
   ]
  },
  {
   "cell_type": "markdown",
   "id": "3258454f",
   "metadata": {},
   "source": [
    "`tf.GradientTape` : 사용자가 감시 대상 또는 감시 예외 대상 제어할 수 있는 후크 제공\n",
    "\n",
    "`GradientTape.watch(x)` : tf.Tensor에 대한 그래디언트 기록을 위해 호출"
   ]
  },
  {
   "cell_type": "code",
   "execution_count": 12,
   "id": "2166ca42",
   "metadata": {},
   "outputs": [
    {
     "name": "stdout",
     "output_type": "stream",
     "text": [
      "6.0\n"
     ]
    }
   ],
   "source": [
    "x = tf.constant(3.0)\n",
    "with tf.GradientTape() as tape:\n",
    "    tape.watch(x)\n",
    "    y = x**2\n",
    "\n",
    "# dy = 2x * dx\n",
    "dy_dx = tape.gradient(y, x)\n",
    "print(dy_dx.numpy())"
   ]
  },
  {
   "cell_type": "markdown",
   "id": "0fc48313",
   "metadata": {},
   "source": [
    "`watch_accessed_variables=False`: 모든 `tf.Variables`을 감시하는 기본 동작 비활성화 하기 위해 사용"
   ]
  },
  {
   "cell_type": "code",
   "execution_count": 13,
   "id": "a586d311",
   "metadata": {},
   "outputs": [],
   "source": [
    "x0 = tf.Variable(0.0)\n",
    "x1 = tf.Variable(10.0)\n",
    "\n",
    "with tf.GradientTape(watch_accessed_variables=False) as tape:\n",
    "    tape.watch(x1)\n",
    "    y0 = tf.math.sin(x0)\n",
    "    y1 = tf.nn.softplus(x1)\n",
    "    y = y0 + y1\n",
    "    ys = tf.reduce_sum(y)"
   ]
  },
  {
   "cell_type": "markdown",
   "id": "1bf8f256",
   "metadata": {},
   "source": [
    "x0에서 `GradientTape.watch`가 호출되지 않았으므로, 그래디언트가 계산되지 않음"
   ]
  },
  {
   "cell_type": "code",
   "execution_count": 14,
   "id": "11dbbca1",
   "metadata": {},
   "outputs": [
    {
     "name": "stdout",
     "output_type": "stream",
     "text": [
      "dy/dx0: None\n",
      "dy/dx1: 0.9999546\n"
     ]
    }
   ],
   "source": [
    "# dys/dx1 = exp(x1) / (1 + exp(x1)) = sigmoid(x1)\n",
    "grad = tape.gradient(ys, {'x0': x0, 'x1': x1})\n",
    "\n",
    "print('dy/dx0:', grad['x0'])\n",
    "print('dy/dx1:', grad['x1'].numpy())"
   ]
  },
  {
   "cell_type": "markdown",
   "id": "fea9fc5a",
   "metadata": {},
   "source": [
    "## 중간 결과"
   ]
  },
  {
   "cell_type": "markdown",
   "id": "53c6262d",
   "metadata": {},
   "source": [
    "`tf.GradientTape` : 컨텍스트 내에서 계산된 중간값과 관련하여, 출력의 그래디언트 요청할 수도 있음"
   ]
  },
  {
   "cell_type": "code",
   "execution_count": 15,
   "id": "c8ee6eba",
   "metadata": {},
   "outputs": [
    {
     "name": "stdout",
     "output_type": "stream",
     "text": [
      "18.0\n"
     ]
    }
   ],
   "source": [
    "x = tf.constant(3.0)\n",
    "\n",
    "with tf.GradientTape() as tape:\n",
    "    tape.watch(x)\n",
    "    y = x * x\n",
    "    z = y * y\n",
    "\n",
    "# Use the tape to compute the gradient of z with respect to the\n",
    "# intermediate value y.\n",
    "# dz_dy = 2 * y and y = x ** 2 = 9\n",
    "print(tape.gradient(z, y).numpy())"
   ]
  },
  {
   "cell_type": "markdown",
   "id": "9be32527",
   "metadata": {},
   "source": [
    "`GradientTape.gradient` 메서드 호출 -> GradientTape가 보유한 리소스 해제\n",
    "\n",
    "동일한 계산에 대해 여러 그래디언트를 계산하려면 `persistent=True` 그래디언트 테이프를 만듦 <br>\n",
    "그러면, 리소스 해제될 때 gradient 메서드 여러 번 호출 가능"
   ]
  },
  {
   "cell_type": "code",
   "execution_count": 16,
   "id": "d73f90d7",
   "metadata": {},
   "outputs": [
    {
     "name": "stdout",
     "output_type": "stream",
     "text": [
      "[  4. 108.]\n",
      "[2. 6.]\n"
     ]
    }
   ],
   "source": [
    "x = tf.constant([1, 3.0])\n",
    "with tf.GradientTape(persistent=True) as tape:\n",
    "    tape.watch(x)\n",
    "    y = x * x\n",
    "    z = y * y\n",
    "\n",
    "print(tape.gradient(z, x).numpy())  # [4.0, 108.0] (4 * x**3 at x = [1.0, 3.0])\n",
    "print(tape.gradient(y, x).numpy())  # [2.0, 6.0] (2 * x at x = [1.0, 3.0])"
   ]
  },
  {
   "cell_type": "code",
   "execution_count": 17,
   "id": "11b3fb26",
   "metadata": {},
   "outputs": [],
   "source": [
    "del tape   # Drop the reference to the tape"
   ]
  },
  {
   "cell_type": "markdown",
   "id": "c99dea05",
   "metadata": {},
   "source": [
    "## 성능에 대한 참고 사항"
   ]
  },
  {
   "cell_type": "markdown",
   "id": "51f6834c",
   "metadata": {},
   "source": [
    "- 그래디언트 테이프 컨텍스트 내 연산 수행 : 작은 오버헤드 존재 -> 필요한 경우만 사용\n",
    "\n",
    "\n",
    "- 그래디언트 테이프는 메모리를 사용하여 역방향 패스동안 사용하기 위해 입출력을 포함한 중간 결과까지 저장\n",
    "    - 효율성을 위해(ReLU와 같은) 일부 연산은 중간 결과를 유지할 필요가 없으며 정방향 패스 동안 정리\n",
    "    - But, `persistent=True`를 사용하면, 아무것도 삭제되지 않아 최대 메모리 사용량 높아짐"
   ]
  },
  {
   "cell_type": "markdown",
   "id": "aad63bd1",
   "metadata": {},
   "source": [
    "## 스칼라가 아닌 대상의 그래디언트"
   ]
  },
  {
   "cell_type": "markdown",
   "id": "f3fb688f",
   "metadata": {},
   "source": [
    "그래디언트는 기본적으로 스칼라에 대한 연산"
   ]
  },
  {
   "cell_type": "code",
   "execution_count": 18,
   "id": "1e6019b0",
   "metadata": {},
   "outputs": [
    {
     "name": "stdout",
     "output_type": "stream",
     "text": [
      "4.0\n",
      "-0.25\n"
     ]
    }
   ],
   "source": [
    "x = tf.Variable(2.0)\n",
    "with tf.GradientTape(persistent=True) as tape:\n",
    "    y0 = x**2\n",
    "    y1 = 1 / x\n",
    "\n",
    "print(tape.gradient(y0, x).numpy())\n",
    "print(tape.gradient(y1, x).numpy())"
   ]
  },
  {
   "cell_type": "markdown",
   "id": "4fde026b",
   "metadata": {},
   "source": [
    "따라서, 여러 대상의 그래디언트 요청 시 각 소스의 결과는 다음과 같음 \n",
    "\n",
    "- 대상의 합계 또는 그에 상응하는 그래디언트\n",
    "- 각 대상의 그래디언트의 합계"
   ]
  },
  {
   "cell_type": "code",
   "execution_count": 19,
   "id": "a40e9251",
   "metadata": {},
   "outputs": [
    {
     "name": "stdout",
     "output_type": "stream",
     "text": [
      "3.75\n"
     ]
    }
   ],
   "source": [
    "x = tf.Variable(2.0)\n",
    "with tf.GradientTape() as tape:\n",
    "    y0 = x**2\n",
    "    y1 = 1 / x\n",
    "\n",
    "print(tape.gradient({'y0': y0, 'y1': y1}, x).numpy())"
   ]
  },
  {
   "cell_type": "markdown",
   "id": "3bad036a",
   "metadata": {},
   "source": [
    "대상이 스칼라가 아닌 경우, 합계의 그래디언트로 계산"
   ]
  },
  {
   "cell_type": "code",
   "execution_count": 20,
   "id": "fd03d96e",
   "metadata": {},
   "outputs": [
    {
     "name": "stdout",
     "output_type": "stream",
     "text": [
      "7.0\n"
     ]
    }
   ],
   "source": [
    "x = tf.Variable(2.)\n",
    "\n",
    "with tf.GradientTape() as tape:\n",
    "    y = x * [3., 4.]\n",
    "\n",
    "print(tape.gradient(y, x).numpy())"
   ]
  },
  {
   "cell_type": "markdown",
   "id": "c70cc0a6",
   "metadata": {},
   "source": [
    "이렇게 하면, 손실 컬렉션 합계의 그래디언트 또는 요소별 손실 계산 합계의 그래디언트를 간단하게 구현할 수 있음\n",
    "\n",
    "- 각 항목에 대해 별도의 그래디언트가 필요한 경우, 야고비안 참조"
   ]
  },
  {
   "cell_type": "code",
   "execution_count": 21,
   "id": "1b20a62e",
   "metadata": {},
   "outputs": [],
   "source": [
    "x = tf.linspace(-10.0, 10.0, 200+1)\n",
    "\n",
    "with tf.GradientTape() as tape:\n",
    "    tape.watch(x)\n",
    "    y = tf.nn.sigmoid(x)\n",
    "\n",
    "dy_dx = tape.gradient(y, x)"
   ]
  },
  {
   "cell_type": "code",
   "execution_count": 22,
   "id": "2e5fe0ee",
   "metadata": {},
   "outputs": [
    {
     "data": {
      "image/png": "[encoded data removed]",
      "text/plain": [
       "<Figure size 432x288 with 1 Axes>"
      ]
     },
     "metadata": {
      "needs_background": "light"
     },
     "output_type": "display_data"
    }
   ],
   "source": [
    "plt.plot(x, y, label='y')\n",
    "plt.plot(x, dy_dx, label='dy/dx')\n",
    "plt.legend()\n",
    "_ = plt.xlabel('x')"
   ]
  },
  {
   "cell_type": "markdown",
   "id": "b557da38",
   "metadata": {},
   "source": [
    "## 흐름 제어하기"
   ]
  },
  {
   "cell_type": "markdown",
   "id": "3a2a2cf1",
   "metadata": {},
   "source": [
    "그래디언트 테이프 : 실해오디는 연산을 기록하므로, Python 제어 흐름이 자연스럽게 처리됨\n",
    "\n",
    "여기서는 if의 각 분기에 서로 다른 변수가 사용됨. 그래디언트는 사용된 변수에만 연결"
   ]
  },
  {
   "cell_type": "code",
   "execution_count": 23,
   "id": "71991c12",
   "metadata": {},
   "outputs": [
    {
     "name": "stdout",
     "output_type": "stream",
     "text": [
      "tf.Tensor(1.0, shape=(), dtype=float32)\n",
      "None\n"
     ]
    }
   ],
   "source": [
    "x = tf.constant(1.0)\n",
    "\n",
    "v0 = tf.Variable(2.0)\n",
    "v1 = tf.Variable(2.0)\n",
    "\n",
    "with tf.GradientTape(persistent=True) as tape:\n",
    "    tape.watch(x)\n",
    "    if x > 0.0:\n",
    "        result = v0\n",
    "    else:\n",
    "        result = v1**2 \n",
    "\n",
    "dv0, dv1 = tape.gradient(result, [v0, v1])\n",
    "\n",
    "print(dv0)\n",
    "print(dv1)"
   ]
  },
  {
   "cell_type": "markdown",
   "id": "ee36fde3",
   "metadata": {},
   "source": [
    "제어문 자체는 미분할 수 없으므로, 그래디언트 기반 최적화 프로그램에는 보이지 않음\n",
    "\n",
    "위 예제에서 x 값에 따라 테이프는 result = v0 또는 result = v1**2를 기록 <br>\n",
    "x에 대한 그래디언트는 항상 None"
   ]
  },
  {
   "cell_type": "code",
   "execution_count": 24,
   "id": "a7635392",
   "metadata": {},
   "outputs": [
    {
     "name": "stdout",
     "output_type": "stream",
     "text": [
      "None\n"
     ]
    }
   ],
   "source": [
    "dx = tape.gradient(result, x)\n",
    "\n",
    "print(dx)"
   ]
  },
  {
   "cell_type": "markdown",
   "id": "0ca4d941",
   "metadata": {},
   "source": [
    "## gradient가 None을 반환하는 경우"
   ]
  },
  {
   "cell_type": "markdown",
   "id": "c9e7d277",
   "metadata": {},
   "source": [
    "대상이 소스와 연결되어 있지 않으면 gradient가 None을 반환"
   ]
  },
  {
   "cell_type": "code",
   "execution_count": 25,
   "id": "6e65077b",
   "metadata": {},
   "outputs": [
    {
     "name": "stdout",
     "output_type": "stream",
     "text": [
      "None\n"
     ]
    }
   ],
   "source": [
    "x = tf.Variable(2.)\n",
    "y = tf.Variable(3.)\n",
    "\n",
    "with tf.GradientTape() as tape:\n",
    "    z = y * y\n",
    "print(tape.gradient(z, x))"
   ]
  },
  {
   "cell_type": "markdown",
   "id": "f8762e2f",
   "metadata": {},
   "source": [
    "### 그래디언트의 연결을 끊을 수 있는 몇 가지 덜 명확한 방법 4가지"
   ]
  },
  {
   "cell_type": "markdown",
   "id": "c3e23508",
   "metadata": {},
   "source": [
    "### 1. 변수가 텐서로 대체"
   ]
  },
  {
   "cell_type": "markdown",
   "id": "4f2bde62",
   "metadata": {},
   "source": [
    "한 가지 일반적인 오류: `Variable.assign`을 사용하여 `tf.Variable`을 업데이트하는 대신, <br>\n",
    "실수로 `tf.Variable`을 `tf.Tensor`로 대체하는 것"
   ]
  },
  {
   "cell_type": "code",
   "execution_count": 26,
   "id": "77504ca3",
   "metadata": {},
   "outputs": [
    {
     "name": "stdout",
     "output_type": "stream",
     "text": [
      "ResourceVariable : tf.Tensor(1.0, shape=(), dtype=float32)\n",
      "EagerTensor : None\n"
     ]
    }
   ],
   "source": [
    "x = tf.Variable(2.0)\n",
    "\n",
    "for epoch in range(2):\n",
    "    with tf.GradientTape() as tape:\n",
    "        y = x+1\n",
    "\n",
    "    print(type(x).__name__, \":\", tape.gradient(y, x))\n",
    "    x = x + 1   # This should be `x.assign_add(1)`"
   ]
  },
  {
   "cell_type": "markdown",
   "id": "3a854a97",
   "metadata": {},
   "source": [
    "### 2. TensorFlow 외부에서 계산"
   ]
  },
  {
   "cell_type": "markdown",
   "id": "8089012c",
   "metadata": {},
   "source": [
    "계산에서 TensorFlow를 종료하면 테이프가 그래디언트 경로 기록 불가능"
   ]
  },
  {
   "cell_type": "code",
   "execution_count": 27,
   "id": "22d2af74",
   "metadata": {},
   "outputs": [
    {
     "name": "stdout",
     "output_type": "stream",
     "text": [
      "None\n"
     ]
    }
   ],
   "source": [
    "x = tf.Variable([[1.0, 2.0],\n",
    "                 [3.0, 4.0]], dtype=tf.float32)\n",
    "\n",
    "with tf.GradientTape() as tape:\n",
    "    x2 = x**2\n",
    "\n",
    "    # This step is calculated with NumPy\n",
    "    y = np.mean(x2, axis=0)\n",
    "\n",
    "    # Like most ops, reduce_mean will cast the NumPy array to a constant tensor\n",
    "    # using `tf.convert_to_tensor`.\n",
    "    y = tf.reduce_mean(y, axis=0)\n",
    "\n",
    "print(tape.gradient(y, x))"
   ]
  },
  {
   "cell_type": "markdown",
   "id": "1ae80a4f",
   "metadata": {},
   "source": [
    "### 3. 정수 또는 문자열을 통해 그래디언트를 구함"
   ]
  },
  {
   "cell_type": "markdown",
   "id": "c4d67804",
   "metadata": {},
   "source": [
    "정수와 문자열은 구별할 수 없음. dtype을 지정하지 않으면, 실수로 int 상수 또는 변수를 만들기 쉬움"
   ]
  },
  {
   "cell_type": "code",
   "execution_count": 28,
   "id": "e00db80c",
   "metadata": {},
   "outputs": [
    {
     "name": "stdout",
     "output_type": "stream",
     "text": [
      "WARNING:tensorflow:The dtype of the watched tensor must be floating (e.g. tf.float32), got tf.int32\n",
      "None\n"
     ]
    }
   ],
   "source": [
    "x = tf.constant(10)\n",
    "\n",
    "with tf.GradientTape() as g:\n",
    "    g.watch(x)\n",
    "    y = x * x\n",
    "\n",
    "print(g.gradient(y, x))"
   ]
  },
  {
   "cell_type": "markdown",
   "id": "0120242a",
   "metadata": {},
   "source": [
    "TensorFlow는 유형 간에 자동으로 전송되지 않으므로, 실제로 그래디언트가 누락되는 대신 유형 오류 발생"
   ]
  },
  {
   "cell_type": "markdown",
   "id": "350140bf",
   "metadata": {},
   "source": [
    "### 4. 상태 저장 개체를 통해 그래디언트를 구함"
   ]
  },
  {
   "cell_type": "markdown",
   "id": "603c3206",
   "metadata": {},
   "source": [
    "상태가 그래디언트를 중지함. 상태 저장 객체에서 읽을 때, 테이프는 현재 상태만 볼 수 있음 (기록 X)\n",
    "\n",
    "`tf.Tensor`는 변경할 수 없음. 텐서가 작성된 후에는 변경할 수 없음. 값은 있지만 상태는 X. 지금까지 논의된 모든 연산은 상태 비저장\n",
    "\n",
    "`tf.matmul`의 출력은 입력에만 의존\n",
    "\n",
    "`tf.Variable`은 내부 상태와 값을 가짐. 변수를 사용하면 상태를 읽음. 변수와 관련하여 그래디언트를 계산하는 것이 일반적이지만, 변수의 상태는 그래디언트 계산이 더 멀리 돌아가지 않도록 차단함\n",
    "\n",
    "`tf.data.Dataset` 반복기(iterator)와 `tf.queue`는 상태 저장이며, 이들을 통과하는 텐서의 모든 그래디언트를 중지함"
   ]
  },
  {
   "cell_type": "code",
   "execution_count": 29,
   "id": "dbc3a9b2",
   "metadata": {},
   "outputs": [
    {
     "name": "stdout",
     "output_type": "stream",
     "text": [
      "None\n"
     ]
    }
   ],
   "source": [
    "x0 = tf.Variable(3.0)\n",
    "x1 = tf.Variable(0.0)\n",
    "\n",
    "with tf.GradientTape() as tape:\n",
    "    # Update x1 = x1 + x0.\n",
    "    x1.assign_add(x0)\n",
    "    # The tape starts recording from x1.\n",
    "    y = x1**2   # y = (x1 + x0)**2\n",
    "\n",
    "# This doesn't work.\n",
    "print(tape.gradient(y, x0))   #dy/dx0 = 2*(x1 + x0)"
   ]
  },
  {
   "cell_type": "markdown",
   "id": "db86b0bd",
   "metadata": {},
   "source": [
    "## 그래디언트가 등록되지 않음"
   ]
  },
  {
   "cell_type": "markdown",
   "id": "a05733f0",
   "metadata": {},
   "source": [
    "`tf.Operation`: 미분 불가능한 것으로 등록되어 None 을 반환, 다른 연산엔 그래디언트 등록 안됨\n",
    "\n",
    "`tf.raw_ops` : 그래디언트가 등록된 저수준 op가 표시\n",
    "\n",
    "그래디언트가 등록되지 않은 float op를 통해, 그래디언트를 얻고자 시도하면 테이프가 자동으로 None을 반환하는 대신 오류가 발생\n",
    "\n",
    "예를 들어, `tf.image.adjust_contrast` 함수는 그래디언트를 가질 수 있지만, 그래디언트는 구현되지 않은 `raw_ops.AdjustContrastv2`를 래핑함\n",
    "\n",
    "이 op를 미분해야 하는 경우, `tf.RegisterGradient`를 사용하여 그래디언트를 구현하고, 등록하거나 다른 ops를 사용하여 함수를 다시 구현해야 함"
   ]
  },
  {
   "cell_type": "code",
   "execution_count": 30,
   "id": "ac605160",
   "metadata": {},
   "outputs": [
    {
     "name": "stdout",
     "output_type": "stream",
     "text": [
      "LookupError: gradient registry has no entry for: AdjustContrastv2\n"
     ]
    }
   ],
   "source": [
    "image = tf.Variable([[[0.5, 0.0, 0.0]]])\n",
    "delta = tf.Variable(0.1)\n",
    "\n",
    "with tf.GradientTape() as tape:\n",
    "    new_image = tf.image.adjust_contrast(image, delta)\n",
    "\n",
    "try:\n",
    "    print(tape.gradient(new_image, [image, delta]))\n",
    "    assert False   # This should not happen.\n",
    "except LookupError as e:\n",
    "    print(f'{type(e).__name__}: {e}')"
   ]
  },
  {
   "cell_type": "markdown",
   "id": "96f78a51",
   "metadata": {},
   "source": [
    "## None 대신 0"
   ]
  },
  {
   "cell_type": "markdown",
   "id": "4c49dfa0",
   "metadata": {},
   "source": [
    "연결되지 않은 그래디언트의 경우, None 대신 0을 가져오는 것이 편리한 경우가 있음\n",
    "\n",
    "연결되지 않은 그래디언트가 있을 때, `unconnected_gradients` 인수를 사용하여 반환할 항목 결정 가능"
   ]
  },
  {
   "cell_type": "code",
   "execution_count": 31,
   "id": "a5f16376",
   "metadata": {},
   "outputs": [
    {
     "name": "stdout",
     "output_type": "stream",
     "text": [
      "tf.Tensor([0. 0.], shape=(2,), dtype=float32)\n"
     ]
    }
   ],
   "source": [
    "x = tf.Variable([2., 2.])\n",
    "y = tf.Variable(3.)\n",
    "\n",
    "with tf.GradientTape() as tape:\n",
    "    z = y**2\n",
    "print(tape.gradient(z, x, unconnected_gradients=tf.UnconnectedGradients.ZERO))"
   ]
  }
 ],
 "metadata": {
  "kernelspec": {
   "display_name": "TIL",
   "language": "python",
   "name": "til"
  },
  "language_info": {
   "codemirror_mode": {
    "name": "ipython",
    "version": 3
   },
   "file_extension": ".py",
   "mimetype": "text/x-python",
   "name": "python",
   "nbconvert_exporter": "python",
   "pygments_lexer": "ipython3",
   "version": "3.9.12"
  }
 },
 "nbformat": 4,
 "nbformat_minor": 5
}
