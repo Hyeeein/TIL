{
 "cells": [
  {
   "cell_type": "markdown",
   "id": "2815d1e1",
   "metadata": {},
   "source": [
    "# 1. 인덱싱 (Indexing)"
   ]
  },
  {
   "attachments": {
    "image-2.png": {
     "image/png": "[encoded data removed]"
    }
   },
   "cell_type": "markdown",
   "id": "b813edff",
   "metadata": {},
   "source": [
    "* 사전적으로는 무엇인가 \"가르킨다\"를 의미\n",
    "* 즉, 인덱싱(Indexing)은 특정한 값을 뽑아내는 역할\n",
    "* 예) x = Rome is not built in a day!\n",
    "\n",
    "![image-2.png](attachment:image-2.png)"
   ]
  },
  {
   "cell_type": "code",
   "execution_count": 6,
   "id": "4044d0da",
   "metadata": {},
   "outputs": [],
   "source": [
    "x = \"Rome is not built in a day!\""
   ]
  },
  {
   "cell_type": "code",
   "execution_count": 7,
   "id": "7a8f3a8d",
   "metadata": {},
   "outputs": [
    {
     "data": {
      "text/plain": [
       "'R'"
      ]
     },
     "execution_count": 7,
     "metadata": {},
     "output_type": "execute_result"
    }
   ],
   "source": [
    "x[0]"
   ]
  },
  {
   "cell_type": "code",
   "execution_count": 8,
   "id": "f383d0be",
   "metadata": {},
   "outputs": [
    {
     "data": {
      "text/plain": [
       "'!'"
      ]
     },
     "execution_count": 8,
     "metadata": {},
     "output_type": "execute_result"
    }
   ],
   "source": [
    "x[-1]"
   ]
  },
  {
   "cell_type": "code",
   "execution_count": 9,
   "id": "67c4ae79",
   "metadata": {},
   "outputs": [
    {
     "data": {
      "text/plain": [
       "'y'"
      ]
     },
     "execution_count": 9,
     "metadata": {},
     "output_type": "execute_result"
    }
   ],
   "source": [
    "x[-2]"
   ]
  },
  {
   "cell_type": "code",
   "execution_count": 10,
   "id": "bb60e5c3",
   "metadata": {},
   "outputs": [
    {
     "data": {
      "text/plain": [
       "'a'"
      ]
     },
     "execution_count": 10,
     "metadata": {},
     "output_type": "execute_result"
    }
   ],
   "source": [
    "x[-6]"
   ]
  },
  {
   "cell_type": "markdown",
   "id": "2f0dbad2",
   "metadata": {},
   "source": [
    "# 2. 슬라이싱 (Slicing)"
   ]
  },
  {
   "attachments": {
    "image.png": {
     "image/png": "[encoded data removed]"
    }
   },
   "cell_type": "markdown",
   "id": "42b1da6c",
   "metadata": {},
   "source": [
    "* 사전적으로는 무엇인가 \"잘라낸다\"를 의미\n",
    "* 아래 예시에서 원하는 단어를 뽑아내고자 할 때 슬라이싱을 사용할 수 있음\n",
    "* 예시) x = Rome is not built in a day!\n",
    "* Slicing의 형태: x[시작번호 : 끝번호]\n",
    "\n",
    "![image.png](attachment:image.png)"
   ]
  },
  {
   "cell_type": "code",
   "execution_count": 11,
   "id": "50118149",
   "metadata": {},
   "outputs": [
    {
     "data": {
      "text/plain": [
       "'Rome'"
      ]
     },
     "execution_count": 11,
     "metadata": {},
     "output_type": "execute_result"
    }
   ],
   "source": [
    "x[0:4]"
   ]
  },
  {
   "cell_type": "code",
   "execution_count": 12,
   "id": "4d46b9ba",
   "metadata": {},
   "outputs": [
    {
     "data": {
      "text/plain": [
       "'built in a day!'"
      ]
     },
     "execution_count": 12,
     "metadata": {},
     "output_type": "execute_result"
    }
   ],
   "source": [
    "# 끝 번호를 삭제하면\n",
    "x[12:]"
   ]
  },
  {
   "cell_type": "code",
   "execution_count": 13,
   "id": "4bc3e7e7",
   "metadata": {},
   "outputs": [
    {
     "data": {
      "text/plain": [
       "'Rome is'"
      ]
     },
     "execution_count": 13,
     "metadata": {},
     "output_type": "execute_result"
    }
   ],
   "source": [
    "# 시작번호를 삭제하면\n",
    "x[:7]"
   ]
  },
  {
   "cell_type": "code",
   "execution_count": 14,
   "id": "af025d4c",
   "metadata": {},
   "outputs": [
    {
     "data": {
      "text/plain": [
       "'Rome is not built in a day!'"
      ]
     },
     "execution_count": 14,
     "metadata": {},
     "output_type": "execute_result"
    }
   ],
   "source": [
    "# 시작번호, 끝번호를 삭제하면\n",
    "x[:]"
   ]
  },
  {
   "cell_type": "code",
   "execution_count": 15,
   "id": "4908b65b",
   "metadata": {},
   "outputs": [
    {
     "data": {
      "text/plain": [
       "'built in'"
      ]
     },
     "execution_count": 15,
     "metadata": {},
     "output_type": "execute_result"
    }
   ],
   "source": [
    "# 슬라이싱도 인덱싱처럼 (-) 기호를 사용할 수 있음\n",
    "x[12:-7]"
   ]
  },
  {
   "cell_type": "markdown",
   "id": "cbd20add",
   "metadata": {},
   "source": []
  },
  {
   "cell_type": "markdown",
   "id": "9af8e89f",
   "metadata": {},
   "source": []
  },
  {
   "cell_type": "markdown",
   "id": "478c7bae",
   "metadata": {},
   "source": []
  },
  {
   "cell_type": "markdown",
   "id": "b9272d94",
   "metadata": {},
   "source": []
  },
  {
   "cell_type": "markdown",
   "id": "9980d0c3",
   "metadata": {},
   "source": []
  },
  {
   "cell_type": "markdown",
   "id": "8c43f970",
   "metadata": {},
   "source": []
  },
  {
   "cell_type": "markdown",
   "id": "63b377b8",
   "metadata": {},
   "source": []
  },
  {
   "cell_type": "code",
   "execution_count": null,
   "id": "b4903bfe",
   "metadata": {},
   "outputs": [],
   "source": []
  },
  {
   "cell_type": "code",
   "execution_count": null,
   "id": "c1cae3a1",
   "metadata": {},
   "outputs": [],
   "source": []
  },
  {
   "cell_type": "markdown",
   "id": "ec4869a8",
   "metadata": {},
   "source": []
  },
  {
   "cell_type": "code",
   "execution_count": null,
   "id": "937e44f8",
   "metadata": {},
   "outputs": [],
   "source": []
  },
  {
   "cell_type": "code",
   "execution_count": null,
   "id": "d3197e3c",
   "metadata": {},
   "outputs": [],
   "source": []
  },
  {
   "cell_type": "code",
   "execution_count": null,
   "id": "69a16991",
   "metadata": {},
   "outputs": [],
   "source": []
  },
  {
   "cell_type": "code",
   "execution_count": null,
   "id": "44a6837a",
   "metadata": {},
   "outputs": [],
   "source": []
  },
  {
   "cell_type": "code",
   "execution_count": null,
   "id": "0999f2fb",
   "metadata": {},
   "outputs": [],
   "source": []
  },
  {
   "cell_type": "code",
   "execution_count": null,
   "id": "6b123e9f",
   "metadata": {},
   "outputs": [],
   "source": []
  },
  {
   "cell_type": "code",
   "execution_count": null,
   "id": "16053591",
   "metadata": {},
   "outputs": [],
   "source": []
  },
  {
   "cell_type": "code",
   "execution_count": null,
   "id": "a71cb069",
   "metadata": {},
   "outputs": [],
   "source": []
  },
  {
   "cell_type": "code",
   "execution_count": null,
   "id": "62405a7d",
   "metadata": {},
   "outputs": [],
   "source": []
  },
  {
   "cell_type": "markdown",
   "id": "75b18e2c",
   "metadata": {},
   "source": []
  },
  {
   "cell_type": "markdown",
   "id": "87d27dc1",
   "metadata": {},
   "source": []
  },
  {
   "cell_type": "markdown",
   "id": "4b5d8213",
   "metadata": {},
   "source": []
  },
  {
   "cell_type": "code",
   "execution_count": null,
   "id": "9c00f2e2",
   "metadata": {},
   "outputs": [],
   "source": []
  },
  {
   "cell_type": "code",
   "execution_count": null,
   "id": "a5702947",
   "metadata": {},
   "outputs": [],
   "source": []
  },
  {
   "cell_type": "code",
   "execution_count": null,
   "id": "8a08e139",
   "metadata": {},
   "outputs": [],
   "source": []
  },
  {
   "cell_type": "markdown",
   "id": "e12b8eeb",
   "metadata": {},
   "source": []
  },
  {
   "cell_type": "markdown",
   "id": "49ba42f8",
   "metadata": {},
   "source": []
  },
  {
   "cell_type": "markdown",
   "id": "88428d07",
   "metadata": {},
   "source": []
  },
  {
   "cell_type": "markdown",
   "id": "c475bd80",
   "metadata": {},
   "source": []
  },
  {
   "cell_type": "code",
   "execution_count": null,
   "id": "d509ed60",
   "metadata": {},
   "outputs": [],
   "source": []
  },
  {
   "cell_type": "markdown",
   "id": "b196260a",
   "metadata": {},
   "source": []
  },
  {
   "cell_type": "code",
   "execution_count": null,
   "id": "45b03037",
   "metadata": {},
   "outputs": [],
   "source": []
  },
  {
   "cell_type": "code",
   "execution_count": null,
   "id": "72fc8d61",
   "metadata": {},
   "outputs": [],
   "source": []
  },
  {
   "cell_type": "code",
   "execution_count": null,
   "id": "63a85416",
   "metadata": {},
   "outputs": [],
   "source": []
  },
  {
   "cell_type": "code",
   "execution_count": null,
   "id": "3bf266ba",
   "metadata": {},
   "outputs": [],
   "source": []
  },
  {
   "cell_type": "code",
   "execution_count": null,
   "id": "0237b245",
   "metadata": {},
   "outputs": [],
   "source": []
  },
  {
   "cell_type": "code",
   "execution_count": null,
   "id": "e18148f4",
   "metadata": {},
   "outputs": [],
   "source": []
  },
  {
   "cell_type": "code",
   "execution_count": null,
   "id": "044fdd0d",
   "metadata": {},
   "outputs": [],
   "source": []
  },
  {
   "cell_type": "code",
   "execution_count": null,
   "id": "204af281",
   "metadata": {},
   "outputs": [],
   "source": []
  },
  {
   "cell_type": "code",
   "execution_count": null,
   "id": "d4f81893",
   "metadata": {},
   "outputs": [],
   "source": []
  },
  {
   "cell_type": "code",
   "execution_count": null,
   "id": "adb515ba",
   "metadata": {},
   "outputs": [],
   "source": []
  },
  {
   "cell_type": "code",
   "execution_count": null,
   "id": "c1a5b6e8",
   "metadata": {},
   "outputs": [],
   "source": []
  },
  {
   "cell_type": "code",
   "execution_count": null,
   "id": "09366fc8",
   "metadata": {},
   "outputs": [],
   "source": []
  }
 ],
 "metadata": {
  "kernelspec": {
   "display_name": "Python 3 (ipykernel)",
   "language": "python",
   "name": "python3"
  },
  "language_info": {
   "codemirror_mode": {
    "name": "ipython",
    "version": 3
   },
   "file_extension": ".py",
   "mimetype": "text/x-python",
   "name": "python",
   "nbconvert_exporter": "python",
   "pygments_lexer": "ipython3",
   "version": "3.9.12"
  }
 },
 "nbformat": 4,
 "nbformat_minor": 5
}
