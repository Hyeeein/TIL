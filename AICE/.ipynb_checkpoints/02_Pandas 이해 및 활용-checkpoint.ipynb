{
 "cells": [
  {
   "cell_type": "markdown",
   "id": "add0fc24",
   "metadata": {},
   "source": [
    "# Chapter 1. DataFrame 살펴보기 "
   ]
  },
  {
   "cell_type": "markdown",
   "id": "a49cc5b4",
   "metadata": {},
   "source": [
    "# __1. DataFrame이 뭔가요?__\n",
    "\n",
    ">  - DataFrame은 2차원(col과 row을 가짐)테이블 데이터 구조를 가지는 자료형\n",
    ">  - Data Analysis, Machine Learning에서 data 변형을 위해 가장 많이 사용\n",
    ">  - **주의** : Series나 DataFrame은 대소문자가 구분되므로 Series, DataFrame으로 사용"
   ]
  },
  {
   "cell_type": "code",
   "execution_count": 1,
   "id": "4d2c4167",
   "metadata": {},
   "outputs": [],
   "source": [
    "# pandas import\n",
    "import pandas as pd\n",
    "import numpy as np"
   ]
  },
  {
   "cell_type": "markdown",
   "id": "aa5cc1d0",
   "metadata": {},
   "source": [
    "### <b>1-1. DataFrame 만들어 보기</b>"
   ]
  },
  {
   "cell_type": "markdown",
   "id": "3bae82b7",
   "metadata": {},
   "source": [
    "> Dictionary 형으로 생성 "
   ]
  },
  {
   "cell_type": "code",
   "execution_count": 2,
   "id": "3bf4b753",
   "metadata": {},
   "outputs": [
    {
     "data": {
      "text/html": [
       "<div>\n",
       "<style scoped>\n",
       "    .dataframe tbody tr th:only-of-type {\n",
       "        vertical-align: middle;\n",
       "    }\n",
       "\n",
       "    .dataframe tbody tr th {\n",
       "        vertical-align: top;\n",
       "    }\n",
       "\n",
       "    .dataframe thead th {\n",
       "        text-align: right;\n",
       "    }\n",
       "</style>\n",
       "<table border=\"1\" class=\"dataframe\">\n",
       "  <thead>\n",
       "    <tr style=\"text-align: right;\">\n",
       "      <th></th>\n",
       "      <th>a</th>\n",
       "      <th>b</th>\n",
       "      <th>c</th>\n",
       "    </tr>\n",
       "  </thead>\n",
       "  <tbody>\n",
       "    <tr>\n",
       "      <th>0</th>\n",
       "      <td>1</td>\n",
       "      <td>4</td>\n",
       "      <td>7</td>\n",
       "    </tr>\n",
       "    <tr>\n",
       "      <th>1</th>\n",
       "      <td>2</td>\n",
       "      <td>5</td>\n",
       "      <td>8</td>\n",
       "    </tr>\n",
       "    <tr>\n",
       "      <th>2</th>\n",
       "      <td>3</td>\n",
       "      <td>6</td>\n",
       "      <td>9</td>\n",
       "    </tr>\n",
       "  </tbody>\n",
       "</table>\n",
       "</div>"
      ],
      "text/plain": [
       "   a  b  c\n",
       "0  1  4  7\n",
       "1  2  5  8\n",
       "2  3  6  9"
      ]
     },
     "execution_count": 2,
     "metadata": {},
     "output_type": "execute_result"
    }
   ],
   "source": [
    "a1 = pd.DataFrame({\"a\" : [1,2,3], \"b\" : [4,5,6], \"c\" : [7,8,9]})\n",
    "a1"
   ]
  },
  {
   "cell_type": "markdown",
   "id": "ac7f22f6",
   "metadata": {},
   "source": [
    ">  List 형태로 데이터 프레임 생성"
   ]
  },
  {
   "cell_type": "code",
   "execution_count": 3,
   "id": "fb4f5489",
   "metadata": {},
   "outputs": [
    {
     "data": {
      "text/html": [
       "<div>\n",
       "<style scoped>\n",
       "    .dataframe tbody tr th:only-of-type {\n",
       "        vertical-align: middle;\n",
       "    }\n",
       "\n",
       "    .dataframe tbody tr th {\n",
       "        vertical-align: top;\n",
       "    }\n",
       "\n",
       "    .dataframe thead th {\n",
       "        text-align: right;\n",
       "    }\n",
       "</style>\n",
       "<table border=\"1\" class=\"dataframe\">\n",
       "  <thead>\n",
       "    <tr style=\"text-align: right;\">\n",
       "      <th></th>\n",
       "      <th>0</th>\n",
       "      <th>1</th>\n",
       "      <th>2</th>\n",
       "    </tr>\n",
       "  </thead>\n",
       "  <tbody>\n",
       "    <tr>\n",
       "      <th>a</th>\n",
       "      <td>1</td>\n",
       "      <td>2</td>\n",
       "      <td>3</td>\n",
       "    </tr>\n",
       "    <tr>\n",
       "      <th>b</th>\n",
       "      <td>4</td>\n",
       "      <td>5</td>\n",
       "      <td>6</td>\n",
       "    </tr>\n",
       "    <tr>\n",
       "      <th>c</th>\n",
       "      <td>7</td>\n",
       "      <td>8</td>\n",
       "      <td>9</td>\n",
       "    </tr>\n",
       "  </tbody>\n",
       "</table>\n",
       "</div>"
      ],
      "text/plain": [
       "   0  1  2\n",
       "a  1  2  3\n",
       "b  4  5  6\n",
       "c  7  8  9"
      ]
     },
     "execution_count": 3,
     "metadata": {},
     "output_type": "execute_result"
    }
   ],
   "source": [
    "a2 = pd.DataFrame([[1,2,3], [4,5,6], [7,8,9]], [\"a\",\"b\",\"c\"])\n",
    "a2"
   ]
  },
  {
   "cell_type": "markdown",
   "id": "5d2f9239",
   "metadata": {},
   "source": [
    "### <b>1-2. 파일을 읽어서 DataFrame생성하기</b>\n",
    "> - pandas.read_csv 함수 사용\n",
    ">  - 대부분의 업무에서는 분석하고자 하는 Datat가 존재할 것\n",
    ">  - 이를 읽어 들이는 것부터 데이터 분석의 시작!\n",
    ">  - 이번 실습에서 읽을 파일 : sc_cust_info_txn_v1.5.csv"
   ]
  },
  {
   "cell_type": "code",
   "execution_count": null,
   "id": "841b5931",
   "metadata": {},
   "outputs": [],
   "source": [
    "# kt 데이터 파일을 활용\n",
    "# 파일을 수정하고 저장 자체를 MS Office에서 하여서 encoding을 cp949로 해주어야 함\n",
    "cust = pd.read_csv('./sc_cust_info_txn_v1.5.csv', encoding = \"cp949\")\n",
    "cust"
   ]
  },
  {
   "cell_type": "markdown",
   "id": "5b24dd28",
   "metadata": {},
   "source": [
    "- DataFrame 데이터 살펴보기\n",
    ">DataFrame의 구조 (인덱스와 컬럼)\n",
    " - 인덱스(Index) : 행의 레이블에 대한 정보를 보유하고 있음\n",
    " - 컬럼(Columns) : 열의 레이블에 대한 정보를 보유하고 있음\n",
    " - 인덱스와 컬럼 자체는 중복값일 수 없음"
   ]
  },
  {
   "cell_type": "markdown",
   "id": "81110a2c",
   "metadata": {},
   "source": [
    "### <b>1-3. 데이터 살펴보기</b>\n",
    "- head, tail 함수사용하기\n",
    "> - 데이터 전체가 아닌, 일부(처음부터, 혹은 마지막부터)를 간단히 보기 위한 함수 (default: 5줄)\n",
    " - **head, tail을 왜 사용할까?**\n",
    "   - 광대한 데이터를 다룰 수 있는 Pandas의 특성상 특정변수에 제대로 데이터가 들어갔는지 간략히 확인\n",
    "   - 데이터 자료형의 확인\n",
    "   - 각 레이블에 맞는 데이터 매칭 확인"
   ]
  },
  {
   "cell_type": "code",
   "execution_count": null,
   "id": "c234d9d9",
   "metadata": {},
   "outputs": [],
   "source": [
    "# 상위 3개\n",
    "cust.head(n=3)"
   ]
  },
  {
   "cell_type": "code",
   "execution_count": null,
   "id": "63e86f38",
   "metadata": {},
   "outputs": [],
   "source": [
    "#하위 10개 \n",
    "cust.tail(n=10)"
   ]
  },
  {
   "cell_type": "markdown",
   "id": "69bff251",
   "metadata": {},
   "source": [
    "- DataFrame 기본 함수로 살펴보기\n",
    "> - **shape :** 속성 반환값은 튜플로 존재하며 row과 col의 개수를 튜플로 반환함(row,col순)\n",
    "  - columns : 해당 DataFrame을 구성하는 컬럼명을 확인할 수 있음\n",
    "  - **info**  : 데이터 타입, 각 아이템의 개수 등 출력\n",
    "  - describe : 데이터 컬럼별 요약 통계량을 나타냄, 숫자형 데이터의 통계치 계산\n",
    "            (count:데이터의 갯수 / mean:평균값 / std:표준편차 / min:최소값 / 4분위 수 / max:최대값) \n",
    "  - dtypes : 데이터 형태의 종류(Data Types)"
   ]
  },
  {
   "cell_type": "code",
   "execution_count": null,
   "id": "2deec065",
   "metadata": {},
   "outputs": [],
   "source": [
    "# shape : 데이터를 파악하는데 중요함\n",
    "cust.shape"
   ]
  },
  {
   "cell_type": "code",
   "execution_count": null,
   "id": "4cd0a23a",
   "metadata": {},
   "outputs": [],
   "source": [
    "# DataFrame의 columns들을 보여줌\n",
    "cust.columns"
   ]
  },
  {
   "cell_type": "code",
   "execution_count": null,
   "id": "71a5bb5c",
   "metadata": {},
   "outputs": [],
   "source": [
    "# 데이터 타입 및 각 아이템등의 정보를 보여줌\n",
    "cust.info()"
   ]
  },
  {
   "cell_type": "code",
   "execution_count": null,
   "id": "ee621027",
   "metadata": {},
   "outputs": [],
   "source": [
    "# DataFrame의 기본적인 통계정보를 보여줌\n",
    "cust.describe()"
   ]
  },
  {
   "cell_type": "code",
   "execution_count": null,
   "id": "451ffc50",
   "metadata": {},
   "outputs": [],
   "source": [
    "# DataFrame의 데이터 종류\n",
    "cust.dtypes"
   ]
  },
  {
   "cell_type": "markdown",
   "id": "f67ddf1e",
   "metadata": {},
   "source": [
    "### <b>1-4. read_csv 함수 파라미터 살펴보기</b>\n",
    "> - 함수에 커서를 가져다 두고 shift+tab을 누르면 해당 함수의 parameter 볼 수 있음\n",
    "> - sep - 각 데이터 값을 구별하기 위한 구분자(separator) 설정 \n",
    "> - index_col : index로 사용할 column 설정\n",
    "> - usecols : 실제로 dataframe에 로딩할 columns만 설정\n",
    "> - usecols은 index_col을 포함하여야 함"
   ]
  },
  {
   "cell_type": "code",
   "execution_count": null,
   "id": "94086c8a",
   "metadata": {},
   "outputs": [],
   "source": [
    "cust2 = pd.read_csv('./sc_cust_info_txn_v1.5.csv', index_col='cust_class', usecols=['cust_class', 'r3m_avg_bill_amt', 'r3m_B_avg_arpu_amt', 'r6m_B_avg_arpu_amt'])\n",
    "cust2"
   ]
  },
  {
   "cell_type": "markdown",
   "id": "1fb9fdce",
   "metadata": {},
   "source": [
    "# __2. Data 조회하기__\n",
    "DataFrame에서 data를 __조회, 수정__해보고 이를 이해해본다. "
   ]
  },
  {
   "cell_type": "markdown",
   "id": "6c3ada92",
   "metadata": {},
   "source": [
    "### <b>1-1. 데이터 추출하기</b>"
   ]
  },
  {
   "cell_type": "markdown",
   "id": "7b4640d5",
   "metadata": {},
   "source": [
    "#### <b>1) column 선택하기</b>\n",
    "\n",
    "> - 기본적으로 [ ]는 column을 추출 : 특정한 col을기준으로 모델링을 하고자 하는 경우\n",
    "> - 컬럼 인덱스일 경우 인덱스의 리스트 사용 가능\n",
    ">   - 리스트를 전달할 경우 결과는 Dataframe\n",
    ">   - 하나의 컬럼명을 전달할 경우 결과는 Series"
   ]
  },
  {
   "cell_type": "markdown",
   "id": "1b537ca3",
   "metadata": {},
   "source": [
    "#### <b>2) 하나의 컬럼 선택하기</b>\n",
    "\n",
    "> - Series 형태로 가지고 올 수도, DataFrame형태로 가지고 올 수 있음"
   ]
  },
  {
   "cell_type": "code",
   "execution_count": null,
   "id": "2acf2020",
   "metadata": {},
   "outputs": [],
   "source": [
    "cust.cust_class = cust['cust_class']"
   ]
  },
  {
   "cell_type": "code",
   "execution_count": null,
   "id": "e89103cf",
   "metadata": {},
   "outputs": [],
   "source": [
    "cust.cust_class"
   ]
  },
  {
   "cell_type": "code",
   "execution_count": null,
   "id": "73283938",
   "metadata": {},
   "outputs": [],
   "source": [
    "# cf : series 형태로 가지고 오기(hcust.cust_class = cust['cust_class'])\n",
    "cust['cust_class']"
   ]
  },
  {
   "cell_type": "code",
   "execution_count": null,
   "id": "39f1a9b8",
   "metadata": {},
   "outputs": [],
   "source": [
    "# cf : Dataframe형태로 가지고 오기\n",
    "cust[['cust_class']]"
   ]
  },
  {
   "cell_type": "markdown",
   "id": "6d2f3bbb",
   "metadata": {},
   "source": [
    "#### <b>3) 복수의 컬럼 선택하기</b>"
   ]
  },
  {
   "cell_type": "code",
   "execution_count": null,
   "id": "e9c200fe",
   "metadata": {},
   "outputs": [],
   "source": [
    "# 'cust_class' , 'age' 'r3m_avg_bill_amt'등 3개의 col 선택하기\n",
    "cust[['cust_class', 'age', 'r3m_avg_bill_amt']]"
   ]
  },
  {
   "cell_type": "markdown",
   "id": "330e8138",
   "metadata": {},
   "source": [
    "#### <b>4) DataFrame slicing</b>\n",
    "\n",
    ">- 특정 **행 범위**를 가지고 오고 싶다면 [ ]를 사용\n",
    ">- DataFrame의 경우 기본적으로 [ ] 연산자가 **column 선택**에 사용되지만 **slicing은 row 레벨**로 지원"
   ]
  },
  {
   "cell_type": "code",
   "execution_count": null,
   "id": "dac3fe83",
   "metadata": {},
   "outputs": [],
   "source": [
    "# 7,8,9행을 가지고 옴 (인덱스 기준)\n",
    "cust[7:10]"
   ]
  },
  {
   "cell_type": "markdown",
   "id": "64e255a9",
   "metadata": {},
   "source": [
    "#### <b>5) row 선택하기</b>\n",
    "\n",
    " - DataFrame에서는 기본적으로 **[ ]을 사용하여 column을 선택**\n",
    " > __row 선택(두가지 방법이 존재)__\n",
    " > - **loc** : Dataframe에 존재하는 **인덱스를 그대로 사용** (인덱스 기준으로 행 데이터 읽기)\n",
    " > - **iloc** : Datafrmae에 존재하는 인덱스 상관없이 **0 based index로 사용** (행 번호 기준으로 행 데이터 읽기)\n",
    " > - 이 두 함수는 ,를 사용하여 column 선택도 가능\n"
   ]
  },
  {
   "cell_type": "code",
   "execution_count": null,
   "id": "5c54844c",
   "metadata": {},
   "outputs": [],
   "source": [
    "cust.info()"
   ]
  },
  {
   "cell_type": "code",
   "execution_count": null,
   "id": "1c637771",
   "metadata": {},
   "outputs": [],
   "source": [
    "# arange함수는 10부터 19에서 끝나도록 간격을 1로 반환한다.\n",
    "cp=np.arange(10,20)\n",
    "cp"
   ]
  },
  {
   "cell_type": "code",
   "execution_count": null,
   "id": "cf1bda11",
   "metadata": {},
   "outputs": [],
   "source": [
    "#index를 100부터 달아주기 \n",
    "cust.index = np.arange(100, 10030)\n",
    "cust"
   ]
  },
  {
   "cell_type": "code",
   "execution_count": null,
   "id": "8bd93d96",
   "metadata": {},
   "outputs": [],
   "source": [
    "cust.tail()"
   ]
  },
  {
   "cell_type": "code",
   "execution_count": null,
   "id": "2c13def0",
   "metadata": {},
   "outputs": [],
   "source": [
    "#한개의 row만 가지고 오기\n",
    "cust.loc[[289]]"
   ]
  },
  {
   "cell_type": "code",
   "execution_count": null,
   "id": "06709e44",
   "metadata": {},
   "outputs": [],
   "source": [
    "#여러개의 row 가지고 오기\n",
    "cust.loc[[102, 202, 302]]"
   ]
  },
  {
   "cell_type": "code",
   "execution_count": null,
   "id": "5b353409",
   "metadata": {},
   "outputs": [],
   "source": [
    "#iloc과비교(위와 같은 값을 가지고 오려면...)    (직접 타이핑 해보세요)\n",
    "cust.iloc[[2, 102, 202]]"
   ]
  },
  {
   "cell_type": "markdown",
   "id": "89791f8f",
   "metadata": {},
   "source": [
    "- row, column 동시에 선택하기\n",
    " > loc, iloc 속성을 이용할 때, 콤마를 이용하여 row와 col 다 명시 가능"
   ]
  },
  {
   "cell_type": "code",
   "execution_count": null,
   "id": "78aa1f2c",
   "metadata": {},
   "outputs": [],
   "source": [
    "# 100, 200, 300 대상으로 cust_class, sex_type, age, r3m_avg_bill_amt, r3m_A_avg_arpu_amt  col 가지고 오기(loc사용)\n",
    "cust.loc[[100, 200, 300], ['cust_class', 'sex_type', 'age', 'r3m_avg_bill_amt', 'r3m_A_avg_arpu_amt']]   # row, col"
   ]
  },
  {
   "cell_type": "code",
   "execution_count": null,
   "id": "44a17a39",
   "metadata": {},
   "outputs": [],
   "source": [
    "# 같은 형태로 iloc사용하기 (index를 level로 가지고 오기)\n",
    "# 100, 200, 300 대상으로 cust_class, sex_type, age, r3m_avg_bill_amt, r3m_A_avg_arpu_amt  col 가지고 오기(iloc사용)\n",
    "cust.iloc[[0, 100, 200], [3, 4, 5, 9, 10]]"
   ]
  },
  {
   "cell_type": "markdown",
   "id": "2d4f2804",
   "metadata": {},
   "source": [
    "#### __6) boolean selection 연산으로 row 선택하기 (= 컬럼 조건문으로 행 추출하기)__\n",
    "\n",
    " - 해당 조건에 맞는 row만 선택\n",
    " - 조건을 명시하고 조건을 명시한 형태로 inedxing 하여 가지고 옴"
   ]
  },
  {
   "cell_type": "markdown",
   "id": "da81d19d",
   "metadata": {},
   "source": [
    " - ex: 남자이면서 3개월 평균 청구 금액이 50000 이상이면서 100000 미만인 사람만 가지고오기 "
   ]
  },
  {
   "cell_type": "code",
   "execution_count": null,
   "id": "1ecaec5a",
   "metadata": {},
   "outputs": [],
   "source": [
    "#조건을 전부다  [ ]안에 넣어 주면 됨\n",
    "extract = cust[(cust['sex_type']=='M') & (cust['r3m_avg_bill_amt']>=50000) & (cust['r3m_avg_bill_amt']< 100000)]\n",
    "extract.head()"
   ]
  },
  {
   "cell_type": "code",
   "execution_count": null,
   "id": "e6226b9b",
   "metadata": {},
   "outputs": [],
   "source": [
    "# 조건문이 너무 길어지거나 복잡해지면...아래와 같은 방식으로 해도 무방함\n",
    "# 남자이면서 \n",
    "sex = cust['sex_type']=='M'\n",
    "# 3개월 평균 청구 금액이 50000 이상이면서 100000 미만\n",
    "bill = (cust['r3m_avg_bill_amt']>=50000) & (cust['r3m_avg_bill_amt']< 100000)\n",
    "\n",
    "cust[sex & bill].head()"
   ]
  },
  {
   "cell_type": "markdown",
   "id": "32b1b6c6",
   "metadata": {},
   "source": [
    "#### <b>7) 정리 </b>\n",
    "\n",
    "- 기본적인 대괄호는 col을 가지고 오는 경우 사용, 하지만 slicing은 row를 가지고 온다.\n",
    "- row를 가지고 오는 경우는 loc과 iloc을 사용하는데, loc과 iloc은 컬럼과 row를 동시에 가지고 올 수 있다."
   ]
  },
  {
   "cell_type": "code",
   "execution_count": 5,
   "id": "d955aa19",
   "metadata": {},
   "outputs": [],
   "source": [
    "import matplotlib.pyplot as plt      #matplotlib.pyplot import   "
   ]
  },
  {
   "cell_type": "markdown",
   "id": "79fd6fb0",
   "metadata": {},
   "source": [
    "### <b>1-2. 데이터 추가하기</b>"
   ]
  },
  {
   "cell_type": "markdown",
   "id": "03b042cc",
   "metadata": {},
   "source": [
    "#### <b>1) 새 column 추가하기</b>\n",
    "\n",
    ">- insert 함수 사용하여 원하는 위치에 추가하기"
   ]
  },
  {
   "cell_type": "code",
   "execution_count": null,
   "id": "68de1e4e",
   "metadata": {},
   "outputs": [],
   "source": [
    "# r3m_avg_bill_amt 두배로 새로운 col만들기\n",
    "cust['r3m_avg_bill_amt2'] = cust['r3m_avg_bill_amt'] * 2\n",
    "cust.head()"
   ]
  },
  {
   "cell_type": "code",
   "execution_count": null,
   "id": "e2f6ed00",
   "metadata": {},
   "outputs": [],
   "source": [
    "# 기존에 col을 연산하여 새로운 데이터 생성\n",
    "cust['r3m_avg_bill_amt3'] = cust['r3m_avg_bill_amt2'] + cust['r3m_avg_bill_amt']\n",
    "cust.head()"
   ]
  },
  {
   "cell_type": "code",
   "execution_count": null,
   "id": "7bfe62ab",
   "metadata": {},
   "outputs": [],
   "source": [
    "cust.drop('r3m_avg_bill_amt10', axis=1, inplace=True)"
   ]
  },
  {
   "cell_type": "code",
   "execution_count": null,
   "id": "a701e5b2",
   "metadata": {},
   "outputs": [],
   "source": [
    "# 새로은 col들은 항상맨뒤에 존재 원하는 위치에 col을 추가하고자 하는 경우\n",
    "# 위치를 조절 하고 싶다면(insert함수 사용)\n",
    "cust.insert(10, 'r3m_avg_bill_amt10', cust['r3m_avg_bill_amt'] *10)  # 0부터 시작하여 10번째 col에 insert\n",
    "cust.head()"
   ]
  },
  {
   "cell_type": "markdown",
   "id": "b677bae3",
   "metadata": {},
   "source": [
    "#### __2) column 삭제하기__\n",
    "\n",
    ">- drop 함수 사용하여 삭제\n",
    ">- axis는 삭제를 가로(행)기준으로 할 것인지, 세로(열)기준으로 할 것인지 명시하는 'drop()'메소드의 파라미터임 \n",
    ">- 리스트를 사용하면 멀티플 col 삭제 가능"
   ]
  },
  {
   "cell_type": "code",
   "execution_count": null,
   "id": "1f6b6827",
   "metadata": {},
   "outputs": [],
   "source": [
    "# axis : dataframe은 차원이 존재 함으로 항상 0과 1이 존재 \n",
    "# (0은 행레벨, 1을 열 레벨)\n",
    "cust.drop('r3m_avg_bill_amt10', axis=1)"
   ]
  },
  {
   "cell_type": "code",
   "execution_count": null,
   "id": "feb9d16e",
   "metadata": {},
   "outputs": [],
   "source": [
    "#원본 데이터를 열어 보면 원본 데이터는 안 지워진 상태\n",
    "cust.head()"
   ]
  },
  {
   "cell_type": "code",
   "execution_count": null,
   "id": "e13e5603",
   "metadata": {},
   "outputs": [],
   "source": [
    "# 원본 데이터를 지우고자 한다면... \n",
    "# 방법1 : 데이터를 지우고 다른 데이터 프레임에 저장\n",
    "cust1=cust.drop('r3m_avg_bill_amt10', axis=1)\n",
    "cust1.head()"
   ]
  },
  {
   "cell_type": "code",
   "execution_count": null,
   "id": "e6436274",
   "metadata": {},
   "outputs": [],
   "source": [
    "# 원본 자체를 지우고자 한다면...\n",
    "# 방법 2 : inplace 파라미터를 할용 True인 경우 원본데이터에 수행\n",
    "cust.drop('r3m_avg_bill_amt10', axis=1, inplace=True)"
   ]
  },
  {
   "cell_type": "code",
   "execution_count": null,
   "id": "67f9de02",
   "metadata": {},
   "outputs": [],
   "source": [
    "# 원본확인\n",
    "cust"
   ]
  },
  {
   "cell_type": "markdown",
   "id": "348a8bbd",
   "metadata": {},
   "source": [
    "# Chapter 2. DataFrame 변형하기"
   ]
  },
  {
   "cell_type": "markdown",
   "id": "cf945ce6",
   "metadata": {},
   "source": [
    "# __1. DataFrame group by 이해하기__"
   ]
  },
  {
   "cell_type": "markdown",
   "id": "8ec61137",
   "metadata": {},
   "source": [
    "### <b>1-1. 데이터 묶기</b>"
   ]
  },
  {
   "cell_type": "code",
   "execution_count": 6,
   "id": "8dba0260",
   "metadata": {},
   "outputs": [],
   "source": [
    "import pandas as pd\n",
    "import numpy as np"
   ]
  },
  {
   "cell_type": "markdown",
   "id": "3015321b",
   "metadata": {},
   "source": [
    "#### <b>1) 그룹화(groupby)</b>\n",
    "\n",
    "  + 같은 값을 하나로 묶어 통계 또는 집계 결과를얻기위해 사용하는 것\n",
    "  + 아래의 세 단계를 적용하여 데이터를 그룹화(groupping) / 특정한 col을 기준으로 데이터를 그룹핑 하여 통계에 활용하는 것\n",
    "    - 데이터 분할(split) : 어떠한 기준을 바탕으로 데이터를 나누는 일\n",
    "    - operation 적용(applying) : 각 그룹에 어떤 함수를 독립적으로 적용시키는 일\n",
    "    - 데이터 병합(cobine) : 적용되어 나온 결과들을 통합하는 일\n",
    "  + 데이터 분석에 있어 사용빈도가 높음\n",
    "  + groupby의 결과는 dictionary형태임\n"
   ]
  },
  {
   "cell_type": "markdown",
   "id": "9d1db6eb",
   "metadata": {},
   "source": [
    "![](https://t1.daumcdn.net/cfile/tistory/9978503F5B8264490F)"
   ]
  },
  {
   "cell_type": "code",
   "execution_count": null,
   "id": "bff91995",
   "metadata": {},
   "outputs": [],
   "source": [
    "cust = pd.read_csv('./sc_cust_info_txn_v1.5.csv', encoding = \"cp949\")\n",
    "cust"
   ]
  },
  {
   "cell_type": "code",
   "execution_count": null,
   "id": "b3a87611",
   "metadata": {},
   "outputs": [],
   "source": []
  },
  {
   "cell_type": "code",
   "execution_count": null,
   "id": "62253ece",
   "metadata": {},
   "outputs": [],
   "source": []
  },
  {
   "cell_type": "code",
   "execution_count": null,
   "id": "102b82aa",
   "metadata": {},
   "outputs": [],
   "source": []
  },
  {
   "cell_type": "code",
   "execution_count": null,
   "id": "b211a252",
   "metadata": {},
   "outputs": [],
   "source": []
  },
  {
   "cell_type": "code",
   "execution_count": null,
   "id": "e327ce43",
   "metadata": {},
   "outputs": [],
   "source": []
  },
  {
   "cell_type": "code",
   "execution_count": null,
   "id": "9391a58b",
   "metadata": {},
   "outputs": [],
   "source": []
  },
  {
   "cell_type": "code",
   "execution_count": null,
   "id": "3505d7ce",
   "metadata": {},
   "outputs": [],
   "source": []
  },
  {
   "cell_type": "code",
   "execution_count": null,
   "id": "98bb36d4",
   "metadata": {},
   "outputs": [],
   "source": []
  },
  {
   "cell_type": "code",
   "execution_count": null,
   "id": "b3fb13bb",
   "metadata": {},
   "outputs": [],
   "source": []
  },
  {
   "cell_type": "code",
   "execution_count": null,
   "id": "3ef93e84",
   "metadata": {},
   "outputs": [],
   "source": []
  },
  {
   "cell_type": "code",
   "execution_count": null,
   "id": "a8fb9d46",
   "metadata": {},
   "outputs": [],
   "source": []
  },
  {
   "cell_type": "code",
   "execution_count": null,
   "id": "2e3d5912",
   "metadata": {},
   "outputs": [],
   "source": []
  },
  {
   "cell_type": "code",
   "execution_count": null,
   "id": "90d1b291",
   "metadata": {},
   "outputs": [],
   "source": []
  },
  {
   "cell_type": "code",
   "execution_count": null,
   "id": "72975a84",
   "metadata": {},
   "outputs": [],
   "source": []
  },
  {
   "cell_type": "code",
   "execution_count": null,
   "id": "28af3f43",
   "metadata": {},
   "outputs": [],
   "source": []
  },
  {
   "cell_type": "code",
   "execution_count": null,
   "id": "f5f1699b",
   "metadata": {},
   "outputs": [],
   "source": []
  },
  {
   "cell_type": "code",
   "execution_count": null,
   "id": "af39b3ea",
   "metadata": {},
   "outputs": [],
   "source": []
  },
  {
   "cell_type": "code",
   "execution_count": null,
   "id": "e66f2a1f",
   "metadata": {},
   "outputs": [],
   "source": []
  },
  {
   "cell_type": "code",
   "execution_count": null,
   "id": "da062e2e",
   "metadata": {},
   "outputs": [],
   "source": []
  },
  {
   "cell_type": "code",
   "execution_count": null,
   "id": "61f8aa2a",
   "metadata": {},
   "outputs": [],
   "source": []
  },
  {
   "cell_type": "code",
   "execution_count": null,
   "id": "984e0982",
   "metadata": {},
   "outputs": [],
   "source": []
  }
 ],
 "metadata": {
  "kernelspec": {
   "display_name": "Python 3 (ipykernel)",
   "language": "python",
   "name": "python3"
  },
  "language_info": {
   "codemirror_mode": {
    "name": "ipython",
    "version": 3
   },
   "file_extension": ".py",
   "mimetype": "text/x-python",
   "name": "python",
   "nbconvert_exporter": "python",
   "pygments_lexer": "ipython3",
   "version": "3.9.12"
  }
 },
 "nbformat": 4,
 "nbformat_minor": 5
}
