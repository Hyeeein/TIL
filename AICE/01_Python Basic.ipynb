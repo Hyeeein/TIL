{
 "cells": [
  {
   "cell_type": "markdown",
   "id": "2c42f4e3",
   "metadata": {},
   "source": [
    "# __1. 인덱싱(Indexing)__\n",
    "\n",
    "  - 사전적으로는 무엇인가 \"가르킨다\"를 의미합니다. \n",
    "  - 즉, 인덱싱(Indexing)은 특정한 값을 뽑아내는 역할을 합니다.\n",
    "  - 예시) \n",
    "   x = Rome is not built in a day!\n"
   ]
  },
  {
   "attachments": {
    "image-2.png": {
     "image/png": "[encoded data removed]"
    }
   },
   "cell_type": "markdown",
   "id": "140567a4",
   "metadata": {},
   "source": [
    "![image-2.png](attachment:image-2.png)"
   ]
  },
  {
   "cell_type": "code",
   "execution_count": 6,
   "id": "50f9310e",
   "metadata": {},
   "outputs": [],
   "source": [
    "x = \"Rome is not built in a day!\""
   ]
  },
  {
   "cell_type": "code",
   "execution_count": 7,
   "id": "8dde8b9a",
   "metadata": {},
   "outputs": [
    {
     "data": {
      "text/plain": [
       "'R'"
      ]
     },
     "execution_count": 7,
     "metadata": {},
     "output_type": "execute_result"
    }
   ],
   "source": [
    "x[0]"
   ]
  },
  {
   "cell_type": "code",
   "execution_count": 8,
   "id": "52d745fb",
   "metadata": {},
   "outputs": [
    {
     "data": {
      "text/plain": [
       "'!'"
      ]
     },
     "execution_count": 8,
     "metadata": {},
     "output_type": "execute_result"
    }
   ],
   "source": [
    "x[-1]"
   ]
  },
  {
   "cell_type": "code",
   "execution_count": 9,
   "id": "3986b0f0",
   "metadata": {},
   "outputs": [
    {
     "data": {
      "text/plain": [
       "'y'"
      ]
     },
     "execution_count": 9,
     "metadata": {},
     "output_type": "execute_result"
    }
   ],
   "source": [
    "x[-2]"
   ]
  },
  {
   "cell_type": "code",
   "execution_count": 10,
   "id": "8402d1ac",
   "metadata": {},
   "outputs": [
    {
     "data": {
      "text/plain": [
       "'a'"
      ]
     },
     "execution_count": 10,
     "metadata": {},
     "output_type": "execute_result"
    }
   ],
   "source": [
    "x[-6]"
   ]
  },
  {
   "cell_type": "markdown",
   "id": "c2b38a36",
   "metadata": {},
   "source": [
    "# __2. 슬라이싱(Slicing)__\n",
    "\n",
    "  - 사전적으로는 무엇인가 \"잘라낸다\"를 의미합니다. \n",
    "  - 아래 예시에서 원하는 단어를 뽑아내고자 할때 슬라이싱을 사용할 수 있습니다. \n",
    "  - 예시) x = Rome is not built in a day!\n",
    "  - Sliicing의 형태 : x[시작번호 : 끝번호]"
   ]
  },
  {
   "attachments": {
    "image.png": {
     "image/png": "[encoded data removed]"
    }
   },
   "cell_type": "markdown",
   "id": "f9a825cd",
   "metadata": {},
   "source": [
    "![image.png](attachment:image.png)"
   ]
  },
  {
   "cell_type": "code",
   "execution_count": 11,
   "id": "5521e666",
   "metadata": {},
   "outputs": [
    {
     "data": {
      "text/plain": [
       "'Rome'"
      ]
     },
     "execution_count": 11,
     "metadata": {},
     "output_type": "execute_result"
    }
   ],
   "source": [
    "x[0:4]"
   ]
  },
  {
   "cell_type": "code",
   "execution_count": 12,
   "id": "ed1ab40f",
   "metadata": {},
   "outputs": [
    {
     "data": {
      "text/plain": [
       "'built in a day!'"
      ]
     },
     "execution_count": 12,
     "metadata": {},
     "output_type": "execute_result"
    }
   ],
   "source": [
    "# 끝 번호를 삭제하면\n",
    "x[12:]"
   ]
  },
  {
   "cell_type": "code",
   "execution_count": 13,
   "id": "1628bbbe",
   "metadata": {},
   "outputs": [
    {
     "data": {
      "text/plain": [
       "'Rome is'"
      ]
     },
     "execution_count": 13,
     "metadata": {},
     "output_type": "execute_result"
    }
   ],
   "source": [
    "# 시작번호를 삭제하면\n",
    "x[:7]"
   ]
  },
  {
   "cell_type": "code",
   "execution_count": 14,
   "id": "fc1c5d93",
   "metadata": {},
   "outputs": [
    {
     "data": {
      "text/plain": [
       "'Rome is not built in a day!'"
      ]
     },
     "execution_count": 14,
     "metadata": {},
     "output_type": "execute_result"
    }
   ],
   "source": [
    "# 시작번호, 끝번호를 삭제하면\n",
    "x[:]"
   ]
  },
  {
   "cell_type": "code",
   "execution_count": 15,
   "id": "21619dcf",
   "metadata": {},
   "outputs": [
    {
     "data": {
      "text/plain": [
       "'built in'"
      ]
     },
     "execution_count": 15,
     "metadata": {},
     "output_type": "execute_result"
    }
   ],
   "source": [
    "# 슬라이싱도 인덱싱처럼 (-) 기호를 사용할 수 있음\n",
    "x[12:-7]"
   ]
  },
  {
   "cell_type": "markdown",
   "id": "724ff298",
   "metadata": {},
   "source": [
    "# __3. Pandas 자료형__\n",
    "\n",
    "- 자료형 : 프로그래밍을 할 때 쓰이는 숫자, 문자열 등 자료 형태로 사용하는 모든 것\n",
    "- 자료형은 데이터를 이해하는데 가장 기본이자 중요한 요소입니다. \n",
    "\n",
    "### <b>3-1. 자료형의 종류</b>\n",
    " - string (문자열) : 문자, 단어 등으로 구성된 문자들의 집합\n",
    "    ex)  \"Hello World\" , \"123\" , \"a\"\n",
    " - integer : 숫자형 데이터 중 정수형\n",
    "    ex)  123, -234 \n",
    " - float : 소수점이 포함된 숫자\n",
    "    ex)  1.2, -2.34"
   ]
  },
  {
   "cell_type": "markdown",
   "id": "8cb78c22",
   "metadata": {},
   "source": [
    "### <b>3-2. 리스트 자료형</b>\n",
    "  - 순서대로 정리 된 항목들을 담는 구조(특정 데이터를 반복적으로 처리하는데 특화 되어 있음\n",
    "  - 리스트는 [ ]로 감싸고 각 요소는 ,로 구분한다."
   ]
  },
  {
   "cell_type": "markdown",
   "id": "ac23652e",
   "metadata": {},
   "source": [
    "#### <b>1) 리스트의 생성</b>\n",
    " - 리스트명 = [데이터, 데이터, 데이터]\n",
    " - 리스트명 = list(range(시작 값, 종료 값, 증가 or 감소)"
   ]
  },
  {
   "cell_type": "code",
   "execution_count": 16,
   "id": "eb561ecb",
   "metadata": {},
   "outputs": [
    {
     "data": {
      "text/plain": [
       "[1, 2, 3]"
      ]
     },
     "execution_count": 16,
     "metadata": {},
     "output_type": "execute_result"
    }
   ],
   "source": [
    "a = [1, 2, 3]\n",
    "a"
   ]
  },
  {
   "cell_type": "code",
   "execution_count": 17,
   "id": "02bd9909",
   "metadata": {},
   "outputs": [
    {
     "data": {
      "text/plain": [
       "[1, 3, 5, 7, 9]"
      ]
     },
     "execution_count": 17,
     "metadata": {},
     "output_type": "execute_result"
    }
   ],
   "source": [
    "b = list(range(1, 10, 2))\n",
    "b"
   ]
  },
  {
   "cell_type": "markdown",
   "id": "663c4c67",
   "metadata": {},
   "source": [
    "#### <b>2) 리스트 관련 함수</b>\n",
    "- 리스트.append(요소) : 리스트의 끝에 요소 추가\n",
    "- 리스트.insert(인덱스, 요소) : 리스트의 특정 인덱스에 요소 추가\n",
    "- 리스트1.extend(리스트2) : 리스트1에 리스트2를 연결해 확장\n",
    "- 리스트1 + 리스트2 : 리스트1과 리스트2를 서로 병합\n",
    "- 리스트.remove(요소) : 리스트의 특정 값의 요소를 삭제\n",
    "- 리스트.count('요소') : 리스트 중 특정 값을 가진 요소의 개수를 카운트\n",
    "- 리스트.sort() : 리스트 내 요소를 오름차순으로 정렬\n",
    "- 리스트.pop(인덱스) : 리스트 중 특정 인덱스의 요소를 삭제"
   ]
  },
  {
   "cell_type": "code",
   "execution_count": 18,
   "id": "d4382c78",
   "metadata": {},
   "outputs": [
    {
     "data": {
      "text/plain": [
       "['red', 'green', 'blue', 'yellow']"
      ]
     },
     "execution_count": 18,
     "metadata": {},
     "output_type": "execute_result"
    }
   ],
   "source": [
    "a = ['red', 'green', 'blue']\n",
    "a.append('yellow')\n",
    "a"
   ]
  },
  {
   "cell_type": "code",
   "execution_count": 19,
   "id": "b2dfc84a",
   "metadata": {},
   "outputs": [
    {
     "data": {
      "text/plain": [
       "['red', 'black', 'green', 'blue', 'yellow']"
      ]
     },
     "execution_count": 19,
     "metadata": {},
     "output_type": "execute_result"
    }
   ],
   "source": [
    "a.insert(1, 'black')\n",
    "a"
   ]
  },
  {
   "cell_type": "code",
   "execution_count": 20,
   "id": "79e7e5df",
   "metadata": {},
   "outputs": [
    {
     "data": {
      "text/plain": [
       "['red', 'black', 'green', 'blue', 'yellow', 'purple', 'white']"
      ]
     },
     "execution_count": 20,
     "metadata": {},
     "output_type": "execute_result"
    }
   ],
   "source": [
    "b = ['purple', 'white']\n",
    "a.extend(b)\n",
    "a"
   ]
  },
  {
   "cell_type": "code",
   "execution_count": 21,
   "id": "37be0bc6",
   "metadata": {},
   "outputs": [
    {
     "name": "stdout",
     "output_type": "stream",
     "text": [
      "['red', 'black', 'green', 'blue', 'yellow', 'purple', 'white', 'purple', 'white']\n"
     ]
    }
   ],
   "source": [
    "c = a+b\n",
    "print(c)"
   ]
  },
  {
   "cell_type": "code",
   "execution_count": 22,
   "id": "19e95d7e",
   "metadata": {},
   "outputs": [
    {
     "data": {
      "text/plain": [
       "[10, 20, 30, 40, 50, 60, 70, 80, 100]"
      ]
     },
     "execution_count": 22,
     "metadata": {},
     "output_type": "execute_result"
    }
   ],
   "source": [
    "d = [10, 20, 30, 40, 50, 60, 70, 80, 90, 100]\n",
    "d.remove(90)\n",
    "d"
   ]
  },
  {
   "cell_type": "code",
   "execution_count": 23,
   "id": "43e8ee8c",
   "metadata": {},
   "outputs": [
    {
     "data": {
      "text/plain": [
       "3"
      ]
     },
     "execution_count": 23,
     "metadata": {},
     "output_type": "execute_result"
    }
   ],
   "source": [
    "list1 = ['a', 'bb', 'c', 'd','aaa', 'c', 'ddd', 'aaa',  'b', 'cc', 'd', 'aaa', ]\n",
    "list1.count('aaa')"
   ]
  },
  {
   "cell_type": "code",
   "execution_count": 24,
   "id": "54071e00",
   "metadata": {},
   "outputs": [
    {
     "data": {
      "text/plain": [
       "[-7, 1, 3, 5, 8, 9, 11, 13]"
      ]
     },
     "execution_count": 24,
     "metadata": {},
     "output_type": "execute_result"
    }
   ],
   "source": [
    "list2 = [1, -7, 5, 8, 3, 9, 11, 13]\n",
    "list2.sort()\n",
    "list2"
   ]
  },
  {
   "cell_type": "code",
   "execution_count": 25,
   "id": "d6ce6fab",
   "metadata": {},
   "outputs": [
    {
     "data": {
      "text/plain": [
       "[13, 11, 9, 8, 5, 3, 1, -7]"
      ]
     },
     "execution_count": 25,
     "metadata": {},
     "output_type": "execute_result"
    }
   ],
   "source": [
    "list2.sort(reverse=True)\n",
    "list2"
   ]
  },
  {
   "cell_type": "code",
   "execution_count": 26,
   "id": "83ce2a1d",
   "metadata": {},
   "outputs": [
    {
     "data": {
      "text/plain": [
       "[20, 30, 40, 50, 60, 70, 80, 90, 100]"
      ]
     },
     "execution_count": 26,
     "metadata": {},
     "output_type": "execute_result"
    }
   ],
   "source": [
    "d = [10, 20, 30, 40, 50, 60, 70, 80, 90, 100]\n",
    "d.pop(0)\n",
    "d"
   ]
  },
  {
   "cell_type": "markdown",
   "id": "cc96c1a9",
   "metadata": {},
   "source": [
    "### <b>3-3. 튜플(Tuple)</b>\n",
    "- 리스트와 거의 유사하고 사용법도 동일함\n",
    "- 라스트는 [ ] 으로 둘러싸지만 튜플은 ( )으로 둘러싼다.\n",
    "- 튜플에서는 리스트와 달리 요소들의 수정과 추가 불가"
   ]
  },
  {
   "cell_type": "markdown",
   "id": "41e2a5e5",
   "metadata": {},
   "source": [
    "#### <b>1) 튜플 생성</b>\n",
    "- 튜플명 = ( 데이터, 데이터, 데이터, ... )\n",
    "- 튜플명 = 데이터, 데이터, 데이터, ..."
   ]
  },
  {
   "cell_type": "code",
   "execution_count": 27,
   "id": "be2fd760",
   "metadata": {},
   "outputs": [
    {
     "data": {
      "text/plain": [
       "('banana', ' apple', 'kiwi')"
      ]
     },
     "execution_count": 27,
     "metadata": {},
     "output_type": "execute_result"
    }
   ],
   "source": [
    "t1 = ('banana', ' apple', 'kiwi')\n",
    "t1"
   ]
  },
  {
   "cell_type": "code",
   "execution_count": 28,
   "id": "6245d858",
   "metadata": {},
   "outputs": [
    {
     "data": {
      "text/plain": [
       "('banana', 'apple', 'kiwi')"
      ]
     },
     "execution_count": 28,
     "metadata": {},
     "output_type": "execute_result"
    }
   ],
   "source": [
    "t2 = 'banana', 'apple', 'kiwi'\n",
    "t2"
   ]
  },
  {
   "cell_type": "code",
   "execution_count": 29,
   "id": "cf5882ea",
   "metadata": {},
   "outputs": [
    {
     "ename": "TypeError",
     "evalue": "'tuple' object does not support item assignment",
     "output_type": "error",
     "traceback": [
      "\u001b[1;31m---------------------------------------------------------------------------\u001b[0m",
      "\u001b[1;31mTypeError\u001b[0m                                 Traceback (most recent call last)",
      "Input \u001b[1;32mIn [29]\u001b[0m, in \u001b[0;36m<cell line: 2>\u001b[1;34m()\u001b[0m\n\u001b[0;32m      1\u001b[0m \u001b[38;5;66;03m# 튜플은 변환이 불가능 하기 때문에 에러 발생\u001b[39;00m\n\u001b[1;32m----> 2\u001b[0m t2[\u001b[38;5;241m0\u001b[39m] \u001b[38;5;241m=\u001b[39m \u001b[38;5;124m'\u001b[39m\u001b[38;5;124mwatermelon\u001b[39m\u001b[38;5;124m'\u001b[39m\n",
      "\u001b[1;31mTypeError\u001b[0m: 'tuple' object does not support item assignment"
     ]
    }
   ],
   "source": [
    "# 튜플은 변환이 불가능 하기 때문에 에러 발생\n",
    "t2[0] = 'watermelon'"
   ]
  },
  {
   "cell_type": "markdown",
   "id": "04837fe8",
   "metadata": {},
   "source": [
    "#### <b>2) 튜플의 장점</b>\n",
    "- 튜플은 반복 처리 시 리스트에 비해 근소하게나마 빠르다. (연산량이 많은 경우 약간의 성능 향상)\n",
    "- 튜플은 요소를 변경할 수 없는 특성으로 인해 딕셔너리의 키로 사용할 수 있다. (리스트는 사용 불가)\n",
    "- 튜플은 요소를 변경할 수 없기 때문에 보안을 요하는 데이터를 보호하는 장점을 가지게 된다."
   ]
  },
  {
   "cell_type": "markdown",
   "id": "cd8d9bdc",
   "metadata": {},
   "source": [
    "### <b>3-4. 딕셔너리(Dictionary)</b>\n",
    "- 사전이 단어와 뜻으로 구성되듯, 키(key)와 값(Value)의 쌍으로 갖는 자료형"
   ]
  },
  {
   "cell_type": "markdown",
   "id": "4ffdd6cf",
   "metadata": {},
   "source": [
    "#### <b>1) 딕셔너리 생성</b>\n",
    "- 딕셔너리명 = {key1:value1, key2:value2, key3:value3, ...}\n",
    "- 딕셔너리 key 값으로 튜플은 사용 가능 하지만 리스트는 사용불가 "
   ]
  },
  {
   "cell_type": "code",
   "execution_count": 30,
   "id": "01ae5d7e",
   "metadata": {},
   "outputs": [
    {
     "data": {
      "text/plain": [
       "{'name': '안지영', 'age': 30, 'email': 'jiyoung@korea.com'}"
      ]
     },
     "execution_count": 30,
     "metadata": {},
     "output_type": "execute_result"
    }
   ],
   "source": [
    "members = {'name':'안지영', 'age':30, 'email':'jiyoung@korea.com'}\n",
    "members"
   ]
  },
  {
   "cell_type": "markdown",
   "id": "a112984d",
   "metadata": {},
   "source": [
    "#### <b>2) 딕셔너리 관련 함수</b>\n",
    "  - keys : 딕셔너리에 key만 모아서 반환\n",
    "  - vlaues : 딕셔너리에 value만 모아서 반환\n",
    "  - items : key, value쌍을 튜플로 묶은 값을 반환\n",
    "  - clear : key,vallue 모두 지우기\n",
    "  - get : key로 value 얻기\n",
    "  - in : 해당 key가 딕셔너리 안에 있는지 조사하고자 하는 경우 사용"
   ]
  },
  {
   "cell_type": "code",
   "execution_count": 31,
   "id": "278e58d4",
   "metadata": {},
   "outputs": [
    {
     "data": {
      "text/plain": [
       "dict_keys(['name', 'age', 'email'])"
      ]
     },
     "execution_count": 31,
     "metadata": {},
     "output_type": "execute_result"
    }
   ],
   "source": [
    "members.keys()"
   ]
  },
  {
   "cell_type": "code",
   "execution_count": 32,
   "id": "866ac18d",
   "metadata": {},
   "outputs": [
    {
     "data": {
      "text/plain": [
       "dict_values(['안지영', 30, 'jiyoung@korea.com'])"
      ]
     },
     "execution_count": 32,
     "metadata": {},
     "output_type": "execute_result"
    }
   ],
   "source": [
    "members.values()"
   ]
  },
  {
   "cell_type": "code",
   "execution_count": 33,
   "id": "e40e45c7",
   "metadata": {},
   "outputs": [
    {
     "data": {
      "text/plain": [
       "dict_items([('name', '안지영'), ('age', 30), ('email', 'jiyoung@korea.com')])"
      ]
     },
     "execution_count": 33,
     "metadata": {},
     "output_type": "execute_result"
    }
   ],
   "source": [
    "members.items()"
   ]
  },
  {
   "cell_type": "code",
   "execution_count": 34,
   "id": "30a226e3",
   "metadata": {},
   "outputs": [
    {
     "data": {
      "text/plain": [
       "'안지영'"
      ]
     },
     "execution_count": 34,
     "metadata": {},
     "output_type": "execute_result"
    }
   ],
   "source": [
    "members.get('name')"
   ]
  },
  {
   "cell_type": "code",
   "execution_count": 35,
   "id": "eb511cd2",
   "metadata": {},
   "outputs": [
    {
     "data": {
      "text/plain": [
       "True"
      ]
     },
     "execution_count": 35,
     "metadata": {},
     "output_type": "execute_result"
    }
   ],
   "source": [
    "'name' in members"
   ]
  },
  {
   "cell_type": "code",
   "execution_count": 36,
   "id": "6a6a51be",
   "metadata": {},
   "outputs": [
    {
     "data": {
      "text/plain": [
       "False"
      ]
     },
     "execution_count": 36,
     "metadata": {},
     "output_type": "execute_result"
    }
   ],
   "source": [
    "'birth' in members"
   ]
  },
  {
   "cell_type": "code",
   "execution_count": 37,
   "id": "21308ade",
   "metadata": {},
   "outputs": [
    {
     "data": {
      "text/plain": [
       "{}"
      ]
     },
     "execution_count": 37,
     "metadata": {},
     "output_type": "execute_result"
    }
   ],
   "source": [
    "members.clear()\n",
    "members"
   ]
  },
  {
   "cell_type": "markdown",
   "id": "39eda457",
   "metadata": {},
   "source": [
    "### <b>3-5. List, Tuple, Dictionary차이</b>\n",
    "\n",
    "| 구분 | 설명 |\n",
    "|------|---|\n",
    "|리스트(List) |순서대로 정리된 항목들을 담는 자료구조|\n",
    "|튜플(Tuple)|리스트와 비슷하지만 수정이 불가능하여 비정적인 객체를 담는데 사용|\n",
    "|딕셔너리(Dictionary)|key와 value로 구성되는 자료구조|"
   ]
  }
 ],
 "metadata": {
  "kernelspec": {
   "display_name": "Python 3 (ipykernel)",
   "language": "python",
   "name": "python3"
  },
  "language_info": {
   "codemirror_mode": {
    "name": "ipython",
    "version": 3
   },
   "file_extension": ".py",
   "mimetype": "text/x-python",
   "name": "python",
   "nbconvert_exporter": "python",
   "pygments_lexer": "ipython3",
   "version": "3.9.12"
  }
 },
 "nbformat": 4,
 "nbformat_minor": 5
}
